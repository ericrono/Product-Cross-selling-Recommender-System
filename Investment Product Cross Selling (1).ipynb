{
 "cells": [
  {
   "cell_type": "markdown",
   "metadata": {},
   "source": [
    "# Product Cross Selling Recommender System\n",
    "\n",
    "**Business Problem Statement:**\n",
    "\n",
    "Our financial services company has a diverse portfolio of investment products, yet the vast majority (99%) of our existing customers hold only one product—the Money Market Fund. Despite a broad array of offerings (Balanced Fund, Dollar Fund, Equity Fund, Fixed Income Fund, and Wealth Fund), our product penetration per customer (PPC) remains exceptionally low. This indicates a significant opportunity to cross-sell additional products to our existing customer base, which would increase customer value, loyalty, and the company’s overall profitability.\n",
    "\n",
    "Currently, our customers’ data includes key information that could be leveraged to tailor product recommendations. These data points include:\n",
    "- **Location (town)**\n",
    "- **Gender**\n",
    "- **Customer-relationship or beneficiary information** (as customers may have more than one relationship or beneficiary associated with them)\n",
    "- **Customer age and DOB**\n",
    "- **Beneficiary age and DOB**\n",
    "\n",
    "Our goal is to create a user-friendly, intelligent recommender system that can analyze this existing data to suggest additional, relevant financial products to each customer. This system should be able to identify patterns or trends in customer profiles, uncover customer needs, and map those needs to suitable financial products, increasing our PPC in an efficient, cost-effective manner. \n",
    "\n",
    "**Objectives:**\n",
    "1. **Customer Retention and Loyalty**: By offering personalized recommendations, we aim to build deeper, more personalized relationships with our customers, making them more likely to stay with us long-term.\n",
    "2. **Increased Revenue per Customer**: A successful cross-selling strategy would increase the average number of products per customer, boosting overall portfolio revenue.\n",
    "3. **User-Friendly Experience**: Ensuring a straightforward, accessible interface for customers to explore new financial products, particularly given that our target customers may have limited experience with financial diversification.\n",
    "\n",
    "**Project Success Criteria:**\n",
    "1. Develop a model that accurately predicts the next likely product(s) for each customer based on their profile and behavior.\n",
    "2. Achieve a measurable increase in the PPC rate by the end of the initial deployment phase.\n",
    "3. Design an intuitive interface that enhances the customer journey, with minimal friction, to encourage engagement and adoption."
   ]
  },
  {
   "cell_type": "markdown",
   "metadata": {},
   "source": [
    "## DATA CLEANING AND PREPARATION"
   ]
  },
  {
   "cell_type": "code",
   "execution_count": 1,
   "metadata": {},
   "outputs": [],
   "source": [
    "#importing the necessary libraries\n",
    "import pandas as pd\n",
    "import numpy as np\n",
    "import matplotlib.pyplot as plt\n",
    "import seaborn as sns\n",
    "import nbformat\n",
    "import pickle\n",
    "\n",
    "from sklearn.metrics.pairwise import cosine_similarity\n",
    "from scipy.spatial.distance import cosine\n",
    "from sklearn.feature_extraction.text import TfidfVectorizer\n",
    "from sklearn.model_selection import train_test_split\n",
    "from datetime import datetime\n",
    "from sklearn.neighbors import NearestNeighbors\n",
    "from sklearn.metrics import accuracy_score\n"
   ]
  },
  {
   "cell_type": "code",
   "execution_count": 2,
   "metadata": {},
   "outputs": [
    {
     "data": {
      "text/html": [
       "<div>\n",
       "<style scoped>\n",
       "    .dataframe tbody tr th:only-of-type {\n",
       "        vertical-align: middle;\n",
       "    }\n",
       "\n",
       "    .dataframe tbody tr th {\n",
       "        vertical-align: top;\n",
       "    }\n",
       "\n",
       "    .dataframe thead th {\n",
       "        text-align: right;\n",
       "    }\n",
       "</style>\n",
       "<table border=\"1\" class=\"dataframe\">\n",
       "  <thead>\n",
       "    <tr style=\"text-align: right;\">\n",
       "      <th></th>\n",
       "      <th>member_no</th>\n",
       "      <th>reg_date</th>\n",
       "      <th>dob</th>\n",
       "      <th>hse_no</th>\n",
       "      <th>gender</th>\n",
       "      <th>town</th>\n",
       "      <th>relationship</th>\n",
       "      <th>beneficiery_dob</th>\n",
       "      <th>portfolio</th>\n",
       "    </tr>\n",
       "  </thead>\n",
       "  <tbody>\n",
       "    <tr>\n",
       "      <th>0</th>\n",
       "      <td>99996</td>\n",
       "      <td>2023-10-01 00:00:00.000</td>\n",
       "      <td>1998-04-06 00:00:00</td>\n",
       "      <td>Single Member</td>\n",
       "      <td>Female</td>\n",
       "      <td>NAIROBI</td>\n",
       "      <td>Partner</td>\n",
       "      <td>1998-01-26</td>\n",
       "      <td>Money Market</td>\n",
       "    </tr>\n",
       "    <tr>\n",
       "      <th>1</th>\n",
       "      <td>99996</td>\n",
       "      <td>2023-10-01 00:00:00.000</td>\n",
       "      <td>1998-04-06 00:00:00</td>\n",
       "      <td>Single Member</td>\n",
       "      <td>Female</td>\n",
       "      <td>NAIROBI</td>\n",
       "      <td>Partner</td>\n",
       "      <td>1998-01-26</td>\n",
       "      <td>Money Market</td>\n",
       "    </tr>\n",
       "    <tr>\n",
       "      <th>2</th>\n",
       "      <td>99996</td>\n",
       "      <td>2023-10-01 00:00:00.000</td>\n",
       "      <td>1998-04-06 00:00:00</td>\n",
       "      <td>Single Member</td>\n",
       "      <td>Female</td>\n",
       "      <td>NAIROBI</td>\n",
       "      <td>Partner</td>\n",
       "      <td>1998-01-26</td>\n",
       "      <td>Money Market</td>\n",
       "    </tr>\n",
       "    <tr>\n",
       "      <th>3</th>\n",
       "      <td>99996</td>\n",
       "      <td>2023-10-01 00:00:00.000</td>\n",
       "      <td>1998-04-06 00:00:00</td>\n",
       "      <td>Single Member</td>\n",
       "      <td>Female</td>\n",
       "      <td>NAIROBI</td>\n",
       "      <td>Partner</td>\n",
       "      <td>1998-01-26</td>\n",
       "      <td>Money Market</td>\n",
       "    </tr>\n",
       "    <tr>\n",
       "      <th>4</th>\n",
       "      <td>99996</td>\n",
       "      <td>2023-10-01 00:00:00.000</td>\n",
       "      <td>1998-04-06 00:00:00</td>\n",
       "      <td>Single Member</td>\n",
       "      <td>Female</td>\n",
       "      <td>NAIROBI</td>\n",
       "      <td>Partner</td>\n",
       "      <td>1998-01-26</td>\n",
       "      <td>Money Market</td>\n",
       "    </tr>\n",
       "    <tr>\n",
       "      <th>...</th>\n",
       "      <td>...</td>\n",
       "      <td>...</td>\n",
       "      <td>...</td>\n",
       "      <td>...</td>\n",
       "      <td>...</td>\n",
       "      <td>...</td>\n",
       "      <td>...</td>\n",
       "      <td>...</td>\n",
       "      <td>...</td>\n",
       "    </tr>\n",
       "    <tr>\n",
       "      <th>7532949</th>\n",
       "      <td>2</td>\n",
       "      <td>2011-06-07</td>\n",
       "      <td>1965-05-06</td>\n",
       "      <td>Single Member</td>\n",
       "      <td>Male</td>\n",
       "      <td>NAIROBI</td>\n",
       "      <td>NaN</td>\n",
       "      <td>NaN</td>\n",
       "      <td>Money Market</td>\n",
       "    </tr>\n",
       "    <tr>\n",
       "      <th>7532950</th>\n",
       "      <td>2</td>\n",
       "      <td>2011-06-07</td>\n",
       "      <td>1965-05-06</td>\n",
       "      <td>Single Member</td>\n",
       "      <td>Male</td>\n",
       "      <td>NAIROBI</td>\n",
       "      <td>NaN</td>\n",
       "      <td>NaN</td>\n",
       "      <td>Money Market</td>\n",
       "    </tr>\n",
       "    <tr>\n",
       "      <th>7532951</th>\n",
       "      <td>2</td>\n",
       "      <td>2011-06-07</td>\n",
       "      <td>1965-05-06</td>\n",
       "      <td>Single Member</td>\n",
       "      <td>Male</td>\n",
       "      <td>NAIROBI</td>\n",
       "      <td>NaN</td>\n",
       "      <td>NaN</td>\n",
       "      <td>Money Market</td>\n",
       "    </tr>\n",
       "    <tr>\n",
       "      <th>7532952</th>\n",
       "      <td>2</td>\n",
       "      <td>2011-06-07</td>\n",
       "      <td>1965-05-06</td>\n",
       "      <td>Single Member</td>\n",
       "      <td>Male</td>\n",
       "      <td>NAIROBI</td>\n",
       "      <td>NaN</td>\n",
       "      <td>NaN</td>\n",
       "      <td>Balanced Fund</td>\n",
       "    </tr>\n",
       "    <tr>\n",
       "      <th>7532953</th>\n",
       "      <td>2</td>\n",
       "      <td>2011-06-07</td>\n",
       "      <td>1965-05-06</td>\n",
       "      <td>Single Member</td>\n",
       "      <td>Male</td>\n",
       "      <td>NAIROBI</td>\n",
       "      <td>NaN</td>\n",
       "      <td>NaN</td>\n",
       "      <td>Money Market</td>\n",
       "    </tr>\n",
       "  </tbody>\n",
       "</table>\n",
       "<p>7532954 rows × 9 columns</p>\n",
       "</div>"
      ],
      "text/plain": [
       "         member_no                 reg_date                  dob  \\\n",
       "0            99996  2023-10-01 00:00:00.000  1998-04-06 00:00:00   \n",
       "1            99996  2023-10-01 00:00:00.000  1998-04-06 00:00:00   \n",
       "2            99996  2023-10-01 00:00:00.000  1998-04-06 00:00:00   \n",
       "3            99996  2023-10-01 00:00:00.000  1998-04-06 00:00:00   \n",
       "4            99996  2023-10-01 00:00:00.000  1998-04-06 00:00:00   \n",
       "...            ...                      ...                  ...   \n",
       "7532949          2               2011-06-07           1965-05-06   \n",
       "7532950          2               2011-06-07           1965-05-06   \n",
       "7532951          2               2011-06-07           1965-05-06   \n",
       "7532952          2               2011-06-07           1965-05-06   \n",
       "7532953          2               2011-06-07           1965-05-06   \n",
       "\n",
       "                hse_no  gender     town relationship beneficiery_dob  \\\n",
       "0        Single Member  Female  NAIROBI      Partner      1998-01-26   \n",
       "1        Single Member  Female  NAIROBI      Partner      1998-01-26   \n",
       "2        Single Member  Female  NAIROBI      Partner      1998-01-26   \n",
       "3        Single Member  Female  NAIROBI      Partner      1998-01-26   \n",
       "4        Single Member  Female  NAIROBI      Partner      1998-01-26   \n",
       "...                ...     ...      ...          ...             ...   \n",
       "7532949  Single Member    Male  NAIROBI          NaN             NaN   \n",
       "7532950  Single Member    Male  NAIROBI          NaN             NaN   \n",
       "7532951  Single Member    Male  NAIROBI          NaN             NaN   \n",
       "7532952  Single Member    Male  NAIROBI          NaN             NaN   \n",
       "7532953  Single Member    Male  NAIROBI          NaN             NaN   \n",
       "\n",
       "             portfolio  \n",
       "0         Money Market  \n",
       "1         Money Market  \n",
       "2         Money Market  \n",
       "3         Money Market  \n",
       "4         Money Market  \n",
       "...                ...  \n",
       "7532949   Money Market  \n",
       "7532950   Money Market  \n",
       "7532951   Money Market  \n",
       "7532952  Balanced Fund  \n",
       "7532953   Money Market  \n",
       "\n",
       "[7532954 rows x 9 columns]"
      ]
     },
     "execution_count": 2,
     "metadata": {},
     "output_type": "execute_result"
    }
   ],
   "source": [
    "#load the dataset\n",
    "df = pd.read_csv(r\"single_member.csv\")\n",
    "df"
   ]
  },
  {
   "cell_type": "code",
   "execution_count": 3,
   "metadata": {},
   "outputs": [
    {
     "data": {
      "text/plain": [
       "Index(['member_no', 'reg_date', 'dob', 'hse_no', 'gender', 'town',\n",
       "       'relationship', 'beneficiery_dob', 'portfolio'],\n",
       "      dtype='object')"
      ]
     },
     "execution_count": 3,
     "metadata": {},
     "output_type": "execute_result"
    }
   ],
   "source": [
    "#inspecting the columns in the dataframe\n",
    "df.columns"
   ]
  },
  {
   "cell_type": "code",
   "execution_count": 4,
   "metadata": {},
   "outputs": [
    {
     "data": {
      "text/plain": [
       "array([99996, 99994, 99993, ...,    19,     3,     2], dtype=int64)"
      ]
     },
     "execution_count": 4,
     "metadata": {},
     "output_type": "execute_result"
    }
   ],
   "source": [
    "#checking the unique values from the member_no column\n",
    "df['member_no'].unique()"
   ]
  },
  {
   "cell_type": "code",
   "execution_count": 5,
   "metadata": {},
   "outputs": [
    {
     "data": {
      "text/plain": [
       "array(['Female', 'Male', 'FEMALE', nan, 'MALE', 'F', 'M'], dtype=object)"
      ]
     },
     "execution_count": 5,
     "metadata": {},
     "output_type": "execute_result"
    }
   ],
   "source": [
    "#checking the unique values from the gender column\n",
    "df['gender'].unique()"
   ]
  },
  {
   "cell_type": "code",
   "execution_count": 6,
   "metadata": {},
   "outputs": [
    {
     "data": {
      "text/plain": [
       "array(['NAIROBI', nan, 'NAIROBI ', 'THIKA', 'NAKURU', 'MOMBASA ',\n",
       "       'NDANAI ', 'KISUMU', 'KIKUYU', 'JUJA', 'MACHAKOS', 'MERU',\n",
       "       'KERICHO', 'MUKURWEINI', 'KATANGI', 'THIKA,KIAMBU', 'NANYUKI',\n",
       "       'RUAI ', 'MALINDI', 'NYAHURURU', 'MUMIAS', 'KAKAMEGA', 'LODWAR',\n",
       "       'Nairobi ', 'KITENGELA', 'LIMURU', 'THIKA ', 'MIGORI', 'ELDORET',\n",
       "       'KITUI', 'RUARAKA', 'Ruiru', 'NJORO', 'EMBU', 'SORI', 'NGONG',\n",
       "       'MASENO', 'GATUNDU', 'KAHURO', 'KILIFI', 'RUIRU', 'KERUGOYA',\n",
       "       'KARATINA', 'KITALE ', 'MOMBASA', 'BUNGOMA', 'KISII', '-',\n",
       "       'Nairobi', 'KINAMBA', 'SIAYA', 'KERICHO ', 'KIAMBU', 'KITALE',\n",
       "       'BUSIA', 'RUNYENJES', 'VILLAGE MARKET', 'Kapsabet', 'KAGWE',\n",
       "       'NANDI HILLS', 'KUTUS', 'DAGORETTI', 'LITEIN', 'KAJIADO', 'CHUKA',\n",
       "       'NYERI', 'NAIROBI, NAIROBI', 'Kisumu ', 'KANJUKU', 'EMALI',\n",
       "       'GILGIL', 'Kiambu ', 'KANGEMA', 'TIRIKI', 'KARATINA ', 'OTHAYA',\n",
       "       'KARURI ,KIAMBU', 'MURANGA ', 'Mombasa', 'GATUKUYU ', 'MLOLONGO',\n",
       "       'UTAWALA ', 'KAPENGURIA', 'KAPSABET', 'SUNA', 'BOMET', 'KENOL ',\n",
       "       'NYERI ', 'BUNGOMA ', 'NDANAI', 'KALIMONI', 'KIGANJO',\n",
       "       'KAPSOKWONY', 'Nakuru', 'KIAMBU ', 'nairobi', 'CHOGORIA',\n",
       "       'GITHUNGURI', 'YOANI,SALAMA', 'LIMURU ', 'NAIROBI, KENYA.',\n",
       "       'UKUNDA', 'MATUU', 'embu', 'NYALI', 'nakuru', 'MBALE', 'EMUHAYA',\n",
       "       'TELFORD', 'NAIVASHA', 'KAREN', 'KILIFI ', 'HOLA', 'MAKINDU',\n",
       "       'WOTE', 'DIANI', 'O', 'OLKALAU', 'KAREN ', 'UPLANDS', 'WANGÚRU',\n",
       "       'KABIYET', 'KAKAMEGA ', 'SOTIK', 'NGONG ', 'CITY SQUARE', 'NKUBU',\n",
       "       'KANGARI', 'NGONG HILLS ', 'NYAHURURU ', 'KARURI ', 'UTHIRU',\n",
       "       'MARIMANTI', 'MANCHESTER', 'Kikuyu', '.', 'NAIRO ', 'kiambu',\n",
       "       'VOI', 'EMBAKASI', 'MOLO', 'Siaya ', 'NGIYA', 'OLKALOU',\n",
       "       'KANYAGIA', 'WANJOHI', 'kabete', 'Wamunyu', 'MARIAKANI',\n",
       "       'KISERIAN', 'ARTHI RIVER ', 'SUBUKIA', 'KILGORIS', 'KIMININI',\n",
       "       'LAGOS', 'SARE', 'ATHI RIVER', 'ngong hills ', 'WERUGHA',\n",
       "       'NAIROBIP', 'MASINFA', 'kikuyu', 'OL JORO OROK', 'MAUA',\n",
       "       'GIKUE MURANGA', 'KIMENDE', 'KIMILILI', 'KISUMU ', 'VIHIGA',\n",
       "       ' NAIROBI ', 'BURUBURU', 'MATATHIA', 'RUAKA', 'UGUNJA', 'LONGISA',\n",
       "       'ELDORATE ', 'KAPKATET', 'WINNIPEG', 'PIPELINE ', 'KAHAWA WEST ',\n",
       "       'KANDARA', 'Kimilili ', 'MTWAPA ', 'MARAGUA', 'BANANA ', 'NYAMIRA',\n",
       "       'AUBURN', 'KARURI', 'MTWAPA', 'ONGATA RONGAI', 'ELDORET ',\n",
       "       'HOMABAY', 'WANGIGE', 'KENDUBAY', 'KIBWEZI', 'RONGAI', 'RUIRU ',\n",
       "       'NORTH KINANGOP', 'MAKUYU', 'Nyeri ', 'Eldoret ', 'BOUTIGNY',\n",
       "       '00506', 'MWINGI', '00100', 'KERUGOYA ', 'TALA', 'OLENGURUONE',\n",
       "       'MAVINDINI', 'UHURU GARDENS', 'KIKUYU ', 'Ongata Rongai',\n",
       "       'SOUTH KINANGOP', 'ELDAMA RAVINE', 'MITUNGURU', 'TOM MBOYA',\n",
       "       'NAKURU ', 'MITABONI', 'NAROMORU', 'MURANGA', 'OLJOROROK',\n",
       "       'BUTERE', 'OYUGIS', 'SILIBWET', 'EMBU ', 'Doha', 'Eldoret',\n",
       "       'KANGEMI', 'NYERI-KIGUMO', 'KISERIAN ', 'Athi River', 'KENOL',\n",
       "       'OL KALOU', 'WESTLANDS', 'Nyahururu ', 'ENDARASHA ', 'GPO/NAIROBI',\n",
       "       'DAGORETI', 'OGEMBO ', 'mombasa', 'RUAI', 'DONYO SABUK', 'KEROKA',\n",
       "       'LOWER KABETE', 'MWEIGA', 'Naitobi', 'TOKYO', 'Embu', 'KIRINYAGA',\n",
       "       'KIANYAGA', 'SIAYA ', 'ADLISWIL', 'BURU BURU', 'MERU ', 'NYAKIO',\n",
       "       'KWALE', 'AMUKURA', 'NAROK', 'KOBUJOI', \"WANG'URU\", 'BONDO',\n",
       "       'Kericho', 'KIKIMA ', 'CHANGAMWE', 'BUTULA', 'NAIROBI KAYOLE',\n",
       "       'KANGUNDO', 'MARIAKANI ', 'TIMBOROA', 'KIANJAI', 'KALOLENI ',\n",
       "       'ISINYA', 'IOWA CITY, IOWA', 'Garsen ', 'MUKURWE-INI',\n",
       "       'NAIROBI GPO', 'MANYATTA', 'SARE-OWENDO', 'NANYUKI ', 'NDHIWA',\n",
       "       'ELBURGON', 'Orange', 'MAKUENI', 'kisumu ', 'MACHAKOS ',\n",
       "       'KABARNET ', \"Murang'a \", 'JUJA, KIAMBU', 'Bungoma', 'MAWEGO',\n",
       "       'Bath', 'ROYSAMBU', 'Nanyuki', 'SAGANA', 'MACH ', 'Nyeri', 'Ruaka',\n",
       "       'KITUI ', 'KAJIADO ', 'NUNGUNI', 'RONGAI ', 'KISII ', 'WANGIGE ',\n",
       "       'Makongeni Jogoo Rd', 'nairobi ', 'Kikuyu ', 'Kisii', 'MSAMBWENI',\n",
       "       'BUJUMBURA', 'GITHONGO', 'KEROKA/KISII', 'BURUBURU, NAIROBI',\n",
       "       'MALAVA', 'KIJABE', 'Woolwich ', 'NDERE-SIAYA', 'AHERO',\n",
       "       'MUHORONI ', 'Nakuru ', 'kahuro', 'Malakisi ', 'MUHORONI',\n",
       "       'ISIOLO', 'SYOKIMAU ', 'ONGATA RONGAI ', 'Maralal ',\n",
       "       'KIBIRICHIA, MERU', 'GRANGER, INDIANA', 'WESTLAND ', 'MUKURWEINI ',\n",
       "       'MASII', 'NRB', 'KWISERO', 'ANKARA', 'SHIMBA HILLS', 'TAVETA',\n",
       "       'WOTE, MAKUENI ', 'WANGURU', 'KISSII', 'BURUBURU NAIROBI ',\n",
       "       'KIRITIRI', 'MESA ARIZONA', 'KAJIADO TOWN', 'KURIA',\n",
       "       'NAIROBI WEST', 'ENDARASHA', 'KIPKAREN ', '0', 'GAMBOGI', 'KOLA',\n",
       "       'Marsabit', 'WEBUYE', 'GAKUNGU', 'NAIROBJ',\n",
       "       'NAIROBI ,KAMITI ROAD RICHLAND', 'NKUBU ', 'MWATATE', 'MALAKISI',\n",
       "       'ITEN', 'KATHIANI', \"MURANG'A\", 'KAIRIA', 'UPLANDS ', 'RONGO',\n",
       "       'UHURU GARDEN', 'KINANGOP', 'BAHATI NAKURU ', 'MATILIKU', 'meru',\n",
       "       'Limuru', 'MALAA', 'TURBO', 'MARIMA -MERU HIGHWAY ', 'OLJORO OROK',\n",
       "       'homabay ', 'KIKIMA', 'ADAMS ARCADE', 'MUNICH', 'MUMIAS ',\n",
       "       'KALIMONI ', 'CHWELE', 'MARALAL', 'NAMBALE', 'NAIROBI COUNTY',\n",
       "       'Narok ', 'TURBO ', 'KANGARI ', 'Pécs ', 'thika', 'KATSE',\n",
       "       'thika ', 'CHEBUNYO', 'OL JORO OROK ', 'MOBIL PLAZA', 'WAMUNYU ',\n",
       "       'MAGUNGA', 'RORET', 'YALA', 'KAHUHIA', \"KENOL MURANG'A\",\n",
       "       'Machakos', 'UKWALA', 'KALOLENI', 'JOONDALUP', 'MIGORI ',\n",
       "       'MARAGOLI', 'MARMANET', 'IKANGA', 'KINOO', 'OYUGIS ', 'LANGATA',\n",
       "       'Kiambu', 'Malindi', 'NAIROBI.', 'MAKUENI ', 'Bungoma ',\n",
       "       'GITHUNGURI ', 'MACHOKOS', 'KOMBEWA ', 'UTHIRU ', 'KITENGELA ',\n",
       "       'BANANA', 'CHEPKORIO', 'MASII ', 'Gitugi', '. ', 'RUIRY', 'Kisumu',\n",
       "       'MBUMBUNI-MACHAKOS', 'WAMUYU', 'siaya', 'Kakamega', 'TAITA TAVETA',\n",
       "       'Bumala', 'KIMENDE ', 'BRISTOL', 'MATUNDA', 'KARABA', 'SULTAN',\n",
       "       'GATURA', 'KASARANI ,NAIROBI ', 'NANDI', 'MAGUTUNI', 'CHUKA ',\n",
       "       'NGONG HILL', 'ngong', 'KIANGAI', 'MBITA', 'Mumias', 'KAMBITI',\n",
       "       'MUMBI', 'Juja', 'WODANGA', 'KIRIANI', 'KABARNET', 'MISIKHU',\n",
       "       'Thika', 'NYANSIONGO', 'nyeri ', 'NAIVASHA ', \"MURANG'A \",\n",
       "       'KAPCHENO', 'NGARA', 'MADARAKA', 'kitengela ', 'BONDO ', 'WAMUNYU',\n",
       "       'NYANDARUA', 'MOGOGOSIEK', '00', 'NAIROBI/JUJA', 'NA ', 'LUANDA',\n",
       "       'KLEMZIG', 'TEL AVIV', 'ongata rongai ', '30-60101 Manyatta ',\n",
       "       '12410 Nyeri', 'KATHONZWENI ', 'GITHURAI ', 'WESRN AUSTRALIA',\n",
       "       'SABASABA ', 'Gilgil ', 'ISEBANIA', 'KIRIAINI', 'MUTHETHENI ',\n",
       "       'Mombasa ', 'Kitengela', 'CARLIFONIA', 'NIL',\n",
       "       'NAIROBI, NAIROBI AREA, KENYA', 'SOY', 'Sabasaba', 'SABASABA',\n",
       "       'COLUMBIA', 'Homa Bay ', 'MARIMA', 'SEGA', 'KAYOLE', 'BUDD LAKE',\n",
       "       'KITHYOKO', 'KIJABE ', 'Mbale', 'KITHIMANI', 'HANOI', 'chuka',\n",
       "       'KILINDINI', 'MERY', 'CHELMSFORD', 'LOITOKITOK', 'MOSORIOT',\n",
       "       'IKONGE', 'ENGINEER', 'Othaya', 'Ahero', 'MWEA', 'JOSKA ',\n",
       "       'NGAMBWA', 'MASINGA', 'KINANGOP ', 'LONDON', 'KILELESHWA ',\n",
       "       'SARIT CENTRE', 'mgange ', 'ST. MARYS NSW', 'GESIMA', 'Migori ',\n",
       "       'KHWISERO', 'SYOKIMAU', 'MTITO ANDEI ', 'nakuru ', 'NAIROBI CITY',\n",
       "       'ATHIRIVER', 'KABATI', 'Kitale', 'MPEKETONI', 'YOANI',\n",
       "       'KABARTONJO', 'NAMANGA', 'CHESINENDE', 'BAHATI', 'NZEEKA',\n",
       "       'MATATHIA, KAMAE', 'RONALD NGALA ', 'KUBUKUBU', 'THOGOTO',\n",
       "       'GATORA', 'NAI ', 'KUJA,KIAMBU', 'Machakos ', 'AMAGORO', 'Uthiru',\n",
       "       'Naivasha', 'KEROKA ', 'MAZERAS', 'EGERTON', 'KASARANI', 'Kimende',\n",
       "       'WAJIR', 'DUBAI', 'TWO RIVERS', 'NDARAGWA ', 'EASTLEIGH', 'KAGIO',\n",
       "       'HOMA BAY', 'KISII, KENYA', 'Thika ', 'NGECHA', 'Kakamega ',\n",
       "       'KERINGET', 'FORT WAYNE', 'STAREHE', 'GILGIL ', 'KAWANGWARE',\n",
       "       'GPO NAIROBI', 'GITUGI', 'Tala', 'kakamega ', 'TEXAS', 'GACHIE',\n",
       "       'Syokimau', 'Sydney ', 'LESSOS', 'Meru ', 'KIPKAREN RIVER',\n",
       "       'SOSIOT', 'LAKEWOOD SEATTLE', 'Lodwar', 'Kitale ', 'Membley',\n",
       "       'chepkorio', 'Luanda', 'Kijabe ', 'TONGAREN', 'karuri ', 'malindi',\n",
       "       'Ogembo ', 'Maryland', 'Kisii Town ', 'kajiado ', 'LIKONI',\n",
       "       'wangige ', 'Ngong', 'OLKALOU ', '4597-20100 Nakuru', 'GARISSA',\n",
       "       'KIRIAINI ', 'SYOKIMAU L', 'Machakos, Kathiani', 'Kitui',\n",
       "       'AUSTRALIA', 'Bondo', 'Salama ', 'bomet ', 'Naivasha ',\n",
       "       'TOORMINA, NSW', 'Utawala', 'Ankara', 'MOISBRIDGE', 'nbo',\n",
       "       'Kijabe', 'KABAZI', 'P.O BOX 75-30105 SOY', 'kisumu', 'nyeri',\n",
       "       'Voi', 'Kanjuku', \"NG'IYA\", 'Muranga', 'Bournemouth ',\n",
       "       'SARE-AWENDO', 'narok', 'Ruiru ', 'Kilifi ', 'Meru',\n",
       "       'Ol-joro-orok', '152 30100 eldoret ', 'Mtwapa', 'Karuri',\n",
       "       'Kitengela ', 'Isiolo ', '38061-00623 Nairobi', 'Ngong Hills',\n",
       "       'RARIEDA', ' Nairobi County,', '187 Ngewa', 'NJAMBINI',\n",
       "       '25635 00603 Nairobi', 'GIKOE', 'kakamega', 'ISHIARA ',\n",
       "       'P. O. Box 111 Ruiru', 'Kibwezi', 'Syokimau ', 'kiambu ', 'Bomet ',\n",
       "       'Busia', 'Gilgil', 'LAMU', 'Kajiado ', 'makueni ', 'kisii',\n",
       "       'MERU 2274', 'TURKANA', 'Kilifi', 'nottingham', 'Embakasi',\n",
       "       'Masii - MACHAKOS', 'SEREM', 'Tala, Kangundo. ', 'Ugunja',\n",
       "       'Karatina', 'Migori', 'Berlin', 'KALAMBA', 'UKUNDA ', 'ruiru',\n",
       "       'Sondu', 'BUSIA - PORT VICTORIA ', 'Matuu.', 'Gatundu',\n",
       "       'Seasons Kasarani. ', 'KARUNGU', 'Kahawa Sukari', 'Kangundo ',\n",
       "       'mombasa ', 'St. Georges', 'maseno', 'KINDARUMA ',\n",
       "       'kakuma 1 Nuer community ', 'copenhagen', '549 LIMURU', 'Lamu',\n",
       "       'DRESDEN', 'Ol Kalou ', 'KIRIA-INI ', '123 KIKUYU', 'Kianyaga',\n",
       "       'Kasarani', 'Makueni ', 'KABETE', 'Sagana',\n",
       "       'Imani avenue, Ongata Rongai, Kajiado', 'LOS ANGELES', 'KAKUMA',\n",
       "       'kitengela', '56-10300 Kerugoya', 'Kalimoni P.o Box 178-01001',\n",
       "       'Nairobi, Komarock.', 'kilifi', 'NAIROBI, KITENGELA ',\n",
       "       '14 Lamina Avenue, Mill Park VIC 3082', 'kebirigo ', 'Darwin ',\n",
       "       'Kericho ', 'Nairibi', '782 - 00232 Ruiru', 'eldoret', 'Oyugis',\n",
       "       'Conroe', 'NAIROBI 572 00300', 'Eldama Ravine', 'Kabete ', 'Maua',\n",
       "       'Isiolo', '828-90200', 'Athens', 'Chicago ', 'Hola', 'Abu Dhabi ',\n",
       "       'Nyayo Estate, Court 521', 'Deanside', '452-00200, KIAMBU',\n",
       "       'KOBENHAUN', 'karuri', 'Nanyuki ', 'P.O. Box 2413-60200, Meru',\n",
       "       'Kenol', 'Wote', 'githunguri ', 'NAIROBI. 45095-00100', 'Serem',\n",
       "       'P.o.box 1298-00618 Ruaraka, Nairobi', 'Vienna ', 'karen',\n",
       "       'CHICAGO', 'GENEVA', 'Kiserian ', 'Kabarnet', 'RABAI',\n",
       "       'KIAMBU COUNTY', 'Uthiru Cooperation ', 'Githunguri ',\n",
       "       '79718-00200 NAIROBI', 'stockholm', '42 NDARAGWA',\n",
       "       'P.O. Box 103635-00101', 'Heuchlingen ', 'PORT VICTORIA',\n",
       "       'Doolandella, Australia', 'Grand Oyster Kileleshwa, Nairobi',\n",
       "       '10572-00200 NAIROBI', 'Wangige ', 'Siaya', 'Litein', 'Washington',\n",
       "       'Geneva', 'Winchester ', 'Mariashoni', 'Mwiki', 'Limuru ',\n",
       "       'Nairobi i', 'P O Box 898-00100 NAIROBI', 'KAWNGWARE NAIROBI ',\n",
       "       'rongai', 'Roysambu', 'NAIROBI UMOJA', 'kangema',\n",
       "       'P.O.Box 848-00208 NGONG', 'Braunschweig ', 'Wote MAKUENI',\n",
       "       '814_3 300 KAPSABET ', 'Box 2316 Machakos', 'Ruaraka', 'Nyahururu',\n",
       "       'Kenmore ', 'Melbourne ', '1711 Nyahururu', 'nanyuki',\n",
       "       'kawangware ', 'Narok', 'Githunguri', 'Mahindi ', 'Moncton',\n",
       "       'kERUGOYA', 'Homa Bay', 'Ukunda', 'Mukurweini ', 'Malindi ',\n",
       "       'narumoru', 'Juba', '01000-214 Thika', 'kabete ', 'Kajiado',\n",
       "       'NAROK ', 'Kapenguria ', 'Athi-river ', \"murang'a \", 'Gem',\n",
       "       'nyahururu ', 'Gachie ', 'Kirinyaga', ' Nairobi ', 'CALIFORNIA',\n",
       "       'Bomet', 'molo', 'Chuka', 'Nairobi, Kenya.', 'ANTONY',\n",
       "       'wite-makueni', 'ugunja', 'Matunda ', 'KARORI', 'kikuyu ',\n",
       "       'Shinyalu ', 'Molo', 'KIPKAREN', 'KANGUNDO ', 'LUTON', 'FLORIDA',\n",
       "       'NGEWA', 'SUSWA', 'USA', \"KENOL MURANG'A \", 'PUYALLUP WA USA',\n",
       "       'LAARE', 'P.O Box 30231 - 00100, Nairobi', 'Runyenjes',\n",
       "       'KENDUBAY ', 'Gigiri, Nairobi', 'GATUKUYU', 'BUNYALA', 'OKIA',\n",
       "       '3704 GPO NAIROBI ', 'RANGWE', 'KITUI KENYA', 'SAUDI ARABIA',\n",
       "       'JUJA KALIMONI', 'MSA', 'GAKUNYU', 'MIHARATI', 'KERUGOYA TOWN',\n",
       "       'RAGENGNI', 'mwingi ', 'NBI', 'IGOJI', 'KIMULOT', 'LONDIANI',\n",
       "       'CAMBRIDGE', 'KHAYEGA', 'NDUNYU NJERU ', '58-10205 Maragua',\n",
       "       'MALINDI ', 'Kasarani, Clay City', 'ATHI RIVER ', 'Sawagongo ',\n",
       "       'HELSINKI', 'GPO', 'BURNTFOREST', 'MATUNDA ', 'HARRISDALE',\n",
       "       'KARANDI', 'DUKHAN ', 'SONDU', 'EMBU, KENYA', 'NAIROBI KENYA',\n",
       "       'NANDI HILLS ', 'HAZELWOOD', 'MGANGE', 'LUCYSUMMER-NAIROBI',\n",
       "       'KUKUYU', 'NGONG ROAD', 'NYAYO STADIUM', 'Karen', 'makuyu',\n",
       "       'LOITIKITOK', 'Kenyenya', 'MUNICH ', 'tawa', 'FUNYULA',\n",
       "       'NOTTIGHAM', 'nanyuki ', 'Kenny Bay', 'MOMBSA', 'SHERWOOD',\n",
       "       'NDARAGWA', 'ongata rongai', 'BUMALA', 'MEITINGEN ', '80100',\n",
       "       'KOMBEWA', 'DOYSELDOR', 'NOTTINGHAM', 'VIENNA', 'KISERIAN KAJIADO',\n",
       "       'NAIROBI, KENYA', 'Mtwapa ', 'KEUMBU', 'Kerugoya Town', 'KAP ',\n",
       "       'UPPER HILL NAIROBI', 'MOI;S BRIDGE', 'ENTERPRISE  ROAD',\n",
       "       'THIONGO-NAIROBI', 'KATHONZWENI', 'UTAWALA', 'MIU ATHI-RIVER',\n",
       "       'CHAMAKANGA', 'NYAMACHE', 'NUERI', 'SULTAN HAMUD', 'NAROMORU ',\n",
       "       'NYAMIRA ', 'NAIROBI BURU', 'HAMBURG', 'TOWN ', '14 KADONGO 40223',\n",
       "       'Mois Bridge ', 'RUNYENJES ', 'MARAGWA', 'SURPRISE,USA',\n",
       "       'KALAMBA ', 'Ruai', 'KADONGO', 'TORONGO', 'NJABINI',\n",
       "       'GIGIRI, VILLAGE MARKET, NAIROBI', 'LAVINGTON', 'SPRING VALLEY',\n",
       "       'MBUMBUNI', 'NAIROBI MUNICIPALITY', 'NAIROBI,KENYA',\n",
       "       'Bamburi Mtambo ', 'GITHURAI', 'RUMURUTI',\n",
       "       'Kenyatta Highway, Nanyuki', 'MUTOMO', 'KENYATTA HOSPITAL',\n",
       "       'NAIROBI GENERAL POST OFFICE', 'LITIEN', 'LONDIANI ',\n",
       "       'ONGATA RONGAI NAIROBI', 'GATUNDU ', 'GAMBONI', 'NAIROB',\n",
       "       'L.KABETE', 'ATHI - RIVER', 'kerugoya ', 'Webuye ', 'Maralal',\n",
       "       'Andover', 'mombas', 'Kiambu 627-00900', 'Maragua',\n",
       "       'murang*a 10200-658', 'Syracuse', 'Karen Nairobi ',\n",
       "       'ontario, California 91764 ', 'Karlsruhe ', 'Nyamira ', 'Olkalau',\n",
       "       'GILGIL, KENYA', 'Kerugoya ',\n",
       "       '14 AV FERNAND FENZY92160  ANTONY FRANCE'], dtype=object)"
      ]
     },
     "execution_count": 6,
     "metadata": {},
     "output_type": "execute_result"
    }
   ],
   "source": [
    "#checking the unique values from the town column\n",
    "df['town'].unique()"
   ]
  },
  {
   "cell_type": "code",
   "execution_count": 7,
   "metadata": {},
   "outputs": [
    {
     "data": {
      "text/plain": [
       "array(['Partner', 'Sister', 'Husband ', 'Husband', 'Daughter', 'Brother ',\n",
       "       'Son', 'Daughter ', 'Wife', 'Father', 'Mother', 'Brother', 'son',\n",
       "       'mother', 'father', 'Mother ', 'SPOUSE', 'FRIEND', 'Spouse ',\n",
       "       'WIfe', 'Father ', 'Spouse', 'child', nan, 'Parent', 'wife',\n",
       "       'Wife ', 'Son ', 'spouse', 'doughter', 'CHILD', 'ParentChild',\n",
       "       'partner', 'brother', 'sister', 'MotheR', 'Friend', 'Child',\n",
       "       'Cousin', 'Dad', 'Mum', 'MOTHER', 'WIFE', 'Sister ', 'SON',\n",
       "       'BROTHER', 'FATHER', 'aunt ', 'Grandmother', 'HUSBAND', 'self',\n",
       "       'husband', 'husband ', 'Owner', ' Grand daughter', 'Nephew',\n",
       "       'SP0USE', 'Self', 'parent', 'SISTER', 'NIECE', 'Niece', 'daughter',\n",
       "       'Sibling', 'DAUGHTER', 'AUNT', 'brother ', '254701361835',\n",
       "       'Parent ', 'daughter ', 'FAITHER', 'Family ', 'SPOUSE ',\n",
       "       'Sibling ', 'PARENT', 'CONFIDANT', 'MUM', 'DAD', 'wife ', 'family',\n",
       "       'Trustee ', 'son ', 'mother ', 'MOTHER ', 'friend', 'spouse ',\n",
       "       'S0N', 'SISTER ', 'FATHER ', 'father ', 'FAMILY ', 'WifE',\n",
       "       'Partner ', 'daugther', '1226805243;130143346', 'relative',\n",
       "       'BROTHER ', 'Daighter', 'Advisor', 'SON ', 'AUNTIE', 'FIANCEE',\n",
       "       'Fiancee', 'DOUGHTER', 'parent ', 'HUSBAND ', 'DAUGHTER ', 'SELF',\n",
       "       'MOther', 'mOTHER', 'Aunt', 'Grandparent', 'Bother ', 'SO',\n",
       "       'married', 'MARRIED', 'FIANCE', 'Doughter ', 'Guardian ',\n",
       "       'ASS0CIATE', 'sibling', 'fiance', 'Sistet', 'Grandson', 'Doughter',\n",
       "       'DAUGTHER', 'wIFE', 'Bro', 'PARTNER', 'B INLAW', 'GUARDIAN',\n",
       "       'daughte', 'Mom', 'COUSIN', 'GRANDMA', 'aunt', 'Domestic Partner',\n",
       "       'PATNER', 'me', 'MENTOR', 'UNCLE', 'Sis', 'SiBLING', 'GRAND SON',\n",
       "       'Fiance ', 'KID', 'SIBLING', 'GRANDSON', 'Nephew ', '-', 'Cousin ',\n",
       "       'DAUGHETR', 'Person', 's0n', 'na', 'myson', 'PARTNER ', 'Bishop',\n",
       "       'nephew', 'mwas', 'Mothers', 'Friend ', 'Child ', 'daughter33',\n",
       "       'CLOSE FRIEND', 'hUSBAND', 'CLOSEFRIEND', 'Boyfriend ',\n",
       "       'dependant', 'WIFE ', 'MARRIAGE', 'GRAND DAUGHTER', 'DAUGHER',\n",
       "       'Niece ', 'granddaughter', 'grandson', 'DAUGHTER/CHILD',\n",
       "       'RELATIVE', 'mum', 'single', 'Self ', 'sister ', 'Mother TO SON',\n",
       "       'Grandfather', 'DAD ', 'Relative', 'Daughter-in-law ',\n",
       "       'GRANDMOTHER', 'child ', '15', 'DaD', 'GIRLFRIEND', 'FAMILY',\n",
       "       'Uncle ', 'SiNGLE', 'SINGLE', 'fiancee', 'FaMILY', 'BENEFICIARY',\n",
       "       'OWNER', 'Relative ', 'GRANDDAUGHTER', ' Spouse', 'uncle',\n",
       "       'Married ', 'chil', 'CHILD MINOR', '33', 'NEPHEW', 'JOINT PARTNER',\n",
       "       'MOTHERS ', 'Fiancé ', 'Others ', 'Grand daughter',\n",
       "       'DAUGHTER-IN-LAW', 'Na', 'CHILD ', 'SPIRITUAL FATHER', 'COUSN',\n",
       "       'DEPEDANT', 'Estate', 'Uncle', 'sISTER', 'sisiter', ' BROTHER',\n",
       "       'Granddaughter ', 'BRother', 'Aunt ', 'cousin', 'Baby', 'Morher',\n",
       "       'MOM', 'God mother', 'GRANDSON ', 'Husband/spouse', 'SPOUCE',\n",
       "       'uncle ', 'FRIEND ', 'Single', 'Vhild', 'Patner', 'Spouce',\n",
       "       'Family', 'SoN', 'SisteR', 'AUNTY', 'FATHER-IN-LAW', 'SonS', '0',\n",
       "       'MO9', 'Fiance', '33.4', 'CHILF', '254727756559', '0720401466',\n",
       "       'GRAND FATHER', 'PRINCIPAL', 'Guardian', 'JUNIOR',\n",
       "       'DGRAND DAUGHTER', 'COWORKER', 'GRAND MOTHER', 'D100', 'NMO',\n",
       "       'BUSINESS PARTNER', 'GURDIAN', '2021', 'MotH', 'MoM', 'UN,CLE',\n",
       "       'GRAND CHILD', 'Sister in law', 'Grand Daughter', 'COMAPANION',\n",
       "       'BOYFRIEND', 'EX-WIFE', 'GRANDDAUGTER', 'PARNT', 'M', 'F', 'Chils',\n",
       "       ';SON', 'GUARDINA', 'NiecE', 'Brother-IN-LAW', 'Member',\n",
       "       'Grand mother', 'ADMINISTRATOR', 'VM', 'GRANDFATHER', 'GIRLFRIED',\n",
       "       'Brestfriend', 'Finance', 'SIS', 'Daughter in law', 'children',\n",
       "       'Girlfriend', 'COLLEAGUE', 'TRUSTEE', '254708368426', 'Colleague',\n",
       "       'Sister-IN-LAW', 'GRAND-DAUGHTER', 'GRANNY', 'GRANDCHILD', \"'M\",\n",
       "       'spouce', 'SiLBLING', 'Siblings', 'Step-mother', 'Aunty', 'FREINF',\n",
       "       '50', '100', '254723993458', 'Cousins', 'Cousins ', 'ASSOCIATE',\n",
       "       'Fiane', 'guardian', 'Guadian', 'Confidant', 'Auntie', 'GRANDPA',\n",
       "       'mom', 'Brother in Law', 'BUSINESS PARTNER ', 'Spuose',\n",
       "       'Business Partner', 'Dating', 'IN LAW', 'STEP-MOM', 'Son/Brother',\n",
       "       'Chid', 'Granddaughter', 'niece', 'Son/SISTER', 'Grand Son',\n",
       "       'BrotheR', \"Nolan's Guardian\", \"Xena's Guardian\", 'Sister-in law',\n",
       "       'PARENTS', 'c/o', 'STEP MOTHER', 'NiCE', 'Ciru', 'DEPENDANT',\n",
       "       'som', 'GUARDIAN ', 'Dau`', 'Kid', 'PARENT ', 'CHILDREN',\n",
       "       'partner ', 'CLOUSIN', '19112004', 'twinsister', 'MINOR',\n",
       "       'Sister- Custodian', 'GRANSON', 'COMPANION', 'ENGAGED',\n",
       "       'WELL WISHER', 'PARNER', 'GRANCHILD', 'Trustee', 'Next of kin',\n",
       "       'SIIBLING', 'SIBLINGS', 'Foster daughter', 'ADMINSTRATOR',\n",
       "       'IN-LAW', 'Boyfriend', 'NepheW', 'EMPLOYEE', 'DIRECTORS',\n",
       "       'RELIGIOUS COMMUNITY', 'CUSTODIAN', 'C/O ARIANNA', 'Sister IN LAW',\n",
       "       'spose', 'SPAUSE', 'MEMBER', 'DomesticPartner', 'Grand-daughter',\n",
       "       'Brother-in-law', 'STEP-BROTHER', 'Mother to Evan', 'Sister-Inlaw',\n",
       "       'BUS. PARTNER', 'Sister(Guardian)', 'CONTACT PERSON', 'FatheR',\n",
       "       'Brother in law', 'Parwnt', 'M,', 'Sister-GUARDIAN', 'Grand Child',\n",
       "       'GODMOTHER', 'Sister-Guardian', 'Mother- Guardian', 'Grandchild',\n",
       "       'Grand son', 'CHLD', 'GRAND.DAUGHTER', 'GRAND-MOTHER', 'Parents',\n",
       "       'EX WIFE', 'Sister - Guardian', 'Step-Mother', 'FOSTER DAUGHTER',\n",
       "       'Grand-mother', 'God Mother', 'Mother-in-law', 'MEMBER ',\n",
       "       'B/S PARTNER', 'LAWYER', 'GRAND-SON', 'parents', 'Stepson',\n",
       "       'Contingent', 'grandmother', 'G/Daughter', 'Brother and sister',\n",
       "       'Sibbling', ' ', 'COUSIN ', 'DaughteR', 'SPUOSE', 'CHIILD',\n",
       "       'DSPOUSE', 'Executor', 'HU', 'EWIFE', 'SPOUDSE', 'SoPOUSE',\n",
       "       'grandchild', 'ChILD', '9266025', 'PARE NT', '254700442162',\n",
       "       'BEST FRIEND', 'SISTER IN LAW ', 'mather', 'SAVING PARTNER ',\n",
       "       'AUNTIE ', 'ParenChild', 'GIRLFRIEND ', 'SINGLE ', 'Parentchild',\n",
       "       'parentchild', 'SPOUSE20', 'Myself', 'FIACEE', 'SD',\n",
       "       'Grand mother ', 'Mother of child', 'Childnephew', 'FATH ',\n",
       "       'MY SON', 'BabyMother', 'CHID', 'GIRL FRIEND', 'chils', 'self ',\n",
       "       \"Mother's \", 'Mum ', 'aunty', 'SPouse', 'Auntie ', 'ChiLD',\n",
       "       'grandmother ', 'Grand daughter ', 'auntie', 'baby mama ', 'DA',\n",
       "       'BrOther', 'Fiancee ', 'In law', 'Colleague ', 'WiFE', 'owner',\n",
       "       'sON', 'Mather', 'Dauhgter', 'myself', 'Hubby', 'Sister in-law',\n",
       "       'Aunty ', 'Foster parent', 'grandson ', 'Wife/Guardian',\n",
       "       '21761402', 'GUARDIAN-MOTHER'], dtype=object)"
      ]
     },
     "execution_count": 7,
     "metadata": {},
     "output_type": "execute_result"
    }
   ],
   "source": [
    "#checking the unique values from the relationship column\n",
    "df['relationship'].unique()"
   ]
  },
  {
   "cell_type": "code",
   "execution_count": 8,
   "metadata": {},
   "outputs": [
    {
     "data": {
      "text/plain": [
       "array(['Single Member'], dtype=object)"
      ]
     },
     "execution_count": 8,
     "metadata": {},
     "output_type": "execute_result"
    }
   ],
   "source": [
    "#checking the unique values from the hse_no column\n",
    "df['hse_no'].unique()"
   ]
  },
  {
   "cell_type": "code",
   "execution_count": 9,
   "metadata": {},
   "outputs": [
    {
     "data": {
      "text/plain": [
       "array(['Money Market', 'Dollar Fund', 'Wealth Fund', 'Equity Fund',\n",
       "       'Fixed Income', 'Balanced Fund', 'MoneyMarket', nan], dtype=object)"
      ]
     },
     "execution_count": 9,
     "metadata": {},
     "output_type": "execute_result"
    }
   ],
   "source": [
    "#checking the unique values from the portfolio column\n",
    "df['portfolio'].unique()"
   ]
  },
  {
   "cell_type": "code",
   "execution_count": 10,
   "metadata": {},
   "outputs": [
    {
     "data": {
      "text/plain": [
       "array(['NAIROBI', nan, 'NAIROBI ', 'THIKA', 'NAKURU', 'MOMBASA ',\n",
       "       'NDANAI ', 'KISUMU', 'KIKUYU', 'JUJA', 'MACHAKOS', 'MERU',\n",
       "       'KERICHO', 'MUKURWEINI', 'KATANGI', 'THIKA,KIAMBU', 'NANYUKI',\n",
       "       'RUAI ', 'MALINDI', 'NYAHURURU', 'MUMIAS', 'KAKAMEGA', 'LODWAR',\n",
       "       'Nairobi ', 'KITENGELA', 'LIMURU', 'THIKA ', 'MIGORI', 'ELDORET',\n",
       "       'KITUI', 'RUARAKA', 'Ruiru', 'NJORO', 'EMBU', 'SORI', 'NGONG',\n",
       "       'MASENO', 'GATUNDU', 'KAHURO', 'KILIFI', 'RUIRU', 'KERUGOYA',\n",
       "       'KARATINA', 'KITALE ', 'MOMBASA', 'BUNGOMA', 'KISII', '-',\n",
       "       'Nairobi', 'KINAMBA', 'SIAYA', 'KERICHO ', 'KIAMBU', 'KITALE',\n",
       "       'BUSIA', 'RUNYENJES', 'VILLAGE MARKET', 'Kapsabet', 'KAGWE',\n",
       "       'NANDI HILLS', 'KUTUS', 'DAGORETTI', 'LITEIN', 'KAJIADO', 'CHUKA',\n",
       "       'NYERI', 'NAIROBI, NAIROBI', 'Kisumu ', 'KANJUKU', 'EMALI',\n",
       "       'GILGIL', 'Kiambu ', 'KANGEMA', 'TIRIKI', 'KARATINA ', 'OTHAYA',\n",
       "       'KARURI ,KIAMBU', 'MURANGA ', 'Mombasa', 'GATUKUYU ', 'MLOLONGO',\n",
       "       'UTAWALA ', 'KAPENGURIA', 'KAPSABET', 'SUNA', 'BOMET', 'KENOL ',\n",
       "       'NYERI ', 'BUNGOMA ', 'NDANAI', 'KALIMONI', 'KIGANJO',\n",
       "       'KAPSOKWONY', 'Nakuru', 'KIAMBU ', 'nairobi', 'CHOGORIA',\n",
       "       'GITHUNGURI', 'YOANI,SALAMA', 'LIMURU ', 'NAIROBI, KENYA.',\n",
       "       'UKUNDA', 'MATUU', 'embu', 'NYALI', 'nakuru', 'MBALE', 'EMUHAYA',\n",
       "       'TELFORD', 'NAIVASHA', 'KAREN', 'KILIFI ', 'HOLA', 'MAKINDU',\n",
       "       'WOTE', 'DIANI', 'O', 'OLKALAU', 'KAREN ', 'UPLANDS', 'WANGÚRU',\n",
       "       'KABIYET', 'KAKAMEGA ', 'SOTIK', 'NGONG ', 'CITY SQUARE', 'NKUBU',\n",
       "       'KANGARI', 'NGONG HILLS ', 'NYAHURURU ', 'KARURI ', 'UTHIRU',\n",
       "       'MARIMANTI', 'MANCHESTER', 'Kikuyu', '.', 'NAIRO ', 'kiambu',\n",
       "       'VOI', 'EMBAKASI', 'MOLO', 'Siaya ', 'NGIYA', 'OLKALOU',\n",
       "       'KANYAGIA', 'WANJOHI', 'kabete', 'Wamunyu', 'MARIAKANI',\n",
       "       'KISERIAN', 'ARTHI RIVER ', 'SUBUKIA', 'KILGORIS', 'KIMININI',\n",
       "       'LAGOS', 'SARE', 'ATHI RIVER', 'ngong hills ', 'WERUGHA',\n",
       "       'NAIROBIP', 'MASINFA', 'kikuyu', 'OL JORO OROK', 'MAUA',\n",
       "       'GIKUE MURANGA', 'KIMENDE', 'KIMILILI', 'KISUMU ', 'VIHIGA',\n",
       "       ' NAIROBI ', 'BURUBURU', 'MATATHIA', 'RUAKA', 'UGUNJA', 'LONGISA',\n",
       "       'ELDORATE ', 'KAPKATET', 'WINNIPEG', 'PIPELINE ', 'KAHAWA WEST ',\n",
       "       'KANDARA', 'Kimilili ', 'MTWAPA ', 'MARAGUA', 'BANANA ', 'NYAMIRA',\n",
       "       'AUBURN', 'KARURI', 'MTWAPA', 'ONGATA RONGAI', 'ELDORET ',\n",
       "       'HOMABAY', 'WANGIGE', 'KENDUBAY', 'KIBWEZI', 'RONGAI', 'RUIRU ',\n",
       "       'NORTH KINANGOP', 'MAKUYU', 'Nyeri ', 'Eldoret ', 'BOUTIGNY',\n",
       "       '00506', 'MWINGI', '00100', 'KERUGOYA ', 'TALA', 'OLENGURUONE',\n",
       "       'MAVINDINI', 'UHURU GARDENS', 'KIKUYU ', 'Ongata Rongai',\n",
       "       'SOUTH KINANGOP', 'ELDAMA RAVINE', 'MITUNGURU', 'TOM MBOYA',\n",
       "       'NAKURU ', 'MITABONI', 'NAROMORU', 'MURANGA', 'OLJOROROK',\n",
       "       'BUTERE', 'OYUGIS', 'SILIBWET', 'EMBU ', 'Doha', 'Eldoret',\n",
       "       'KANGEMI', 'NYERI-KIGUMO', 'KISERIAN ', 'Athi River', 'KENOL',\n",
       "       'OL KALOU', 'WESTLANDS', 'Nyahururu ', 'ENDARASHA ', 'GPO/NAIROBI',\n",
       "       'DAGORETI', 'OGEMBO ', 'mombasa', 'RUAI', 'DONYO SABUK', 'KEROKA',\n",
       "       'LOWER KABETE', 'MWEIGA', 'Naitobi', 'TOKYO', 'Embu', 'KIRINYAGA',\n",
       "       'KIANYAGA', 'SIAYA ', 'ADLISWIL', 'BURU BURU', 'MERU ', 'NYAKIO',\n",
       "       'KWALE', 'AMUKURA', 'NAROK', 'KOBUJOI', \"WANG'URU\", 'BONDO',\n",
       "       'Kericho', 'KIKIMA ', 'CHANGAMWE', 'BUTULA', 'NAIROBI KAYOLE',\n",
       "       'KANGUNDO', 'MARIAKANI ', 'TIMBOROA', 'KIANJAI', 'KALOLENI ',\n",
       "       'ISINYA', 'IOWA CITY, IOWA', 'Garsen ', 'MUKURWE-INI',\n",
       "       'NAIROBI GPO', 'MANYATTA', 'SARE-OWENDO', 'NANYUKI ', 'NDHIWA',\n",
       "       'ELBURGON', 'Orange', 'MAKUENI', 'kisumu ', 'MACHAKOS ',\n",
       "       'KABARNET ', \"Murang'a \", 'JUJA, KIAMBU', 'Bungoma', 'MAWEGO',\n",
       "       'Bath', 'ROYSAMBU', 'Nanyuki', 'SAGANA', 'MACH ', 'Nyeri', 'Ruaka',\n",
       "       'KITUI ', 'KAJIADO ', 'NUNGUNI', 'RONGAI ', 'KISII ', 'WANGIGE ',\n",
       "       'Makongeni Jogoo Rd', 'nairobi ', 'Kikuyu ', 'Kisii', 'MSAMBWENI',\n",
       "       'BUJUMBURA', 'GITHONGO', 'KEROKA/KISII', 'BURUBURU, NAIROBI',\n",
       "       'MALAVA', 'KIJABE', 'Woolwich ', 'NDERE-SIAYA', 'AHERO',\n",
       "       'MUHORONI ', 'Nakuru ', 'kahuro', 'Malakisi ', 'MUHORONI',\n",
       "       'ISIOLO', 'SYOKIMAU ', 'ONGATA RONGAI ', 'Maralal ',\n",
       "       'KIBIRICHIA, MERU', 'GRANGER, INDIANA', 'WESTLAND ', 'MUKURWEINI ',\n",
       "       'MASII', 'NRB', 'KWISERO', 'ANKARA', 'SHIMBA HILLS', 'TAVETA',\n",
       "       'WOTE, MAKUENI ', 'WANGURU', 'KISSII', 'BURUBURU NAIROBI ',\n",
       "       'KIRITIRI', 'MESA ARIZONA', 'KAJIADO TOWN', 'KURIA',\n",
       "       'NAIROBI WEST', 'ENDARASHA', 'KIPKAREN ', '0', 'GAMBOGI', 'KOLA',\n",
       "       'Marsabit', 'WEBUYE', 'GAKUNGU', 'NAIROBJ',\n",
       "       'NAIROBI ,KAMITI ROAD RICHLAND', 'NKUBU ', 'MWATATE', 'MALAKISI',\n",
       "       'ITEN', 'KATHIANI', \"MURANG'A\", 'KAIRIA', 'UPLANDS ', 'RONGO',\n",
       "       'UHURU GARDEN', 'KINANGOP', 'BAHATI NAKURU ', 'MATILIKU', 'meru',\n",
       "       'Limuru', 'MALAA', 'TURBO', 'MARIMA -MERU HIGHWAY ', 'OLJORO OROK',\n",
       "       'homabay ', 'KIKIMA', 'ADAMS ARCADE', 'MUNICH', 'MUMIAS ',\n",
       "       'KALIMONI ', 'CHWELE', 'MARALAL', 'NAMBALE', 'NAIROBI COUNTY',\n",
       "       'Narok ', 'TURBO ', 'KANGARI ', 'Pécs ', 'thika', 'KATSE',\n",
       "       'thika ', 'CHEBUNYO', 'OL JORO OROK ', 'MOBIL PLAZA', 'WAMUNYU ',\n",
       "       'MAGUNGA', 'RORET', 'YALA', 'KAHUHIA', \"KENOL MURANG'A\",\n",
       "       'Machakos', 'UKWALA', 'KALOLENI', 'JOONDALUP', 'MIGORI ',\n",
       "       'MARAGOLI', 'MARMANET', 'IKANGA', 'KINOO', 'OYUGIS ', 'LANGATA',\n",
       "       'Kiambu', 'Malindi', 'NAIROBI.', 'MAKUENI ', 'Bungoma ',\n",
       "       'GITHUNGURI ', 'MACHOKOS', 'KOMBEWA ', 'UTHIRU ', 'KITENGELA ',\n",
       "       'BANANA', 'CHEPKORIO', 'MASII ', 'Gitugi', '. ', 'RUIRY', 'Kisumu',\n",
       "       'MBUMBUNI-MACHAKOS', 'WAMUYU', 'siaya', 'Kakamega', 'TAITA TAVETA',\n",
       "       'Bumala', 'KIMENDE ', 'BRISTOL', 'MATUNDA', 'KARABA', 'SULTAN',\n",
       "       'GATURA', 'KASARANI ,NAIROBI ', 'NANDI', 'MAGUTUNI', 'CHUKA ',\n",
       "       'NGONG HILL', 'ngong', 'KIANGAI', 'MBITA', 'Mumias', 'KAMBITI',\n",
       "       'MUMBI', 'Juja', 'WODANGA', 'KIRIANI', 'KABARNET', 'MISIKHU',\n",
       "       'Thika', 'NYANSIONGO', 'nyeri ', 'NAIVASHA ', \"MURANG'A \",\n",
       "       'KAPCHENO', 'NGARA', 'MADARAKA', 'kitengela ', 'BONDO ', 'WAMUNYU',\n",
       "       'NYANDARUA', 'MOGOGOSIEK', '00', 'NAIROBI/JUJA', 'NA ', 'LUANDA',\n",
       "       'KLEMZIG', 'TEL AVIV', 'ongata rongai ', '30-60101 Manyatta ',\n",
       "       '12410 Nyeri', 'KATHONZWENI ', 'GITHURAI ', 'WESRN AUSTRALIA',\n",
       "       'SABASABA ', 'Gilgil ', 'ISEBANIA', 'KIRIAINI', 'MUTHETHENI ',\n",
       "       'Mombasa ', 'Kitengela', 'CARLIFONIA', 'NIL',\n",
       "       'NAIROBI, NAIROBI AREA, KENYA', 'SOY', 'Sabasaba', 'SABASABA',\n",
       "       'COLUMBIA', 'Homa Bay ', 'MARIMA', 'SEGA', 'KAYOLE', 'BUDD LAKE',\n",
       "       'KITHYOKO', 'KIJABE ', 'Mbale', 'KITHIMANI', 'HANOI', 'chuka',\n",
       "       'KILINDINI', 'MERY', 'CHELMSFORD', 'LOITOKITOK', 'MOSORIOT',\n",
       "       'IKONGE', 'ENGINEER', 'Othaya', 'Ahero', 'MWEA', 'JOSKA ',\n",
       "       'NGAMBWA', 'MASINGA', 'KINANGOP ', 'LONDON', 'KILELESHWA ',\n",
       "       'SARIT CENTRE', 'mgange ', 'ST. MARYS NSW', 'GESIMA', 'Migori ',\n",
       "       'KHWISERO', 'SYOKIMAU', 'MTITO ANDEI ', 'nakuru ', 'NAIROBI CITY',\n",
       "       'ATHIRIVER', 'KABATI', 'Kitale', 'MPEKETONI', 'YOANI',\n",
       "       'KABARTONJO', 'NAMANGA', 'CHESINENDE', 'BAHATI', 'NZEEKA',\n",
       "       'MATATHIA, KAMAE', 'RONALD NGALA ', 'KUBUKUBU', 'THOGOTO',\n",
       "       'GATORA', 'NAI ', 'KUJA,KIAMBU', 'Machakos ', 'AMAGORO', 'Uthiru',\n",
       "       'Naivasha', 'KEROKA ', 'MAZERAS', 'EGERTON', 'KASARANI', 'Kimende',\n",
       "       'WAJIR', 'DUBAI', 'TWO RIVERS', 'NDARAGWA ', 'EASTLEIGH', 'KAGIO',\n",
       "       'HOMA BAY', 'KISII, KENYA', 'Thika ', 'NGECHA', 'Kakamega ',\n",
       "       'KERINGET', 'FORT WAYNE', 'STAREHE', 'GILGIL ', 'KAWANGWARE',\n",
       "       'GPO NAIROBI', 'GITUGI', 'Tala', 'kakamega ', 'TEXAS', 'GACHIE',\n",
       "       'Syokimau', 'Sydney ', 'LESSOS', 'Meru ', 'KIPKAREN RIVER',\n",
       "       'SOSIOT', 'LAKEWOOD SEATTLE', 'Lodwar', 'Kitale ', 'Membley',\n",
       "       'chepkorio', 'Luanda', 'Kijabe ', 'TONGAREN', 'karuri ', 'malindi',\n",
       "       'Ogembo ', 'Maryland', 'Kisii Town ', 'kajiado ', 'LIKONI',\n",
       "       'wangige ', 'Ngong', 'OLKALOU ', '4597-20100 Nakuru', 'GARISSA',\n",
       "       'KIRIAINI ', 'SYOKIMAU L', 'Machakos, Kathiani', 'Kitui',\n",
       "       'AUSTRALIA', 'Bondo', 'Salama ', 'bomet ', 'Naivasha ',\n",
       "       'TOORMINA, NSW', 'Utawala', 'Ankara', 'MOISBRIDGE', 'nbo',\n",
       "       'Kijabe', 'KABAZI', 'P.O BOX 75-30105 SOY', 'kisumu', 'nyeri',\n",
       "       'Voi', 'Kanjuku', \"NG'IYA\", 'Muranga', 'Bournemouth ',\n",
       "       'SARE-AWENDO', 'narok', 'Ruiru ', 'Kilifi ', 'Meru',\n",
       "       'Ol-joro-orok', '152 30100 eldoret ', 'Mtwapa', 'Karuri',\n",
       "       'Kitengela ', 'Isiolo ', '38061-00623 Nairobi', 'Ngong Hills',\n",
       "       'RARIEDA', ' Nairobi County,', '187 Ngewa', 'NJAMBINI',\n",
       "       '25635 00603 Nairobi', 'GIKOE', 'kakamega', 'ISHIARA ',\n",
       "       'P. O. Box 111 Ruiru', 'Kibwezi', 'Syokimau ', 'kiambu ', 'Bomet ',\n",
       "       'Busia', 'Gilgil', 'LAMU', 'Kajiado ', 'makueni ', 'kisii',\n",
       "       'MERU 2274', 'TURKANA', 'Kilifi', 'nottingham', 'Embakasi',\n",
       "       'Masii - MACHAKOS', 'SEREM', 'Tala, Kangundo. ', 'Ugunja',\n",
       "       'Karatina', 'Migori', 'Berlin', 'KALAMBA', 'UKUNDA ', 'ruiru',\n",
       "       'Sondu', 'BUSIA - PORT VICTORIA ', 'Matuu.', 'Gatundu',\n",
       "       'Seasons Kasarani. ', 'KARUNGU', 'Kahawa Sukari', 'Kangundo ',\n",
       "       'mombasa ', 'St. Georges', 'maseno', 'KINDARUMA ',\n",
       "       'kakuma 1 Nuer community ', 'copenhagen', '549 LIMURU', 'Lamu',\n",
       "       'DRESDEN', 'Ol Kalou ', 'KIRIA-INI ', '123 KIKUYU', 'Kianyaga',\n",
       "       'Kasarani', 'Makueni ', 'KABETE', 'Sagana',\n",
       "       'Imani avenue, Ongata Rongai, Kajiado', 'LOS ANGELES', 'KAKUMA',\n",
       "       'kitengela', '56-10300 Kerugoya', 'Kalimoni P.o Box 178-01001',\n",
       "       'Nairobi, Komarock.', 'kilifi', 'NAIROBI, KITENGELA ',\n",
       "       '14 Lamina Avenue, Mill Park VIC 3082', 'kebirigo ', 'Darwin ',\n",
       "       'Kericho ', 'Nairibi', '782 - 00232 Ruiru', 'eldoret', 'Oyugis',\n",
       "       'Conroe', 'NAIROBI 572 00300', 'Eldama Ravine', 'Kabete ', 'Maua',\n",
       "       'Isiolo', '828-90200', 'Athens', 'Chicago ', 'Hola', 'Abu Dhabi ',\n",
       "       'Nyayo Estate, Court 521', 'Deanside', '452-00200, KIAMBU',\n",
       "       'KOBENHAUN', 'karuri', 'Nanyuki ', 'P.O. Box 2413-60200, Meru',\n",
       "       'Kenol', 'Wote', 'githunguri ', 'NAIROBI. 45095-00100', 'Serem',\n",
       "       'P.o.box 1298-00618 Ruaraka, Nairobi', 'Vienna ', 'karen',\n",
       "       'CHICAGO', 'GENEVA', 'Kiserian ', 'Kabarnet', 'RABAI',\n",
       "       'KIAMBU COUNTY', 'Uthiru Cooperation ', 'Githunguri ',\n",
       "       '79718-00200 NAIROBI', 'stockholm', '42 NDARAGWA',\n",
       "       'P.O. Box 103635-00101', 'Heuchlingen ', 'PORT VICTORIA',\n",
       "       'Doolandella, Australia', 'Grand Oyster Kileleshwa, Nairobi',\n",
       "       '10572-00200 NAIROBI', 'Wangige ', 'Siaya', 'Litein', 'Washington',\n",
       "       'Geneva', 'Winchester ', 'Mariashoni', 'Mwiki', 'Limuru ',\n",
       "       'Nairobi i', 'P O Box 898-00100 NAIROBI', 'KAWNGWARE NAIROBI ',\n",
       "       'rongai', 'Roysambu', 'NAIROBI UMOJA', 'kangema',\n",
       "       'P.O.Box 848-00208 NGONG', 'Braunschweig ', 'Wote MAKUENI',\n",
       "       '814_3 300 KAPSABET ', 'Box 2316 Machakos', 'Ruaraka', 'Nyahururu',\n",
       "       'Kenmore ', 'Melbourne ', '1711 Nyahururu', 'nanyuki',\n",
       "       'kawangware ', 'Narok', 'Githunguri', 'Mahindi ', 'Moncton',\n",
       "       'kERUGOYA', 'Homa Bay', 'Ukunda', 'Mukurweini ', 'Malindi ',\n",
       "       'narumoru', 'Juba', '01000-214 Thika', 'kabete ', 'Kajiado',\n",
       "       'NAROK ', 'Kapenguria ', 'Athi-river ', \"murang'a \", 'Gem',\n",
       "       'nyahururu ', 'Gachie ', 'Kirinyaga', ' Nairobi ', 'CALIFORNIA',\n",
       "       'Bomet', 'molo', 'Chuka', 'Nairobi, Kenya.', 'ANTONY',\n",
       "       'wite-makueni', 'ugunja', 'Matunda ', 'KARORI', 'kikuyu ',\n",
       "       'Shinyalu ', 'Molo', 'KIPKAREN', 'KANGUNDO ', 'LUTON', 'FLORIDA',\n",
       "       'NGEWA', 'SUSWA', 'USA', \"KENOL MURANG'A \", 'PUYALLUP WA USA',\n",
       "       'LAARE', 'P.O Box 30231 - 00100, Nairobi', 'Runyenjes',\n",
       "       'KENDUBAY ', 'Gigiri, Nairobi', 'GATUKUYU', 'BUNYALA', 'OKIA',\n",
       "       '3704 GPO NAIROBI ', 'RANGWE', 'KITUI KENYA', 'SAUDI ARABIA',\n",
       "       'JUJA KALIMONI', 'MSA', 'GAKUNYU', 'MIHARATI', 'KERUGOYA TOWN',\n",
       "       'RAGENGNI', 'mwingi ', 'NBI', 'IGOJI', 'KIMULOT', 'LONDIANI',\n",
       "       'CAMBRIDGE', 'KHAYEGA', 'NDUNYU NJERU ', '58-10205 Maragua',\n",
       "       'MALINDI ', 'Kasarani, Clay City', 'ATHI RIVER ', 'Sawagongo ',\n",
       "       'HELSINKI', 'GPO', 'BURNTFOREST', 'MATUNDA ', 'HARRISDALE',\n",
       "       'KARANDI', 'DUKHAN ', 'SONDU', 'EMBU, KENYA', 'NAIROBI KENYA',\n",
       "       'NANDI HILLS ', 'HAZELWOOD', 'MGANGE', 'LUCYSUMMER-NAIROBI',\n",
       "       'KUKUYU', 'NGONG ROAD', 'NYAYO STADIUM', 'Karen', 'makuyu',\n",
       "       'LOITIKITOK', 'Kenyenya', 'MUNICH ', 'tawa', 'FUNYULA',\n",
       "       'NOTTIGHAM', 'nanyuki ', 'Kenny Bay', 'MOMBSA', 'SHERWOOD',\n",
       "       'NDARAGWA', 'ongata rongai', 'BUMALA', 'MEITINGEN ', '80100',\n",
       "       'KOMBEWA', 'DOYSELDOR', 'NOTTINGHAM', 'VIENNA', 'KISERIAN KAJIADO',\n",
       "       'NAIROBI, KENYA', 'Mtwapa ', 'KEUMBU', 'Kerugoya Town', 'KAP ',\n",
       "       'UPPER HILL NAIROBI', 'MOI;S BRIDGE', 'ENTERPRISE  ROAD',\n",
       "       'THIONGO-NAIROBI', 'KATHONZWENI', 'UTAWALA', 'MIU ATHI-RIVER',\n",
       "       'CHAMAKANGA', 'NYAMACHE', 'NUERI', 'SULTAN HAMUD', 'NAROMORU ',\n",
       "       'NYAMIRA ', 'NAIROBI BURU', 'HAMBURG', 'TOWN ', '14 KADONGO 40223',\n",
       "       'Mois Bridge ', 'RUNYENJES ', 'MARAGWA', 'SURPRISE,USA',\n",
       "       'KALAMBA ', 'Ruai', 'KADONGO', 'TORONGO', 'NJABINI',\n",
       "       'GIGIRI, VILLAGE MARKET, NAIROBI', 'LAVINGTON', 'SPRING VALLEY',\n",
       "       'MBUMBUNI', 'NAIROBI MUNICIPALITY', 'NAIROBI,KENYA',\n",
       "       'Bamburi Mtambo ', 'GITHURAI', 'RUMURUTI',\n",
       "       'Kenyatta Highway, Nanyuki', 'MUTOMO', 'KENYATTA HOSPITAL',\n",
       "       'NAIROBI GENERAL POST OFFICE', 'LITIEN', 'LONDIANI ',\n",
       "       'ONGATA RONGAI NAIROBI', 'GATUNDU ', 'GAMBONI', 'NAIROB',\n",
       "       'L.KABETE', 'ATHI - RIVER', 'kerugoya ', 'Webuye ', 'Maralal',\n",
       "       'Andover', 'mombas', 'Kiambu 627-00900', 'Maragua',\n",
       "       'murang*a 10200-658', 'Syracuse', 'Karen Nairobi ',\n",
       "       'ontario, California 91764 ', 'Karlsruhe ', 'Nyamira ', 'Olkalau',\n",
       "       'GILGIL, KENYA', 'Kerugoya ',\n",
       "       '14 AV FERNAND FENZY92160  ANTONY FRANCE'], dtype=object)"
      ]
     },
     "execution_count": 10,
     "metadata": {},
     "output_type": "execute_result"
    }
   ],
   "source": [
    "#checking the unique values from the town column\n",
    "df['town'].unique()"
   ]
  },
  {
   "cell_type": "code",
   "execution_count": 11,
   "metadata": {},
   "outputs": [
    {
     "data": {
      "text/plain": [
       "member_no                0\n",
       "reg_date              1863\n",
       "dob                  20038\n",
       "hse_no                   0\n",
       "gender                4667\n",
       "town               1048216\n",
       "relationship       1632933\n",
       "beneficiery_dob    1086598\n",
       "portfolio                9\n",
       "dtype: int64"
      ]
     },
     "execution_count": 11,
     "metadata": {},
     "output_type": "execute_result"
    }
   ],
   "source": [
    "#inspecting the dataframe for null values\n",
    "df.isna().sum()"
   ]
  },
  {
   "cell_type": "code",
   "execution_count": 12,
   "metadata": {},
   "outputs": [
    {
     "data": {
      "text/plain": [
       "7407066"
      ]
     },
     "execution_count": 12,
     "metadata": {},
     "output_type": "execute_result"
    }
   ],
   "source": [
    "#inspecting the dataframe duplicate values\n",
    "df.duplicated().sum()"
   ]
  },
  {
   "cell_type": "markdown",
   "metadata": {},
   "source": [
    "In the below code block, we drop duplicated values."
   ]
  },
  {
   "cell_type": "code",
   "execution_count": 13,
   "metadata": {},
   "outputs": [],
   "source": [
    "df = df.drop_duplicates()"
   ]
  },
  {
   "cell_type": "markdown",
   "metadata": {},
   "source": [
    "From our problem statement, we aim to cross sell investment products depending on Age, Gender and Location. Therefore, we are going to drop some columns which are irrelevant. e.g. hse_no, beneficiary_dob,reg_date."
   ]
  },
  {
   "cell_type": "code",
   "execution_count": 14,
   "metadata": {},
   "outputs": [],
   "source": [
    "df=df.drop(columns=['reg_date','hse_no'])"
   ]
  },
  {
   "cell_type": "code",
   "execution_count": 15,
   "metadata": {},
   "outputs": [
    {
     "data": {
      "text/plain": [
       "member_no              0\n",
       "dob                  238\n",
       "gender                82\n",
       "town               15026\n",
       "relationship       14308\n",
       "beneficiery_dob    13937\n",
       "portfolio              4\n",
       "dtype: int64"
      ]
     },
     "execution_count": 15,
     "metadata": {},
     "output_type": "execute_result"
    }
   ],
   "source": [
    "#inspecting the null vaues after dropping columns\n",
    "df.isna().sum()"
   ]
  },
  {
   "cell_type": "code",
   "execution_count": 16,
   "metadata": {},
   "outputs": [
    {
     "data": {
      "text/plain": [
       "array(['Partner', 'Sister', 'Husband ', 'Husband', 'Daughter', 'Brother ',\n",
       "       'Son', 'Daughter ', 'Wife', 'Father', 'Mother', 'Brother', 'son',\n",
       "       'mother', 'father', 'Mother ', 'SPOUSE', 'FRIEND', 'Spouse ',\n",
       "       'WIfe', 'Father ', 'Spouse', 'child', nan, 'Parent', 'wife',\n",
       "       'Wife ', 'Son ', 'spouse', 'doughter', 'CHILD', 'ParentChild',\n",
       "       'partner', 'brother', 'sister', 'MotheR', 'Friend', 'Child',\n",
       "       'Cousin', 'Dad', 'Mum', 'MOTHER', 'WIFE', 'Sister ', 'SON',\n",
       "       'BROTHER', 'FATHER', 'aunt ', 'Grandmother', 'HUSBAND', 'self',\n",
       "       'husband', 'husband ', 'Owner', ' Grand daughter', 'Nephew',\n",
       "       'SP0USE', 'Self', 'parent', 'SISTER', 'NIECE', 'Niece', 'daughter',\n",
       "       'Sibling', 'DAUGHTER', 'AUNT', 'brother ', '254701361835',\n",
       "       'Parent ', 'daughter ', 'FAITHER', 'Family ', 'SPOUSE ',\n",
       "       'Sibling ', 'PARENT', 'CONFIDANT', 'MUM', 'DAD', 'wife ', 'family',\n",
       "       'Trustee ', 'son ', 'mother ', 'MOTHER ', 'friend', 'spouse ',\n",
       "       'S0N', 'SISTER ', 'FATHER ', 'father ', 'FAMILY ', 'WifE',\n",
       "       'Partner ', 'daugther', '1226805243;130143346', 'relative',\n",
       "       'BROTHER ', 'Daighter', 'Advisor', 'SON ', 'AUNTIE', 'FIANCEE',\n",
       "       'Fiancee', 'DOUGHTER', 'parent ', 'HUSBAND ', 'DAUGHTER ', 'SELF',\n",
       "       'MOther', 'mOTHER', 'Aunt', 'Grandparent', 'Bother ', 'SO',\n",
       "       'married', 'MARRIED', 'FIANCE', 'Doughter ', 'Guardian ',\n",
       "       'ASS0CIATE', 'sibling', 'fiance', 'Sistet', 'Grandson', 'Doughter',\n",
       "       'DAUGTHER', 'wIFE', 'Bro', 'PARTNER', 'B INLAW', 'GUARDIAN',\n",
       "       'daughte', 'Mom', 'COUSIN', 'GRANDMA', 'aunt', 'Domestic Partner',\n",
       "       'PATNER', 'me', 'MENTOR', 'UNCLE', 'Sis', 'SiBLING', 'GRAND SON',\n",
       "       'Fiance ', 'KID', 'SIBLING', 'GRANDSON', 'Nephew ', '-', 'Cousin ',\n",
       "       'DAUGHETR', 'Person', 's0n', 'na', 'myson', 'PARTNER ', 'Bishop',\n",
       "       'nephew', 'mwas', 'Mothers', 'Friend ', 'Child ', 'daughter33',\n",
       "       'CLOSE FRIEND', 'hUSBAND', 'CLOSEFRIEND', 'Boyfriend ',\n",
       "       'dependant', 'WIFE ', 'MARRIAGE', 'GRAND DAUGHTER', 'DAUGHER',\n",
       "       'Niece ', 'granddaughter', 'grandson', 'DAUGHTER/CHILD',\n",
       "       'RELATIVE', 'mum', 'single', 'Self ', 'sister ', 'Mother TO SON',\n",
       "       'Grandfather', 'DAD ', 'Relative', 'Daughter-in-law ',\n",
       "       'GRANDMOTHER', 'child ', '15', 'DaD', 'GIRLFRIEND', 'FAMILY',\n",
       "       'Uncle ', 'SiNGLE', 'SINGLE', 'fiancee', 'FaMILY', 'BENEFICIARY',\n",
       "       'OWNER', 'Relative ', 'GRANDDAUGHTER', ' Spouse', 'uncle',\n",
       "       'Married ', 'chil', 'CHILD MINOR', '33', 'NEPHEW', 'JOINT PARTNER',\n",
       "       'MOTHERS ', 'Fiancé ', 'Others ', 'Grand daughter',\n",
       "       'DAUGHTER-IN-LAW', 'Na', 'CHILD ', 'SPIRITUAL FATHER', 'COUSN',\n",
       "       'DEPEDANT', 'Estate', 'Uncle', 'sISTER', 'sisiter', ' BROTHER',\n",
       "       'Granddaughter ', 'BRother', 'Aunt ', 'cousin', 'Baby', 'Morher',\n",
       "       'MOM', 'God mother', 'GRANDSON ', 'Husband/spouse', 'SPOUCE',\n",
       "       'uncle ', 'FRIEND ', 'Single', 'Vhild', 'Patner', 'Spouce',\n",
       "       'Family', 'SoN', 'SisteR', 'AUNTY', 'FATHER-IN-LAW', 'SonS', '0',\n",
       "       'MO9', 'Fiance', '33.4', 'CHILF', '254727756559', '0720401466',\n",
       "       'GRAND FATHER', 'PRINCIPAL', 'Guardian', 'JUNIOR',\n",
       "       'DGRAND DAUGHTER', 'COWORKER', 'GRAND MOTHER', 'D100', 'NMO',\n",
       "       'BUSINESS PARTNER', 'GURDIAN', '2021', 'MotH', 'MoM', 'UN,CLE',\n",
       "       'GRAND CHILD', 'Sister in law', 'Grand Daughter', 'COMAPANION',\n",
       "       'BOYFRIEND', 'EX-WIFE', 'GRANDDAUGTER', 'PARNT', 'M', 'F', 'Chils',\n",
       "       ';SON', 'GUARDINA', 'NiecE', 'Brother-IN-LAW', 'Member',\n",
       "       'Grand mother', 'ADMINISTRATOR', 'VM', 'GRANDFATHER', 'GIRLFRIED',\n",
       "       'Brestfriend', 'Finance', 'SIS', 'Daughter in law', 'children',\n",
       "       'Girlfriend', 'COLLEAGUE', 'TRUSTEE', '254708368426', 'Colleague',\n",
       "       'Sister-IN-LAW', 'GRAND-DAUGHTER', 'GRANNY', 'GRANDCHILD', \"'M\",\n",
       "       'spouce', 'SiLBLING', 'Siblings', 'Step-mother', 'Aunty', 'FREINF',\n",
       "       '50', '100', '254723993458', 'Cousins', 'Cousins ', 'ASSOCIATE',\n",
       "       'Fiane', 'guardian', 'Guadian', 'Confidant', 'Auntie', 'GRANDPA',\n",
       "       'mom', 'Brother in Law', 'BUSINESS PARTNER ', 'Spuose',\n",
       "       'Business Partner', 'Dating', 'IN LAW', 'STEP-MOM', 'Son/Brother',\n",
       "       'Chid', 'Granddaughter', 'niece', 'Son/SISTER', 'Grand Son',\n",
       "       'BrotheR', \"Nolan's Guardian\", \"Xena's Guardian\", 'Sister-in law',\n",
       "       'PARENTS', 'c/o', 'STEP MOTHER', 'NiCE', 'Ciru', 'DEPENDANT',\n",
       "       'som', 'GUARDIAN ', 'Dau`', 'Kid', 'PARENT ', 'CHILDREN',\n",
       "       'partner ', 'CLOUSIN', '19112004', 'twinsister', 'MINOR',\n",
       "       'Sister- Custodian', 'GRANSON', 'COMPANION', 'ENGAGED',\n",
       "       'WELL WISHER', 'PARNER', 'GRANCHILD', 'Trustee', 'Next of kin',\n",
       "       'SIIBLING', 'SIBLINGS', 'Foster daughter', 'ADMINSTRATOR',\n",
       "       'IN-LAW', 'Boyfriend', 'NepheW', 'EMPLOYEE', 'DIRECTORS',\n",
       "       'RELIGIOUS COMMUNITY', 'CUSTODIAN', 'C/O ARIANNA', 'Sister IN LAW',\n",
       "       'spose', 'SPAUSE', 'MEMBER', 'DomesticPartner', 'Grand-daughter',\n",
       "       'Brother-in-law', 'STEP-BROTHER', 'Mother to Evan', 'Sister-Inlaw',\n",
       "       'BUS. PARTNER', 'Sister(Guardian)', 'CONTACT PERSON', 'FatheR',\n",
       "       'Brother in law', 'Parwnt', 'M,', 'Sister-GUARDIAN', 'Grand Child',\n",
       "       'GODMOTHER', 'Sister-Guardian', 'Mother- Guardian', 'Grandchild',\n",
       "       'Grand son', 'CHLD', 'GRAND.DAUGHTER', 'GRAND-MOTHER', 'Parents',\n",
       "       'EX WIFE', 'Sister - Guardian', 'Step-Mother', 'FOSTER DAUGHTER',\n",
       "       'Grand-mother', 'God Mother', 'Mother-in-law', 'MEMBER ',\n",
       "       'B/S PARTNER', 'LAWYER', 'GRAND-SON', 'parents', 'Stepson',\n",
       "       'Contingent', 'grandmother', 'G/Daughter', 'Brother and sister',\n",
       "       'Sibbling', ' ', 'COUSIN ', 'DaughteR', 'SPUOSE', 'CHIILD',\n",
       "       'DSPOUSE', 'Executor', 'HU', 'EWIFE', 'SPOUDSE', 'SoPOUSE',\n",
       "       'grandchild', 'ChILD', '9266025', 'PARE NT', '254700442162',\n",
       "       'BEST FRIEND', 'SISTER IN LAW ', 'mather', 'SAVING PARTNER ',\n",
       "       'AUNTIE ', 'ParenChild', 'GIRLFRIEND ', 'SINGLE ', 'Parentchild',\n",
       "       'parentchild', 'SPOUSE20', 'Myself', 'FIACEE', 'SD',\n",
       "       'Grand mother ', 'Mother of child', 'Childnephew', 'FATH ',\n",
       "       'MY SON', 'BabyMother', 'CHID', 'GIRL FRIEND', 'chils', 'self ',\n",
       "       \"Mother's \", 'Mum ', 'aunty', 'SPouse', 'Auntie ', 'ChiLD',\n",
       "       'grandmother ', 'Grand daughter ', 'auntie', 'baby mama ', 'DA',\n",
       "       'BrOther', 'Fiancee ', 'In law', 'Colleague ', 'WiFE', 'owner',\n",
       "       'sON', 'Mather', 'Dauhgter', 'myself', 'Hubby', 'Sister in-law',\n",
       "       'Aunty ', 'Foster parent', 'grandson ', 'Wife/Guardian',\n",
       "       '21761402', 'GUARDIAN-MOTHER'], dtype=object)"
      ]
     },
     "execution_count": 16,
     "metadata": {},
     "output_type": "execute_result"
    }
   ],
   "source": [
    "#checking for unique values in relationship column\n",
    "df.relationship.unique()"
   ]
  },
  {
   "cell_type": "code",
   "execution_count": 17,
   "metadata": {},
   "outputs": [
    {
     "data": {
      "text/plain": [
       "\"relationship mother                  18900 son                     18207 daughter                18010 sister                  12234 wife                    11190 husband                  9563 brother                  7768 father                   6738 spouse                   3311 child                    1567 parent                    627 friend                    393 niece                     369 nephew                    313 cousin                    309 aunt                      220 partner                   203 sibling                   199 fiance                    137 guardian                  117 fiancee                   100 uncle                      85 grandson                   74 grandmother                61 family                     51 self                       42 -                          40 estate                     39 grand daughter             31 granddaughter              29 dad                        29 mum                        27 girlfriend                 26 doughter                   25 relative                   18 boyfriend                  17 grandchild                 16 aunty                      16 member                     15 business partner           15 auntie                     14 sister in law              12 grandfather                11 gurdian                    11 mom                        11 kid                        10 so                         10 grand-daughter              9 trustee                     8 grand mother                8 s0n                         8 single                      7 colleague                   7 grand child                 7 patner                      6 spouce                      6 parents                     5 100                         5 daughetr                    4 owner                       4 grand-mother                4 dependant                   4 married                     4 0                           4 grand son                   4 foster daughter             4 spause                      3 daugther                    3 my son                      3 daighter                    3 minor                       3 grand father                3 bus. partner                3 in law                      3 parentchild                 3 na                          3 sister in-law               2 baby mama                   2 vm                          2 girl friend                 2 contact person              2 granddaugter                2 m                           2 guardina                    2 sister-guardian             2 brother-in-law              2 ex-wife                     2 b/s partner                 2 children                    2 mather                      2 chid                        2 son/brother                 2 spuose                      2 brother in law              2 associate                   2 cousins                     2 mother-in-law               2 c/o arianna                 2 50                          2 step-mother                 2 parner                      2 siblings                    2 myself                      2 sister-in-law               2 in-law                      2 chils                       2 daughter-in-law             2 vhild                       2 depedant                    2 1226805243;130143346        2 mothers                     2 god mother                  2 confidant                   2 close friend                2 grandma                     2 daugher                     2 sis                         2 beneficiary                 2 ex wife                     1 godmother                   1 m,                          1 lawyer                      1 sistet                      1 grandparent                 1 chld                        1 mother- guardian            1 ass0ciate                   1 grand.daughter              1 bother                      1 bro                         1 sister - guardian           1 parwnt                      1 sons                        1 sister(guardian)            1 b inlaw                     1 next of kin                 1 siibling                    1 me                          1 adminstrator                1 domestic partner            1 employee                    1 directors                   1 religious community         1 custodian                   1 spose                       1 daughte                     1 domesticpartner             1 step-brother                1 mother to evan              1 grand-son                   1 sister-inlaw                1 g/daughter                  1 stepson                     1 mother's                    1 fiacee                      1 sd                          1 mother of child             1 childnephew                 1 fath                        1 babymother                  1 faither                     1 254701361835                1 contingent                  1 da                          1 dauhgter                    1 hubby                       1 sp0use                      1 foster parent               1 wife/guardian               1 21761402                    1 spouse20                    1 parenchild                  1 saving partner              1 advisor                     1 mentor                      1 brother and sister          1 sibbling                    1                             1 chiild                      1 dspouse                     1 executor                    1 hu                          1 ewife                       1 spoudse                     1 sopouse                     1 9266025                     1 pare nt                     1 254700442162                1 best friend                 1 granchild                   1 sister- custodian           1 well wisher                 1 comapanion                  1 parnt                       1 cousn                       1 f                           1 spiritual father            1 ;son                        1 others                      1 fiancé                      1 joint partner               1 administrator               1 33                          1 girlfried                   1 brestfriend                 1 finance                     1 daughter in law             1 child minor                 1 sisiter                     1 baby                        1 254708368426                1 morher                      1 33.4                        1 chilf                       1 254727756559                1 0720401466                  1 father-in-law               1 principal                   1 junior                      1 dgrand daughter             1 coworker                    1 d100                        1 nmo                         1 husband/spouse              1 2021                        1 moth                        1 un,cle                      1 chil                        1 15                          1 engaged                     1 son/sister                  1 xena's guardian             1 sister-in law               1 person                      1 c/o                         1 step mother                 1 nice                        1 ciru                        1 som                         1 dau`                        1 clousin                     1 19112004                    1 twinsister                  1 mo9                         1 granson                     1 companion                   1 nolan's guardian            1 myson                       1 granny                      1 bishop                      1 'm                          1 silbling                    1 mother to son               1 daughter/child              1 freinf                      1 marriage                    1 254723993458                1 closefriend                 1 fiane                       1 guadian                     1 grandpa                     1 daughter33                  1 dating                      1 mwas                        1 step-mom                    1 guardian-mother             1\""
      ]
     },
     "execution_count": 17,
     "metadata": {},
     "output_type": "execute_result"
    }
   ],
   "source": [
    "# Convert values in the 'relationship' column to lowercase and remove any extra spaces\n",
    "df['relationship'] = df['relationship'].str.lower().str.strip()\n",
    "\n",
    "# Get the counts of each unique value in the 'relationship' column,\n",
    "# then format the output as a single line string\n",
    "df['relationship'].value_counts().to_string().replace(\"\\n\", \" \")"
   ]
  },
  {
   "cell_type": "code",
   "execution_count": 18,
   "metadata": {},
   "outputs": [
    {
     "data": {
      "text/plain": [
       "0"
      ]
     },
     "execution_count": 18,
     "metadata": {},
     "output_type": "execute_result"
    }
   ],
   "source": [
    "# Replace any missing values in the 'relationship' column with 'son'\n",
    "df['relationship'] = df['relationship'].fillna('son')\n",
    "\n",
    "# Check if there are any remaining missing values in the 'relationship' column\n",
    "df['relationship'].isna().sum()\n"
   ]
  },
  {
   "cell_type": "markdown",
   "metadata": {},
   "source": [
    "To organize and standardize relationship values in the dataset, we define categories for mapping different variations of relationship terms. This approach creates a consistent structure by grouping terms like \"spouse,\" \"child,\" \"sibling,\" etc., into predefined categories. By applying this mapping, we ensure that any variations in spelling, formatting, or synonymous terms are aligned under a single label.\n",
    "\n",
    "The following code accomplishes this by:\n",
    "\n",
    "Defining a dictionary (relationship_map) that assigns potential variations of relationship terms to specific categories.\n",
    "Creating a function (map_relationship) that checks each entry in the relationship column against the keywords in relationship_map.\n",
    "Applying this function to the column to classify each entry according to the defined categories.\n",
    "Finally, we display the count of values in each category to confirm the classification distribution."
   ]
  },
  {
   "cell_type": "code",
   "execution_count": 19,
   "metadata": {},
   "outputs": [
    {
     "name": "stdout",
     "output_type": "stream",
     "text": [
      "relationship\n",
      "child           52152\n",
      "parent          26352\n",
      "partner         24578\n",
      "sibling         20240\n",
      "relative         1534\n",
      "friends           396\n",
      "other             392\n",
      "guardian          128\n",
      "professional       67\n",
      "self               49\n",
      "Name: count, dtype: int64\n"
     ]
    }
   ],
   "source": [
    "# Convert all entries to lower case and strip whitespace for uniformity\n",
    "df['relationship'] = df['relationship'].str.lower().str.strip()\n",
    "\n",
    "# Mapping dictionary\n",
    "relationship_map = {\n",
    "    'partner': [\n",
    "        'partner', 'spouse', 'sp0use','husband', 'wife', 'fiancee', 'ex-wife', 'spouce', 'fiancé',\n",
    "        'husband ', 'sponse', 'spouse ', 'wiFe', 'wifE', 'wife ', 'spouse', 'married', 'marriage',\n",
    "        'husband/spouse', 'ex-wife', 'fiance ', 'fiance', 'married ', 'myson', 'baby mama ',\n",
    "        'fiancee ', 'souse', 'hubby', 'dating', 'boyfriend', 'girlfriend', 'ex wife', 'boyfriend ',\n",
    "        'girlfriend ', 'wife/guardian', 'ex husband', 'girl friend', 'fiancée', 'sopouse', 'spoudse',\n",
    "        'soPOUSE', 'spause', 'sposue', 'ex husband', 'love', 'b/f', 'g/f', 'divorcee', 'ex spouse',\n",
    "        'bf', 'gf', 'b/f', 'g/f', 'fiancé ', 'domesticpartner', 'domestic partner', 'dating', 'exwife',\n",
    "        'exhusband', 'wive', 'husb', 'exspouse', 'partner ', 'significant other', 'fiancee','companion','Partner',\n",
    "        'Husband ', 'Husband',  'Wife',   'SPOUSE' , 'Spouse ', 'WIfe', 'Spouse',  'wife', 'Wife ', 'spouse', 'partner',\n",
    "        'HUSBAND', 'husband', 'husband ',  'SP0USE' , 'SPOUSE ',  'wife ',\n",
    "        'spouse ', 'Partner ' , 'FIANCEE', 'Fiancee',  'HUSBAND ',  'FIANCE', \n",
    "        'wIFE', 'PARTNER',  'Domestic Partner', 'PATNER', 'Fiance ', 'PARTNER ',  'hUSBAND',  'Boyfriend ',\n",
    "        'WIFE ', 'fiancee', 'JOINT PARTNER', 'Fiancé ' , 'Husband/spouse', 'SPOUCE',  'Patner', 'Spouce',  \n",
    "        'Fiance', 'BOYFRIEND', 'EX-WIFE',  'PARNT',  'GIRLFRIED'\n",
    "    ],\n",
    "    'child': [\n",
    "        'child', 'kid', 'daughter', 'son', 'children', 'daughter33', 'doughter', 'daugther', 'doughter ',\n",
    "        'daugther', 'son ', 'daughter ', 'child minor', 'kids', 'baby', 'infant', 'toddler', 'sonS',\n",
    "        'minor', 'child ', 'son/sister', 'chid', 'newborn', 'son/brother', 'childnephew',\n",
    "        'chils', 'chiLD', 'kID', 'dau`', 'daugher', 'childnephew', 'my son','child', 'son', 'dau', \n",
    "        'daughter', 'daughter33', 'my son', 'infant', 'childnephew', 'kids', 'baby', 'ChiLD', 'CHID',\n",
    "        'sON', 'cHILS', 'CHID', 'CHIILD', 'KID', 'FOSTER' 'DAUGHTER', 'CHILD MINOR', 'MINOR', 'CHILDREN', \n",
    "        'SOM', 'CHILDREN', 'JUNIOR', 'BABY',  'CHIL', 'DAUGHTER/CHILDDAUGHER', 'CHILF', 'DOUGHTER', 'DAIGHTER', \n",
    "        'DAUGHTE', 'DAUGHETR', 'S0N','MYSON','child','CHILD','Child ','DAUGHTER/CHILD','child ','CHILD MINOR',\n",
    "        'CHILD ','children','CHILDREN','ChILD','ChiLD'\n",
    "    ],\n",
    "    'parent': [\n",
    "        'mother', 'mom', 'mum', 'father', 'dad', 'parent', 'parents', 'mother ', 'father ', 'mOTHER',\n",
    "        'dad ', 'mum ', 'mom ', 'mummy', 'daddy', 'papa', 'mama', 'mother in law', 'father in law',\n",
    "        'mothers', 'fathers', 'moms', 'mums', 'father-in-law', 'mother-in-law', 'mommy', 'dadi', 'momi',\n",
    "        'parent ', 'mother to son', 'mother of child', 'parents', 'mother- guardian', 'father - guardian',\n",
    "        'parentchild', 'parental', 'parenthood', 'parenting', 'mother IN LAW', 'mom in law', 'dad in law',\n",
    "        'mum in law', 'parenting', 'fatherhood', 'motherhood', 'parent ', 'grandparent', 'step mother',\n",
    "        'step father', 'step-mother', 'step-father','Parent', 'Parents', 'Mother', 'Mothers', 'Mom', 'Mum', \n",
    "        'Father', 'DAD', 'Dad', 'Guardian', 'Grandmother', 'Grandfather', 'Step-mother', 'Step-father', 'Foster parent',\n",
    "        'Mother-in-law', 'Father-in-law', 'ParentChild', 'Mama', 'Mummy', 'Dadi', 'Mother TO SON', 'PARENT', 'MOther'\n",
    "    ],\n",
    "    'self': [\n",
    "        'self', 'owner', 'me', 'myself', 'self ', 'owner ', 'i', 'myself ', 'personal', 'individual',\n",
    "        'own', 'my own', 'self-employed', 'proprietor', 'me ', 'self employed', 'self own', 'personal account',\n",
    "        'my account', 'own account'\n",
    "    ],\n",
    "    'guardian': [\n",
    "        'guardian', 'custodian', 'trustee', 'guard', 'guardian ', 'custodian ', 'trustee ', 'guard ',\n",
    "        'legal guardian', 'guardianship', 'custodianship', 'trusteeship', 'protector', 'caregiver',\n",
    "        'conservator','conservator', 'foster parent', 'foster guardian', 'legal custodian', 'guardian-mother', 'guardian father'\n",
    "    ],\n",
    "    'sibling': [\n",
    "        'siblings', 'brother', 'sister', 'sibling', 'brother ', 'sister ', 'bro', 'sis', 'brothers', 'sisters',\n",
    "        'sibling ', 'brother-in-law', 'sister-in-law', 'sibling in law', 'brother and sister', 'sibbling',\n",
    "        'siBLING', 'sibblings', 'sister in law', 'brother in law', 'sister/guardian', 'sister - guardian',\n",
    "        'sister-guardian', 'bros', 'sisses', 'step-sister', 'step-brother', 'half-sister', 'half-brother', 'broski','Sister', 'Brother ','brother', 'sister',\n",
    "       'Sister ', 'SISTER','Sibling', 'brother ','Sibling ','SISTER ','Sistet', 'Bro', 'Sis', 'SiBLING',\n",
    "        'SIBLING',  's0n', 'sister ''sISTER', 'sisiter', ' BROTHER','BRother', 'SisteR', 'SIS', \n",
    "       'som',\n",
    "       'Sister- Custodian', \n",
    "       'SIIBLING', 'SIBLINGS','Brother and sister',\n",
    "       'Sibbling'\n",
    "    ],\n",
    "    'relative': [\n",
    "        'cousin', 'nephew', 'grand child', 'niece', 'grandmother', 'granddaughter', 'grandson', 'grandfather', 'uncles', 'aunties',\n",
    "        'aunt', 'uncle', 'granny', 'grandparent', 'grand child', 'relative', 'relatives', 'cousins', 'uncles',\n",
    "        'aunties', 'aunts', 'grandparents', 'great grandmother', 'great grandfather', 'grand children', 'extended family',\n",
    "        'grandmother ', 'grandfather ', 'nephew ', 'niece ', 'cousin ', 'aunt ', 'uncle ', 'granny ', 'granddaughter ',\n",
    "        'grandson ', 'grandchild', 'grandchild ', 'grandchildren', 'grandkids', 'great grandparent', 'ancestors', 'descendants',\n",
    "        'kin', 'kinship', 'next of kin', 'in-laws', 'inlaw', 'in laws', 'extended relatives', 'b inlaw', 'in law','family tree', 'Cousin', ' Grand daughter', 'Nephew', 'NIECE', 'Niece', 'AUNT', 'relative', 'AUNTIE', 'B INLAW', 'COUSIN', 'aunt', 'UNCLE', 'GRAND SON', 'Nephew ', 'Cousin ', 'nephew', 'GRAND DAUGHTER', 'Niece ', 'granddaughter', 'grandson', 'RELATIVE', 'Daughter-in-law ', 'GRANDMOTHER', 'Relative ', 'uncle',\n",
    "'NEPHEW', 'Grand daughter', 'DAUGHTER-IN-LAW', 'COUSN', 'Uncle', 'Granddaughter ', 'Aunt ', 'cousin', 'GRANDSON ', 'uncle ', 'AUNTY', 'FATHER-IN-LAW', 'GRAND FATHER', 'DGRAND DAUGHTER', 'GRAND MOTHER', 'UN,CLE', 'GRAND CHILD', 'Sister in law', 'Grand Daughter', 'GRANDDAUGTER', 'NiecE', 'Brother-IN-LAW', 'Grand mother', 'GRANDFATHER', 'Daughter in law', 'Sister-IN-LAW', 'GRAND-DAUGHTER', 'GRANNY', \n",
    "'GRANDCHILD', 'Aunty', 'Cousins', 'Cousins ', 'Auntie', 'GRANDPA', 'Brother in Law', 'IN LAW', 'Granddaughter', 'niece', 'Grand Son', 'Sister-in law', 'CLOUSIN', 'GRANSON', 'Sister IN LAW', 'Brother-in-law', 'Sister-Inlaw', 'Brother in law', 'GRAND-MOTHER', 'Grand-mother', 'Mother-in-law', 'SISTER IN LAW ', 'Grand mother ', 'Childnephew', 'Grand daughter ', 'auntie', 'In law', 'Sister in-law', 'Aunty '\n",
    "    ],\n",
    "    'friends': ['friend','closefriend', 'confidant', 'friend ',\n",
    "        'peers', 'acquaintance', 'comrade', 'pal', 'buddy', 'mate', 'fellow', 'ally', 'supporter',\n",
    "        'confidante', 'friend of the family', 'family friend',\n",
    "        'peer', 'companion', 'companions'\n",
    "    ],\n",
    "    'professional':['colleague', 'coworker', 'partner in law',\n",
    "        'associate', 'advisor', 'mentor', 'colleague ', 'coworker ',\n",
    "        'associate ', 'colleague', 'professional', 'mentor', 'adviser', 'counselor', 'legal representative', 'executor', 'business partner',\n",
    "        'co-worker', 'workmate', 'teammate',\n",
    "        'partner in business', 'business associate', 'collaborator', 'collegue','estate'\n",
    "    ],\n",
    "    'other': ['spiritual advisor','sponsor'\n",
    "    ]\n",
    "}\n",
    "\n",
    "# Function to apply the mapping\n",
    "def map_relationship(value):\n",
    "    for category, keywords in relationship_map.items():\n",
    "        if any(keyword == value for keyword in keywords):\n",
    "            return category\n",
    "    return 'other'  # Default category if no matches found\n",
    "\n",
    "# Apply the mapping function to the 'relationship' column\n",
    "df['relationship'] = df['relationship'].apply(map_relationship)\n",
    "\n",
    "# Show the value counts of each category\n",
    "print(df['relationship'].value_counts())"
   ]
  },
  {
   "cell_type": "code",
   "execution_count": 20,
   "metadata": {},
   "outputs": [
    {
     "data": {
      "text/plain": [
       "Index(['member_no', 'dob', 'gender', 'town', 'relationship', 'beneficiery_dob',\n",
       "       'portfolio'],\n",
       "      dtype='object')"
      ]
     },
     "execution_count": 20,
     "metadata": {},
     "output_type": "execute_result"
    }
   ],
   "source": [
    "#checking the columns in the dataframe\n",
    "df.columns"
   ]
  },
  {
   "cell_type": "code",
   "execution_count": 21,
   "metadata": {},
   "outputs": [
    {
     "data": {
      "text/plain": [
       "gender\n",
       "Female    83178\n",
       "Male      42480\n",
       "F            92\n",
       "M            48\n",
       "FEMALE        4\n",
       "MALE          4\n",
       "Name: count, dtype: int64"
      ]
     },
     "execution_count": 21,
     "metadata": {},
     "output_type": "execute_result"
    }
   ],
   "source": [
    "#inspecting the value_counts in the gender column\n",
    "df.gender.value_counts()"
   ]
  },
  {
   "cell_type": "code",
   "execution_count": 22,
   "metadata": {},
   "outputs": [
    {
     "data": {
      "text/plain": [
       "82"
      ]
     },
     "execution_count": 22,
     "metadata": {},
     "output_type": "execute_result"
    }
   ],
   "source": [
    "#checking for null values\n",
    "df.gender.isna().sum()"
   ]
  },
  {
   "cell_type": "code",
   "execution_count": 23,
   "metadata": {},
   "outputs": [
    {
     "data": {
      "text/plain": [
       "0"
      ]
     },
     "execution_count": 23,
     "metadata": {},
     "output_type": "execute_result"
    }
   ],
   "source": [
    "#fill the null values with the 'Female' gender\n",
    "df['gender']=df.gender.fillna('Female')\n",
    "df['gender'].isna().sum()"
   ]
  },
  {
   "cell_type": "markdown",
   "metadata": {},
   "source": [
    "To standardize entries in the gender column, we create a dictionary to map various formats of \"Male\" and \"Female\" into consistent labels. This step ensures uniformity across the dataset, which is essential for accurate analysis.\n",
    "\n",
    "The process involves:\n",
    "\n",
    "Defining a gender_map dictionary where different versions of \"Male\" and \"Female\" are assigned to a single, standardized label.\n",
    "Using the replace function to apply this mapping to the gender column and store the cleaned values in a new column, gender_mapped.\n",
    "This streamlined approach produces a clean and uniform gender_mapped column ready for analysis."
   ]
  },
  {
   "cell_type": "code",
   "execution_count": 24,
   "metadata": {},
   "outputs": [],
   "source": [
    "gender_map = {\n",
    "    'Female':'Female','F':'Female','FEMALE':'Female',\n",
    "    'Male':'Male','M':'Male','MALE':'Male',\n",
    "}\n",
    "\n",
    "df['gender_mapped'] = df['gender'].replace(gender_map)"
   ]
  },
  {
   "cell_type": "code",
   "execution_count": 25,
   "metadata": {},
   "outputs": [
    {
     "data": {
      "text/html": [
       "<div>\n",
       "<style scoped>\n",
       "    .dataframe tbody tr th:only-of-type {\n",
       "        vertical-align: middle;\n",
       "    }\n",
       "\n",
       "    .dataframe tbody tr th {\n",
       "        vertical-align: top;\n",
       "    }\n",
       "\n",
       "    .dataframe thead th {\n",
       "        text-align: right;\n",
       "    }\n",
       "</style>\n",
       "<table border=\"1\" class=\"dataframe\">\n",
       "  <thead>\n",
       "    <tr style=\"text-align: right;\">\n",
       "      <th></th>\n",
       "      <th>member_no</th>\n",
       "      <th>dob</th>\n",
       "      <th>gender</th>\n",
       "      <th>town</th>\n",
       "      <th>relationship</th>\n",
       "      <th>beneficiery_dob</th>\n",
       "      <th>portfolio</th>\n",
       "      <th>gender_mapped</th>\n",
       "    </tr>\n",
       "  </thead>\n",
       "  <tbody>\n",
       "    <tr>\n",
       "      <th>0</th>\n",
       "      <td>99996</td>\n",
       "      <td>1998-04-06 00:00:00</td>\n",
       "      <td>Female</td>\n",
       "      <td>NAIROBI</td>\n",
       "      <td>partner</td>\n",
       "      <td>1998-01-26</td>\n",
       "      <td>Money Market</td>\n",
       "      <td>Female</td>\n",
       "    </tr>\n",
       "    <tr>\n",
       "      <th>14</th>\n",
       "      <td>99996</td>\n",
       "      <td>1998-04-06 00:00:00</td>\n",
       "      <td>Female</td>\n",
       "      <td>NAIROBI</td>\n",
       "      <td>sibling</td>\n",
       "      <td>2001-03-04</td>\n",
       "      <td>Money Market</td>\n",
       "      <td>Female</td>\n",
       "    </tr>\n",
       "    <tr>\n",
       "      <th>28</th>\n",
       "      <td>99994</td>\n",
       "      <td>1966-01-01 00:00:00</td>\n",
       "      <td>Female</td>\n",
       "      <td>NaN</td>\n",
       "      <td>partner</td>\n",
       "      <td>1962-01-01</td>\n",
       "      <td>Money Market</td>\n",
       "      <td>Female</td>\n",
       "    </tr>\n",
       "    <tr>\n",
       "      <th>40</th>\n",
       "      <td>99993</td>\n",
       "      <td>1974-01-01 00:00:00</td>\n",
       "      <td>Female</td>\n",
       "      <td>NAIROBI</td>\n",
       "      <td>partner</td>\n",
       "      <td>1970-09-29</td>\n",
       "      <td>Money Market</td>\n",
       "      <td>Female</td>\n",
       "    </tr>\n",
       "    <tr>\n",
       "      <th>70</th>\n",
       "      <td>99993</td>\n",
       "      <td>1974-01-01 00:00:00</td>\n",
       "      <td>Female</td>\n",
       "      <td>NAIROBI</td>\n",
       "      <td>child</td>\n",
       "      <td>1994-01-01</td>\n",
       "      <td>Money Market</td>\n",
       "      <td>Female</td>\n",
       "    </tr>\n",
       "  </tbody>\n",
       "</table>\n",
       "</div>"
      ],
      "text/plain": [
       "    member_no                  dob  gender     town relationship  \\\n",
       "0       99996  1998-04-06 00:00:00  Female  NAIROBI      partner   \n",
       "14      99996  1998-04-06 00:00:00  Female  NAIROBI      sibling   \n",
       "28      99994  1966-01-01 00:00:00  Female      NaN      partner   \n",
       "40      99993  1974-01-01 00:00:00  Female  NAIROBI      partner   \n",
       "70      99993  1974-01-01 00:00:00  Female  NAIROBI        child   \n",
       "\n",
       "   beneficiery_dob     portfolio gender_mapped  \n",
       "0       1998-01-26  Money Market        Female  \n",
       "14      2001-03-04  Money Market        Female  \n",
       "28      1962-01-01  Money Market        Female  \n",
       "40      1970-09-29  Money Market        Female  \n",
       "70      1994-01-01  Money Market        Female  "
      ]
     },
     "execution_count": 25,
     "metadata": {},
     "output_type": "execute_result"
    }
   ],
   "source": [
    "#inspecting the cleaned df\n",
    "df.head()"
   ]
  },
  {
   "cell_type": "code",
   "execution_count": 26,
   "metadata": {},
   "outputs": [
    {
     "data": {
      "text/plain": [
       "dob\n",
       "1962-01-01             541\n",
       "1960-01-01             360\n",
       "1968-01-01             320\n",
       "1974-01-01             311\n",
       "1970-01-01             311\n",
       "                      ... \n",
       "1965-10-05               1\n",
       "2002-06-13               1\n",
       "1939-03-24               1\n",
       "1964-06-13               1\n",
       "1965-05-07 00:00:00      1\n",
       "Name: count, Length: 19092, dtype: int64"
      ]
     },
     "execution_count": 26,
     "metadata": {},
     "output_type": "execute_result"
    }
   ],
   "source": [
    "#age distribution based on dob(date of birth)\n",
    "df.dob.value_counts()"
   ]
  },
  {
   "cell_type": "code",
   "execution_count": 27,
   "metadata": {},
   "outputs": [
    {
     "data": {
      "text/plain": [
       "beneficiery_dob\n",
       "1899-12-30    1854\n",
       "1962-01-01     584\n",
       "1970-01-01     562\n",
       "1960-01-01     488\n",
       "1963-01-01     475\n",
       "              ... \n",
       "1952-07-11       1\n",
       "1956-01-14       1\n",
       "1954-03-11       1\n",
       "1990-02-09       1\n",
       "1969-06-22       1\n",
       "Name: count, Length: 27488, dtype: int64"
      ]
     },
     "execution_count": 27,
     "metadata": {},
     "output_type": "execute_result"
    }
   ],
   "source": [
    "#age distribution based on beneficiary_dob(date of birth)\n",
    "df.beneficiery_dob.value_counts()"
   ]
  },
  {
   "cell_type": "code",
   "execution_count": 28,
   "metadata": {},
   "outputs": [
    {
     "data": {
      "text/plain": [
       "0"
      ]
     },
     "execution_count": 28,
     "metadata": {},
     "output_type": "execute_result"
    }
   ],
   "source": [
    "#fill with the modal age\n",
    "df['dob'] = df.dob.fillna('1962-01-01')\n",
    "df.dob.isna().sum()"
   ]
  },
  {
   "cell_type": "markdown",
   "metadata": {},
   "source": [
    "---\n",
    "\n",
    "To compute ages from the dates of birth in our dataset, we:\n",
    "\n",
    "1. **Convert Dates of Birth:** The `dob` and `beneficiery_dob` columns are first converted to datetime format to ensure proper date handling. If a date cannot be converted, it is set to `NaT` (missing).\n",
    "  \n",
    "2. **Define Age Calculation Function:** A helper function, `calculate_age`, computes the age by subtracting the birth year from the current year and adjusting for birthdays that have not yet occurred this year.\n",
    "\n",
    "3. **Apply Function to Columns:** The function is applied to both `dob` and `beneficiery_dob` to create two new columns: `member_age` and `beneficiery_age`, which store the calculated ages.\n",
    "\n",
    "Finally, the resulting columns are previewed to verify successful age computation."
   ]
  },
  {
   "cell_type": "code",
   "execution_count": 29,
   "metadata": {},
   "outputs": [
    {
     "name": "stdout",
     "output_type": "stream",
     "text": [
      "          dob  member_age beneficiery_dob  beneficiery_age\n",
      "0  1998-04-06        26.0      1998-01-26             26.0\n",
      "14 1998-04-06        26.0      2001-03-04             23.0\n",
      "28 1966-01-01        58.0      1962-01-01             62.0\n",
      "40 1974-01-01        50.0      1970-09-29             54.0\n",
      "70 1974-01-01        50.0      1994-01-01             30.0\n"
     ]
    }
   ],
   "source": [
    "# Convert the dob column to datetime format\n",
    "df['dob'] = pd.to_datetime(df['dob'], errors='coerce')\n",
    "\n",
    "# Function to calculate age\n",
    "def calculate_age(birth_date):\n",
    "    if pd.isnull(birth_date):\n",
    "        return None\n",
    "    today = datetime.today()\n",
    "    return today.year - birth_date.year - ((today.month, today.day) < (birth_date.month, birth_date.day))\n",
    "\n",
    "# Apply the function to calculate member age\n",
    "df['member_age'] = df['dob'].apply(calculate_age)\n",
    "\n",
    "# Convert beneficiery_dob column to datetime and calculate beneficiary age similarly\n",
    "df['beneficiery_dob'] = pd.to_datetime(df['beneficiery_dob'], errors='coerce')\n",
    "df['beneficiery_age'] = df['beneficiery_dob'].apply(calculate_age)\n",
    "\n",
    "# Check results\n",
    "print(df[['dob', 'member_age', 'beneficiery_dob', 'beneficiery_age']].head())"
   ]
  },
  {
   "cell_type": "code",
   "execution_count": 30,
   "metadata": {},
   "outputs": [
    {
     "data": {
      "text/plain": [
       "count    106827.00000\n",
       "mean         37.85996\n",
       "std          22.19291\n",
       "min        -178.00000\n",
       "25%          24.00000\n",
       "50%          36.00000\n",
       "75%          53.00000\n",
       "max         329.00000\n",
       "Name: beneficiery_age, dtype: float64"
      ]
     },
     "execution_count": 30,
     "metadata": {},
     "output_type": "execute_result"
    }
   ],
   "source": [
    "# Display summary statistics for the 'beneficiery_age' column to understand the age distribution of beneficiaries\n",
    "df.beneficiery_age.describe()"
   ]
  },
  {
   "cell_type": "code",
   "execution_count": 31,
   "metadata": {},
   "outputs": [
    {
     "data": {
      "text/plain": [
       "portfolio\n",
       "Money Market     119710\n",
       "Equity Fund        2014\n",
       "Dollar Fund        1480\n",
       "Balanced Fund      1180\n",
       "Fixed Income       1101\n",
       "Wealth Fund         398\n",
       "MoneyMarket           1\n",
       "Name: count, dtype: int64"
      ]
     },
     "execution_count": 31,
     "metadata": {},
     "output_type": "execute_result"
    }
   ],
   "source": [
    "#display the portfolio allocation \n",
    "df.portfolio.value_counts()"
   ]
  },
  {
   "cell_type": "code",
   "execution_count": 32,
   "metadata": {},
   "outputs": [
    {
     "data": {
      "text/plain": [
       "0"
      ]
     },
     "execution_count": 32,
     "metadata": {},
     "output_type": "execute_result"
    }
   ],
   "source": [
    "#fill with the mode\n",
    "df['portfolio']=df.portfolio.fillna('Money Market')\n",
    "df.portfolio.isna().sum()"
   ]
  },
  {
   "cell_type": "markdown",
   "metadata": {},
   "source": [
    "---\n",
    "\n",
    "1. **Portfolio Mapping:** It defines a dictionary (`portfolio_map`) that standardizes various portfolio names in the `portfolio` column. For instance, entries like \"Money Mrket\" and \"MoneyMarket\" are all mapped to \"Money Market,\" ensuring consistency across the dataset.\n",
    "\n",
    "2. **Replace Portfolio Values:** The `replace` function is then applied to the `portfolio` column, replacing any of the portfolio variations with their standardized labels as defined in the `portfolio_map` dictionary.\n",
    "\n",
    "3. **Create New Column:** The standardized portfolio names are saved in a new column, `portfolio_map`, in the dataframe.\n",
    "\n"
   ]
  },
  {
   "cell_type": "code",
   "execution_count": 33,
   "metadata": {},
   "outputs": [],
   "source": [
    "#clean up the portfolio column\n",
    "portfolio_map ={\n",
    "    'Money Mrket':'Money Market','MoneyMarket':'Money Market',\n",
    "    'Equity Fund':'Equity Fund',\n",
    "    'Dollar Fund':'Dollar Fund',\n",
    "    'Balanced Fund':'Balanced Fund',\n",
    "    'Fixed Income':'Fixed Income',\n",
    "    'Wealth Fund':'Wealth Fund',\n",
    "}\n",
    "df['portfolio_map'] = df['portfolio'].replace(portfolio_map)"
   ]
  },
  {
   "cell_type": "code",
   "execution_count": 34,
   "metadata": {},
   "outputs": [
    {
     "data": {
      "text/html": [
       "<div>\n",
       "<style scoped>\n",
       "    .dataframe tbody tr th:only-of-type {\n",
       "        vertical-align: middle;\n",
       "    }\n",
       "\n",
       "    .dataframe tbody tr th {\n",
       "        vertical-align: top;\n",
       "    }\n",
       "\n",
       "    .dataframe thead th {\n",
       "        text-align: right;\n",
       "    }\n",
       "</style>\n",
       "<table border=\"1\" class=\"dataframe\">\n",
       "  <thead>\n",
       "    <tr style=\"text-align: right;\">\n",
       "      <th></th>\n",
       "      <th>member_no</th>\n",
       "      <th>dob</th>\n",
       "      <th>gender</th>\n",
       "      <th>town</th>\n",
       "      <th>relationship</th>\n",
       "      <th>beneficiery_dob</th>\n",
       "      <th>portfolio</th>\n",
       "      <th>gender_mapped</th>\n",
       "      <th>member_age</th>\n",
       "      <th>beneficiery_age</th>\n",
       "      <th>portfolio_map</th>\n",
       "    </tr>\n",
       "  </thead>\n",
       "  <tbody>\n",
       "    <tr>\n",
       "      <th>0</th>\n",
       "      <td>99996</td>\n",
       "      <td>1998-04-06</td>\n",
       "      <td>Female</td>\n",
       "      <td>NAIROBI</td>\n",
       "      <td>partner</td>\n",
       "      <td>1998-01-26</td>\n",
       "      <td>Money Market</td>\n",
       "      <td>Female</td>\n",
       "      <td>26.0</td>\n",
       "      <td>26.0</td>\n",
       "      <td>Money Market</td>\n",
       "    </tr>\n",
       "    <tr>\n",
       "      <th>14</th>\n",
       "      <td>99996</td>\n",
       "      <td>1998-04-06</td>\n",
       "      <td>Female</td>\n",
       "      <td>NAIROBI</td>\n",
       "      <td>sibling</td>\n",
       "      <td>2001-03-04</td>\n",
       "      <td>Money Market</td>\n",
       "      <td>Female</td>\n",
       "      <td>26.0</td>\n",
       "      <td>23.0</td>\n",
       "      <td>Money Market</td>\n",
       "    </tr>\n",
       "    <tr>\n",
       "      <th>28</th>\n",
       "      <td>99994</td>\n",
       "      <td>1966-01-01</td>\n",
       "      <td>Female</td>\n",
       "      <td>NaN</td>\n",
       "      <td>partner</td>\n",
       "      <td>1962-01-01</td>\n",
       "      <td>Money Market</td>\n",
       "      <td>Female</td>\n",
       "      <td>58.0</td>\n",
       "      <td>62.0</td>\n",
       "      <td>Money Market</td>\n",
       "    </tr>\n",
       "    <tr>\n",
       "      <th>40</th>\n",
       "      <td>99993</td>\n",
       "      <td>1974-01-01</td>\n",
       "      <td>Female</td>\n",
       "      <td>NAIROBI</td>\n",
       "      <td>partner</td>\n",
       "      <td>1970-09-29</td>\n",
       "      <td>Money Market</td>\n",
       "      <td>Female</td>\n",
       "      <td>50.0</td>\n",
       "      <td>54.0</td>\n",
       "      <td>Money Market</td>\n",
       "    </tr>\n",
       "    <tr>\n",
       "      <th>70</th>\n",
       "      <td>99993</td>\n",
       "      <td>1974-01-01</td>\n",
       "      <td>Female</td>\n",
       "      <td>NAIROBI</td>\n",
       "      <td>child</td>\n",
       "      <td>1994-01-01</td>\n",
       "      <td>Money Market</td>\n",
       "      <td>Female</td>\n",
       "      <td>50.0</td>\n",
       "      <td>30.0</td>\n",
       "      <td>Money Market</td>\n",
       "    </tr>\n",
       "  </tbody>\n",
       "</table>\n",
       "</div>"
      ],
      "text/plain": [
       "    member_no        dob  gender     town relationship beneficiery_dob  \\\n",
       "0       99996 1998-04-06  Female  NAIROBI      partner      1998-01-26   \n",
       "14      99996 1998-04-06  Female  NAIROBI      sibling      2001-03-04   \n",
       "28      99994 1966-01-01  Female      NaN      partner      1962-01-01   \n",
       "40      99993 1974-01-01  Female  NAIROBI      partner      1970-09-29   \n",
       "70      99993 1974-01-01  Female  NAIROBI        child      1994-01-01   \n",
       "\n",
       "       portfolio gender_mapped  member_age  beneficiery_age portfolio_map  \n",
       "0   Money Market        Female        26.0             26.0  Money Market  \n",
       "14  Money Market        Female        26.0             23.0  Money Market  \n",
       "28  Money Market        Female        58.0             62.0  Money Market  \n",
       "40  Money Market        Female        50.0             54.0  Money Market  \n",
       "70  Money Market        Female        50.0             30.0  Money Market  "
      ]
     },
     "execution_count": 34,
     "metadata": {},
     "output_type": "execute_result"
    }
   ],
   "source": [
    "#check the new_df\n",
    "df.head()"
   ]
  },
  {
   "cell_type": "code",
   "execution_count": 35,
   "metadata": {},
   "outputs": [
    {
     "data": {
      "text/plain": [
       "15026"
      ]
     },
     "execution_count": 35,
     "metadata": {},
     "output_type": "execute_result"
    }
   ],
   "source": [
    "#inspecting the null values in the town column\n",
    "df.town.isna().sum()"
   ]
  },
  {
   "cell_type": "code",
   "execution_count": 36,
   "metadata": {},
   "outputs": [
    {
     "data": {
      "text/plain": [
       "town\n",
       "NAIROBI                                    56997\n",
       "Nairobi                                    10261\n",
       "THIKA                                       3000\n",
       "NAKURU                                      2608\n",
       "MOMBASA                                     2440\n",
       "                                           ...  \n",
       "KABETE                                         1\n",
       "Makueni                                        1\n",
       "Kasarani                                       1\n",
       "Kianyaga                                       1\n",
       "14 AV FERNAND FENZY92160  ANTONY FRANCE        1\n",
       "Name: count, Length: 973, dtype: int64"
      ]
     },
     "execution_count": 36,
     "metadata": {},
     "output_type": "execute_result"
    }
   ],
   "source": [
    "#inspecting the value_counts in the town column\n",
    "df.town.value_counts()"
   ]
  },
  {
   "cell_type": "code",
   "execution_count": 37,
   "metadata": {},
   "outputs": [
    {
     "data": {
      "text/plain": [
       "0"
      ]
     },
     "execution_count": 37,
     "metadata": {},
     "output_type": "execute_result"
    }
   ],
   "source": [
    "#fill the null values with unknown\n",
    "df['town'] = df.town.fillna('Unknown')\n",
    "df.town.isna().sum()"
   ]
  },
  {
   "cell_type": "code",
   "execution_count": 38,
   "metadata": {},
   "outputs": [
    {
     "data": {
      "text/html": [
       "<div>\n",
       "<style scoped>\n",
       "    .dataframe tbody tr th:only-of-type {\n",
       "        vertical-align: middle;\n",
       "    }\n",
       "\n",
       "    .dataframe tbody tr th {\n",
       "        vertical-align: top;\n",
       "    }\n",
       "\n",
       "    .dataframe thead th {\n",
       "        text-align: right;\n",
       "    }\n",
       "</style>\n",
       "<table border=\"1\" class=\"dataframe\">\n",
       "  <thead>\n",
       "    <tr style=\"text-align: right;\">\n",
       "      <th></th>\n",
       "      <th>member_no</th>\n",
       "      <th>dob</th>\n",
       "      <th>gender</th>\n",
       "      <th>town</th>\n",
       "      <th>relationship</th>\n",
       "      <th>beneficiery_dob</th>\n",
       "      <th>portfolio</th>\n",
       "      <th>gender_mapped</th>\n",
       "      <th>member_age</th>\n",
       "      <th>beneficiery_age</th>\n",
       "      <th>portfolio_map</th>\n",
       "    </tr>\n",
       "  </thead>\n",
       "  <tbody>\n",
       "    <tr>\n",
       "      <th>0</th>\n",
       "      <td>99996</td>\n",
       "      <td>1998-04-06</td>\n",
       "      <td>Female</td>\n",
       "      <td>NAIROBI</td>\n",
       "      <td>partner</td>\n",
       "      <td>1998-01-26</td>\n",
       "      <td>Money Market</td>\n",
       "      <td>Female</td>\n",
       "      <td>26.0</td>\n",
       "      <td>26.0</td>\n",
       "      <td>Money Market</td>\n",
       "    </tr>\n",
       "    <tr>\n",
       "      <th>14</th>\n",
       "      <td>99996</td>\n",
       "      <td>1998-04-06</td>\n",
       "      <td>Female</td>\n",
       "      <td>NAIROBI</td>\n",
       "      <td>sibling</td>\n",
       "      <td>2001-03-04</td>\n",
       "      <td>Money Market</td>\n",
       "      <td>Female</td>\n",
       "      <td>26.0</td>\n",
       "      <td>23.0</td>\n",
       "      <td>Money Market</td>\n",
       "    </tr>\n",
       "    <tr>\n",
       "      <th>28</th>\n",
       "      <td>99994</td>\n",
       "      <td>1966-01-01</td>\n",
       "      <td>Female</td>\n",
       "      <td>Unknown</td>\n",
       "      <td>partner</td>\n",
       "      <td>1962-01-01</td>\n",
       "      <td>Money Market</td>\n",
       "      <td>Female</td>\n",
       "      <td>58.0</td>\n",
       "      <td>62.0</td>\n",
       "      <td>Money Market</td>\n",
       "    </tr>\n",
       "    <tr>\n",
       "      <th>40</th>\n",
       "      <td>99993</td>\n",
       "      <td>1974-01-01</td>\n",
       "      <td>Female</td>\n",
       "      <td>NAIROBI</td>\n",
       "      <td>partner</td>\n",
       "      <td>1970-09-29</td>\n",
       "      <td>Money Market</td>\n",
       "      <td>Female</td>\n",
       "      <td>50.0</td>\n",
       "      <td>54.0</td>\n",
       "      <td>Money Market</td>\n",
       "    </tr>\n",
       "    <tr>\n",
       "      <th>70</th>\n",
       "      <td>99993</td>\n",
       "      <td>1974-01-01</td>\n",
       "      <td>Female</td>\n",
       "      <td>NAIROBI</td>\n",
       "      <td>child</td>\n",
       "      <td>1994-01-01</td>\n",
       "      <td>Money Market</td>\n",
       "      <td>Female</td>\n",
       "      <td>50.0</td>\n",
       "      <td>30.0</td>\n",
       "      <td>Money Market</td>\n",
       "    </tr>\n",
       "  </tbody>\n",
       "</table>\n",
       "</div>"
      ],
      "text/plain": [
       "    member_no        dob  gender     town relationship beneficiery_dob  \\\n",
       "0       99996 1998-04-06  Female  NAIROBI      partner      1998-01-26   \n",
       "14      99996 1998-04-06  Female  NAIROBI      sibling      2001-03-04   \n",
       "28      99994 1966-01-01  Female  Unknown      partner      1962-01-01   \n",
       "40      99993 1974-01-01  Female  NAIROBI      partner      1970-09-29   \n",
       "70      99993 1974-01-01  Female  NAIROBI        child      1994-01-01   \n",
       "\n",
       "       portfolio gender_mapped  member_age  beneficiery_age portfolio_map  \n",
       "0   Money Market        Female        26.0             26.0  Money Market  \n",
       "14  Money Market        Female        26.0             23.0  Money Market  \n",
       "28  Money Market        Female        58.0             62.0  Money Market  \n",
       "40  Money Market        Female        50.0             54.0  Money Market  \n",
       "70  Money Market        Female        50.0             30.0  Money Market  "
      ]
     },
     "execution_count": 38,
     "metadata": {},
     "output_type": "execute_result"
    }
   ],
   "source": [
    "df.head()"
   ]
  },
  {
   "cell_type": "code",
   "execution_count": 39,
   "metadata": {},
   "outputs": [
    {
     "data": {
      "text/html": [
       "<div>\n",
       "<style scoped>\n",
       "    .dataframe tbody tr th:only-of-type {\n",
       "        vertical-align: middle;\n",
       "    }\n",
       "\n",
       "    .dataframe tbody tr th {\n",
       "        vertical-align: top;\n",
       "    }\n",
       "\n",
       "    .dataframe thead th {\n",
       "        text-align: right;\n",
       "    }\n",
       "</style>\n",
       "<table border=\"1\" class=\"dataframe\">\n",
       "  <thead>\n",
       "    <tr style=\"text-align: right;\">\n",
       "      <th></th>\n",
       "      <th>member_no</th>\n",
       "      <th>town</th>\n",
       "      <th>relationship</th>\n",
       "      <th>gender_mapped</th>\n",
       "      <th>member_age</th>\n",
       "      <th>beneficiery_age</th>\n",
       "      <th>portfolio_map</th>\n",
       "    </tr>\n",
       "  </thead>\n",
       "  <tbody>\n",
       "    <tr>\n",
       "      <th>0</th>\n",
       "      <td>99996</td>\n",
       "      <td>NAIROBI</td>\n",
       "      <td>partner</td>\n",
       "      <td>Female</td>\n",
       "      <td>26.0</td>\n",
       "      <td>26.0</td>\n",
       "      <td>Money Market</td>\n",
       "    </tr>\n",
       "    <tr>\n",
       "      <th>14</th>\n",
       "      <td>99996</td>\n",
       "      <td>NAIROBI</td>\n",
       "      <td>sibling</td>\n",
       "      <td>Female</td>\n",
       "      <td>26.0</td>\n",
       "      <td>23.0</td>\n",
       "      <td>Money Market</td>\n",
       "    </tr>\n",
       "    <tr>\n",
       "      <th>28</th>\n",
       "      <td>99994</td>\n",
       "      <td>Unknown</td>\n",
       "      <td>partner</td>\n",
       "      <td>Female</td>\n",
       "      <td>58.0</td>\n",
       "      <td>62.0</td>\n",
       "      <td>Money Market</td>\n",
       "    </tr>\n",
       "    <tr>\n",
       "      <th>40</th>\n",
       "      <td>99993</td>\n",
       "      <td>NAIROBI</td>\n",
       "      <td>partner</td>\n",
       "      <td>Female</td>\n",
       "      <td>50.0</td>\n",
       "      <td>54.0</td>\n",
       "      <td>Money Market</td>\n",
       "    </tr>\n",
       "    <tr>\n",
       "      <th>70</th>\n",
       "      <td>99993</td>\n",
       "      <td>NAIROBI</td>\n",
       "      <td>child</td>\n",
       "      <td>Female</td>\n",
       "      <td>50.0</td>\n",
       "      <td>30.0</td>\n",
       "      <td>Money Market</td>\n",
       "    </tr>\n",
       "  </tbody>\n",
       "</table>\n",
       "</div>"
      ],
      "text/plain": [
       "    member_no     town relationship gender_mapped  member_age  \\\n",
       "0       99996  NAIROBI      partner        Female        26.0   \n",
       "14      99996  NAIROBI      sibling        Female        26.0   \n",
       "28      99994  Unknown      partner        Female        58.0   \n",
       "40      99993  NAIROBI      partner        Female        50.0   \n",
       "70      99993  NAIROBI        child        Female        50.0   \n",
       "\n",
       "    beneficiery_age portfolio_map  \n",
       "0              26.0  Money Market  \n",
       "14             23.0  Money Market  \n",
       "28             62.0  Money Market  \n",
       "40             54.0  Money Market  \n",
       "70             30.0  Money Market  "
      ]
     },
     "execution_count": 39,
     "metadata": {},
     "output_type": "execute_result"
    }
   ],
   "source": [
    "# Drop unnecessary columns ('dob', 'gender', 'portfolio', 'beneficiery_dob') from the dataframe\n",
    "new_df=df.drop(columns=['dob','gender','portfolio','beneficiery_dob'])\n",
    "new_df.head()"
   ]
  },
  {
   "cell_type": "code",
   "execution_count": 40,
   "metadata": {},
   "outputs": [],
   "source": [
    "#fill null values with the mode\n",
    "new_df['member_age'].fillna(new_df['member_age'].mode()[0], inplace=True)\n",
    "new_df['beneficiery_age'].fillna(new_df['beneficiery_age'].mode()[0], inplace=True)"
   ]
  },
  {
   "cell_type": "code",
   "execution_count": 41,
   "metadata": {},
   "outputs": [],
   "source": [
    "# Set reasonable age bounds\n",
    "lower_bound = 0\n",
    "upper_bound = 100\n",
    "\n",
    "# Create a copy of original ages for comparison if needed\n",
    "original_ages = new_df['beneficiery_age'].copy()\n",
    "\n",
    "# Replace outliers by clipping to bounds\n",
    "new_df['beneficiery_age'] = new_df['beneficiery_age'].clip(lower=lower_bound, upper=upper_bound)"
   ]
  },
  {
   "cell_type": "markdown",
   "metadata": {},
   "source": [
    "## DATA VISUALIZATION"
   ]
  },
  {
   "cell_type": "code",
   "execution_count": 42,
   "metadata": {},
   "outputs": [
    {
     "data": {
      "image/png": "[encoded data removed]",
      "text/plain": [
       "<Figure size 1000x600 with 1 Axes>"
      ]
     },
     "metadata": {},
     "output_type": "display_data"
    }
   ],
   "source": [
    "average_age = new_df.groupby('portfolio_map')['member_age'].mean().reset_index()\n",
    "\n",
    "plt.figure(figsize=(10, 6))\n",
    "sns.barplot(x='portfolio_map', y='member_age', data=average_age)\n",
    "plt.title('Average Age by Portfolio Map')\n",
    "plt.xlabel('Portfolio Map')\n",
    "plt.ylabel('Average Age')\n",
    "plt.show()\n"
   ]
  },
  {
   "cell_type": "markdown",
   "metadata": {},
   "source": [
    "The output is a bar plot showing the average age for each portfolio type.\n",
    "Each bar represents the average age of members who belong to that specific portfolio, allowing you to quickly compare the average ages across different portfolio categories.\n",
    "The resulting plot gives insights into the age distribution for each portfolio, highlighting which portfolios are associated with older or younger members."
   ]
  },
  {
   "cell_type": "code",
   "execution_count": 43,
   "metadata": {},
   "outputs": [
    {
     "data": {
      "text/plain": [
       "Index(['member_no', 'town', 'relationship', 'gender_mapped', 'member_age',\n",
       "       'beneficiery_age', 'portfolio_map'],\n",
       "      dtype='object')"
      ]
     },
     "execution_count": 43,
     "metadata": {},
     "output_type": "execute_result"
    }
   ],
   "source": [
    "#check columns\n",
    "new_df.columns"
   ]
  },
  {
   "cell_type": "code",
   "execution_count": 44,
   "metadata": {},
   "outputs": [],
   "source": [
    "#convert the cleaned data to csv\n",
    "new_df.to_csv('cleaned_data.csv', index=False)"
   ]
  },
  {
   "cell_type": "code",
   "execution_count": 45,
   "metadata": {},
   "outputs": [
    {
     "name": "stdout",
     "output_type": "stream",
     "text": [
      "<class 'pandas.core.frame.DataFrame'>\n",
      "Index: 125888 entries, 0 to 7532842\n",
      "Data columns (total 7 columns):\n",
      " #   Column           Non-Null Count   Dtype  \n",
      "---  ------           --------------   -----  \n",
      " 0   member_no        125888 non-null  int64  \n",
      " 1   town             125888 non-null  object \n",
      " 2   relationship     125888 non-null  object \n",
      " 3   gender_mapped    125888 non-null  object \n",
      " 4   member_age       125888 non-null  float64\n",
      " 5   beneficiery_age  125888 non-null  float64\n",
      " 6   portfolio_map    125888 non-null  object \n",
      "dtypes: float64(2), int64(1), object(4)\n",
      "memory usage: 7.7+ MB\n"
     ]
    }
   ],
   "source": [
    "#inspecting the preprocessed dataframe\n",
    "new_df.info()"
   ]
  },
  {
   "cell_type": "code",
   "execution_count": 46,
   "metadata": {},
   "outputs": [
    {
     "data": {
      "image/png": "[encoded data removed]",
      "text/plain": [
       "<Figure size 800x600 with 1 Axes>"
      ]
     },
     "metadata": {},
     "output_type": "display_data"
    }
   ],
   "source": [
    "plt.figure(figsize=(8, 6))\n",
    "sns.countplot(data=new_df, x='gender_mapped', palette='viridis')\n",
    "plt.title('Male vs Female Count in Gender Mapped')\n",
    "plt.xlabel('Gender')\n",
    "plt.ylabel('Count')\n",
    "plt.show()"
   ]
  },
  {
   "cell_type": "markdown",
   "metadata": {},
   "source": [
    "This plot gives a clear visual comparison of how many male and female entries are present in the dataset after the gender mapping process.\n",
    "The resulting plot allows for an easy comparison of the number of male versus female entries in the dataset, making it visually straightforward to assess gender distribution."
   ]
  },
  {
   "cell_type": "code",
   "execution_count": 47,
   "metadata": {},
   "outputs": [
    {
     "data": {
      "image/png": "[encoded data removed]",
      "text/plain": [
       "<Figure size 1000x600 with 1 Axes>"
      ]
     },
     "metadata": {},
     "output_type": "display_data"
    }
   ],
   "source": [
    "plt.figure(figsize=(10, 6))\n",
    "sns.countplot(data=new_df, x='gender_mapped', hue='portfolio_map', palette='viridis')\n",
    "plt.title('Gender vs Portfolio Map')\n",
    "plt.xlabel('Gender')\n",
    "plt.ylabel('Count')\n",
    "plt.legend(title='Portfolio Map')\n",
    "plt.show()"
   ]
  },
  {
   "cell_type": "markdown",
   "metadata": {},
   "source": [
    "This plot provides a clear visual comparison of how genders are distributed across different portfolio categories, helping to understand the intersection of gender and portfolio preferences. It allows you to see if certain portfolio types are more favored by one gender over the other or if the distribution is relatively balanced."
   ]
  },
  {
   "cell_type": "code",
   "execution_count": 48,
   "metadata": {},
   "outputs": [
    {
     "data": {
      "image/png": "[encoded data removed]",
      "text/plain": [
       "<Figure size 1000x1000 with 1 Axes>"
      ]
     },
     "metadata": {},
     "output_type": "display_data"
    }
   ],
   "source": [
    "age_bins = [0, 18, 30, 45, 60, 100]\n",
    "age_labels = ['0-18', '19-30', '31-45', '46-60', '60+']\n",
    "new_df['age_group'] = pd.cut(new_df['member_age'], bins=age_bins, labels=age_labels)\n",
    "age_counts = new_df['age_group'].value_counts().sort_index()\n",
    "plt.figure(figsize=(10, 10))\n",
    "plt.pie(age_counts, labels=age_counts.index, autopct='%1.1f%%', startangle=140, colors=sns.color_palette('viridis'))\n",
    "plt.title('Members Age Groups Distribution')\n",
    "plt.show()"
   ]
  },
  {
   "cell_type": "markdown",
   "metadata": {},
   "source": [
    "Each segment of the pie chart represents one of these age groups.\n",
    "The size of each segment corresponds to the percentage of members that fall into each age group.\n",
    "The color palette viridis provides visually distinguishable colors for each segment.\n",
    "The autopct option displays the percentage of total members in each age group directly on the chart, making it easy to compare the distribution across groups.\n",
    "This pie chart provides a clear visual of the age distribution among the members, helping to identify which age groups are the most and least represented in the dataset."
   ]
  },
  {
   "cell_type": "code",
   "execution_count": 49,
   "metadata": {},
   "outputs": [
    {
     "data": {
      "image/png": "[encoded data removed]",
      "text/plain": [
       "<Figure size 1000x600 with 1 Axes>"
      ]
     },
     "metadata": {},
     "output_type": "display_data"
    }
   ],
   "source": [
    "top_10_towns = new_df['town'].value_counts().head(10)\n",
    "plt.figure(figsize=(10, 6))\n",
    "sns.barplot(x=top_10_towns.values, y=top_10_towns.index, palette='viridis')\n",
    "plt.title('Top 10 Towns')\n",
    "plt.xlabel('Count')\n",
    "plt.ylabel('Town')\n",
    "plt.show()"
   ]
  },
  {
   "cell_type": "markdown",
   "metadata": {},
   "source": [
    "overview of the most common towns in the dataset, highlighting their relative frequencies."
   ]
  },
  {
   "cell_type": "markdown",
   "metadata": {},
   "source": [
    "## MODELING"
   ]
  },
  {
   "cell_type": "code",
   "execution_count": 50,
   "metadata": {},
   "outputs": [
    {
     "name": "stdout",
     "output_type": "stream",
     "text": [
      "<class 'pandas.core.frame.DataFrame'>\n",
      "Index: 125888 entries, 0 to 7532842\n",
      "Data columns (total 8 columns):\n",
      " #   Column           Non-Null Count   Dtype   \n",
      "---  ------           --------------   -----   \n",
      " 0   member_no        125888 non-null  int64   \n",
      " 1   town             125888 non-null  object  \n",
      " 2   relationship     125888 non-null  object  \n",
      " 3   gender_mapped    125888 non-null  object  \n",
      " 4   member_age       125888 non-null  float64 \n",
      " 5   beneficiery_age  125888 non-null  float64 \n",
      " 6   portfolio_map    125888 non-null  object  \n",
      " 7   age_group        125888 non-null  category\n",
      "dtypes: category(1), float64(2), int64(1), object(4)\n",
      "memory usage: 7.8+ MB\n"
     ]
    }
   ],
   "source": [
    "#inspect the new_df\n",
    "new_df.info()"
   ]
  },
  {
   "cell_type": "code",
   "execution_count": 51,
   "metadata": {},
   "outputs": [
    {
     "data": {
      "text/html": [
       "<div>\n",
       "<style scoped>\n",
       "    .dataframe tbody tr th:only-of-type {\n",
       "        vertical-align: middle;\n",
       "    }\n",
       "\n",
       "    .dataframe tbody tr th {\n",
       "        vertical-align: top;\n",
       "    }\n",
       "\n",
       "    .dataframe thead th {\n",
       "        text-align: right;\n",
       "    }\n",
       "</style>\n",
       "<table border=\"1\" class=\"dataframe\">\n",
       "  <thead>\n",
       "    <tr style=\"text-align: right;\">\n",
       "      <th></th>\n",
       "      <th>member_no</th>\n",
       "      <th>town</th>\n",
       "      <th>relationship</th>\n",
       "      <th>gender_mapped</th>\n",
       "      <th>member_age</th>\n",
       "      <th>beneficiery_age</th>\n",
       "      <th>portfolio_map</th>\n",
       "      <th>age_group</th>\n",
       "    </tr>\n",
       "  </thead>\n",
       "  <tbody>\n",
       "    <tr>\n",
       "      <th>0</th>\n",
       "      <td>99996</td>\n",
       "      <td>NAIROBI</td>\n",
       "      <td>partner</td>\n",
       "      <td>Female</td>\n",
       "      <td>26.0</td>\n",
       "      <td>26.0</td>\n",
       "      <td>Money Market</td>\n",
       "      <td>19-30</td>\n",
       "    </tr>\n",
       "    <tr>\n",
       "      <th>14</th>\n",
       "      <td>99996</td>\n",
       "      <td>NAIROBI</td>\n",
       "      <td>sibling</td>\n",
       "      <td>Female</td>\n",
       "      <td>26.0</td>\n",
       "      <td>23.0</td>\n",
       "      <td>Money Market</td>\n",
       "      <td>19-30</td>\n",
       "    </tr>\n",
       "    <tr>\n",
       "      <th>28</th>\n",
       "      <td>99994</td>\n",
       "      <td>Unknown</td>\n",
       "      <td>partner</td>\n",
       "      <td>Female</td>\n",
       "      <td>58.0</td>\n",
       "      <td>62.0</td>\n",
       "      <td>Money Market</td>\n",
       "      <td>46-60</td>\n",
       "    </tr>\n",
       "    <tr>\n",
       "      <th>40</th>\n",
       "      <td>99993</td>\n",
       "      <td>NAIROBI</td>\n",
       "      <td>partner</td>\n",
       "      <td>Female</td>\n",
       "      <td>50.0</td>\n",
       "      <td>54.0</td>\n",
       "      <td>Money Market</td>\n",
       "      <td>46-60</td>\n",
       "    </tr>\n",
       "    <tr>\n",
       "      <th>70</th>\n",
       "      <td>99993</td>\n",
       "      <td>NAIROBI</td>\n",
       "      <td>child</td>\n",
       "      <td>Female</td>\n",
       "      <td>50.0</td>\n",
       "      <td>30.0</td>\n",
       "      <td>Money Market</td>\n",
       "      <td>46-60</td>\n",
       "    </tr>\n",
       "  </tbody>\n",
       "</table>\n",
       "</div>"
      ],
      "text/plain": [
       "    member_no     town relationship gender_mapped  member_age  \\\n",
       "0       99996  NAIROBI      partner        Female        26.0   \n",
       "14      99996  NAIROBI      sibling        Female        26.0   \n",
       "28      99994  Unknown      partner        Female        58.0   \n",
       "40      99993  NAIROBI      partner        Female        50.0   \n",
       "70      99993  NAIROBI        child        Female        50.0   \n",
       "\n",
       "    beneficiery_age portfolio_map age_group  \n",
       "0              26.0  Money Market     19-30  \n",
       "14             23.0  Money Market     19-30  \n",
       "28             62.0  Money Market     46-60  \n",
       "40             54.0  Money Market     46-60  \n",
       "70             30.0  Money Market     46-60  "
      ]
     },
     "execution_count": 51,
     "metadata": {},
     "output_type": "execute_result"
    }
   ],
   "source": [
    "#check the first entries in the dataframe\n",
    "new_df.head()"
   ]
  },
  {
   "cell_type": "code",
   "execution_count": 52,
   "metadata": {},
   "outputs": [
    {
     "name": "stderr",
     "output_type": "stream",
     "text": [
      "C:\\Users\\petra.kibugu\\AppData\\Local\\Temp\\ipykernel_113936\\287210496.py:5: SettingWithCopyWarning: \n",
      "A value is trying to be set on a copy of a slice from a DataFrame.\n",
      "Try using .loc[row_indexer,col_indexer] = value instead\n",
      "\n",
      "See the caveats in the documentation: https://pandas.pydata.org/pandas-docs/stable/user_guide/indexing.html#returning-a-view-versus-a-copy\n",
      "  X['features'] = X.astype(str).sum(axis=1)\n"
     ]
    }
   ],
   "source": [
    "\n",
    "# Create a feature matrix combining the relevant columns\n",
    "X = new_df[['member_age', 'beneficiery_age', 'age_group', 'gender_mapped']]\n",
    "\n",
    "# Convert the feature columns to a single string for each row\n",
    "X['features'] = X.astype(str).sum(axis=1)\n",
    "\n",
    "# Create a TF-IDF matrix from the features\n",
    "tfidf = TfidfVectorizer(max_features=1000)\n",
    "X_tfidf = tfidf.fit_transform(X['features'])\n",
    "\n",
    "# Split the data into training and test sets\n",
    "X_train, X_test, y_train, y_test = train_test_split(X_tfidf, new_df['portfolio_map'], test_size=0.2, random_state=42)\n",
    "\n",
    "\n"
   ]
  },
  {
   "cell_type": "code",
   "execution_count": 53,
   "metadata": {},
   "outputs": [
    {
     "data": {
      "text/html": [
       "<style>#sk-container-id-1 {color: black;background-color: white;}#sk-container-id-1 pre{padding: 0;}#sk-container-id-1 div.sk-toggleable {background-color: white;}#sk-container-id-1 label.sk-toggleable__label {cursor: pointer;display: block;width: 100%;margin-bottom: 0;padding: 0.3em;box-sizing: border-box;text-align: center;}#sk-container-id-1 label.sk-toggleable__label-arrow:before {content: \"▸\";float: left;margin-right: 0.25em;color: #696969;}#sk-container-id-1 label.sk-toggleable__label-arrow:hover:before {color: black;}#sk-container-id-1 div.sk-estimator:hover label.sk-toggleable__label-arrow:before {color: black;}#sk-container-id-1 div.sk-toggleable__content {max-height: 0;max-width: 0;overflow: hidden;text-align: left;background-color: #f0f8ff;}#sk-container-id-1 div.sk-toggleable__content pre {margin: 0.2em;color: black;border-radius: 0.25em;background-color: #f0f8ff;}#sk-container-id-1 input.sk-toggleable__control:checked~div.sk-toggleable__content {max-height: 200px;max-width: 100%;overflow: auto;}#sk-container-id-1 input.sk-toggleable__control:checked~label.sk-toggleable__label-arrow:before {content: \"▾\";}#sk-container-id-1 div.sk-estimator input.sk-toggleable__control:checked~label.sk-toggleable__label {background-color: #d4ebff;}#sk-container-id-1 div.sk-label input.sk-toggleable__control:checked~label.sk-toggleable__label {background-color: #d4ebff;}#sk-container-id-1 input.sk-hidden--visually {border: 0;clip: rect(1px 1px 1px 1px);clip: rect(1px, 1px, 1px, 1px);height: 1px;margin: -1px;overflow: hidden;padding: 0;position: absolute;width: 1px;}#sk-container-id-1 div.sk-estimator {font-family: monospace;background-color: #f0f8ff;border: 1px dotted black;border-radius: 0.25em;box-sizing: border-box;margin-bottom: 0.5em;}#sk-container-id-1 div.sk-estimator:hover {background-color: #d4ebff;}#sk-container-id-1 div.sk-parallel-item::after {content: \"\";width: 100%;border-bottom: 1px solid gray;flex-grow: 1;}#sk-container-id-1 div.sk-label:hover label.sk-toggleable__label {background-color: #d4ebff;}#sk-container-id-1 div.sk-serial::before {content: \"\";position: absolute;border-left: 1px solid gray;box-sizing: border-box;top: 0;bottom: 0;left: 50%;z-index: 0;}#sk-container-id-1 div.sk-serial {display: flex;flex-direction: column;align-items: center;background-color: white;padding-right: 0.2em;padding-left: 0.2em;position: relative;}#sk-container-id-1 div.sk-item {position: relative;z-index: 1;}#sk-container-id-1 div.sk-parallel {display: flex;align-items: stretch;justify-content: center;background-color: white;position: relative;}#sk-container-id-1 div.sk-item::before, #sk-container-id-1 div.sk-parallel-item::before {content: \"\";position: absolute;border-left: 1px solid gray;box-sizing: border-box;top: 0;bottom: 0;left: 50%;z-index: -1;}#sk-container-id-1 div.sk-parallel-item {display: flex;flex-direction: column;z-index: 1;position: relative;background-color: white;}#sk-container-id-1 div.sk-parallel-item:first-child::after {align-self: flex-end;width: 50%;}#sk-container-id-1 div.sk-parallel-item:last-child::after {align-self: flex-start;width: 50%;}#sk-container-id-1 div.sk-parallel-item:only-child::after {width: 0;}#sk-container-id-1 div.sk-dashed-wrapped {border: 1px dashed gray;margin: 0 0.4em 0.5em 0.4em;box-sizing: border-box;padding-bottom: 0.4em;background-color: white;}#sk-container-id-1 div.sk-label label {font-family: monospace;font-weight: bold;display: inline-block;line-height: 1.2em;}#sk-container-id-1 div.sk-label-container {text-align: center;}#sk-container-id-1 div.sk-container {/* jupyter's `normalize.less` sets `[hidden] { display: none; }` but bootstrap.min.css set `[hidden] { display: none !important; }` so we also need the `!important` here to be able to override the default hidden behavior on the sphinx rendered scikit-learn.org. See: https://github.com/scikit-learn/scikit-learn/issues/21755 */display: inline-block !important;position: relative;}#sk-container-id-1 div.sk-text-repr-fallback {display: none;}</style><div id=\"sk-container-id-1\" class=\"sk-top-container\"><div class=\"sk-text-repr-fallback\"><pre>NearestNeighbors(algorithm=&#x27;brute&#x27;, metric=&#x27;cosine&#x27;)</pre><b>In a Jupyter environment, please rerun this cell to show the HTML representation or trust the notebook. <br />On GitHub, the HTML representation is unable to render, please try loading this page with nbviewer.org.</b></div><div class=\"sk-container\" hidden><div class=\"sk-item\"><div class=\"sk-estimator sk-toggleable\"><input class=\"sk-toggleable__control sk-hidden--visually\" id=\"sk-estimator-id-1\" type=\"checkbox\" checked><label for=\"sk-estimator-id-1\" class=\"sk-toggleable__label sk-toggleable__label-arrow\">NearestNeighbors</label><div class=\"sk-toggleable__content\"><pre>NearestNeighbors(algorithm=&#x27;brute&#x27;, metric=&#x27;cosine&#x27;)</pre></div></div></div></div></div>"
      ],
      "text/plain": [
       "NearestNeighbors(algorithm='brute', metric='cosine')"
      ]
     },
     "execution_count": 53,
     "metadata": {},
     "output_type": "execute_result"
    }
   ],
   "source": [
    "# Train the Nearest Neighbors model\n",
    "model = NearestNeighbors(metric='cosine', algorithm='brute')\n",
    "model.fit(X_train)\n",
    "\n"
   ]
  },
  {
   "cell_type": "code",
   "execution_count": 54,
   "metadata": {},
   "outputs": [],
   "source": [
    "def get_recommendations(member_features, n=5):\n",
    "    # Get distances and indices of the nearest neighbors\n",
    "    distances, indices = model.kneighbors(member_features, n_neighbors=n+1)\n",
    "    \n",
    "    # Retrieve the original portfolio information from `new_df` using indices\n",
    "    # Exclude the first column of `indices` since it's the item itself\n",
    "    recommended_portfolios = new_df.iloc[indices[0, 1:]]['portfolio_map'].tolist()\n",
    "    \n",
    "    return recommended_portfolios"
   ]
  },
  {
   "cell_type": "code",
   "execution_count": 55,
   "metadata": {},
   "outputs": [
    {
     "name": "stdout",
     "output_type": "stream",
     "text": [
      "Accuracy: 0.88\n"
     ]
    }
   ],
   "source": [
    "\n",
    "# Make predictions on the test set\n",
    "y_pred = []\n",
    "for i in range(X_test.shape[0]):\n",
    "    member = X_test[i].toarray()\n",
    "    recommendations = get_recommendations(member.reshape(1, -1), n=1)\n",
    "    y_pred.append(recommendations[0])  # Get the top recommendation\n",
    "\n",
    "# Calculate accuracy by comparing the predicted product to the actual product\n",
    "accuracy = accuracy_score(y_test, y_pred)\n",
    "\n",
    "print(f\"Accuracy: {accuracy:.2f}\")\n"
   ]
  },
  {
   "cell_type": "markdown",
   "metadata": {},
   "source": [
    "RULE BASED ADDED"
   ]
  },
  {
   "cell_type": "code",
   "execution_count": 56,
   "metadata": {},
   "outputs": [],
   "source": [
    "def get_recommendations(member_features, member_no, n=5):\n",
    "    # Fetch member's details\n",
    "    member_row = new_df.loc[new_df['member_no'] == member_no].iloc[0]\n",
    "    member_beneficiary_age = member_row['beneficiery_age']\n",
    "    member_age_group = member_row['age_group']\n",
    "    member_town = member_row['town']\n",
    "    member_gender = member_row['gender_mapped']\n",
    "    member_current_products = set(new_df.loc[new_df['member_no'] == member_no, 'portfolio_map'].values)\n",
    "    \n",
    "    recommended_products = []\n",
    "\n",
    "    # Rule 1: Recommend based on beneficiary age (Student and Junior Accounts)\n",
    "    #if 18 <= member_beneficiary_age <= 25:\n",
    "    if  member_beneficiary_age >= 18 and  member_beneficiary_age <= 25:\n",
    "        recommended_products.append(\"Student Account\")\n",
    "    elif member_beneficiary_age < 18:\n",
    "        recommended_products.append(\"Junior Account\")\n",
    "\n",
    "    # Rule 2: Recommend popular products within the same age group\n",
    "    age_group_products = (\n",
    "        new_df[new_df['age_group'] == member_age_group]\n",
    "        .portfolio_map.value_counts()\n",
    "        .index\n",
    "        .tolist()\n",
    "    )\n",
    "    for product in age_group_products:\n",
    "        if product not in member_current_products and product not in recommended_products:\n",
    "            recommended_products.append(product)\n",
    "        if len(recommended_products) >= n:\n",
    "            return recommended_products[:n]\n",
    "\n",
    "    # Rule 3: Recommend popular products in the same town\n",
    "    town_products = (\n",
    "        new_df[new_df['town'] == member_town]\n",
    "        .portfolio_map.value_counts()\n",
    "        .index\n",
    "        .tolist()\n",
    "    )\n",
    "    for product in town_products:\n",
    "        if product not in member_current_products and product not in recommended_products:\n",
    "            recommended_products.append(product)\n",
    "        if len(recommended_products) >= n:\n",
    "            return recommended_products[:n]\n",
    "        \n",
    "    gender_products = (\n",
    "        new_df[new_df['gender_mapped']== member_gender]\n",
    "        .portfolio_map.value_counts()\n",
    "        .index\n",
    "        .tolist()\n",
    "    )\n",
    "    for product in gender_products:\n",
    "        if product not in member_current_products and product not in recommended_products:\n",
    "            recommended_products.append(product)\n",
    "        if len(recommended_products) >= n:\n",
    "            return recommended_products[:n]\n",
    "\n",
    "    # Collaborative Filtering for Additional Recommendations\n",
    "    distances, indices = model.kneighbors(member_features, n_neighbors=n + len(recommended_products))\n",
    "    for index in indices[0]:\n",
    "        product = new_df.iloc[index]['portfolio_map']\n",
    "        if product not in member_current_products and product not in recommended_products:\n",
    "            recommended_products.append(product)\n",
    "        if len(recommended_products) >= n:\n",
    "            break\n",
    "\n",
    "    return recommended_products[:n]\n"
   ]
  },
  {
   "cell_type": "code",
   "execution_count": 57,
   "metadata": {},
   "outputs": [
    {
     "data": {
      "text/plain": [
       "Index(['member_no', 'town', 'relationship', 'gender_mapped', 'member_age',\n",
       "       'beneficiery_age', 'portfolio_map', 'age_group'],\n",
       "      dtype='object')"
      ]
     },
     "execution_count": 57,
     "metadata": {},
     "output_type": "execute_result"
    }
   ],
   "source": [
    "new_df.columns"
   ]
  },
  {
   "cell_type": "code",
   "execution_count": 58,
   "metadata": {},
   "outputs": [
    {
     "name": "stdout",
     "output_type": "stream",
     "text": [
      "Recommendations for sample member profile:\n",
      "['Dollar Fund', 'Fixed Income', 'Equity Fund']\n"
     ]
    }
   ],
   "source": [
    "# Test the recommendations for a sample member\n",
    "sample_index = 0  # Adjust the sample index for testing\n",
    "sample_member = X_test[sample_index].toarray()\n",
    "sample_member_id = new_df.iloc[sample_index]['member_no']  # Ensure 'member_id' is in new_df\n",
    "\n",
    "# Get recommendations for the sample member\n",
    "recommendations = get_recommendations(sample_member.reshape(1, -1), sample_member_id, n=3)\n",
    "\n",
    "# Display the results\n",
    "print(\"Recommendations for sample member profile:\")\n",
    "print(recommendations)"
   ]
  },
  {
   "cell_type": "code",
   "execution_count": 59,
   "metadata": {},
   "outputs": [
    {
     "name": "stdout",
     "output_type": "stream",
     "text": [
      "Recommendations for sample member profile:\n",
      "['Equity Fund', 'Dollar Fund', 'Balanced Fund']\n"
     ]
    }
   ],
   "source": [
    "# Test the recommendations for a sample member\n",
    "sample_index = 20\n",
    "sample_member = X_test[sample_index].toarray()\n",
    "sample_member_id = new_df.iloc[sample_index]['member_no']  \n",
    "\n",
    "# Get recommendations for the sample member\n",
    "recommendations = get_recommendations(sample_member.reshape(1, -1), sample_member_id, n=3)\n",
    "\n",
    "# Display the results\n",
    "print(\"Recommendations for sample member profile:\")\n",
    "print(recommendations)"
   ]
  },
  {
   "cell_type": "code",
   "execution_count": 60,
   "metadata": {},
   "outputs": [],
   "source": [
    "def get_recommendations_with_messages(member_features, member_no, n=5):\n",
    "    # Fetch member's details\n",
    "    member_row = new_df.loc[new_df['member_no'] == member_no].iloc[0]\n",
    "    member_beneficiary_age = member_row['beneficiery_age']\n",
    "    member_age_group = member_row['age_group']\n",
    "    member_town = member_row['town']\n",
    "    member_gender = member_row['gender_mapped']\n",
    "    member_current_products = set(new_df.loc[new_df['member_no'] == member_no, 'portfolio_map'].values)\n",
    "    \n",
    "    recommended_products = []\n",
    "    messages = []\n",
    "\n",
    "    # Rule 1: Recommend based on beneficiary age (Student and Junior Accounts)\n",
    "    age_recommendations = []\n",
    "    if  member_beneficiary_age >= 18 and  member_beneficiary_age <= 25:\n",
    "        age_recommendations.append(\"Student Account\")\n",
    "        messages.append(\n",
    "            f\"Planning for your child's future? Our Student Account is perfect for young adults aged 18-25. \"\n",
    "            f\"Start securing their educational journey today!\"\n",
    "        )\n",
    "    elif  member_beneficiary_age < 18:\n",
    "        age_recommendations.append(\"Junior Account\")\n",
    "        messages.append(\n",
    "            f\"Give your child a head start with our Junior Account! It's specially designed for children under 18 \"\n",
    "            f\"to help them develop good financial habits early.\"\n",
    "        )\n",
    "    recommended_products.extend(age_recommendations)\n",
    "\n",
    "    # Rule 2: Recommend popular products within the same age group\n",
    "    age_group_recommendations = []\n",
    "    age_group_products = (\n",
    "        new_df[new_df['age_group'] == member_age_group]\n",
    "        .portfolio_map.value_counts()\n",
    "        .index\n",
    "        .tolist()\n",
    "    )\n",
    "    for product in age_group_products:\n",
    "        if product not in member_current_products and product not in recommended_products:\n",
    "            age_group_recommendations.append(product)\n",
    "        if len(recommended_products) + len(age_group_recommendations) >= n:\n",
    "            break\n",
    "    \n",
    "    if age_group_recommendations:\n",
    "        messages.append(\n",
    "            f\"Members in your age group are enjoying these popular products: {', '.join(age_group_recommendations)}. \"\n",
    "            f\"Join them in making smart financial choices!\"\n",
    "        )\n",
    "    recommended_products.extend(age_group_recommendations)\n",
    "\n",
    "    # Rule 3: Recommend popular products in the same town\n",
    "    location_recommendations = []\n",
    "    town_products = (\n",
    "        new_df[new_df['town'] == member_town]\n",
    "        .portfolio_map.value_counts()\n",
    "        .index\n",
    "        .tolist()\n",
    "    )\n",
    "    for product in town_products:\n",
    "        if product not in member_current_products and product not in recommended_products:\n",
    "            location_recommendations.append(product)\n",
    "        if len(recommended_products) + len(location_recommendations) >= n:\n",
    "            break\n",
    "    \n",
    "    if location_recommendations:\n",
    "        messages.append(\n",
    "            f\"Trending in {member_town}! Your neighbors are choosing {', '.join(location_recommendations)}. \"\n",
    "            f\"Discover why these products are popular in your community!\"\n",
    "        )\n",
    "    recommended_products.extend(location_recommendations)\n",
    "\n",
    "    # Rule 4: Gender-based recommendations\n",
    "    gender_recommendations = []\n",
    "    gender_products = (\n",
    "        new_df[new_df['gender_mapped'] == member_gender]\n",
    "        .portfolio_map.value_counts()\n",
    "        .index\n",
    "        .tolist()\n",
    "    )\n",
    "    for product in gender_products:\n",
    "        if product not in member_current_products and product not in recommended_products:\n",
    "            gender_recommendations.append(product)\n",
    "        if len(recommended_products) + len(gender_recommendations) >= n:\n",
    "            break\n",
    "    \n",
    "    if gender_recommendations:\n",
    "        gender_message = (\n",
    "            \"Specially curated for you! \" if member_gender == 'Female' else\n",
    "            \"Join other members like you! \"\n",
    "        )\n",
    "        messages.append(\n",
    "            f\"{gender_message}Discover {', '.join(gender_recommendations)} - \"\n",
    "            f\"products that match your financial goals.\"\n",
    "        )\n",
    "    recommended_products.extend(gender_recommendations)\n",
    "    # Collaborative Filtering for Additional Recommendations\n",
    "    if len(recommended_products) < n:\n",
    "        collab_recommendations = []\n",
    "        distances, indices = model.kneighbors(member_features, n_neighbors=n + len(recommended_products))\n",
    "        for index in indices[0]:\n",
    "            product = new_df.iloc[index]['portfolio_map']\n",
    "            if product not in member_current_products and product not in recommended_products:\n",
    "                collab_recommendations.append(product)\n",
    "            if len(recommended_products) + len(collab_recommendations) >= n:\n",
    "                break\n",
    "        \n",
    "        if collab_recommendations:\n",
    "            messages.append(\n",
    "                f\"Based on your profile, we think you'll love {', '.join(collab_recommendations)}. \"\n",
    "                f\"These products align perfectly with your financial journey!\"\n",
    "            )\n",
    "        recommended_products.extend(collab_recommendations)\n",
    "\n",
    "    # Final personalized message\n",
    "    if len(recommended_products) > 0:\n",
    "        messages.append(\n",
    "            f\"💡 Pro tip: Adding {', '.join(recommended_products[:n])} to your portfolio \"\n",
    "            f\"could help you achieve your financial goals faster!\"\n",
    "        )\n",
    "\n",
    "    return recommended_products[:n], messages"
   ]
  },
  {
   "cell_type": "code",
   "execution_count": 61,
   "metadata": {},
   "outputs": [
    {
     "name": "stdout",
     "output_type": "stream",
     "text": [
      "\n",
      "🏦 Member Profile Analysis\n",
      "--------------------------------------------------\n",
      "Member ID: 96336\n",
      "Age Group: 31-45\n",
      "Town: Unknown\n",
      "Gender: Female\n",
      "Beneficiary Age: 64.0\n",
      "\n",
      "📊 Recommended Products\n",
      "--------------------------------------------------\n",
      "1. Equity Fund\n",
      "2. Dollar Fund\n",
      "3. Balanced Fund\n",
      "\n",
      "💌 Personalized Messages\n",
      "--------------------------------------------------\n",
      "Message 1:\n",
      "Members in your age group are enjoying these popular products: Equity Fund, Dollar Fund, Balanced Fund. Join them in making smart financial choices!\n",
      "\n",
      "Message 2:\n",
      "💡 Pro tip: Adding Equity Fund, Dollar Fund, Balanced Fund to your portfolio could help you achieve your financial goals faster!\n",
      "\n",
      "\n",
      "📝 Current Portfolio\n",
      "--------------------------------------------------\n",
      "• Money Market\n"
     ]
    }
   ],
   "source": [
    "# Test the recommendations for a sample member\n",
    "sample_index = 3464  # Adjust the sample index for testing\n",
    "sample_member = X_test[sample_index].toarray()\n",
    "sample_member_id = new_df.iloc[sample_index]['member_no']  # Ensure 'member_id' is in new_df\n",
    "\n",
    "# Get recommendations and messages for the sample member\n",
    "recommendations, messages = get_recommendations_with_messages(sample_member.reshape(1, -1), sample_member_id, n=3)\n",
    "\n",
    "# Display the results\n",
    "print(\"\\n🏦 Member Profile Analysis\")\n",
    "print(\"-\" * 50)\n",
    "print(f\"Member ID: {sample_member_id}\")\n",
    "member_details = new_df.loc[new_df['member_no'] == sample_member_id].iloc[0]\n",
    "print(f\"Age Group: {member_details['age_group']}\")\n",
    "print(f\"Town: {member_details['town']}\")\n",
    "print(f\"Gender: {member_details['gender_mapped']}\")\n",
    "if not pd.isna(member_details['beneficiery_age']):\n",
    "    print(f\"Beneficiary Age: {member_details['beneficiery_age']}\")\n",
    "\n",
    "print(\"\\n📊 Recommended Products\")\n",
    "print(\"-\" * 50)\n",
    "for i, product in enumerate(recommendations, 1):\n",
    "    print(f\"{i}. {product}\")\n",
    "\n",
    "print(\"\\n💌 Personalized Messages\")\n",
    "print(\"-\" * 50)\n",
    "for i, message in enumerate(messages, 1):\n",
    "    print(f\"Message {i}:\")\n",
    "    print(f\"{message}\")\n",
    "    print()\n",
    "\n",
    "# Optional: Display current products for comparison\n",
    "current_products = set(new_df.loc[new_df['member_no'] == sample_member_id, 'portfolio_map'].values)\n",
    "if current_products:\n",
    "    print(\"\\n📝 Current Portfolio\")\n",
    "    print(\"-\" * 50)\n",
    "    for product in current_products:\n",
    "        print(f\"• {product}\")"
   ]
  },
  {
   "cell_type": "code",
   "execution_count": 62,
   "metadata": {},
   "outputs": [
    {
     "name": "stdout",
     "output_type": "stream",
     "text": [
      "\n",
      "🏦 Member Profile Analysis\n",
      "--------------------------------------------------\n",
      "Member ID: 99988\n",
      "Age Group: 31-45\n",
      "Town: NAIROBI\n",
      "Gender: Female\n",
      "Beneficiary Age: 3.0\n",
      "\n",
      "📊 Recommended Products\n",
      "--------------------------------------------------\n",
      "1. Junior Account\n",
      "2. Equity Fund\n",
      "3. Dollar Fund\n",
      "\n",
      "💌 Personalized Messages\n",
      "--------------------------------------------------\n",
      "Message 1:\n",
      "Give your child a head start with our Junior Account! It's specially designed for children under 18 to help them develop good financial habits early.\n",
      "\n",
      "Message 2:\n",
      "Members in your age group are enjoying these popular products: Equity Fund, Dollar Fund. Join them in making smart financial choices!\n",
      "\n",
      "Message 3:\n",
      "💡 Pro tip: Adding Junior Account, Equity Fund, Dollar Fund to your portfolio could help you achieve your financial goals faster!\n",
      "\n",
      "\n",
      "📝 Current Portfolio\n",
      "--------------------------------------------------\n",
      "• Money Market\n"
     ]
    }
   ],
   "source": [
    "# Test the recommendations for a sample member\n",
    "sample_index = 9  # Adjust the sample index for testing\n",
    "sample_member = X_test[sample_index].toarray()\n",
    "sample_member_id = new_df.iloc[sample_index]['member_no']  # Ensure 'member_id' is in new_df\n",
    "\n",
    "# Get recommendations and messages for the sample member\n",
    "recommendations, messages = get_recommendations_with_messages(sample_member.reshape(1, -1), sample_member_id, n=3)\n",
    "\n",
    "# Display the results\n",
    "print(\"\\n🏦 Member Profile Analysis\")\n",
    "print(\"-\" * 50)\n",
    "print(f\"Member ID: {sample_member_id}\")\n",
    "member_details = new_df.loc[new_df['member_no'] == sample_member_id].iloc[0]\n",
    "print(f\"Age Group: {member_details['age_group']}\")\n",
    "print(f\"Town: {member_details['town']}\")\n",
    "print(f\"Gender: {member_details['gender_mapped']}\")\n",
    "if not pd.isna(member_details['beneficiery_age']):\n",
    "    print(f\"Beneficiary Age: {member_details['beneficiery_age']}\")\n",
    "\n",
    "print(\"\\n📊 Recommended Products\")\n",
    "print(\"-\" * 50)\n",
    "for i, product in enumerate(recommendations, 1):\n",
    "    print(f\"{i}. {product}\")\n",
    "\n",
    "print(\"\\n💌 Personalized Messages\")\n",
    "print(\"-\" * 50)\n",
    "for i, message in enumerate(messages, 1):\n",
    "    print(f\"Message {i}:\")\n",
    "    print(f\"{message}\")\n",
    "    print()\n",
    "\n",
    "# Optional: Display current products for comparison\n",
    "current_products = set(new_df.loc[new_df['member_no'] == sample_member_id, 'portfolio_map'].values)\n",
    "if current_products:\n",
    "    print(\"\\n📝 Current Portfolio\")\n",
    "    print(\"-\" * 50)\n",
    "    for product in current_products:\n",
    "        print(f\"• {product}\")"
   ]
  },
  {
   "cell_type": "code",
   "execution_count": 63,
   "metadata": {},
   "outputs": [
    {
     "data": {
      "text/html": [
       "<div>\n",
       "<style scoped>\n",
       "    .dataframe tbody tr th:only-of-type {\n",
       "        vertical-align: middle;\n",
       "    }\n",
       "\n",
       "    .dataframe tbody tr th {\n",
       "        vertical-align: top;\n",
       "    }\n",
       "\n",
       "    .dataframe thead th {\n",
       "        text-align: right;\n",
       "    }\n",
       "</style>\n",
       "<table border=\"1\" class=\"dataframe\">\n",
       "  <thead>\n",
       "    <tr style=\"text-align: right;\">\n",
       "      <th></th>\n",
       "      <th>member_no</th>\n",
       "      <th>town</th>\n",
       "      <th>relationship</th>\n",
       "      <th>gender_mapped</th>\n",
       "      <th>member_age</th>\n",
       "      <th>beneficiery_age</th>\n",
       "      <th>portfolio_map</th>\n",
       "      <th>age_group</th>\n",
       "    </tr>\n",
       "  </thead>\n",
       "  <tbody>\n",
       "    <tr>\n",
       "      <th>0</th>\n",
       "      <td>99996</td>\n",
       "      <td>NAIROBI</td>\n",
       "      <td>partner</td>\n",
       "      <td>Female</td>\n",
       "      <td>26.0</td>\n",
       "      <td>26.0</td>\n",
       "      <td>Money Market</td>\n",
       "      <td>19-30</td>\n",
       "    </tr>\n",
       "    <tr>\n",
       "      <th>14</th>\n",
       "      <td>99996</td>\n",
       "      <td>NAIROBI</td>\n",
       "      <td>sibling</td>\n",
       "      <td>Female</td>\n",
       "      <td>26.0</td>\n",
       "      <td>23.0</td>\n",
       "      <td>Money Market</td>\n",
       "      <td>19-30</td>\n",
       "    </tr>\n",
       "    <tr>\n",
       "      <th>28</th>\n",
       "      <td>99994</td>\n",
       "      <td>Unknown</td>\n",
       "      <td>partner</td>\n",
       "      <td>Female</td>\n",
       "      <td>58.0</td>\n",
       "      <td>62.0</td>\n",
       "      <td>Money Market</td>\n",
       "      <td>46-60</td>\n",
       "    </tr>\n",
       "    <tr>\n",
       "      <th>40</th>\n",
       "      <td>99993</td>\n",
       "      <td>NAIROBI</td>\n",
       "      <td>partner</td>\n",
       "      <td>Female</td>\n",
       "      <td>50.0</td>\n",
       "      <td>54.0</td>\n",
       "      <td>Money Market</td>\n",
       "      <td>46-60</td>\n",
       "    </tr>\n",
       "    <tr>\n",
       "      <th>70</th>\n",
       "      <td>99993</td>\n",
       "      <td>NAIROBI</td>\n",
       "      <td>child</td>\n",
       "      <td>Female</td>\n",
       "      <td>50.0</td>\n",
       "      <td>30.0</td>\n",
       "      <td>Money Market</td>\n",
       "      <td>46-60</td>\n",
       "    </tr>\n",
       "  </tbody>\n",
       "</table>\n",
       "</div>"
      ],
      "text/plain": [
       "    member_no     town relationship gender_mapped  member_age  \\\n",
       "0       99996  NAIROBI      partner        Female        26.0   \n",
       "14      99996  NAIROBI      sibling        Female        26.0   \n",
       "28      99994  Unknown      partner        Female        58.0   \n",
       "40      99993  NAIROBI      partner        Female        50.0   \n",
       "70      99993  NAIROBI        child        Female        50.0   \n",
       "\n",
       "    beneficiery_age portfolio_map age_group  \n",
       "0              26.0  Money Market     19-30  \n",
       "14             23.0  Money Market     19-30  \n",
       "28             62.0  Money Market     46-60  \n",
       "40             54.0  Money Market     46-60  \n",
       "70             30.0  Money Market     46-60  "
      ]
     },
     "execution_count": 63,
     "metadata": {},
     "output_type": "execute_result"
    }
   ],
   "source": [
    "new_df.head()"
   ]
  },
  {
   "cell_type": "code",
   "execution_count": 65,
   "metadata": {},
   "outputs": [
    {
     "name": "stdout",
     "output_type": "stream",
     "text": [
      "Notebook content has been pickled successfully.\n"
     ]
    }
   ],
   "source": [
    "#saving the notebook as a pickle file\n",
    "import nbformat\n",
    "import pickle\n",
    "\n",
    "# Define the notebook filename\n",
    "notebook_filename = 'Investment Product Cross Selling.ipynb'\n",
    "\n",
    "# Read the notebook content using nbformat with UTF-8 encoding\n",
    "with open(notebook_filename, 'r', encoding='utf-8') as f:\n",
    "    notebook_content = nbformat.read(f, as_version=4)\n",
    "\n",
    "# Pickle the notebook content\n",
    "with open('Investment_Product_Cross_Selling_notebook.pkl', 'wb') as f:\n",
    "    pickle.dump(notebook_content, f)\n",
    "\n",
    "print(\"Notebook content has been pickled successfully.\")\n"
   ]
  },
  {
   "cell_type": "code",
   "execution_count": 66,
   "metadata": {},
   "outputs": [
    {
     "name": "stdout",
     "output_type": "stream",
     "text": [
      "{'cells': [{'cell_type': 'markdown', 'metadata': {}, 'source': '# Product Cross Selling Recommender System\\n\\n**Business Problem Statement:**\\n\\nOur financial services company has a diverse portfolio of investment products, yet the vast majority (99%) of our existing customers hold only one product—the Money Market Fund. Despite a broad array of offerings (Balanced Fund, Dollar Fund, Equity Fund, Fixed Income Fund, and Wealth Fund), our product penetration per customer (PPC) remains exceptionally low. This indicates a significant opportunity to cross-sell additional products to our existing customer base, which would increase customer value, loyalty, and the company’s overall profitability.\\n\\nCurrently, our customers’ data includes key information that could be leveraged to tailor product recommendations. These data points include:\\n- **Location (town)**\\n- **Gender**\\n- **Customer-relationship or beneficiary information** (as customers may have more than one relationship or beneficiary associated with them)\\n- **Customer age and DOB**\\n- **Beneficiary age and DOB**\\n\\nOur goal is to create a user-friendly, intelligent recommender system that can analyze this existing data to suggest additional, relevant financial products to each customer. This system should be able to identify patterns or trends in customer profiles, uncover customer needs, and map those needs to suitable financial products, increasing our PPC in an efficient, cost-effective manner. \\n\\n**Objectives:**\\n1. **Customer Retention and Loyalty**: By offering personalized recommendations, we aim to build deeper, more personalized relationships with our customers, making them more likely to stay with us long-term.\\n2. **Increased Revenue per Customer**: A successful cross-selling strategy would increase the average number of products per customer, boosting overall portfolio revenue.\\n3. **User-Friendly Experience**: Ensuring a straightforward, accessible interface for customers to explore new financial products, particularly given that our target customers may have limited experience with financial diversification.\\n\\n**Project Success Criteria:**\\n1. Develop a model that accurately predicts the next likely product(s) for each customer based on their profile and behavior.\\n2. Achieve a measurable increase in the PPC rate by the end of the initial deployment phase.\\n3. Design an intuitive interface that enhances the customer journey, with minimal friction, to encourage engagement and adoption.'}, {'cell_type': 'code', 'execution_count': 1, 'metadata': {}, 'outputs': [], 'source': 'import pandas as pd\\nimport numpy as np'}, {'cell_type': 'code', 'execution_count': 2, 'metadata': {}, 'outputs': [{'data': {'text/html': '<div>\\n<style scoped>\\n    .dataframe tbody tr th:only-of-type {\\n        vertical-align: middle;\\n    }\\n\\n    .dataframe tbody tr th {\\n        vertical-align: top;\\n    }\\n\\n    .dataframe thead th {\\n        text-align: right;\\n    }\\n</style>\\n<table border=\"1\" class=\"dataframe\">\\n  <thead>\\n    <tr style=\"text-align: right;\">\\n      <th></th>\\n      <th>member_no</th>\\n      <th>reg_date</th>\\n      <th>dob</th>\\n      <th>hse_no</th>\\n      <th>gender</th>\\n      <th>town</th>\\n      <th>relationship</th>\\n      <th>beneficiery_dob</th>\\n      <th>portfolio</th>\\n    </tr>\\n  </thead>\\n  <tbody>\\n    <tr>\\n      <th>0</th>\\n      <td>99996</td>\\n      <td>2023-10-01 00:00:00.000</td>\\n      <td>1998-04-06 00:00:00</td>\\n      <td>Single Member</td>\\n      <td>Female</td>\\n      <td>NAIROBI</td>\\n      <td>Partner</td>\\n      <td>1998-01-26</td>\\n      <td>Money Market</td>\\n    </tr>\\n    <tr>\\n      <th>1</th>\\n      <td>99996</td>\\n      <td>2023-10-01 00:00:00.000</td>\\n      <td>1998-04-06 00:00:00</td>\\n      <td>Single Member</td>\\n      <td>Female</td>\\n      <td>NAIROBI</td>\\n      <td>Partner</td>\\n      <td>1998-01-26</td>\\n      <td>Money Market</td>\\n    </tr>\\n    <tr>\\n      <th>2</th>\\n      <td>99996</td>\\n      <td>2023-10-01 00:00:00.000</td>\\n      <td>1998-04-06 00:00:00</td>\\n      <td>Single Member</td>\\n      <td>Female</td>\\n      <td>NAIROBI</td>\\n      <td>Partner</td>\\n      <td>1998-01-26</td>\\n      <td>Money Market</td>\\n    </tr>\\n    <tr>\\n      <th>3</th>\\n      <td>99996</td>\\n      <td>2023-10-01 00:00:00.000</td>\\n      <td>1998-04-06 00:00:00</td>\\n      <td>Single Member</td>\\n      <td>Female</td>\\n      <td>NAIROBI</td>\\n      <td>Partner</td>\\n      <td>1998-01-26</td>\\n      <td>Money Market</td>\\n    </tr>\\n    <tr>\\n      <th>4</th>\\n      <td>99996</td>\\n      <td>2023-10-01 00:00:00.000</td>\\n      <td>1998-04-06 00:00:00</td>\\n      <td>Single Member</td>\\n      <td>Female</td>\\n      <td>NAIROBI</td>\\n      <td>Partner</td>\\n      <td>1998-01-26</td>\\n      <td>Money Market</td>\\n    </tr>\\n    <tr>\\n      <th>...</th>\\n      <td>...</td>\\n      <td>...</td>\\n      <td>...</td>\\n      <td>...</td>\\n      <td>...</td>\\n      <td>...</td>\\n      <td>...</td>\\n      <td>...</td>\\n      <td>...</td>\\n    </tr>\\n    <tr>\\n      <th>7532949</th>\\n      <td>2</td>\\n      <td>2011-06-07</td>\\n      <td>1965-05-06</td>\\n      <td>Single Member</td>\\n      <td>Male</td>\\n      <td>NAIROBI</td>\\n      <td>NaN</td>\\n      <td>NaN</td>\\n      <td>Money Market</td>\\n    </tr>\\n    <tr>\\n      <th>7532950</th>\\n      <td>2</td>\\n      <td>2011-06-07</td>\\n      <td>1965-05-06</td>\\n      <td>Single Member</td>\\n      <td>Male</td>\\n      <td>NAIROBI</td>\\n      <td>NaN</td>\\n      <td>NaN</td>\\n      <td>Money Market</td>\\n    </tr>\\n    <tr>\\n      <th>7532951</th>\\n      <td>2</td>\\n      <td>2011-06-07</td>\\n      <td>1965-05-06</td>\\n      <td>Single Member</td>\\n      <td>Male</td>\\n      <td>NAIROBI</td>\\n      <td>NaN</td>\\n      <td>NaN</td>\\n      <td>Money Market</td>\\n    </tr>\\n    <tr>\\n      <th>7532952</th>\\n      <td>2</td>\\n      <td>2011-06-07</td>\\n      <td>1965-05-06</td>\\n      <td>Single Member</td>\\n      <td>Male</td>\\n      <td>NAIROBI</td>\\n      <td>NaN</td>\\n      <td>NaN</td>\\n      <td>Balanced Fund</td>\\n    </tr>\\n    <tr>\\n      <th>7532953</th>\\n      <td>2</td>\\n      <td>2011-06-07</td>\\n      <td>1965-05-06</td>\\n      <td>Single Member</td>\\n      <td>Male</td>\\n      <td>NAIROBI</td>\\n      <td>NaN</td>\\n      <td>NaN</td>\\n      <td>Money Market</td>\\n    </tr>\\n  </tbody>\\n</table>\\n<p>7532954 rows × 9 columns</p>\\n</div>', 'text/plain': '         member_no                 reg_date                  dob  \\\\\\n0            99996  2023-10-01 00:00:00.000  1998-04-06 00:00:00   \\n1            99996  2023-10-01 00:00:00.000  1998-04-06 00:00:00   \\n2            99996  2023-10-01 00:00:00.000  1998-04-06 00:00:00   \\n3            99996  2023-10-01 00:00:00.000  1998-04-06 00:00:00   \\n4            99996  2023-10-01 00:00:00.000  1998-04-06 00:00:00   \\n...            ...                      ...                  ...   \\n7532949          2               2011-06-07           1965-05-06   \\n7532950          2               2011-06-07           1965-05-06   \\n7532951          2               2011-06-07           1965-05-06   \\n7532952          2               2011-06-07           1965-05-06   \\n7532953          2               2011-06-07           1965-05-06   \\n\\n                hse_no  gender     town relationship beneficiery_dob  \\\\\\n0        Single Member  Female  NAIROBI      Partner      1998-01-26   \\n1        Single Member  Female  NAIROBI      Partner      1998-01-26   \\n2        Single Member  Female  NAIROBI      Partner      1998-01-26   \\n3        Single Member  Female  NAIROBI      Partner      1998-01-26   \\n4        Single Member  Female  NAIROBI      Partner      1998-01-26   \\n...                ...     ...      ...          ...             ...   \\n7532949  Single Member    Male  NAIROBI          NaN             NaN   \\n7532950  Single Member    Male  NAIROBI          NaN             NaN   \\n7532951  Single Member    Male  NAIROBI          NaN             NaN   \\n7532952  Single Member    Male  NAIROBI          NaN             NaN   \\n7532953  Single Member    Male  NAIROBI          NaN             NaN   \\n\\n             portfolio  \\n0         Money Market  \\n1         Money Market  \\n2         Money Market  \\n3         Money Market  \\n4         Money Market  \\n...                ...  \\n7532949   Money Market  \\n7532950   Money Market  \\n7532951   Money Market  \\n7532952  Balanced Fund  \\n7532953   Money Market  \\n\\n[7532954 rows x 9 columns]'}, 'execution_count': 2, 'metadata': {}, 'output_type': 'execute_result'}], 'source': '\\ndf = pd.read_csv(r\"single_member.csv\")\\ndf'}, {'cell_type': 'code', 'execution_count': 3, 'metadata': {}, 'outputs': [{'data': {'text/plain': \"Index(['member_no', 'reg_date', 'dob', 'hse_no', 'gender', 'town',\\n       'relationship', 'beneficiery_dob', 'portfolio'],\\n      dtype='object')\"}, 'execution_count': 3, 'metadata': {}, 'output_type': 'execute_result'}], 'source': 'df.columns'}, {'cell_type': 'code', 'execution_count': 4, 'metadata': {}, 'outputs': [{'data': {'text/plain': 'array([99996, 99994, 99993, ...,    19,     3,     2], dtype=int64)'}, 'execution_count': 4, 'metadata': {}, 'output_type': 'execute_result'}], 'source': \"df['member_no'].unique()\"}, {'cell_type': 'code', 'execution_count': 5, 'metadata': {}, 'outputs': [{'data': {'text/plain': \"array(['Female', 'Male', 'FEMALE', nan, 'MALE', 'F', 'M'], dtype=object)\"}, 'execution_count': 5, 'metadata': {}, 'output_type': 'execute_result'}], 'source': \"df['gender'].unique()\"}, {'cell_type': 'code', 'execution_count': 6, 'metadata': {}, 'outputs': [{'data': {'text/plain': 'array([\\'NAIROBI\\', nan, \\'NAIROBI \\', \\'THIKA\\', \\'NAKURU\\', \\'MOMBASA \\',\\n       \\'NDANAI \\', \\'KISUMU\\', \\'KIKUYU\\', \\'JUJA\\', \\'MACHAKOS\\', \\'MERU\\',\\n       \\'KERICHO\\', \\'MUKURWEINI\\', \\'KATANGI\\', \\'THIKA,KIAMBU\\', \\'NANYUKI\\',\\n       \\'RUAI \\', \\'MALINDI\\', \\'NYAHURURU\\', \\'MUMIAS\\', \\'KAKAMEGA\\', \\'LODWAR\\',\\n       \\'Nairobi \\', \\'KITENGELA\\', \\'LIMURU\\', \\'THIKA \\', \\'MIGORI\\', \\'ELDORET\\',\\n       \\'KITUI\\', \\'RUARAKA\\', \\'Ruiru\\', \\'NJORO\\', \\'EMBU\\', \\'SORI\\', \\'NGONG\\',\\n       \\'MASENO\\', \\'GATUNDU\\', \\'KAHURO\\', \\'KILIFI\\', \\'RUIRU\\', \\'KERUGOYA\\',\\n       \\'KARATINA\\', \\'KITALE \\', \\'MOMBASA\\', \\'BUNGOMA\\', \\'KISII\\', \\'-\\',\\n       \\'Nairobi\\', \\'KINAMBA\\', \\'SIAYA\\', \\'KERICHO \\', \\'KIAMBU\\', \\'KITALE\\',\\n       \\'BUSIA\\', \\'RUNYENJES\\', \\'VILLAGE MARKET\\', \\'Kapsabet\\', \\'KAGWE\\',\\n       \\'NANDI HILLS\\', \\'KUTUS\\', \\'DAGORETTI\\', \\'LITEIN\\', \\'KAJIADO\\', \\'CHUKA\\',\\n       \\'NYERI\\', \\'NAIROBI, NAIROBI\\', \\'Kisumu \\', \\'KANJUKU\\', \\'EMALI\\',\\n       \\'GILGIL\\', \\'Kiambu \\', \\'KANGEMA\\', \\'TIRIKI\\', \\'KARATINA \\', \\'OTHAYA\\',\\n       \\'KARURI ,KIAMBU\\', \\'MURANGA \\', \\'Mombasa\\', \\'GATUKUYU \\', \\'MLOLONGO\\',\\n       \\'UTAWALA \\', \\'KAPENGURIA\\', \\'KAPSABET\\', \\'SUNA\\', \\'BOMET\\', \\'KENOL \\',\\n       \\'NYERI \\', \\'BUNGOMA \\', \\'NDANAI\\', \\'KALIMONI\\', \\'KIGANJO\\',\\n       \\'KAPSOKWONY\\', \\'Nakuru\\', \\'KIAMBU \\', \\'nairobi\\', \\'CHOGORIA\\',\\n       \\'GITHUNGURI\\', \\'YOANI,SALAMA\\', \\'LIMURU \\', \\'NAIROBI, KENYA.\\',\\n       \\'UKUNDA\\', \\'MATUU\\', \\'embu\\', \\'NYALI\\', \\'nakuru\\', \\'MBALE\\', \\'EMUHAYA\\',\\n       \\'TELFORD\\', \\'NAIVASHA\\', \\'KAREN\\', \\'KILIFI \\', \\'HOLA\\', \\'MAKINDU\\',\\n       \\'WOTE\\', \\'DIANI\\', \\'O\\', \\'OLKALAU\\', \\'KAREN \\', \\'UPLANDS\\', \\'WANGÚRU\\',\\n       \\'KABIYET\\', \\'KAKAMEGA \\', \\'SOTIK\\', \\'NGONG \\', \\'CITY SQUARE\\', \\'NKUBU\\',\\n       \\'KANGARI\\', \\'NGONG HILLS \\', \\'NYAHURURU \\', \\'KARURI \\', \\'UTHIRU\\',\\n       \\'MARIMANTI\\', \\'MANCHESTER\\', \\'Kikuyu\\', \\'.\\', \\'NAIRO \\', \\'kiambu\\',\\n       \\'VOI\\', \\'EMBAKASI\\', \\'MOLO\\', \\'Siaya \\', \\'NGIYA\\', \\'OLKALOU\\',\\n       \\'KANYAGIA\\', \\'WANJOHI\\', \\'kabete\\', \\'Wamunyu\\', \\'MARIAKANI\\',\\n       \\'KISERIAN\\', \\'ARTHI RIVER \\', \\'SUBUKIA\\', \\'KILGORIS\\', \\'KIMININI\\',\\n       \\'LAGOS\\', \\'SARE\\', \\'ATHI RIVER\\', \\'ngong hills \\', \\'WERUGHA\\',\\n       \\'NAIROBIP\\', \\'MASINFA\\', \\'kikuyu\\', \\'OL JORO OROK\\', \\'MAUA\\',\\n       \\'GIKUE MURANGA\\', \\'KIMENDE\\', \\'KIMILILI\\', \\'KISUMU \\', \\'VIHIGA\\',\\n       \\' NAIROBI \\', \\'BURUBURU\\', \\'MATATHIA\\', \\'RUAKA\\', \\'UGUNJA\\', \\'LONGISA\\',\\n       \\'ELDORATE \\', \\'KAPKATET\\', \\'WINNIPEG\\', \\'PIPELINE \\', \\'KAHAWA WEST \\',\\n       \\'KANDARA\\', \\'Kimilili \\', \\'MTWAPA \\', \\'MARAGUA\\', \\'BANANA \\', \\'NYAMIRA\\',\\n       \\'AUBURN\\', \\'KARURI\\', \\'MTWAPA\\', \\'ONGATA RONGAI\\', \\'ELDORET \\',\\n       \\'HOMABAY\\', \\'WANGIGE\\', \\'KENDUBAY\\', \\'KIBWEZI\\', \\'RONGAI\\', \\'RUIRU \\',\\n       \\'NORTH KINANGOP\\', \\'MAKUYU\\', \\'Nyeri \\', \\'Eldoret \\', \\'BOUTIGNY\\',\\n       \\'00506\\', \\'MWINGI\\', \\'00100\\', \\'KERUGOYA \\', \\'TALA\\', \\'OLENGURUONE\\',\\n       \\'MAVINDINI\\', \\'UHURU GARDENS\\', \\'KIKUYU \\', \\'Ongata Rongai\\',\\n       \\'SOUTH KINANGOP\\', \\'ELDAMA RAVINE\\', \\'MITUNGURU\\', \\'TOM MBOYA\\',\\n       \\'NAKURU \\', \\'MITABONI\\', \\'NAROMORU\\', \\'MURANGA\\', \\'OLJOROROK\\',\\n       \\'BUTERE\\', \\'OYUGIS\\', \\'SILIBWET\\', \\'EMBU \\', \\'Doha\\', \\'Eldoret\\',\\n       \\'KANGEMI\\', \\'NYERI-KIGUMO\\', \\'KISERIAN \\', \\'Athi River\\', \\'KENOL\\',\\n       \\'OL KALOU\\', \\'WESTLANDS\\', \\'Nyahururu \\', \\'ENDARASHA \\', \\'GPO/NAIROBI\\',\\n       \\'DAGORETI\\', \\'OGEMBO \\', \\'mombasa\\', \\'RUAI\\', \\'DONYO SABUK\\', \\'KEROKA\\',\\n       \\'LOWER KABETE\\', \\'MWEIGA\\', \\'Naitobi\\', \\'TOKYO\\', \\'Embu\\', \\'KIRINYAGA\\',\\n       \\'KIANYAGA\\', \\'SIAYA \\', \\'ADLISWIL\\', \\'BURU BURU\\', \\'MERU \\', \\'NYAKIO\\',\\n       \\'KWALE\\', \\'AMUKURA\\', \\'NAROK\\', \\'KOBUJOI\\', \"WANG\\'URU\", \\'BONDO\\',\\n       \\'Kericho\\', \\'KIKIMA \\', \\'CHANGAMWE\\', \\'BUTULA\\', \\'NAIROBI KAYOLE\\',\\n       \\'KANGUNDO\\', \\'MARIAKANI \\', \\'TIMBOROA\\', \\'KIANJAI\\', \\'KALOLENI \\',\\n       \\'ISINYA\\', \\'IOWA CITY, IOWA\\', \\'Garsen \\', \\'MUKURWE-INI\\',\\n       \\'NAIROBI GPO\\', \\'MANYATTA\\', \\'SARE-OWENDO\\', \\'NANYUKI \\', \\'NDHIWA\\',\\n       \\'ELBURGON\\', \\'Orange\\', \\'MAKUENI\\', \\'kisumu \\', \\'MACHAKOS \\',\\n       \\'KABARNET \\', \"Murang\\'a \", \\'JUJA, KIAMBU\\', \\'Bungoma\\', \\'MAWEGO\\',\\n       \\'Bath\\', \\'ROYSAMBU\\', \\'Nanyuki\\', \\'SAGANA\\', \\'MACH \\', \\'Nyeri\\', \\'Ruaka\\',\\n       \\'KITUI \\', \\'KAJIADO \\', \\'NUNGUNI\\', \\'RONGAI \\', \\'KISII \\', \\'WANGIGE \\',\\n       \\'Makongeni Jogoo Rd\\', \\'nairobi \\', \\'Kikuyu \\', \\'Kisii\\', \\'MSAMBWENI\\',\\n       \\'BUJUMBURA\\', \\'GITHONGO\\', \\'KEROKA/KISII\\', \\'BURUBURU, NAIROBI\\',\\n       \\'MALAVA\\', \\'KIJABE\\', \\'Woolwich \\', \\'NDERE-SIAYA\\', \\'AHERO\\',\\n       \\'MUHORONI \\', \\'Nakuru \\', \\'kahuro\\', \\'Malakisi \\', \\'MUHORONI\\',\\n       \\'ISIOLO\\', \\'SYOKIMAU \\', \\'ONGATA RONGAI \\', \\'Maralal \\',\\n       \\'KIBIRICHIA, MERU\\', \\'GRANGER, INDIANA\\', \\'WESTLAND \\', \\'MUKURWEINI \\',\\n       \\'MASII\\', \\'NRB\\', \\'KWISERO\\', \\'ANKARA\\', \\'SHIMBA HILLS\\', \\'TAVETA\\',\\n       \\'WOTE, MAKUENI \\', \\'WANGURU\\', \\'KISSII\\', \\'BURUBURU NAIROBI \\',\\n       \\'KIRITIRI\\', \\'MESA ARIZONA\\', \\'KAJIADO TOWN\\', \\'KURIA\\',\\n       \\'NAIROBI WEST\\', \\'ENDARASHA\\', \\'KIPKAREN \\', \\'0\\', \\'GAMBOGI\\', \\'KOLA\\',\\n       \\'Marsabit\\', \\'WEBUYE\\', \\'GAKUNGU\\', \\'NAIROBJ\\',\\n       \\'NAIROBI ,KAMITI ROAD RICHLAND\\', \\'NKUBU \\', \\'MWATATE\\', \\'MALAKISI\\',\\n       \\'ITEN\\', \\'KATHIANI\\', \"MURANG\\'A\", \\'KAIRIA\\', \\'UPLANDS \\', \\'RONGO\\',\\n       \\'UHURU GARDEN\\', \\'KINANGOP\\', \\'BAHATI NAKURU \\', \\'MATILIKU\\', \\'meru\\',\\n       \\'Limuru\\', \\'MALAA\\', \\'TURBO\\', \\'MARIMA -MERU HIGHWAY \\', \\'OLJORO OROK\\',\\n       \\'homabay \\', \\'KIKIMA\\', \\'ADAMS ARCADE\\', \\'MUNICH\\', \\'MUMIAS \\',\\n       \\'KALIMONI \\', \\'CHWELE\\', \\'MARALAL\\', \\'NAMBALE\\', \\'NAIROBI COUNTY\\',\\n       \\'Narok \\', \\'TURBO \\', \\'KANGARI \\', \\'Pécs \\', \\'thika\\', \\'KATSE\\',\\n       \\'thika \\', \\'CHEBUNYO\\', \\'OL JORO OROK \\', \\'MOBIL PLAZA\\', \\'WAMUNYU \\',\\n       \\'MAGUNGA\\', \\'RORET\\', \\'YALA\\', \\'KAHUHIA\\', \"KENOL MURANG\\'A\",\\n       \\'Machakos\\', \\'UKWALA\\', \\'KALOLENI\\', \\'JOONDALUP\\', \\'MIGORI \\',\\n       \\'MARAGOLI\\', \\'MARMANET\\', \\'IKANGA\\', \\'KINOO\\', \\'OYUGIS \\', \\'LANGATA\\',\\n       \\'Kiambu\\', \\'Malindi\\', \\'NAIROBI.\\', \\'MAKUENI \\', \\'Bungoma \\',\\n       \\'GITHUNGURI \\', \\'MACHOKOS\\', \\'KOMBEWA \\', \\'UTHIRU \\', \\'KITENGELA \\',\\n       \\'BANANA\\', \\'CHEPKORIO\\', \\'MASII \\', \\'Gitugi\\', \\'. \\', \\'RUIRY\\', \\'Kisumu\\',\\n       \\'MBUMBUNI-MACHAKOS\\', \\'WAMUYU\\', \\'siaya\\', \\'Kakamega\\', \\'TAITA TAVETA\\',\\n       \\'Bumala\\', \\'KIMENDE \\', \\'BRISTOL\\', \\'MATUNDA\\', \\'KARABA\\', \\'SULTAN\\',\\n       \\'GATURA\\', \\'KASARANI ,NAIROBI \\', \\'NANDI\\', \\'MAGUTUNI\\', \\'CHUKA \\',\\n       \\'NGONG HILL\\', \\'ngong\\', \\'KIANGAI\\', \\'MBITA\\', \\'Mumias\\', \\'KAMBITI\\',\\n       \\'MUMBI\\', \\'Juja\\', \\'WODANGA\\', \\'KIRIANI\\', \\'KABARNET\\', \\'MISIKHU\\',\\n       \\'Thika\\', \\'NYANSIONGO\\', \\'nyeri \\', \\'NAIVASHA \\', \"MURANG\\'A \",\\n       \\'KAPCHENO\\', \\'NGARA\\', \\'MADARAKA\\', \\'kitengela \\', \\'BONDO \\', \\'WAMUNYU\\',\\n       \\'NYANDARUA\\', \\'MOGOGOSIEK\\', \\'00\\', \\'NAIROBI/JUJA\\', \\'NA \\', \\'LUANDA\\',\\n       \\'KLEMZIG\\', \\'TEL AVIV\\', \\'ongata rongai \\', \\'30-60101 Manyatta \\',\\n       \\'12410 Nyeri\\', \\'KATHONZWENI \\', \\'GITHURAI \\', \\'WESRN AUSTRALIA\\',\\n       \\'SABASABA \\', \\'Gilgil \\', \\'ISEBANIA\\', \\'KIRIAINI\\', \\'MUTHETHENI \\',\\n       \\'Mombasa \\', \\'Kitengela\\', \\'CARLIFONIA\\', \\'NIL\\',\\n       \\'NAIROBI, NAIROBI AREA, KENYA\\', \\'SOY\\', \\'Sabasaba\\', \\'SABASABA\\',\\n       \\'COLUMBIA\\', \\'Homa Bay \\', \\'MARIMA\\', \\'SEGA\\', \\'KAYOLE\\', \\'BUDD LAKE\\',\\n       \\'KITHYOKO\\', \\'KIJABE \\', \\'Mbale\\', \\'KITHIMANI\\', \\'HANOI\\', \\'chuka\\',\\n       \\'KILINDINI\\', \\'MERY\\', \\'CHELMSFORD\\', \\'LOITOKITOK\\', \\'MOSORIOT\\',\\n       \\'IKONGE\\', \\'ENGINEER\\', \\'Othaya\\', \\'Ahero\\', \\'MWEA\\', \\'JOSKA \\',\\n       \\'NGAMBWA\\', \\'MASINGA\\', \\'KINANGOP \\', \\'LONDON\\', \\'KILELESHWA \\',\\n       \\'SARIT CENTRE\\', \\'mgange \\', \\'ST. MARYS NSW\\', \\'GESIMA\\', \\'Migori \\',\\n       \\'KHWISERO\\', \\'SYOKIMAU\\', \\'MTITO ANDEI \\', \\'nakuru \\', \\'NAIROBI CITY\\',\\n       \\'ATHIRIVER\\', \\'KABATI\\', \\'Kitale\\', \\'MPEKETONI\\', \\'YOANI\\',\\n       \\'KABARTONJO\\', \\'NAMANGA\\', \\'CHESINENDE\\', \\'BAHATI\\', \\'NZEEKA\\',\\n       \\'MATATHIA, KAMAE\\', \\'RONALD NGALA \\', \\'KUBUKUBU\\', \\'THOGOTO\\',\\n       \\'GATORA\\', \\'NAI \\', \\'KUJA,KIAMBU\\', \\'Machakos \\', \\'AMAGORO\\', \\'Uthiru\\',\\n       \\'Naivasha\\', \\'KEROKA \\', \\'MAZERAS\\', \\'EGERTON\\', \\'KASARANI\\', \\'Kimende\\',\\n       \\'WAJIR\\', \\'DUBAI\\', \\'TWO RIVERS\\', \\'NDARAGWA \\', \\'EASTLEIGH\\', \\'KAGIO\\',\\n       \\'HOMA BAY\\', \\'KISII, KENYA\\', \\'Thika \\', \\'NGECHA\\', \\'Kakamega \\',\\n       \\'KERINGET\\', \\'FORT WAYNE\\', \\'STAREHE\\', \\'GILGIL \\', \\'KAWANGWARE\\',\\n       \\'GPO NAIROBI\\', \\'GITUGI\\', \\'Tala\\', \\'kakamega \\', \\'TEXAS\\', \\'GACHIE\\',\\n       \\'Syokimau\\', \\'Sydney \\', \\'LESSOS\\', \\'Meru \\', \\'KIPKAREN RIVER\\',\\n       \\'SOSIOT\\', \\'LAKEWOOD SEATTLE\\', \\'Lodwar\\', \\'Kitale \\', \\'Membley\\',\\n       \\'chepkorio\\', \\'Luanda\\', \\'Kijabe \\', \\'TONGAREN\\', \\'karuri \\', \\'malindi\\',\\n       \\'Ogembo \\', \\'Maryland\\', \\'Kisii Town \\', \\'kajiado \\', \\'LIKONI\\',\\n       \\'wangige \\', \\'Ngong\\', \\'OLKALOU \\', \\'4597-20100 Nakuru\\', \\'GARISSA\\',\\n       \\'KIRIAINI \\', \\'SYOKIMAU L\\', \\'Machakos, Kathiani\\', \\'Kitui\\',\\n       \\'AUSTRALIA\\', \\'Bondo\\', \\'Salama \\', \\'bomet \\', \\'Naivasha \\',\\n       \\'TOORMINA, NSW\\', \\'Utawala\\', \\'Ankara\\', \\'MOISBRIDGE\\', \\'nbo\\',\\n       \\'Kijabe\\', \\'KABAZI\\', \\'P.O BOX 75-30105 SOY\\', \\'kisumu\\', \\'nyeri\\',\\n       \\'Voi\\', \\'Kanjuku\\', \"NG\\'IYA\", \\'Muranga\\', \\'Bournemouth \\',\\n       \\'SARE-AWENDO\\', \\'narok\\', \\'Ruiru \\', \\'Kilifi \\', \\'Meru\\',\\n       \\'Ol-joro-orok\\', \\'152 30100 eldoret \\', \\'Mtwapa\\', \\'Karuri\\',\\n       \\'Kitengela \\', \\'Isiolo \\', \\'38061-00623 Nairobi\\', \\'Ngong Hills\\',\\n       \\'RARIEDA\\', \\' Nairobi County,\\', \\'187 Ngewa\\', \\'NJAMBINI\\',\\n       \\'25635 00603 Nairobi\\', \\'GIKOE\\', \\'kakamega\\', \\'ISHIARA \\',\\n       \\'P. O. Box 111 Ruiru\\', \\'Kibwezi\\', \\'Syokimau \\', \\'kiambu \\', \\'Bomet \\',\\n       \\'Busia\\', \\'Gilgil\\', \\'LAMU\\', \\'Kajiado \\', \\'makueni \\', \\'kisii\\',\\n       \\'MERU 2274\\', \\'TURKANA\\', \\'Kilifi\\', \\'nottingham\\', \\'Embakasi\\',\\n       \\'Masii - MACHAKOS\\', \\'SEREM\\', \\'Tala, Kangundo. \\', \\'Ugunja\\',\\n       \\'Karatina\\', \\'Migori\\', \\'Berlin\\', \\'KALAMBA\\', \\'UKUNDA \\', \\'ruiru\\',\\n       \\'Sondu\\', \\'BUSIA - PORT VICTORIA \\', \\'Matuu.\\', \\'Gatundu\\',\\n       \\'Seasons Kasarani. \\', \\'KARUNGU\\', \\'Kahawa Sukari\\', \\'Kangundo \\',\\n       \\'mombasa \\', \\'St. Georges\\', \\'maseno\\', \\'KINDARUMA \\',\\n       \\'kakuma 1 Nuer community \\', \\'copenhagen\\', \\'549 LIMURU\\', \\'Lamu\\',\\n       \\'DRESDEN\\', \\'Ol Kalou \\', \\'KIRIA-INI \\', \\'123 KIKUYU\\', \\'Kianyaga\\',\\n       \\'Kasarani\\', \\'Makueni \\', \\'KABETE\\', \\'Sagana\\',\\n       \\'Imani avenue, Ongata Rongai, Kajiado\\', \\'LOS ANGELES\\', \\'KAKUMA\\',\\n       \\'kitengela\\', \\'56-10300 Kerugoya\\', \\'Kalimoni P.o Box 178-01001\\',\\n       \\'Nairobi, Komarock.\\', \\'kilifi\\', \\'NAIROBI, KITENGELA \\',\\n       \\'14 Lamina Avenue, Mill Park VIC 3082\\', \\'kebirigo \\', \\'Darwin \\',\\n       \\'Kericho \\', \\'Nairibi\\', \\'782 - 00232 Ruiru\\', \\'eldoret\\', \\'Oyugis\\',\\n       \\'Conroe\\', \\'NAIROBI 572 00300\\', \\'Eldama Ravine\\', \\'Kabete \\', \\'Maua\\',\\n       \\'Isiolo\\', \\'828-90200\\', \\'Athens\\', \\'Chicago \\', \\'Hola\\', \\'Abu Dhabi \\',\\n       \\'Nyayo Estate, Court 521\\', \\'Deanside\\', \\'452-00200, KIAMBU\\',\\n       \\'KOBENHAUN\\', \\'karuri\\', \\'Nanyuki \\', \\'P.O. Box 2413-60200, Meru\\',\\n       \\'Kenol\\', \\'Wote\\', \\'githunguri \\', \\'NAIROBI. 45095-00100\\', \\'Serem\\',\\n       \\'P.o.box 1298-00618 Ruaraka, Nairobi\\', \\'Vienna \\', \\'karen\\',\\n       \\'CHICAGO\\', \\'GENEVA\\', \\'Kiserian \\', \\'Kabarnet\\', \\'RABAI\\',\\n       \\'KIAMBU COUNTY\\', \\'Uthiru Cooperation \\', \\'Githunguri \\',\\n       \\'79718-00200 NAIROBI\\', \\'stockholm\\', \\'42 NDARAGWA\\',\\n       \\'P.O. Box 103635-00101\\', \\'Heuchlingen \\', \\'PORT VICTORIA\\',\\n       \\'Doolandella, Australia\\', \\'Grand Oyster Kileleshwa, Nairobi\\',\\n       \\'10572-00200 NAIROBI\\', \\'Wangige \\', \\'Siaya\\', \\'Litein\\', \\'Washington\\',\\n       \\'Geneva\\', \\'Winchester \\', \\'Mariashoni\\', \\'Mwiki\\', \\'Limuru \\',\\n       \\'Nairobi i\\', \\'P O Box 898-00100 NAIROBI\\', \\'KAWNGWARE NAIROBI \\',\\n       \\'rongai\\', \\'Roysambu\\', \\'NAIROBI UMOJA\\', \\'kangema\\',\\n       \\'P.O.Box 848-00208 NGONG\\', \\'Braunschweig \\', \\'Wote MAKUENI\\',\\n       \\'814_3 300 KAPSABET \\', \\'Box 2316 Machakos\\', \\'Ruaraka\\', \\'Nyahururu\\',\\n       \\'Kenmore \\', \\'Melbourne \\', \\'1711 Nyahururu\\', \\'nanyuki\\',\\n       \\'kawangware \\', \\'Narok\\', \\'Githunguri\\', \\'Mahindi \\', \\'Moncton\\',\\n       \\'kERUGOYA\\', \\'Homa Bay\\', \\'Ukunda\\', \\'Mukurweini \\', \\'Malindi \\',\\n       \\'narumoru\\', \\'Juba\\', \\'01000-214 Thika\\', \\'kabete \\', \\'Kajiado\\',\\n       \\'NAROK \\', \\'Kapenguria \\', \\'Athi-river \\', \"murang\\'a \", \\'Gem\\',\\n       \\'nyahururu \\', \\'Gachie \\', \\'Kirinyaga\\', \\' Nairobi \\', \\'CALIFORNIA\\',\\n       \\'Bomet\\', \\'molo\\', \\'Chuka\\', \\'Nairobi, Kenya.\\', \\'ANTONY\\',\\n       \\'wite-makueni\\', \\'ugunja\\', \\'Matunda \\', \\'KARORI\\', \\'kikuyu \\',\\n       \\'Shinyalu \\', \\'Molo\\', \\'KIPKAREN\\', \\'KANGUNDO \\', \\'LUTON\\', \\'FLORIDA\\',\\n       \\'NGEWA\\', \\'SUSWA\\', \\'USA\\', \"KENOL MURANG\\'A \", \\'PUYALLUP WA USA\\',\\n       \\'LAARE\\', \\'P.O Box 30231 - 00100, Nairobi\\', \\'Runyenjes\\',\\n       \\'KENDUBAY \\', \\'Gigiri, Nairobi\\', \\'GATUKUYU\\', \\'BUNYALA\\', \\'OKIA\\',\\n       \\'3704 GPO NAIROBI \\', \\'RANGWE\\', \\'KITUI KENYA\\', \\'SAUDI ARABIA\\',\\n       \\'JUJA KALIMONI\\', \\'MSA\\', \\'GAKUNYU\\', \\'MIHARATI\\', \\'KERUGOYA TOWN\\',\\n       \\'RAGENGNI\\', \\'mwingi \\', \\'NBI\\', \\'IGOJI\\', \\'KIMULOT\\', \\'LONDIANI\\',\\n       \\'CAMBRIDGE\\', \\'KHAYEGA\\', \\'NDUNYU NJERU \\', \\'58-10205 Maragua\\',\\n       \\'MALINDI \\', \\'Kasarani, Clay City\\', \\'ATHI RIVER \\', \\'Sawagongo \\',\\n       \\'HELSINKI\\', \\'GPO\\', \\'BURNTFOREST\\', \\'MATUNDA \\', \\'HARRISDALE\\',\\n       \\'KARANDI\\', \\'DUKHAN \\', \\'SONDU\\', \\'EMBU, KENYA\\', \\'NAIROBI KENYA\\',\\n       \\'NANDI HILLS \\', \\'HAZELWOOD\\', \\'MGANGE\\', \\'LUCYSUMMER-NAIROBI\\',\\n       \\'KUKUYU\\', \\'NGONG ROAD\\', \\'NYAYO STADIUM\\', \\'Karen\\', \\'makuyu\\',\\n       \\'LOITIKITOK\\', \\'Kenyenya\\', \\'MUNICH \\', \\'tawa\\', \\'FUNYULA\\',\\n       \\'NOTTIGHAM\\', \\'nanyuki \\', \\'Kenny Bay\\', \\'MOMBSA\\', \\'SHERWOOD\\',\\n       \\'NDARAGWA\\', \\'ongata rongai\\', \\'BUMALA\\', \\'MEITINGEN \\', \\'80100\\',\\n       \\'KOMBEWA\\', \\'DOYSELDOR\\', \\'NOTTINGHAM\\', \\'VIENNA\\', \\'KISERIAN KAJIADO\\',\\n       \\'NAIROBI, KENYA\\', \\'Mtwapa \\', \\'KEUMBU\\', \\'Kerugoya Town\\', \\'KAP \\',\\n       \\'UPPER HILL NAIROBI\\', \\'MOI;S BRIDGE\\', \\'ENTERPRISE  ROAD\\',\\n       \\'THIONGO-NAIROBI\\', \\'KATHONZWENI\\', \\'UTAWALA\\', \\'MIU ATHI-RIVER\\',\\n       \\'CHAMAKANGA\\', \\'NYAMACHE\\', \\'NUERI\\', \\'SULTAN HAMUD\\', \\'NAROMORU \\',\\n       \\'NYAMIRA \\', \\'NAIROBI BURU\\', \\'HAMBURG\\', \\'TOWN \\', \\'14 KADONGO 40223\\',\\n       \\'Mois Bridge \\', \\'RUNYENJES \\', \\'MARAGWA\\', \\'SURPRISE,USA\\',\\n       \\'KALAMBA \\', \\'Ruai\\', \\'KADONGO\\', \\'TORONGO\\', \\'NJABINI\\',\\n       \\'GIGIRI, VILLAGE MARKET, NAIROBI\\', \\'LAVINGTON\\', \\'SPRING VALLEY\\',\\n       \\'MBUMBUNI\\', \\'NAIROBI MUNICIPALITY\\', \\'NAIROBI,KENYA\\',\\n       \\'Bamburi Mtambo \\', \\'GITHURAI\\', \\'RUMURUTI\\',\\n       \\'Kenyatta Highway, Nanyuki\\', \\'MUTOMO\\', \\'KENYATTA HOSPITAL\\',\\n       \\'NAIROBI GENERAL POST OFFICE\\', \\'LITIEN\\', \\'LONDIANI \\',\\n       \\'ONGATA RONGAI NAIROBI\\', \\'GATUNDU \\', \\'GAMBONI\\', \\'NAIROB\\',\\n       \\'L.KABETE\\', \\'ATHI - RIVER\\', \\'kerugoya \\', \\'Webuye \\', \\'Maralal\\',\\n       \\'Andover\\', \\'mombas\\', \\'Kiambu 627-00900\\', \\'Maragua\\',\\n       \\'murang*a 10200-658\\', \\'Syracuse\\', \\'Karen Nairobi \\',\\n       \\'ontario, California 91764 \\', \\'Karlsruhe \\', \\'Nyamira \\', \\'Olkalau\\',\\n       \\'GILGIL, KENYA\\', \\'Kerugoya \\',\\n       \\'14 AV FERNAND FENZY92160  ANTONY FRANCE\\'], dtype=object)'}, 'execution_count': 6, 'metadata': {}, 'output_type': 'execute_result'}], 'source': \"df['town'].unique()\"}, {'cell_type': 'code', 'execution_count': 7, 'metadata': {}, 'outputs': [{'data': {'text/plain': 'array([\\'Partner\\', \\'Sister\\', \\'Husband \\', \\'Husband\\', \\'Daughter\\', \\'Brother \\',\\n       \\'Son\\', \\'Daughter \\', \\'Wife\\', \\'Father\\', \\'Mother\\', \\'Brother\\', \\'son\\',\\n       \\'mother\\', \\'father\\', \\'Mother \\', \\'SPOUSE\\', \\'FRIEND\\', \\'Spouse \\',\\n       \\'WIfe\\', \\'Father \\', \\'Spouse\\', \\'child\\', nan, \\'Parent\\', \\'wife\\',\\n       \\'Wife \\', \\'Son \\', \\'spouse\\', \\'doughter\\', \\'CHILD\\', \\'ParentChild\\',\\n       \\'partner\\', \\'brother\\', \\'sister\\', \\'MotheR\\', \\'Friend\\', \\'Child\\',\\n       \\'Cousin\\', \\'Dad\\', \\'Mum\\', \\'MOTHER\\', \\'WIFE\\', \\'Sister \\', \\'SON\\',\\n       \\'BROTHER\\', \\'FATHER\\', \\'aunt \\', \\'Grandmother\\', \\'HUSBAND\\', \\'self\\',\\n       \\'husband\\', \\'husband \\', \\'Owner\\', \\' Grand daughter\\', \\'Nephew\\',\\n       \\'SP0USE\\', \\'Self\\', \\'parent\\', \\'SISTER\\', \\'NIECE\\', \\'Niece\\', \\'daughter\\',\\n       \\'Sibling\\', \\'DAUGHTER\\', \\'AUNT\\', \\'brother \\', \\'254701361835\\',\\n       \\'Parent \\', \\'daughter \\', \\'FAITHER\\', \\'Family \\', \\'SPOUSE \\',\\n       \\'Sibling \\', \\'PARENT\\', \\'CONFIDANT\\', \\'MUM\\', \\'DAD\\', \\'wife \\', \\'family\\',\\n       \\'Trustee \\', \\'son \\', \\'mother \\', \\'MOTHER \\', \\'friend\\', \\'spouse \\',\\n       \\'S0N\\', \\'SISTER \\', \\'FATHER \\', \\'father \\', \\'FAMILY \\', \\'WifE\\',\\n       \\'Partner \\', \\'daugther\\', \\'1226805243;130143346\\', \\'relative\\',\\n       \\'BROTHER \\', \\'Daighter\\', \\'Advisor\\', \\'SON \\', \\'AUNTIE\\', \\'FIANCEE\\',\\n       \\'Fiancee\\', \\'DOUGHTER\\', \\'parent \\', \\'HUSBAND \\', \\'DAUGHTER \\', \\'SELF\\',\\n       \\'MOther\\', \\'mOTHER\\', \\'Aunt\\', \\'Grandparent\\', \\'Bother \\', \\'SO\\',\\n       \\'married\\', \\'MARRIED\\', \\'FIANCE\\', \\'Doughter \\', \\'Guardian \\',\\n       \\'ASS0CIATE\\', \\'sibling\\', \\'fiance\\', \\'Sistet\\', \\'Grandson\\', \\'Doughter\\',\\n       \\'DAUGTHER\\', \\'wIFE\\', \\'Bro\\', \\'PARTNER\\', \\'B INLAW\\', \\'GUARDIAN\\',\\n       \\'daughte\\', \\'Mom\\', \\'COUSIN\\', \\'GRANDMA\\', \\'aunt\\', \\'Domestic Partner\\',\\n       \\'PATNER\\', \\'me\\', \\'MENTOR\\', \\'UNCLE\\', \\'Sis\\', \\'SiBLING\\', \\'GRAND SON\\',\\n       \\'Fiance \\', \\'KID\\', \\'SIBLING\\', \\'GRANDSON\\', \\'Nephew \\', \\'-\\', \\'Cousin \\',\\n       \\'DAUGHETR\\', \\'Person\\', \\'s0n\\', \\'na\\', \\'myson\\', \\'PARTNER \\', \\'Bishop\\',\\n       \\'nephew\\', \\'mwas\\', \\'Mothers\\', \\'Friend \\', \\'Child \\', \\'daughter33\\',\\n       \\'CLOSE FRIEND\\', \\'hUSBAND\\', \\'CLOSEFRIEND\\', \\'Boyfriend \\',\\n       \\'dependant\\', \\'WIFE \\', \\'MARRIAGE\\', \\'GRAND DAUGHTER\\', \\'DAUGHER\\',\\n       \\'Niece \\', \\'granddaughter\\', \\'grandson\\', \\'DAUGHTER/CHILD\\',\\n       \\'RELATIVE\\', \\'mum\\', \\'single\\', \\'Self \\', \\'sister \\', \\'Mother TO SON\\',\\n       \\'Grandfather\\', \\'DAD \\', \\'Relative\\', \\'Daughter-in-law \\',\\n       \\'GRANDMOTHER\\', \\'child \\', \\'15\\', \\'DaD\\', \\'GIRLFRIEND\\', \\'FAMILY\\',\\n       \\'Uncle \\', \\'SiNGLE\\', \\'SINGLE\\', \\'fiancee\\', \\'FaMILY\\', \\'BENEFICIARY\\',\\n       \\'OWNER\\', \\'Relative \\', \\'GRANDDAUGHTER\\', \\' Spouse\\', \\'uncle\\',\\n       \\'Married \\', \\'chil\\', \\'CHILD MINOR\\', \\'33\\', \\'NEPHEW\\', \\'JOINT PARTNER\\',\\n       \\'MOTHERS \\', \\'Fiancé \\', \\'Others \\', \\'Grand daughter\\',\\n       \\'DAUGHTER-IN-LAW\\', \\'Na\\', \\'CHILD \\', \\'SPIRITUAL FATHER\\', \\'COUSN\\',\\n       \\'DEPEDANT\\', \\'Estate\\', \\'Uncle\\', \\'sISTER\\', \\'sisiter\\', \\' BROTHER\\',\\n       \\'Granddaughter \\', \\'BRother\\', \\'Aunt \\', \\'cousin\\', \\'Baby\\', \\'Morher\\',\\n       \\'MOM\\', \\'God mother\\', \\'GRANDSON \\', \\'Husband/spouse\\', \\'SPOUCE\\',\\n       \\'uncle \\', \\'FRIEND \\', \\'Single\\', \\'Vhild\\', \\'Patner\\', \\'Spouce\\',\\n       \\'Family\\', \\'SoN\\', \\'SisteR\\', \\'AUNTY\\', \\'FATHER-IN-LAW\\', \\'SonS\\', \\'0\\',\\n       \\'MO9\\', \\'Fiance\\', \\'33.4\\', \\'CHILF\\', \\'254727756559\\', \\'0720401466\\',\\n       \\'GRAND FATHER\\', \\'PRINCIPAL\\', \\'Guardian\\', \\'JUNIOR\\',\\n       \\'DGRAND DAUGHTER\\', \\'COWORKER\\', \\'GRAND MOTHER\\', \\'D100\\', \\'NMO\\',\\n       \\'BUSINESS PARTNER\\', \\'GURDIAN\\', \\'2021\\', \\'MotH\\', \\'MoM\\', \\'UN,CLE\\',\\n       \\'GRAND CHILD\\', \\'Sister in law\\', \\'Grand Daughter\\', \\'COMAPANION\\',\\n       \\'BOYFRIEND\\', \\'EX-WIFE\\', \\'GRANDDAUGTER\\', \\'PARNT\\', \\'M\\', \\'F\\', \\'Chils\\',\\n       \\';SON\\', \\'GUARDINA\\', \\'NiecE\\', \\'Brother-IN-LAW\\', \\'Member\\',\\n       \\'Grand mother\\', \\'ADMINISTRATOR\\', \\'VM\\', \\'GRANDFATHER\\', \\'GIRLFRIED\\',\\n       \\'Brestfriend\\', \\'Finance\\', \\'SIS\\', \\'Daughter in law\\', \\'children\\',\\n       \\'Girlfriend\\', \\'COLLEAGUE\\', \\'TRUSTEE\\', \\'254708368426\\', \\'Colleague\\',\\n       \\'Sister-IN-LAW\\', \\'GRAND-DAUGHTER\\', \\'GRANNY\\', \\'GRANDCHILD\\', \"\\'M\",\\n       \\'spouce\\', \\'SiLBLING\\', \\'Siblings\\', \\'Step-mother\\', \\'Aunty\\', \\'FREINF\\',\\n       \\'50\\', \\'100\\', \\'254723993458\\', \\'Cousins\\', \\'Cousins \\', \\'ASSOCIATE\\',\\n       \\'Fiane\\', \\'guardian\\', \\'Guadian\\', \\'Confidant\\', \\'Auntie\\', \\'GRANDPA\\',\\n       \\'mom\\', \\'Brother in Law\\', \\'BUSINESS PARTNER \\', \\'Spuose\\',\\n       \\'Business Partner\\', \\'Dating\\', \\'IN LAW\\', \\'STEP-MOM\\', \\'Son/Brother\\',\\n       \\'Chid\\', \\'Granddaughter\\', \\'niece\\', \\'Son/SISTER\\', \\'Grand Son\\',\\n       \\'BrotheR\\', \"Nolan\\'s Guardian\", \"Xena\\'s Guardian\", \\'Sister-in law\\',\\n       \\'PARENTS\\', \\'c/o\\', \\'STEP MOTHER\\', \\'NiCE\\', \\'Ciru\\', \\'DEPENDANT\\',\\n       \\'som\\', \\'GUARDIAN \\', \\'Dau`\\', \\'Kid\\', \\'PARENT \\', \\'CHILDREN\\',\\n       \\'partner \\', \\'CLOUSIN\\', \\'19112004\\', \\'twinsister\\', \\'MINOR\\',\\n       \\'Sister- Custodian\\', \\'GRANSON\\', \\'COMPANION\\', \\'ENGAGED\\',\\n       \\'WELL WISHER\\', \\'PARNER\\', \\'GRANCHILD\\', \\'Trustee\\', \\'Next of kin\\',\\n       \\'SIIBLING\\', \\'SIBLINGS\\', \\'Foster daughter\\', \\'ADMINSTRATOR\\',\\n       \\'IN-LAW\\', \\'Boyfriend\\', \\'NepheW\\', \\'EMPLOYEE\\', \\'DIRECTORS\\',\\n       \\'RELIGIOUS COMMUNITY\\', \\'CUSTODIAN\\', \\'C/O ARIANNA\\', \\'Sister IN LAW\\',\\n       \\'spose\\', \\'SPAUSE\\', \\'MEMBER\\', \\'DomesticPartner\\', \\'Grand-daughter\\',\\n       \\'Brother-in-law\\', \\'STEP-BROTHER\\', \\'Mother to Evan\\', \\'Sister-Inlaw\\',\\n       \\'BUS. PARTNER\\', \\'Sister(Guardian)\\', \\'CONTACT PERSON\\', \\'FatheR\\',\\n       \\'Brother in law\\', \\'Parwnt\\', \\'M,\\', \\'Sister-GUARDIAN\\', \\'Grand Child\\',\\n       \\'GODMOTHER\\', \\'Sister-Guardian\\', \\'Mother- Guardian\\', \\'Grandchild\\',\\n       \\'Grand son\\', \\'CHLD\\', \\'GRAND.DAUGHTER\\', \\'GRAND-MOTHER\\', \\'Parents\\',\\n       \\'EX WIFE\\', \\'Sister - Guardian\\', \\'Step-Mother\\', \\'FOSTER DAUGHTER\\',\\n       \\'Grand-mother\\', \\'God Mother\\', \\'Mother-in-law\\', \\'MEMBER \\',\\n       \\'B/S PARTNER\\', \\'LAWYER\\', \\'GRAND-SON\\', \\'parents\\', \\'Stepson\\',\\n       \\'Contingent\\', \\'grandmother\\', \\'G/Daughter\\', \\'Brother and sister\\',\\n       \\'Sibbling\\', \\' \\', \\'COUSIN \\', \\'DaughteR\\', \\'SPUOSE\\', \\'CHIILD\\',\\n       \\'DSPOUSE\\', \\'Executor\\', \\'HU\\', \\'EWIFE\\', \\'SPOUDSE\\', \\'SoPOUSE\\',\\n       \\'grandchild\\', \\'ChILD\\', \\'9266025\\', \\'PARE NT\\', \\'254700442162\\',\\n       \\'BEST FRIEND\\', \\'SISTER IN LAW \\', \\'mather\\', \\'SAVING PARTNER \\',\\n       \\'AUNTIE \\', \\'ParenChild\\', \\'GIRLFRIEND \\', \\'SINGLE \\', \\'Parentchild\\',\\n       \\'parentchild\\', \\'SPOUSE20\\', \\'Myself\\', \\'FIACEE\\', \\'SD\\',\\n       \\'Grand mother \\', \\'Mother of child\\', \\'Childnephew\\', \\'FATH \\',\\n       \\'MY SON\\', \\'BabyMother\\', \\'CHID\\', \\'GIRL FRIEND\\', \\'chils\\', \\'self \\',\\n       \"Mother\\'s \", \\'Mum \\', \\'aunty\\', \\'SPouse\\', \\'Auntie \\', \\'ChiLD\\',\\n       \\'grandmother \\', \\'Grand daughter \\', \\'auntie\\', \\'baby mama \\', \\'DA\\',\\n       \\'BrOther\\', \\'Fiancee \\', \\'In law\\', \\'Colleague \\', \\'WiFE\\', \\'owner\\',\\n       \\'sON\\', \\'Mather\\', \\'Dauhgter\\', \\'myself\\', \\'Hubby\\', \\'Sister in-law\\',\\n       \\'Aunty \\', \\'Foster parent\\', \\'grandson \\', \\'Wife/Guardian\\',\\n       \\'21761402\\', \\'GUARDIAN-MOTHER\\'], dtype=object)'}, 'execution_count': 7, 'metadata': {}, 'output_type': 'execute_result'}], 'source': \"df['relationship'].unique()\"}, {'cell_type': 'code', 'execution_count': 8, 'metadata': {}, 'outputs': [{'data': {'text/plain': \"array(['Single Member'], dtype=object)\"}, 'execution_count': 8, 'metadata': {}, 'output_type': 'execute_result'}], 'source': \"df['hse_no'].unique()\"}, {'cell_type': 'code', 'execution_count': 9, 'metadata': {}, 'outputs': [{'data': {'text/plain': \"array(['Money Market', 'Dollar Fund', 'Wealth Fund', 'Equity Fund',\\n       'Fixed Income', 'Balanced Fund', 'MoneyMarket', nan], dtype=object)\"}, 'execution_count': 9, 'metadata': {}, 'output_type': 'execute_result'}], 'source': \"df['portfolio'].unique()\"}, {'cell_type': 'code', 'execution_count': 10, 'metadata': {}, 'outputs': [{'data': {'text/plain': 'array([\\'NAIROBI\\', nan, \\'NAIROBI \\', \\'THIKA\\', \\'NAKURU\\', \\'MOMBASA \\',\\n       \\'NDANAI \\', \\'KISUMU\\', \\'KIKUYU\\', \\'JUJA\\', \\'MACHAKOS\\', \\'MERU\\',\\n       \\'KERICHO\\', \\'MUKURWEINI\\', \\'KATANGI\\', \\'THIKA,KIAMBU\\', \\'NANYUKI\\',\\n       \\'RUAI \\', \\'MALINDI\\', \\'NYAHURURU\\', \\'MUMIAS\\', \\'KAKAMEGA\\', \\'LODWAR\\',\\n       \\'Nairobi \\', \\'KITENGELA\\', \\'LIMURU\\', \\'THIKA \\', \\'MIGORI\\', \\'ELDORET\\',\\n       \\'KITUI\\', \\'RUARAKA\\', \\'Ruiru\\', \\'NJORO\\', \\'EMBU\\', \\'SORI\\', \\'NGONG\\',\\n       \\'MASENO\\', \\'GATUNDU\\', \\'KAHURO\\', \\'KILIFI\\', \\'RUIRU\\', \\'KERUGOYA\\',\\n       \\'KARATINA\\', \\'KITALE \\', \\'MOMBASA\\', \\'BUNGOMA\\', \\'KISII\\', \\'-\\',\\n       \\'Nairobi\\', \\'KINAMBA\\', \\'SIAYA\\', \\'KERICHO \\', \\'KIAMBU\\', \\'KITALE\\',\\n       \\'BUSIA\\', \\'RUNYENJES\\', \\'VILLAGE MARKET\\', \\'Kapsabet\\', \\'KAGWE\\',\\n       \\'NANDI HILLS\\', \\'KUTUS\\', \\'DAGORETTI\\', \\'LITEIN\\', \\'KAJIADO\\', \\'CHUKA\\',\\n       \\'NYERI\\', \\'NAIROBI, NAIROBI\\', \\'Kisumu \\', \\'KANJUKU\\', \\'EMALI\\',\\n       \\'GILGIL\\', \\'Kiambu \\', \\'KANGEMA\\', \\'TIRIKI\\', \\'KARATINA \\', \\'OTHAYA\\',\\n       \\'KARURI ,KIAMBU\\', \\'MURANGA \\', \\'Mombasa\\', \\'GATUKUYU \\', \\'MLOLONGO\\',\\n       \\'UTAWALA \\', \\'KAPENGURIA\\', \\'KAPSABET\\', \\'SUNA\\', \\'BOMET\\', \\'KENOL \\',\\n       \\'NYERI \\', \\'BUNGOMA \\', \\'NDANAI\\', \\'KALIMONI\\', \\'KIGANJO\\',\\n       \\'KAPSOKWONY\\', \\'Nakuru\\', \\'KIAMBU \\', \\'nairobi\\', \\'CHOGORIA\\',\\n       \\'GITHUNGURI\\', \\'YOANI,SALAMA\\', \\'LIMURU \\', \\'NAIROBI, KENYA.\\',\\n       \\'UKUNDA\\', \\'MATUU\\', \\'embu\\', \\'NYALI\\', \\'nakuru\\', \\'MBALE\\', \\'EMUHAYA\\',\\n       \\'TELFORD\\', \\'NAIVASHA\\', \\'KAREN\\', \\'KILIFI \\', \\'HOLA\\', \\'MAKINDU\\',\\n       \\'WOTE\\', \\'DIANI\\', \\'O\\', \\'OLKALAU\\', \\'KAREN \\', \\'UPLANDS\\', \\'WANGÚRU\\',\\n       \\'KABIYET\\', \\'KAKAMEGA \\', \\'SOTIK\\', \\'NGONG \\', \\'CITY SQUARE\\', \\'NKUBU\\',\\n       \\'KANGARI\\', \\'NGONG HILLS \\', \\'NYAHURURU \\', \\'KARURI \\', \\'UTHIRU\\',\\n       \\'MARIMANTI\\', \\'MANCHESTER\\', \\'Kikuyu\\', \\'.\\', \\'NAIRO \\', \\'kiambu\\',\\n       \\'VOI\\', \\'EMBAKASI\\', \\'MOLO\\', \\'Siaya \\', \\'NGIYA\\', \\'OLKALOU\\',\\n       \\'KANYAGIA\\', \\'WANJOHI\\', \\'kabete\\', \\'Wamunyu\\', \\'MARIAKANI\\',\\n       \\'KISERIAN\\', \\'ARTHI RIVER \\', \\'SUBUKIA\\', \\'KILGORIS\\', \\'KIMININI\\',\\n       \\'LAGOS\\', \\'SARE\\', \\'ATHI RIVER\\', \\'ngong hills \\', \\'WERUGHA\\',\\n       \\'NAIROBIP\\', \\'MASINFA\\', \\'kikuyu\\', \\'OL JORO OROK\\', \\'MAUA\\',\\n       \\'GIKUE MURANGA\\', \\'KIMENDE\\', \\'KIMILILI\\', \\'KISUMU \\', \\'VIHIGA\\',\\n       \\' NAIROBI \\', \\'BURUBURU\\', \\'MATATHIA\\', \\'RUAKA\\', \\'UGUNJA\\', \\'LONGISA\\',\\n       \\'ELDORATE \\', \\'KAPKATET\\', \\'WINNIPEG\\', \\'PIPELINE \\', \\'KAHAWA WEST \\',\\n       \\'KANDARA\\', \\'Kimilili \\', \\'MTWAPA \\', \\'MARAGUA\\', \\'BANANA \\', \\'NYAMIRA\\',\\n       \\'AUBURN\\', \\'KARURI\\', \\'MTWAPA\\', \\'ONGATA RONGAI\\', \\'ELDORET \\',\\n       \\'HOMABAY\\', \\'WANGIGE\\', \\'KENDUBAY\\', \\'KIBWEZI\\', \\'RONGAI\\', \\'RUIRU \\',\\n       \\'NORTH KINANGOP\\', \\'MAKUYU\\', \\'Nyeri \\', \\'Eldoret \\', \\'BOUTIGNY\\',\\n       \\'00506\\', \\'MWINGI\\', \\'00100\\', \\'KERUGOYA \\', \\'TALA\\', \\'OLENGURUONE\\',\\n       \\'MAVINDINI\\', \\'UHURU GARDENS\\', \\'KIKUYU \\', \\'Ongata Rongai\\',\\n       \\'SOUTH KINANGOP\\', \\'ELDAMA RAVINE\\', \\'MITUNGURU\\', \\'TOM MBOYA\\',\\n       \\'NAKURU \\', \\'MITABONI\\', \\'NAROMORU\\', \\'MURANGA\\', \\'OLJOROROK\\',\\n       \\'BUTERE\\', \\'OYUGIS\\', \\'SILIBWET\\', \\'EMBU \\', \\'Doha\\', \\'Eldoret\\',\\n       \\'KANGEMI\\', \\'NYERI-KIGUMO\\', \\'KISERIAN \\', \\'Athi River\\', \\'KENOL\\',\\n       \\'OL KALOU\\', \\'WESTLANDS\\', \\'Nyahururu \\', \\'ENDARASHA \\', \\'GPO/NAIROBI\\',\\n       \\'DAGORETI\\', \\'OGEMBO \\', \\'mombasa\\', \\'RUAI\\', \\'DONYO SABUK\\', \\'KEROKA\\',\\n       \\'LOWER KABETE\\', \\'MWEIGA\\', \\'Naitobi\\', \\'TOKYO\\', \\'Embu\\', \\'KIRINYAGA\\',\\n       \\'KIANYAGA\\', \\'SIAYA \\', \\'ADLISWIL\\', \\'BURU BURU\\', \\'MERU \\', \\'NYAKIO\\',\\n       \\'KWALE\\', \\'AMUKURA\\', \\'NAROK\\', \\'KOBUJOI\\', \"WANG\\'URU\", \\'BONDO\\',\\n       \\'Kericho\\', \\'KIKIMA \\', \\'CHANGAMWE\\', \\'BUTULA\\', \\'NAIROBI KAYOLE\\',\\n       \\'KANGUNDO\\', \\'MARIAKANI \\', \\'TIMBOROA\\', \\'KIANJAI\\', \\'KALOLENI \\',\\n       \\'ISINYA\\', \\'IOWA CITY, IOWA\\', \\'Garsen \\', \\'MUKURWE-INI\\',\\n       \\'NAIROBI GPO\\', \\'MANYATTA\\', \\'SARE-OWENDO\\', \\'NANYUKI \\', \\'NDHIWA\\',\\n       \\'ELBURGON\\', \\'Orange\\', \\'MAKUENI\\', \\'kisumu \\', \\'MACHAKOS \\',\\n       \\'KABARNET \\', \"Murang\\'a \", \\'JUJA, KIAMBU\\', \\'Bungoma\\', \\'MAWEGO\\',\\n       \\'Bath\\', \\'ROYSAMBU\\', \\'Nanyuki\\', \\'SAGANA\\', \\'MACH \\', \\'Nyeri\\', \\'Ruaka\\',\\n       \\'KITUI \\', \\'KAJIADO \\', \\'NUNGUNI\\', \\'RONGAI \\', \\'KISII \\', \\'WANGIGE \\',\\n       \\'Makongeni Jogoo Rd\\', \\'nairobi \\', \\'Kikuyu \\', \\'Kisii\\', \\'MSAMBWENI\\',\\n       \\'BUJUMBURA\\', \\'GITHONGO\\', \\'KEROKA/KISII\\', \\'BURUBURU, NAIROBI\\',\\n       \\'MALAVA\\', \\'KIJABE\\', \\'Woolwich \\', \\'NDERE-SIAYA\\', \\'AHERO\\',\\n       \\'MUHORONI \\', \\'Nakuru \\', \\'kahuro\\', \\'Malakisi \\', \\'MUHORONI\\',\\n       \\'ISIOLO\\', \\'SYOKIMAU \\', \\'ONGATA RONGAI \\', \\'Maralal \\',\\n       \\'KIBIRICHIA, MERU\\', \\'GRANGER, INDIANA\\', \\'WESTLAND \\', \\'MUKURWEINI \\',\\n       \\'MASII\\', \\'NRB\\', \\'KWISERO\\', \\'ANKARA\\', \\'SHIMBA HILLS\\', \\'TAVETA\\',\\n       \\'WOTE, MAKUENI \\', \\'WANGURU\\', \\'KISSII\\', \\'BURUBURU NAIROBI \\',\\n       \\'KIRITIRI\\', \\'MESA ARIZONA\\', \\'KAJIADO TOWN\\', \\'KURIA\\',\\n       \\'NAIROBI WEST\\', \\'ENDARASHA\\', \\'KIPKAREN \\', \\'0\\', \\'GAMBOGI\\', \\'KOLA\\',\\n       \\'Marsabit\\', \\'WEBUYE\\', \\'GAKUNGU\\', \\'NAIROBJ\\',\\n       \\'NAIROBI ,KAMITI ROAD RICHLAND\\', \\'NKUBU \\', \\'MWATATE\\', \\'MALAKISI\\',\\n       \\'ITEN\\', \\'KATHIANI\\', \"MURANG\\'A\", \\'KAIRIA\\', \\'UPLANDS \\', \\'RONGO\\',\\n       \\'UHURU GARDEN\\', \\'KINANGOP\\', \\'BAHATI NAKURU \\', \\'MATILIKU\\', \\'meru\\',\\n       \\'Limuru\\', \\'MALAA\\', \\'TURBO\\', \\'MARIMA -MERU HIGHWAY \\', \\'OLJORO OROK\\',\\n       \\'homabay \\', \\'KIKIMA\\', \\'ADAMS ARCADE\\', \\'MUNICH\\', \\'MUMIAS \\',\\n       \\'KALIMONI \\', \\'CHWELE\\', \\'MARALAL\\', \\'NAMBALE\\', \\'NAIROBI COUNTY\\',\\n       \\'Narok \\', \\'TURBO \\', \\'KANGARI \\', \\'Pécs \\', \\'thika\\', \\'KATSE\\',\\n       \\'thika \\', \\'CHEBUNYO\\', \\'OL JORO OROK \\', \\'MOBIL PLAZA\\', \\'WAMUNYU \\',\\n       \\'MAGUNGA\\', \\'RORET\\', \\'YALA\\', \\'KAHUHIA\\', \"KENOL MURANG\\'A\",\\n       \\'Machakos\\', \\'UKWALA\\', \\'KALOLENI\\', \\'JOONDALUP\\', \\'MIGORI \\',\\n       \\'MARAGOLI\\', \\'MARMANET\\', \\'IKANGA\\', \\'KINOO\\', \\'OYUGIS \\', \\'LANGATA\\',\\n       \\'Kiambu\\', \\'Malindi\\', \\'NAIROBI.\\', \\'MAKUENI \\', \\'Bungoma \\',\\n       \\'GITHUNGURI \\', \\'MACHOKOS\\', \\'KOMBEWA \\', \\'UTHIRU \\', \\'KITENGELA \\',\\n       \\'BANANA\\', \\'CHEPKORIO\\', \\'MASII \\', \\'Gitugi\\', \\'. \\', \\'RUIRY\\', \\'Kisumu\\',\\n       \\'MBUMBUNI-MACHAKOS\\', \\'WAMUYU\\', \\'siaya\\', \\'Kakamega\\', \\'TAITA TAVETA\\',\\n       \\'Bumala\\', \\'KIMENDE \\', \\'BRISTOL\\', \\'MATUNDA\\', \\'KARABA\\', \\'SULTAN\\',\\n       \\'GATURA\\', \\'KASARANI ,NAIROBI \\', \\'NANDI\\', \\'MAGUTUNI\\', \\'CHUKA \\',\\n       \\'NGONG HILL\\', \\'ngong\\', \\'KIANGAI\\', \\'MBITA\\', \\'Mumias\\', \\'KAMBITI\\',\\n       \\'MUMBI\\', \\'Juja\\', \\'WODANGA\\', \\'KIRIANI\\', \\'KABARNET\\', \\'MISIKHU\\',\\n       \\'Thika\\', \\'NYANSIONGO\\', \\'nyeri \\', \\'NAIVASHA \\', \"MURANG\\'A \",\\n       \\'KAPCHENO\\', \\'NGARA\\', \\'MADARAKA\\', \\'kitengela \\', \\'BONDO \\', \\'WAMUNYU\\',\\n       \\'NYANDARUA\\', \\'MOGOGOSIEK\\', \\'00\\', \\'NAIROBI/JUJA\\', \\'NA \\', \\'LUANDA\\',\\n       \\'KLEMZIG\\', \\'TEL AVIV\\', \\'ongata rongai \\', \\'30-60101 Manyatta \\',\\n       \\'12410 Nyeri\\', \\'KATHONZWENI \\', \\'GITHURAI \\', \\'WESRN AUSTRALIA\\',\\n       \\'SABASABA \\', \\'Gilgil \\', \\'ISEBANIA\\', \\'KIRIAINI\\', \\'MUTHETHENI \\',\\n       \\'Mombasa \\', \\'Kitengela\\', \\'CARLIFONIA\\', \\'NIL\\',\\n       \\'NAIROBI, NAIROBI AREA, KENYA\\', \\'SOY\\', \\'Sabasaba\\', \\'SABASABA\\',\\n       \\'COLUMBIA\\', \\'Homa Bay \\', \\'MARIMA\\', \\'SEGA\\', \\'KAYOLE\\', \\'BUDD LAKE\\',\\n       \\'KITHYOKO\\', \\'KIJABE \\', \\'Mbale\\', \\'KITHIMANI\\', \\'HANOI\\', \\'chuka\\',\\n       \\'KILINDINI\\', \\'MERY\\', \\'CHELMSFORD\\', \\'LOITOKITOK\\', \\'MOSORIOT\\',\\n       \\'IKONGE\\', \\'ENGINEER\\', \\'Othaya\\', \\'Ahero\\', \\'MWEA\\', \\'JOSKA \\',\\n       \\'NGAMBWA\\', \\'MASINGA\\', \\'KINANGOP \\', \\'LONDON\\', \\'KILELESHWA \\',\\n       \\'SARIT CENTRE\\', \\'mgange \\', \\'ST. MARYS NSW\\', \\'GESIMA\\', \\'Migori \\',\\n       \\'KHWISERO\\', \\'SYOKIMAU\\', \\'MTITO ANDEI \\', \\'nakuru \\', \\'NAIROBI CITY\\',\\n       \\'ATHIRIVER\\', \\'KABATI\\', \\'Kitale\\', \\'MPEKETONI\\', \\'YOANI\\',\\n       \\'KABARTONJO\\', \\'NAMANGA\\', \\'CHESINENDE\\', \\'BAHATI\\', \\'NZEEKA\\',\\n       \\'MATATHIA, KAMAE\\', \\'RONALD NGALA \\', \\'KUBUKUBU\\', \\'THOGOTO\\',\\n       \\'GATORA\\', \\'NAI \\', \\'KUJA,KIAMBU\\', \\'Machakos \\', \\'AMAGORO\\', \\'Uthiru\\',\\n       \\'Naivasha\\', \\'KEROKA \\', \\'MAZERAS\\', \\'EGERTON\\', \\'KASARANI\\', \\'Kimende\\',\\n       \\'WAJIR\\', \\'DUBAI\\', \\'TWO RIVERS\\', \\'NDARAGWA \\', \\'EASTLEIGH\\', \\'KAGIO\\',\\n       \\'HOMA BAY\\', \\'KISII, KENYA\\', \\'Thika \\', \\'NGECHA\\', \\'Kakamega \\',\\n       \\'KERINGET\\', \\'FORT WAYNE\\', \\'STAREHE\\', \\'GILGIL \\', \\'KAWANGWARE\\',\\n       \\'GPO NAIROBI\\', \\'GITUGI\\', \\'Tala\\', \\'kakamega \\', \\'TEXAS\\', \\'GACHIE\\',\\n       \\'Syokimau\\', \\'Sydney \\', \\'LESSOS\\', \\'Meru \\', \\'KIPKAREN RIVER\\',\\n       \\'SOSIOT\\', \\'LAKEWOOD SEATTLE\\', \\'Lodwar\\', \\'Kitale \\', \\'Membley\\',\\n       \\'chepkorio\\', \\'Luanda\\', \\'Kijabe \\', \\'TONGAREN\\', \\'karuri \\', \\'malindi\\',\\n       \\'Ogembo \\', \\'Maryland\\', \\'Kisii Town \\', \\'kajiado \\', \\'LIKONI\\',\\n       \\'wangige \\', \\'Ngong\\', \\'OLKALOU \\', \\'4597-20100 Nakuru\\', \\'GARISSA\\',\\n       \\'KIRIAINI \\', \\'SYOKIMAU L\\', \\'Machakos, Kathiani\\', \\'Kitui\\',\\n       \\'AUSTRALIA\\', \\'Bondo\\', \\'Salama \\', \\'bomet \\', \\'Naivasha \\',\\n       \\'TOORMINA, NSW\\', \\'Utawala\\', \\'Ankara\\', \\'MOISBRIDGE\\', \\'nbo\\',\\n       \\'Kijabe\\', \\'KABAZI\\', \\'P.O BOX 75-30105 SOY\\', \\'kisumu\\', \\'nyeri\\',\\n       \\'Voi\\', \\'Kanjuku\\', \"NG\\'IYA\", \\'Muranga\\', \\'Bournemouth \\',\\n       \\'SARE-AWENDO\\', \\'narok\\', \\'Ruiru \\', \\'Kilifi \\', \\'Meru\\',\\n       \\'Ol-joro-orok\\', \\'152 30100 eldoret \\', \\'Mtwapa\\', \\'Karuri\\',\\n       \\'Kitengela \\', \\'Isiolo \\', \\'38061-00623 Nairobi\\', \\'Ngong Hills\\',\\n       \\'RARIEDA\\', \\' Nairobi County,\\', \\'187 Ngewa\\', \\'NJAMBINI\\',\\n       \\'25635 00603 Nairobi\\', \\'GIKOE\\', \\'kakamega\\', \\'ISHIARA \\',\\n       \\'P. O. Box 111 Ruiru\\', \\'Kibwezi\\', \\'Syokimau \\', \\'kiambu \\', \\'Bomet \\',\\n       \\'Busia\\', \\'Gilgil\\', \\'LAMU\\', \\'Kajiado \\', \\'makueni \\', \\'kisii\\',\\n       \\'MERU 2274\\', \\'TURKANA\\', \\'Kilifi\\', \\'nottingham\\', \\'Embakasi\\',\\n       \\'Masii - MACHAKOS\\', \\'SEREM\\', \\'Tala, Kangundo. \\', \\'Ugunja\\',\\n       \\'Karatina\\', \\'Migori\\', \\'Berlin\\', \\'KALAMBA\\', \\'UKUNDA \\', \\'ruiru\\',\\n       \\'Sondu\\', \\'BUSIA - PORT VICTORIA \\', \\'Matuu.\\', \\'Gatundu\\',\\n       \\'Seasons Kasarani. \\', \\'KARUNGU\\', \\'Kahawa Sukari\\', \\'Kangundo \\',\\n       \\'mombasa \\', \\'St. Georges\\', \\'maseno\\', \\'KINDARUMA \\',\\n       \\'kakuma 1 Nuer community \\', \\'copenhagen\\', \\'549 LIMURU\\', \\'Lamu\\',\\n       \\'DRESDEN\\', \\'Ol Kalou \\', \\'KIRIA-INI \\', \\'123 KIKUYU\\', \\'Kianyaga\\',\\n       \\'Kasarani\\', \\'Makueni \\', \\'KABETE\\', \\'Sagana\\',\\n       \\'Imani avenue, Ongata Rongai, Kajiado\\', \\'LOS ANGELES\\', \\'KAKUMA\\',\\n       \\'kitengela\\', \\'56-10300 Kerugoya\\', \\'Kalimoni P.o Box 178-01001\\',\\n       \\'Nairobi, Komarock.\\', \\'kilifi\\', \\'NAIROBI, KITENGELA \\',\\n       \\'14 Lamina Avenue, Mill Park VIC 3082\\', \\'kebirigo \\', \\'Darwin \\',\\n       \\'Kericho \\', \\'Nairibi\\', \\'782 - 00232 Ruiru\\', \\'eldoret\\', \\'Oyugis\\',\\n       \\'Conroe\\', \\'NAIROBI 572 00300\\', \\'Eldama Ravine\\', \\'Kabete \\', \\'Maua\\',\\n       \\'Isiolo\\', \\'828-90200\\', \\'Athens\\', \\'Chicago \\', \\'Hola\\', \\'Abu Dhabi \\',\\n       \\'Nyayo Estate, Court 521\\', \\'Deanside\\', \\'452-00200, KIAMBU\\',\\n       \\'KOBENHAUN\\', \\'karuri\\', \\'Nanyuki \\', \\'P.O. Box 2413-60200, Meru\\',\\n       \\'Kenol\\', \\'Wote\\', \\'githunguri \\', \\'NAIROBI. 45095-00100\\', \\'Serem\\',\\n       \\'P.o.box 1298-00618 Ruaraka, Nairobi\\', \\'Vienna \\', \\'karen\\',\\n       \\'CHICAGO\\', \\'GENEVA\\', \\'Kiserian \\', \\'Kabarnet\\', \\'RABAI\\',\\n       \\'KIAMBU COUNTY\\', \\'Uthiru Cooperation \\', \\'Githunguri \\',\\n       \\'79718-00200 NAIROBI\\', \\'stockholm\\', \\'42 NDARAGWA\\',\\n       \\'P.O. Box 103635-00101\\', \\'Heuchlingen \\', \\'PORT VICTORIA\\',\\n       \\'Doolandella, Australia\\', \\'Grand Oyster Kileleshwa, Nairobi\\',\\n       \\'10572-00200 NAIROBI\\', \\'Wangige \\', \\'Siaya\\', \\'Litein\\', \\'Washington\\',\\n       \\'Geneva\\', \\'Winchester \\', \\'Mariashoni\\', \\'Mwiki\\', \\'Limuru \\',\\n       \\'Nairobi i\\', \\'P O Box 898-00100 NAIROBI\\', \\'KAWNGWARE NAIROBI \\',\\n       \\'rongai\\', \\'Roysambu\\', \\'NAIROBI UMOJA\\', \\'kangema\\',\\n       \\'P.O.Box 848-00208 NGONG\\', \\'Braunschweig \\', \\'Wote MAKUENI\\',\\n       \\'814_3 300 KAPSABET \\', \\'Box 2316 Machakos\\', \\'Ruaraka\\', \\'Nyahururu\\',\\n       \\'Kenmore \\', \\'Melbourne \\', \\'1711 Nyahururu\\', \\'nanyuki\\',\\n       \\'kawangware \\', \\'Narok\\', \\'Githunguri\\', \\'Mahindi \\', \\'Moncton\\',\\n       \\'kERUGOYA\\', \\'Homa Bay\\', \\'Ukunda\\', \\'Mukurweini \\', \\'Malindi \\',\\n       \\'narumoru\\', \\'Juba\\', \\'01000-214 Thika\\', \\'kabete \\', \\'Kajiado\\',\\n       \\'NAROK \\', \\'Kapenguria \\', \\'Athi-river \\', \"murang\\'a \", \\'Gem\\',\\n       \\'nyahururu \\', \\'Gachie \\', \\'Kirinyaga\\', \\' Nairobi \\', \\'CALIFORNIA\\',\\n       \\'Bomet\\', \\'molo\\', \\'Chuka\\', \\'Nairobi, Kenya.\\', \\'ANTONY\\',\\n       \\'wite-makueni\\', \\'ugunja\\', \\'Matunda \\', \\'KARORI\\', \\'kikuyu \\',\\n       \\'Shinyalu \\', \\'Molo\\', \\'KIPKAREN\\', \\'KANGUNDO \\', \\'LUTON\\', \\'FLORIDA\\',\\n       \\'NGEWA\\', \\'SUSWA\\', \\'USA\\', \"KENOL MURANG\\'A \", \\'PUYALLUP WA USA\\',\\n       \\'LAARE\\', \\'P.O Box 30231 - 00100, Nairobi\\', \\'Runyenjes\\',\\n       \\'KENDUBAY \\', \\'Gigiri, Nairobi\\', \\'GATUKUYU\\', \\'BUNYALA\\', \\'OKIA\\',\\n       \\'3704 GPO NAIROBI \\', \\'RANGWE\\', \\'KITUI KENYA\\', \\'SAUDI ARABIA\\',\\n       \\'JUJA KALIMONI\\', \\'MSA\\', \\'GAKUNYU\\', \\'MIHARATI\\', \\'KERUGOYA TOWN\\',\\n       \\'RAGENGNI\\', \\'mwingi \\', \\'NBI\\', \\'IGOJI\\', \\'KIMULOT\\', \\'LONDIANI\\',\\n       \\'CAMBRIDGE\\', \\'KHAYEGA\\', \\'NDUNYU NJERU \\', \\'58-10205 Maragua\\',\\n       \\'MALINDI \\', \\'Kasarani, Clay City\\', \\'ATHI RIVER \\', \\'Sawagongo \\',\\n       \\'HELSINKI\\', \\'GPO\\', \\'BURNTFOREST\\', \\'MATUNDA \\', \\'HARRISDALE\\',\\n       \\'KARANDI\\', \\'DUKHAN \\', \\'SONDU\\', \\'EMBU, KENYA\\', \\'NAIROBI KENYA\\',\\n       \\'NANDI HILLS \\', \\'HAZELWOOD\\', \\'MGANGE\\', \\'LUCYSUMMER-NAIROBI\\',\\n       \\'KUKUYU\\', \\'NGONG ROAD\\', \\'NYAYO STADIUM\\', \\'Karen\\', \\'makuyu\\',\\n       \\'LOITIKITOK\\', \\'Kenyenya\\', \\'MUNICH \\', \\'tawa\\', \\'FUNYULA\\',\\n       \\'NOTTIGHAM\\', \\'nanyuki \\', \\'Kenny Bay\\', \\'MOMBSA\\', \\'SHERWOOD\\',\\n       \\'NDARAGWA\\', \\'ongata rongai\\', \\'BUMALA\\', \\'MEITINGEN \\', \\'80100\\',\\n       \\'KOMBEWA\\', \\'DOYSELDOR\\', \\'NOTTINGHAM\\', \\'VIENNA\\', \\'KISERIAN KAJIADO\\',\\n       \\'NAIROBI, KENYA\\', \\'Mtwapa \\', \\'KEUMBU\\', \\'Kerugoya Town\\', \\'KAP \\',\\n       \\'UPPER HILL NAIROBI\\', \\'MOI;S BRIDGE\\', \\'ENTERPRISE  ROAD\\',\\n       \\'THIONGO-NAIROBI\\', \\'KATHONZWENI\\', \\'UTAWALA\\', \\'MIU ATHI-RIVER\\',\\n       \\'CHAMAKANGA\\', \\'NYAMACHE\\', \\'NUERI\\', \\'SULTAN HAMUD\\', \\'NAROMORU \\',\\n       \\'NYAMIRA \\', \\'NAIROBI BURU\\', \\'HAMBURG\\', \\'TOWN \\', \\'14 KADONGO 40223\\',\\n       \\'Mois Bridge \\', \\'RUNYENJES \\', \\'MARAGWA\\', \\'SURPRISE,USA\\',\\n       \\'KALAMBA \\', \\'Ruai\\', \\'KADONGO\\', \\'TORONGO\\', \\'NJABINI\\',\\n       \\'GIGIRI, VILLAGE MARKET, NAIROBI\\', \\'LAVINGTON\\', \\'SPRING VALLEY\\',\\n       \\'MBUMBUNI\\', \\'NAIROBI MUNICIPALITY\\', \\'NAIROBI,KENYA\\',\\n       \\'Bamburi Mtambo \\', \\'GITHURAI\\', \\'RUMURUTI\\',\\n       \\'Kenyatta Highway, Nanyuki\\', \\'MUTOMO\\', \\'KENYATTA HOSPITAL\\',\\n       \\'NAIROBI GENERAL POST OFFICE\\', \\'LITIEN\\', \\'LONDIANI \\',\\n       \\'ONGATA RONGAI NAIROBI\\', \\'GATUNDU \\', \\'GAMBONI\\', \\'NAIROB\\',\\n       \\'L.KABETE\\', \\'ATHI - RIVER\\', \\'kerugoya \\', \\'Webuye \\', \\'Maralal\\',\\n       \\'Andover\\', \\'mombas\\', \\'Kiambu 627-00900\\', \\'Maragua\\',\\n       \\'murang*a 10200-658\\', \\'Syracuse\\', \\'Karen Nairobi \\',\\n       \\'ontario, California 91764 \\', \\'Karlsruhe \\', \\'Nyamira \\', \\'Olkalau\\',\\n       \\'GILGIL, KENYA\\', \\'Kerugoya \\',\\n       \\'14 AV FERNAND FENZY92160  ANTONY FRANCE\\'], dtype=object)'}, 'execution_count': 10, 'metadata': {}, 'output_type': 'execute_result'}], 'source': \"df['town'].unique()\"}, {'cell_type': 'code', 'execution_count': 11, 'metadata': {}, 'outputs': [{'data': {'text/plain': 'member_no                0\\nreg_date              1863\\ndob                  20038\\nhse_no                   0\\ngender                4667\\ntown               1048216\\nrelationship       1632933\\nbeneficiery_dob    1086598\\nportfolio                9\\ndtype: int64'}, 'execution_count': 11, 'metadata': {}, 'output_type': 'execute_result'}], 'source': 'df.isna().sum()'}, {'cell_type': 'code', 'execution_count': 12, 'metadata': {}, 'outputs': [{'data': {'text/plain': '7407066'}, 'execution_count': 12, 'metadata': {}, 'output_type': 'execute_result'}], 'source': 'df.duplicated().sum()'}, {'cell_type': 'markdown', 'metadata': {}, 'source': 'In the below code block, we drop duplicated values.'}, {'cell_type': 'code', 'execution_count': 13, 'metadata': {}, 'outputs': [], 'source': 'df = df.drop_duplicates()'}, {'cell_type': 'markdown', 'metadata': {}, 'source': 'From our problem statement, we aim to cross sell investment products depending on Age, Gender and Location. Therefore, we are going to drop some columns which are irrelevant. e.g. hse_no, beneficiary_dob,reg_date.'}, {'cell_type': 'code', 'execution_count': 14, 'metadata': {}, 'outputs': [], 'source': \"df=df.drop(columns=['reg_date','hse_no'])\"}, {'cell_type': 'code', 'execution_count': 15, 'metadata': {}, 'outputs': [{'data': {'text/plain': 'member_no              0\\ndob                  238\\ngender                82\\ntown               15026\\nrelationship       14308\\nbeneficiery_dob    13937\\nportfolio              4\\ndtype: int64'}, 'execution_count': 15, 'metadata': {}, 'output_type': 'execute_result'}], 'source': 'df.isna().sum()'}, {'cell_type': 'code', 'execution_count': 16, 'metadata': {}, 'outputs': [{'data': {'text/plain': 'array([\\'Partner\\', \\'Sister\\', \\'Husband \\', \\'Husband\\', \\'Daughter\\', \\'Brother \\',\\n       \\'Son\\', \\'Daughter \\', \\'Wife\\', \\'Father\\', \\'Mother\\', \\'Brother\\', \\'son\\',\\n       \\'mother\\', \\'father\\', \\'Mother \\', \\'SPOUSE\\', \\'FRIEND\\', \\'Spouse \\',\\n       \\'WIfe\\', \\'Father \\', \\'Spouse\\', \\'child\\', nan, \\'Parent\\', \\'wife\\',\\n       \\'Wife \\', \\'Son \\', \\'spouse\\', \\'doughter\\', \\'CHILD\\', \\'ParentChild\\',\\n       \\'partner\\', \\'brother\\', \\'sister\\', \\'MotheR\\', \\'Friend\\', \\'Child\\',\\n       \\'Cousin\\', \\'Dad\\', \\'Mum\\', \\'MOTHER\\', \\'WIFE\\', \\'Sister \\', \\'SON\\',\\n       \\'BROTHER\\', \\'FATHER\\', \\'aunt \\', \\'Grandmother\\', \\'HUSBAND\\', \\'self\\',\\n       \\'husband\\', \\'husband \\', \\'Owner\\', \\' Grand daughter\\', \\'Nephew\\',\\n       \\'SP0USE\\', \\'Self\\', \\'parent\\', \\'SISTER\\', \\'NIECE\\', \\'Niece\\', \\'daughter\\',\\n       \\'Sibling\\', \\'DAUGHTER\\', \\'AUNT\\', \\'brother \\', \\'254701361835\\',\\n       \\'Parent \\', \\'daughter \\', \\'FAITHER\\', \\'Family \\', \\'SPOUSE \\',\\n       \\'Sibling \\', \\'PARENT\\', \\'CONFIDANT\\', \\'MUM\\', \\'DAD\\', \\'wife \\', \\'family\\',\\n       \\'Trustee \\', \\'son \\', \\'mother \\', \\'MOTHER \\', \\'friend\\', \\'spouse \\',\\n       \\'S0N\\', \\'SISTER \\', \\'FATHER \\', \\'father \\', \\'FAMILY \\', \\'WifE\\',\\n       \\'Partner \\', \\'daugther\\', \\'1226805243;130143346\\', \\'relative\\',\\n       \\'BROTHER \\', \\'Daighter\\', \\'Advisor\\', \\'SON \\', \\'AUNTIE\\', \\'FIANCEE\\',\\n       \\'Fiancee\\', \\'DOUGHTER\\', \\'parent \\', \\'HUSBAND \\', \\'DAUGHTER \\', \\'SELF\\',\\n       \\'MOther\\', \\'mOTHER\\', \\'Aunt\\', \\'Grandparent\\', \\'Bother \\', \\'SO\\',\\n       \\'married\\', \\'MARRIED\\', \\'FIANCE\\', \\'Doughter \\', \\'Guardian \\',\\n       \\'ASS0CIATE\\', \\'sibling\\', \\'fiance\\', \\'Sistet\\', \\'Grandson\\', \\'Doughter\\',\\n       \\'DAUGTHER\\', \\'wIFE\\', \\'Bro\\', \\'PARTNER\\', \\'B INLAW\\', \\'GUARDIAN\\',\\n       \\'daughte\\', \\'Mom\\', \\'COUSIN\\', \\'GRANDMA\\', \\'aunt\\', \\'Domestic Partner\\',\\n       \\'PATNER\\', \\'me\\', \\'MENTOR\\', \\'UNCLE\\', \\'Sis\\', \\'SiBLING\\', \\'GRAND SON\\',\\n       \\'Fiance \\', \\'KID\\', \\'SIBLING\\', \\'GRANDSON\\', \\'Nephew \\', \\'-\\', \\'Cousin \\',\\n       \\'DAUGHETR\\', \\'Person\\', \\'s0n\\', \\'na\\', \\'myson\\', \\'PARTNER \\', \\'Bishop\\',\\n       \\'nephew\\', \\'mwas\\', \\'Mothers\\', \\'Friend \\', \\'Child \\', \\'daughter33\\',\\n       \\'CLOSE FRIEND\\', \\'hUSBAND\\', \\'CLOSEFRIEND\\', \\'Boyfriend \\',\\n       \\'dependant\\', \\'WIFE \\', \\'MARRIAGE\\', \\'GRAND DAUGHTER\\', \\'DAUGHER\\',\\n       \\'Niece \\', \\'granddaughter\\', \\'grandson\\', \\'DAUGHTER/CHILD\\',\\n       \\'RELATIVE\\', \\'mum\\', \\'single\\', \\'Self \\', \\'sister \\', \\'Mother TO SON\\',\\n       \\'Grandfather\\', \\'DAD \\', \\'Relative\\', \\'Daughter-in-law \\',\\n       \\'GRANDMOTHER\\', \\'child \\', \\'15\\', \\'DaD\\', \\'GIRLFRIEND\\', \\'FAMILY\\',\\n       \\'Uncle \\', \\'SiNGLE\\', \\'SINGLE\\', \\'fiancee\\', \\'FaMILY\\', \\'BENEFICIARY\\',\\n       \\'OWNER\\', \\'Relative \\', \\'GRANDDAUGHTER\\', \\' Spouse\\', \\'uncle\\',\\n       \\'Married \\', \\'chil\\', \\'CHILD MINOR\\', \\'33\\', \\'NEPHEW\\', \\'JOINT PARTNER\\',\\n       \\'MOTHERS \\', \\'Fiancé \\', \\'Others \\', \\'Grand daughter\\',\\n       \\'DAUGHTER-IN-LAW\\', \\'Na\\', \\'CHILD \\', \\'SPIRITUAL FATHER\\', \\'COUSN\\',\\n       \\'DEPEDANT\\', \\'Estate\\', \\'Uncle\\', \\'sISTER\\', \\'sisiter\\', \\' BROTHER\\',\\n       \\'Granddaughter \\', \\'BRother\\', \\'Aunt \\', \\'cousin\\', \\'Baby\\', \\'Morher\\',\\n       \\'MOM\\', \\'God mother\\', \\'GRANDSON \\', \\'Husband/spouse\\', \\'SPOUCE\\',\\n       \\'uncle \\', \\'FRIEND \\', \\'Single\\', \\'Vhild\\', \\'Patner\\', \\'Spouce\\',\\n       \\'Family\\', \\'SoN\\', \\'SisteR\\', \\'AUNTY\\', \\'FATHER-IN-LAW\\', \\'SonS\\', \\'0\\',\\n       \\'MO9\\', \\'Fiance\\', \\'33.4\\', \\'CHILF\\', \\'254727756559\\', \\'0720401466\\',\\n       \\'GRAND FATHER\\', \\'PRINCIPAL\\', \\'Guardian\\', \\'JUNIOR\\',\\n       \\'DGRAND DAUGHTER\\', \\'COWORKER\\', \\'GRAND MOTHER\\', \\'D100\\', \\'NMO\\',\\n       \\'BUSINESS PARTNER\\', \\'GURDIAN\\', \\'2021\\', \\'MotH\\', \\'MoM\\', \\'UN,CLE\\',\\n       \\'GRAND CHILD\\', \\'Sister in law\\', \\'Grand Daughter\\', \\'COMAPANION\\',\\n       \\'BOYFRIEND\\', \\'EX-WIFE\\', \\'GRANDDAUGTER\\', \\'PARNT\\', \\'M\\', \\'F\\', \\'Chils\\',\\n       \\';SON\\', \\'GUARDINA\\', \\'NiecE\\', \\'Brother-IN-LAW\\', \\'Member\\',\\n       \\'Grand mother\\', \\'ADMINISTRATOR\\', \\'VM\\', \\'GRANDFATHER\\', \\'GIRLFRIED\\',\\n       \\'Brestfriend\\', \\'Finance\\', \\'SIS\\', \\'Daughter in law\\', \\'children\\',\\n       \\'Girlfriend\\', \\'COLLEAGUE\\', \\'TRUSTEE\\', \\'254708368426\\', \\'Colleague\\',\\n       \\'Sister-IN-LAW\\', \\'GRAND-DAUGHTER\\', \\'GRANNY\\', \\'GRANDCHILD\\', \"\\'M\",\\n       \\'spouce\\', \\'SiLBLING\\', \\'Siblings\\', \\'Step-mother\\', \\'Aunty\\', \\'FREINF\\',\\n       \\'50\\', \\'100\\', \\'254723993458\\', \\'Cousins\\', \\'Cousins \\', \\'ASSOCIATE\\',\\n       \\'Fiane\\', \\'guardian\\', \\'Guadian\\', \\'Confidant\\', \\'Auntie\\', \\'GRANDPA\\',\\n       \\'mom\\', \\'Brother in Law\\', \\'BUSINESS PARTNER \\', \\'Spuose\\',\\n       \\'Business Partner\\', \\'Dating\\', \\'IN LAW\\', \\'STEP-MOM\\', \\'Son/Brother\\',\\n       \\'Chid\\', \\'Granddaughter\\', \\'niece\\', \\'Son/SISTER\\', \\'Grand Son\\',\\n       \\'BrotheR\\', \"Nolan\\'s Guardian\", \"Xena\\'s Guardian\", \\'Sister-in law\\',\\n       \\'PARENTS\\', \\'c/o\\', \\'STEP MOTHER\\', \\'NiCE\\', \\'Ciru\\', \\'DEPENDANT\\',\\n       \\'som\\', \\'GUARDIAN \\', \\'Dau`\\', \\'Kid\\', \\'PARENT \\', \\'CHILDREN\\',\\n       \\'partner \\', \\'CLOUSIN\\', \\'19112004\\', \\'twinsister\\', \\'MINOR\\',\\n       \\'Sister- Custodian\\', \\'GRANSON\\', \\'COMPANION\\', \\'ENGAGED\\',\\n       \\'WELL WISHER\\', \\'PARNER\\', \\'GRANCHILD\\', \\'Trustee\\', \\'Next of kin\\',\\n       \\'SIIBLING\\', \\'SIBLINGS\\', \\'Foster daughter\\', \\'ADMINSTRATOR\\',\\n       \\'IN-LAW\\', \\'Boyfriend\\', \\'NepheW\\', \\'EMPLOYEE\\', \\'DIRECTORS\\',\\n       \\'RELIGIOUS COMMUNITY\\', \\'CUSTODIAN\\', \\'C/O ARIANNA\\', \\'Sister IN LAW\\',\\n       \\'spose\\', \\'SPAUSE\\', \\'MEMBER\\', \\'DomesticPartner\\', \\'Grand-daughter\\',\\n       \\'Brother-in-law\\', \\'STEP-BROTHER\\', \\'Mother to Evan\\', \\'Sister-Inlaw\\',\\n       \\'BUS. PARTNER\\', \\'Sister(Guardian)\\', \\'CONTACT PERSON\\', \\'FatheR\\',\\n       \\'Brother in law\\', \\'Parwnt\\', \\'M,\\', \\'Sister-GUARDIAN\\', \\'Grand Child\\',\\n       \\'GODMOTHER\\', \\'Sister-Guardian\\', \\'Mother- Guardian\\', \\'Grandchild\\',\\n       \\'Grand son\\', \\'CHLD\\', \\'GRAND.DAUGHTER\\', \\'GRAND-MOTHER\\', \\'Parents\\',\\n       \\'EX WIFE\\', \\'Sister - Guardian\\', \\'Step-Mother\\', \\'FOSTER DAUGHTER\\',\\n       \\'Grand-mother\\', \\'God Mother\\', \\'Mother-in-law\\', \\'MEMBER \\',\\n       \\'B/S PARTNER\\', \\'LAWYER\\', \\'GRAND-SON\\', \\'parents\\', \\'Stepson\\',\\n       \\'Contingent\\', \\'grandmother\\', \\'G/Daughter\\', \\'Brother and sister\\',\\n       \\'Sibbling\\', \\' \\', \\'COUSIN \\', \\'DaughteR\\', \\'SPUOSE\\', \\'CHIILD\\',\\n       \\'DSPOUSE\\', \\'Executor\\', \\'HU\\', \\'EWIFE\\', \\'SPOUDSE\\', \\'SoPOUSE\\',\\n       \\'grandchild\\', \\'ChILD\\', \\'9266025\\', \\'PARE NT\\', \\'254700442162\\',\\n       \\'BEST FRIEND\\', \\'SISTER IN LAW \\', \\'mather\\', \\'SAVING PARTNER \\',\\n       \\'AUNTIE \\', \\'ParenChild\\', \\'GIRLFRIEND \\', \\'SINGLE \\', \\'Parentchild\\',\\n       \\'parentchild\\', \\'SPOUSE20\\', \\'Myself\\', \\'FIACEE\\', \\'SD\\',\\n       \\'Grand mother \\', \\'Mother of child\\', \\'Childnephew\\', \\'FATH \\',\\n       \\'MY SON\\', \\'BabyMother\\', \\'CHID\\', \\'GIRL FRIEND\\', \\'chils\\', \\'self \\',\\n       \"Mother\\'s \", \\'Mum \\', \\'aunty\\', \\'SPouse\\', \\'Auntie \\', \\'ChiLD\\',\\n       \\'grandmother \\', \\'Grand daughter \\', \\'auntie\\', \\'baby mama \\', \\'DA\\',\\n       \\'BrOther\\', \\'Fiancee \\', \\'In law\\', \\'Colleague \\', \\'WiFE\\', \\'owner\\',\\n       \\'sON\\', \\'Mather\\', \\'Dauhgter\\', \\'myself\\', \\'Hubby\\', \\'Sister in-law\\',\\n       \\'Aunty \\', \\'Foster parent\\', \\'grandson \\', \\'Wife/Guardian\\',\\n       \\'21761402\\', \\'GUARDIAN-MOTHER\\'], dtype=object)'}, 'execution_count': 16, 'metadata': {}, 'output_type': 'execute_result'}], 'source': 'df.relationship.unique()'}, {'cell_type': 'code', 'execution_count': 17, 'metadata': {}, 'outputs': [{'data': {'text/plain': '\"relationship mother                  18900 son                     18207 daughter                18010 sister                  12234 wife                    11190 husband                  9563 brother                  7768 father                   6738 spouse                   3311 child                    1567 parent                    627 friend                    393 niece                     369 nephew                    313 cousin                    309 aunt                      220 partner                   203 sibling                   199 fiance                    137 guardian                  117 fiancee                   100 uncle                      85 grandson                   74 grandmother                61 family                     51 self                       42 -                          40 estate                     39 grand daughter             31 granddaughter              29 dad                        29 mum                        27 girlfriend                 26 doughter                   25 relative                   18 boyfriend                  17 grandchild                 16 aunty                      16 member                     15 business partner           15 auntie                     14 sister in law              12 grandfather                11 gurdian                    11 mom                        11 kid                        10 so                         10 grand-daughter              9 trustee                     8 grand mother                8 s0n                         8 single                      7 colleague                   7 grand child                 7 patner                      6 spouce                      6 parents                     5 100                         5 daughetr                    4 owner                       4 grand-mother                4 dependant                   4 married                     4 0                           4 grand son                   4 foster daughter             4 spause                      3 daugther                    3 my son                      3 daighter                    3 minor                       3 grand father                3 bus. partner                3 in law                      3 parentchild                 3 na                          3 sister in-law               2 baby mama                   2 vm                          2 girl friend                 2 contact person              2 granddaugter                2 m                           2 guardina                    2 sister-guardian             2 brother-in-law              2 ex-wife                     2 b/s partner                 2 children                    2 mather                      2 chid                        2 son/brother                 2 spuose                      2 brother in law              2 associate                   2 cousins                     2 mother-in-law               2 c/o arianna                 2 50                          2 step-mother                 2 parner                      2 siblings                    2 myself                      2 sister-in-law               2 in-law                      2 chils                       2 daughter-in-law             2 vhild                       2 depedant                    2 1226805243;130143346        2 mothers                     2 god mother                  2 confidant                   2 close friend                2 grandma                     2 daugher                     2 sis                         2 beneficiary                 2 ex wife                     1 godmother                   1 m,                          1 lawyer                      1 sistet                      1 grandparent                 1 chld                        1 mother- guardian            1 ass0ciate                   1 grand.daughter              1 bother                      1 bro                         1 sister - guardian           1 parwnt                      1 sons                        1 sister(guardian)            1 b inlaw                     1 next of kin                 1 siibling                    1 me                          1 adminstrator                1 domestic partner            1 employee                    1 directors                   1 religious community         1 custodian                   1 spose                       1 daughte                     1 domesticpartner             1 step-brother                1 mother to evan              1 grand-son                   1 sister-inlaw                1 g/daughter                  1 stepson                     1 mother\\'s                    1 fiacee                      1 sd                          1 mother of child             1 childnephew                 1 fath                        1 babymother                  1 faither                     1 254701361835                1 contingent                  1 da                          1 dauhgter                    1 hubby                       1 sp0use                      1 foster parent               1 wife/guardian               1 21761402                    1 spouse20                    1 parenchild                  1 saving partner              1 advisor                     1 mentor                      1 brother and sister          1 sibbling                    1                             1 chiild                      1 dspouse                     1 executor                    1 hu                          1 ewife                       1 spoudse                     1 sopouse                     1 9266025                     1 pare nt                     1 254700442162                1 best friend                 1 granchild                   1 sister- custodian           1 well wisher                 1 comapanion                  1 parnt                       1 cousn                       1 f                           1 spiritual father            1 ;son                        1 others                      1 fiancé                      1 joint partner               1 administrator               1 33                          1 girlfried                   1 brestfriend                 1 finance                     1 daughter in law             1 child minor                 1 sisiter                     1 baby                        1 254708368426                1 morher                      1 33.4                        1 chilf                       1 254727756559                1 0720401466                  1 father-in-law               1 principal                   1 junior                      1 dgrand daughter             1 coworker                    1 d100                        1 nmo                         1 husband/spouse              1 2021                        1 moth                        1 un,cle                      1 chil                        1 15                          1 engaged                     1 son/sister                  1 xena\\'s guardian             1 sister-in law               1 person                      1 c/o                         1 step mother                 1 nice                        1 ciru                        1 som                         1 dau`                        1 clousin                     1 19112004                    1 twinsister                  1 mo9                         1 granson                     1 companion                   1 nolan\\'s guardian            1 myson                       1 granny                      1 bishop                      1 \\'m                          1 silbling                    1 mother to son               1 daughter/child              1 freinf                      1 marriage                    1 254723993458                1 closefriend                 1 fiane                       1 guadian                     1 grandpa                     1 daughter33                  1 dating                      1 mwas                        1 step-mom                    1 guardian-mother             1\"'}, 'execution_count': 17, 'metadata': {}, 'output_type': 'execute_result'}], 'source': 'df[\\'relationship\\'] = df[\\'relationship\\'].str.lower().str.strip()\\ndf[\\'relationship\\'].value_counts().to_string().replace(\"\\\\n\", \" \")'}, {'cell_type': 'code', 'execution_count': 18, 'metadata': {}, 'outputs': [{'data': {'text/plain': '0'}, 'execution_count': 18, 'metadata': {}, 'output_type': 'execute_result'}], 'source': \"df['relationship'] = df['relationship'].fillna('son')\\ndf['relationship'].isna().sum()\\n\"}, {'cell_type': 'code', 'execution_count': 19, 'metadata': {}, 'outputs': [{'name': 'stdout', 'output_type': 'stream', 'text': 'relationship\\nchild           52152\\nparent          26352\\npartner         24578\\nsibling         20240\\nrelative         1534\\nfriends           396\\nother             392\\nguardian          128\\nprofessional       67\\nself               49\\nName: count, dtype: int64\\n'}], 'source': \"# Convert all entries to lower case and strip whitespace for uniformity\\ndf['relationship'] = df['relationship'].str.lower().str.strip()\\n\\n# Mapping dictionary\\nrelationship_map = {\\n    'partner': [\\n        'partner', 'spouse', 'sp0use','husband', 'wife', 'fiancee', 'ex-wife', 'spouce', 'fiancé',\\n        'husband ', 'sponse', 'spouse ', 'wiFe', 'wifE', 'wife ', 'spouse', 'married', 'marriage',\\n        'husband/spouse', 'ex-wife', 'fiance ', 'fiance', 'married ', 'myson', 'baby mama ',\\n        'fiancee ', 'souse', 'hubby', 'dating', 'boyfriend', 'girlfriend', 'ex wife', 'boyfriend ',\\n        'girlfriend ', 'wife/guardian', 'ex husband', 'girl friend', 'fiancée', 'sopouse', 'spoudse',\\n        'soPOUSE', 'spause', 'sposue', 'ex husband', 'love', 'b/f', 'g/f', 'divorcee', 'ex spouse',\\n        'bf', 'gf', 'b/f', 'g/f', 'fiancé ', 'domesticpartner', 'domestic partner', 'dating', 'exwife',\\n        'exhusband', 'wive', 'husb', 'exspouse', 'partner ', 'significant other', 'fiancee','companion','Partner',\\n        'Husband ', 'Husband',  'Wife',   'SPOUSE' , 'Spouse ', 'WIfe', 'Spouse',  'wife', 'Wife ', 'spouse', 'partner',\\n        'HUSBAND', 'husband', 'husband ',  'SP0USE' , 'SPOUSE ',  'wife ',\\n        'spouse ', 'Partner ' , 'FIANCEE', 'Fiancee',  'HUSBAND ',  'FIANCE', \\n        'wIFE', 'PARTNER',  'Domestic Partner', 'PATNER', 'Fiance ', 'PARTNER ',  'hUSBAND',  'Boyfriend ',\\n        'WIFE ', 'fiancee', 'JOINT PARTNER', 'Fiancé ' , 'Husband/spouse', 'SPOUCE',  'Patner', 'Spouce',  \\n        'Fiance', 'BOYFRIEND', 'EX-WIFE',  'PARNT',  'GIRLFRIED'\\n    ],\\n    'child': [\\n        'child', 'kid', 'daughter', 'son', 'children', 'daughter33', 'doughter', 'daugther', 'doughter ',\\n        'daugther', 'son ', 'daughter ', 'child minor', 'kids', 'baby', 'infant', 'toddler', 'sonS',\\n        'minor', 'child ', 'son/sister', 'chid', 'newborn', 'son/brother', 'childnephew',\\n        'chils', 'chiLD', 'kID', 'dau`', 'daugher', 'childnephew', 'my son','child', 'son', 'dau', \\n        'daughter', 'daughter33', 'my son', 'infant', 'childnephew', 'kids', 'baby', 'ChiLD', 'CHID',\\n        'sON', 'cHILS', 'CHID', 'CHIILD', 'KID', 'FOSTER' 'DAUGHTER', 'CHILD MINOR', 'MINOR', 'CHILDREN', \\n        'SOM', 'CHILDREN', 'JUNIOR', 'BABY',  'CHIL', 'DAUGHTER/CHILDDAUGHER', 'CHILF', 'DOUGHTER', 'DAIGHTER', \\n        'DAUGHTE', 'DAUGHETR', 'S0N','MYSON','child','CHILD','Child ','DAUGHTER/CHILD','child ','CHILD MINOR',\\n        'CHILD ','children','CHILDREN','ChILD','ChiLD'\\n    ],\\n    'parent': [\\n        'mother', 'mom', 'mum', 'father', 'dad', 'parent', 'parents', 'mother ', 'father ', 'mOTHER',\\n        'dad ', 'mum ', 'mom ', 'mummy', 'daddy', 'papa', 'mama', 'mother in law', 'father in law',\\n        'mothers', 'fathers', 'moms', 'mums', 'father-in-law', 'mother-in-law', 'mommy', 'dadi', 'momi',\\n        'parent ', 'mother to son', 'mother of child', 'parents', 'mother- guardian', 'father - guardian',\\n        'parentchild', 'parental', 'parenthood', 'parenting', 'mother IN LAW', 'mom in law', 'dad in law',\\n        'mum in law', 'parenting', 'fatherhood', 'motherhood', 'parent ', 'grandparent', 'step mother',\\n        'step father', 'step-mother', 'step-father','Parent', 'Parents', 'Mother', 'Mothers', 'Mom', 'Mum', \\n        'Father', 'DAD', 'Dad', 'Guardian', 'Grandmother', 'Grandfather', 'Step-mother', 'Step-father', 'Foster parent',\\n        'Mother-in-law', 'Father-in-law', 'ParentChild', 'Mama', 'Mummy', 'Dadi', 'Mother TO SON', 'PARENT', 'MOther'\\n    ],\\n    'self': [\\n        'self', 'owner', 'me', 'myself', 'self ', 'owner ', 'i', 'myself ', 'personal', 'individual',\\n        'own', 'my own', 'self-employed', 'proprietor', 'me ', 'self employed', 'self own', 'personal account',\\n        'my account', 'own account'\\n    ],\\n    'guardian': [\\n        'guardian', 'custodian', 'trustee', 'guard', 'guardian ', 'custodian ', 'trustee ', 'guard ',\\n        'legal guardian', 'guardianship', 'custodianship', 'trusteeship', 'protector', 'caregiver',\\n        'conservator','conservator', 'foster parent', 'foster guardian', 'legal custodian', 'guardian-mother', 'guardian father'\\n    ],\\n    'sibling': [\\n        'siblings', 'brother', 'sister', 'sibling', 'brother ', 'sister ', 'bro', 'sis', 'brothers', 'sisters',\\n        'sibling ', 'brother-in-law', 'sister-in-law', 'sibling in law', 'brother and sister', 'sibbling',\\n        'siBLING', 'sibblings', 'sister in law', 'brother in law', 'sister/guardian', 'sister - guardian',\\n        'sister-guardian', 'bros', 'sisses', 'step-sister', 'step-brother', 'half-sister', 'half-brother', 'broski','Sister', 'Brother ','brother', 'sister',\\n       'Sister ', 'SISTER','Sibling', 'brother ','Sibling ','SISTER ','Sistet', 'Bro', 'Sis', 'SiBLING',\\n        'SIBLING',  's0n', 'sister ''sISTER', 'sisiter', ' BROTHER','BRother', 'SisteR', 'SIS', \\n       'som',\\n       'Sister- Custodian', \\n       'SIIBLING', 'SIBLINGS','Brother and sister',\\n       'Sibbling'\\n    ],\\n    'relative': [\\n        'cousin', 'nephew', 'grand child', 'niece', 'grandmother', 'granddaughter', 'grandson', 'grandfather', 'uncles', 'aunties',\\n        'aunt', 'uncle', 'granny', 'grandparent', 'grand child', 'relative', 'relatives', 'cousins', 'uncles',\\n        'aunties', 'aunts', 'grandparents', 'great grandmother', 'great grandfather', 'grand children', 'extended family',\\n        'grandmother ', 'grandfather ', 'nephew ', 'niece ', 'cousin ', 'aunt ', 'uncle ', 'granny ', 'granddaughter ',\\n        'grandson ', 'grandchild', 'grandchild ', 'grandchildren', 'grandkids', 'great grandparent', 'ancestors', 'descendants',\\n        'kin', 'kinship', 'next of kin', 'in-laws', 'inlaw', 'in laws', 'extended relatives', 'b inlaw', 'in law','family tree', 'Cousin', ' Grand daughter', 'Nephew', 'NIECE', 'Niece', 'AUNT', 'relative', 'AUNTIE', 'B INLAW', 'COUSIN', 'aunt', 'UNCLE', 'GRAND SON', 'Nephew ', 'Cousin ', 'nephew', 'GRAND DAUGHTER', 'Niece ', 'granddaughter', 'grandson', 'RELATIVE', 'Daughter-in-law ', 'GRANDMOTHER', 'Relative ', 'uncle',\\n'NEPHEW', 'Grand daughter', 'DAUGHTER-IN-LAW', 'COUSN', 'Uncle', 'Granddaughter ', 'Aunt ', 'cousin', 'GRANDSON ', 'uncle ', 'AUNTY', 'FATHER-IN-LAW', 'GRAND FATHER', 'DGRAND DAUGHTER', 'GRAND MOTHER', 'UN,CLE', 'GRAND CHILD', 'Sister in law', 'Grand Daughter', 'GRANDDAUGTER', 'NiecE', 'Brother-IN-LAW', 'Grand mother', 'GRANDFATHER', 'Daughter in law', 'Sister-IN-LAW', 'GRAND-DAUGHTER', 'GRANNY', \\n'GRANDCHILD', 'Aunty', 'Cousins', 'Cousins ', 'Auntie', 'GRANDPA', 'Brother in Law', 'IN LAW', 'Granddaughter', 'niece', 'Grand Son', 'Sister-in law', 'CLOUSIN', 'GRANSON', 'Sister IN LAW', 'Brother-in-law', 'Sister-Inlaw', 'Brother in law', 'GRAND-MOTHER', 'Grand-mother', 'Mother-in-law', 'SISTER IN LAW ', 'Grand mother ', 'Childnephew', 'Grand daughter ', 'auntie', 'In law', 'Sister in-law', 'Aunty '\\n    ],\\n    'friends': ['friend','closefriend', 'confidant', 'friend ',\\n        'peers', 'acquaintance', 'comrade', 'pal', 'buddy', 'mate', 'fellow', 'ally', 'supporter',\\n        'confidante', 'friend of the family', 'family friend',\\n        'peer', 'companion', 'companions'\\n    ],\\n    'professional':['colleague', 'coworker', 'partner in law',\\n        'associate', 'advisor', 'mentor', 'colleague ', 'coworker ',\\n        'associate ', 'colleague', 'professional', 'mentor', 'adviser', 'counselor', 'legal representative', 'executor', 'business partner',\\n        'co-worker', 'workmate', 'teammate',\\n        'partner in business', 'business associate', 'collaborator', 'collegue','estate'\\n    ],\\n    'other': ['spiritual advisor','sponsor'\\n    ]\\n}\\n\\n# Function to apply the mapping\\ndef map_relationship(value):\\n    for category, keywords in relationship_map.items():\\n        if any(keyword == value for keyword in keywords):\\n            return category\\n    return 'other'  # Default category if no matches found\\n\\n# Apply the mapping function to the 'relationship' column\\ndf['relationship'] = df['relationship'].apply(map_relationship)\\n\\n# Show the value counts of each category\\nprint(df['relationship'].value_counts())\"}, {'cell_type': 'code', 'execution_count': 20, 'metadata': {}, 'outputs': [{'data': {'text/plain': \"Index(['member_no', 'dob', 'gender', 'town', 'relationship', 'beneficiery_dob',\\n       'portfolio'],\\n      dtype='object')\"}, 'execution_count': 20, 'metadata': {}, 'output_type': 'execute_result'}], 'source': 'df.columns'}, {'cell_type': 'code', 'execution_count': 21, 'metadata': {}, 'outputs': [{'data': {'text/plain': 'gender\\nFemale    83178\\nMale      42480\\nF            92\\nM            48\\nFEMALE        4\\nMALE          4\\nName: count, dtype: int64'}, 'execution_count': 21, 'metadata': {}, 'output_type': 'execute_result'}], 'source': 'df.gender.value_counts()'}, {'cell_type': 'code', 'execution_count': 22, 'metadata': {}, 'outputs': [{'data': {'text/plain': '82'}, 'execution_count': 22, 'metadata': {}, 'output_type': 'execute_result'}], 'source': 'df.gender.isna().sum()'}, {'cell_type': 'code', 'execution_count': 23, 'metadata': {}, 'outputs': [{'data': {'text/plain': '0'}, 'execution_count': 23, 'metadata': {}, 'output_type': 'execute_result'}], 'source': \"df['gender']=df.gender.fillna('Female')\\ndf['gender'].isna().sum()\"}, {'cell_type': 'code', 'execution_count': 24, 'metadata': {}, 'outputs': [], 'source': \"gender_map = {\\n    'Female':'Female','F':'Female','FEMALE':'Female',\\n    'Male':'Male','M':'Male','MALE':'Male',\\n}\\n\\ndf['gender_mapped'] = df['gender'].replace(gender_map)\"}, {'cell_type': 'code', 'execution_count': 25, 'metadata': {}, 'outputs': [{'data': {'text/html': '<div>\\n<style scoped>\\n    .dataframe tbody tr th:only-of-type {\\n        vertical-align: middle;\\n    }\\n\\n    .dataframe tbody tr th {\\n        vertical-align: top;\\n    }\\n\\n    .dataframe thead th {\\n        text-align: right;\\n    }\\n</style>\\n<table border=\"1\" class=\"dataframe\">\\n  <thead>\\n    <tr style=\"text-align: right;\">\\n      <th></th>\\n      <th>member_no</th>\\n      <th>dob</th>\\n      <th>gender</th>\\n      <th>town</th>\\n      <th>relationship</th>\\n      <th>beneficiery_dob</th>\\n      <th>portfolio</th>\\n      <th>gender_mapped</th>\\n    </tr>\\n  </thead>\\n  <tbody>\\n    <tr>\\n      <th>0</th>\\n      <td>99996</td>\\n      <td>1998-04-06 00:00:00</td>\\n      <td>Female</td>\\n      <td>NAIROBI</td>\\n      <td>partner</td>\\n      <td>1998-01-26</td>\\n      <td>Money Market</td>\\n      <td>Female</td>\\n    </tr>\\n    <tr>\\n      <th>14</th>\\n      <td>99996</td>\\n      <td>1998-04-06 00:00:00</td>\\n      <td>Female</td>\\n      <td>NAIROBI</td>\\n      <td>sibling</td>\\n      <td>2001-03-04</td>\\n      <td>Money Market</td>\\n      <td>Female</td>\\n    </tr>\\n    <tr>\\n      <th>28</th>\\n      <td>99994</td>\\n      <td>1966-01-01 00:00:00</td>\\n      <td>Female</td>\\n      <td>NaN</td>\\n      <td>partner</td>\\n      <td>1962-01-01</td>\\n      <td>Money Market</td>\\n      <td>Female</td>\\n    </tr>\\n    <tr>\\n      <th>40</th>\\n      <td>99993</td>\\n      <td>1974-01-01 00:00:00</td>\\n      <td>Female</td>\\n      <td>NAIROBI</td>\\n      <td>partner</td>\\n      <td>1970-09-29</td>\\n      <td>Money Market</td>\\n      <td>Female</td>\\n    </tr>\\n    <tr>\\n      <th>70</th>\\n      <td>99993</td>\\n      <td>1974-01-01 00:00:00</td>\\n      <td>Female</td>\\n      <td>NAIROBI</td>\\n      <td>child</td>\\n      <td>1994-01-01</td>\\n      <td>Money Market</td>\\n      <td>Female</td>\\n    </tr>\\n  </tbody>\\n</table>\\n</div>', 'text/plain': '    member_no                  dob  gender     town relationship  \\\\\\n0       99996  1998-04-06 00:00:00  Female  NAIROBI      partner   \\n14      99996  1998-04-06 00:00:00  Female  NAIROBI      sibling   \\n28      99994  1966-01-01 00:00:00  Female      NaN      partner   \\n40      99993  1974-01-01 00:00:00  Female  NAIROBI      partner   \\n70      99993  1974-01-01 00:00:00  Female  NAIROBI        child   \\n\\n   beneficiery_dob     portfolio gender_mapped  \\n0       1998-01-26  Money Market        Female  \\n14      2001-03-04  Money Market        Female  \\n28      1962-01-01  Money Market        Female  \\n40      1970-09-29  Money Market        Female  \\n70      1994-01-01  Money Market        Female  '}, 'execution_count': 25, 'metadata': {}, 'output_type': 'execute_result'}], 'source': 'df.head()'}, {'cell_type': 'code', 'execution_count': 26, 'metadata': {}, 'outputs': [{'data': {'text/plain': 'dob\\n1962-01-01             541\\n1960-01-01             360\\n1968-01-01             320\\n1974-01-01             311\\n1970-01-01             311\\n                      ... \\n1965-10-05               1\\n2002-06-13               1\\n1939-03-24               1\\n1964-06-13               1\\n1965-05-07 00:00:00      1\\nName: count, Length: 19092, dtype: int64'}, 'execution_count': 26, 'metadata': {}, 'output_type': 'execute_result'}], 'source': 'df.dob.value_counts()'}, {'cell_type': 'code', 'execution_count': 27, 'metadata': {}, 'outputs': [{'data': {'text/plain': 'beneficiery_dob\\n1899-12-30    1854\\n1962-01-01     584\\n1970-01-01     562\\n1960-01-01     488\\n1963-01-01     475\\n              ... \\n1952-07-11       1\\n1956-01-14       1\\n1954-03-11       1\\n1990-02-09       1\\n1969-06-22       1\\nName: count, Length: 27488, dtype: int64'}, 'execution_count': 27, 'metadata': {}, 'output_type': 'execute_result'}], 'source': 'df.beneficiery_dob.value_counts()'}, {'cell_type': 'code', 'execution_count': 28, 'metadata': {}, 'outputs': [{'data': {'text/plain': '0'}, 'execution_count': 28, 'metadata': {}, 'output_type': 'execute_result'}], 'source': \"df['dob'] = df.dob.fillna('1962-01-01')\\ndf.dob.isna().sum()\"}, {'cell_type': 'code', 'execution_count': 29, 'metadata': {}, 'outputs': [], 'source': 'from datetime import datetime'}, {'cell_type': 'code', 'execution_count': 30, 'metadata': {}, 'outputs': [{'name': 'stdout', 'output_type': 'stream', 'text': '          dob  member_age beneficiery_dob  beneficiery_age\\n0  1998-04-06        26.0      1998-01-26             26.0\\n14 1998-04-06        26.0      2001-03-04             23.0\\n28 1966-01-01        58.0      1962-01-01             62.0\\n40 1974-01-01        50.0      1970-09-29             54.0\\n70 1974-01-01        50.0      1994-01-01             30.0\\n'}], 'source': \"# Convert the dob column to datetime format\\ndf['dob'] = pd.to_datetime(df['dob'], errors='coerce')\\n\\n# Function to calculate age\\ndef calculate_age(birth_date):\\n    if pd.isnull(birth_date):\\n        return None\\n    today = datetime.today()\\n    return today.year - birth_date.year - ((today.month, today.day) < (birth_date.month, birth_date.day))\\n\\n# Apply the function to calculate member age\\ndf['member_age'] = df['dob'].apply(calculate_age)\\n\\n# Convert beneficiery_dob column to datetime and calculate beneficiary age similarly\\ndf['beneficiery_dob'] = pd.to_datetime(df['beneficiery_dob'], errors='coerce')\\ndf['beneficiery_age'] = df['beneficiery_dob'].apply(calculate_age)\\n\\n# Check results\\nprint(df[['dob', 'member_age', 'beneficiery_dob', 'beneficiery_age']].head())\"}, {'cell_type': 'code', 'execution_count': 31, 'metadata': {}, 'outputs': [{'data': {'text/plain': 'count    106827.000000\\nmean         37.854316\\nstd          22.193200\\nmin        -178.000000\\n25%          24.000000\\n50%          36.000000\\n75%          53.000000\\nmax         329.000000\\nName: beneficiery_age, dtype: float64'}, 'execution_count': 31, 'metadata': {}, 'output_type': 'execute_result'}], 'source': 'df.beneficiery_age.describe()'}, {'cell_type': 'code', 'execution_count': 32, 'metadata': {}, 'outputs': [{'data': {'text/plain': 'portfolio\\nMoney Market     119710\\nEquity Fund        2014\\nDollar Fund        1480\\nBalanced Fund      1180\\nFixed Income       1101\\nWealth Fund         398\\nMoneyMarket           1\\nName: count, dtype: int64'}, 'execution_count': 32, 'metadata': {}, 'output_type': 'execute_result'}], 'source': 'df.portfolio.value_counts()'}, {'cell_type': 'code', 'execution_count': 33, 'metadata': {}, 'outputs': [{'data': {'text/plain': '0'}, 'execution_count': 33, 'metadata': {}, 'output_type': 'execute_result'}], 'source': \"df['portfolio']=df.portfolio.fillna('Money Market')\\ndf.portfolio.isna().sum()\"}, {'cell_type': 'code', 'execution_count': 34, 'metadata': {}, 'outputs': [], 'source': \"portfolio_map ={\\n    'Money Mrket':'Money Market','MoneyMarket':'Money Market',\\n    'Equity Fund':'Equity Fund',\\n    'Dollar Fund':'Dollar Fund',\\n    'Balanced Fund':'Balanced Fund',\\n    'Fixed Income':'Fixed Income',\\n    'Wealth Fund':'Wealth Fund',\\n}\\ndf['portfolio_map'] = df['portfolio'].replace(portfolio_map)\"}, {'cell_type': 'code', 'execution_count': 35, 'metadata': {}, 'outputs': [{'data': {'text/html': '<div>\\n<style scoped>\\n    .dataframe tbody tr th:only-of-type {\\n        vertical-align: middle;\\n    }\\n\\n    .dataframe tbody tr th {\\n        vertical-align: top;\\n    }\\n\\n    .dataframe thead th {\\n        text-align: right;\\n    }\\n</style>\\n<table border=\"1\" class=\"dataframe\">\\n  <thead>\\n    <tr style=\"text-align: right;\">\\n      <th></th>\\n      <th>member_no</th>\\n      <th>dob</th>\\n      <th>gender</th>\\n      <th>town</th>\\n      <th>relationship</th>\\n      <th>beneficiery_dob</th>\\n      <th>portfolio</th>\\n      <th>gender_mapped</th>\\n      <th>member_age</th>\\n      <th>beneficiery_age</th>\\n      <th>portfolio_map</th>\\n    </tr>\\n  </thead>\\n  <tbody>\\n    <tr>\\n      <th>0</th>\\n      <td>99996</td>\\n      <td>1998-04-06</td>\\n      <td>Female</td>\\n      <td>NAIROBI</td>\\n      <td>partner</td>\\n      <td>1998-01-26</td>\\n      <td>Money Market</td>\\n      <td>Female</td>\\n      <td>26.0</td>\\n      <td>26.0</td>\\n      <td>Money Market</td>\\n    </tr>\\n    <tr>\\n      <th>14</th>\\n      <td>99996</td>\\n      <td>1998-04-06</td>\\n      <td>Female</td>\\n      <td>NAIROBI</td>\\n      <td>sibling</td>\\n      <td>2001-03-04</td>\\n      <td>Money Market</td>\\n      <td>Female</td>\\n      <td>26.0</td>\\n      <td>23.0</td>\\n      <td>Money Market</td>\\n    </tr>\\n    <tr>\\n      <th>28</th>\\n      <td>99994</td>\\n      <td>1966-01-01</td>\\n      <td>Female</td>\\n      <td>NaN</td>\\n      <td>partner</td>\\n      <td>1962-01-01</td>\\n      <td>Money Market</td>\\n      <td>Female</td>\\n      <td>58.0</td>\\n      <td>62.0</td>\\n      <td>Money Market</td>\\n    </tr>\\n    <tr>\\n      <th>40</th>\\n      <td>99993</td>\\n      <td>1974-01-01</td>\\n      <td>Female</td>\\n      <td>NAIROBI</td>\\n      <td>partner</td>\\n      <td>1970-09-29</td>\\n      <td>Money Market</td>\\n      <td>Female</td>\\n      <td>50.0</td>\\n      <td>54.0</td>\\n      <td>Money Market</td>\\n    </tr>\\n    <tr>\\n      <th>70</th>\\n      <td>99993</td>\\n      <td>1974-01-01</td>\\n      <td>Female</td>\\n      <td>NAIROBI</td>\\n      <td>child</td>\\n      <td>1994-01-01</td>\\n      <td>Money Market</td>\\n      <td>Female</td>\\n      <td>50.0</td>\\n      <td>30.0</td>\\n      <td>Money Market</td>\\n    </tr>\\n  </tbody>\\n</table>\\n</div>', 'text/plain': '    member_no        dob  gender     town relationship beneficiery_dob  \\\\\\n0       99996 1998-04-06  Female  NAIROBI      partner      1998-01-26   \\n14      99996 1998-04-06  Female  NAIROBI      sibling      2001-03-04   \\n28      99994 1966-01-01  Female      NaN      partner      1962-01-01   \\n40      99993 1974-01-01  Female  NAIROBI      partner      1970-09-29   \\n70      99993 1974-01-01  Female  NAIROBI        child      1994-01-01   \\n\\n       portfolio gender_mapped  member_age  beneficiery_age portfolio_map  \\n0   Money Market        Female        26.0             26.0  Money Market  \\n14  Money Market        Female        26.0             23.0  Money Market  \\n28  Money Market        Female        58.0             62.0  Money Market  \\n40  Money Market        Female        50.0             54.0  Money Market  \\n70  Money Market        Female        50.0             30.0  Money Market  '}, 'execution_count': 35, 'metadata': {}, 'output_type': 'execute_result'}], 'source': 'df.head()'}, {'cell_type': 'code', 'execution_count': 36, 'metadata': {}, 'outputs': [{'data': {'text/plain': '15026'}, 'execution_count': 36, 'metadata': {}, 'output_type': 'execute_result'}], 'source': 'df.town.isna().sum()'}, {'cell_type': 'code', 'execution_count': 37, 'metadata': {}, 'outputs': [{'data': {'text/plain': 'town\\nNAIROBI                                    56997\\nNairobi                                    10261\\nTHIKA                                       3000\\nNAKURU                                      2608\\nMOMBASA                                     2440\\n                                           ...  \\nKABETE                                         1\\nMakueni                                        1\\nKasarani                                       1\\nKianyaga                                       1\\n14 AV FERNAND FENZY92160  ANTONY FRANCE        1\\nName: count, Length: 973, dtype: int64'}, 'execution_count': 37, 'metadata': {}, 'output_type': 'execute_result'}], 'source': 'df.town.value_counts()'}, {'cell_type': 'code', 'execution_count': 38, 'metadata': {}, 'outputs': [{'data': {'text/plain': '0'}, 'execution_count': 38, 'metadata': {}, 'output_type': 'execute_result'}], 'source': \"df['town'] = df.town.fillna('Unknown')\\ndf.town.isna().sum()\"}, {'cell_type': 'code', 'execution_count': 39, 'metadata': {}, 'outputs': [{'data': {'text/html': '<div>\\n<style scoped>\\n    .dataframe tbody tr th:only-of-type {\\n        vertical-align: middle;\\n    }\\n\\n    .dataframe tbody tr th {\\n        vertical-align: top;\\n    }\\n\\n    .dataframe thead th {\\n        text-align: right;\\n    }\\n</style>\\n<table border=\"1\" class=\"dataframe\">\\n  <thead>\\n    <tr style=\"text-align: right;\">\\n      <th></th>\\n      <th>member_no</th>\\n      <th>dob</th>\\n      <th>gender</th>\\n      <th>town</th>\\n      <th>relationship</th>\\n      <th>beneficiery_dob</th>\\n      <th>portfolio</th>\\n      <th>gender_mapped</th>\\n      <th>member_age</th>\\n      <th>beneficiery_age</th>\\n      <th>portfolio_map</th>\\n    </tr>\\n  </thead>\\n  <tbody>\\n    <tr>\\n      <th>0</th>\\n      <td>99996</td>\\n      <td>1998-04-06</td>\\n      <td>Female</td>\\n      <td>NAIROBI</td>\\n      <td>partner</td>\\n      <td>1998-01-26</td>\\n      <td>Money Market</td>\\n      <td>Female</td>\\n      <td>26.0</td>\\n      <td>26.0</td>\\n      <td>Money Market</td>\\n    </tr>\\n    <tr>\\n      <th>14</th>\\n      <td>99996</td>\\n      <td>1998-04-06</td>\\n      <td>Female</td>\\n      <td>NAIROBI</td>\\n      <td>sibling</td>\\n      <td>2001-03-04</td>\\n      <td>Money Market</td>\\n      <td>Female</td>\\n      <td>26.0</td>\\n      <td>23.0</td>\\n      <td>Money Market</td>\\n    </tr>\\n    <tr>\\n      <th>28</th>\\n      <td>99994</td>\\n      <td>1966-01-01</td>\\n      <td>Female</td>\\n      <td>Unknown</td>\\n      <td>partner</td>\\n      <td>1962-01-01</td>\\n      <td>Money Market</td>\\n      <td>Female</td>\\n      <td>58.0</td>\\n      <td>62.0</td>\\n      <td>Money Market</td>\\n    </tr>\\n    <tr>\\n      <th>40</th>\\n      <td>99993</td>\\n      <td>1974-01-01</td>\\n      <td>Female</td>\\n      <td>NAIROBI</td>\\n      <td>partner</td>\\n      <td>1970-09-29</td>\\n      <td>Money Market</td>\\n      <td>Female</td>\\n      <td>50.0</td>\\n      <td>54.0</td>\\n      <td>Money Market</td>\\n    </tr>\\n    <tr>\\n      <th>70</th>\\n      <td>99993</td>\\n      <td>1974-01-01</td>\\n      <td>Female</td>\\n      <td>NAIROBI</td>\\n      <td>child</td>\\n      <td>1994-01-01</td>\\n      <td>Money Market</td>\\n      <td>Female</td>\\n      <td>50.0</td>\\n      <td>30.0</td>\\n      <td>Money Market</td>\\n    </tr>\\n  </tbody>\\n</table>\\n</div>', 'text/plain': '    member_no        dob  gender     town relationship beneficiery_dob  \\\\\\n0       99996 1998-04-06  Female  NAIROBI      partner      1998-01-26   \\n14      99996 1998-04-06  Female  NAIROBI      sibling      2001-03-04   \\n28      99994 1966-01-01  Female  Unknown      partner      1962-01-01   \\n40      99993 1974-01-01  Female  NAIROBI      partner      1970-09-29   \\n70      99993 1974-01-01  Female  NAIROBI        child      1994-01-01   \\n\\n       portfolio gender_mapped  member_age  beneficiery_age portfolio_map  \\n0   Money Market        Female        26.0             26.0  Money Market  \\n14  Money Market        Female        26.0             23.0  Money Market  \\n28  Money Market        Female        58.0             62.0  Money Market  \\n40  Money Market        Female        50.0             54.0  Money Market  \\n70  Money Market        Female        50.0             30.0  Money Market  '}, 'execution_count': 39, 'metadata': {}, 'output_type': 'execute_result'}], 'source': 'df.head()'}, {'cell_type': 'code', 'execution_count': 40, 'metadata': {}, 'outputs': [{'data': {'text/html': '<div>\\n<style scoped>\\n    .dataframe tbody tr th:only-of-type {\\n        vertical-align: middle;\\n    }\\n\\n    .dataframe tbody tr th {\\n        vertical-align: top;\\n    }\\n\\n    .dataframe thead th {\\n        text-align: right;\\n    }\\n</style>\\n<table border=\"1\" class=\"dataframe\">\\n  <thead>\\n    <tr style=\"text-align: right;\">\\n      <th></th>\\n      <th>member_no</th>\\n      <th>town</th>\\n      <th>relationship</th>\\n      <th>gender_mapped</th>\\n      <th>member_age</th>\\n      <th>beneficiery_age</th>\\n      <th>portfolio_map</th>\\n    </tr>\\n  </thead>\\n  <tbody>\\n    <tr>\\n      <th>0</th>\\n      <td>99996</td>\\n      <td>NAIROBI</td>\\n      <td>partner</td>\\n      <td>Female</td>\\n      <td>26.0</td>\\n      <td>26.0</td>\\n      <td>Money Market</td>\\n    </tr>\\n    <tr>\\n      <th>14</th>\\n      <td>99996</td>\\n      <td>NAIROBI</td>\\n      <td>sibling</td>\\n      <td>Female</td>\\n      <td>26.0</td>\\n      <td>23.0</td>\\n      <td>Money Market</td>\\n    </tr>\\n    <tr>\\n      <th>28</th>\\n      <td>99994</td>\\n      <td>Unknown</td>\\n      <td>partner</td>\\n      <td>Female</td>\\n      <td>58.0</td>\\n      <td>62.0</td>\\n      <td>Money Market</td>\\n    </tr>\\n    <tr>\\n      <th>40</th>\\n      <td>99993</td>\\n      <td>NAIROBI</td>\\n      <td>partner</td>\\n      <td>Female</td>\\n      <td>50.0</td>\\n      <td>54.0</td>\\n      <td>Money Market</td>\\n    </tr>\\n    <tr>\\n      <th>70</th>\\n      <td>99993</td>\\n      <td>NAIROBI</td>\\n      <td>child</td>\\n      <td>Female</td>\\n      <td>50.0</td>\\n      <td>30.0</td>\\n      <td>Money Market</td>\\n    </tr>\\n  </tbody>\\n</table>\\n</div>', 'text/plain': '    member_no     town relationship gender_mapped  member_age  \\\\\\n0       99996  NAIROBI      partner        Female        26.0   \\n14      99996  NAIROBI      sibling        Female        26.0   \\n28      99994  Unknown      partner        Female        58.0   \\n40      99993  NAIROBI      partner        Female        50.0   \\n70      99993  NAIROBI        child        Female        50.0   \\n\\n    beneficiery_age portfolio_map  \\n0              26.0  Money Market  \\n14             23.0  Money Market  \\n28             62.0  Money Market  \\n40             54.0  Money Market  \\n70             30.0  Money Market  '}, 'execution_count': 40, 'metadata': {}, 'output_type': 'execute_result'}], 'source': \"new_df=df.drop(columns=['dob','gender','portfolio','beneficiery_dob'])\\nnew_df.head()\"}, {'cell_type': 'code', 'execution_count': 41, 'metadata': {}, 'outputs': [], 'source': \"new_df['member_age'].fillna(new_df['member_age'].mode()[0], inplace=True)\\nnew_df['beneficiery_age'].fillna(new_df['beneficiery_age'].mode()[0], inplace=True)\"}, {'cell_type': 'code', 'execution_count': 42, 'metadata': {}, 'outputs': [], 'source': \"# Set reasonable age bounds\\nlower_bound = 0\\nupper_bound = 100\\n\\n# Create a copy of original ages for comparison if needed\\noriginal_ages = new_df['beneficiery_age'].copy()\\n\\n# Replace outliers by clipping to bounds\\nnew_df['beneficiery_age'] = new_df['beneficiery_age'].clip(lower=lower_bound, upper=upper_bound)\"}, {'cell_type': 'code', 'execution_count': 43, 'metadata': {}, 'outputs': [], 'source': 'import matplotlib.pyplot as plt\\nimport seaborn as sns'}, {'cell_type': 'code', 'execution_count': 44, 'metadata': {}, 'outputs': [{'data': {'image/png': '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', 'text/plain': '<Figure size 1000x600 with 1 Axes>'}, 'metadata': {}, 'output_type': 'display_data'}], 'source': \"average_age = new_df.groupby('portfolio_map')['member_age'].mean().reset_index()\\n\\nplt.figure(figsize=(10, 6))\\nsns.barplot(x='portfolio_map', y='member_age', data=average_age)\\nplt.title('Average Age by Portfolio Map')\\nplt.xlabel('Portfolio Map')\\nplt.ylabel('Average Age')\\nplt.show()\\n\"}, {'cell_type': 'code', 'execution_count': 45, 'metadata': {}, 'outputs': [{'data': {'text/plain': \"Index(['member_no', 'town', 'relationship', 'gender_mapped', 'member_age',\\n       'beneficiery_age', 'portfolio_map'],\\n      dtype='object')\"}, 'execution_count': 45, 'metadata': {}, 'output_type': 'execute_result'}], 'source': 'new_df.columns'}, {'cell_type': 'code', 'execution_count': 46, 'metadata': {}, 'outputs': [], 'source': \"new_df.to_csv('cleaned_data.csv', index=False)\"}, {'cell_type': 'code', 'execution_count': 47, 'metadata': {}, 'outputs': [{'name': 'stdout', 'output_type': 'stream', 'text': \"<class 'pandas.core.frame.DataFrame'>\\nIndex: 125888 entries, 0 to 7532842\\nData columns (total 7 columns):\\n #   Column           Non-Null Count   Dtype  \\n---  ------           --------------   -----  \\n 0   member_no        125888 non-null  int64  \\n 1   town             125888 non-null  object \\n 2   relationship     125888 non-null  object \\n 3   gender_mapped    125888 non-null  object \\n 4   member_age       125888 non-null  float64\\n 5   beneficiery_age  125888 non-null  float64\\n 6   portfolio_map    125888 non-null  object \\ndtypes: float64(2), int64(1), object(4)\\nmemory usage: 7.7+ MB\\n\"}], 'source': 'new_df.info()'}, {'cell_type': 'code', 'execution_count': 48, 'metadata': {}, 'outputs': [{'data': {'image/png': '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', 'text/plain': '<Figure size 800x600 with 1 Axes>'}, 'metadata': {}, 'output_type': 'display_data'}], 'source': \"plt.figure(figsize=(8, 6))\\nsns.countplot(data=new_df, x='gender_mapped', palette='viridis')\\nplt.title('Male vs Female Count in Gender Mapped')\\nplt.xlabel('Gender')\\nplt.ylabel('Count')\\nplt.show()\"}, {'cell_type': 'code', 'execution_count': 49, 'metadata': {}, 'outputs': [{'data': {'image/png': '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', 'text/plain': '<Figure size 1000x600 with 1 Axes>'}, 'metadata': {}, 'output_type': 'display_data'}], 'source': \"plt.figure(figsize=(10, 6))\\nsns.countplot(data=new_df, x='gender_mapped', hue='portfolio_map', palette='viridis')\\nplt.title('Gender vs Portfolio Map')\\nplt.xlabel('Gender')\\nplt.ylabel('Count')\\nplt.legend(title='Portfolio Map')\\nplt.show()\"}, {'cell_type': 'code', 'execution_count': 50, 'metadata': {}, 'outputs': [{'data': {'image/png': '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', 'text/plain': '<Figure size 1000x1000 with 1 Axes>'}, 'metadata': {}, 'output_type': 'display_data'}], 'source': \"age_bins = [0, 18, 30, 45, 60, 100]\\nage_labels = ['0-18', '19-30', '31-45', '46-60', '60+']\\nnew_df['age_group'] = pd.cut(new_df['member_age'], bins=age_bins, labels=age_labels)\\nage_counts = new_df['age_group'].value_counts().sort_index()\\nplt.figure(figsize=(10, 10))\\nplt.pie(age_counts, labels=age_counts.index, autopct='%1.1f%%', startangle=140, colors=sns.color_palette('viridis'))\\nplt.title('Members Age Groups Distribution')\\nplt.show()\"}, {'cell_type': 'code', 'execution_count': 51, 'metadata': {}, 'outputs': [{'data': {'image/png': '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', 'text/plain': '<Figure size 1000x600 with 1 Axes>'}, 'metadata': {}, 'output_type': 'display_data'}], 'source': \"top_10_towns = new_df['town'].value_counts().head(10)\\nplt.figure(figsize=(10, 6))\\nsns.barplot(x=top_10_towns.values, y=top_10_towns.index, palette='viridis')\\nplt.title('Top 10 Towns')\\nplt.xlabel('Count')\\nplt.ylabel('Town')\\nplt.show()\"}, {'cell_type': 'markdown', 'metadata': {}, 'source': 'MODELING'}, {'cell_type': 'code', 'execution_count': 52, 'metadata': {}, 'outputs': [{'name': 'stdout', 'output_type': 'stream', 'text': \"<class 'pandas.core.frame.DataFrame'>\\nIndex: 125888 entries, 0 to 7532842\\nData columns (total 8 columns):\\n #   Column           Non-Null Count   Dtype   \\n---  ------           --------------   -----   \\n 0   member_no        125888 non-null  int64   \\n 1   town             125888 non-null  object  \\n 2   relationship     125888 non-null  object  \\n 3   gender_mapped    125888 non-null  object  \\n 4   member_age       125888 non-null  float64 \\n 5   beneficiery_age  125888 non-null  float64 \\n 6   portfolio_map    125888 non-null  object  \\n 7   age_group        125888 non-null  category\\ndtypes: category(1), float64(2), int64(1), object(4)\\nmemory usage: 7.8+ MB\\n\"}], 'source': 'new_df.info()'}, {'cell_type': 'code', 'execution_count': 53, 'metadata': {}, 'outputs': [{'data': {'text/html': '<div>\\n<style scoped>\\n    .dataframe tbody tr th:only-of-type {\\n        vertical-align: middle;\\n    }\\n\\n    .dataframe tbody tr th {\\n        vertical-align: top;\\n    }\\n\\n    .dataframe thead th {\\n        text-align: right;\\n    }\\n</style>\\n<table border=\"1\" class=\"dataframe\">\\n  <thead>\\n    <tr style=\"text-align: right;\">\\n      <th></th>\\n      <th>member_no</th>\\n      <th>town</th>\\n      <th>relationship</th>\\n      <th>gender_mapped</th>\\n      <th>member_age</th>\\n      <th>beneficiery_age</th>\\n      <th>portfolio_map</th>\\n      <th>age_group</th>\\n    </tr>\\n  </thead>\\n  <tbody>\\n    <tr>\\n      <th>0</th>\\n      <td>99996</td>\\n      <td>NAIROBI</td>\\n      <td>partner</td>\\n      <td>Female</td>\\n      <td>26.0</td>\\n      <td>26.0</td>\\n      <td>Money Market</td>\\n      <td>19-30</td>\\n    </tr>\\n    <tr>\\n      <th>14</th>\\n      <td>99996</td>\\n      <td>NAIROBI</td>\\n      <td>sibling</td>\\n      <td>Female</td>\\n      <td>26.0</td>\\n      <td>23.0</td>\\n      <td>Money Market</td>\\n      <td>19-30</td>\\n    </tr>\\n    <tr>\\n      <th>28</th>\\n      <td>99994</td>\\n      <td>Unknown</td>\\n      <td>partner</td>\\n      <td>Female</td>\\n      <td>58.0</td>\\n      <td>62.0</td>\\n      <td>Money Market</td>\\n      <td>46-60</td>\\n    </tr>\\n    <tr>\\n      <th>40</th>\\n      <td>99993</td>\\n      <td>NAIROBI</td>\\n      <td>partner</td>\\n      <td>Female</td>\\n      <td>50.0</td>\\n      <td>54.0</td>\\n      <td>Money Market</td>\\n      <td>46-60</td>\\n    </tr>\\n    <tr>\\n      <th>70</th>\\n      <td>99993</td>\\n      <td>NAIROBI</td>\\n      <td>child</td>\\n      <td>Female</td>\\n      <td>50.0</td>\\n      <td>30.0</td>\\n      <td>Money Market</td>\\n      <td>46-60</td>\\n    </tr>\\n  </tbody>\\n</table>\\n</div>', 'text/plain': '    member_no     town relationship gender_mapped  member_age  \\\\\\n0       99996  NAIROBI      partner        Female        26.0   \\n14      99996  NAIROBI      sibling        Female        26.0   \\n28      99994  Unknown      partner        Female        58.0   \\n40      99993  NAIROBI      partner        Female        50.0   \\n70      99993  NAIROBI        child        Female        50.0   \\n\\n    beneficiery_age portfolio_map age_group  \\n0              26.0  Money Market     19-30  \\n14             23.0  Money Market     19-30  \\n28             62.0  Money Market     46-60  \\n40             54.0  Money Market     46-60  \\n70             30.0  Money Market     46-60  '}, 'execution_count': 53, 'metadata': {}, 'output_type': 'execute_result'}], 'source': 'new_df.head()'}, {'cell_type': 'code', 'execution_count': 54, 'metadata': {}, 'outputs': [], 'source': 'import pandas as pd\\nfrom sklearn.metrics.pairwise import cosine_similarity\\nfrom scipy.spatial.distance import cosine\\nfrom sklearn.feature_extraction.text import TfidfVectorizer\\nfrom sklearn.model_selection import train_test_split'}, {'cell_type': 'code', 'execution_count': 56, 'metadata': {}, 'outputs': [{'name': 'stderr', 'output_type': 'stream', 'text': \"C:\\\\Users\\\\petra.kibugu\\\\AppData\\\\Local\\\\Temp\\\\ipykernel_84084\\\\287210496.py:5: SettingWithCopyWarning: \\nA value is trying to be set on a copy of a slice from a DataFrame.\\nTry using .loc[row_indexer,col_indexer] = value instead\\n\\nSee the caveats in the documentation: https://pandas.pydata.org/pandas-docs/stable/user_guide/indexing.html#returning-a-view-versus-a-copy\\n  X['features'] = X.astype(str).sum(axis=1)\\n\"}], 'source': \"\\n# Create a feature matrix combining the relevant columns\\nX = new_df[['member_age', 'beneficiery_age', 'age_group', 'gender_mapped']]\\n\\n# Convert the feature columns to a single string for each row\\nX['features'] = X.astype(str).sum(axis=1)\\n\\n# Create a TF-IDF matrix from the features\\ntfidf = TfidfVectorizer(max_features=1000)\\nX_tfidf = tfidf.fit_transform(X['features'])\\n\\n# Split the data into training and test sets\\nX_train, X_test, y_train, y_test = train_test_split(X_tfidf, new_df['portfolio_map'], test_size=0.2, random_state=42)\\n\\n\\n\"}, {'cell_type': 'code', 'execution_count': 57, 'metadata': {}, 'outputs': [{'data': {'text/html': '<style>#sk-container-id-1 {color: black;background-color: white;}#sk-container-id-1 pre{padding: 0;}#sk-container-id-1 div.sk-toggleable {background-color: white;}#sk-container-id-1 label.sk-toggleable__label {cursor: pointer;display: block;width: 100%;margin-bottom: 0;padding: 0.3em;box-sizing: border-box;text-align: center;}#sk-container-id-1 label.sk-toggleable__label-arrow:before {content: \"▸\";float: left;margin-right: 0.25em;color: #696969;}#sk-container-id-1 label.sk-toggleable__label-arrow:hover:before {color: black;}#sk-container-id-1 div.sk-estimator:hover label.sk-toggleable__label-arrow:before {color: black;}#sk-container-id-1 div.sk-toggleable__content {max-height: 0;max-width: 0;overflow: hidden;text-align: left;background-color: #f0f8ff;}#sk-container-id-1 div.sk-toggleable__content pre {margin: 0.2em;color: black;border-radius: 0.25em;background-color: #f0f8ff;}#sk-container-id-1 input.sk-toggleable__control:checked~div.sk-toggleable__content {max-height: 200px;max-width: 100%;overflow: auto;}#sk-container-id-1 input.sk-toggleable__control:checked~label.sk-toggleable__label-arrow:before {content: \"▾\";}#sk-container-id-1 div.sk-estimator input.sk-toggleable__control:checked~label.sk-toggleable__label {background-color: #d4ebff;}#sk-container-id-1 div.sk-label input.sk-toggleable__control:checked~label.sk-toggleable__label {background-color: #d4ebff;}#sk-container-id-1 input.sk-hidden--visually {border: 0;clip: rect(1px 1px 1px 1px);clip: rect(1px, 1px, 1px, 1px);height: 1px;margin: -1px;overflow: hidden;padding: 0;position: absolute;width: 1px;}#sk-container-id-1 div.sk-estimator {font-family: monospace;background-color: #f0f8ff;border: 1px dotted black;border-radius: 0.25em;box-sizing: border-box;margin-bottom: 0.5em;}#sk-container-id-1 div.sk-estimator:hover {background-color: #d4ebff;}#sk-container-id-1 div.sk-parallel-item::after {content: \"\";width: 100%;border-bottom: 1px solid gray;flex-grow: 1;}#sk-container-id-1 div.sk-label:hover label.sk-toggleable__label {background-color: #d4ebff;}#sk-container-id-1 div.sk-serial::before {content: \"\";position: absolute;border-left: 1px solid gray;box-sizing: border-box;top: 0;bottom: 0;left: 50%;z-index: 0;}#sk-container-id-1 div.sk-serial {display: flex;flex-direction: column;align-items: center;background-color: white;padding-right: 0.2em;padding-left: 0.2em;position: relative;}#sk-container-id-1 div.sk-item {position: relative;z-index: 1;}#sk-container-id-1 div.sk-parallel {display: flex;align-items: stretch;justify-content: center;background-color: white;position: relative;}#sk-container-id-1 div.sk-item::before, #sk-container-id-1 div.sk-parallel-item::before {content: \"\";position: absolute;border-left: 1px solid gray;box-sizing: border-box;top: 0;bottom: 0;left: 50%;z-index: -1;}#sk-container-id-1 div.sk-parallel-item {display: flex;flex-direction: column;z-index: 1;position: relative;background-color: white;}#sk-container-id-1 div.sk-parallel-item:first-child::after {align-self: flex-end;width: 50%;}#sk-container-id-1 div.sk-parallel-item:last-child::after {align-self: flex-start;width: 50%;}#sk-container-id-1 div.sk-parallel-item:only-child::after {width: 0;}#sk-container-id-1 div.sk-dashed-wrapped {border: 1px dashed gray;margin: 0 0.4em 0.5em 0.4em;box-sizing: border-box;padding-bottom: 0.4em;background-color: white;}#sk-container-id-1 div.sk-label label {font-family: monospace;font-weight: bold;display: inline-block;line-height: 1.2em;}#sk-container-id-1 div.sk-label-container {text-align: center;}#sk-container-id-1 div.sk-container {/* jupyter\\'s `normalize.less` sets `[hidden] { display: none; }` but bootstrap.min.css set `[hidden] { display: none !important; }` so we also need the `!important` here to be able to override the default hidden behavior on the sphinx rendered scikit-learn.org. See: https://github.com/scikit-learn/scikit-learn/issues/21755 */display: inline-block !important;position: relative;}#sk-container-id-1 div.sk-text-repr-fallback {display: none;}</style><div id=\"sk-container-id-1\" class=\"sk-top-container\"><div class=\"sk-text-repr-fallback\"><pre>NearestNeighbors(algorithm=&#x27;brute&#x27;, metric=&#x27;cosine&#x27;)</pre><b>In a Jupyter environment, please rerun this cell to show the HTML representation or trust the notebook. <br />On GitHub, the HTML representation is unable to render, please try loading this page with nbviewer.org.</b></div><div class=\"sk-container\" hidden><div class=\"sk-item\"><div class=\"sk-estimator sk-toggleable\"><input class=\"sk-toggleable__control sk-hidden--visually\" id=\"sk-estimator-id-1\" type=\"checkbox\" checked><label for=\"sk-estimator-id-1\" class=\"sk-toggleable__label sk-toggleable__label-arrow\">NearestNeighbors</label><div class=\"sk-toggleable__content\"><pre>NearestNeighbors(algorithm=&#x27;brute&#x27;, metric=&#x27;cosine&#x27;)</pre></div></div></div></div></div>', 'text/plain': \"NearestNeighbors(algorithm='brute', metric='cosine')\"}, 'execution_count': 57, 'metadata': {}, 'output_type': 'execute_result'}], 'source': \"from sklearn.neighbors import NearestNeighbors\\n\\n# Train the Nearest Neighbors model\\nmodel = NearestNeighbors(metric='cosine', algorithm='brute')\\nmodel.fit(X_train)\\n\\n\"}, {'cell_type': 'code', 'execution_count': 58, 'metadata': {}, 'outputs': [], 'source': \"def get_recommendations(member_features, n=5):\\n    # Get distances and indices of the nearest neighbors\\n    distances, indices = model.kneighbors(member_features, n_neighbors=n+1)\\n    \\n    # Retrieve the original portfolio information from `new_df` using indices\\n    # Exclude the first column of `indices` since it's the item itself\\n    recommended_portfolios = new_df.iloc[indices[0, 1:]]['portfolio_map'].tolist()\\n    \\n    return recommended_portfolios\"}, {'cell_type': 'code', 'execution_count': 59, 'metadata': {}, 'outputs': [{'name': 'stdout', 'output_type': 'stream', 'text': 'Accuracy: 0.88\\n'}], 'source': 'from sklearn.metrics import accuracy_score\\n\\n# Make predictions on the test set\\ny_pred = []\\nfor i in range(X_test.shape[0]):\\n    member = X_test[i].toarray()\\n    recommendations = get_recommendations(member.reshape(1, -1), n=1)\\n    y_pred.append(recommendations[0])  # Get the top recommendation\\n\\n# Calculate accuracy by comparing the predicted product to the actual product\\naccuracy = accuracy_score(y_test, y_pred)\\n\\nprint(f\"Accuracy: {accuracy:.2f}\")\\n'}, {'cell_type': 'markdown', 'metadata': {}, 'source': 'RULE BASED ADDED'}, {'cell_type': 'code', 'execution_count': 65, 'metadata': {}, 'outputs': [], 'source': 'def get_recommendations(member_features, member_no, n=5):\\n    # Fetch member\\'s details\\n    member_row = new_df.loc[new_df[\\'member_no\\'] == member_no].iloc[0]\\n    member_beneficiary_age = member_row[\\'beneficiery_age\\']\\n    member_age_group = member_row[\\'age_group\\']\\n    member_town = member_row[\\'town\\']\\n    member_gender = member_row[\\'gender_mapped\\']\\n    member_current_products = set(new_df.loc[new_df[\\'member_no\\'] == member_no, \\'portfolio_map\\'].values)\\n    \\n    recommended_products = []\\n\\n    # Rule 1: Recommend based on beneficiary age (Student and Junior Accounts)\\n    #if 18 <= member_beneficiary_age <= 25:\\n    if  member_beneficiary_age >= 18 and  member_beneficiary_age <= 25:\\n        recommended_products.append(\"Student Account\")\\n    elif member_beneficiary_age < 18:\\n        recommended_products.append(\"Junior Account\")\\n\\n    # Rule 2: Recommend popular products within the same age group\\n    age_group_products = (\\n        new_df[new_df[\\'age_group\\'] == member_age_group]\\n        .portfolio_map.value_counts()\\n        .index\\n        .tolist()\\n    )\\n    for product in age_group_products:\\n        if product not in member_current_products and product not in recommended_products:\\n            recommended_products.append(product)\\n        if len(recommended_products) >= n:\\n            return recommended_products[:n]\\n\\n    # Rule 3: Recommend popular products in the same town\\n    town_products = (\\n        new_df[new_df[\\'town\\'] == member_town]\\n        .portfolio_map.value_counts()\\n        .index\\n        .tolist()\\n    )\\n    for product in town_products:\\n        if product not in member_current_products and product not in recommended_products:\\n            recommended_products.append(product)\\n        if len(recommended_products) >= n:\\n            return recommended_products[:n]\\n        \\n    gender_products = (\\n        new_df[new_df[\\'gender_mapped\\']== member_gender]\\n        .portfolio_map.value_counts()\\n        .index\\n        .tolist()\\n    )\\n    for product in gender_products:\\n        if product not in member_current_products and product not in recommended_products:\\n            recommended_products.append(product)\\n        if len(recommended_products) >= n:\\n            return recommended_products[:n]\\n\\n    # Collaborative Filtering for Additional Recommendations\\n    distances, indices = model.kneighbors(member_features, n_neighbors=n + len(recommended_products))\\n    for index in indices[0]:\\n        product = new_df.iloc[index][\\'portfolio_map\\']\\n        if product not in member_current_products and product not in recommended_products:\\n            recommended_products.append(product)\\n        if len(recommended_products) >= n:\\n            break\\n\\n    return recommended_products[:n]\\n'}, {'cell_type': 'code', 'execution_count': 80, 'metadata': {}, 'outputs': [{'name': 'stdout', 'output_type': 'stream', 'text': \"Recommendations for sample member profile:\\n['Dollar Fund', 'Fixed Income', 'Equity Fund']\\n\"}], 'source': '# Test the recommendations for a sample member\\nsample_index = 0  # Adjust the sample index for testing\\nsample_member = X_test[sample_index].toarray()\\nsample_member_id = new_df.iloc[sample_index][\\'member_no\\']  # Ensure \\'member_id\\' is in new_df\\n\\n# Get recommendations for the sample member\\nrecommendations = get_recommendations(sample_member.reshape(1, -1), sample_member_id, n=3)\\n\\n# Display the results\\nprint(\"Recommendations for sample member profile:\")\\nprint(recommendations)'}, {'cell_type': 'code', 'execution_count': 81, 'metadata': {}, 'outputs': [{'name': 'stdout', 'output_type': 'stream', 'text': \"Recommendations for sample member profile:\\n['Equity Fund', 'Dollar Fund', 'Balanced Fund']\\n\"}], 'source': '# Test the recommendations for a sample member\\nsample_index = 20\\nsample_member = X_test[sample_index].toarray()\\nsample_member_id = new_df.iloc[sample_index][\\'member_no\\']  \\n\\n# Get recommendations for the sample member\\nrecommendations = get_recommendations(sample_member.reshape(1, -1), sample_member_id, n=3)\\n\\n# Display the results\\nprint(\"Recommendations for sample member profile:\")\\nprint(recommendations)'}, {'cell_type': 'code', 'execution_count': 67, 'metadata': {}, 'outputs': [], 'source': 'def get_recommendations_with_messages(member_features, member_no, n=5):\\n    # Fetch member\\'s details\\n    member_row = new_df.loc[new_df[\\'member_no\\'] == member_no].iloc[0]\\n    member_beneficiary_age = member_row[\\'beneficiery_age\\']\\n    member_age_group = member_row[\\'age_group\\']\\n    member_town = member_row[\\'town\\']\\n    member_gender = member_row[\\'gender_mapped\\']\\n    member_current_products = set(new_df.loc[new_df[\\'member_no\\'] == member_no, \\'portfolio_map\\'].values)\\n    \\n    recommended_products = []\\n    messages = []\\n\\n    # Rule 1: Recommend based on beneficiary age (Student and Junior Accounts)\\n    age_recommendations = []\\n    if  member_beneficiary_age >= 18 and  member_beneficiary_age <= 25:\\n        age_recommendations.append(\"Student Account\")\\n        messages.append(\\n            f\"Planning for your child\\'s future? Our Student Account is perfect for young adults aged 18-25. \"\\n            f\"Start securing their educational journey today!\"\\n        )\\n    elif  member_beneficiary_age < 18:\\n        age_recommendations.append(\"Junior Account\")\\n        messages.append(\\n            f\"Give your child a head start with our Junior Account! It\\'s specially designed for children under 18 \"\\n            f\"to help them develop good financial habits early.\"\\n        )\\n    recommended_products.extend(age_recommendations)\\n\\n    # Rule 2: Recommend popular products within the same age group\\n    age_group_recommendations = []\\n    age_group_products = (\\n        new_df[new_df[\\'age_group\\'] == member_age_group]\\n        .portfolio_map.value_counts()\\n        .index\\n        .tolist()\\n    )\\n    for product in age_group_products:\\n        if product not in member_current_products and product not in recommended_products:\\n            age_group_recommendations.append(product)\\n        if len(recommended_products) + len(age_group_recommendations) >= n:\\n            break\\n    \\n    if age_group_recommendations:\\n        messages.append(\\n            f\"Members in your age group are enjoying these popular products: {\\', \\'.join(age_group_recommendations)}. \"\\n            f\"Join them in making smart financial choices!\"\\n        )\\n    recommended_products.extend(age_group_recommendations)\\n\\n    # Rule 3: Recommend popular products in the same town\\n    location_recommendations = []\\n    town_products = (\\n        new_df[new_df[\\'town\\'] == member_town]\\n        .portfolio_map.value_counts()\\n        .index\\n        .tolist()\\n    )\\n    for product in town_products:\\n        if product not in member_current_products and product not in recommended_products:\\n            location_recommendations.append(product)\\n        if len(recommended_products) + len(location_recommendations) >= n:\\n            break\\n    \\n    if location_recommendations:\\n        messages.append(\\n            f\"Trending in {member_town}! Your neighbors are choosing {\\', \\'.join(location_recommendations)}. \"\\n            f\"Discover why these products are popular in your community!\"\\n        )\\n    recommended_products.extend(location_recommendations)\\n\\n    # Rule 4: Gender-based recommendations\\n    gender_recommendations = []\\n    gender_products = (\\n        new_df[new_df[\\'gender_mapped\\'] == member_gender]\\n        .portfolio_map.value_counts()\\n        .index\\n        .tolist()\\n    )\\n    for product in gender_products:\\n        if product not in member_current_products and product not in recommended_products:\\n            gender_recommendations.append(product)\\n        if len(recommended_products) + len(gender_recommendations) >= n:\\n            break\\n    \\n    if gender_recommendations:\\n        gender_message = (\\n            \"Specially curated for you! \" if member_gender == \\'Female\\' else\\n            \"Join other members like you! \"\\n        )\\n        messages.append(\\n            f\"{gender_message}Discover {\\', \\'.join(gender_recommendations)} - \"\\n            f\"products that match your financial goals.\"\\n        )\\n    recommended_products.extend(gender_recommendations)\\n    # Collaborative Filtering for Additional Recommendations\\n    if len(recommended_products) < n:\\n        collab_recommendations = []\\n        distances, indices = model.kneighbors(member_features, n_neighbors=n + len(recommended_products))\\n        for index in indices[0]:\\n            product = new_df.iloc[index][\\'portfolio_map\\']\\n            if product not in member_current_products and product not in recommended_products:\\n                collab_recommendations.append(product)\\n            if len(recommended_products) + len(collab_recommendations) >= n:\\n                break\\n        \\n        if collab_recommendations:\\n            messages.append(\\n                f\"Based on your profile, we think you\\'ll love {\\', \\'.join(collab_recommendations)}. \"\\n                f\"These products align perfectly with your financial journey!\"\\n            )\\n        recommended_products.extend(collab_recommendations)\\n\\n    # Final personalized message\\n    if len(recommended_products) > 0:\\n        messages.append(\\n            f\"💡 Pro tip: Adding {\\', \\'.join(recommended_products[:n])} to your portfolio \"\\n            f\"could help you achieve your financial goals faster!\"\\n        )\\n\\n    return recommended_products[:n], messages'}, {'cell_type': 'code', 'execution_count': 82, 'metadata': {}, 'outputs': [{'name': 'stdout', 'output_type': 'stream', 'text': '\\n🏦 Member Profile Analysis\\n--------------------------------------------------\\nMember ID: 96336\\nAge Group: 31-45\\nTown: Unknown\\nGender: Female\\nBeneficiary Age: 64.0\\n\\n📊 Recommended Products\\n--------------------------------------------------\\n1. Equity Fund\\n2. Dollar Fund\\n3. Balanced Fund\\n\\n💌 Personalized Messages\\n--------------------------------------------------\\nMessage 1:\\nMembers in your age group are enjoying these popular products: Equity Fund, Dollar Fund, Balanced Fund. Join them in making smart financial choices!\\n\\nMessage 2:\\n💡 Pro tip: Adding Equity Fund, Dollar Fund, Balanced Fund to your portfolio could help you achieve your financial goals faster!\\n\\n\\n📝 Current Portfolio\\n--------------------------------------------------\\n• Money Market\\n'}], 'source': '# Test the recommendations for a sample member\\nsample_index = 3464  # Adjust the sample index for testing\\nsample_member = X_test[sample_index].toarray()\\nsample_member_id = new_df.iloc[sample_index][\\'member_no\\']  # Ensure \\'member_id\\' is in new_df\\n\\n# Get recommendations and messages for the sample member\\nrecommendations, messages = get_recommendations_with_messages(sample_member.reshape(1, -1), sample_member_id, n=3)\\n\\n# Display the results\\nprint(\"\\\\n🏦 Member Profile Analysis\")\\nprint(\"-\" * 50)\\nprint(f\"Member ID: {sample_member_id}\")\\nmember_details = new_df.loc[new_df[\\'member_no\\'] == sample_member_id].iloc[0]\\nprint(f\"Age Group: {member_details[\\'age_group\\']}\")\\nprint(f\"Town: {member_details[\\'town\\']}\")\\nprint(f\"Gender: {member_details[\\'gender_mapped\\']}\")\\nif not pd.isna(member_details[\\'beneficiery_age\\']):\\n    print(f\"Beneficiary Age: {member_details[\\'beneficiery_age\\']}\")\\n\\nprint(\"\\\\n📊 Recommended Products\")\\nprint(\"-\" * 50)\\nfor i, product in enumerate(recommendations, 1):\\n    print(f\"{i}. {product}\")\\n\\nprint(\"\\\\n💌 Personalized Messages\")\\nprint(\"-\" * 50)\\nfor i, message in enumerate(messages, 1):\\n    print(f\"Message {i}:\")\\n    print(f\"{message}\")\\n    print()\\n\\n# Optional: Display current products for comparison\\ncurrent_products = set(new_df.loc[new_df[\\'member_no\\'] == sample_member_id, \\'portfolio_map\\'].values)\\nif current_products:\\n    print(\"\\\\n📝 Current Portfolio\")\\n    print(\"-\" * 50)\\n    for product in current_products:\\n        print(f\"• {product}\")'}, {'cell_type': 'code', 'execution_count': 84, 'metadata': {}, 'outputs': [{'name': 'stdout', 'output_type': 'stream', 'text': \"\\n🏦 Member Profile Analysis\\n--------------------------------------------------\\nMember ID: 99988\\nAge Group: 31-45\\nTown: NAIROBI\\nGender: Female\\nBeneficiary Age: 3.0\\n\\n📊 Recommended Products\\n--------------------------------------------------\\n1. Junior Account\\n2. Equity Fund\\n3. Dollar Fund\\n\\n💌 Personalized Messages\\n--------------------------------------------------\\nMessage 1:\\nGive your child a head start with our Junior Account! It's specially designed for children under 18 to help them develop good financial habits early.\\n\\nMessage 2:\\nMembers in your age group are enjoying these popular products: Equity Fund, Dollar Fund. Join them in making smart financial choices!\\n\\nMessage 3:\\n💡 Pro tip: Adding Junior Account, Equity Fund, Dollar Fund to your portfolio could help you achieve your financial goals faster!\\n\\n\\n📝 Current Portfolio\\n--------------------------------------------------\\n• Money Market\\n\"}], 'source': '# Test the recommendations for a sample member\\nsample_index = 9  # Adjust the sample index for testing\\nsample_member = X_test[sample_index].toarray()\\nsample_member_id = new_df.iloc[sample_index][\\'member_no\\']  # Ensure \\'member_id\\' is in new_df\\n\\n# Get recommendations and messages for the sample member\\nrecommendations, messages = get_recommendations_with_messages(sample_member.reshape(1, -1), sample_member_id, n=3)\\n\\n# Display the results\\nprint(\"\\\\n🏦 Member Profile Analysis\")\\nprint(\"-\" * 50)\\nprint(f\"Member ID: {sample_member_id}\")\\nmember_details = new_df.loc[new_df[\\'member_no\\'] == sample_member_id].iloc[0]\\nprint(f\"Age Group: {member_details[\\'age_group\\']}\")\\nprint(f\"Town: {member_details[\\'town\\']}\")\\nprint(f\"Gender: {member_details[\\'gender_mapped\\']}\")\\nif not pd.isna(member_details[\\'beneficiery_age\\']):\\n    print(f\"Beneficiary Age: {member_details[\\'beneficiery_age\\']}\")\\n\\nprint(\"\\\\n📊 Recommended Products\")\\nprint(\"-\" * 50)\\nfor i, product in enumerate(recommendations, 1):\\n    print(f\"{i}. {product}\")\\n\\nprint(\"\\\\n💌 Personalized Messages\")\\nprint(\"-\" * 50)\\nfor i, message in enumerate(messages, 1):\\n    print(f\"Message {i}:\")\\n    print(f\"{message}\")\\n    print()\\n\\n# Optional: Display current products for comparison\\ncurrent_products = set(new_df.loc[new_df[\\'member_no\\'] == sample_member_id, \\'portfolio_map\\'].values)\\nif current_products:\\n    print(\"\\\\n📝 Current Portfolio\")\\n    print(\"-\" * 50)\\n    for product in current_products:\\n        print(f\"• {product}\")'}, {'cell_type': 'code', 'execution_count': None, 'metadata': {}, 'outputs': [], 'source': '# from sklearn.metrics import accuracy_score, classification_report\\n\\n# # Get member numbers from the original DataFrame before converting to sparse matrix\\n# member_ids = new_df[\\'member_no\\'] \\n\\n# # Make predictions on the test set\\n# y_pred = []\\n# for i in range(X_test.shape[0]):\\n#     member = X_test[i].toarray()  # Convert the sparse matrix to a dense array\\n#     member_no = member_ids.iloc[i]  \\n#     recommendations = get_recommendations(member.reshape(1, -1), n=1, member_no=member_no)  # Pass member_no as well\\n#     y_pred.append(recommendations[0])  # Get the top recommendation\\n\\n# # Calculate accuracy by comparing the predicted product to the actual product\\n# accuracy = accuracy_score(y_test, y_pred)\\n\\n# # Generate the classification report\\n# class_report = classification_report(y_test, y_pred)\\n\\n# # Print accuracy and classification report\\n# print(f\"Accuracy: {accuracy:.2f}\")\\n# print(\"Classification Report:\")\\n# print(class_report)\\n'}, {'cell_type': 'code', 'execution_count': None, 'metadata': {}, 'outputs': [], 'source': '# import numpy as np\\n\\n# # Define custom member attributes\\n# test_member_data = {\\n#     \\'member_age\\': 35,\\n#     \\'beneficiery_age\\': 20,\\n#     \\'age_group\\': \\'30-40\\',\\n#     \\'gender_mapped\\': 1,\\n#     \\'town\\': \\'Nairobi\\'  # Adjust to a town present in your dataset\\n# }\\n\\n# # Combine the attributes into a single feature string\\n# test_features_str = f\"{test_member_data[\\'member_age\\']} {test_member_data[\\'beneficiery_age\\']} {test_member_data[\\'age_group\\']} {test_member_data[\\'gender_mapped\\']}\"\\n\\n# # Transform the custom member\\'s features using the fitted TF-IDF vectorizer\\n# test_member_vector = tfidf.transform([test_features_str])\\n\\n# # Define a dummy ID for testing (this would not be in the original dataset)\\n# test_member_id = -1  # Using -1 to signify a test ID not in the dataset\\n\\n# # Get recommendations based on the custom test member\\n# recommendations = get_recommendations(test_member_vector, test_member_id, n=5)\\n\\n# # Display the results\\n# print(\"Recommendations for custom member profile:\")\\n# print(recommendations)\\n'}, {'cell_type': 'code', 'execution_count': None, 'metadata': {}, 'outputs': [], 'source': '# from sklearn.metrics import accuracy_score\\n\\n# # Sample a single member profile from the test set\\n# sample_index = 0  \\n# sample_member = X_test[sample_index]\\n\\n# # Get top 5 recommendations for the sample member profile\\n# recommendations = get_recommendations(sample_member.reshape(1, -1), n=5)\\n\\n# # Display the results\\n# print(\"Recommendations for sample member profile:\")\\n# print(recommendations)\\n\\n\\n'}, {'cell_type': 'code', 'execution_count': None, 'metadata': {}, 'outputs': [], 'source': '# # evaluating the accuracy of recommendations\\n\\n# actual_product = y_test.iloc[sample_index]\\n# print(\"Actual product for the sample member profile:\", actual_product)\\n\\n# # Check if actual product is in recommendations\\n# if actual_product in recommendations:\\n#     print(\"Success: The actual product is in the recommended list.\")\\n# else:\\n#     print(\"The actual product is not in the recommended list.\")'}], 'metadata': {'kernelspec': {'display_name': 'Python 3 (ipykernel)', 'language': 'python', 'name': 'python3'}, 'language_info': {'codemirror_mode': {'name': 'ipython', 'version': 3}, 'file_extension': '.py', 'mimetype': 'text/x-python', 'name': 'python', 'nbconvert_exporter': 'python', 'pygments_lexer': 'ipython3', 'version': '3.11.8'}}, 'nbformat': 4, 'nbformat_minor': 4}\n"
     ]
    }
   ],
   "source": [
    "#error checking\n",
    "# Load the pickled notebook content\n",
    "with open('Investment_Product_Cross_Selling_notebook.pkl', 'rb') as f:\n",
    "    loaded_notebook = pickle.load(f)\n",
    "\n",
    "# Check the loaded content\n",
    "print(loaded_notebook)\n"
   ]
  }
 ],
 "metadata": {
  "kernelspec": {
   "display_name": "Python 3 (ipykernel)",
   "language": "python",
   "name": "python3"
  },
  "language_info": {
   "codemirror_mode": {
    "name": "ipython",
    "version": 3
   },
   "file_extension": ".py",
   "mimetype": "text/x-python",
   "name": "python",
   "nbconvert_exporter": "python",
   "pygments_lexer": "ipython3",
   "version": "3.11.8"
  }
 },
 "nbformat": 4,
 "nbformat_minor": 4
}
