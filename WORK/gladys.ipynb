{
 "cells": [
  {
   "cell_type": "markdown",
   "metadata": {},
   "source": [
    "# Financial Products and Cross-Selling Recommendation System\n",
    "\n",
    "**Business Problem Statement:**\n",
    "\n",
    "Our financial services company has a diverse portfolio of investment products, yet the vast majority (99%) of our existing customers hold only one product—the Money Market Fund. Despite a broad array of offerings (Balanced Fund, Dollar Fund, Equity Fund, Fixed Income Fund, and Wealth Fund), our product penetration per customer (PPC) remains exceptionally low. This indicates a significant opportunity to cross-sell additional products to our existing customer base, which would increase customer value, loyalty, and the company’s overall profitability.\n",
    "\n",
    "\n",
    "Currently, our customers’ data includes key information that could be leveraged to tailor product recommendations. These data points include:\n",
    "\n",
    "\n",
    "- **Location (town)**\n",
    "- **Gender**\n",
    "- **Customer-relationship or beneficiary information** (as customers may have more than one relationship or beneficiary associated with them)\n",
    "- **Customer age and DOB**\n",
    "- **Beneficiary age and DOB**\n",
    "- **Portfolio**\n",
    "\n",
    "\n",
    "Our goal is to create a user-friendly, intelligent recommender system that can analyze this existing data to suggest additional, relevant financial products to each customer. This system should be able to identify patterns or trends in customer profiles, uncover customer needs, and map those needs to suitable financial products, increasing our PPC in an efficient, cost-effective manner. \n",
    "\n",
    "**Objectives:**\n",
    "1. **Customer Retention and Loyalty**: By offering personalized recommendations, we aim to build deeper, more personalized relationships with our customers, making them more likely to stay with us long-term.\n",
    "2. **Increased Revenue per Customer**: A successful cross-selling strategy would increase the average number of products per customer, boosting overall portfolio revenue.\n",
    "3. **User-Friendly Experience**: Ensuring a straightforward, accessible interface for customers to explore new financial products, particularly given that our target customers may have limited experience with financial diversification.\n",
    "\n",
    "**Project Success Criteria:**\n",
    "1. Develop a model that accurately predicts the next likely product(s) for each customer based on their profile and behavior.\n",
    "2. Achieve a measurable increase in the PPC rate by the end of the initial deployment phase.\n",
    "3. Design an intuitive interface that enhances the customer journey, with minimal friction, to encourage engagement and adoption."
   ]
  },
  {
   "cell_type": "markdown",
   "metadata": {},
   "source": [
    "## 1. DATA CLEANING AND PREPARATION"
   ]
  },
  {
   "cell_type": "markdown",
   "metadata": {},
   "source": [
    "1.1  Import necessary libraries "
   ]
  },
  {
   "cell_type": "code",
   "execution_count": 52,
   "metadata": {},
   "outputs": [],
   "source": [
    "#importing the necessary libraries\n",
    "import zipfile\n",
    "import pandas as pd\n",
    "import numpy as np\n",
    "import matplotlib.pyplot as plt\n",
    "import seaborn as sns\n",
    "import nbformat\n",
    "import pickle\n",
    "\n",
    "from sklearn.metrics.pairwise import cosine_similarity\n",
    "from scipy.spatial.distance import cosine\n",
    "from sklearn.feature_extraction.text import TfidfVectorizer\n",
    "from sklearn.model_selection import train_test_split\n",
    "from datetime import datetime\n",
    "from sklearn.neighbors import NearestNeighbors\n",
    "from sklearn.metrics import accuracy_score\n"
   ]
  },
  {
   "cell_type": "markdown",
   "metadata": {},
   "source": [
    "1.2 Load the data set"
   ]
  },
  {
   "cell_type": "code",
   "execution_count": 53,
   "metadata": {},
   "outputs": [
    {
     "data": {
      "text/html": [
       "<div>\n",
       "<style scoped>\n",
       "    .dataframe tbody tr th:only-of-type {\n",
       "        vertical-align: middle;\n",
       "    }\n",
       "\n",
       "    .dataframe tbody tr th {\n",
       "        vertical-align: top;\n",
       "    }\n",
       "\n",
       "    .dataframe thead th {\n",
       "        text-align: right;\n",
       "    }\n",
       "</style>\n",
       "<table border=\"1\" class=\"dataframe\">\n",
       "  <thead>\n",
       "    <tr style=\"text-align: right;\">\n",
       "      <th></th>\n",
       "      <th>member_no</th>\n",
       "      <th>reg_date</th>\n",
       "      <th>dob</th>\n",
       "      <th>hse_no</th>\n",
       "      <th>gender</th>\n",
       "      <th>town</th>\n",
       "      <th>relationship</th>\n",
       "      <th>beneficiery_dob</th>\n",
       "      <th>portfolio</th>\n",
       "    </tr>\n",
       "  </thead>\n",
       "  <tbody>\n",
       "    <tr>\n",
       "      <th>0</th>\n",
       "      <td>99996</td>\n",
       "      <td>2023-10-01 00:00:00.000</td>\n",
       "      <td>1998-04-06 00:00:00</td>\n",
       "      <td>Single Member</td>\n",
       "      <td>Female</td>\n",
       "      <td>NAIROBI</td>\n",
       "      <td>Partner</td>\n",
       "      <td>1998-01-26</td>\n",
       "      <td>Money Market</td>\n",
       "    </tr>\n",
       "    <tr>\n",
       "      <th>1</th>\n",
       "      <td>99996</td>\n",
       "      <td>2023-10-01 00:00:00.000</td>\n",
       "      <td>1998-04-06 00:00:00</td>\n",
       "      <td>Single Member</td>\n",
       "      <td>Female</td>\n",
       "      <td>NAIROBI</td>\n",
       "      <td>Partner</td>\n",
       "      <td>1998-01-26</td>\n",
       "      <td>Money Market</td>\n",
       "    </tr>\n",
       "    <tr>\n",
       "      <th>2</th>\n",
       "      <td>99996</td>\n",
       "      <td>2023-10-01 00:00:00.000</td>\n",
       "      <td>1998-04-06 00:00:00</td>\n",
       "      <td>Single Member</td>\n",
       "      <td>Female</td>\n",
       "      <td>NAIROBI</td>\n",
       "      <td>Partner</td>\n",
       "      <td>1998-01-26</td>\n",
       "      <td>Money Market</td>\n",
       "    </tr>\n",
       "    <tr>\n",
       "      <th>3</th>\n",
       "      <td>99996</td>\n",
       "      <td>2023-10-01 00:00:00.000</td>\n",
       "      <td>1998-04-06 00:00:00</td>\n",
       "      <td>Single Member</td>\n",
       "      <td>Female</td>\n",
       "      <td>NAIROBI</td>\n",
       "      <td>Partner</td>\n",
       "      <td>1998-01-26</td>\n",
       "      <td>Money Market</td>\n",
       "    </tr>\n",
       "    <tr>\n",
       "      <th>4</th>\n",
       "      <td>99996</td>\n",
       "      <td>2023-10-01 00:00:00.000</td>\n",
       "      <td>1998-04-06 00:00:00</td>\n",
       "      <td>Single Member</td>\n",
       "      <td>Female</td>\n",
       "      <td>NAIROBI</td>\n",
       "      <td>Partner</td>\n",
       "      <td>1998-01-26</td>\n",
       "      <td>Money Market</td>\n",
       "    </tr>\n",
       "    <tr>\n",
       "      <th>...</th>\n",
       "      <td>...</td>\n",
       "      <td>...</td>\n",
       "      <td>...</td>\n",
       "      <td>...</td>\n",
       "      <td>...</td>\n",
       "      <td>...</td>\n",
       "      <td>...</td>\n",
       "      <td>...</td>\n",
       "      <td>...</td>\n",
       "    </tr>\n",
       "    <tr>\n",
       "      <th>7532949</th>\n",
       "      <td>2</td>\n",
       "      <td>2011-06-07</td>\n",
       "      <td>1965-05-06</td>\n",
       "      <td>Single Member</td>\n",
       "      <td>Male</td>\n",
       "      <td>NAIROBI</td>\n",
       "      <td>NaN</td>\n",
       "      <td>NaN</td>\n",
       "      <td>Money Market</td>\n",
       "    </tr>\n",
       "    <tr>\n",
       "      <th>7532950</th>\n",
       "      <td>2</td>\n",
       "      <td>2011-06-07</td>\n",
       "      <td>1965-05-06</td>\n",
       "      <td>Single Member</td>\n",
       "      <td>Male</td>\n",
       "      <td>NAIROBI</td>\n",
       "      <td>NaN</td>\n",
       "      <td>NaN</td>\n",
       "      <td>Money Market</td>\n",
       "    </tr>\n",
       "    <tr>\n",
       "      <th>7532951</th>\n",
       "      <td>2</td>\n",
       "      <td>2011-06-07</td>\n",
       "      <td>1965-05-06</td>\n",
       "      <td>Single Member</td>\n",
       "      <td>Male</td>\n",
       "      <td>NAIROBI</td>\n",
       "      <td>NaN</td>\n",
       "      <td>NaN</td>\n",
       "      <td>Money Market</td>\n",
       "    </tr>\n",
       "    <tr>\n",
       "      <th>7532952</th>\n",
       "      <td>2</td>\n",
       "      <td>2011-06-07</td>\n",
       "      <td>1965-05-06</td>\n",
       "      <td>Single Member</td>\n",
       "      <td>Male</td>\n",
       "      <td>NAIROBI</td>\n",
       "      <td>NaN</td>\n",
       "      <td>NaN</td>\n",
       "      <td>Balanced Fund</td>\n",
       "    </tr>\n",
       "    <tr>\n",
       "      <th>7532953</th>\n",
       "      <td>2</td>\n",
       "      <td>2011-06-07</td>\n",
       "      <td>1965-05-06</td>\n",
       "      <td>Single Member</td>\n",
       "      <td>Male</td>\n",
       "      <td>NAIROBI</td>\n",
       "      <td>NaN</td>\n",
       "      <td>NaN</td>\n",
       "      <td>Money Market</td>\n",
       "    </tr>\n",
       "  </tbody>\n",
       "</table>\n",
       "<p>7532954 rows × 9 columns</p>\n",
       "</div>"
      ],
      "text/plain": [
       "         member_no                 reg_date                  dob  \\\n",
       "0            99996  2023-10-01 00:00:00.000  1998-04-06 00:00:00   \n",
       "1            99996  2023-10-01 00:00:00.000  1998-04-06 00:00:00   \n",
       "2            99996  2023-10-01 00:00:00.000  1998-04-06 00:00:00   \n",
       "3            99996  2023-10-01 00:00:00.000  1998-04-06 00:00:00   \n",
       "4            99996  2023-10-01 00:00:00.000  1998-04-06 00:00:00   \n",
       "...            ...                      ...                  ...   \n",
       "7532949          2               2011-06-07           1965-05-06   \n",
       "7532950          2               2011-06-07           1965-05-06   \n",
       "7532951          2               2011-06-07           1965-05-06   \n",
       "7532952          2               2011-06-07           1965-05-06   \n",
       "7532953          2               2011-06-07           1965-05-06   \n",
       "\n",
       "                hse_no  gender     town relationship beneficiery_dob  \\\n",
       "0        Single Member  Female  NAIROBI      Partner      1998-01-26   \n",
       "1        Single Member  Female  NAIROBI      Partner      1998-01-26   \n",
       "2        Single Member  Female  NAIROBI      Partner      1998-01-26   \n",
       "3        Single Member  Female  NAIROBI      Partner      1998-01-26   \n",
       "4        Single Member  Female  NAIROBI      Partner      1998-01-26   \n",
       "...                ...     ...      ...          ...             ...   \n",
       "7532949  Single Member    Male  NAIROBI          NaN             NaN   \n",
       "7532950  Single Member    Male  NAIROBI          NaN             NaN   \n",
       "7532951  Single Member    Male  NAIROBI          NaN             NaN   \n",
       "7532952  Single Member    Male  NAIROBI          NaN             NaN   \n",
       "7532953  Single Member    Male  NAIROBI          NaN             NaN   \n",
       "\n",
       "             portfolio  \n",
       "0         Money Market  \n",
       "1         Money Market  \n",
       "2         Money Market  \n",
       "3         Money Market  \n",
       "4         Money Market  \n",
       "...                ...  \n",
       "7532949   Money Market  \n",
       "7532950   Money Market  \n",
       "7532951   Money Market  \n",
       "7532952  Balanced Fund  \n",
       "7532953   Money Market  \n",
       "\n",
       "[7532954 rows x 9 columns]"
      ]
     },
     "execution_count": 53,
     "metadata": {},
     "output_type": "execute_result"
    }
   ],
   "source": [
    "#load the dataset\n",
    "df = pd.read_csv(r\"C:\\Users\\Augustine Wanyonyi\\Desktop\\Phase5\\single_member.csv\")\n",
    "df"
   ]
  },
  {
   "cell_type": "markdown",
   "metadata": {},
   "source": [
    "The dataset has 7,532,954 rows and 9 rows"
   ]
  },
  {
   "cell_type": "markdown",
   "metadata": {},
   "source": [
    "1.3 Inspecting the columns of the dataset"
   ]
  },
  {
   "cell_type": "code",
   "execution_count": 54,
   "metadata": {},
   "outputs": [
    {
     "data": {
      "text/plain": [
       "Index(['member_no', 'reg_date', 'dob', 'hse_no', 'gender', 'town',\n",
       "       'relationship', 'beneficiery_dob', 'portfolio'],\n",
       "      dtype='object')"
      ]
     },
     "execution_count": 54,
     "metadata": {},
     "output_type": "execute_result"
    }
   ],
   "source": [
    "#inspecting the columns in the dataframe\n",
    "df.columns"
   ]
  },
  {
   "cell_type": "markdown",
   "metadata": {},
   "source": [
    "1.4 Checking for unique Values from features.\n",
    "\n",
    "This is a useful step in ensuring the quality and understanding of the dataset before diving deeper into analysis or model building."
   ]
  },
  {
   "cell_type": "markdown",
   "metadata": {},
   "source": [
    "1.4.1  Checking the unique values from member_no column"
   ]
  },
  {
   "cell_type": "code",
   "execution_count": 55,
   "metadata": {},
   "outputs": [
    {
     "data": {
      "text/plain": [
       "array([99996, 99994, 99993, ...,    19,     3,     2], dtype=int64)"
      ]
     },
     "execution_count": 55,
     "metadata": {},
     "output_type": "execute_result"
    }
   ],
   "source": [
    "#checking the unique values from the member_no column\n",
    "df['member_no'].unique()"
   ]
  },
  {
   "cell_type": "markdown",
   "metadata": {},
   "source": [
    "1.4.2 Checking unique values from the gender column"
   ]
  },
  {
   "cell_type": "code",
   "execution_count": 56,
   "metadata": {},
   "outputs": [
    {
     "data": {
      "text/plain": [
       "array(['Female', 'Male', 'FEMALE', nan, 'MALE', 'F', 'M'], dtype=object)"
      ]
     },
     "execution_count": 56,
     "metadata": {},
     "output_type": "execute_result"
    }
   ],
   "source": [
    "#checking the unique values from the gender column\n",
    "df['gender'].unique()"
   ]
  },
  {
   "cell_type": "markdown",
   "metadata": {},
   "source": [
    "1.4.3 Checking unique values from town column"
   ]
  },
  {
   "cell_type": "code",
   "execution_count": 57,
   "metadata": {},
   "outputs": [
    {
     "data": {
      "text/plain": [
       "array(['NAIROBI', nan, 'NAIROBI ', 'THIKA', 'NAKURU', 'MOMBASA ',\n",
       "       'NDANAI ', 'KISUMU', 'KIKUYU', 'JUJA', 'MACHAKOS', 'MERU',\n",
       "       'KERICHO', 'MUKURWEINI', 'KATANGI', 'THIKA,KIAMBU', 'NANYUKI',\n",
       "       'RUAI ', 'MALINDI', 'NYAHURURU', 'MUMIAS', 'KAKAMEGA', 'LODWAR',\n",
       "       'Nairobi ', 'KITENGELA', 'LIMURU', 'THIKA ', 'MIGORI', 'ELDORET',\n",
       "       'KITUI', 'RUARAKA', 'Ruiru', 'NJORO', 'EMBU', 'SORI', 'NGONG',\n",
       "       'MASENO', 'GATUNDU', 'KAHURO', 'KILIFI', 'RUIRU', 'KERUGOYA',\n",
       "       'KARATINA', 'KITALE ', 'MOMBASA', 'BUNGOMA', 'KISII', '-',\n",
       "       'Nairobi', 'KINAMBA', 'SIAYA', 'KERICHO ', 'KIAMBU', 'KITALE',\n",
       "       'BUSIA', 'RUNYENJES', 'VILLAGE MARKET', 'Kapsabet', 'KAGWE',\n",
       "       'NANDI HILLS', 'KUTUS', 'DAGORETTI', 'LITEIN', 'KAJIADO', 'CHUKA',\n",
       "       'NYERI', 'NAIROBI, NAIROBI', 'Kisumu ', 'KANJUKU', 'EMALI',\n",
       "       'GILGIL', 'Kiambu ', 'KANGEMA', 'TIRIKI', 'KARATINA ', 'OTHAYA',\n",
       "       'KARURI ,KIAMBU', 'MURANGA ', 'Mombasa', 'GATUKUYU ', 'MLOLONGO',\n",
       "       'UTAWALA ', 'KAPENGURIA', 'KAPSABET', 'SUNA', 'BOMET', 'KENOL ',\n",
       "       'NYERI ', 'BUNGOMA ', 'NDANAI', 'KALIMONI', 'KIGANJO',\n",
       "       'KAPSOKWONY', 'Nakuru', 'KIAMBU ', 'nairobi', 'CHOGORIA',\n",
       "       'GITHUNGURI', 'YOANI,SALAMA', 'LIMURU ', 'NAIROBI, KENYA.',\n",
       "       'UKUNDA', 'MATUU', 'embu', 'NYALI', 'nakuru', 'MBALE', 'EMUHAYA',\n",
       "       'TELFORD', 'NAIVASHA', 'KAREN', 'KILIFI ', 'HOLA', 'MAKINDU',\n",
       "       'WOTE', 'DIANI', 'O', 'OLKALAU', 'KAREN ', 'UPLANDS', 'WANGÚRU',\n",
       "       'KABIYET', 'KAKAMEGA ', 'SOTIK', 'NGONG ', 'CITY SQUARE', 'NKUBU',\n",
       "       'KANGARI', 'NGONG HILLS ', 'NYAHURURU ', 'KARURI ', 'UTHIRU',\n",
       "       'MARIMANTI', 'MANCHESTER', 'Kikuyu', '.', 'NAIRO ', 'kiambu',\n",
       "       'VOI', 'EMBAKASI', 'MOLO', 'Siaya ', 'NGIYA', 'OLKALOU',\n",
       "       'KANYAGIA', 'WANJOHI', 'kabete', 'Wamunyu', 'MARIAKANI',\n",
       "       'KISERIAN', 'ARTHI RIVER ', 'SUBUKIA', 'KILGORIS', 'KIMININI',\n",
       "       'LAGOS', 'SARE', 'ATHI RIVER', 'ngong hills ', 'WERUGHA',\n",
       "       'NAIROBIP', 'MASINFA', 'kikuyu', 'OL JORO OROK', 'MAUA',\n",
       "       'GIKUE MURANGA', 'KIMENDE', 'KIMILILI', 'KISUMU ', 'VIHIGA',\n",
       "       ' NAIROBI ', 'BURUBURU', 'MATATHIA', 'RUAKA', 'UGUNJA', 'LONGISA',\n",
       "       'ELDORATE ', 'KAPKATET', 'WINNIPEG', 'PIPELINE ', 'KAHAWA WEST ',\n",
       "       'KANDARA', 'Kimilili ', 'MTWAPA ', 'MARAGUA', 'BANANA ', 'NYAMIRA',\n",
       "       'AUBURN', 'KARURI', 'MTWAPA', 'ONGATA RONGAI', 'ELDORET ',\n",
       "       'HOMABAY', 'WANGIGE', 'KENDUBAY', 'KIBWEZI', 'RONGAI', 'RUIRU ',\n",
       "       'NORTH KINANGOP', 'MAKUYU', 'Nyeri ', 'Eldoret ', 'BOUTIGNY',\n",
       "       '00506', 'MWINGI', '00100', 'KERUGOYA ', 'TALA', 'OLENGURUONE',\n",
       "       'MAVINDINI', 'UHURU GARDENS', 'KIKUYU ', 'Ongata Rongai',\n",
       "       'SOUTH KINANGOP', 'ELDAMA RAVINE', 'MITUNGURU', 'TOM MBOYA',\n",
       "       'NAKURU ', 'MITABONI', 'NAROMORU', 'MURANGA', 'OLJOROROK',\n",
       "       'BUTERE', 'OYUGIS', 'SILIBWET', 'EMBU ', 'Doha', 'Eldoret',\n",
       "       'KANGEMI', 'NYERI-KIGUMO', 'KISERIAN ', 'Athi River', 'KENOL',\n",
       "       'OL KALOU', 'WESTLANDS', 'Nyahururu ', 'ENDARASHA ', 'GPO/NAIROBI',\n",
       "       'DAGORETI', 'OGEMBO ', 'mombasa', 'RUAI', 'DONYO SABUK', 'KEROKA',\n",
       "       'LOWER KABETE', 'MWEIGA', 'Naitobi', 'TOKYO', 'Embu', 'KIRINYAGA',\n",
       "       'KIANYAGA', 'SIAYA ', 'ADLISWIL', 'BURU BURU', 'MERU ', 'NYAKIO',\n",
       "       'KWALE', 'AMUKURA', 'NAROK', 'KOBUJOI', \"WANG'URU\", 'BONDO',\n",
       "       'Kericho', 'KIKIMA ', 'CHANGAMWE', 'BUTULA', 'NAIROBI KAYOLE',\n",
       "       'KANGUNDO', 'MARIAKANI ', 'TIMBOROA', 'KIANJAI', 'KALOLENI ',\n",
       "       'ISINYA', 'IOWA CITY, IOWA', 'Garsen ', 'MUKURWE-INI',\n",
       "       'NAIROBI GPO', 'MANYATTA', 'SARE-OWENDO', 'NANYUKI ', 'NDHIWA',\n",
       "       'ELBURGON', 'Orange', 'MAKUENI', 'kisumu ', 'MACHAKOS ',\n",
       "       'KABARNET ', \"Murang'a \", 'JUJA, KIAMBU', 'Bungoma', 'MAWEGO',\n",
       "       'Bath', 'ROYSAMBU', 'Nanyuki', 'SAGANA', 'MACH ', 'Nyeri', 'Ruaka',\n",
       "       'KITUI ', 'KAJIADO ', 'NUNGUNI', 'RONGAI ', 'KISII ', 'WANGIGE ',\n",
       "       'Makongeni Jogoo Rd', 'nairobi ', 'Kikuyu ', 'Kisii', 'MSAMBWENI',\n",
       "       'BUJUMBURA', 'GITHONGO', 'KEROKA/KISII', 'BURUBURU, NAIROBI',\n",
       "       'MALAVA', 'KIJABE', 'Woolwich ', 'NDERE-SIAYA', 'AHERO',\n",
       "       'MUHORONI ', 'Nakuru ', 'kahuro', 'Malakisi ', 'MUHORONI',\n",
       "       'ISIOLO', 'SYOKIMAU ', 'ONGATA RONGAI ', 'Maralal ',\n",
       "       'KIBIRICHIA, MERU', 'GRANGER, INDIANA', 'WESTLAND ', 'MUKURWEINI ',\n",
       "       'MASII', 'NRB', 'KWISERO', 'ANKARA', 'SHIMBA HILLS', 'TAVETA',\n",
       "       'WOTE, MAKUENI ', 'WANGURU', 'KISSII', 'BURUBURU NAIROBI ',\n",
       "       'KIRITIRI', 'MESA ARIZONA', 'KAJIADO TOWN', 'KURIA',\n",
       "       'NAIROBI WEST', 'ENDARASHA', 'KIPKAREN ', '0', 'GAMBOGI', 'KOLA',\n",
       "       'Marsabit', 'WEBUYE', 'GAKUNGU', 'NAIROBJ',\n",
       "       'NAIROBI ,KAMITI ROAD RICHLAND', 'NKUBU ', 'MWATATE', 'MALAKISI',\n",
       "       'ITEN', 'KATHIANI', \"MURANG'A\", 'KAIRIA', 'UPLANDS ', 'RONGO',\n",
       "       'UHURU GARDEN', 'KINANGOP', 'BAHATI NAKURU ', 'MATILIKU', 'meru',\n",
       "       'Limuru', 'MALAA', 'TURBO', 'MARIMA -MERU HIGHWAY ', 'OLJORO OROK',\n",
       "       'homabay ', 'KIKIMA', 'ADAMS ARCADE', 'MUNICH', 'MUMIAS ',\n",
       "       'KALIMONI ', 'CHWELE', 'MARALAL', 'NAMBALE', 'NAIROBI COUNTY',\n",
       "       'Narok ', 'TURBO ', 'KANGARI ', 'Pécs ', 'thika', 'KATSE',\n",
       "       'thika ', 'CHEBUNYO', 'OL JORO OROK ', 'MOBIL PLAZA', 'WAMUNYU ',\n",
       "       'MAGUNGA', 'RORET', 'YALA', 'KAHUHIA', \"KENOL MURANG'A\",\n",
       "       'Machakos', 'UKWALA', 'KALOLENI', 'JOONDALUP', 'MIGORI ',\n",
       "       'MARAGOLI', 'MARMANET', 'IKANGA', 'KINOO', 'OYUGIS ', 'LANGATA',\n",
       "       'Kiambu', 'Malindi', 'NAIROBI.', 'MAKUENI ', 'Bungoma ',\n",
       "       'GITHUNGURI ', 'MACHOKOS', 'KOMBEWA ', 'UTHIRU ', 'KITENGELA ',\n",
       "       'BANANA', 'CHEPKORIO', 'MASII ', 'Gitugi', '. ', 'RUIRY', 'Kisumu',\n",
       "       'MBUMBUNI-MACHAKOS', 'WAMUYU', 'siaya', 'Kakamega', 'TAITA TAVETA',\n",
       "       'Bumala', 'KIMENDE ', 'BRISTOL', 'MATUNDA', 'KARABA', 'SULTAN',\n",
       "       'GATURA', 'KASARANI ,NAIROBI ', 'NANDI', 'MAGUTUNI', 'CHUKA ',\n",
       "       'NGONG HILL', 'ngong', 'KIANGAI', 'MBITA', 'Mumias', 'KAMBITI',\n",
       "       'MUMBI', 'Juja', 'WODANGA', 'KIRIANI', 'KABARNET', 'MISIKHU',\n",
       "       'Thika', 'NYANSIONGO', 'nyeri ', 'NAIVASHA ', \"MURANG'A \",\n",
       "       'KAPCHENO', 'NGARA', 'MADARAKA', 'kitengela ', 'BONDO ', 'WAMUNYU',\n",
       "       'NYANDARUA', 'MOGOGOSIEK', '00', 'NAIROBI/JUJA', 'NA ', 'LUANDA',\n",
       "       'KLEMZIG', 'TEL AVIV', 'ongata rongai ', '30-60101 Manyatta ',\n",
       "       '12410 Nyeri', 'KATHONZWENI ', 'GITHURAI ', 'WESRN AUSTRALIA',\n",
       "       'SABASABA ', 'Gilgil ', 'ISEBANIA', 'KIRIAINI', 'MUTHETHENI ',\n",
       "       'Mombasa ', 'Kitengela', 'CARLIFONIA', 'NIL',\n",
       "       'NAIROBI, NAIROBI AREA, KENYA', 'SOY', 'Sabasaba', 'SABASABA',\n",
       "       'COLUMBIA', 'Homa Bay ', 'MARIMA', 'SEGA', 'KAYOLE', 'BUDD LAKE',\n",
       "       'KITHYOKO', 'KIJABE ', 'Mbale', 'KITHIMANI', 'HANOI', 'chuka',\n",
       "       'KILINDINI', 'MERY', 'CHELMSFORD', 'LOITOKITOK', 'MOSORIOT',\n",
       "       'IKONGE', 'ENGINEER', 'Othaya', 'Ahero', 'MWEA', 'JOSKA ',\n",
       "       'NGAMBWA', 'MASINGA', 'KINANGOP ', 'LONDON', 'KILELESHWA ',\n",
       "       'SARIT CENTRE', 'mgange ', 'ST. MARYS NSW', 'GESIMA', 'Migori ',\n",
       "       'KHWISERO', 'SYOKIMAU', 'MTITO ANDEI ', 'nakuru ', 'NAIROBI CITY',\n",
       "       'ATHIRIVER', 'KABATI', 'Kitale', 'MPEKETONI', 'YOANI',\n",
       "       'KABARTONJO', 'NAMANGA', 'CHESINENDE', 'BAHATI', 'NZEEKA',\n",
       "       'MATATHIA, KAMAE', 'RONALD NGALA ', 'KUBUKUBU', 'THOGOTO',\n",
       "       'GATORA', 'NAI ', 'KUJA,KIAMBU', 'Machakos ', 'AMAGORO', 'Uthiru',\n",
       "       'Naivasha', 'KEROKA ', 'MAZERAS', 'EGERTON', 'KASARANI', 'Kimende',\n",
       "       'WAJIR', 'DUBAI', 'TWO RIVERS', 'NDARAGWA ', 'EASTLEIGH', 'KAGIO',\n",
       "       'HOMA BAY', 'KISII, KENYA', 'Thika ', 'NGECHA', 'Kakamega ',\n",
       "       'KERINGET', 'FORT WAYNE', 'STAREHE', 'GILGIL ', 'KAWANGWARE',\n",
       "       'GPO NAIROBI', 'GITUGI', 'Tala', 'kakamega ', 'TEXAS', 'GACHIE',\n",
       "       'Syokimau', 'Sydney ', 'LESSOS', 'Meru ', 'KIPKAREN RIVER',\n",
       "       'SOSIOT', 'LAKEWOOD SEATTLE', 'Lodwar', 'Kitale ', 'Membley',\n",
       "       'chepkorio', 'Luanda', 'Kijabe ', 'TONGAREN', 'karuri ', 'malindi',\n",
       "       'Ogembo ', 'Maryland', 'Kisii Town ', 'kajiado ', 'LIKONI',\n",
       "       'wangige ', 'Ngong', 'OLKALOU ', '4597-20100 Nakuru', 'GARISSA',\n",
       "       'KIRIAINI ', 'SYOKIMAU L', 'Machakos, Kathiani', 'Kitui',\n",
       "       'AUSTRALIA', 'Bondo', 'Salama ', 'bomet ', 'Naivasha ',\n",
       "       'TOORMINA, NSW', 'Utawala', 'Ankara', 'MOISBRIDGE', 'nbo',\n",
       "       'Kijabe', 'KABAZI', 'P.O BOX 75-30105 SOY', 'kisumu', 'nyeri',\n",
       "       'Voi', 'Kanjuku', \"NG'IYA\", 'Muranga', 'Bournemouth ',\n",
       "       'SARE-AWENDO', 'narok', 'Ruiru ', 'Kilifi ', 'Meru',\n",
       "       'Ol-joro-orok', '152 30100 eldoret ', 'Mtwapa', 'Karuri',\n",
       "       'Kitengela ', 'Isiolo ', '38061-00623 Nairobi', 'Ngong Hills',\n",
       "       'RARIEDA', ' Nairobi County,', '187 Ngewa', 'NJAMBINI',\n",
       "       '25635 00603 Nairobi', 'GIKOE', 'kakamega', 'ISHIARA ',\n",
       "       'P. O. Box 111 Ruiru', 'Kibwezi', 'Syokimau ', 'kiambu ', 'Bomet ',\n",
       "       'Busia', 'Gilgil', 'LAMU', 'Kajiado ', 'makueni ', 'kisii',\n",
       "       'MERU 2274', 'TURKANA', 'Kilifi', 'nottingham', 'Embakasi',\n",
       "       'Masii - MACHAKOS', 'SEREM', 'Tala, Kangundo. ', 'Ugunja',\n",
       "       'Karatina', 'Migori', 'Berlin', 'KALAMBA', 'UKUNDA ', 'ruiru',\n",
       "       'Sondu', 'BUSIA - PORT VICTORIA ', 'Matuu.', 'Gatundu',\n",
       "       'Seasons Kasarani. ', 'KARUNGU', 'Kahawa Sukari', 'Kangundo ',\n",
       "       'mombasa ', 'St. Georges', 'maseno', 'KINDARUMA ',\n",
       "       'kakuma 1 Nuer community ', 'copenhagen', '549 LIMURU', 'Lamu',\n",
       "       'DRESDEN', 'Ol Kalou ', 'KIRIA-INI ', '123 KIKUYU', 'Kianyaga',\n",
       "       'Kasarani', 'Makueni ', 'KABETE', 'Sagana',\n",
       "       'Imani avenue, Ongata Rongai, Kajiado', 'LOS ANGELES', 'KAKUMA',\n",
       "       'kitengela', '56-10300 Kerugoya', 'Kalimoni P.o Box 178-01001',\n",
       "       'Nairobi, Komarock.', 'kilifi', 'NAIROBI, KITENGELA ',\n",
       "       '14 Lamina Avenue, Mill Park VIC 3082', 'kebirigo ', 'Darwin ',\n",
       "       'Kericho ', 'Nairibi', '782 - 00232 Ruiru', 'eldoret', 'Oyugis',\n",
       "       'Conroe', 'NAIROBI 572 00300', 'Eldama Ravine', 'Kabete ', 'Maua',\n",
       "       'Isiolo', '828-90200', 'Athens', 'Chicago ', 'Hola', 'Abu Dhabi ',\n",
       "       'Nyayo Estate, Court 521', 'Deanside', '452-00200, KIAMBU',\n",
       "       'KOBENHAUN', 'karuri', 'Nanyuki ', 'P.O. Box 2413-60200, Meru',\n",
       "       'Kenol', 'Wote', 'githunguri ', 'NAIROBI. 45095-00100', 'Serem',\n",
       "       'P.o.box 1298-00618 Ruaraka, Nairobi', 'Vienna ', 'karen',\n",
       "       'CHICAGO', 'GENEVA', 'Kiserian ', 'Kabarnet', 'RABAI',\n",
       "       'KIAMBU COUNTY', 'Uthiru Cooperation ', 'Githunguri ',\n",
       "       '79718-00200 NAIROBI', 'stockholm', '42 NDARAGWA',\n",
       "       'P.O. Box 103635-00101', 'Heuchlingen ', 'PORT VICTORIA',\n",
       "       'Doolandella, Australia', 'Grand Oyster Kileleshwa, Nairobi',\n",
       "       '10572-00200 NAIROBI', 'Wangige ', 'Siaya', 'Litein', 'Washington',\n",
       "       'Geneva', 'Winchester ', 'Mariashoni', 'Mwiki', 'Limuru ',\n",
       "       'Nairobi i', 'P O Box 898-00100 NAIROBI', 'KAWNGWARE NAIROBI ',\n",
       "       'rongai', 'Roysambu', 'NAIROBI UMOJA', 'kangema',\n",
       "       'P.O.Box 848-00208 NGONG', 'Braunschweig ', 'Wote MAKUENI',\n",
       "       '814_3 300 KAPSABET ', 'Box 2316 Machakos', 'Ruaraka', 'Nyahururu',\n",
       "       'Kenmore ', 'Melbourne ', '1711 Nyahururu', 'nanyuki',\n",
       "       'kawangware ', 'Narok', 'Githunguri', 'Mahindi ', 'Moncton',\n",
       "       'kERUGOYA', 'Homa Bay', 'Ukunda', 'Mukurweini ', 'Malindi ',\n",
       "       'narumoru', 'Juba', '01000-214 Thika', 'kabete ', 'Kajiado',\n",
       "       'NAROK ', 'Kapenguria ', 'Athi-river ', \"murang'a \", 'Gem',\n",
       "       'nyahururu ', 'Gachie ', 'Kirinyaga', ' Nairobi ', 'CALIFORNIA',\n",
       "       'Bomet', 'molo', 'Chuka', 'Nairobi, Kenya.', 'ANTONY',\n",
       "       'wite-makueni', 'ugunja', 'Matunda ', 'KARORI', 'kikuyu ',\n",
       "       'Shinyalu ', 'Molo', 'KIPKAREN', 'KANGUNDO ', 'LUTON', 'FLORIDA',\n",
       "       'NGEWA', 'SUSWA', 'USA', \"KENOL MURANG'A \", 'PUYALLUP WA USA',\n",
       "       'LAARE', 'P.O Box 30231 - 00100, Nairobi', 'Runyenjes',\n",
       "       'KENDUBAY ', 'Gigiri, Nairobi', 'GATUKUYU', 'BUNYALA', 'OKIA',\n",
       "       '3704 GPO NAIROBI ', 'RANGWE', 'KITUI KENYA', 'SAUDI ARABIA',\n",
       "       'JUJA KALIMONI', 'MSA', 'GAKUNYU', 'MIHARATI', 'KERUGOYA TOWN',\n",
       "       'RAGENGNI', 'mwingi ', 'NBI', 'IGOJI', 'KIMULOT', 'LONDIANI',\n",
       "       'CAMBRIDGE', 'KHAYEGA', 'NDUNYU NJERU ', '58-10205 Maragua',\n",
       "       'MALINDI ', 'Kasarani, Clay City', 'ATHI RIVER ', 'Sawagongo ',\n",
       "       'HELSINKI', 'GPO', 'BURNTFOREST', 'MATUNDA ', 'HARRISDALE',\n",
       "       'KARANDI', 'DUKHAN ', 'SONDU', 'EMBU, KENYA', 'NAIROBI KENYA',\n",
       "       'NANDI HILLS ', 'HAZELWOOD', 'MGANGE', 'LUCYSUMMER-NAIROBI',\n",
       "       'KUKUYU', 'NGONG ROAD', 'NYAYO STADIUM', 'Karen', 'makuyu',\n",
       "       'LOITIKITOK', 'Kenyenya', 'MUNICH ', 'tawa', 'FUNYULA',\n",
       "       'NOTTIGHAM', 'nanyuki ', 'Kenny Bay', 'MOMBSA', 'SHERWOOD',\n",
       "       'NDARAGWA', 'ongata rongai', 'BUMALA', 'MEITINGEN ', '80100',\n",
       "       'KOMBEWA', 'DOYSELDOR', 'NOTTINGHAM', 'VIENNA', 'KISERIAN KAJIADO',\n",
       "       'NAIROBI, KENYA', 'Mtwapa ', 'KEUMBU', 'Kerugoya Town', 'KAP ',\n",
       "       'UPPER HILL NAIROBI', 'MOI;S BRIDGE', 'ENTERPRISE  ROAD',\n",
       "       'THIONGO-NAIROBI', 'KATHONZWENI', 'UTAWALA', 'MIU ATHI-RIVER',\n",
       "       'CHAMAKANGA', 'NYAMACHE', 'NUERI', 'SULTAN HAMUD', 'NAROMORU ',\n",
       "       'NYAMIRA ', 'NAIROBI BURU', 'HAMBURG', 'TOWN ', '14 KADONGO 40223',\n",
       "       'Mois Bridge ', 'RUNYENJES ', 'MARAGWA', 'SURPRISE,USA',\n",
       "       'KALAMBA ', 'Ruai', 'KADONGO', 'TORONGO', 'NJABINI',\n",
       "       'GIGIRI, VILLAGE MARKET, NAIROBI', 'LAVINGTON', 'SPRING VALLEY',\n",
       "       'MBUMBUNI', 'NAIROBI MUNICIPALITY', 'NAIROBI,KENYA',\n",
       "       'Bamburi Mtambo ', 'GITHURAI', 'RUMURUTI',\n",
       "       'Kenyatta Highway, Nanyuki', 'MUTOMO', 'KENYATTA HOSPITAL',\n",
       "       'NAIROBI GENERAL POST OFFICE', 'LITIEN', 'LONDIANI ',\n",
       "       'ONGATA RONGAI NAIROBI', 'GATUNDU ', 'GAMBONI', 'NAIROB',\n",
       "       'L.KABETE', 'ATHI - RIVER', 'kerugoya ', 'Webuye ', 'Maralal',\n",
       "       'Andover', 'mombas', 'Kiambu 627-00900', 'Maragua',\n",
       "       'murang*a 10200-658', 'Syracuse', 'Karen Nairobi ',\n",
       "       'ontario, California 91764 ', 'Karlsruhe ', 'Nyamira ', 'Olkalau',\n",
       "       'GILGIL, KENYA', 'Kerugoya ',\n",
       "       '14 AV FERNAND FENZY92160  ANTONY FRANCE'], dtype=object)"
      ]
     },
     "execution_count": 57,
     "metadata": {},
     "output_type": "execute_result"
    }
   ],
   "source": [
    "#checking the unique values from the town column\n",
    "df['town'].unique()"
   ]
  },
  {
   "cell_type": "markdown",
   "metadata": {},
   "source": [
    "1.4.4 Checking Unique values from the relationship  column"
   ]
  },
  {
   "cell_type": "code",
   "execution_count": 58,
   "metadata": {},
   "outputs": [
    {
     "data": {
      "text/plain": [
       "array(['Partner', 'Sister', 'Husband ', 'Husband', 'Daughter', 'Brother ',\n",
       "       'Son', 'Daughter ', 'Wife', 'Father', 'Mother', 'Brother', 'son',\n",
       "       'mother', 'father', 'Mother ', 'SPOUSE', 'FRIEND', 'Spouse ',\n",
       "       'WIfe', 'Father ', 'Spouse', 'child', nan, 'Parent', 'wife',\n",
       "       'Wife ', 'Son ', 'spouse', 'doughter', 'CHILD', 'ParentChild',\n",
       "       'partner', 'brother', 'sister', 'MotheR', 'Friend', 'Child',\n",
       "       'Cousin', 'Dad', 'Mum', 'MOTHER', 'WIFE', 'Sister ', 'SON',\n",
       "       'BROTHER', 'FATHER', 'aunt ', 'Grandmother', 'HUSBAND', 'self',\n",
       "       'husband', 'husband ', 'Owner', ' Grand daughter', 'Nephew',\n",
       "       'SP0USE', 'Self', 'parent', 'SISTER', 'NIECE', 'Niece', 'daughter',\n",
       "       'Sibling', 'DAUGHTER', 'AUNT', 'brother ', '254701361835',\n",
       "       'Parent ', 'daughter ', 'FAITHER', 'Family ', 'SPOUSE ',\n",
       "       'Sibling ', 'PARENT', 'CONFIDANT', 'MUM', 'DAD', 'wife ', 'family',\n",
       "       'Trustee ', 'son ', 'mother ', 'MOTHER ', 'friend', 'spouse ',\n",
       "       'S0N', 'SISTER ', 'FATHER ', 'father ', 'FAMILY ', 'WifE',\n",
       "       'Partner ', 'daugther', '1226805243;130143346', 'relative',\n",
       "       'BROTHER ', 'Daighter', 'Advisor', 'SON ', 'AUNTIE', 'FIANCEE',\n",
       "       'Fiancee', 'DOUGHTER', 'parent ', 'HUSBAND ', 'DAUGHTER ', 'SELF',\n",
       "       'MOther', 'mOTHER', 'Aunt', 'Grandparent', 'Bother ', 'SO',\n",
       "       'married', 'MARRIED', 'FIANCE', 'Doughter ', 'Guardian ',\n",
       "       'ASS0CIATE', 'sibling', 'fiance', 'Sistet', 'Grandson', 'Doughter',\n",
       "       'DAUGTHER', 'wIFE', 'Bro', 'PARTNER', 'B INLAW', 'GUARDIAN',\n",
       "       'daughte', 'Mom', 'COUSIN', 'GRANDMA', 'aunt', 'Domestic Partner',\n",
       "       'PATNER', 'me', 'MENTOR', 'UNCLE', 'Sis', 'SiBLING', 'GRAND SON',\n",
       "       'Fiance ', 'KID', 'SIBLING', 'GRANDSON', 'Nephew ', '-', 'Cousin ',\n",
       "       'DAUGHETR', 'Person', 's0n', 'na', 'myson', 'PARTNER ', 'Bishop',\n",
       "       'nephew', 'mwas', 'Mothers', 'Friend ', 'Child ', 'daughter33',\n",
       "       'CLOSE FRIEND', 'hUSBAND', 'CLOSEFRIEND', 'Boyfriend ',\n",
       "       'dependant', 'WIFE ', 'MARRIAGE', 'GRAND DAUGHTER', 'DAUGHER',\n",
       "       'Niece ', 'granddaughter', 'grandson', 'DAUGHTER/CHILD',\n",
       "       'RELATIVE', 'mum', 'single', 'Self ', 'sister ', 'Mother TO SON',\n",
       "       'Grandfather', 'DAD ', 'Relative', 'Daughter-in-law ',\n",
       "       'GRANDMOTHER', 'child ', '15', 'DaD', 'GIRLFRIEND', 'FAMILY',\n",
       "       'Uncle ', 'SiNGLE', 'SINGLE', 'fiancee', 'FaMILY', 'BENEFICIARY',\n",
       "       'OWNER', 'Relative ', 'GRANDDAUGHTER', ' Spouse', 'uncle',\n",
       "       'Married ', 'chil', 'CHILD MINOR', '33', 'NEPHEW', 'JOINT PARTNER',\n",
       "       'MOTHERS ', 'Fiancé ', 'Others ', 'Grand daughter',\n",
       "       'DAUGHTER-IN-LAW', 'Na', 'CHILD ', 'SPIRITUAL FATHER', 'COUSN',\n",
       "       'DEPEDANT', 'Estate', 'Uncle', 'sISTER', 'sisiter', ' BROTHER',\n",
       "       'Granddaughter ', 'BRother', 'Aunt ', 'cousin', 'Baby', 'Morher',\n",
       "       'MOM', 'God mother', 'GRANDSON ', 'Husband/spouse', 'SPOUCE',\n",
       "       'uncle ', 'FRIEND ', 'Single', 'Vhild', 'Patner', 'Spouce',\n",
       "       'Family', 'SoN', 'SisteR', 'AUNTY', 'FATHER-IN-LAW', 'SonS', '0',\n",
       "       'MO9', 'Fiance', '33.4', 'CHILF', '254727756559', '0720401466',\n",
       "       'GRAND FATHER', 'PRINCIPAL', 'Guardian', 'JUNIOR',\n",
       "       'DGRAND DAUGHTER', 'COWORKER', 'GRAND MOTHER', 'D100', 'NMO',\n",
       "       'BUSINESS PARTNER', 'GURDIAN', '2021', 'MotH', 'MoM', 'UN,CLE',\n",
       "       'GRAND CHILD', 'Sister in law', 'Grand Daughter', 'COMAPANION',\n",
       "       'BOYFRIEND', 'EX-WIFE', 'GRANDDAUGTER', 'PARNT', 'M', 'F', 'Chils',\n",
       "       ';SON', 'GUARDINA', 'NiecE', 'Brother-IN-LAW', 'Member',\n",
       "       'Grand mother', 'ADMINISTRATOR', 'VM', 'GRANDFATHER', 'GIRLFRIED',\n",
       "       'Brestfriend', 'Finance', 'SIS', 'Daughter in law', 'children',\n",
       "       'Girlfriend', 'COLLEAGUE', 'TRUSTEE', '254708368426', 'Colleague',\n",
       "       'Sister-IN-LAW', 'GRAND-DAUGHTER', 'GRANNY', 'GRANDCHILD', \"'M\",\n",
       "       'spouce', 'SiLBLING', 'Siblings', 'Step-mother', 'Aunty', 'FREINF',\n",
       "       '50', '100', '254723993458', 'Cousins', 'Cousins ', 'ASSOCIATE',\n",
       "       'Fiane', 'guardian', 'Guadian', 'Confidant', 'Auntie', 'GRANDPA',\n",
       "       'mom', 'Brother in Law', 'BUSINESS PARTNER ', 'Spuose',\n",
       "       'Business Partner', 'Dating', 'IN LAW', 'STEP-MOM', 'Son/Brother',\n",
       "       'Chid', 'Granddaughter', 'niece', 'Son/SISTER', 'Grand Son',\n",
       "       'BrotheR', \"Nolan's Guardian\", \"Xena's Guardian\", 'Sister-in law',\n",
       "       'PARENTS', 'c/o', 'STEP MOTHER', 'NiCE', 'Ciru', 'DEPENDANT',\n",
       "       'som', 'GUARDIAN ', 'Dau`', 'Kid', 'PARENT ', 'CHILDREN',\n",
       "       'partner ', 'CLOUSIN', '19112004', 'twinsister', 'MINOR',\n",
       "       'Sister- Custodian', 'GRANSON', 'COMPANION', 'ENGAGED',\n",
       "       'WELL WISHER', 'PARNER', 'GRANCHILD', 'Trustee', 'Next of kin',\n",
       "       'SIIBLING', 'SIBLINGS', 'Foster daughter', 'ADMINSTRATOR',\n",
       "       'IN-LAW', 'Boyfriend', 'NepheW', 'EMPLOYEE', 'DIRECTORS',\n",
       "       'RELIGIOUS COMMUNITY', 'CUSTODIAN', 'C/O ARIANNA', 'Sister IN LAW',\n",
       "       'spose', 'SPAUSE', 'MEMBER', 'DomesticPartner', 'Grand-daughter',\n",
       "       'Brother-in-law', 'STEP-BROTHER', 'Mother to Evan', 'Sister-Inlaw',\n",
       "       'BUS. PARTNER', 'Sister(Guardian)', 'CONTACT PERSON', 'FatheR',\n",
       "       'Brother in law', 'Parwnt', 'M,', 'Sister-GUARDIAN', 'Grand Child',\n",
       "       'GODMOTHER', 'Sister-Guardian', 'Mother- Guardian', 'Grandchild',\n",
       "       'Grand son', 'CHLD', 'GRAND.DAUGHTER', 'GRAND-MOTHER', 'Parents',\n",
       "       'EX WIFE', 'Sister - Guardian', 'Step-Mother', 'FOSTER DAUGHTER',\n",
       "       'Grand-mother', 'God Mother', 'Mother-in-law', 'MEMBER ',\n",
       "       'B/S PARTNER', 'LAWYER', 'GRAND-SON', 'parents', 'Stepson',\n",
       "       'Contingent', 'grandmother', 'G/Daughter', 'Brother and sister',\n",
       "       'Sibbling', ' ', 'COUSIN ', 'DaughteR', 'SPUOSE', 'CHIILD',\n",
       "       'DSPOUSE', 'Executor', 'HU', 'EWIFE', 'SPOUDSE', 'SoPOUSE',\n",
       "       'grandchild', 'ChILD', '9266025', 'PARE NT', '254700442162',\n",
       "       'BEST FRIEND', 'SISTER IN LAW ', 'mather', 'SAVING PARTNER ',\n",
       "       'AUNTIE ', 'ParenChild', 'GIRLFRIEND ', 'SINGLE ', 'Parentchild',\n",
       "       'parentchild', 'SPOUSE20', 'Myself', 'FIACEE', 'SD',\n",
       "       'Grand mother ', 'Mother of child', 'Childnephew', 'FATH ',\n",
       "       'MY SON', 'BabyMother', 'CHID', 'GIRL FRIEND', 'chils', 'self ',\n",
       "       \"Mother's \", 'Mum ', 'aunty', 'SPouse', 'Auntie ', 'ChiLD',\n",
       "       'grandmother ', 'Grand daughter ', 'auntie', 'baby mama ', 'DA',\n",
       "       'BrOther', 'Fiancee ', 'In law', 'Colleague ', 'WiFE', 'owner',\n",
       "       'sON', 'Mather', 'Dauhgter', 'myself', 'Hubby', 'Sister in-law',\n",
       "       'Aunty ', 'Foster parent', 'grandson ', 'Wife/Guardian',\n",
       "       '21761402', 'GUARDIAN-MOTHER'], dtype=object)"
      ]
     },
     "execution_count": 58,
     "metadata": {},
     "output_type": "execute_result"
    }
   ],
   "source": [
    "#checking the unique values from the relationship column\n",
    "df['relationship'].unique()"
   ]
  },
  {
   "cell_type": "markdown",
   "metadata": {},
   "source": [
    "1.4.5 Checking Unique values from the hse_no_ column"
   ]
  },
  {
   "cell_type": "code",
   "execution_count": 59,
   "metadata": {},
   "outputs": [
    {
     "data": {
      "text/plain": [
       "array(['Single Member'], dtype=object)"
      ]
     },
     "execution_count": 59,
     "metadata": {},
     "output_type": "execute_result"
    }
   ],
   "source": [
    "#checking the unique values from the hse_no column\n",
    "df['hse_no'].unique()"
   ]
  },
  {
   "cell_type": "markdown",
   "metadata": {},
   "source": [
    "1.4.6 Checking Unique values from the portfolio column"
   ]
  },
  {
   "cell_type": "code",
   "execution_count": 60,
   "metadata": {},
   "outputs": [
    {
     "data": {
      "text/plain": [
       "array(['Money Market', 'Dollar Fund', 'Wealth Fund', 'Equity Fund',\n",
       "       'Fixed Income', 'Balanced Fund', 'MoneyMarket', nan], dtype=object)"
      ]
     },
     "execution_count": 60,
     "metadata": {},
     "output_type": "execute_result"
    }
   ],
   "source": [
    "#checking the unique values from the portfolio column\n",
    "df['portfolio'].unique()"
   ]
  },
  {
   "cell_type": "markdown",
   "metadata": {},
   "source": [
    "1.4.7 Checking Unique Values from the town column"
   ]
  },
  {
   "cell_type": "code",
   "execution_count": 61,
   "metadata": {},
   "outputs": [
    {
     "data": {
      "text/plain": [
       "array(['NAIROBI', nan, 'NAIROBI ', 'THIKA', 'NAKURU', 'MOMBASA ',\n",
       "       'NDANAI ', 'KISUMU', 'KIKUYU', 'JUJA', 'MACHAKOS', 'MERU',\n",
       "       'KERICHO', 'MUKURWEINI', 'KATANGI', 'THIKA,KIAMBU', 'NANYUKI',\n",
       "       'RUAI ', 'MALINDI', 'NYAHURURU', 'MUMIAS', 'KAKAMEGA', 'LODWAR',\n",
       "       'Nairobi ', 'KITENGELA', 'LIMURU', 'THIKA ', 'MIGORI', 'ELDORET',\n",
       "       'KITUI', 'RUARAKA', 'Ruiru', 'NJORO', 'EMBU', 'SORI', 'NGONG',\n",
       "       'MASENO', 'GATUNDU', 'KAHURO', 'KILIFI', 'RUIRU', 'KERUGOYA',\n",
       "       'KARATINA', 'KITALE ', 'MOMBASA', 'BUNGOMA', 'KISII', '-',\n",
       "       'Nairobi', 'KINAMBA', 'SIAYA', 'KERICHO ', 'KIAMBU', 'KITALE',\n",
       "       'BUSIA', 'RUNYENJES', 'VILLAGE MARKET', 'Kapsabet', 'KAGWE',\n",
       "       'NANDI HILLS', 'KUTUS', 'DAGORETTI', 'LITEIN', 'KAJIADO', 'CHUKA',\n",
       "       'NYERI', 'NAIROBI, NAIROBI', 'Kisumu ', 'KANJUKU', 'EMALI',\n",
       "       'GILGIL', 'Kiambu ', 'KANGEMA', 'TIRIKI', 'KARATINA ', 'OTHAYA',\n",
       "       'KARURI ,KIAMBU', 'MURANGA ', 'Mombasa', 'GATUKUYU ', 'MLOLONGO',\n",
       "       'UTAWALA ', 'KAPENGURIA', 'KAPSABET', 'SUNA', 'BOMET', 'KENOL ',\n",
       "       'NYERI ', 'BUNGOMA ', 'NDANAI', 'KALIMONI', 'KIGANJO',\n",
       "       'KAPSOKWONY', 'Nakuru', 'KIAMBU ', 'nairobi', 'CHOGORIA',\n",
       "       'GITHUNGURI', 'YOANI,SALAMA', 'LIMURU ', 'NAIROBI, KENYA.',\n",
       "       'UKUNDA', 'MATUU', 'embu', 'NYALI', 'nakuru', 'MBALE', 'EMUHAYA',\n",
       "       'TELFORD', 'NAIVASHA', 'KAREN', 'KILIFI ', 'HOLA', 'MAKINDU',\n",
       "       'WOTE', 'DIANI', 'O', 'OLKALAU', 'KAREN ', 'UPLANDS', 'WANGÚRU',\n",
       "       'KABIYET', 'KAKAMEGA ', 'SOTIK', 'NGONG ', 'CITY SQUARE', 'NKUBU',\n",
       "       'KANGARI', 'NGONG HILLS ', 'NYAHURURU ', 'KARURI ', 'UTHIRU',\n",
       "       'MARIMANTI', 'MANCHESTER', 'Kikuyu', '.', 'NAIRO ', 'kiambu',\n",
       "       'VOI', 'EMBAKASI', 'MOLO', 'Siaya ', 'NGIYA', 'OLKALOU',\n",
       "       'KANYAGIA', 'WANJOHI', 'kabete', 'Wamunyu', 'MARIAKANI',\n",
       "       'KISERIAN', 'ARTHI RIVER ', 'SUBUKIA', 'KILGORIS', 'KIMININI',\n",
       "       'LAGOS', 'SARE', 'ATHI RIVER', 'ngong hills ', 'WERUGHA',\n",
       "       'NAIROBIP', 'MASINFA', 'kikuyu', 'OL JORO OROK', 'MAUA',\n",
       "       'GIKUE MURANGA', 'KIMENDE', 'KIMILILI', 'KISUMU ', 'VIHIGA',\n",
       "       ' NAIROBI ', 'BURUBURU', 'MATATHIA', 'RUAKA', 'UGUNJA', 'LONGISA',\n",
       "       'ELDORATE ', 'KAPKATET', 'WINNIPEG', 'PIPELINE ', 'KAHAWA WEST ',\n",
       "       'KANDARA', 'Kimilili ', 'MTWAPA ', 'MARAGUA', 'BANANA ', 'NYAMIRA',\n",
       "       'AUBURN', 'KARURI', 'MTWAPA', 'ONGATA RONGAI', 'ELDORET ',\n",
       "       'HOMABAY', 'WANGIGE', 'KENDUBAY', 'KIBWEZI', 'RONGAI', 'RUIRU ',\n",
       "       'NORTH KINANGOP', 'MAKUYU', 'Nyeri ', 'Eldoret ', 'BOUTIGNY',\n",
       "       '00506', 'MWINGI', '00100', 'KERUGOYA ', 'TALA', 'OLENGURUONE',\n",
       "       'MAVINDINI', 'UHURU GARDENS', 'KIKUYU ', 'Ongata Rongai',\n",
       "       'SOUTH KINANGOP', 'ELDAMA RAVINE', 'MITUNGURU', 'TOM MBOYA',\n",
       "       'NAKURU ', 'MITABONI', 'NAROMORU', 'MURANGA', 'OLJOROROK',\n",
       "       'BUTERE', 'OYUGIS', 'SILIBWET', 'EMBU ', 'Doha', 'Eldoret',\n",
       "       'KANGEMI', 'NYERI-KIGUMO', 'KISERIAN ', 'Athi River', 'KENOL',\n",
       "       'OL KALOU', 'WESTLANDS', 'Nyahururu ', 'ENDARASHA ', 'GPO/NAIROBI',\n",
       "       'DAGORETI', 'OGEMBO ', 'mombasa', 'RUAI', 'DONYO SABUK', 'KEROKA',\n",
       "       'LOWER KABETE', 'MWEIGA', 'Naitobi', 'TOKYO', 'Embu', 'KIRINYAGA',\n",
       "       'KIANYAGA', 'SIAYA ', 'ADLISWIL', 'BURU BURU', 'MERU ', 'NYAKIO',\n",
       "       'KWALE', 'AMUKURA', 'NAROK', 'KOBUJOI', \"WANG'URU\", 'BONDO',\n",
       "       'Kericho', 'KIKIMA ', 'CHANGAMWE', 'BUTULA', 'NAIROBI KAYOLE',\n",
       "       'KANGUNDO', 'MARIAKANI ', 'TIMBOROA', 'KIANJAI', 'KALOLENI ',\n",
       "       'ISINYA', 'IOWA CITY, IOWA', 'Garsen ', 'MUKURWE-INI',\n",
       "       'NAIROBI GPO', 'MANYATTA', 'SARE-OWENDO', 'NANYUKI ', 'NDHIWA',\n",
       "       'ELBURGON', 'Orange', 'MAKUENI', 'kisumu ', 'MACHAKOS ',\n",
       "       'KABARNET ', \"Murang'a \", 'JUJA, KIAMBU', 'Bungoma', 'MAWEGO',\n",
       "       'Bath', 'ROYSAMBU', 'Nanyuki', 'SAGANA', 'MACH ', 'Nyeri', 'Ruaka',\n",
       "       'KITUI ', 'KAJIADO ', 'NUNGUNI', 'RONGAI ', 'KISII ', 'WANGIGE ',\n",
       "       'Makongeni Jogoo Rd', 'nairobi ', 'Kikuyu ', 'Kisii', 'MSAMBWENI',\n",
       "       'BUJUMBURA', 'GITHONGO', 'KEROKA/KISII', 'BURUBURU, NAIROBI',\n",
       "       'MALAVA', 'KIJABE', 'Woolwich ', 'NDERE-SIAYA', 'AHERO',\n",
       "       'MUHORONI ', 'Nakuru ', 'kahuro', 'Malakisi ', 'MUHORONI',\n",
       "       'ISIOLO', 'SYOKIMAU ', 'ONGATA RONGAI ', 'Maralal ',\n",
       "       'KIBIRICHIA, MERU', 'GRANGER, INDIANA', 'WESTLAND ', 'MUKURWEINI ',\n",
       "       'MASII', 'NRB', 'KWISERO', 'ANKARA', 'SHIMBA HILLS', 'TAVETA',\n",
       "       'WOTE, MAKUENI ', 'WANGURU', 'KISSII', 'BURUBURU NAIROBI ',\n",
       "       'KIRITIRI', 'MESA ARIZONA', 'KAJIADO TOWN', 'KURIA',\n",
       "       'NAIROBI WEST', 'ENDARASHA', 'KIPKAREN ', '0', 'GAMBOGI', 'KOLA',\n",
       "       'Marsabit', 'WEBUYE', 'GAKUNGU', 'NAIROBJ',\n",
       "       'NAIROBI ,KAMITI ROAD RICHLAND', 'NKUBU ', 'MWATATE', 'MALAKISI',\n",
       "       'ITEN', 'KATHIANI', \"MURANG'A\", 'KAIRIA', 'UPLANDS ', 'RONGO',\n",
       "       'UHURU GARDEN', 'KINANGOP', 'BAHATI NAKURU ', 'MATILIKU', 'meru',\n",
       "       'Limuru', 'MALAA', 'TURBO', 'MARIMA -MERU HIGHWAY ', 'OLJORO OROK',\n",
       "       'homabay ', 'KIKIMA', 'ADAMS ARCADE', 'MUNICH', 'MUMIAS ',\n",
       "       'KALIMONI ', 'CHWELE', 'MARALAL', 'NAMBALE', 'NAIROBI COUNTY',\n",
       "       'Narok ', 'TURBO ', 'KANGARI ', 'Pécs ', 'thika', 'KATSE',\n",
       "       'thika ', 'CHEBUNYO', 'OL JORO OROK ', 'MOBIL PLAZA', 'WAMUNYU ',\n",
       "       'MAGUNGA', 'RORET', 'YALA', 'KAHUHIA', \"KENOL MURANG'A\",\n",
       "       'Machakos', 'UKWALA', 'KALOLENI', 'JOONDALUP', 'MIGORI ',\n",
       "       'MARAGOLI', 'MARMANET', 'IKANGA', 'KINOO', 'OYUGIS ', 'LANGATA',\n",
       "       'Kiambu', 'Malindi', 'NAIROBI.', 'MAKUENI ', 'Bungoma ',\n",
       "       'GITHUNGURI ', 'MACHOKOS', 'KOMBEWA ', 'UTHIRU ', 'KITENGELA ',\n",
       "       'BANANA', 'CHEPKORIO', 'MASII ', 'Gitugi', '. ', 'RUIRY', 'Kisumu',\n",
       "       'MBUMBUNI-MACHAKOS', 'WAMUYU', 'siaya', 'Kakamega', 'TAITA TAVETA',\n",
       "       'Bumala', 'KIMENDE ', 'BRISTOL', 'MATUNDA', 'KARABA', 'SULTAN',\n",
       "       'GATURA', 'KASARANI ,NAIROBI ', 'NANDI', 'MAGUTUNI', 'CHUKA ',\n",
       "       'NGONG HILL', 'ngong', 'KIANGAI', 'MBITA', 'Mumias', 'KAMBITI',\n",
       "       'MUMBI', 'Juja', 'WODANGA', 'KIRIANI', 'KABARNET', 'MISIKHU',\n",
       "       'Thika', 'NYANSIONGO', 'nyeri ', 'NAIVASHA ', \"MURANG'A \",\n",
       "       'KAPCHENO', 'NGARA', 'MADARAKA', 'kitengela ', 'BONDO ', 'WAMUNYU',\n",
       "       'NYANDARUA', 'MOGOGOSIEK', '00', 'NAIROBI/JUJA', 'NA ', 'LUANDA',\n",
       "       'KLEMZIG', 'TEL AVIV', 'ongata rongai ', '30-60101 Manyatta ',\n",
       "       '12410 Nyeri', 'KATHONZWENI ', 'GITHURAI ', 'WESRN AUSTRALIA',\n",
       "       'SABASABA ', 'Gilgil ', 'ISEBANIA', 'KIRIAINI', 'MUTHETHENI ',\n",
       "       'Mombasa ', 'Kitengela', 'CARLIFONIA', 'NIL',\n",
       "       'NAIROBI, NAIROBI AREA, KENYA', 'SOY', 'Sabasaba', 'SABASABA',\n",
       "       'COLUMBIA', 'Homa Bay ', 'MARIMA', 'SEGA', 'KAYOLE', 'BUDD LAKE',\n",
       "       'KITHYOKO', 'KIJABE ', 'Mbale', 'KITHIMANI', 'HANOI', 'chuka',\n",
       "       'KILINDINI', 'MERY', 'CHELMSFORD', 'LOITOKITOK', 'MOSORIOT',\n",
       "       'IKONGE', 'ENGINEER', 'Othaya', 'Ahero', 'MWEA', 'JOSKA ',\n",
       "       'NGAMBWA', 'MASINGA', 'KINANGOP ', 'LONDON', 'KILELESHWA ',\n",
       "       'SARIT CENTRE', 'mgange ', 'ST. MARYS NSW', 'GESIMA', 'Migori ',\n",
       "       'KHWISERO', 'SYOKIMAU', 'MTITO ANDEI ', 'nakuru ', 'NAIROBI CITY',\n",
       "       'ATHIRIVER', 'KABATI', 'Kitale', 'MPEKETONI', 'YOANI',\n",
       "       'KABARTONJO', 'NAMANGA', 'CHESINENDE', 'BAHATI', 'NZEEKA',\n",
       "       'MATATHIA, KAMAE', 'RONALD NGALA ', 'KUBUKUBU', 'THOGOTO',\n",
       "       'GATORA', 'NAI ', 'KUJA,KIAMBU', 'Machakos ', 'AMAGORO', 'Uthiru',\n",
       "       'Naivasha', 'KEROKA ', 'MAZERAS', 'EGERTON', 'KASARANI', 'Kimende',\n",
       "       'WAJIR', 'DUBAI', 'TWO RIVERS', 'NDARAGWA ', 'EASTLEIGH', 'KAGIO',\n",
       "       'HOMA BAY', 'KISII, KENYA', 'Thika ', 'NGECHA', 'Kakamega ',\n",
       "       'KERINGET', 'FORT WAYNE', 'STAREHE', 'GILGIL ', 'KAWANGWARE',\n",
       "       'GPO NAIROBI', 'GITUGI', 'Tala', 'kakamega ', 'TEXAS', 'GACHIE',\n",
       "       'Syokimau', 'Sydney ', 'LESSOS', 'Meru ', 'KIPKAREN RIVER',\n",
       "       'SOSIOT', 'LAKEWOOD SEATTLE', 'Lodwar', 'Kitale ', 'Membley',\n",
       "       'chepkorio', 'Luanda', 'Kijabe ', 'TONGAREN', 'karuri ', 'malindi',\n",
       "       'Ogembo ', 'Maryland', 'Kisii Town ', 'kajiado ', 'LIKONI',\n",
       "       'wangige ', 'Ngong', 'OLKALOU ', '4597-20100 Nakuru', 'GARISSA',\n",
       "       'KIRIAINI ', 'SYOKIMAU L', 'Machakos, Kathiani', 'Kitui',\n",
       "       'AUSTRALIA', 'Bondo', 'Salama ', 'bomet ', 'Naivasha ',\n",
       "       'TOORMINA, NSW', 'Utawala', 'Ankara', 'MOISBRIDGE', 'nbo',\n",
       "       'Kijabe', 'KABAZI', 'P.O BOX 75-30105 SOY', 'kisumu', 'nyeri',\n",
       "       'Voi', 'Kanjuku', \"NG'IYA\", 'Muranga', 'Bournemouth ',\n",
       "       'SARE-AWENDO', 'narok', 'Ruiru ', 'Kilifi ', 'Meru',\n",
       "       'Ol-joro-orok', '152 30100 eldoret ', 'Mtwapa', 'Karuri',\n",
       "       'Kitengela ', 'Isiolo ', '38061-00623 Nairobi', 'Ngong Hills',\n",
       "       'RARIEDA', ' Nairobi County,', '187 Ngewa', 'NJAMBINI',\n",
       "       '25635 00603 Nairobi', 'GIKOE', 'kakamega', 'ISHIARA ',\n",
       "       'P. O. Box 111 Ruiru', 'Kibwezi', 'Syokimau ', 'kiambu ', 'Bomet ',\n",
       "       'Busia', 'Gilgil', 'LAMU', 'Kajiado ', 'makueni ', 'kisii',\n",
       "       'MERU 2274', 'TURKANA', 'Kilifi', 'nottingham', 'Embakasi',\n",
       "       'Masii - MACHAKOS', 'SEREM', 'Tala, Kangundo. ', 'Ugunja',\n",
       "       'Karatina', 'Migori', 'Berlin', 'KALAMBA', 'UKUNDA ', 'ruiru',\n",
       "       'Sondu', 'BUSIA - PORT VICTORIA ', 'Matuu.', 'Gatundu',\n",
       "       'Seasons Kasarani. ', 'KARUNGU', 'Kahawa Sukari', 'Kangundo ',\n",
       "       'mombasa ', 'St. Georges', 'maseno', 'KINDARUMA ',\n",
       "       'kakuma 1 Nuer community ', 'copenhagen', '549 LIMURU', 'Lamu',\n",
       "       'DRESDEN', 'Ol Kalou ', 'KIRIA-INI ', '123 KIKUYU', 'Kianyaga',\n",
       "       'Kasarani', 'Makueni ', 'KABETE', 'Sagana',\n",
       "       'Imani avenue, Ongata Rongai, Kajiado', 'LOS ANGELES', 'KAKUMA',\n",
       "       'kitengela', '56-10300 Kerugoya', 'Kalimoni P.o Box 178-01001',\n",
       "       'Nairobi, Komarock.', 'kilifi', 'NAIROBI, KITENGELA ',\n",
       "       '14 Lamina Avenue, Mill Park VIC 3082', 'kebirigo ', 'Darwin ',\n",
       "       'Kericho ', 'Nairibi', '782 - 00232 Ruiru', 'eldoret', 'Oyugis',\n",
       "       'Conroe', 'NAIROBI 572 00300', 'Eldama Ravine', 'Kabete ', 'Maua',\n",
       "       'Isiolo', '828-90200', 'Athens', 'Chicago ', 'Hola', 'Abu Dhabi ',\n",
       "       'Nyayo Estate, Court 521', 'Deanside', '452-00200, KIAMBU',\n",
       "       'KOBENHAUN', 'karuri', 'Nanyuki ', 'P.O. Box 2413-60200, Meru',\n",
       "       'Kenol', 'Wote', 'githunguri ', 'NAIROBI. 45095-00100', 'Serem',\n",
       "       'P.o.box 1298-00618 Ruaraka, Nairobi', 'Vienna ', 'karen',\n",
       "       'CHICAGO', 'GENEVA', 'Kiserian ', 'Kabarnet', 'RABAI',\n",
       "       'KIAMBU COUNTY', 'Uthiru Cooperation ', 'Githunguri ',\n",
       "       '79718-00200 NAIROBI', 'stockholm', '42 NDARAGWA',\n",
       "       'P.O. Box 103635-00101', 'Heuchlingen ', 'PORT VICTORIA',\n",
       "       'Doolandella, Australia', 'Grand Oyster Kileleshwa, Nairobi',\n",
       "       '10572-00200 NAIROBI', 'Wangige ', 'Siaya', 'Litein', 'Washington',\n",
       "       'Geneva', 'Winchester ', 'Mariashoni', 'Mwiki', 'Limuru ',\n",
       "       'Nairobi i', 'P O Box 898-00100 NAIROBI', 'KAWNGWARE NAIROBI ',\n",
       "       'rongai', 'Roysambu', 'NAIROBI UMOJA', 'kangema',\n",
       "       'P.O.Box 848-00208 NGONG', 'Braunschweig ', 'Wote MAKUENI',\n",
       "       '814_3 300 KAPSABET ', 'Box 2316 Machakos', 'Ruaraka', 'Nyahururu',\n",
       "       'Kenmore ', 'Melbourne ', '1711 Nyahururu', 'nanyuki',\n",
       "       'kawangware ', 'Narok', 'Githunguri', 'Mahindi ', 'Moncton',\n",
       "       'kERUGOYA', 'Homa Bay', 'Ukunda', 'Mukurweini ', 'Malindi ',\n",
       "       'narumoru', 'Juba', '01000-214 Thika', 'kabete ', 'Kajiado',\n",
       "       'NAROK ', 'Kapenguria ', 'Athi-river ', \"murang'a \", 'Gem',\n",
       "       'nyahururu ', 'Gachie ', 'Kirinyaga', ' Nairobi ', 'CALIFORNIA',\n",
       "       'Bomet', 'molo', 'Chuka', 'Nairobi, Kenya.', 'ANTONY',\n",
       "       'wite-makueni', 'ugunja', 'Matunda ', 'KARORI', 'kikuyu ',\n",
       "       'Shinyalu ', 'Molo', 'KIPKAREN', 'KANGUNDO ', 'LUTON', 'FLORIDA',\n",
       "       'NGEWA', 'SUSWA', 'USA', \"KENOL MURANG'A \", 'PUYALLUP WA USA',\n",
       "       'LAARE', 'P.O Box 30231 - 00100, Nairobi', 'Runyenjes',\n",
       "       'KENDUBAY ', 'Gigiri, Nairobi', 'GATUKUYU', 'BUNYALA', 'OKIA',\n",
       "       '3704 GPO NAIROBI ', 'RANGWE', 'KITUI KENYA', 'SAUDI ARABIA',\n",
       "       'JUJA KALIMONI', 'MSA', 'GAKUNYU', 'MIHARATI', 'KERUGOYA TOWN',\n",
       "       'RAGENGNI', 'mwingi ', 'NBI', 'IGOJI', 'KIMULOT', 'LONDIANI',\n",
       "       'CAMBRIDGE', 'KHAYEGA', 'NDUNYU NJERU ', '58-10205 Maragua',\n",
       "       'MALINDI ', 'Kasarani, Clay City', 'ATHI RIVER ', 'Sawagongo ',\n",
       "       'HELSINKI', 'GPO', 'BURNTFOREST', 'MATUNDA ', 'HARRISDALE',\n",
       "       'KARANDI', 'DUKHAN ', 'SONDU', 'EMBU, KENYA', 'NAIROBI KENYA',\n",
       "       'NANDI HILLS ', 'HAZELWOOD', 'MGANGE', 'LUCYSUMMER-NAIROBI',\n",
       "       'KUKUYU', 'NGONG ROAD', 'NYAYO STADIUM', 'Karen', 'makuyu',\n",
       "       'LOITIKITOK', 'Kenyenya', 'MUNICH ', 'tawa', 'FUNYULA',\n",
       "       'NOTTIGHAM', 'nanyuki ', 'Kenny Bay', 'MOMBSA', 'SHERWOOD',\n",
       "       'NDARAGWA', 'ongata rongai', 'BUMALA', 'MEITINGEN ', '80100',\n",
       "       'KOMBEWA', 'DOYSELDOR', 'NOTTINGHAM', 'VIENNA', 'KISERIAN KAJIADO',\n",
       "       'NAIROBI, KENYA', 'Mtwapa ', 'KEUMBU', 'Kerugoya Town', 'KAP ',\n",
       "       'UPPER HILL NAIROBI', 'MOI;S BRIDGE', 'ENTERPRISE  ROAD',\n",
       "       'THIONGO-NAIROBI', 'KATHONZWENI', 'UTAWALA', 'MIU ATHI-RIVER',\n",
       "       'CHAMAKANGA', 'NYAMACHE', 'NUERI', 'SULTAN HAMUD', 'NAROMORU ',\n",
       "       'NYAMIRA ', 'NAIROBI BURU', 'HAMBURG', 'TOWN ', '14 KADONGO 40223',\n",
       "       'Mois Bridge ', 'RUNYENJES ', 'MARAGWA', 'SURPRISE,USA',\n",
       "       'KALAMBA ', 'Ruai', 'KADONGO', 'TORONGO', 'NJABINI',\n",
       "       'GIGIRI, VILLAGE MARKET, NAIROBI', 'LAVINGTON', 'SPRING VALLEY',\n",
       "       'MBUMBUNI', 'NAIROBI MUNICIPALITY', 'NAIROBI,KENYA',\n",
       "       'Bamburi Mtambo ', 'GITHURAI', 'RUMURUTI',\n",
       "       'Kenyatta Highway, Nanyuki', 'MUTOMO', 'KENYATTA HOSPITAL',\n",
       "       'NAIROBI GENERAL POST OFFICE', 'LITIEN', 'LONDIANI ',\n",
       "       'ONGATA RONGAI NAIROBI', 'GATUNDU ', 'GAMBONI', 'NAIROB',\n",
       "       'L.KABETE', 'ATHI - RIVER', 'kerugoya ', 'Webuye ', 'Maralal',\n",
       "       'Andover', 'mombas', 'Kiambu 627-00900', 'Maragua',\n",
       "       'murang*a 10200-658', 'Syracuse', 'Karen Nairobi ',\n",
       "       'ontario, California 91764 ', 'Karlsruhe ', 'Nyamira ', 'Olkalau',\n",
       "       'GILGIL, KENYA', 'Kerugoya ',\n",
       "       '14 AV FERNAND FENZY92160  ANTONY FRANCE'], dtype=object)"
      ]
     },
     "execution_count": 61,
     "metadata": {},
     "output_type": "execute_result"
    }
   ],
   "source": [
    "#checking the unique values from the town column\n",
    "df['town'].unique()"
   ]
  },
  {
   "cell_type": "markdown",
   "metadata": {},
   "source": [
    "1.5 Inspecting the dataframe for null values"
   ]
  },
  {
   "cell_type": "code",
   "execution_count": 62,
   "metadata": {},
   "outputs": [
    {
     "data": {
      "text/plain": [
       "member_no                0\n",
       "reg_date              1863\n",
       "dob                  20038\n",
       "hse_no                   0\n",
       "gender                4667\n",
       "town               1048216\n",
       "relationship       1632933\n",
       "beneficiery_dob    1086598\n",
       "portfolio                9\n",
       "dtype: int64"
      ]
     },
     "execution_count": 62,
     "metadata": {},
     "output_type": "execute_result"
    }
   ],
   "source": [
    "#inspecting the dataframe for null values\n",
    "df.isna().sum()"
   ]
  },
  {
   "cell_type": "markdown",
   "metadata": {},
   "source": [
    "Summary of Data Interpretation:\n",
    "\n",
    "<small>\n",
    "\n",
    "- Few Missing Values: Columns like reg_date and portfolio have minimal missing data, which can be addressed through simple imputation (e.g., filling with median/mode) or row removal if necessary.\n",
    "\n",
    "- Many Missing Values: Columns such as town, relationship, and beneficiery_dob have a significant amount of missing data, potentially requiring advanced imputation or consideration for removal based on their importance.\n",
    "\n",
    "- Moderate Missing Values: dob and gender have a notable but manageable level of missing entries, so imputation using related data could be a practical solution</small>"
   ]
  },
  {
   "cell_type": "markdown",
   "metadata": {},
   "source": [
    "1.6 Checking for duplicates"
   ]
  },
  {
   "cell_type": "code",
   "execution_count": 63,
   "metadata": {},
   "outputs": [
    {
     "data": {
      "text/plain": [
       "7407066"
      ]
     },
     "execution_count": 63,
     "metadata": {},
     "output_type": "execute_result"
    }
   ],
   "source": [
    "#inspecting the dataframe duplicate values\n",
    "df.duplicated().sum()"
   ]
  },
  {
   "cell_type": "markdown",
   "metadata": {},
   "source": [
    "1.7 Dropping duplicated values"
   ]
  },
  {
   "cell_type": "markdown",
   "metadata": {},
   "source": [
    "In the below code block, we drop duplicated values."
   ]
  },
  {
   "cell_type": "code",
   "execution_count": 64,
   "metadata": {},
   "outputs": [],
   "source": [
    "df = df.drop_duplicates()"
   ]
  },
  {
   "cell_type": "markdown",
   "metadata": {},
   "source": [
    "**From our problem statement, we aim to cross sell investment products depending on Age, Gender and Location.** Therefore, we are going to drop some columns which are irrelevant. e.g. hse_no,reg_date.\n",
    "<small>\n",
    "\n",
    "**Age, gender, and location** are important factors when selling investment products. Here's why:\n",
    "\n",
    "**Age**: People of different ages have different investment needs. Younger people might want higher-risk, high-return investments, while older people often prefer safer options as they near retirement.\n",
    "\n",
    "**Gender**: Men and women can have different preferences and behaviors when it comes to investing, so understanding this helps in offering the right products.\n",
    "\n",
    "**Location**: Where someone lives can affect their investment choices because of local economic conditions and culture. For example, people in cities might invest differently than those in rural areas.</small>\n"
   ]
  },
  {
   "cell_type": "markdown",
   "metadata": {},
   "source": [
    "1.8 Dropping irrelevant columns- reg_date','hse_no'"
   ]
  },
  {
   "cell_type": "code",
   "execution_count": 65,
   "metadata": {},
   "outputs": [],
   "source": [
    "df=df.drop(columns=['reg_date','hse_no'])"
   ]
  },
  {
   "cell_type": "markdown",
   "metadata": {},
   "source": [
    "1.9 Inspecting Null values after dropping columns"
   ]
  },
  {
   "cell_type": "code",
   "execution_count": 66,
   "metadata": {},
   "outputs": [
    {
     "data": {
      "text/plain": [
       "member_no              0\n",
       "dob                  238\n",
       "gender                82\n",
       "town               15026\n",
       "relationship       14308\n",
       "beneficiery_dob    13937\n",
       "portfolio              4\n",
       "dtype: int64"
      ]
     },
     "execution_count": 66,
     "metadata": {},
     "output_type": "execute_result"
    }
   ],
   "source": [
    "#inspecting the null vaues after dropping columns\n",
    "df.isna().sum()"
   ]
  },
  {
   "cell_type": "markdown",
   "metadata": {},
   "source": [
    "1.10 Checking Unique Values in each column"
   ]
  },
  {
   "cell_type": "markdown",
   "metadata": {},
   "source": [
    "1.10.1 Checking Unique Values in relationship column"
   ]
  },
  {
   "cell_type": "code",
   "execution_count": 67,
   "metadata": {},
   "outputs": [
    {
     "data": {
      "text/plain": [
       "array(['Partner', 'Sister', 'Husband ', 'Husband', 'Daughter', 'Brother ',\n",
       "       'Son', 'Daughter ', 'Wife', 'Father', 'Mother', 'Brother', 'son',\n",
       "       'mother', 'father', 'Mother ', 'SPOUSE', 'FRIEND', 'Spouse ',\n",
       "       'WIfe', 'Father ', 'Spouse', 'child', nan, 'Parent', 'wife',\n",
       "       'Wife ', 'Son ', 'spouse', 'doughter', 'CHILD', 'ParentChild',\n",
       "       'partner', 'brother', 'sister', 'MotheR', 'Friend', 'Child',\n",
       "       'Cousin', 'Dad', 'Mum', 'MOTHER', 'WIFE', 'Sister ', 'SON',\n",
       "       'BROTHER', 'FATHER', 'aunt ', 'Grandmother', 'HUSBAND', 'self',\n",
       "       'husband', 'husband ', 'Owner', ' Grand daughter', 'Nephew',\n",
       "       'SP0USE', 'Self', 'parent', 'SISTER', 'NIECE', 'Niece', 'daughter',\n",
       "       'Sibling', 'DAUGHTER', 'AUNT', 'brother ', '254701361835',\n",
       "       'Parent ', 'daughter ', 'FAITHER', 'Family ', 'SPOUSE ',\n",
       "       'Sibling ', 'PARENT', 'CONFIDANT', 'MUM', 'DAD', 'wife ', 'family',\n",
       "       'Trustee ', 'son ', 'mother ', 'MOTHER ', 'friend', 'spouse ',\n",
       "       'S0N', 'SISTER ', 'FATHER ', 'father ', 'FAMILY ', 'WifE',\n",
       "       'Partner ', 'daugther', '1226805243;130143346', 'relative',\n",
       "       'BROTHER ', 'Daighter', 'Advisor', 'SON ', 'AUNTIE', 'FIANCEE',\n",
       "       'Fiancee', 'DOUGHTER', 'parent ', 'HUSBAND ', 'DAUGHTER ', 'SELF',\n",
       "       'MOther', 'mOTHER', 'Aunt', 'Grandparent', 'Bother ', 'SO',\n",
       "       'married', 'MARRIED', 'FIANCE', 'Doughter ', 'Guardian ',\n",
       "       'ASS0CIATE', 'sibling', 'fiance', 'Sistet', 'Grandson', 'Doughter',\n",
       "       'DAUGTHER', 'wIFE', 'Bro', 'PARTNER', 'B INLAW', 'GUARDIAN',\n",
       "       'daughte', 'Mom', 'COUSIN', 'GRANDMA', 'aunt', 'Domestic Partner',\n",
       "       'PATNER', 'me', 'MENTOR', 'UNCLE', 'Sis', 'SiBLING', 'GRAND SON',\n",
       "       'Fiance ', 'KID', 'SIBLING', 'GRANDSON', 'Nephew ', '-', 'Cousin ',\n",
       "       'DAUGHETR', 'Person', 's0n', 'na', 'myson', 'PARTNER ', 'Bishop',\n",
       "       'nephew', 'mwas', 'Mothers', 'Friend ', 'Child ', 'daughter33',\n",
       "       'CLOSE FRIEND', 'hUSBAND', 'CLOSEFRIEND', 'Boyfriend ',\n",
       "       'dependant', 'WIFE ', 'MARRIAGE', 'GRAND DAUGHTER', 'DAUGHER',\n",
       "       'Niece ', 'granddaughter', 'grandson', 'DAUGHTER/CHILD',\n",
       "       'RELATIVE', 'mum', 'single', 'Self ', 'sister ', 'Mother TO SON',\n",
       "       'Grandfather', 'DAD ', 'Relative', 'Daughter-in-law ',\n",
       "       'GRANDMOTHER', 'child ', '15', 'DaD', 'GIRLFRIEND', 'FAMILY',\n",
       "       'Uncle ', 'SiNGLE', 'SINGLE', 'fiancee', 'FaMILY', 'BENEFICIARY',\n",
       "       'OWNER', 'Relative ', 'GRANDDAUGHTER', ' Spouse', 'uncle',\n",
       "       'Married ', 'chil', 'CHILD MINOR', '33', 'NEPHEW', 'JOINT PARTNER',\n",
       "       'MOTHERS ', 'Fiancé ', 'Others ', 'Grand daughter',\n",
       "       'DAUGHTER-IN-LAW', 'Na', 'CHILD ', 'SPIRITUAL FATHER', 'COUSN',\n",
       "       'DEPEDANT', 'Estate', 'Uncle', 'sISTER', 'sisiter', ' BROTHER',\n",
       "       'Granddaughter ', 'BRother', 'Aunt ', 'cousin', 'Baby', 'Morher',\n",
       "       'MOM', 'God mother', 'GRANDSON ', 'Husband/spouse', 'SPOUCE',\n",
       "       'uncle ', 'FRIEND ', 'Single', 'Vhild', 'Patner', 'Spouce',\n",
       "       'Family', 'SoN', 'SisteR', 'AUNTY', 'FATHER-IN-LAW', 'SonS', '0',\n",
       "       'MO9', 'Fiance', '33.4', 'CHILF', '254727756559', '0720401466',\n",
       "       'GRAND FATHER', 'PRINCIPAL', 'Guardian', 'JUNIOR',\n",
       "       'DGRAND DAUGHTER', 'COWORKER', 'GRAND MOTHER', 'D100', 'NMO',\n",
       "       'BUSINESS PARTNER', 'GURDIAN', '2021', 'MotH', 'MoM', 'UN,CLE',\n",
       "       'GRAND CHILD', 'Sister in law', 'Grand Daughter', 'COMAPANION',\n",
       "       'BOYFRIEND', 'EX-WIFE', 'GRANDDAUGTER', 'PARNT', 'M', 'F', 'Chils',\n",
       "       ';SON', 'GUARDINA', 'NiecE', 'Brother-IN-LAW', 'Member',\n",
       "       'Grand mother', 'ADMINISTRATOR', 'VM', 'GRANDFATHER', 'GIRLFRIED',\n",
       "       'Brestfriend', 'Finance', 'SIS', 'Daughter in law', 'children',\n",
       "       'Girlfriend', 'COLLEAGUE', 'TRUSTEE', '254708368426', 'Colleague',\n",
       "       'Sister-IN-LAW', 'GRAND-DAUGHTER', 'GRANNY', 'GRANDCHILD', \"'M\",\n",
       "       'spouce', 'SiLBLING', 'Siblings', 'Step-mother', 'Aunty', 'FREINF',\n",
       "       '50', '100', '254723993458', 'Cousins', 'Cousins ', 'ASSOCIATE',\n",
       "       'Fiane', 'guardian', 'Guadian', 'Confidant', 'Auntie', 'GRANDPA',\n",
       "       'mom', 'Brother in Law', 'BUSINESS PARTNER ', 'Spuose',\n",
       "       'Business Partner', 'Dating', 'IN LAW', 'STEP-MOM', 'Son/Brother',\n",
       "       'Chid', 'Granddaughter', 'niece', 'Son/SISTER', 'Grand Son',\n",
       "       'BrotheR', \"Nolan's Guardian\", \"Xena's Guardian\", 'Sister-in law',\n",
       "       'PARENTS', 'c/o', 'STEP MOTHER', 'NiCE', 'Ciru', 'DEPENDANT',\n",
       "       'som', 'GUARDIAN ', 'Dau`', 'Kid', 'PARENT ', 'CHILDREN',\n",
       "       'partner ', 'CLOUSIN', '19112004', 'twinsister', 'MINOR',\n",
       "       'Sister- Custodian', 'GRANSON', 'COMPANION', 'ENGAGED',\n",
       "       'WELL WISHER', 'PARNER', 'GRANCHILD', 'Trustee', 'Next of kin',\n",
       "       'SIIBLING', 'SIBLINGS', 'Foster daughter', 'ADMINSTRATOR',\n",
       "       'IN-LAW', 'Boyfriend', 'NepheW', 'EMPLOYEE', 'DIRECTORS',\n",
       "       'RELIGIOUS COMMUNITY', 'CUSTODIAN', 'C/O ARIANNA', 'Sister IN LAW',\n",
       "       'spose', 'SPAUSE', 'MEMBER', 'DomesticPartner', 'Grand-daughter',\n",
       "       'Brother-in-law', 'STEP-BROTHER', 'Mother to Evan', 'Sister-Inlaw',\n",
       "       'BUS. PARTNER', 'Sister(Guardian)', 'CONTACT PERSON', 'FatheR',\n",
       "       'Brother in law', 'Parwnt', 'M,', 'Sister-GUARDIAN', 'Grand Child',\n",
       "       'GODMOTHER', 'Sister-Guardian', 'Mother- Guardian', 'Grandchild',\n",
       "       'Grand son', 'CHLD', 'GRAND.DAUGHTER', 'GRAND-MOTHER', 'Parents',\n",
       "       'EX WIFE', 'Sister - Guardian', 'Step-Mother', 'FOSTER DAUGHTER',\n",
       "       'Grand-mother', 'God Mother', 'Mother-in-law', 'MEMBER ',\n",
       "       'B/S PARTNER', 'LAWYER', 'GRAND-SON', 'parents', 'Stepson',\n",
       "       'Contingent', 'grandmother', 'G/Daughter', 'Brother and sister',\n",
       "       'Sibbling', ' ', 'COUSIN ', 'DaughteR', 'SPUOSE', 'CHIILD',\n",
       "       'DSPOUSE', 'Executor', 'HU', 'EWIFE', 'SPOUDSE', 'SoPOUSE',\n",
       "       'grandchild', 'ChILD', '9266025', 'PARE NT', '254700442162',\n",
       "       'BEST FRIEND', 'SISTER IN LAW ', 'mather', 'SAVING PARTNER ',\n",
       "       'AUNTIE ', 'ParenChild', 'GIRLFRIEND ', 'SINGLE ', 'Parentchild',\n",
       "       'parentchild', 'SPOUSE20', 'Myself', 'FIACEE', 'SD',\n",
       "       'Grand mother ', 'Mother of child', 'Childnephew', 'FATH ',\n",
       "       'MY SON', 'BabyMother', 'CHID', 'GIRL FRIEND', 'chils', 'self ',\n",
       "       \"Mother's \", 'Mum ', 'aunty', 'SPouse', 'Auntie ', 'ChiLD',\n",
       "       'grandmother ', 'Grand daughter ', 'auntie', 'baby mama ', 'DA',\n",
       "       'BrOther', 'Fiancee ', 'In law', 'Colleague ', 'WiFE', 'owner',\n",
       "       'sON', 'Mather', 'Dauhgter', 'myself', 'Hubby', 'Sister in-law',\n",
       "       'Aunty ', 'Foster parent', 'grandson ', 'Wife/Guardian',\n",
       "       '21761402', 'GUARDIAN-MOTHER'], dtype=object)"
      ]
     },
     "execution_count": 67,
     "metadata": {},
     "output_type": "execute_result"
    }
   ],
   "source": [
    "#checking for unique values in relationship column\n",
    "df.relationship.unique()"
   ]
  },
  {
   "cell_type": "markdown",
   "metadata": {},
   "source": [
    "1.10.2  Convert values in the 'relationship' column to lowercase and remove any extra spaces"
   ]
  },
  {
   "cell_type": "code",
   "execution_count": 68,
   "metadata": {},
   "outputs": [
    {
     "data": {
      "text/plain": [
       "\"mother                  18900 son                     18207 daughter                18010 sister                  12234 wife                    11190 husband                  9563 brother                  7768 father                   6738 spouse                   3311 child                    1567 parent                    627 friend                    393 niece                     369 nephew                    313 cousin                    309 aunt                      220 partner                   203 sibling                   199 fiance                    137 guardian                  117 fiancee                   100 uncle                      85 grandson                   74 grandmother                61 family                     51 self                       42 -                          40 estate                     39 grand daughter             31 dad                        29 granddaughter              29 mum                        27 girlfriend                 26 doughter                   25 relative                   18 boyfriend                  17 grandchild                 16 aunty                      16 business partner           15 member                     15 auntie                     14 sister in law              12 grandfather                11 gurdian                    11 mom                        11 so                         10 kid                        10 grand-daughter              9 s0n                         8 grand mother                8 trustee                     8 grand child                 7 colleague                   7 single                      7 spouce                      6 patner                      6 parents                     5 100                         5 grand son                   4 owner                       4 foster daughter             4 dependant                   4 daughetr                    4 married                     4 0                           4 grand-mother                4 in law                      3 daighter                    3 grand father                3 minor                       3 spause                      3 parentchild                 3 bus. partner                3 my son                      3 daugther                    3 na                          3 chid                        2 sis                         2 b/s partner                 2 depedant                    2 myself                      2 spuose                      2 son/brother                 2 daugher                     2 vhild                       2 close friend                2 vm                          2 confidant                   2 sister-in-law               2 beneficiary                 2 sister in-law               2 grandma                     2 girl friend                 2 children                    2 mothers                     2 50                          2 baby mama                   2 siblings                    2 cousins                     2 mather                      2 mother-in-law               2 god mother                  2 associate                   2 1226805243;130143346        2 brother-in-law              2 guardina                    2 parner                      2 step-mother                 2 contact person              2 sister-guardian             2 m                           2 chils                       2 daughter-in-law             2 c/o arianna                 2 brother in law              2 ex-wife                     2 granddaugter                2 in-law                      2 sister(guardian)            1 mother's                    1 faither                     1 fiacee                      1 chilf                       1 d100                        1 principal                   1 sister-inlaw                1 fath                        1 9266025                     1 dgrand daughter             1 freinf                      1 dating                      1 step-mom                    1 parwnt                      1 contingent                  1 step-brother                1 mo9                         1 cousn                       1 c/o                         1 33.4                        1 comapanion                  1 directors                   1 husband/spouse              1 companion                   1 som                         1 adminstrator                1 baby                        1 twinsister                  1 silbling                    1 254700442162                1 xena's guardian             1 19112004                    1 morher                      1 spoudse                     1 pare nt                     1 step mother                 1 parenchild                  1 da                          1 15                          1 21761402                    1 guadian                     1 bother                      1 joint partner               1 engaged                     1 employee                    1 coworker                    1 sopouse                     1 lawyer                      1 stepson                     1 fiane                       1 me                          1 granny                      1 daughter in law             1 chld                        1 guardian-mother             1 ass0ciate                   1 nmo                         1 chiild                      1 foster parent               1 sisiter                     1 dau`                        1 godmother                   1 clousin                     1 un,cle                      1 ewife                       1 child minor                 1 grandparent                 1 others                      1 mother to evan              1 mwas                        1 person                      1 spiritual father            1 ;son                        1 girlfried                   1 hubby                       1 domesticpartner             1 sister - guardian           1 junior                      1 childnephew                 1 0720401466                  1 ex wife                     1 spouse20                    1 best friend                 1 254727756559                1 sistet                      1 siibling                    1 2021                        1 bishop                      1 33                          1 executor                    1 254723993458                1 well wisher                 1 myson                       1 sister- custodian           1 grandpa                     1 saving partner              1 nice                        1 spose                       1 religious community         1 bro                         1 sibbling                    1 f                           1 parnt                       1 daughter/child              1 marriage                    1 mother to son               1 administrator               1 closefriend                 1 mentor                      1 m,                          1 custodian                   1 wife/guardian               1 254701361835                1 dauhgter                    1 sd                          1 moth                        1 nolan's guardian            1 granchild                   1 fiancé                      1 father-in-law               1 b inlaw                     1 son/sister                  1 sons                        1 brother and sister          1 granson                     1 domestic partner            1 grand.daughter              1 advisor                     1 'm                          1 babymother                  1 ciru                        1 mother of child             1 next of kin                 1 g/daughter                  1 254708368426                1 daughter33                  1 finance                     1 dspouse                     1 grand-son                   1 sp0use                      1 mother- guardian            1 sister-in law               1 hu                          1 daughte                     1 brestfriend                 1 chil                        1                             1\""
      ]
     },
     "execution_count": 68,
     "metadata": {},
     "output_type": "execute_result"
    }
   ],
   "source": [
    "# Convert values in the 'relationship' column to lowercase and remove any extra spaces\n",
    "df['relationship'] = df['relationship'].str.lower().str.strip()\n",
    "\n",
    "# Get the counts of each unique value in the 'relationship' column,\n",
    "# then format the output as a single line string\n",
    "df['relationship'].value_counts().to_string().replace(\"\\n\", \" \")"
   ]
  },
  {
   "cell_type": "markdown",
   "metadata": {},
   "source": [
    "1.10.3 Replace any missing values in the 'relationship' column with 'son'"
   ]
  },
  {
   "cell_type": "code",
   "execution_count": 69,
   "metadata": {},
   "outputs": [
    {
     "data": {
      "text/plain": [
       "0"
      ]
     },
     "execution_count": 69,
     "metadata": {},
     "output_type": "execute_result"
    }
   ],
   "source": [
    "# Replace any missing values in the 'relationship' column with 'son'\n",
    "df['relationship'] = df['relationship'].fillna('son')\n",
    "\n",
    "# Check if there are any remaining missing values in the 'relationship' column\n",
    "df['relationship'].isna().sum()\n"
   ]
  },
  {
   "cell_type": "markdown",
   "metadata": {},
   "source": [
    "<small>\n",
    "\n",
    "To organize and standardize relationship values in the dataset, we define categories for mapping different variations of relationship terms. This approach creates a consistent structure by grouping terms like \"spouse,\" \"child,\" \"sibling,\" etc., into predefined categories. By applying this mapping, we ensure that any variations in spelling, formatting, or synonymous terms are aligned under a single label.\n",
    "\n",
    "The following code accomplishes this by:\n",
    "\n",
    "Defining a dictionary (relationship_map) that assigns potential variations of relationship terms to specific categories.\n",
    "Creating a function (map_relationship) that checks each entry in the relationship column against the keywords in relationship_map.\n",
    "Applying this function to the column to classify each entry according to the defined categories.\n",
    "Finally, we display the count of values in each category to confirm the classification distribution.</small>"
   ]
  },
  {
   "cell_type": "markdown",
   "metadata": {},
   "source": [
    "1.10.4 Convert all entries to lower case and strip whitespace for uniformity"
   ]
  },
  {
   "cell_type": "code",
   "execution_count": 70,
   "metadata": {},
   "outputs": [
    {
     "name": "stdout",
     "output_type": "stream",
     "text": [
      "child           52152\n",
      "parent          26352\n",
      "partner         24578\n",
      "sibling         20240\n",
      "relative         1534\n",
      "friends           396\n",
      "other             392\n",
      "guardian          128\n",
      "professional       67\n",
      "self               49\n",
      "Name: relationship, dtype: int64\n"
     ]
    }
   ],
   "source": [
    "# Convert all entries to lower case and strip whitespace for uniformity\n",
    "df['relationship'] = df['relationship'].str.lower().str.strip()\n",
    "\n",
    "# Mapping dictionary\n",
    "relationship_map = {\n",
    "    'partner': [\n",
    "        'partner', 'spouse', 'sp0use','husband', 'wife', 'fiancee', 'ex-wife', 'spouce', 'fiancé',\n",
    "        'husband ', 'sponse', 'spouse ', 'wiFe', 'wifE', 'wife ', 'spouse', 'married', 'marriage',\n",
    "        'husband/spouse', 'ex-wife', 'fiance ', 'fiance', 'married ', 'myson', 'baby mama ',\n",
    "        'fiancee ', 'souse', 'hubby', 'dating', 'boyfriend', 'girlfriend', 'ex wife', 'boyfriend ',\n",
    "        'girlfriend ', 'wife/guardian', 'ex husband', 'girl friend', 'fiancée', 'sopouse', 'spoudse',\n",
    "        'soPOUSE', 'spause', 'sposue', 'ex husband', 'love', 'b/f', 'g/f', 'divorcee', 'ex spouse',\n",
    "        'bf', 'gf', 'b/f', 'g/f', 'fiancé ', 'domesticpartner', 'domestic partner', 'dating', 'exwife',\n",
    "        'exhusband', 'wive', 'husb', 'exspouse', 'partner ', 'significant other', 'fiancee','companion','Partner',\n",
    "        'Husband ', 'Husband',  'Wife',   'SPOUSE' , 'Spouse ', 'WIfe', 'Spouse',  'wife', 'Wife ', 'spouse', 'partner',\n",
    "        'HUSBAND', 'husband', 'husband ',  'SP0USE' , 'SPOUSE ',  'wife ',\n",
    "        'spouse ', 'Partner ' , 'FIANCEE', 'Fiancee',  'HUSBAND ',  'FIANCE', \n",
    "        'wIFE', 'PARTNER',  'Domestic Partner', 'PATNER', 'Fiance ', 'PARTNER ',  'hUSBAND',  'Boyfriend ',\n",
    "        'WIFE ', 'fiancee', 'JOINT PARTNER', 'Fiancé ' , 'Husband/spouse', 'SPOUCE',  'Patner', 'Spouce',  \n",
    "        'Fiance', 'BOYFRIEND', 'EX-WIFE',  'PARNT',  'GIRLFRIED'\n",
    "    ],\n",
    "    'child': [\n",
    "        'child', 'kid', 'daughter', 'son', 'children', 'daughter33', 'doughter', 'daugther', 'doughter ',\n",
    "        'daugther', 'son ', 'daughter ', 'child minor', 'kids', 'baby', 'infant', 'toddler', 'sonS',\n",
    "        'minor', 'child ', 'son/sister', 'chid', 'newborn', 'son/brother', 'childnephew',\n",
    "        'chils', 'chiLD', 'kID', 'dau`', 'daugher', 'childnephew', 'my son','child', 'son', 'dau', \n",
    "        'daughter', 'daughter33', 'my son', 'infant', 'childnephew', 'kids', 'baby', 'ChiLD', 'CHID',\n",
    "        'sON', 'cHILS', 'CHID', 'CHIILD', 'KID', 'FOSTER' 'DAUGHTER', 'CHILD MINOR', 'MINOR', 'CHILDREN', \n",
    "        'SOM', 'CHILDREN', 'JUNIOR', 'BABY',  'CHIL', 'DAUGHTER/CHILDDAUGHER', 'CHILF', 'DOUGHTER', 'DAIGHTER', \n",
    "        'DAUGHTE', 'DAUGHETR', 'S0N','MYSON','child','CHILD','Child ','DAUGHTER/CHILD','child ','CHILD MINOR',\n",
    "        'CHILD ','children','CHILDREN','ChILD','ChiLD'\n",
    "    ],\n",
    "    'parent': [\n",
    "        'mother', 'mom', 'mum', 'father', 'dad', 'parent', 'parents', 'mother ', 'father ', 'mOTHER',\n",
    "        'dad ', 'mum ', 'mom ', 'mummy', 'daddy', 'papa', 'mama', 'mother in law', 'father in law',\n",
    "        'mothers', 'fathers', 'moms', 'mums', 'father-in-law', 'mother-in-law', 'mommy', 'dadi', 'momi',\n",
    "        'parent ', 'mother to son', 'mother of child', 'parents', 'mother- guardian', 'father - guardian',\n",
    "        'parentchild', 'parental', 'parenthood', 'parenting', 'mother IN LAW', 'mom in law', 'dad in law',\n",
    "        'mum in law', 'parenting', 'fatherhood', 'motherhood', 'parent ', 'grandparent', 'step mother',\n",
    "        'step father', 'step-mother', 'step-father','Parent', 'Parents', 'Mother', 'Mothers', 'Mom', 'Mum', \n",
    "        'Father', 'DAD', 'Dad', 'Guardian', 'Grandmother', 'Grandfather', 'Step-mother', 'Step-father', 'Foster parent',\n",
    "        'Mother-in-law', 'Father-in-law', 'ParentChild', 'Mama', 'Mummy', 'Dadi', 'Mother TO SON', 'PARENT', 'MOther'\n",
    "    ],\n",
    "    'self': [\n",
    "        'self', 'owner', 'me', 'myself', 'self ', 'owner ', 'i', 'myself ', 'personal', 'individual',\n",
    "        'own', 'my own', 'self-employed', 'proprietor', 'me ', 'self employed', 'self own', 'personal account',\n",
    "        'my account', 'own account'\n",
    "    ],\n",
    "    'guardian': [\n",
    "        'guardian', 'custodian', 'trustee', 'guard', 'guardian ', 'custodian ', 'trustee ', 'guard ',\n",
    "        'legal guardian', 'guardianship', 'custodianship', 'trusteeship', 'protector', 'caregiver',\n",
    "        'conservator','conservator', 'foster parent', 'foster guardian', 'legal custodian', 'guardian-mother', 'guardian father'\n",
    "    ],\n",
    "    'sibling': [\n",
    "        'siblings', 'brother', 'sister', 'sibling', 'brother ', 'sister ', 'bro', 'sis', 'brothers', 'sisters',\n",
    "        'sibling ', 'brother-in-law', 'sister-in-law', 'sibling in law', 'brother and sister', 'sibbling',\n",
    "        'siBLING', 'sibblings', 'sister in law', 'brother in law', 'sister/guardian', 'sister - guardian',\n",
    "        'sister-guardian', 'bros', 'sisses', 'step-sister', 'step-brother', 'half-sister', 'half-brother', 'broski','Sister', 'Brother ','brother', 'sister',\n",
    "       'Sister ', 'SISTER','Sibling', 'brother ','Sibling ','SISTER ','Sistet', 'Bro', 'Sis', 'SiBLING',\n",
    "        'SIBLING',  's0n', 'sister ''sISTER', 'sisiter', ' BROTHER','BRother', 'SisteR', 'SIS', \n",
    "       'som',\n",
    "       'Sister- Custodian', \n",
    "       'SIIBLING', 'SIBLINGS','Brother and sister',\n",
    "       'Sibbling'\n",
    "    ],\n",
    "    'relative': [\n",
    "        'cousin', 'nephew', 'grand child', 'niece', 'grandmother', 'granddaughter', 'grandson', 'grandfather', 'uncles', 'aunties',\n",
    "        'aunt', 'uncle', 'granny', 'grandparent', 'grand child', 'relative', 'relatives', 'cousins', 'uncles',\n",
    "        'aunties', 'aunts', 'grandparents', 'great grandmother', 'great grandfather', 'grand children', 'extended family',\n",
    "        'grandmother ', 'grandfather ', 'nephew ', 'niece ', 'cousin ', 'aunt ', 'uncle ', 'granny ', 'granddaughter ',\n",
    "        'grandson ', 'grandchild', 'grandchild ', 'grandchildren', 'grandkids', 'great grandparent', 'ancestors', 'descendants',\n",
    "        'kin', 'kinship', 'next of kin', 'in-laws', 'inlaw', 'in laws', 'extended relatives', 'b inlaw', 'in law','family tree', 'Cousin', ' Grand daughter', 'Nephew', 'NIECE', 'Niece', 'AUNT', 'relative', 'AUNTIE', 'B INLAW', 'COUSIN', 'aunt', 'UNCLE', 'GRAND SON', 'Nephew ', 'Cousin ', 'nephew', 'GRAND DAUGHTER', 'Niece ', 'granddaughter', 'grandson', 'RELATIVE', 'Daughter-in-law ', 'GRANDMOTHER', 'Relative ', 'uncle',\n",
    "'NEPHEW', 'Grand daughter', 'DAUGHTER-IN-LAW', 'COUSN', 'Uncle', 'Granddaughter ', 'Aunt ', 'cousin', 'GRANDSON ', 'uncle ', 'AUNTY', 'FATHER-IN-LAW', 'GRAND FATHER', 'DGRAND DAUGHTER', 'GRAND MOTHER', 'UN,CLE', 'GRAND CHILD', 'Sister in law', 'Grand Daughter', 'GRANDDAUGTER', 'NiecE', 'Brother-IN-LAW', 'Grand mother', 'GRANDFATHER', 'Daughter in law', 'Sister-IN-LAW', 'GRAND-DAUGHTER', 'GRANNY', \n",
    "'GRANDCHILD', 'Aunty', 'Cousins', 'Cousins ', 'Auntie', 'GRANDPA', 'Brother in Law', 'IN LAW', 'Granddaughter', 'niece', 'Grand Son', 'Sister-in law', 'CLOUSIN', 'GRANSON', 'Sister IN LAW', 'Brother-in-law', 'Sister-Inlaw', 'Brother in law', 'GRAND-MOTHER', 'Grand-mother', 'Mother-in-law', 'SISTER IN LAW ', 'Grand mother ', 'Childnephew', 'Grand daughter ', 'auntie', 'In law', 'Sister in-law', 'Aunty '\n",
    "    ],\n",
    "    'friends': ['friend','closefriend', 'confidant', 'friend ',\n",
    "        'peers', 'acquaintance', 'comrade', 'pal', 'buddy', 'mate', 'fellow', 'ally', 'supporter',\n",
    "        'confidante', 'friend of the family', 'family friend',\n",
    "        'peer', 'companion', 'companions'\n",
    "    ],\n",
    "    'professional':['colleague', 'coworker', 'partner in law',\n",
    "        'associate', 'advisor', 'mentor', 'colleague ', 'coworker ',\n",
    "        'associate ', 'colleague', 'professional', 'mentor', 'adviser', 'counselor', 'legal representative', 'executor', 'business partner',\n",
    "        'co-worker', 'workmate', 'teammate',\n",
    "        'partner in business', 'business associate', 'collaborator', 'collegue','estate'\n",
    "    ],\n",
    "    'other': ['spiritual advisor','sponsor'\n",
    "    ]\n",
    "}\n",
    "\n",
    "# Function to apply the mapping\n",
    "def map_relationship(value):\n",
    "    for category, keywords in relationship_map.items():\n",
    "        if any(keyword == value for keyword in keywords):\n",
    "            return category\n",
    "    return 'other'  # Default category if no matches found\n",
    "\n",
    "# Apply the mapping function to the 'relationship' column\n",
    "df['relationship'] = df['relationship'].apply(map_relationship)\n",
    "\n",
    "# Show the value counts of each category\n",
    "print(df['relationship'].value_counts())"
   ]
  },
  {
   "cell_type": "markdown",
   "metadata": {},
   "source": [
    "1.11 Checking the columns and value counts (gender column)  in the dataframe"
   ]
  },
  {
   "cell_type": "code",
   "execution_count": 71,
   "metadata": {},
   "outputs": [
    {
     "data": {
      "text/plain": [
       "Index(['member_no', 'dob', 'gender', 'town', 'relationship', 'beneficiery_dob',\n",
       "       'portfolio'],\n",
       "      dtype='object')"
      ]
     },
     "execution_count": 71,
     "metadata": {},
     "output_type": "execute_result"
    }
   ],
   "source": [
    "#checking the columns in the dataframe\n",
    "df.columns"
   ]
  },
  {
   "cell_type": "code",
   "execution_count": 72,
   "metadata": {},
   "outputs": [
    {
     "data": {
      "text/plain": [
       "Female    83178\n",
       "Male      42480\n",
       "F            92\n",
       "M            48\n",
       "FEMALE        4\n",
       "MALE          4\n",
       "Name: gender, dtype: int64"
      ]
     },
     "execution_count": 72,
     "metadata": {},
     "output_type": "execute_result"
    }
   ],
   "source": [
    "#inspecting the value_counts in the gender column\n",
    "df.gender.value_counts()"
   ]
  },
  {
   "cell_type": "markdown",
   "metadata": {},
   "source": [
    "1.11.1  Checking and handling  null values "
   ]
  },
  {
   "cell_type": "code",
   "execution_count": 73,
   "metadata": {},
   "outputs": [
    {
     "data": {
      "text/plain": [
       "82"
      ]
     },
     "execution_count": 73,
     "metadata": {},
     "output_type": "execute_result"
    }
   ],
   "source": [
    "#checking for null values\n",
    "df.gender.isna().sum()"
   ]
  },
  {
   "cell_type": "code",
   "execution_count": 74,
   "metadata": {},
   "outputs": [
    {
     "data": {
      "text/plain": [
       "0"
      ]
     },
     "execution_count": 74,
     "metadata": {},
     "output_type": "execute_result"
    }
   ],
   "source": [
    "#fill the null values with the 'Female' gender\n",
    "df['gender']=df.gender.fillna('Female')\n",
    "df['gender'].isna().sum()"
   ]
  },
  {
   "cell_type": "markdown",
   "metadata": {},
   "source": [
    "1.11.2 Mapping the Gender Column into Two Categories: Male and Female"
   ]
  },
  {
   "cell_type": "markdown",
   "metadata": {},
   "source": [
    "<small>\n",
    "\n",
    "To standardize entries in the gender column, we create a dictionary to map various formats of \"Male\" and \"Female\" into consistent labels. This step ensures uniformity across the dataset, which is essential for accurate analysis.\n",
    "\n",
    "The process involves:\n",
    "\n",
    "Defining a gender_map dictionary where different versions of \"Male\" and \"Female\" are assigned to a single, standardized label.\n",
    "Using the replace function to apply this mapping to the gender column and store the cleaned values in a new column, gender_mapped.\n",
    "This streamlined approach produces a clean and uniform gender_mapped column ready for analysis.</small>"
   ]
  },
  {
   "cell_type": "code",
   "execution_count": 75,
   "metadata": {},
   "outputs": [],
   "source": [
    "gender_map = {\n",
    "    'Female':'Female','F':'Female','FEMALE':'Female',\n",
    "    'Male':'Male','M':'Male','MALE':'Male',\n",
    "}\n",
    "\n",
    "df['gender_mapped'] = df['gender'].replace(gender_map)"
   ]
  },
  {
   "cell_type": "code",
   "execution_count": 76,
   "metadata": {},
   "outputs": [
    {
     "data": {
      "text/html": [
       "<div>\n",
       "<style scoped>\n",
       "    .dataframe tbody tr th:only-of-type {\n",
       "        vertical-align: middle;\n",
       "    }\n",
       "\n",
       "    .dataframe tbody tr th {\n",
       "        vertical-align: top;\n",
       "    }\n",
       "\n",
       "    .dataframe thead th {\n",
       "        text-align: right;\n",
       "    }\n",
       "</style>\n",
       "<table border=\"1\" class=\"dataframe\">\n",
       "  <thead>\n",
       "    <tr style=\"text-align: right;\">\n",
       "      <th></th>\n",
       "      <th>member_no</th>\n",
       "      <th>dob</th>\n",
       "      <th>gender</th>\n",
       "      <th>town</th>\n",
       "      <th>relationship</th>\n",
       "      <th>beneficiery_dob</th>\n",
       "      <th>portfolio</th>\n",
       "      <th>gender_mapped</th>\n",
       "    </tr>\n",
       "  </thead>\n",
       "  <tbody>\n",
       "    <tr>\n",
       "      <th>0</th>\n",
       "      <td>99996</td>\n",
       "      <td>1998-04-06 00:00:00</td>\n",
       "      <td>Female</td>\n",
       "      <td>NAIROBI</td>\n",
       "      <td>partner</td>\n",
       "      <td>1998-01-26</td>\n",
       "      <td>Money Market</td>\n",
       "      <td>Female</td>\n",
       "    </tr>\n",
       "    <tr>\n",
       "      <th>14</th>\n",
       "      <td>99996</td>\n",
       "      <td>1998-04-06 00:00:00</td>\n",
       "      <td>Female</td>\n",
       "      <td>NAIROBI</td>\n",
       "      <td>sibling</td>\n",
       "      <td>2001-03-04</td>\n",
       "      <td>Money Market</td>\n",
       "      <td>Female</td>\n",
       "    </tr>\n",
       "    <tr>\n",
       "      <th>28</th>\n",
       "      <td>99994</td>\n",
       "      <td>1966-01-01 00:00:00</td>\n",
       "      <td>Female</td>\n",
       "      <td>NaN</td>\n",
       "      <td>partner</td>\n",
       "      <td>1962-01-01</td>\n",
       "      <td>Money Market</td>\n",
       "      <td>Female</td>\n",
       "    </tr>\n",
       "    <tr>\n",
       "      <th>40</th>\n",
       "      <td>99993</td>\n",
       "      <td>1974-01-01 00:00:00</td>\n",
       "      <td>Female</td>\n",
       "      <td>NAIROBI</td>\n",
       "      <td>partner</td>\n",
       "      <td>1970-09-29</td>\n",
       "      <td>Money Market</td>\n",
       "      <td>Female</td>\n",
       "    </tr>\n",
       "    <tr>\n",
       "      <th>70</th>\n",
       "      <td>99993</td>\n",
       "      <td>1974-01-01 00:00:00</td>\n",
       "      <td>Female</td>\n",
       "      <td>NAIROBI</td>\n",
       "      <td>child</td>\n",
       "      <td>1994-01-01</td>\n",
       "      <td>Money Market</td>\n",
       "      <td>Female</td>\n",
       "    </tr>\n",
       "  </tbody>\n",
       "</table>\n",
       "</div>"
      ],
      "text/plain": [
       "    member_no                  dob  gender     town relationship  \\\n",
       "0       99996  1998-04-06 00:00:00  Female  NAIROBI      partner   \n",
       "14      99996  1998-04-06 00:00:00  Female  NAIROBI      sibling   \n",
       "28      99994  1966-01-01 00:00:00  Female      NaN      partner   \n",
       "40      99993  1974-01-01 00:00:00  Female  NAIROBI      partner   \n",
       "70      99993  1974-01-01 00:00:00  Female  NAIROBI        child   \n",
       "\n",
       "   beneficiery_dob     portfolio gender_mapped  \n",
       "0       1998-01-26  Money Market        Female  \n",
       "14      2001-03-04  Money Market        Female  \n",
       "28      1962-01-01  Money Market        Female  \n",
       "40      1970-09-29  Money Market        Female  \n",
       "70      1994-01-01  Money Market        Female  "
      ]
     },
     "execution_count": 76,
     "metadata": {},
     "output_type": "execute_result"
    }
   ],
   "source": [
    "#inspecting the cleaned df\n",
    "df.head()"
   ]
  },
  {
   "cell_type": "markdown",
   "metadata": {},
   "source": [
    "1.12  Computing ages from date of birth in our  dataset"
   ]
  },
  {
   "cell_type": "code",
   "execution_count": 77,
   "metadata": {},
   "outputs": [
    {
     "data": {
      "text/plain": [
       "1962-01-01             541\n",
       "1960-01-01             360\n",
       "1968-01-01             320\n",
       "1970-01-01             311\n",
       "1974-01-01             311\n",
       "                      ... \n",
       "1956-05-19 00:00:00      1\n",
       "2000-08-16               1\n",
       "2002-03-28               1\n",
       "2004-01-14 00:00:00      1\n",
       "2001-11-15 00:00:00      1\n",
       "Name: dob, Length: 19092, dtype: int64"
      ]
     },
     "execution_count": 77,
     "metadata": {},
     "output_type": "execute_result"
    }
   ],
   "source": [
    "#age distribution based on dob(date of birth)\n",
    "df.dob.value_counts()"
   ]
  },
  {
   "cell_type": "code",
   "execution_count": 78,
   "metadata": {},
   "outputs": [
    {
     "data": {
      "text/plain": [
       "1899-12-30             1854\n",
       "1962-01-01              584\n",
       "1970-01-01              562\n",
       "1960-01-01              488\n",
       "1963-01-01              475\n",
       "                       ... \n",
       "2005-10-23 00:00:00       1\n",
       "1999-01-23 00:00:00       1\n",
       "2012-09-07 00:00:00       1\n",
       "2012-10-04 00:00:00       1\n",
       "1954-09-22                1\n",
       "Name: beneficiery_dob, Length: 27488, dtype: int64"
      ]
     },
     "execution_count": 78,
     "metadata": {},
     "output_type": "execute_result"
    }
   ],
   "source": [
    "#age distribution based on beneficiary_dob(date of birth)\n",
    "df.beneficiery_dob.value_counts()"
   ]
  },
  {
   "cell_type": "code",
   "execution_count": 79,
   "metadata": {},
   "outputs": [
    {
     "data": {
      "text/plain": [
       "0"
      ]
     },
     "execution_count": 79,
     "metadata": {},
     "output_type": "execute_result"
    }
   ],
   "source": [
    "#fill with the modal age\n",
    "df['dob'] = df.dob.fillna('1962-01-01')\n",
    "df.dob.isna().sum()"
   ]
  },
  {
   "cell_type": "markdown",
   "metadata": {},
   "source": [
    "<small>---\n",
    "\n",
    "To compute ages from the dates of birth in our dataset, we:\n",
    "\n",
    "1. **Convert Dates of Birth:** The `dob` and `beneficiery_dob` columns are first converted to datetime format to ensure proper date handling. If a date cannot be converted, it is set to `NaT` (missing).\n",
    "  \n",
    "2. **Define Age Calculation Function:** A helper function, `calculate_age`, computes the age by subtracting the birth year from the current year and adjusting for birthdays that have not yet occurred this year.\n",
    "\n",
    "3. **Apply Function to Columns:** The function is applied to both `dob` and `beneficiery_dob` to create two new columns: `member_age` and `beneficiery_age`, which store the calculated ages.\n",
    "\n",
    "Finally, the resulting columns are previewed to verify successful age computation.</small>"
   ]
  },
  {
   "cell_type": "code",
   "execution_count": 80,
   "metadata": {},
   "outputs": [
    {
     "name": "stdout",
     "output_type": "stream",
     "text": [
      "          dob  member_age beneficiery_dob  beneficiery_age\n",
      "0  1998-04-06          26      1998-01-26             26.0\n",
      "14 1998-04-06          26      2001-03-04             23.0\n",
      "28 1966-01-01          58      1962-01-01             62.0\n",
      "40 1974-01-01          50      1970-09-29             54.0\n",
      "70 1974-01-01          50      1994-01-01             30.0\n"
     ]
    }
   ],
   "source": [
    "# Convert the dob column to datetime format\n",
    "df['dob'] = pd.to_datetime(df['dob'], errors='coerce')\n",
    "\n",
    "# Function to calculate age\n",
    "def calculate_age(birth_date):\n",
    "    if pd.isnull(birth_date):\n",
    "        return None\n",
    "    today = datetime.today()\n",
    "    return today.year - birth_date.year - ((today.month, today.day) < (birth_date.month, birth_date.day))\n",
    "\n",
    "# Apply the function to calculate member age\n",
    "df['member_age'] = df['dob'].apply(calculate_age)\n",
    "\n",
    "# Convert beneficiery_dob column to datetime and calculate beneficiary age similarly\n",
    "df['beneficiery_dob'] = pd.to_datetime(df['beneficiery_dob'], errors='coerce')\n",
    "df['beneficiery_age'] = df['beneficiery_dob'].apply(calculate_age)\n",
    "\n",
    "# Check results\n",
    "print(df[['dob', 'member_age', 'beneficiery_dob', 'beneficiery_age']].head())"
   ]
  },
  {
   "cell_type": "markdown",
   "metadata": {},
   "source": [
    "1.12.1 Display summary statistics for the 'beneficiery_age' column "
   ]
  },
  {
   "cell_type": "code",
   "execution_count": 81,
   "metadata": {},
   "outputs": [
    {
     "data": {
      "text/plain": [
       "count    111951.000000\n",
       "mean         37.973855\n",
       "std          22.104173\n",
       "min        -178.000000\n",
       "25%          24.000000\n",
       "50%          36.000000\n",
       "75%          53.000000\n",
       "max         329.000000\n",
       "Name: beneficiery_age, dtype: float64"
      ]
     },
     "execution_count": 81,
     "metadata": {},
     "output_type": "execute_result"
    }
   ],
   "source": [
    "# Display summary statistics for the 'beneficiery_age' column to understand the age distribution of beneficiaries\n",
    "df.beneficiery_age.describe()"
   ]
  },
  {
   "cell_type": "markdown",
   "metadata": {},
   "source": []
  },
  {
   "cell_type": "markdown",
   "metadata": {},
   "source": [
    "<small>\n",
    "\n",
    "**The min value of -178 and max value of 329 are outliers or potential errors in the dataset, as they aren't realistic ages for a human beneficiary. These will need to be checked and cleaned for accurate analysis.</small>**"
   ]
  },
  {
   "cell_type": "markdown",
   "metadata": {},
   "source": [
    "1.13 Summary of the portfolio distribution:"
   ]
  },
  {
   "cell_type": "code",
   "execution_count": 82,
   "metadata": {},
   "outputs": [
    {
     "data": {
      "text/plain": [
       "Money Market     119710\n",
       "Equity Fund        2014\n",
       "Dollar Fund        1480\n",
       "Balanced Fund      1180\n",
       "Fixed Income       1101\n",
       "Wealth Fund         398\n",
       "MoneyMarket           1\n",
       "Name: portfolio, dtype: int64"
      ]
     },
     "execution_count": 82,
     "metadata": {},
     "output_type": "execute_result"
    }
   ],
   "source": [
    "#display the portfolio allocation \n",
    "df.portfolio.value_counts()"
   ]
  },
  {
   "cell_type": "code",
   "execution_count": 83,
   "metadata": {},
   "outputs": [
    {
     "data": {
      "text/plain": [
       "0"
      ]
     },
     "execution_count": 83,
     "metadata": {},
     "output_type": "execute_result"
    }
   ],
   "source": [
    "#fill with the mode\n",
    "df['portfolio']=df.portfolio.fillna('Money Market')\n",
    "df.portfolio.isna().sum()"
   ]
  },
  {
   "cell_type": "markdown",
   "metadata": {},
   "source": [
    "---\n",
    "\n",
    "1. **Portfolio Mapping:** It defines a dictionary (`portfolio_map`) that standardizes various portfolio names in the `portfolio` column. For instance, entries like \"Money Mrket\" and \"MoneyMarket\" are all mapped to \"Money Market,\" ensuring consistency across the dataset.\n",
    "\n",
    "2. **Replace Portfolio Values:** The `replace` function is then applied to the `portfolio` column, replacing any of the portfolio variations with their standardized labels as defined in the `portfolio_map` dictionary.\n",
    "\n",
    "3. **Create New Column:** The standardized portfolio names are saved in a new column, `portfolio_map`, in the dataframe.\n",
    "\n"
   ]
  },
  {
   "cell_type": "markdown",
   "metadata": {},
   "source": [
    "1.13.1 Clean up the portfolio column"
   ]
  },
  {
   "cell_type": "code",
   "execution_count": 84,
   "metadata": {},
   "outputs": [],
   "source": [
    "#clean up the portfolio column\n",
    "portfolio_map ={\n",
    "    'Money Market':'Money Market','MoneyMarket':'Money Market',\n",
    "    'Equity Fund':'Equity Fund',\n",
    "    'Dollar Fund':'Dollar Fund',\n",
    "    'Balanced Fund':'Balanced Fund',\n",
    "    'Fixed Income':'Fixed Income',\n",
    "    'Wealth Fund':'Wealth Fund',\n",
    "}\n",
    "df['portfolio_map'] = df['portfolio'].replace(portfolio_map)"
   ]
  },
  {
   "cell_type": "code",
   "execution_count": 85,
   "metadata": {},
   "outputs": [
    {
     "data": {
      "text/html": [
       "<div>\n",
       "<style scoped>\n",
       "    .dataframe tbody tr th:only-of-type {\n",
       "        vertical-align: middle;\n",
       "    }\n",
       "\n",
       "    .dataframe tbody tr th {\n",
       "        vertical-align: top;\n",
       "    }\n",
       "\n",
       "    .dataframe thead th {\n",
       "        text-align: right;\n",
       "    }\n",
       "</style>\n",
       "<table border=\"1\" class=\"dataframe\">\n",
       "  <thead>\n",
       "    <tr style=\"text-align: right;\">\n",
       "      <th></th>\n",
       "      <th>member_no</th>\n",
       "      <th>dob</th>\n",
       "      <th>gender</th>\n",
       "      <th>town</th>\n",
       "      <th>relationship</th>\n",
       "      <th>beneficiery_dob</th>\n",
       "      <th>portfolio</th>\n",
       "      <th>gender_mapped</th>\n",
       "      <th>member_age</th>\n",
       "      <th>beneficiery_age</th>\n",
       "      <th>portfolio_map</th>\n",
       "    </tr>\n",
       "  </thead>\n",
       "  <tbody>\n",
       "    <tr>\n",
       "      <th>0</th>\n",
       "      <td>99996</td>\n",
       "      <td>1998-04-06</td>\n",
       "      <td>Female</td>\n",
       "      <td>NAIROBI</td>\n",
       "      <td>partner</td>\n",
       "      <td>1998-01-26</td>\n",
       "      <td>Money Market</td>\n",
       "      <td>Female</td>\n",
       "      <td>26</td>\n",
       "      <td>26.0</td>\n",
       "      <td>Money Market</td>\n",
       "    </tr>\n",
       "    <tr>\n",
       "      <th>14</th>\n",
       "      <td>99996</td>\n",
       "      <td>1998-04-06</td>\n",
       "      <td>Female</td>\n",
       "      <td>NAIROBI</td>\n",
       "      <td>sibling</td>\n",
       "      <td>2001-03-04</td>\n",
       "      <td>Money Market</td>\n",
       "      <td>Female</td>\n",
       "      <td>26</td>\n",
       "      <td>23.0</td>\n",
       "      <td>Money Market</td>\n",
       "    </tr>\n",
       "    <tr>\n",
       "      <th>28</th>\n",
       "      <td>99994</td>\n",
       "      <td>1966-01-01</td>\n",
       "      <td>Female</td>\n",
       "      <td>NaN</td>\n",
       "      <td>partner</td>\n",
       "      <td>1962-01-01</td>\n",
       "      <td>Money Market</td>\n",
       "      <td>Female</td>\n",
       "      <td>58</td>\n",
       "      <td>62.0</td>\n",
       "      <td>Money Market</td>\n",
       "    </tr>\n",
       "    <tr>\n",
       "      <th>40</th>\n",
       "      <td>99993</td>\n",
       "      <td>1974-01-01</td>\n",
       "      <td>Female</td>\n",
       "      <td>NAIROBI</td>\n",
       "      <td>partner</td>\n",
       "      <td>1970-09-29</td>\n",
       "      <td>Money Market</td>\n",
       "      <td>Female</td>\n",
       "      <td>50</td>\n",
       "      <td>54.0</td>\n",
       "      <td>Money Market</td>\n",
       "    </tr>\n",
       "    <tr>\n",
       "      <th>70</th>\n",
       "      <td>99993</td>\n",
       "      <td>1974-01-01</td>\n",
       "      <td>Female</td>\n",
       "      <td>NAIROBI</td>\n",
       "      <td>child</td>\n",
       "      <td>1994-01-01</td>\n",
       "      <td>Money Market</td>\n",
       "      <td>Female</td>\n",
       "      <td>50</td>\n",
       "      <td>30.0</td>\n",
       "      <td>Money Market</td>\n",
       "    </tr>\n",
       "  </tbody>\n",
       "</table>\n",
       "</div>"
      ],
      "text/plain": [
       "    member_no        dob  gender     town relationship beneficiery_dob  \\\n",
       "0       99996 1998-04-06  Female  NAIROBI      partner      1998-01-26   \n",
       "14      99996 1998-04-06  Female  NAIROBI      sibling      2001-03-04   \n",
       "28      99994 1966-01-01  Female      NaN      partner      1962-01-01   \n",
       "40      99993 1974-01-01  Female  NAIROBI      partner      1970-09-29   \n",
       "70      99993 1974-01-01  Female  NAIROBI        child      1994-01-01   \n",
       "\n",
       "       portfolio gender_mapped  member_age  beneficiery_age portfolio_map  \n",
       "0   Money Market        Female          26             26.0  Money Market  \n",
       "14  Money Market        Female          26             23.0  Money Market  \n",
       "28  Money Market        Female          58             62.0  Money Market  \n",
       "40  Money Market        Female          50             54.0  Money Market  \n",
       "70  Money Market        Female          50             30.0  Money Market  "
      ]
     },
     "execution_count": 85,
     "metadata": {},
     "output_type": "execute_result"
    }
   ],
   "source": [
    "#check the new_df\n",
    "df.head()"
   ]
  },
  {
   "cell_type": "markdown",
   "metadata": {},
   "source": [
    "1.14 Inspecting null values in the town column"
   ]
  },
  {
   "cell_type": "code",
   "execution_count": 86,
   "metadata": {},
   "outputs": [
    {
     "data": {
      "text/plain": [
       "15026"
      ]
     },
     "execution_count": 86,
     "metadata": {},
     "output_type": "execute_result"
    }
   ],
   "source": [
    "#inspecting the null values in the town column\n",
    "df.town.isna().sum()"
   ]
  },
  {
   "cell_type": "code",
   "execution_count": 87,
   "metadata": {},
   "outputs": [
    {
     "data": {
      "text/plain": [
       "NAIROBI       56997\n",
       "Nairobi       10261\n",
       "THIKA          3000\n",
       "NAKURU         2608\n",
       "MOMBASA        2440\n",
       "              ...  \n",
       "Naitobi           1\n",
       "MALINDI           1\n",
       "Sagana            1\n",
       "CHESINENDE        1\n",
       "KIMENDE           1\n",
       "Name: town, Length: 973, dtype: int64"
      ]
     },
     "execution_count": 87,
     "metadata": {},
     "output_type": "execute_result"
    }
   ],
   "source": [
    "#inspecting the value_counts in the town column\n",
    "df.town.value_counts()"
   ]
  },
  {
   "cell_type": "code",
   "execution_count": 88,
   "metadata": {},
   "outputs": [
    {
     "data": {
      "text/plain": [
       "0"
      ]
     },
     "execution_count": 88,
     "metadata": {},
     "output_type": "execute_result"
    }
   ],
   "source": [
    "#fill the null values with unknown\n",
    "df['town'] = df.town.fillna('Unknown')\n",
    "df.town.isna().sum()"
   ]
  },
  {
   "cell_type": "code",
   "execution_count": 89,
   "metadata": {},
   "outputs": [
    {
     "data": {
      "text/html": [
       "<div>\n",
       "<style scoped>\n",
       "    .dataframe tbody tr th:only-of-type {\n",
       "        vertical-align: middle;\n",
       "    }\n",
       "\n",
       "    .dataframe tbody tr th {\n",
       "        vertical-align: top;\n",
       "    }\n",
       "\n",
       "    .dataframe thead th {\n",
       "        text-align: right;\n",
       "    }\n",
       "</style>\n",
       "<table border=\"1\" class=\"dataframe\">\n",
       "  <thead>\n",
       "    <tr style=\"text-align: right;\">\n",
       "      <th></th>\n",
       "      <th>member_no</th>\n",
       "      <th>dob</th>\n",
       "      <th>gender</th>\n",
       "      <th>town</th>\n",
       "      <th>relationship</th>\n",
       "      <th>beneficiery_dob</th>\n",
       "      <th>portfolio</th>\n",
       "      <th>gender_mapped</th>\n",
       "      <th>member_age</th>\n",
       "      <th>beneficiery_age</th>\n",
       "      <th>portfolio_map</th>\n",
       "    </tr>\n",
       "  </thead>\n",
       "  <tbody>\n",
       "    <tr>\n",
       "      <th>0</th>\n",
       "      <td>99996</td>\n",
       "      <td>1998-04-06</td>\n",
       "      <td>Female</td>\n",
       "      <td>NAIROBI</td>\n",
       "      <td>partner</td>\n",
       "      <td>1998-01-26</td>\n",
       "      <td>Money Market</td>\n",
       "      <td>Female</td>\n",
       "      <td>26</td>\n",
       "      <td>26.0</td>\n",
       "      <td>Money Market</td>\n",
       "    </tr>\n",
       "    <tr>\n",
       "      <th>14</th>\n",
       "      <td>99996</td>\n",
       "      <td>1998-04-06</td>\n",
       "      <td>Female</td>\n",
       "      <td>NAIROBI</td>\n",
       "      <td>sibling</td>\n",
       "      <td>2001-03-04</td>\n",
       "      <td>Money Market</td>\n",
       "      <td>Female</td>\n",
       "      <td>26</td>\n",
       "      <td>23.0</td>\n",
       "      <td>Money Market</td>\n",
       "    </tr>\n",
       "    <tr>\n",
       "      <th>28</th>\n",
       "      <td>99994</td>\n",
       "      <td>1966-01-01</td>\n",
       "      <td>Female</td>\n",
       "      <td>Unknown</td>\n",
       "      <td>partner</td>\n",
       "      <td>1962-01-01</td>\n",
       "      <td>Money Market</td>\n",
       "      <td>Female</td>\n",
       "      <td>58</td>\n",
       "      <td>62.0</td>\n",
       "      <td>Money Market</td>\n",
       "    </tr>\n",
       "    <tr>\n",
       "      <th>40</th>\n",
       "      <td>99993</td>\n",
       "      <td>1974-01-01</td>\n",
       "      <td>Female</td>\n",
       "      <td>NAIROBI</td>\n",
       "      <td>partner</td>\n",
       "      <td>1970-09-29</td>\n",
       "      <td>Money Market</td>\n",
       "      <td>Female</td>\n",
       "      <td>50</td>\n",
       "      <td>54.0</td>\n",
       "      <td>Money Market</td>\n",
       "    </tr>\n",
       "    <tr>\n",
       "      <th>70</th>\n",
       "      <td>99993</td>\n",
       "      <td>1974-01-01</td>\n",
       "      <td>Female</td>\n",
       "      <td>NAIROBI</td>\n",
       "      <td>child</td>\n",
       "      <td>1994-01-01</td>\n",
       "      <td>Money Market</td>\n",
       "      <td>Female</td>\n",
       "      <td>50</td>\n",
       "      <td>30.0</td>\n",
       "      <td>Money Market</td>\n",
       "    </tr>\n",
       "  </tbody>\n",
       "</table>\n",
       "</div>"
      ],
      "text/plain": [
       "    member_no        dob  gender     town relationship beneficiery_dob  \\\n",
       "0       99996 1998-04-06  Female  NAIROBI      partner      1998-01-26   \n",
       "14      99996 1998-04-06  Female  NAIROBI      sibling      2001-03-04   \n",
       "28      99994 1966-01-01  Female  Unknown      partner      1962-01-01   \n",
       "40      99993 1974-01-01  Female  NAIROBI      partner      1970-09-29   \n",
       "70      99993 1974-01-01  Female  NAIROBI        child      1994-01-01   \n",
       "\n",
       "       portfolio gender_mapped  member_age  beneficiery_age portfolio_map  \n",
       "0   Money Market        Female          26             26.0  Money Market  \n",
       "14  Money Market        Female          26             23.0  Money Market  \n",
       "28  Money Market        Female          58             62.0  Money Market  \n",
       "40  Money Market        Female          50             54.0  Money Market  \n",
       "70  Money Market        Female          50             30.0  Money Market  "
      ]
     },
     "execution_count": 89,
     "metadata": {},
     "output_type": "execute_result"
    }
   ],
   "source": [
    "df.head()"
   ]
  },
  {
   "cell_type": "markdown",
   "metadata": {},
   "source": [
    "1.15 Dropping unnecessary columns after data cleaning"
   ]
  },
  {
   "cell_type": "code",
   "execution_count": 90,
   "metadata": {},
   "outputs": [
    {
     "data": {
      "text/html": [
       "<div>\n",
       "<style scoped>\n",
       "    .dataframe tbody tr th:only-of-type {\n",
       "        vertical-align: middle;\n",
       "    }\n",
       "\n",
       "    .dataframe tbody tr th {\n",
       "        vertical-align: top;\n",
       "    }\n",
       "\n",
       "    .dataframe thead th {\n",
       "        text-align: right;\n",
       "    }\n",
       "</style>\n",
       "<table border=\"1\" class=\"dataframe\">\n",
       "  <thead>\n",
       "    <tr style=\"text-align: right;\">\n",
       "      <th></th>\n",
       "      <th>member_no</th>\n",
       "      <th>town</th>\n",
       "      <th>relationship</th>\n",
       "      <th>gender_mapped</th>\n",
       "      <th>member_age</th>\n",
       "      <th>beneficiery_age</th>\n",
       "      <th>portfolio_map</th>\n",
       "    </tr>\n",
       "  </thead>\n",
       "  <tbody>\n",
       "    <tr>\n",
       "      <th>0</th>\n",
       "      <td>99996</td>\n",
       "      <td>NAIROBI</td>\n",
       "      <td>partner</td>\n",
       "      <td>Female</td>\n",
       "      <td>26</td>\n",
       "      <td>26.0</td>\n",
       "      <td>Money Market</td>\n",
       "    </tr>\n",
       "    <tr>\n",
       "      <th>14</th>\n",
       "      <td>99996</td>\n",
       "      <td>NAIROBI</td>\n",
       "      <td>sibling</td>\n",
       "      <td>Female</td>\n",
       "      <td>26</td>\n",
       "      <td>23.0</td>\n",
       "      <td>Money Market</td>\n",
       "    </tr>\n",
       "    <tr>\n",
       "      <th>28</th>\n",
       "      <td>99994</td>\n",
       "      <td>Unknown</td>\n",
       "      <td>partner</td>\n",
       "      <td>Female</td>\n",
       "      <td>58</td>\n",
       "      <td>62.0</td>\n",
       "      <td>Money Market</td>\n",
       "    </tr>\n",
       "    <tr>\n",
       "      <th>40</th>\n",
       "      <td>99993</td>\n",
       "      <td>NAIROBI</td>\n",
       "      <td>partner</td>\n",
       "      <td>Female</td>\n",
       "      <td>50</td>\n",
       "      <td>54.0</td>\n",
       "      <td>Money Market</td>\n",
       "    </tr>\n",
       "    <tr>\n",
       "      <th>70</th>\n",
       "      <td>99993</td>\n",
       "      <td>NAIROBI</td>\n",
       "      <td>child</td>\n",
       "      <td>Female</td>\n",
       "      <td>50</td>\n",
       "      <td>30.0</td>\n",
       "      <td>Money Market</td>\n",
       "    </tr>\n",
       "  </tbody>\n",
       "</table>\n",
       "</div>"
      ],
      "text/plain": [
       "    member_no     town relationship gender_mapped  member_age  \\\n",
       "0       99996  NAIROBI      partner        Female          26   \n",
       "14      99996  NAIROBI      sibling        Female          26   \n",
       "28      99994  Unknown      partner        Female          58   \n",
       "40      99993  NAIROBI      partner        Female          50   \n",
       "70      99993  NAIROBI        child        Female          50   \n",
       "\n",
       "    beneficiery_age portfolio_map  \n",
       "0              26.0  Money Market  \n",
       "14             23.0  Money Market  \n",
       "28             62.0  Money Market  \n",
       "40             54.0  Money Market  \n",
       "70             30.0  Money Market  "
      ]
     },
     "execution_count": 90,
     "metadata": {},
     "output_type": "execute_result"
    }
   ],
   "source": [
    "# Drop unnecessary columns ('dob', 'gender', 'portfolio', 'beneficiery_dob') from the dataframe\n",
    "new_df=df.drop(columns=['dob','gender','portfolio','beneficiery_dob'])\n",
    "new_df.head()"
   ]
  },
  {
   "cell_type": "markdown",
   "metadata": {},
   "source": [
    "1.16 Setting reosonable age bounds under beneficiary_age column"
   ]
  },
  {
   "cell_type": "code",
   "execution_count": 91,
   "metadata": {},
   "outputs": [],
   "source": [
    "#fill null values with the mode\n",
    "new_df['member_age'].fillna(new_df['member_age'].mode()[0], inplace=True)\n",
    "new_df['beneficiery_age'].fillna(new_df['beneficiery_age'].mode()[0], inplace=True)"
   ]
  },
  {
   "cell_type": "code",
   "execution_count": 92,
   "metadata": {},
   "outputs": [],
   "source": [
    "# Set reasonable age bounds\n",
    "lower_bound = 0\n",
    "upper_bound = 100\n",
    "\n",
    "# Create a copy of original ages for comparison if needed\n",
    "original_ages = new_df['beneficiery_age'].copy()\n",
    "\n",
    "# Replace outliers by clipping to bounds\n",
    "new_df['beneficiery_age'] = new_df['beneficiery_age'].clip(lower=lower_bound, upper=upper_bound)"
   ]
  },
  {
   "cell_type": "markdown",
   "metadata": {},
   "source": [
    "## 2. DATA VISUALIZATION"
   ]
  },
  {
   "cell_type": "markdown",
   "metadata": {},
   "source": [
    "2.1 Visualization of Average Age of Members Across Diverse Portfolios"
   ]
  },
  {
   "cell_type": "code",
   "execution_count": 93,
   "metadata": {},
   "outputs": [
    {
     "data": {
      "image/png": "[encoded data removed]",
      "text/plain": [
       "<Figure size 720x432 with 1 Axes>"
      ]
     },
     "metadata": {
      "needs_background": "light"
     },
     "output_type": "display_data"
    }
   ],
   "source": [
    "average_age = new_df.groupby('portfolio_map')['member_age'].mean().reset_index()\n",
    "\n",
    "plt.figure(figsize=(10, 6))\n",
    "sns.barplot(x='portfolio_map', y='member_age', data=average_age)\n",
    "plt.title('Average Age by Portfolio Map')\n",
    "plt.xlabel('Portfolio Map')\n",
    "plt.ylabel('Average Age')\n",
    "plt.show()\n"
   ]
  },
  {
   "cell_type": "markdown",
   "metadata": {},
   "source": [
    "The output is a bar plot showing the average age for each portfolio type.\n",
    "Each bar represents the average age of members who belong to that specific portfolio, allowing you to quickly compare the average ages across different portfolio categories.\n",
    "The resulting plot gives insights into the age distribution for each portfolio, highlighting which portfolios are associated with older or younger members."
   ]
  },
  {
   "cell_type": "code",
   "execution_count": 94,
   "metadata": {},
   "outputs": [
    {
     "data": {
      "text/plain": [
       "Index(['member_no', 'town', 'relationship', 'gender_mapped', 'member_age',\n",
       "       'beneficiery_age', 'portfolio_map'],\n",
       "      dtype='object')"
      ]
     },
     "execution_count": 94,
     "metadata": {},
     "output_type": "execute_result"
    }
   ],
   "source": [
    "#check columns\n",
    "new_df.columns"
   ]
  },
  {
   "cell_type": "code",
   "execution_count": 95,
   "metadata": {},
   "outputs": [],
   "source": [
    "#convert the cleaned data to csv\n",
    "new_df.to_csv('cleaned_data.csv', index=False)"
   ]
  },
  {
   "cell_type": "code",
   "execution_count": 96,
   "metadata": {},
   "outputs": [
    {
     "name": "stdout",
     "output_type": "stream",
     "text": [
      "<class 'pandas.core.frame.DataFrame'>\n",
      "Int64Index: 125888 entries, 0 to 7532842\n",
      "Data columns (total 7 columns):\n",
      " #   Column           Non-Null Count   Dtype  \n",
      "---  ------           --------------   -----  \n",
      " 0   member_no        125888 non-null  int64  \n",
      " 1   town             125888 non-null  object \n",
      " 2   relationship     125888 non-null  object \n",
      " 3   gender_mapped    125888 non-null  object \n",
      " 4   member_age       125888 non-null  int64  \n",
      " 5   beneficiery_age  125888 non-null  float64\n",
      " 6   portfolio_map    125888 non-null  object \n",
      "dtypes: float64(1), int64(2), object(4)\n",
      "memory usage: 7.7+ MB\n"
     ]
    }
   ],
   "source": [
    "#inspecting the preprocessed dataframe\n",
    "new_df.info()"
   ]
  },
  {
   "cell_type": "markdown",
   "metadata": {},
   "source": [
    "2.2 Comparison of gender distribution"
   ]
  },
  {
   "cell_type": "code",
   "execution_count": 97,
   "metadata": {},
   "outputs": [
    {
     "data": {
      "image/png": "[encoded data removed]",
      "text/plain": [
       "<Figure size 576x432 with 1 Axes>"
      ]
     },
     "metadata": {
      "needs_background": "light"
     },
     "output_type": "display_data"
    }
   ],
   "source": [
    "\n",
    "plt.figure(figsize=(8, 6))\n",
    "sns.countplot(data=new_df, x='gender_mapped', hue='gender_mapped', palette='viridis', dodge=False, legend=False)\n",
    "plt.title('Male vs Female Count in Gender Mapped')\n",
    "plt.xlabel('Gender')\n",
    "plt.ylabel('Count')\n",
    "plt.show()\n"
   ]
  },
  {
   "cell_type": "markdown",
   "metadata": {},
   "source": [
    "<small>\n",
    "\n",
    "This plot gives a clear visual comparison of how many male and female entries are present in the dataset after the gender mapping process.\n",
    "The resulting plot allows for an easy comparison of the number of male versus female entries in the dataset, making it visually straightforward to assess gender distribution.</small>"
   ]
  },
  {
   "cell_type": "markdown",
   "metadata": {},
   "source": [
    "2.3 Distribution of Members Across Different Portfolio Types"
   ]
  },
  {
   "cell_type": "code",
   "execution_count": 98,
   "metadata": {},
   "outputs": [
    {
     "data": {
      "image/png": "[encoded data removed]",
      "text/plain": [
       "<Figure size 720x432 with 1 Axes>"
      ]
     },
     "metadata": {
      "needs_background": "light"
     },
     "output_type": "display_data"
    }
   ],
   "source": [
    "plt.figure(figsize=(10, 6))\n",
    "sns.countplot(data=new_df, x='gender_mapped', hue='portfolio_map', palette='viridis')\n",
    "plt.title('Gender vs Portfolio Map')\n",
    "plt.xlabel('Gender')\n",
    "plt.ylabel('Count')\n",
    "plt.legend(title='Portfolio Map')\n",
    "plt.show()"
   ]
  },
  {
   "cell_type": "markdown",
   "metadata": {},
   "source": [
    "<small>\n",
    "\n",
    "This plot provides a clear visual comparison of how genders are distributed across different portfolio categories, helping to understand the intersection of gender and portfolio preferences. It allows you to see if certain portfolio types are more favored by one gender over the other or if the distribution is relatively balanced.</small>"
   ]
  },
  {
   "cell_type": "markdown",
   "metadata": {},
   "source": [
    "2.4 Distribution of Members age groups"
   ]
  },
  {
   "cell_type": "code",
   "execution_count": 102,
   "metadata": {},
   "outputs": [
    {
     "data": {
      "image/png": "[encoded data removed]",
      "text/plain": [
       "<Figure size 720x720 with 1 Axes>"
      ]
     },
     "metadata": {},
     "output_type": "display_data"
    }
   ],
   "source": [
    "age_bins = [0, 18, 30, 45, 60, 100]\n",
    "age_labels = ['0-18', '19-30', '31-45', '46-60', '60+']\n",
    "new_df['age_group'] = pd.cut(new_df['member_age'], bins=age_bins, labels=age_labels)\n",
    "age_counts = new_df['age_group'].value_counts().sort_index()\n",
    "plt.figure(figsize=(10, 10))\n",
    "plt.pie(age_counts, labels=age_counts.index, autopct='%1.1f%%', startangle=140, colors=sns.color_palette('viridis'))\n",
    "plt.title('Members Age Groups Distribution')\n",
    "plt.show()"
   ]
  },
  {
   "cell_type": "markdown",
   "metadata": {},
   "source": [
    "<small>\n",
    "\n",
    "Each segment of the pie chart represents one of these age groups.\n",
    "The size of each segment corresponds to the percentage of members that fall into each age group.\n",
    "The color palette viridis provides visually distinguishable colors for each segment.\n",
    "The autopct option displays the percentage of total members in each age group directly on the chart, making it easy to compare the distribution across groups.\n",
    "This pie chart provides a clear visual of the age distribution among the members, helping to identify which age groups are the most and least represented in the dataset.</small>"
   ]
  },
  {
   "cell_type": "markdown",
   "metadata": {},
   "source": [
    "2.5 Overview of top 10 towns in the dataset"
   ]
  },
  {
   "cell_type": "code",
   "execution_count": 133,
   "metadata": {},
   "outputs": [
    {
     "data": {
      "image/png": "[encoded data removed]",
      "text/plain": [
       "<Figure size 720x432 with 1 Axes>"
      ]
     },
     "metadata": {
      "needs_background": "light"
     },
     "output_type": "display_data"
    }
   ],
   "source": [
    "top_10_towns = new_df['town'].value_counts().head(10)\n",
    "plt.figure(figsize=(10, 6))\n",
    "sns.barplot(x=top_10_towns.values, y=top_10_towns.index, palette='viridis', hue=top_10_towns.index, dodge=False, legend=False)\n",
    "plt.title('Top 10 Towns')\n",
    "plt.xlabel('Count')\n",
    "plt.ylabel('Town')\n",
    "plt.show()\n"
   ]
  },
  {
   "cell_type": "markdown",
   "metadata": {},
   "source": [
    "overview of the most common towns in the dataset, highlighting their relative frequencies."
   ]
  },
  {
   "cell_type": "markdown",
   "metadata": {},
   "source": [
    "## 3. MODELING"
   ]
  },
  {
   "cell_type": "code",
   "execution_count": 104,
   "metadata": {},
   "outputs": [
    {
     "name": "stdout",
     "output_type": "stream",
     "text": [
      "<class 'pandas.core.frame.DataFrame'>\n",
      "Int64Index: 125888 entries, 0 to 7532842\n",
      "Data columns (total 8 columns):\n",
      " #   Column           Non-Null Count   Dtype   \n",
      "---  ------           --------------   -----   \n",
      " 0   member_no        125888 non-null  int64   \n",
      " 1   town             125888 non-null  object  \n",
      " 2   relationship     125888 non-null  object  \n",
      " 3   gender_mapped    125888 non-null  object  \n",
      " 4   member_age       125888 non-null  int64   \n",
      " 5   beneficiery_age  125888 non-null  float64 \n",
      " 6   portfolio_map    125888 non-null  object  \n",
      " 7   age_group        125808 non-null  category\n",
      "dtypes: category(1), float64(1), int64(2), object(4)\n",
      "memory usage: 12.8+ MB\n"
     ]
    }
   ],
   "source": [
    "#inspect the new_df\n",
    "new_df.info()"
   ]
  },
  {
   "cell_type": "code",
   "execution_count": 105,
   "metadata": {},
   "outputs": [
    {
     "data": {
      "text/html": [
       "<div>\n",
       "<style scoped>\n",
       "    .dataframe tbody tr th:only-of-type {\n",
       "        vertical-align: middle;\n",
       "    }\n",
       "\n",
       "    .dataframe tbody tr th {\n",
       "        vertical-align: top;\n",
       "    }\n",
       "\n",
       "    .dataframe thead th {\n",
       "        text-align: right;\n",
       "    }\n",
       "</style>\n",
       "<table border=\"1\" class=\"dataframe\">\n",
       "  <thead>\n",
       "    <tr style=\"text-align: right;\">\n",
       "      <th></th>\n",
       "      <th>member_no</th>\n",
       "      <th>town</th>\n",
       "      <th>relationship</th>\n",
       "      <th>gender_mapped</th>\n",
       "      <th>member_age</th>\n",
       "      <th>beneficiery_age</th>\n",
       "      <th>portfolio_map</th>\n",
       "      <th>age_group</th>\n",
       "    </tr>\n",
       "  </thead>\n",
       "  <tbody>\n",
       "    <tr>\n",
       "      <th>0</th>\n",
       "      <td>99996</td>\n",
       "      <td>NAIROBI</td>\n",
       "      <td>partner</td>\n",
       "      <td>Female</td>\n",
       "      <td>26</td>\n",
       "      <td>26.0</td>\n",
       "      <td>Money Market</td>\n",
       "      <td>19-30</td>\n",
       "    </tr>\n",
       "    <tr>\n",
       "      <th>14</th>\n",
       "      <td>99996</td>\n",
       "      <td>NAIROBI</td>\n",
       "      <td>sibling</td>\n",
       "      <td>Female</td>\n",
       "      <td>26</td>\n",
       "      <td>23.0</td>\n",
       "      <td>Money Market</td>\n",
       "      <td>19-30</td>\n",
       "    </tr>\n",
       "    <tr>\n",
       "      <th>28</th>\n",
       "      <td>99994</td>\n",
       "      <td>Unknown</td>\n",
       "      <td>partner</td>\n",
       "      <td>Female</td>\n",
       "      <td>58</td>\n",
       "      <td>62.0</td>\n",
       "      <td>Money Market</td>\n",
       "      <td>46-60</td>\n",
       "    </tr>\n",
       "    <tr>\n",
       "      <th>40</th>\n",
       "      <td>99993</td>\n",
       "      <td>NAIROBI</td>\n",
       "      <td>partner</td>\n",
       "      <td>Female</td>\n",
       "      <td>50</td>\n",
       "      <td>54.0</td>\n",
       "      <td>Money Market</td>\n",
       "      <td>46-60</td>\n",
       "    </tr>\n",
       "    <tr>\n",
       "      <th>70</th>\n",
       "      <td>99993</td>\n",
       "      <td>NAIROBI</td>\n",
       "      <td>child</td>\n",
       "      <td>Female</td>\n",
       "      <td>50</td>\n",
       "      <td>30.0</td>\n",
       "      <td>Money Market</td>\n",
       "      <td>46-60</td>\n",
       "    </tr>\n",
       "  </tbody>\n",
       "</table>\n",
       "</div>"
      ],
      "text/plain": [
       "    member_no     town relationship gender_mapped  member_age  \\\n",
       "0       99996  NAIROBI      partner        Female          26   \n",
       "14      99996  NAIROBI      sibling        Female          26   \n",
       "28      99994  Unknown      partner        Female          58   \n",
       "40      99993  NAIROBI      partner        Female          50   \n",
       "70      99993  NAIROBI        child        Female          50   \n",
       "\n",
       "    beneficiery_age portfolio_map age_group  \n",
       "0              26.0  Money Market     19-30  \n",
       "14             23.0  Money Market     19-30  \n",
       "28             62.0  Money Market     46-60  \n",
       "40             54.0  Money Market     46-60  \n",
       "70             30.0  Money Market     46-60  "
      ]
     },
     "execution_count": 105,
     "metadata": {},
     "output_type": "execute_result"
    }
   ],
   "source": [
    "#check the first entries in the dataframe\n",
    "new_df.head()"
   ]
  },
  {
   "cell_type": "code",
   "execution_count": 106,
   "metadata": {},
   "outputs": [
    {
     "name": "stderr",
     "output_type": "stream",
     "text": [
      "<ipython-input-106-c464198fbbef>:5: SettingWithCopyWarning: \n",
      "A value is trying to be set on a copy of a slice from a DataFrame.\n",
      "Try using .loc[row_indexer,col_indexer] = value instead\n",
      "\n",
      "See the caveats in the documentation: https://pandas.pydata.org/pandas-docs/stable/user_guide/indexing.html#returning-a-view-versus-a-copy\n",
      "  X['features'] = X.astype(str).sum(axis=1)\n"
     ]
    }
   ],
   "source": [
    "\n",
    "# Create a feature matrix combining the relevant columns\n",
    "X = new_df[['member_age', 'beneficiery_age', 'age_group', 'gender_mapped']]\n",
    "\n",
    "# Convert the feature columns to a single string for each row\n",
    "X['features'] = X.astype(str).sum(axis=1)\n",
    "\n",
    "# Create a TF-IDF matrix from the features\n",
    "tfidf = TfidfVectorizer(max_features=1000)\n",
    "X_tfidf = tfidf.fit_transform(X['features'])\n",
    "\n",
    "# Split the data into training and test sets\n",
    "X_train, X_test, y_train, y_test = train_test_split(X_tfidf, new_df['portfolio_map'], test_size=0.2, random_state=42)\n",
    "\n",
    "\n"
   ]
  },
  {
   "cell_type": "markdown",
   "metadata": {},
   "source": [
    " 3.1 K-Nearest Neighbors with Euclidean Distance"
   ]
  },
  {
   "cell_type": "code",
   "execution_count": 107,
   "metadata": {},
   "outputs": [
    {
     "data": {
      "text/plain": [
       "NearestNeighbors(algorithm='brute', metric='cosine')"
      ]
     },
     "execution_count": 107,
     "metadata": {},
     "output_type": "execute_result"
    }
   ],
   "source": [
    "# Train the Nearest Neighbors model\n",
    "model = NearestNeighbors(metric='cosine', algorithm='brute')\n",
    "model.fit(X_train)\n",
    "\n"
   ]
  },
  {
   "cell_type": "code",
   "execution_count": 108,
   "metadata": {},
   "outputs": [],
   "source": [
    "def get_recommendations(member_features, n=5):\n",
    "    # Get distances and indices of the nearest neighbors\n",
    "    distances, indices = model.kneighbors(member_features, n_neighbors=n+1)\n",
    "    \n",
    "    # Retrieve the original portfolio information from `new_df` using indices\n",
    "    # Exclude the first column of `indices` since it's the item itself\n",
    "    recommended_portfolios = new_df.iloc[indices[0, 1:]]['portfolio_map'].tolist()\n",
    "    \n",
    "    return recommended_portfolios"
   ]
  },
  {
   "cell_type": "code",
   "execution_count": 109,
   "metadata": {},
   "outputs": [
    {
     "name": "stdout",
     "output_type": "stream",
     "text": [
      "Accuracy: 0.79\n"
     ]
    }
   ],
   "source": [
    "\n",
    "# Make predictions on the test set\n",
    "y_pred = []\n",
    "for i in range(X_test.shape[0]):\n",
    "    member = X_test[i].toarray()\n",
    "    recommendations = get_recommendations(member.reshape(1, -1), n=1)\n",
    "    y_pred.append(recommendations[0])  # Get the top recommendation\n",
    "\n",
    "# Calculate accuracy by comparing the predicted product to the actual product\n",
    "accuracy = accuracy_score(y_test, y_pred)\n",
    "\n",
    "print(f\"Accuracy: {accuracy:.2f}\")\n"
   ]
  },
  {
   "cell_type": "markdown",
   "metadata": {},
   "source": [
    "3.2.Random Forest Classifier"
   ]
  },
  {
   "cell_type": "code",
   "execution_count": 110,
   "metadata": {},
   "outputs": [
    {
     "name": "stdout",
     "output_type": "stream",
     "text": [
      "Accuracy with Random Forest: 0.95\n"
     ]
    }
   ],
   "source": [
    "from sklearn.ensemble import RandomForestClassifier\n",
    "from sklearn.metrics import accuracy_score\n",
    "\n",
    "# Train the Random Forest model\n",
    "rf_model = RandomForestClassifier(n_estimators=100, random_state=42)\n",
    "rf_model.fit(X_train, y_train)\n",
    "\n",
    "# Make predictions on the test set\n",
    "y_pred_rf = rf_model.predict(X_test)\n",
    "\n",
    "# Calculate accuracy\n",
    "accuracy_rf = accuracy_score(y_test, y_pred_rf)\n",
    "print(f\"Accuracy with Random Forest: {accuracy_rf:.2f}\")"
   ]
  },
  {
   "cell_type": "markdown",
   "metadata": {},
   "source": [
    "3.4  XGBoost Classifier\n"
   ]
  },
  {
   "cell_type": "code",
   "execution_count": 111,
   "metadata": {},
   "outputs": [
    {
     "name": "stdout",
     "output_type": "stream",
     "text": [
      "Accuracy with XGBoost: 0.95\n"
     ]
    }
   ],
   "source": [
    "import xgboost as xgb\n",
    "from sklearn.metrics import accuracy_score\n",
    "\n",
    "# Train the XGBoost model\n",
    "xgb_model = xgb.XGBClassifier(random_state=42)\n",
    "xgb_model.fit(X_train, y_train)\n",
    "\n",
    "# Make predictions on the test set\n",
    "y_pred_xgb = xgb_model.predict(X_test)\n",
    "\n",
    "# Calculate accuracy\n",
    "accuracy_xgb = accuracy_score(y_test, y_pred_xgb)\n",
    "print(f\"Accuracy with XGBoost: {accuracy_xgb:.2f}\")\n"
   ]
  },
  {
   "cell_type": "markdown",
   "metadata": {},
   "source": [
    "3.5 Gradient Boosting Classifier"
   ]
  },
  {
   "cell_type": "code",
   "execution_count": 112,
   "metadata": {},
   "outputs": [
    {
     "name": "stdout",
     "output_type": "stream",
     "text": [
      "Accuracy with Gradient Boosting: 0.95\n"
     ]
    }
   ],
   "source": [
    "from sklearn.ensemble import GradientBoostingClassifier\n",
    "from sklearn.metrics import accuracy_score\n",
    "\n",
    "# Train the Gradient Boosting model\n",
    "gb_model = GradientBoostingClassifier(n_estimators=100, random_state=42)\n",
    "gb_model.fit(X_train, y_train)\n",
    "\n",
    "# Make predictions on the test set\n",
    "y_pred_gb = gb_model.predict(X_test)\n",
    "\n",
    "# Calculate accuracy\n",
    "accuracy_gb = accuracy_score(y_test, y_pred_gb)\n",
    "print(f\"Accuracy with Gradient Boosting: {accuracy_gb:.2f}\")\n"
   ]
  },
  {
   "cell_type": "markdown",
   "metadata": {},
   "source": [
    "## 4.RULE BASED ADDED"
   ]
  },
  {
   "cell_type": "markdown",
   "metadata": {},
   "source": [
    "4.1  Generating Product Recommendations Based on Member Features and Behavior"
   ]
  },
  {
   "cell_type": "code",
   "execution_count": 113,
   "metadata": {},
   "outputs": [],
   "source": [
    "def get_recommendations(member_features, member_no, n=5):\n",
    "    # Fetch member's details\n",
    "    member_row = new_df.loc[new_df['member_no'] == member_no].iloc[0]\n",
    "    member_beneficiary_age = member_row['beneficiery_age']\n",
    "    member_age_group = member_row['age_group']\n",
    "    member_town = member_row['town']\n",
    "    member_gender = member_row['gender_mapped']\n",
    "    member_current_products = set(new_df.loc[new_df['member_no'] == member_no, 'portfolio_map'].values)\n",
    "    \n",
    "    recommended_products = []\n",
    "\n",
    "    # Rule 1: Recommend based on beneficiary age (Student and Junior Accounts)\n",
    "    #if 18 <= member_beneficiary_age <= 25:\n",
    "    if  member_beneficiary_age >= 18 and  member_beneficiary_age <= 25:\n",
    "        recommended_products.append(\"Student Account\")\n",
    "    elif member_beneficiary_age < 18:\n",
    "        recommended_products.append(\"Junior Account\")\n",
    "\n",
    "    # Rule 2: Recommend popular products within the same age group\n",
    "    age_group_products = (\n",
    "        new_df[new_df['age_group'] == member_age_group]\n",
    "        .portfolio_map.value_counts()\n",
    "        .index\n",
    "        .tolist()\n",
    "    )\n",
    "    for product in age_group_products:\n",
    "        if product not in member_current_products and product not in recommended_products:\n",
    "            recommended_products.append(product)\n",
    "        if len(recommended_products) >= n:\n",
    "            return recommended_products[:n]\n",
    "\n",
    "    # Rule 3: Recommend popular products in the same town\n",
    "    town_products = (\n",
    "        new_df[new_df['town'] == member_town]\n",
    "        .portfolio_map.value_counts()\n",
    "        .index\n",
    "        .tolist()\n",
    "    )\n",
    "    for product in town_products:\n",
    "        if product not in member_current_products and product not in recommended_products:\n",
    "            recommended_products.append(product)\n",
    "        if len(recommended_products) >= n:\n",
    "            return recommended_products[:n]\n",
    "        \n",
    "    gender_products = (\n",
    "        new_df[new_df['gender_mapped']== member_gender]\n",
    "        .portfolio_map.value_counts()\n",
    "        .index\n",
    "        .tolist()\n",
    "    )\n",
    "    for product in gender_products:\n",
    "        if product not in member_current_products and product not in recommended_products:\n",
    "            recommended_products.append(product)\n",
    "        if len(recommended_products) >= n:\n",
    "            return recommended_products[:n]\n",
    "\n",
    "    # Collaborative Filtering for Additional Recommendations\n",
    "    distances, indices = model.kneighbors(member_features, n_neighbors=n + len(recommended_products))\n",
    "    for index in indices[0]:\n",
    "        product = new_df.iloc[index]['portfolio_map']\n",
    "        if product not in member_current_products and product not in recommended_products:\n",
    "            recommended_products.append(product)\n",
    "        if len(recommended_products) >= n:\n",
    "            break\n",
    "\n",
    "    return recommended_products[:n]\n"
   ]
  },
  {
   "cell_type": "code",
   "execution_count": 114,
   "metadata": {},
   "outputs": [
    {
     "data": {
      "text/plain": [
       "Index(['member_no', 'town', 'relationship', 'gender_mapped', 'member_age',\n",
       "       'beneficiery_age', 'portfolio_map', 'age_group'],\n",
       "      dtype='object')"
      ]
     },
     "execution_count": 114,
     "metadata": {},
     "output_type": "execute_result"
    }
   ],
   "source": [
    "new_df.columns"
   ]
  },
  {
   "cell_type": "markdown",
   "metadata": {},
   "source": [
    "4.1.1 Testing Product Recommendations for a Sample Member"
   ]
  },
  {
   "cell_type": "code",
   "execution_count": 115,
   "metadata": {},
   "outputs": [
    {
     "name": "stdout",
     "output_type": "stream",
     "text": [
      "Recommendations for sample member profile:\n",
      "['Fixed Income', 'Equity Fund', 'Dollar Fund']\n"
     ]
    }
   ],
   "source": [
    "# Test the recommendations for a sample member\n",
    "sample_index = 0  # Adjust the sample index for testing\n",
    "sample_member = X_test[sample_index].toarray()\n",
    "sample_member_id = new_df.iloc[sample_index]['member_no']  # Ensure 'member_id' is in new_df\n",
    "\n",
    "# Get recommendations for the sample member\n",
    "recommendations = get_recommendations(sample_member.reshape(1, -1), sample_member_id, n=3)\n",
    "\n",
    "# Display the results\n",
    "print(\"Recommendations for sample member profile:\")\n",
    "print(recommendations)"
   ]
  },
  {
   "cell_type": "markdown",
   "metadata": {},
   "source": [
    "4.1.2 Evaluating Product Recommendations for a Specific Member"
   ]
  },
  {
   "cell_type": "code",
   "execution_count": 116,
   "metadata": {},
   "outputs": [
    {
     "name": "stdout",
     "output_type": "stream",
     "text": [
      "Recommendations for sample member profile:\n",
      "['Equity Fund', 'Dollar Fund', 'Fixed Income']\n"
     ]
    }
   ],
   "source": [
    "# Test the recommendations for a sample member\n",
    "sample_index = 20\n",
    "sample_member = X_test[sample_index].toarray()\n",
    "sample_member_id = new_df.iloc[sample_index]['member_no']  \n",
    "\n",
    "# Get recommendations for the sample member\n",
    "recommendations = get_recommendations(sample_member.reshape(1, -1), sample_member_id, n=3)\n",
    "\n",
    "# Display the results\n",
    "print(\"Recommendations for sample member profile:\")\n",
    "print(recommendations)"
   ]
  },
  {
   "cell_type": "markdown",
   "metadata": {},
   "source": [
    "4.1.3 Function to Provide Product Recommendations with Personalized Messages"
   ]
  },
  {
   "cell_type": "code",
   "execution_count": 117,
   "metadata": {},
   "outputs": [],
   "source": [
    "def get_recommendations_with_messages(member_features, member_no, n=5):\n",
    "    # Fetch member's details\n",
    "    member_row = new_df.loc[new_df['member_no'] == member_no].iloc[0]\n",
    "    member_beneficiary_age = member_row['beneficiery_age']\n",
    "    member_age_group = member_row['age_group']\n",
    "    member_town = member_row['town']\n",
    "    member_gender = member_row['gender_mapped']\n",
    "    member_current_products = set(new_df.loc[new_df['member_no'] == member_no, 'portfolio_map'].values)\n",
    "    \n",
    "    recommended_products = []\n",
    "    messages = []\n",
    "\n",
    "    # Rule 1: Recommend based on beneficiary age (Student and Junior Accounts)\n",
    "    age_recommendations = []\n",
    "    if  member_beneficiary_age >= 18 and  member_beneficiary_age <= 25:\n",
    "        age_recommendations.append(\"Student Account\")\n",
    "        messages.append(\n",
    "            f\"Planning for your child's future? Our Student Account is perfect for young adults aged 18-25. \"\n",
    "            f\"Start securing their educational journey today!\"\n",
    "        )\n",
    "    elif  member_beneficiary_age < 18:\n",
    "        age_recommendations.append(\"Junior Account\")\n",
    "        messages.append(\n",
    "            f\"Give your child a head start with our Junior Account! It's specially designed for children under 18 \"\n",
    "            f\"to help them develop good financial habits early.\"\n",
    "        )\n",
    "    recommended_products.extend(age_recommendations)\n",
    "\n",
    "    # Rule 2: Recommend popular products within the same age group\n",
    "    age_group_recommendations = []\n",
    "    age_group_products = (\n",
    "        new_df[new_df['age_group'] == member_age_group]\n",
    "        .portfolio_map.value_counts()\n",
    "        .index\n",
    "        .tolist()\n",
    "    )\n",
    "    for product in age_group_products:\n",
    "        if product not in member_current_products and product not in recommended_products:\n",
    "            age_group_recommendations.append(product)\n",
    "        if len(recommended_products) + len(age_group_recommendations) >= n:\n",
    "            break\n",
    "    \n",
    "    if age_group_recommendations:\n",
    "        messages.append(\n",
    "            f\"Members in your age group are enjoying these popular products: {', '.join(age_group_recommendations)}. \"\n",
    "            f\"Join them in making smart financial choices!\"\n",
    "        )\n",
    "    recommended_products.extend(age_group_recommendations)\n",
    "\n",
    "    # Rule 3: Recommend popular products in the same town\n",
    "    location_recommendations = []\n",
    "    town_products = (\n",
    "        new_df[new_df['town'] == member_town]\n",
    "        .portfolio_map.value_counts()\n",
    "        .index\n",
    "        .tolist()\n",
    "    )\n",
    "    for product in town_products:\n",
    "        if product not in member_current_products and product not in recommended_products:\n",
    "            location_recommendations.append(product)\n",
    "        if len(recommended_products) + len(location_recommendations) >= n:\n",
    "            break\n",
    "    \n",
    "    if location_recommendations:\n",
    "        messages.append(\n",
    "            f\"Trending in {member_town}! Your neighbors are choosing {', '.join(location_recommendations)}. \"\n",
    "            f\"Discover why these products are popular in your community!\"\n",
    "        )\n",
    "    recommended_products.extend(location_recommendations)\n",
    "\n",
    "    # Rule 4: Gender-based recommendations\n",
    "    gender_recommendations = []\n",
    "    gender_products = (\n",
    "        new_df[new_df['gender_mapped'] == member_gender]\n",
    "        .portfolio_map.value_counts()\n",
    "        .index\n",
    "        .tolist()\n",
    "    )\n",
    "    for product in gender_products:\n",
    "        if product not in member_current_products and product not in recommended_products:\n",
    "            gender_recommendations.append(product)\n",
    "        if len(recommended_products) + len(gender_recommendations) >= n:\n",
    "            break\n",
    "    \n",
    "    if gender_recommendations:\n",
    "        gender_message = (\n",
    "            \"Specially curated for you! \" if member_gender == 'Female' else\n",
    "            \"Join other members like you! \"\n",
    "        )\n",
    "        messages.append(\n",
    "            f\"{gender_message}Discover {', '.join(gender_recommendations)} - \"\n",
    "            f\"products that match your financial goals.\"\n",
    "        )\n",
    "    recommended_products.extend(gender_recommendations)\n",
    "    # Collaborative Filtering for Additional Recommendations\n",
    "    if len(recommended_products) < n:\n",
    "        collab_recommendations = []\n",
    "        distances, indices = model.kneighbors(member_features, n_neighbors=n + len(recommended_products))\n",
    "        for index in indices[0]:\n",
    "            product = new_df.iloc[index]['portfolio_map']\n",
    "            if product not in member_current_products and product not in recommended_products:\n",
    "                collab_recommendations.append(product)\n",
    "            if len(recommended_products) + len(collab_recommendations) >= n:\n",
    "                break\n",
    "        \n",
    "        if collab_recommendations:\n",
    "            messages.append(\n",
    "                f\"Based on your profile, we think you'll love {', '.join(collab_recommendations)}. \"\n",
    "                f\"These products align perfectly with your financial journey!\"\n",
    "            )\n",
    "        recommended_products.extend(collab_recommendations)\n",
    "\n",
    "    # Final personalized message\n",
    "    if len(recommended_products) > 0:\n",
    "        messages.append(\n",
    "            f\"💡 Pro tip: Adding {', '.join(recommended_products[:n])} to your portfolio \"\n",
    "            f\"could help you achieve your financial goals faster!\"\n",
    "        )\n",
    "\n",
    "    return recommended_products[:n], messages"
   ]
  },
  {
   "cell_type": "code",
   "execution_count": 118,
   "metadata": {},
   "outputs": [
    {
     "name": "stdout",
     "output_type": "stream",
     "text": [
      "\n",
      "🏦 Member Profile Analysis\n",
      "--------------------------------------------------\n",
      "Member ID: 96336\n",
      "Age Group: 31-45\n",
      "Town: Unknown\n",
      "Gender: Female\n",
      "Beneficiary Age: 64.0\n",
      "\n",
      "📊 Recommended Products\n",
      "--------------------------------------------------\n",
      "1. Equity Fund\n",
      "2. Dollar Fund\n",
      "3. Fixed Income\n",
      "\n",
      "💌 Personalized Messages\n",
      "--------------------------------------------------\n",
      "Message 1:\n",
      "Members in your age group are enjoying these popular products: Equity Fund, Dollar Fund, Fixed Income. Join them in making smart financial choices!\n",
      "\n",
      "Message 2:\n",
      "💡 Pro tip: Adding Equity Fund, Dollar Fund, Fixed Income to your portfolio could help you achieve your financial goals faster!\n",
      "\n",
      "\n",
      "📝 Current Portfolio\n",
      "--------------------------------------------------\n",
      "• Money Market\n"
     ]
    }
   ],
   "source": [
    "# Test the recommendations for a sample member\n",
    "sample_index = 3464  # Adjust the sample index for testing\n",
    "sample_member = X_test[sample_index].toarray()\n",
    "sample_member_id = new_df.iloc[sample_index]['member_no']  # Ensure 'member_id' is in new_df\n",
    "\n",
    "# Get recommendations and messages for the sample member\n",
    "recommendations, messages = get_recommendations_with_messages(sample_member.reshape(1, -1), sample_member_id, n=3)\n",
    "\n",
    "# Display the results\n",
    "print(\"\\n🏦 Member Profile Analysis\")\n",
    "print(\"-\" * 50)\n",
    "print(f\"Member ID: {sample_member_id}\")\n",
    "member_details = new_df.loc[new_df['member_no'] == sample_member_id].iloc[0]\n",
    "print(f\"Age Group: {member_details['age_group']}\")\n",
    "print(f\"Town: {member_details['town']}\")\n",
    "print(f\"Gender: {member_details['gender_mapped']}\")\n",
    "if not pd.isna(member_details['beneficiery_age']):\n",
    "    print(f\"Beneficiary Age: {member_details['beneficiery_age']}\")\n",
    "\n",
    "print(\"\\n📊 Recommended Products\")\n",
    "print(\"-\" * 50)\n",
    "for i, product in enumerate(recommendations, 1):\n",
    "    print(f\"{i}. {product}\")\n",
    "\n",
    "print(\"\\n💌 Personalized Messages\")\n",
    "print(\"-\" * 50)\n",
    "for i, message in enumerate(messages, 1):\n",
    "    print(f\"Message {i}:\")\n",
    "    print(f\"{message}\")\n",
    "    print()\n",
    "\n",
    "# Optional: Display current products for comparison\n",
    "current_products = set(new_df.loc[new_df['member_no'] == sample_member_id, 'portfolio_map'].values)\n",
    "if current_products:\n",
    "    print(\"\\n📝 Current Portfolio\")\n",
    "    print(\"-\" * 50)\n",
    "    for product in current_products:\n",
    "        print(f\"• {product}\")"
   ]
  },
  {
   "cell_type": "code",
   "execution_count": 124,
   "metadata": {},
   "outputs": [
    {
     "name": "stdout",
     "output_type": "stream",
     "text": [
      "\n",
      "🏦 Member Profile Analysis\n",
      "--------------------------------------------------\n",
      "Member ID: 99988\n",
      "Age Group: 31-45\n",
      "Town: NAIROBI\n",
      "Gender: Female\n",
      "Beneficiary Age: 3.0\n",
      "\n",
      "📊 Recommended Products\n",
      "--------------------------------------------------\n",
      "1. Junior Account\n",
      "2. Equity Fund\n",
      "3. Dollar Fund\n",
      "\n",
      "💌 Personalized Messages\n",
      "--------------------------------------------------\n",
      "Message 1:\n",
      "Give your child a head start with our Junior Account! It's specially designed for children under 18 to help them develop good financial habits early.\n",
      "\n",
      "Message 2:\n",
      "Members in your age group are enjoying these popular products: Equity Fund, Dollar Fund. Join them in making smart financial choices!\n",
      "\n",
      "Message 3:\n",
      "💡 Pro tip: Adding Junior Account, Equity Fund, Dollar Fund to your portfolio could help you achieve your financial goals faster!\n",
      "\n",
      "\n",
      "📝 Current Portfolio\n",
      "--------------------------------------------------\n",
      "• Money Market\n"
     ]
    }
   ],
   "source": [
    "# Test the recommendations for a sample member\n",
    "sample_index = 9  # Adjust the sample index for testing\n",
    "sample_member = X_test[sample_index].toarray()\n",
    "sample_member_id = new_df.iloc[sample_index]['member_no']  # Ensure 'member_id' is in new_df\n",
    "\n",
    "# Get recommendations and messages for the sample member\n",
    "recommendations, messages = get_recommendations_with_messages(sample_member.reshape(1, -1), sample_member_id, n=3)\n",
    "\n",
    "# Display the results\n",
    "print(\"\\n🏦 Member Profile Analysis\")\n",
    "print(\"-\" * 50)\n",
    "print(f\"Member ID: {sample_member_id}\")\n",
    "member_details = new_df.loc[new_df['member_no'] == sample_member_id].iloc[0]\n",
    "print(f\"Age Group: {member_details['age_group']}\")\n",
    "print(f\"Town: {member_details['town']}\")\n",
    "print(f\"Gender: {member_details['gender_mapped']}\")\n",
    "if not pd.isna(member_details['beneficiery_age']):\n",
    "    print(f\"Beneficiary Age: {member_details['beneficiery_age']}\")\n",
    "\n",
    "print(\"\\n📊 Recommended Products\")\n",
    "print(\"-\" * 50)\n",
    "for i, product in enumerate(recommendations, 1):\n",
    "    print(f\"{i}. {product}\")\n",
    "\n",
    "print(\"\\n💌 Personalized Messages\")\n",
    "print(\"-\" * 50)\n",
    "for i, message in enumerate(messages, 1):\n",
    "    print(f\"Message {i}:\")\n",
    "    print(f\"{message}\")\n",
    "    print()\n",
    "\n",
    "# Optional: Display current products for comparison\n",
    "current_products = set(new_df.loc[new_df['member_no'] == sample_member_id, 'portfolio_map'].values)\n",
    "if current_products:\n",
    "    print(\"\\n📝 Current Portfolio\")\n",
    "    print(\"-\" * 50)\n",
    "    for product in current_products:\n",
    "        print(f\"• {product}\")"
   ]
  },
  {
   "cell_type": "code",
   "execution_count": 120,
   "metadata": {},
   "outputs": [
    {
     "data": {
      "text/html": [
       "<div>\n",
       "<style scoped>\n",
       "    .dataframe tbody tr th:only-of-type {\n",
       "        vertical-align: middle;\n",
       "    }\n",
       "\n",
       "    .dataframe tbody tr th {\n",
       "        vertical-align: top;\n",
       "    }\n",
       "\n",
       "    .dataframe thead th {\n",
       "        text-align: right;\n",
       "    }\n",
       "</style>\n",
       "<table border=\"1\" class=\"dataframe\">\n",
       "  <thead>\n",
       "    <tr style=\"text-align: right;\">\n",
       "      <th></th>\n",
       "      <th>member_no</th>\n",
       "      <th>town</th>\n",
       "      <th>relationship</th>\n",
       "      <th>gender_mapped</th>\n",
       "      <th>member_age</th>\n",
       "      <th>beneficiery_age</th>\n",
       "      <th>portfolio_map</th>\n",
       "      <th>age_group</th>\n",
       "    </tr>\n",
       "  </thead>\n",
       "  <tbody>\n",
       "    <tr>\n",
       "      <th>0</th>\n",
       "      <td>99996</td>\n",
       "      <td>NAIROBI</td>\n",
       "      <td>partner</td>\n",
       "      <td>Female</td>\n",
       "      <td>26</td>\n",
       "      <td>26.0</td>\n",
       "      <td>Money Market</td>\n",
       "      <td>19-30</td>\n",
       "    </tr>\n",
       "    <tr>\n",
       "      <th>14</th>\n",
       "      <td>99996</td>\n",
       "      <td>NAIROBI</td>\n",
       "      <td>sibling</td>\n",
       "      <td>Female</td>\n",
       "      <td>26</td>\n",
       "      <td>23.0</td>\n",
       "      <td>Money Market</td>\n",
       "      <td>19-30</td>\n",
       "    </tr>\n",
       "    <tr>\n",
       "      <th>28</th>\n",
       "      <td>99994</td>\n",
       "      <td>Unknown</td>\n",
       "      <td>partner</td>\n",
       "      <td>Female</td>\n",
       "      <td>58</td>\n",
       "      <td>62.0</td>\n",
       "      <td>Money Market</td>\n",
       "      <td>46-60</td>\n",
       "    </tr>\n",
       "    <tr>\n",
       "      <th>40</th>\n",
       "      <td>99993</td>\n",
       "      <td>NAIROBI</td>\n",
       "      <td>partner</td>\n",
       "      <td>Female</td>\n",
       "      <td>50</td>\n",
       "      <td>54.0</td>\n",
       "      <td>Money Market</td>\n",
       "      <td>46-60</td>\n",
       "    </tr>\n",
       "    <tr>\n",
       "      <th>70</th>\n",
       "      <td>99993</td>\n",
       "      <td>NAIROBI</td>\n",
       "      <td>child</td>\n",
       "      <td>Female</td>\n",
       "      <td>50</td>\n",
       "      <td>30.0</td>\n",
       "      <td>Money Market</td>\n",
       "      <td>46-60</td>\n",
       "    </tr>\n",
       "  </tbody>\n",
       "</table>\n",
       "</div>"
      ],
      "text/plain": [
       "    member_no     town relationship gender_mapped  member_age  \\\n",
       "0       99996  NAIROBI      partner        Female          26   \n",
       "14      99996  NAIROBI      sibling        Female          26   \n",
       "28      99994  Unknown      partner        Female          58   \n",
       "40      99993  NAIROBI      partner        Female          50   \n",
       "70      99993  NAIROBI        child        Female          50   \n",
       "\n",
       "    beneficiery_age portfolio_map age_group  \n",
       "0              26.0  Money Market     19-30  \n",
       "14             23.0  Money Market     19-30  \n",
       "28             62.0  Money Market     46-60  \n",
       "40             54.0  Money Market     46-60  \n",
       "70             30.0  Money Market     46-60  "
      ]
     },
     "execution_count": 120,
     "metadata": {},
     "output_type": "execute_result"
    }
   ],
   "source": [
    "new_df.head()"
   ]
  },
  {
   "cell_type": "markdown",
   "metadata": {},
   "source": [
    "## 5. Deployment "
   ]
  },
  {
   "cell_type": "markdown",
   "metadata": {},
   "source": [
    "5.1 Script to Read and Pickle Jupyter Notebook Content"
   ]
  },
  {
   "cell_type": "code",
   "execution_count": 129,
   "metadata": {},
   "outputs": [
    {
     "name": "stdout",
     "output_type": "stream",
     "text": [
      "Notebook content has been pickled successfully.\n"
     ]
    }
   ],
   "source": [
    "import nbformat\n",
    "import pickle\n",
    "\n",
    "# Define the notebook filename\n",
    "notebook_filename = 'gladys.ipynb'\n",
    "\n",
    "try:\n",
    "    # Step 1: Read the notebook content using nbformat with UTF-8 encoding\n",
    "    with open(notebook_filename, 'r', encoding='utf-8') as f:\n",
    "        notebook_content = nbformat.read(f, as_version=4)\n",
    "\n",
    "    # Step 2: Pickle the notebook content\n",
    "    with open('Investment_Product_Cross_Selling_notebook.pkl', 'wb') as f:\n",
    "        pickle.dump(notebook_content, f)\n",
    "\n",
    "    print(\"Notebook content has been pickled successfully.\")\n",
    "\n",
    "except FileNotFoundError:\n",
    "    print(f\"Error: The file '{notebook_filename}' was not found. Please ensure the file is in the current directory and that the filename is correct.\")"
   ]
  },
  {
   "cell_type": "markdown",
   "metadata": {},
   "source": [
    "5.2 Saving Jupyter Notebook as a Pickle File"
   ]
  },
  {
   "cell_type": "code",
   "execution_count": 130,
   "metadata": {},
   "outputs": [],
   "source": [
    "# #saving the notebook as a pickle file\n",
    "# import nbformat\n",
    "# import pickle\n",
    "\n",
    "# # Define the notebook filename\n",
    "# notebook_filename = 'Investment Product Cross Selling(1).ipynb'\n",
    "\n",
    "# # Read the notebook content using nbformat with UTF-8 encoding\n",
    "# with open(notebook_filename, 'r', encoding='utf-8') as f:\n",
    "#     notebook_content = nbformat.read(f, as_version=4)\n",
    "\n",
    "# # Pickle the notebook content\n",
    "# with open('Investment_Product_Cross_Selling_notebook.pkl', 'wb') as f:\n",
    "#     pickle.dump(notebook_content, f)\n",
    "\n",
    "# print(\"Notebook content has been pickled successfully.\")\n"
   ]
  },
  {
   "cell_type": "code",
   "execution_count": 131,
   "metadata": {},
   "outputs": [
    {
     "name": "stdout",
     "output_type": "stream",
     "text": [
      "{'cells': [{'cell_type': 'markdown', 'metadata': {}, 'source': '# Financial Products and Cross-Selling Recommendation System\\n\\n**Business Problem Statement:**\\n\\nOur financial services company has a diverse portfolio of investment products, yet the vast majority (99%) of our existing customers hold only one product—the Money Market Fund. Despite a broad array of offerings (Balanced Fund, Dollar Fund, Equity Fund, Fixed Income Fund, and Wealth Fund), our product penetration per customer (PPC) remains exceptionally low. This indicates a significant opportunity to cross-sell additional products to our existing customer base, which would increase customer value, loyalty, and the company’s overall profitability.\\n\\n\\nCurrently, our customers’ data includes key information that could be leveraged to tailor product recommendations. These data points include:\\n\\n\\n- **Location (town)**\\n- **Gender**\\n- **Customer-relationship or beneficiary information** (as customers may have more than one relationship or beneficiary associated with them)\\n- **Customer age and DOB**\\n- **Beneficiary age and DOB**\\n- **Portfolio**\\n\\n\\nOur goal is to create a user-friendly, intelligent recommender system that can analyze this existing data to suggest additional, relevant financial products to each customer. This system should be able to identify patterns or trends in customer profiles, uncover customer needs, and map those needs to suitable financial products, increasing our PPC in an efficient, cost-effective manner. \\n\\n**Objectives:**\\n1. **Customer Retention and Loyalty**: By offering personalized recommendations, we aim to build deeper, more personalized relationships with our customers, making them more likely to stay with us long-term.\\n2. **Increased Revenue per Customer**: A successful cross-selling strategy would increase the average number of products per customer, boosting overall portfolio revenue.\\n3. **User-Friendly Experience**: Ensuring a straightforward, accessible interface for customers to explore new financial products, particularly given that our target customers may have limited experience with financial diversification.\\n\\n**Project Success Criteria:**\\n1. Develop a model that accurately predicts the next likely product(s) for each customer based on their profile and behavior.\\n2. Achieve a measurable increase in the PPC rate by the end of the initial deployment phase.\\n3. Design an intuitive interface that enhances the customer journey, with minimal friction, to encourage engagement and adoption.'}, {'cell_type': 'markdown', 'metadata': {}, 'source': '## 1. DATA CLEANING AND PREPARATION'}, {'cell_type': 'markdown', 'metadata': {}, 'source': '1.1  Import necessary libraries '}, {'cell_type': 'code', 'execution_count': 52, 'metadata': {}, 'outputs': [], 'source': '#importing the necessary libraries\\nimport zipfile\\nimport pandas as pd\\nimport numpy as np\\nimport matplotlib.pyplot as plt\\nimport seaborn as sns\\nimport nbformat\\nimport pickle\\n\\nfrom sklearn.metrics.pairwise import cosine_similarity\\nfrom scipy.spatial.distance import cosine\\nfrom sklearn.feature_extraction.text import TfidfVectorizer\\nfrom sklearn.model_selection import train_test_split\\nfrom datetime import datetime\\nfrom sklearn.neighbors import NearestNeighbors\\nfrom sklearn.metrics import accuracy_score\\n'}, {'cell_type': 'markdown', 'metadata': {}, 'source': '1.2 Load the data set'}, {'cell_type': 'code', 'execution_count': 53, 'metadata': {}, 'outputs': [{'data': {'text/html': '<div>\\n<style scoped>\\n    .dataframe tbody tr th:only-of-type {\\n        vertical-align: middle;\\n    }\\n\\n    .dataframe tbody tr th {\\n        vertical-align: top;\\n    }\\n\\n    .dataframe thead th {\\n        text-align: right;\\n    }\\n</style>\\n<table border=\"1\" class=\"dataframe\">\\n  <thead>\\n    <tr style=\"text-align: right;\">\\n      <th></th>\\n      <th>member_no</th>\\n      <th>reg_date</th>\\n      <th>dob</th>\\n      <th>hse_no</th>\\n      <th>gender</th>\\n      <th>town</th>\\n      <th>relationship</th>\\n      <th>beneficiery_dob</th>\\n      <th>portfolio</th>\\n    </tr>\\n  </thead>\\n  <tbody>\\n    <tr>\\n      <th>0</th>\\n      <td>99996</td>\\n      <td>2023-10-01 00:00:00.000</td>\\n      <td>1998-04-06 00:00:00</td>\\n      <td>Single Member</td>\\n      <td>Female</td>\\n      <td>NAIROBI</td>\\n      <td>Partner</td>\\n      <td>1998-01-26</td>\\n      <td>Money Market</td>\\n    </tr>\\n    <tr>\\n      <th>1</th>\\n      <td>99996</td>\\n      <td>2023-10-01 00:00:00.000</td>\\n      <td>1998-04-06 00:00:00</td>\\n      <td>Single Member</td>\\n      <td>Female</td>\\n      <td>NAIROBI</td>\\n      <td>Partner</td>\\n      <td>1998-01-26</td>\\n      <td>Money Market</td>\\n    </tr>\\n    <tr>\\n      <th>2</th>\\n      <td>99996</td>\\n      <td>2023-10-01 00:00:00.000</td>\\n      <td>1998-04-06 00:00:00</td>\\n      <td>Single Member</td>\\n      <td>Female</td>\\n      <td>NAIROBI</td>\\n      <td>Partner</td>\\n      <td>1998-01-26</td>\\n      <td>Money Market</td>\\n    </tr>\\n    <tr>\\n      <th>3</th>\\n      <td>99996</td>\\n      <td>2023-10-01 00:00:00.000</td>\\n      <td>1998-04-06 00:00:00</td>\\n      <td>Single Member</td>\\n      <td>Female</td>\\n      <td>NAIROBI</td>\\n      <td>Partner</td>\\n      <td>1998-01-26</td>\\n      <td>Money Market</td>\\n    </tr>\\n    <tr>\\n      <th>4</th>\\n      <td>99996</td>\\n      <td>2023-10-01 00:00:00.000</td>\\n      <td>1998-04-06 00:00:00</td>\\n      <td>Single Member</td>\\n      <td>Female</td>\\n      <td>NAIROBI</td>\\n      <td>Partner</td>\\n      <td>1998-01-26</td>\\n      <td>Money Market</td>\\n    </tr>\\n    <tr>\\n      <th>...</th>\\n      <td>...</td>\\n      <td>...</td>\\n      <td>...</td>\\n      <td>...</td>\\n      <td>...</td>\\n      <td>...</td>\\n      <td>...</td>\\n      <td>...</td>\\n      <td>...</td>\\n    </tr>\\n    <tr>\\n      <th>7532949</th>\\n      <td>2</td>\\n      <td>2011-06-07</td>\\n      <td>1965-05-06</td>\\n      <td>Single Member</td>\\n      <td>Male</td>\\n      <td>NAIROBI</td>\\n      <td>NaN</td>\\n      <td>NaN</td>\\n      <td>Money Market</td>\\n    </tr>\\n    <tr>\\n      <th>7532950</th>\\n      <td>2</td>\\n      <td>2011-06-07</td>\\n      <td>1965-05-06</td>\\n      <td>Single Member</td>\\n      <td>Male</td>\\n      <td>NAIROBI</td>\\n      <td>NaN</td>\\n      <td>NaN</td>\\n      <td>Money Market</td>\\n    </tr>\\n    <tr>\\n      <th>7532951</th>\\n      <td>2</td>\\n      <td>2011-06-07</td>\\n      <td>1965-05-06</td>\\n      <td>Single Member</td>\\n      <td>Male</td>\\n      <td>NAIROBI</td>\\n      <td>NaN</td>\\n      <td>NaN</td>\\n      <td>Money Market</td>\\n    </tr>\\n    <tr>\\n      <th>7532952</th>\\n      <td>2</td>\\n      <td>2011-06-07</td>\\n      <td>1965-05-06</td>\\n      <td>Single Member</td>\\n      <td>Male</td>\\n      <td>NAIROBI</td>\\n      <td>NaN</td>\\n      <td>NaN</td>\\n      <td>Balanced Fund</td>\\n    </tr>\\n    <tr>\\n      <th>7532953</th>\\n      <td>2</td>\\n      <td>2011-06-07</td>\\n      <td>1965-05-06</td>\\n      <td>Single Member</td>\\n      <td>Male</td>\\n      <td>NAIROBI</td>\\n      <td>NaN</td>\\n      <td>NaN</td>\\n      <td>Money Market</td>\\n    </tr>\\n  </tbody>\\n</table>\\n<p>7532954 rows × 9 columns</p>\\n</div>', 'text/plain': '         member_no                 reg_date                  dob  \\\\\\n0            99996  2023-10-01 00:00:00.000  1998-04-06 00:00:00   \\n1            99996  2023-10-01 00:00:00.000  1998-04-06 00:00:00   \\n2            99996  2023-10-01 00:00:00.000  1998-04-06 00:00:00   \\n3            99996  2023-10-01 00:00:00.000  1998-04-06 00:00:00   \\n4            99996  2023-10-01 00:00:00.000  1998-04-06 00:00:00   \\n...            ...                      ...                  ...   \\n7532949          2               2011-06-07           1965-05-06   \\n7532950          2               2011-06-07           1965-05-06   \\n7532951          2               2011-06-07           1965-05-06   \\n7532952          2               2011-06-07           1965-05-06   \\n7532953          2               2011-06-07           1965-05-06   \\n\\n                hse_no  gender     town relationship beneficiery_dob  \\\\\\n0        Single Member  Female  NAIROBI      Partner      1998-01-26   \\n1        Single Member  Female  NAIROBI      Partner      1998-01-26   \\n2        Single Member  Female  NAIROBI      Partner      1998-01-26   \\n3        Single Member  Female  NAIROBI      Partner      1998-01-26   \\n4        Single Member  Female  NAIROBI      Partner      1998-01-26   \\n...                ...     ...      ...          ...             ...   \\n7532949  Single Member    Male  NAIROBI          NaN             NaN   \\n7532950  Single Member    Male  NAIROBI          NaN             NaN   \\n7532951  Single Member    Male  NAIROBI          NaN             NaN   \\n7532952  Single Member    Male  NAIROBI          NaN             NaN   \\n7532953  Single Member    Male  NAIROBI          NaN             NaN   \\n\\n             portfolio  \\n0         Money Market  \\n1         Money Market  \\n2         Money Market  \\n3         Money Market  \\n4         Money Market  \\n...                ...  \\n7532949   Money Market  \\n7532950   Money Market  \\n7532951   Money Market  \\n7532952  Balanced Fund  \\n7532953   Money Market  \\n\\n[7532954 rows x 9 columns]'}, 'execution_count': 53, 'metadata': {}, 'output_type': 'execute_result'}], 'source': '#load the dataset\\ndf = pd.read_csv(r\"C:\\\\Users\\\\Augustine Wanyonyi\\\\Desktop\\\\Phase5\\\\single_member.csv\")\\ndf'}, {'cell_type': 'markdown', 'metadata': {}, 'source': 'The dataset has 7,532,954 rows and 9 rows'}, {'cell_type': 'markdown', 'metadata': {}, 'source': '1.3 Inspecting the columns of the dataset'}, {'cell_type': 'code', 'execution_count': 54, 'metadata': {}, 'outputs': [{'data': {'text/plain': \"Index(['member_no', 'reg_date', 'dob', 'hse_no', 'gender', 'town',\\n       'relationship', 'beneficiery_dob', 'portfolio'],\\n      dtype='object')\"}, 'execution_count': 54, 'metadata': {}, 'output_type': 'execute_result'}], 'source': '#inspecting the columns in the dataframe\\ndf.columns'}, {'cell_type': 'markdown', 'metadata': {}, 'source': '1.4 Checking for unique Values from features.\\n\\nThis is a useful step in ensuring the quality and understanding of the dataset before diving deeper into analysis or model building.'}, {'cell_type': 'markdown', 'metadata': {}, 'source': '1.4.1  Checking the unique values from member_no column'}, {'cell_type': 'code', 'execution_count': 55, 'metadata': {}, 'outputs': [{'data': {'text/plain': 'array([99996, 99994, 99993, ...,    19,     3,     2], dtype=int64)'}, 'execution_count': 55, 'metadata': {}, 'output_type': 'execute_result'}], 'source': \"#checking the unique values from the member_no column\\ndf['member_no'].unique()\"}, {'cell_type': 'markdown', 'metadata': {}, 'source': '1.4.2 Checking unique values from the gender column'}, {'cell_type': 'code', 'execution_count': 56, 'metadata': {}, 'outputs': [{'data': {'text/plain': \"array(['Female', 'Male', 'FEMALE', nan, 'MALE', 'F', 'M'], dtype=object)\"}, 'execution_count': 56, 'metadata': {}, 'output_type': 'execute_result'}], 'source': \"#checking the unique values from the gender column\\ndf['gender'].unique()\"}, {'cell_type': 'markdown', 'metadata': {}, 'source': '1.4.3 Checking unique values from town column'}, {'cell_type': 'code', 'execution_count': 57, 'metadata': {}, 'outputs': [{'data': {'text/plain': 'array([\\'NAIROBI\\', nan, \\'NAIROBI \\', \\'THIKA\\', \\'NAKURU\\', \\'MOMBASA \\',\\n       \\'NDANAI \\', \\'KISUMU\\', \\'KIKUYU\\', \\'JUJA\\', \\'MACHAKOS\\', \\'MERU\\',\\n       \\'KERICHO\\', \\'MUKURWEINI\\', \\'KATANGI\\', \\'THIKA,KIAMBU\\', \\'NANYUKI\\',\\n       \\'RUAI \\', \\'MALINDI\\', \\'NYAHURURU\\', \\'MUMIAS\\', \\'KAKAMEGA\\', \\'LODWAR\\',\\n       \\'Nairobi \\', \\'KITENGELA\\', \\'LIMURU\\', \\'THIKA \\', \\'MIGORI\\', \\'ELDORET\\',\\n       \\'KITUI\\', \\'RUARAKA\\', \\'Ruiru\\', \\'NJORO\\', \\'EMBU\\', \\'SORI\\', \\'NGONG\\',\\n       \\'MASENO\\', \\'GATUNDU\\', \\'KAHURO\\', \\'KILIFI\\', \\'RUIRU\\', \\'KERUGOYA\\',\\n       \\'KARATINA\\', \\'KITALE \\', \\'MOMBASA\\', \\'BUNGOMA\\', \\'KISII\\', \\'-\\',\\n       \\'Nairobi\\', \\'KINAMBA\\', \\'SIAYA\\', \\'KERICHO \\', \\'KIAMBU\\', \\'KITALE\\',\\n       \\'BUSIA\\', \\'RUNYENJES\\', \\'VILLAGE MARKET\\', \\'Kapsabet\\', \\'KAGWE\\',\\n       \\'NANDI HILLS\\', \\'KUTUS\\', \\'DAGORETTI\\', \\'LITEIN\\', \\'KAJIADO\\', \\'CHUKA\\',\\n       \\'NYERI\\', \\'NAIROBI, NAIROBI\\', \\'Kisumu \\', \\'KANJUKU\\', \\'EMALI\\',\\n       \\'GILGIL\\', \\'Kiambu \\', \\'KANGEMA\\', \\'TIRIKI\\', \\'KARATINA \\', \\'OTHAYA\\',\\n       \\'KARURI ,KIAMBU\\', \\'MURANGA \\', \\'Mombasa\\', \\'GATUKUYU \\', \\'MLOLONGO\\',\\n       \\'UTAWALA \\', \\'KAPENGURIA\\', \\'KAPSABET\\', \\'SUNA\\', \\'BOMET\\', \\'KENOL \\',\\n       \\'NYERI \\', \\'BUNGOMA \\', \\'NDANAI\\', \\'KALIMONI\\', \\'KIGANJO\\',\\n       \\'KAPSOKWONY\\', \\'Nakuru\\', \\'KIAMBU \\', \\'nairobi\\', \\'CHOGORIA\\',\\n       \\'GITHUNGURI\\', \\'YOANI,SALAMA\\', \\'LIMURU \\', \\'NAIROBI, KENYA.\\',\\n       \\'UKUNDA\\', \\'MATUU\\', \\'embu\\', \\'NYALI\\', \\'nakuru\\', \\'MBALE\\', \\'EMUHAYA\\',\\n       \\'TELFORD\\', \\'NAIVASHA\\', \\'KAREN\\', \\'KILIFI \\', \\'HOLA\\', \\'MAKINDU\\',\\n       \\'WOTE\\', \\'DIANI\\', \\'O\\', \\'OLKALAU\\', \\'KAREN \\', \\'UPLANDS\\', \\'WANGÚRU\\',\\n       \\'KABIYET\\', \\'KAKAMEGA \\', \\'SOTIK\\', \\'NGONG \\', \\'CITY SQUARE\\', \\'NKUBU\\',\\n       \\'KANGARI\\', \\'NGONG HILLS \\', \\'NYAHURURU \\', \\'KARURI \\', \\'UTHIRU\\',\\n       \\'MARIMANTI\\', \\'MANCHESTER\\', \\'Kikuyu\\', \\'.\\', \\'NAIRO \\', \\'kiambu\\',\\n       \\'VOI\\', \\'EMBAKASI\\', \\'MOLO\\', \\'Siaya \\', \\'NGIYA\\', \\'OLKALOU\\',\\n       \\'KANYAGIA\\', \\'WANJOHI\\', \\'kabete\\', \\'Wamunyu\\', \\'MARIAKANI\\',\\n       \\'KISERIAN\\', \\'ARTHI RIVER \\', \\'SUBUKIA\\', \\'KILGORIS\\', \\'KIMININI\\',\\n       \\'LAGOS\\', \\'SARE\\', \\'ATHI RIVER\\', \\'ngong hills \\', \\'WERUGHA\\',\\n       \\'NAIROBIP\\', \\'MASINFA\\', \\'kikuyu\\', \\'OL JORO OROK\\', \\'MAUA\\',\\n       \\'GIKUE MURANGA\\', \\'KIMENDE\\', \\'KIMILILI\\', \\'KISUMU \\', \\'VIHIGA\\',\\n       \\' NAIROBI \\', \\'BURUBURU\\', \\'MATATHIA\\', \\'RUAKA\\', \\'UGUNJA\\', \\'LONGISA\\',\\n       \\'ELDORATE \\', \\'KAPKATET\\', \\'WINNIPEG\\', \\'PIPELINE \\', \\'KAHAWA WEST \\',\\n       \\'KANDARA\\', \\'Kimilili \\', \\'MTWAPA \\', \\'MARAGUA\\', \\'BANANA \\', \\'NYAMIRA\\',\\n       \\'AUBURN\\', \\'KARURI\\', \\'MTWAPA\\', \\'ONGATA RONGAI\\', \\'ELDORET \\',\\n       \\'HOMABAY\\', \\'WANGIGE\\', \\'KENDUBAY\\', \\'KIBWEZI\\', \\'RONGAI\\', \\'RUIRU \\',\\n       \\'NORTH KINANGOP\\', \\'MAKUYU\\', \\'Nyeri \\', \\'Eldoret \\', \\'BOUTIGNY\\',\\n       \\'00506\\', \\'MWINGI\\', \\'00100\\', \\'KERUGOYA \\', \\'TALA\\', \\'OLENGURUONE\\',\\n       \\'MAVINDINI\\', \\'UHURU GARDENS\\', \\'KIKUYU \\', \\'Ongata Rongai\\',\\n       \\'SOUTH KINANGOP\\', \\'ELDAMA RAVINE\\', \\'MITUNGURU\\', \\'TOM MBOYA\\',\\n       \\'NAKURU \\', \\'MITABONI\\', \\'NAROMORU\\', \\'MURANGA\\', \\'OLJOROROK\\',\\n       \\'BUTERE\\', \\'OYUGIS\\', \\'SILIBWET\\', \\'EMBU \\', \\'Doha\\', \\'Eldoret\\',\\n       \\'KANGEMI\\', \\'NYERI-KIGUMO\\', \\'KISERIAN \\', \\'Athi River\\', \\'KENOL\\',\\n       \\'OL KALOU\\', \\'WESTLANDS\\', \\'Nyahururu \\', \\'ENDARASHA \\', \\'GPO/NAIROBI\\',\\n       \\'DAGORETI\\', \\'OGEMBO \\', \\'mombasa\\', \\'RUAI\\', \\'DONYO SABUK\\', \\'KEROKA\\',\\n       \\'LOWER KABETE\\', \\'MWEIGA\\', \\'Naitobi\\', \\'TOKYO\\', \\'Embu\\', \\'KIRINYAGA\\',\\n       \\'KIANYAGA\\', \\'SIAYA \\', \\'ADLISWIL\\', \\'BURU BURU\\', \\'MERU \\', \\'NYAKIO\\',\\n       \\'KWALE\\', \\'AMUKURA\\', \\'NAROK\\', \\'KOBUJOI\\', \"WANG\\'URU\", \\'BONDO\\',\\n       \\'Kericho\\', \\'KIKIMA \\', \\'CHANGAMWE\\', \\'BUTULA\\', \\'NAIROBI KAYOLE\\',\\n       \\'KANGUNDO\\', \\'MARIAKANI \\', \\'TIMBOROA\\', \\'KIANJAI\\', \\'KALOLENI \\',\\n       \\'ISINYA\\', \\'IOWA CITY, IOWA\\', \\'Garsen \\', \\'MUKURWE-INI\\',\\n       \\'NAIROBI GPO\\', \\'MANYATTA\\', \\'SARE-OWENDO\\', \\'NANYUKI \\', \\'NDHIWA\\',\\n       \\'ELBURGON\\', \\'Orange\\', \\'MAKUENI\\', \\'kisumu \\', \\'MACHAKOS \\',\\n       \\'KABARNET \\', \"Murang\\'a \", \\'JUJA, KIAMBU\\', \\'Bungoma\\', \\'MAWEGO\\',\\n       \\'Bath\\', \\'ROYSAMBU\\', \\'Nanyuki\\', \\'SAGANA\\', \\'MACH \\', \\'Nyeri\\', \\'Ruaka\\',\\n       \\'KITUI \\', \\'KAJIADO \\', \\'NUNGUNI\\', \\'RONGAI \\', \\'KISII \\', \\'WANGIGE \\',\\n       \\'Makongeni Jogoo Rd\\', \\'nairobi \\', \\'Kikuyu \\', \\'Kisii\\', \\'MSAMBWENI\\',\\n       \\'BUJUMBURA\\', \\'GITHONGO\\', \\'KEROKA/KISII\\', \\'BURUBURU, NAIROBI\\',\\n       \\'MALAVA\\', \\'KIJABE\\', \\'Woolwich \\', \\'NDERE-SIAYA\\', \\'AHERO\\',\\n       \\'MUHORONI \\', \\'Nakuru \\', \\'kahuro\\', \\'Malakisi \\', \\'MUHORONI\\',\\n       \\'ISIOLO\\', \\'SYOKIMAU \\', \\'ONGATA RONGAI \\', \\'Maralal \\',\\n       \\'KIBIRICHIA, MERU\\', \\'GRANGER, INDIANA\\', \\'WESTLAND \\', \\'MUKURWEINI \\',\\n       \\'MASII\\', \\'NRB\\', \\'KWISERO\\', \\'ANKARA\\', \\'SHIMBA HILLS\\', \\'TAVETA\\',\\n       \\'WOTE, MAKUENI \\', \\'WANGURU\\', \\'KISSII\\', \\'BURUBURU NAIROBI \\',\\n       \\'KIRITIRI\\', \\'MESA ARIZONA\\', \\'KAJIADO TOWN\\', \\'KURIA\\',\\n       \\'NAIROBI WEST\\', \\'ENDARASHA\\', \\'KIPKAREN \\', \\'0\\', \\'GAMBOGI\\', \\'KOLA\\',\\n       \\'Marsabit\\', \\'WEBUYE\\', \\'GAKUNGU\\', \\'NAIROBJ\\',\\n       \\'NAIROBI ,KAMITI ROAD RICHLAND\\', \\'NKUBU \\', \\'MWATATE\\', \\'MALAKISI\\',\\n       \\'ITEN\\', \\'KATHIANI\\', \"MURANG\\'A\", \\'KAIRIA\\', \\'UPLANDS \\', \\'RONGO\\',\\n       \\'UHURU GARDEN\\', \\'KINANGOP\\', \\'BAHATI NAKURU \\', \\'MATILIKU\\', \\'meru\\',\\n       \\'Limuru\\', \\'MALAA\\', \\'TURBO\\', \\'MARIMA -MERU HIGHWAY \\', \\'OLJORO OROK\\',\\n       \\'homabay \\', \\'KIKIMA\\', \\'ADAMS ARCADE\\', \\'MUNICH\\', \\'MUMIAS \\',\\n       \\'KALIMONI \\', \\'CHWELE\\', \\'MARALAL\\', \\'NAMBALE\\', \\'NAIROBI COUNTY\\',\\n       \\'Narok \\', \\'TURBO \\', \\'KANGARI \\', \\'Pécs \\', \\'thika\\', \\'KATSE\\',\\n       \\'thika \\', \\'CHEBUNYO\\', \\'OL JORO OROK \\', \\'MOBIL PLAZA\\', \\'WAMUNYU \\',\\n       \\'MAGUNGA\\', \\'RORET\\', \\'YALA\\', \\'KAHUHIA\\', \"KENOL MURANG\\'A\",\\n       \\'Machakos\\', \\'UKWALA\\', \\'KALOLENI\\', \\'JOONDALUP\\', \\'MIGORI \\',\\n       \\'MARAGOLI\\', \\'MARMANET\\', \\'IKANGA\\', \\'KINOO\\', \\'OYUGIS \\', \\'LANGATA\\',\\n       \\'Kiambu\\', \\'Malindi\\', \\'NAIROBI.\\', \\'MAKUENI \\', \\'Bungoma \\',\\n       \\'GITHUNGURI \\', \\'MACHOKOS\\', \\'KOMBEWA \\', \\'UTHIRU \\', \\'KITENGELA \\',\\n       \\'BANANA\\', \\'CHEPKORIO\\', \\'MASII \\', \\'Gitugi\\', \\'. \\', \\'RUIRY\\', \\'Kisumu\\',\\n       \\'MBUMBUNI-MACHAKOS\\', \\'WAMUYU\\', \\'siaya\\', \\'Kakamega\\', \\'TAITA TAVETA\\',\\n       \\'Bumala\\', \\'KIMENDE \\', \\'BRISTOL\\', \\'MATUNDA\\', \\'KARABA\\', \\'SULTAN\\',\\n       \\'GATURA\\', \\'KASARANI ,NAIROBI \\', \\'NANDI\\', \\'MAGUTUNI\\', \\'CHUKA \\',\\n       \\'NGONG HILL\\', \\'ngong\\', \\'KIANGAI\\', \\'MBITA\\', \\'Mumias\\', \\'KAMBITI\\',\\n       \\'MUMBI\\', \\'Juja\\', \\'WODANGA\\', \\'KIRIANI\\', \\'KABARNET\\', \\'MISIKHU\\',\\n       \\'Thika\\', \\'NYANSIONGO\\', \\'nyeri \\', \\'NAIVASHA \\', \"MURANG\\'A \",\\n       \\'KAPCHENO\\', \\'NGARA\\', \\'MADARAKA\\', \\'kitengela \\', \\'BONDO \\', \\'WAMUNYU\\',\\n       \\'NYANDARUA\\', \\'MOGOGOSIEK\\', \\'00\\', \\'NAIROBI/JUJA\\', \\'NA \\', \\'LUANDA\\',\\n       \\'KLEMZIG\\', \\'TEL AVIV\\', \\'ongata rongai \\', \\'30-60101 Manyatta \\',\\n       \\'12410 Nyeri\\', \\'KATHONZWENI \\', \\'GITHURAI \\', \\'WESRN AUSTRALIA\\',\\n       \\'SABASABA \\', \\'Gilgil \\', \\'ISEBANIA\\', \\'KIRIAINI\\', \\'MUTHETHENI \\',\\n       \\'Mombasa \\', \\'Kitengela\\', \\'CARLIFONIA\\', \\'NIL\\',\\n       \\'NAIROBI, NAIROBI AREA, KENYA\\', \\'SOY\\', \\'Sabasaba\\', \\'SABASABA\\',\\n       \\'COLUMBIA\\', \\'Homa Bay \\', \\'MARIMA\\', \\'SEGA\\', \\'KAYOLE\\', \\'BUDD LAKE\\',\\n       \\'KITHYOKO\\', \\'KIJABE \\', \\'Mbale\\', \\'KITHIMANI\\', \\'HANOI\\', \\'chuka\\',\\n       \\'KILINDINI\\', \\'MERY\\', \\'CHELMSFORD\\', \\'LOITOKITOK\\', \\'MOSORIOT\\',\\n       \\'IKONGE\\', \\'ENGINEER\\', \\'Othaya\\', \\'Ahero\\', \\'MWEA\\', \\'JOSKA \\',\\n       \\'NGAMBWA\\', \\'MASINGA\\', \\'KINANGOP \\', \\'LONDON\\', \\'KILELESHWA \\',\\n       \\'SARIT CENTRE\\', \\'mgange \\', \\'ST. MARYS NSW\\', \\'GESIMA\\', \\'Migori \\',\\n       \\'KHWISERO\\', \\'SYOKIMAU\\', \\'MTITO ANDEI \\', \\'nakuru \\', \\'NAIROBI CITY\\',\\n       \\'ATHIRIVER\\', \\'KABATI\\', \\'Kitale\\', \\'MPEKETONI\\', \\'YOANI\\',\\n       \\'KABARTONJO\\', \\'NAMANGA\\', \\'CHESINENDE\\', \\'BAHATI\\', \\'NZEEKA\\',\\n       \\'MATATHIA, KAMAE\\', \\'RONALD NGALA \\', \\'KUBUKUBU\\', \\'THOGOTO\\',\\n       \\'GATORA\\', \\'NAI \\', \\'KUJA,KIAMBU\\', \\'Machakos \\', \\'AMAGORO\\', \\'Uthiru\\',\\n       \\'Naivasha\\', \\'KEROKA \\', \\'MAZERAS\\', \\'EGERTON\\', \\'KASARANI\\', \\'Kimende\\',\\n       \\'WAJIR\\', \\'DUBAI\\', \\'TWO RIVERS\\', \\'NDARAGWA \\', \\'EASTLEIGH\\', \\'KAGIO\\',\\n       \\'HOMA BAY\\', \\'KISII, KENYA\\', \\'Thika \\', \\'NGECHA\\', \\'Kakamega \\',\\n       \\'KERINGET\\', \\'FORT WAYNE\\', \\'STAREHE\\', \\'GILGIL \\', \\'KAWANGWARE\\',\\n       \\'GPO NAIROBI\\', \\'GITUGI\\', \\'Tala\\', \\'kakamega \\', \\'TEXAS\\', \\'GACHIE\\',\\n       \\'Syokimau\\', \\'Sydney \\', \\'LESSOS\\', \\'Meru \\', \\'KIPKAREN RIVER\\',\\n       \\'SOSIOT\\', \\'LAKEWOOD SEATTLE\\', \\'Lodwar\\', \\'Kitale \\', \\'Membley\\',\\n       \\'chepkorio\\', \\'Luanda\\', \\'Kijabe \\', \\'TONGAREN\\', \\'karuri \\', \\'malindi\\',\\n       \\'Ogembo \\', \\'Maryland\\', \\'Kisii Town \\', \\'kajiado \\', \\'LIKONI\\',\\n       \\'wangige \\', \\'Ngong\\', \\'OLKALOU \\', \\'4597-20100 Nakuru\\', \\'GARISSA\\',\\n       \\'KIRIAINI \\', \\'SYOKIMAU L\\', \\'Machakos, Kathiani\\', \\'Kitui\\',\\n       \\'AUSTRALIA\\', \\'Bondo\\', \\'Salama \\', \\'bomet \\', \\'Naivasha \\',\\n       \\'TOORMINA, NSW\\', \\'Utawala\\', \\'Ankara\\', \\'MOISBRIDGE\\', \\'nbo\\',\\n       \\'Kijabe\\', \\'KABAZI\\', \\'P.O BOX 75-30105 SOY\\', \\'kisumu\\', \\'nyeri\\',\\n       \\'Voi\\', \\'Kanjuku\\', \"NG\\'IYA\", \\'Muranga\\', \\'Bournemouth \\',\\n       \\'SARE-AWENDO\\', \\'narok\\', \\'Ruiru \\', \\'Kilifi \\', \\'Meru\\',\\n       \\'Ol-joro-orok\\', \\'152 30100 eldoret \\', \\'Mtwapa\\', \\'Karuri\\',\\n       \\'Kitengela \\', \\'Isiolo \\', \\'38061-00623 Nairobi\\', \\'Ngong Hills\\',\\n       \\'RARIEDA\\', \\' Nairobi County,\\', \\'187 Ngewa\\', \\'NJAMBINI\\',\\n       \\'25635 00603 Nairobi\\', \\'GIKOE\\', \\'kakamega\\', \\'ISHIARA \\',\\n       \\'P. O. Box 111 Ruiru\\', \\'Kibwezi\\', \\'Syokimau \\', \\'kiambu \\', \\'Bomet \\',\\n       \\'Busia\\', \\'Gilgil\\', \\'LAMU\\', \\'Kajiado \\', \\'makueni \\', \\'kisii\\',\\n       \\'MERU 2274\\', \\'TURKANA\\', \\'Kilifi\\', \\'nottingham\\', \\'Embakasi\\',\\n       \\'Masii - MACHAKOS\\', \\'SEREM\\', \\'Tala, Kangundo. \\', \\'Ugunja\\',\\n       \\'Karatina\\', \\'Migori\\', \\'Berlin\\', \\'KALAMBA\\', \\'UKUNDA \\', \\'ruiru\\',\\n       \\'Sondu\\', \\'BUSIA - PORT VICTORIA \\', \\'Matuu.\\', \\'Gatundu\\',\\n       \\'Seasons Kasarani. \\', \\'KARUNGU\\', \\'Kahawa Sukari\\', \\'Kangundo \\',\\n       \\'mombasa \\', \\'St. Georges\\', \\'maseno\\', \\'KINDARUMA \\',\\n       \\'kakuma 1 Nuer community \\', \\'copenhagen\\', \\'549 LIMURU\\', \\'Lamu\\',\\n       \\'DRESDEN\\', \\'Ol Kalou \\', \\'KIRIA-INI \\', \\'123 KIKUYU\\', \\'Kianyaga\\',\\n       \\'Kasarani\\', \\'Makueni \\', \\'KABETE\\', \\'Sagana\\',\\n       \\'Imani avenue, Ongata Rongai, Kajiado\\', \\'LOS ANGELES\\', \\'KAKUMA\\',\\n       \\'kitengela\\', \\'56-10300 Kerugoya\\', \\'Kalimoni P.o Box 178-01001\\',\\n       \\'Nairobi, Komarock.\\', \\'kilifi\\', \\'NAIROBI, KITENGELA \\',\\n       \\'14 Lamina Avenue, Mill Park VIC 3082\\', \\'kebirigo \\', \\'Darwin \\',\\n       \\'Kericho \\', \\'Nairibi\\', \\'782 - 00232 Ruiru\\', \\'eldoret\\', \\'Oyugis\\',\\n       \\'Conroe\\', \\'NAIROBI 572 00300\\', \\'Eldama Ravine\\', \\'Kabete \\', \\'Maua\\',\\n       \\'Isiolo\\', \\'828-90200\\', \\'Athens\\', \\'Chicago \\', \\'Hola\\', \\'Abu Dhabi \\',\\n       \\'Nyayo Estate, Court 521\\', \\'Deanside\\', \\'452-00200, KIAMBU\\',\\n       \\'KOBENHAUN\\', \\'karuri\\', \\'Nanyuki \\', \\'P.O. Box 2413-60200, Meru\\',\\n       \\'Kenol\\', \\'Wote\\', \\'githunguri \\', \\'NAIROBI. 45095-00100\\', \\'Serem\\',\\n       \\'P.o.box 1298-00618 Ruaraka, Nairobi\\', \\'Vienna \\', \\'karen\\',\\n       \\'CHICAGO\\', \\'GENEVA\\', \\'Kiserian \\', \\'Kabarnet\\', \\'RABAI\\',\\n       \\'KIAMBU COUNTY\\', \\'Uthiru Cooperation \\', \\'Githunguri \\',\\n       \\'79718-00200 NAIROBI\\', \\'stockholm\\', \\'42 NDARAGWA\\',\\n       \\'P.O. Box 103635-00101\\', \\'Heuchlingen \\', \\'PORT VICTORIA\\',\\n       \\'Doolandella, Australia\\', \\'Grand Oyster Kileleshwa, Nairobi\\',\\n       \\'10572-00200 NAIROBI\\', \\'Wangige \\', \\'Siaya\\', \\'Litein\\', \\'Washington\\',\\n       \\'Geneva\\', \\'Winchester \\', \\'Mariashoni\\', \\'Mwiki\\', \\'Limuru \\',\\n       \\'Nairobi i\\', \\'P O Box 898-00100 NAIROBI\\', \\'KAWNGWARE NAIROBI \\',\\n       \\'rongai\\', \\'Roysambu\\', \\'NAIROBI UMOJA\\', \\'kangema\\',\\n       \\'P.O.Box 848-00208 NGONG\\', \\'Braunschweig \\', \\'Wote MAKUENI\\',\\n       \\'814_3 300 KAPSABET \\', \\'Box 2316 Machakos\\', \\'Ruaraka\\', \\'Nyahururu\\',\\n       \\'Kenmore \\', \\'Melbourne \\', \\'1711 Nyahururu\\', \\'nanyuki\\',\\n       \\'kawangware \\', \\'Narok\\', \\'Githunguri\\', \\'Mahindi \\', \\'Moncton\\',\\n       \\'kERUGOYA\\', \\'Homa Bay\\', \\'Ukunda\\', \\'Mukurweini \\', \\'Malindi \\',\\n       \\'narumoru\\', \\'Juba\\', \\'01000-214 Thika\\', \\'kabete \\', \\'Kajiado\\',\\n       \\'NAROK \\', \\'Kapenguria \\', \\'Athi-river \\', \"murang\\'a \", \\'Gem\\',\\n       \\'nyahururu \\', \\'Gachie \\', \\'Kirinyaga\\', \\' Nairobi \\', \\'CALIFORNIA\\',\\n       \\'Bomet\\', \\'molo\\', \\'Chuka\\', \\'Nairobi, Kenya.\\', \\'ANTONY\\',\\n       \\'wite-makueni\\', \\'ugunja\\', \\'Matunda \\', \\'KARORI\\', \\'kikuyu \\',\\n       \\'Shinyalu \\', \\'Molo\\', \\'KIPKAREN\\', \\'KANGUNDO \\', \\'LUTON\\', \\'FLORIDA\\',\\n       \\'NGEWA\\', \\'SUSWA\\', \\'USA\\', \"KENOL MURANG\\'A \", \\'PUYALLUP WA USA\\',\\n       \\'LAARE\\', \\'P.O Box 30231 - 00100, Nairobi\\', \\'Runyenjes\\',\\n       \\'KENDUBAY \\', \\'Gigiri, Nairobi\\', \\'GATUKUYU\\', \\'BUNYALA\\', \\'OKIA\\',\\n       \\'3704 GPO NAIROBI \\', \\'RANGWE\\', \\'KITUI KENYA\\', \\'SAUDI ARABIA\\',\\n       \\'JUJA KALIMONI\\', \\'MSA\\', \\'GAKUNYU\\', \\'MIHARATI\\', \\'KERUGOYA TOWN\\',\\n       \\'RAGENGNI\\', \\'mwingi \\', \\'NBI\\', \\'IGOJI\\', \\'KIMULOT\\', \\'LONDIANI\\',\\n       \\'CAMBRIDGE\\', \\'KHAYEGA\\', \\'NDUNYU NJERU \\', \\'58-10205 Maragua\\',\\n       \\'MALINDI \\', \\'Kasarani, Clay City\\', \\'ATHI RIVER \\', \\'Sawagongo \\',\\n       \\'HELSINKI\\', \\'GPO\\', \\'BURNTFOREST\\', \\'MATUNDA \\', \\'HARRISDALE\\',\\n       \\'KARANDI\\', \\'DUKHAN \\', \\'SONDU\\', \\'EMBU, KENYA\\', \\'NAIROBI KENYA\\',\\n       \\'NANDI HILLS \\', \\'HAZELWOOD\\', \\'MGANGE\\', \\'LUCYSUMMER-NAIROBI\\',\\n       \\'KUKUYU\\', \\'NGONG ROAD\\', \\'NYAYO STADIUM\\', \\'Karen\\', \\'makuyu\\',\\n       \\'LOITIKITOK\\', \\'Kenyenya\\', \\'MUNICH \\', \\'tawa\\', \\'FUNYULA\\',\\n       \\'NOTTIGHAM\\', \\'nanyuki \\', \\'Kenny Bay\\', \\'MOMBSA\\', \\'SHERWOOD\\',\\n       \\'NDARAGWA\\', \\'ongata rongai\\', \\'BUMALA\\', \\'MEITINGEN \\', \\'80100\\',\\n       \\'KOMBEWA\\', \\'DOYSELDOR\\', \\'NOTTINGHAM\\', \\'VIENNA\\', \\'KISERIAN KAJIADO\\',\\n       \\'NAIROBI, KENYA\\', \\'Mtwapa \\', \\'KEUMBU\\', \\'Kerugoya Town\\', \\'KAP \\',\\n       \\'UPPER HILL NAIROBI\\', \\'MOI;S BRIDGE\\', \\'ENTERPRISE  ROAD\\',\\n       \\'THIONGO-NAIROBI\\', \\'KATHONZWENI\\', \\'UTAWALA\\', \\'MIU ATHI-RIVER\\',\\n       \\'CHAMAKANGA\\', \\'NYAMACHE\\', \\'NUERI\\', \\'SULTAN HAMUD\\', \\'NAROMORU \\',\\n       \\'NYAMIRA \\', \\'NAIROBI BURU\\', \\'HAMBURG\\', \\'TOWN \\', \\'14 KADONGO 40223\\',\\n       \\'Mois Bridge \\', \\'RUNYENJES \\', \\'MARAGWA\\', \\'SURPRISE,USA\\',\\n       \\'KALAMBA \\', \\'Ruai\\', \\'KADONGO\\', \\'TORONGO\\', \\'NJABINI\\',\\n       \\'GIGIRI, VILLAGE MARKET, NAIROBI\\', \\'LAVINGTON\\', \\'SPRING VALLEY\\',\\n       \\'MBUMBUNI\\', \\'NAIROBI MUNICIPALITY\\', \\'NAIROBI,KENYA\\',\\n       \\'Bamburi Mtambo \\', \\'GITHURAI\\', \\'RUMURUTI\\',\\n       \\'Kenyatta Highway, Nanyuki\\', \\'MUTOMO\\', \\'KENYATTA HOSPITAL\\',\\n       \\'NAIROBI GENERAL POST OFFICE\\', \\'LITIEN\\', \\'LONDIANI \\',\\n       \\'ONGATA RONGAI NAIROBI\\', \\'GATUNDU \\', \\'GAMBONI\\', \\'NAIROB\\',\\n       \\'L.KABETE\\', \\'ATHI - RIVER\\', \\'kerugoya \\', \\'Webuye \\', \\'Maralal\\',\\n       \\'Andover\\', \\'mombas\\', \\'Kiambu 627-00900\\', \\'Maragua\\',\\n       \\'murang*a 10200-658\\', \\'Syracuse\\', \\'Karen Nairobi \\',\\n       \\'ontario, California 91764 \\', \\'Karlsruhe \\', \\'Nyamira \\', \\'Olkalau\\',\\n       \\'GILGIL, KENYA\\', \\'Kerugoya \\',\\n       \\'14 AV FERNAND FENZY92160  ANTONY FRANCE\\'], dtype=object)'}, 'execution_count': 57, 'metadata': {}, 'output_type': 'execute_result'}], 'source': \"#checking the unique values from the town column\\ndf['town'].unique()\"}, {'cell_type': 'markdown', 'metadata': {}, 'source': '1.4.4 Checking Unique values from the relationship  column'}, {'cell_type': 'code', 'execution_count': 58, 'metadata': {}, 'outputs': [{'data': {'text/plain': 'array([\\'Partner\\', \\'Sister\\', \\'Husband \\', \\'Husband\\', \\'Daughter\\', \\'Brother \\',\\n       \\'Son\\', \\'Daughter \\', \\'Wife\\', \\'Father\\', \\'Mother\\', \\'Brother\\', \\'son\\',\\n       \\'mother\\', \\'father\\', \\'Mother \\', \\'SPOUSE\\', \\'FRIEND\\', \\'Spouse \\',\\n       \\'WIfe\\', \\'Father \\', \\'Spouse\\', \\'child\\', nan, \\'Parent\\', \\'wife\\',\\n       \\'Wife \\', \\'Son \\', \\'spouse\\', \\'doughter\\', \\'CHILD\\', \\'ParentChild\\',\\n       \\'partner\\', \\'brother\\', \\'sister\\', \\'MotheR\\', \\'Friend\\', \\'Child\\',\\n       \\'Cousin\\', \\'Dad\\', \\'Mum\\', \\'MOTHER\\', \\'WIFE\\', \\'Sister \\', \\'SON\\',\\n       \\'BROTHER\\', \\'FATHER\\', \\'aunt \\', \\'Grandmother\\', \\'HUSBAND\\', \\'self\\',\\n       \\'husband\\', \\'husband \\', \\'Owner\\', \\' Grand daughter\\', \\'Nephew\\',\\n       \\'SP0USE\\', \\'Self\\', \\'parent\\', \\'SISTER\\', \\'NIECE\\', \\'Niece\\', \\'daughter\\',\\n       \\'Sibling\\', \\'DAUGHTER\\', \\'AUNT\\', \\'brother \\', \\'254701361835\\',\\n       \\'Parent \\', \\'daughter \\', \\'FAITHER\\', \\'Family \\', \\'SPOUSE \\',\\n       \\'Sibling \\', \\'PARENT\\', \\'CONFIDANT\\', \\'MUM\\', \\'DAD\\', \\'wife \\', \\'family\\',\\n       \\'Trustee \\', \\'son \\', \\'mother \\', \\'MOTHER \\', \\'friend\\', \\'spouse \\',\\n       \\'S0N\\', \\'SISTER \\', \\'FATHER \\', \\'father \\', \\'FAMILY \\', \\'WifE\\',\\n       \\'Partner \\', \\'daugther\\', \\'1226805243;130143346\\', \\'relative\\',\\n       \\'BROTHER \\', \\'Daighter\\', \\'Advisor\\', \\'SON \\', \\'AUNTIE\\', \\'FIANCEE\\',\\n       \\'Fiancee\\', \\'DOUGHTER\\', \\'parent \\', \\'HUSBAND \\', \\'DAUGHTER \\', \\'SELF\\',\\n       \\'MOther\\', \\'mOTHER\\', \\'Aunt\\', \\'Grandparent\\', \\'Bother \\', \\'SO\\',\\n       \\'married\\', \\'MARRIED\\', \\'FIANCE\\', \\'Doughter \\', \\'Guardian \\',\\n       \\'ASS0CIATE\\', \\'sibling\\', \\'fiance\\', \\'Sistet\\', \\'Grandson\\', \\'Doughter\\',\\n       \\'DAUGTHER\\', \\'wIFE\\', \\'Bro\\', \\'PARTNER\\', \\'B INLAW\\', \\'GUARDIAN\\',\\n       \\'daughte\\', \\'Mom\\', \\'COUSIN\\', \\'GRANDMA\\', \\'aunt\\', \\'Domestic Partner\\',\\n       \\'PATNER\\', \\'me\\', \\'MENTOR\\', \\'UNCLE\\', \\'Sis\\', \\'SiBLING\\', \\'GRAND SON\\',\\n       \\'Fiance \\', \\'KID\\', \\'SIBLING\\', \\'GRANDSON\\', \\'Nephew \\', \\'-\\', \\'Cousin \\',\\n       \\'DAUGHETR\\', \\'Person\\', \\'s0n\\', \\'na\\', \\'myson\\', \\'PARTNER \\', \\'Bishop\\',\\n       \\'nephew\\', \\'mwas\\', \\'Mothers\\', \\'Friend \\', \\'Child \\', \\'daughter33\\',\\n       \\'CLOSE FRIEND\\', \\'hUSBAND\\', \\'CLOSEFRIEND\\', \\'Boyfriend \\',\\n       \\'dependant\\', \\'WIFE \\', \\'MARRIAGE\\', \\'GRAND DAUGHTER\\', \\'DAUGHER\\',\\n       \\'Niece \\', \\'granddaughter\\', \\'grandson\\', \\'DAUGHTER/CHILD\\',\\n       \\'RELATIVE\\', \\'mum\\', \\'single\\', \\'Self \\', \\'sister \\', \\'Mother TO SON\\',\\n       \\'Grandfather\\', \\'DAD \\', \\'Relative\\', \\'Daughter-in-law \\',\\n       \\'GRANDMOTHER\\', \\'child \\', \\'15\\', \\'DaD\\', \\'GIRLFRIEND\\', \\'FAMILY\\',\\n       \\'Uncle \\', \\'SiNGLE\\', \\'SINGLE\\', \\'fiancee\\', \\'FaMILY\\', \\'BENEFICIARY\\',\\n       \\'OWNER\\', \\'Relative \\', \\'GRANDDAUGHTER\\', \\' Spouse\\', \\'uncle\\',\\n       \\'Married \\', \\'chil\\', \\'CHILD MINOR\\', \\'33\\', \\'NEPHEW\\', \\'JOINT PARTNER\\',\\n       \\'MOTHERS \\', \\'Fiancé \\', \\'Others \\', \\'Grand daughter\\',\\n       \\'DAUGHTER-IN-LAW\\', \\'Na\\', \\'CHILD \\', \\'SPIRITUAL FATHER\\', \\'COUSN\\',\\n       \\'DEPEDANT\\', \\'Estate\\', \\'Uncle\\', \\'sISTER\\', \\'sisiter\\', \\' BROTHER\\',\\n       \\'Granddaughter \\', \\'BRother\\', \\'Aunt \\', \\'cousin\\', \\'Baby\\', \\'Morher\\',\\n       \\'MOM\\', \\'God mother\\', \\'GRANDSON \\', \\'Husband/spouse\\', \\'SPOUCE\\',\\n       \\'uncle \\', \\'FRIEND \\', \\'Single\\', \\'Vhild\\', \\'Patner\\', \\'Spouce\\',\\n       \\'Family\\', \\'SoN\\', \\'SisteR\\', \\'AUNTY\\', \\'FATHER-IN-LAW\\', \\'SonS\\', \\'0\\',\\n       \\'MO9\\', \\'Fiance\\', \\'33.4\\', \\'CHILF\\', \\'254727756559\\', \\'0720401466\\',\\n       \\'GRAND FATHER\\', \\'PRINCIPAL\\', \\'Guardian\\', \\'JUNIOR\\',\\n       \\'DGRAND DAUGHTER\\', \\'COWORKER\\', \\'GRAND MOTHER\\', \\'D100\\', \\'NMO\\',\\n       \\'BUSINESS PARTNER\\', \\'GURDIAN\\', \\'2021\\', \\'MotH\\', \\'MoM\\', \\'UN,CLE\\',\\n       \\'GRAND CHILD\\', \\'Sister in law\\', \\'Grand Daughter\\', \\'COMAPANION\\',\\n       \\'BOYFRIEND\\', \\'EX-WIFE\\', \\'GRANDDAUGTER\\', \\'PARNT\\', \\'M\\', \\'F\\', \\'Chils\\',\\n       \\';SON\\', \\'GUARDINA\\', \\'NiecE\\', \\'Brother-IN-LAW\\', \\'Member\\',\\n       \\'Grand mother\\', \\'ADMINISTRATOR\\', \\'VM\\', \\'GRANDFATHER\\', \\'GIRLFRIED\\',\\n       \\'Brestfriend\\', \\'Finance\\', \\'SIS\\', \\'Daughter in law\\', \\'children\\',\\n       \\'Girlfriend\\', \\'COLLEAGUE\\', \\'TRUSTEE\\', \\'254708368426\\', \\'Colleague\\',\\n       \\'Sister-IN-LAW\\', \\'GRAND-DAUGHTER\\', \\'GRANNY\\', \\'GRANDCHILD\\', \"\\'M\",\\n       \\'spouce\\', \\'SiLBLING\\', \\'Siblings\\', \\'Step-mother\\', \\'Aunty\\', \\'FREINF\\',\\n       \\'50\\', \\'100\\', \\'254723993458\\', \\'Cousins\\', \\'Cousins \\', \\'ASSOCIATE\\',\\n       \\'Fiane\\', \\'guardian\\', \\'Guadian\\', \\'Confidant\\', \\'Auntie\\', \\'GRANDPA\\',\\n       \\'mom\\', \\'Brother in Law\\', \\'BUSINESS PARTNER \\', \\'Spuose\\',\\n       \\'Business Partner\\', \\'Dating\\', \\'IN LAW\\', \\'STEP-MOM\\', \\'Son/Brother\\',\\n       \\'Chid\\', \\'Granddaughter\\', \\'niece\\', \\'Son/SISTER\\', \\'Grand Son\\',\\n       \\'BrotheR\\', \"Nolan\\'s Guardian\", \"Xena\\'s Guardian\", \\'Sister-in law\\',\\n       \\'PARENTS\\', \\'c/o\\', \\'STEP MOTHER\\', \\'NiCE\\', \\'Ciru\\', \\'DEPENDANT\\',\\n       \\'som\\', \\'GUARDIAN \\', \\'Dau`\\', \\'Kid\\', \\'PARENT \\', \\'CHILDREN\\',\\n       \\'partner \\', \\'CLOUSIN\\', \\'19112004\\', \\'twinsister\\', \\'MINOR\\',\\n       \\'Sister- Custodian\\', \\'GRANSON\\', \\'COMPANION\\', \\'ENGAGED\\',\\n       \\'WELL WISHER\\', \\'PARNER\\', \\'GRANCHILD\\', \\'Trustee\\', \\'Next of kin\\',\\n       \\'SIIBLING\\', \\'SIBLINGS\\', \\'Foster daughter\\', \\'ADMINSTRATOR\\',\\n       \\'IN-LAW\\', \\'Boyfriend\\', \\'NepheW\\', \\'EMPLOYEE\\', \\'DIRECTORS\\',\\n       \\'RELIGIOUS COMMUNITY\\', \\'CUSTODIAN\\', \\'C/O ARIANNA\\', \\'Sister IN LAW\\',\\n       \\'spose\\', \\'SPAUSE\\', \\'MEMBER\\', \\'DomesticPartner\\', \\'Grand-daughter\\',\\n       \\'Brother-in-law\\', \\'STEP-BROTHER\\', \\'Mother to Evan\\', \\'Sister-Inlaw\\',\\n       \\'BUS. PARTNER\\', \\'Sister(Guardian)\\', \\'CONTACT PERSON\\', \\'FatheR\\',\\n       \\'Brother in law\\', \\'Parwnt\\', \\'M,\\', \\'Sister-GUARDIAN\\', \\'Grand Child\\',\\n       \\'GODMOTHER\\', \\'Sister-Guardian\\', \\'Mother- Guardian\\', \\'Grandchild\\',\\n       \\'Grand son\\', \\'CHLD\\', \\'GRAND.DAUGHTER\\', \\'GRAND-MOTHER\\', \\'Parents\\',\\n       \\'EX WIFE\\', \\'Sister - Guardian\\', \\'Step-Mother\\', \\'FOSTER DAUGHTER\\',\\n       \\'Grand-mother\\', \\'God Mother\\', \\'Mother-in-law\\', \\'MEMBER \\',\\n       \\'B/S PARTNER\\', \\'LAWYER\\', \\'GRAND-SON\\', \\'parents\\', \\'Stepson\\',\\n       \\'Contingent\\', \\'grandmother\\', \\'G/Daughter\\', \\'Brother and sister\\',\\n       \\'Sibbling\\', \\' \\', \\'COUSIN \\', \\'DaughteR\\', \\'SPUOSE\\', \\'CHIILD\\',\\n       \\'DSPOUSE\\', \\'Executor\\', \\'HU\\', \\'EWIFE\\', \\'SPOUDSE\\', \\'SoPOUSE\\',\\n       \\'grandchild\\', \\'ChILD\\', \\'9266025\\', \\'PARE NT\\', \\'254700442162\\',\\n       \\'BEST FRIEND\\', \\'SISTER IN LAW \\', \\'mather\\', \\'SAVING PARTNER \\',\\n       \\'AUNTIE \\', \\'ParenChild\\', \\'GIRLFRIEND \\', \\'SINGLE \\', \\'Parentchild\\',\\n       \\'parentchild\\', \\'SPOUSE20\\', \\'Myself\\', \\'FIACEE\\', \\'SD\\',\\n       \\'Grand mother \\', \\'Mother of child\\', \\'Childnephew\\', \\'FATH \\',\\n       \\'MY SON\\', \\'BabyMother\\', \\'CHID\\', \\'GIRL FRIEND\\', \\'chils\\', \\'self \\',\\n       \"Mother\\'s \", \\'Mum \\', \\'aunty\\', \\'SPouse\\', \\'Auntie \\', \\'ChiLD\\',\\n       \\'grandmother \\', \\'Grand daughter \\', \\'auntie\\', \\'baby mama \\', \\'DA\\',\\n       \\'BrOther\\', \\'Fiancee \\', \\'In law\\', \\'Colleague \\', \\'WiFE\\', \\'owner\\',\\n       \\'sON\\', \\'Mather\\', \\'Dauhgter\\', \\'myself\\', \\'Hubby\\', \\'Sister in-law\\',\\n       \\'Aunty \\', \\'Foster parent\\', \\'grandson \\', \\'Wife/Guardian\\',\\n       \\'21761402\\', \\'GUARDIAN-MOTHER\\'], dtype=object)'}, 'execution_count': 58, 'metadata': {}, 'output_type': 'execute_result'}], 'source': \"#checking the unique values from the relationship column\\ndf['relationship'].unique()\"}, {'cell_type': 'markdown', 'metadata': {}, 'source': '1.4.5 Checking Unique values from the hse_no_ column'}, {'cell_type': 'code', 'execution_count': 59, 'metadata': {}, 'outputs': [{'data': {'text/plain': \"array(['Single Member'], dtype=object)\"}, 'execution_count': 59, 'metadata': {}, 'output_type': 'execute_result'}], 'source': \"#checking the unique values from the hse_no column\\ndf['hse_no'].unique()\"}, {'cell_type': 'markdown', 'metadata': {}, 'source': '1.4.6 Checking Unique values from the portfolio column'}, {'cell_type': 'code', 'execution_count': 60, 'metadata': {}, 'outputs': [{'data': {'text/plain': \"array(['Money Market', 'Dollar Fund', 'Wealth Fund', 'Equity Fund',\\n       'Fixed Income', 'Balanced Fund', 'MoneyMarket', nan], dtype=object)\"}, 'execution_count': 60, 'metadata': {}, 'output_type': 'execute_result'}], 'source': \"#checking the unique values from the portfolio column\\ndf['portfolio'].unique()\"}, {'cell_type': 'markdown', 'metadata': {}, 'source': '1.4.7 Checking Unique Values from the town column'}, {'cell_type': 'code', 'execution_count': 61, 'metadata': {}, 'outputs': [{'data': {'text/plain': 'array([\\'NAIROBI\\', nan, \\'NAIROBI \\', \\'THIKA\\', \\'NAKURU\\', \\'MOMBASA \\',\\n       \\'NDANAI \\', \\'KISUMU\\', \\'KIKUYU\\', \\'JUJA\\', \\'MACHAKOS\\', \\'MERU\\',\\n       \\'KERICHO\\', \\'MUKURWEINI\\', \\'KATANGI\\', \\'THIKA,KIAMBU\\', \\'NANYUKI\\',\\n       \\'RUAI \\', \\'MALINDI\\', \\'NYAHURURU\\', \\'MUMIAS\\', \\'KAKAMEGA\\', \\'LODWAR\\',\\n       \\'Nairobi \\', \\'KITENGELA\\', \\'LIMURU\\', \\'THIKA \\', \\'MIGORI\\', \\'ELDORET\\',\\n       \\'KITUI\\', \\'RUARAKA\\', \\'Ruiru\\', \\'NJORO\\', \\'EMBU\\', \\'SORI\\', \\'NGONG\\',\\n       \\'MASENO\\', \\'GATUNDU\\', \\'KAHURO\\', \\'KILIFI\\', \\'RUIRU\\', \\'KERUGOYA\\',\\n       \\'KARATINA\\', \\'KITALE \\', \\'MOMBASA\\', \\'BUNGOMA\\', \\'KISII\\', \\'-\\',\\n       \\'Nairobi\\', \\'KINAMBA\\', \\'SIAYA\\', \\'KERICHO \\', \\'KIAMBU\\', \\'KITALE\\',\\n       \\'BUSIA\\', \\'RUNYENJES\\', \\'VILLAGE MARKET\\', \\'Kapsabet\\', \\'KAGWE\\',\\n       \\'NANDI HILLS\\', \\'KUTUS\\', \\'DAGORETTI\\', \\'LITEIN\\', \\'KAJIADO\\', \\'CHUKA\\',\\n       \\'NYERI\\', \\'NAIROBI, NAIROBI\\', \\'Kisumu \\', \\'KANJUKU\\', \\'EMALI\\',\\n       \\'GILGIL\\', \\'Kiambu \\', \\'KANGEMA\\', \\'TIRIKI\\', \\'KARATINA \\', \\'OTHAYA\\',\\n       \\'KARURI ,KIAMBU\\', \\'MURANGA \\', \\'Mombasa\\', \\'GATUKUYU \\', \\'MLOLONGO\\',\\n       \\'UTAWALA \\', \\'KAPENGURIA\\', \\'KAPSABET\\', \\'SUNA\\', \\'BOMET\\', \\'KENOL \\',\\n       \\'NYERI \\', \\'BUNGOMA \\', \\'NDANAI\\', \\'KALIMONI\\', \\'KIGANJO\\',\\n       \\'KAPSOKWONY\\', \\'Nakuru\\', \\'KIAMBU \\', \\'nairobi\\', \\'CHOGORIA\\',\\n       \\'GITHUNGURI\\', \\'YOANI,SALAMA\\', \\'LIMURU \\', \\'NAIROBI, KENYA.\\',\\n       \\'UKUNDA\\', \\'MATUU\\', \\'embu\\', \\'NYALI\\', \\'nakuru\\', \\'MBALE\\', \\'EMUHAYA\\',\\n       \\'TELFORD\\', \\'NAIVASHA\\', \\'KAREN\\', \\'KILIFI \\', \\'HOLA\\', \\'MAKINDU\\',\\n       \\'WOTE\\', \\'DIANI\\', \\'O\\', \\'OLKALAU\\', \\'KAREN \\', \\'UPLANDS\\', \\'WANGÚRU\\',\\n       \\'KABIYET\\', \\'KAKAMEGA \\', \\'SOTIK\\', \\'NGONG \\', \\'CITY SQUARE\\', \\'NKUBU\\',\\n       \\'KANGARI\\', \\'NGONG HILLS \\', \\'NYAHURURU \\', \\'KARURI \\', \\'UTHIRU\\',\\n       \\'MARIMANTI\\', \\'MANCHESTER\\', \\'Kikuyu\\', \\'.\\', \\'NAIRO \\', \\'kiambu\\',\\n       \\'VOI\\', \\'EMBAKASI\\', \\'MOLO\\', \\'Siaya \\', \\'NGIYA\\', \\'OLKALOU\\',\\n       \\'KANYAGIA\\', \\'WANJOHI\\', \\'kabete\\', \\'Wamunyu\\', \\'MARIAKANI\\',\\n       \\'KISERIAN\\', \\'ARTHI RIVER \\', \\'SUBUKIA\\', \\'KILGORIS\\', \\'KIMININI\\',\\n       \\'LAGOS\\', \\'SARE\\', \\'ATHI RIVER\\', \\'ngong hills \\', \\'WERUGHA\\',\\n       \\'NAIROBIP\\', \\'MASINFA\\', \\'kikuyu\\', \\'OL JORO OROK\\', \\'MAUA\\',\\n       \\'GIKUE MURANGA\\', \\'KIMENDE\\', \\'KIMILILI\\', \\'KISUMU \\', \\'VIHIGA\\',\\n       \\' NAIROBI \\', \\'BURUBURU\\', \\'MATATHIA\\', \\'RUAKA\\', \\'UGUNJA\\', \\'LONGISA\\',\\n       \\'ELDORATE \\', \\'KAPKATET\\', \\'WINNIPEG\\', \\'PIPELINE \\', \\'KAHAWA WEST \\',\\n       \\'KANDARA\\', \\'Kimilili \\', \\'MTWAPA \\', \\'MARAGUA\\', \\'BANANA \\', \\'NYAMIRA\\',\\n       \\'AUBURN\\', \\'KARURI\\', \\'MTWAPA\\', \\'ONGATA RONGAI\\', \\'ELDORET \\',\\n       \\'HOMABAY\\', \\'WANGIGE\\', \\'KENDUBAY\\', \\'KIBWEZI\\', \\'RONGAI\\', \\'RUIRU \\',\\n       \\'NORTH KINANGOP\\', \\'MAKUYU\\', \\'Nyeri \\', \\'Eldoret \\', \\'BOUTIGNY\\',\\n       \\'00506\\', \\'MWINGI\\', \\'00100\\', \\'KERUGOYA \\', \\'TALA\\', \\'OLENGURUONE\\',\\n       \\'MAVINDINI\\', \\'UHURU GARDENS\\', \\'KIKUYU \\', \\'Ongata Rongai\\',\\n       \\'SOUTH KINANGOP\\', \\'ELDAMA RAVINE\\', \\'MITUNGURU\\', \\'TOM MBOYA\\',\\n       \\'NAKURU \\', \\'MITABONI\\', \\'NAROMORU\\', \\'MURANGA\\', \\'OLJOROROK\\',\\n       \\'BUTERE\\', \\'OYUGIS\\', \\'SILIBWET\\', \\'EMBU \\', \\'Doha\\', \\'Eldoret\\',\\n       \\'KANGEMI\\', \\'NYERI-KIGUMO\\', \\'KISERIAN \\', \\'Athi River\\', \\'KENOL\\',\\n       \\'OL KALOU\\', \\'WESTLANDS\\', \\'Nyahururu \\', \\'ENDARASHA \\', \\'GPO/NAIROBI\\',\\n       \\'DAGORETI\\', \\'OGEMBO \\', \\'mombasa\\', \\'RUAI\\', \\'DONYO SABUK\\', \\'KEROKA\\',\\n       \\'LOWER KABETE\\', \\'MWEIGA\\', \\'Naitobi\\', \\'TOKYO\\', \\'Embu\\', \\'KIRINYAGA\\',\\n       \\'KIANYAGA\\', \\'SIAYA \\', \\'ADLISWIL\\', \\'BURU BURU\\', \\'MERU \\', \\'NYAKIO\\',\\n       \\'KWALE\\', \\'AMUKURA\\', \\'NAROK\\', \\'KOBUJOI\\', \"WANG\\'URU\", \\'BONDO\\',\\n       \\'Kericho\\', \\'KIKIMA \\', \\'CHANGAMWE\\', \\'BUTULA\\', \\'NAIROBI KAYOLE\\',\\n       \\'KANGUNDO\\', \\'MARIAKANI \\', \\'TIMBOROA\\', \\'KIANJAI\\', \\'KALOLENI \\',\\n       \\'ISINYA\\', \\'IOWA CITY, IOWA\\', \\'Garsen \\', \\'MUKURWE-INI\\',\\n       \\'NAIROBI GPO\\', \\'MANYATTA\\', \\'SARE-OWENDO\\', \\'NANYUKI \\', \\'NDHIWA\\',\\n       \\'ELBURGON\\', \\'Orange\\', \\'MAKUENI\\', \\'kisumu \\', \\'MACHAKOS \\',\\n       \\'KABARNET \\', \"Murang\\'a \", \\'JUJA, KIAMBU\\', \\'Bungoma\\', \\'MAWEGO\\',\\n       \\'Bath\\', \\'ROYSAMBU\\', \\'Nanyuki\\', \\'SAGANA\\', \\'MACH \\', \\'Nyeri\\', \\'Ruaka\\',\\n       \\'KITUI \\', \\'KAJIADO \\', \\'NUNGUNI\\', \\'RONGAI \\', \\'KISII \\', \\'WANGIGE \\',\\n       \\'Makongeni Jogoo Rd\\', \\'nairobi \\', \\'Kikuyu \\', \\'Kisii\\', \\'MSAMBWENI\\',\\n       \\'BUJUMBURA\\', \\'GITHONGO\\', \\'KEROKA/KISII\\', \\'BURUBURU, NAIROBI\\',\\n       \\'MALAVA\\', \\'KIJABE\\', \\'Woolwich \\', \\'NDERE-SIAYA\\', \\'AHERO\\',\\n       \\'MUHORONI \\', \\'Nakuru \\', \\'kahuro\\', \\'Malakisi \\', \\'MUHORONI\\',\\n       \\'ISIOLO\\', \\'SYOKIMAU \\', \\'ONGATA RONGAI \\', \\'Maralal \\',\\n       \\'KIBIRICHIA, MERU\\', \\'GRANGER, INDIANA\\', \\'WESTLAND \\', \\'MUKURWEINI \\',\\n       \\'MASII\\', \\'NRB\\', \\'KWISERO\\', \\'ANKARA\\', \\'SHIMBA HILLS\\', \\'TAVETA\\',\\n       \\'WOTE, MAKUENI \\', \\'WANGURU\\', \\'KISSII\\', \\'BURUBURU NAIROBI \\',\\n       \\'KIRITIRI\\', \\'MESA ARIZONA\\', \\'KAJIADO TOWN\\', \\'KURIA\\',\\n       \\'NAIROBI WEST\\', \\'ENDARASHA\\', \\'KIPKAREN \\', \\'0\\', \\'GAMBOGI\\', \\'KOLA\\',\\n       \\'Marsabit\\', \\'WEBUYE\\', \\'GAKUNGU\\', \\'NAIROBJ\\',\\n       \\'NAIROBI ,KAMITI ROAD RICHLAND\\', \\'NKUBU \\', \\'MWATATE\\', \\'MALAKISI\\',\\n       \\'ITEN\\', \\'KATHIANI\\', \"MURANG\\'A\", \\'KAIRIA\\', \\'UPLANDS \\', \\'RONGO\\',\\n       \\'UHURU GARDEN\\', \\'KINANGOP\\', \\'BAHATI NAKURU \\', \\'MATILIKU\\', \\'meru\\',\\n       \\'Limuru\\', \\'MALAA\\', \\'TURBO\\', \\'MARIMA -MERU HIGHWAY \\', \\'OLJORO OROK\\',\\n       \\'homabay \\', \\'KIKIMA\\', \\'ADAMS ARCADE\\', \\'MUNICH\\', \\'MUMIAS \\',\\n       \\'KALIMONI \\', \\'CHWELE\\', \\'MARALAL\\', \\'NAMBALE\\', \\'NAIROBI COUNTY\\',\\n       \\'Narok \\', \\'TURBO \\', \\'KANGARI \\', \\'Pécs \\', \\'thika\\', \\'KATSE\\',\\n       \\'thika \\', \\'CHEBUNYO\\', \\'OL JORO OROK \\', \\'MOBIL PLAZA\\', \\'WAMUNYU \\',\\n       \\'MAGUNGA\\', \\'RORET\\', \\'YALA\\', \\'KAHUHIA\\', \"KENOL MURANG\\'A\",\\n       \\'Machakos\\', \\'UKWALA\\', \\'KALOLENI\\', \\'JOONDALUP\\', \\'MIGORI \\',\\n       \\'MARAGOLI\\', \\'MARMANET\\', \\'IKANGA\\', \\'KINOO\\', \\'OYUGIS \\', \\'LANGATA\\',\\n       \\'Kiambu\\', \\'Malindi\\', \\'NAIROBI.\\', \\'MAKUENI \\', \\'Bungoma \\',\\n       \\'GITHUNGURI \\', \\'MACHOKOS\\', \\'KOMBEWA \\', \\'UTHIRU \\', \\'KITENGELA \\',\\n       \\'BANANA\\', \\'CHEPKORIO\\', \\'MASII \\', \\'Gitugi\\', \\'. \\', \\'RUIRY\\', \\'Kisumu\\',\\n       \\'MBUMBUNI-MACHAKOS\\', \\'WAMUYU\\', \\'siaya\\', \\'Kakamega\\', \\'TAITA TAVETA\\',\\n       \\'Bumala\\', \\'KIMENDE \\', \\'BRISTOL\\', \\'MATUNDA\\', \\'KARABA\\', \\'SULTAN\\',\\n       \\'GATURA\\', \\'KASARANI ,NAIROBI \\', \\'NANDI\\', \\'MAGUTUNI\\', \\'CHUKA \\',\\n       \\'NGONG HILL\\', \\'ngong\\', \\'KIANGAI\\', \\'MBITA\\', \\'Mumias\\', \\'KAMBITI\\',\\n       \\'MUMBI\\', \\'Juja\\', \\'WODANGA\\', \\'KIRIANI\\', \\'KABARNET\\', \\'MISIKHU\\',\\n       \\'Thika\\', \\'NYANSIONGO\\', \\'nyeri \\', \\'NAIVASHA \\', \"MURANG\\'A \",\\n       \\'KAPCHENO\\', \\'NGARA\\', \\'MADARAKA\\', \\'kitengela \\', \\'BONDO \\', \\'WAMUNYU\\',\\n       \\'NYANDARUA\\', \\'MOGOGOSIEK\\', \\'00\\', \\'NAIROBI/JUJA\\', \\'NA \\', \\'LUANDA\\',\\n       \\'KLEMZIG\\', \\'TEL AVIV\\', \\'ongata rongai \\', \\'30-60101 Manyatta \\',\\n       \\'12410 Nyeri\\', \\'KATHONZWENI \\', \\'GITHURAI \\', \\'WESRN AUSTRALIA\\',\\n       \\'SABASABA \\', \\'Gilgil \\', \\'ISEBANIA\\', \\'KIRIAINI\\', \\'MUTHETHENI \\',\\n       \\'Mombasa \\', \\'Kitengela\\', \\'CARLIFONIA\\', \\'NIL\\',\\n       \\'NAIROBI, NAIROBI AREA, KENYA\\', \\'SOY\\', \\'Sabasaba\\', \\'SABASABA\\',\\n       \\'COLUMBIA\\', \\'Homa Bay \\', \\'MARIMA\\', \\'SEGA\\', \\'KAYOLE\\', \\'BUDD LAKE\\',\\n       \\'KITHYOKO\\', \\'KIJABE \\', \\'Mbale\\', \\'KITHIMANI\\', \\'HANOI\\', \\'chuka\\',\\n       \\'KILINDINI\\', \\'MERY\\', \\'CHELMSFORD\\', \\'LOITOKITOK\\', \\'MOSORIOT\\',\\n       \\'IKONGE\\', \\'ENGINEER\\', \\'Othaya\\', \\'Ahero\\', \\'MWEA\\', \\'JOSKA \\',\\n       \\'NGAMBWA\\', \\'MASINGA\\', \\'KINANGOP \\', \\'LONDON\\', \\'KILELESHWA \\',\\n       \\'SARIT CENTRE\\', \\'mgange \\', \\'ST. MARYS NSW\\', \\'GESIMA\\', \\'Migori \\',\\n       \\'KHWISERO\\', \\'SYOKIMAU\\', \\'MTITO ANDEI \\', \\'nakuru \\', \\'NAIROBI CITY\\',\\n       \\'ATHIRIVER\\', \\'KABATI\\', \\'Kitale\\', \\'MPEKETONI\\', \\'YOANI\\',\\n       \\'KABARTONJO\\', \\'NAMANGA\\', \\'CHESINENDE\\', \\'BAHATI\\', \\'NZEEKA\\',\\n       \\'MATATHIA, KAMAE\\', \\'RONALD NGALA \\', \\'KUBUKUBU\\', \\'THOGOTO\\',\\n       \\'GATORA\\', \\'NAI \\', \\'KUJA,KIAMBU\\', \\'Machakos \\', \\'AMAGORO\\', \\'Uthiru\\',\\n       \\'Naivasha\\', \\'KEROKA \\', \\'MAZERAS\\', \\'EGERTON\\', \\'KASARANI\\', \\'Kimende\\',\\n       \\'WAJIR\\', \\'DUBAI\\', \\'TWO RIVERS\\', \\'NDARAGWA \\', \\'EASTLEIGH\\', \\'KAGIO\\',\\n       \\'HOMA BAY\\', \\'KISII, KENYA\\', \\'Thika \\', \\'NGECHA\\', \\'Kakamega \\',\\n       \\'KERINGET\\', \\'FORT WAYNE\\', \\'STAREHE\\', \\'GILGIL \\', \\'KAWANGWARE\\',\\n       \\'GPO NAIROBI\\', \\'GITUGI\\', \\'Tala\\', \\'kakamega \\', \\'TEXAS\\', \\'GACHIE\\',\\n       \\'Syokimau\\', \\'Sydney \\', \\'LESSOS\\', \\'Meru \\', \\'KIPKAREN RIVER\\',\\n       \\'SOSIOT\\', \\'LAKEWOOD SEATTLE\\', \\'Lodwar\\', \\'Kitale \\', \\'Membley\\',\\n       \\'chepkorio\\', \\'Luanda\\', \\'Kijabe \\', \\'TONGAREN\\', \\'karuri \\', \\'malindi\\',\\n       \\'Ogembo \\', \\'Maryland\\', \\'Kisii Town \\', \\'kajiado \\', \\'LIKONI\\',\\n       \\'wangige \\', \\'Ngong\\', \\'OLKALOU \\', \\'4597-20100 Nakuru\\', \\'GARISSA\\',\\n       \\'KIRIAINI \\', \\'SYOKIMAU L\\', \\'Machakos, Kathiani\\', \\'Kitui\\',\\n       \\'AUSTRALIA\\', \\'Bondo\\', \\'Salama \\', \\'bomet \\', \\'Naivasha \\',\\n       \\'TOORMINA, NSW\\', \\'Utawala\\', \\'Ankara\\', \\'MOISBRIDGE\\', \\'nbo\\',\\n       \\'Kijabe\\', \\'KABAZI\\', \\'P.O BOX 75-30105 SOY\\', \\'kisumu\\', \\'nyeri\\',\\n       \\'Voi\\', \\'Kanjuku\\', \"NG\\'IYA\", \\'Muranga\\', \\'Bournemouth \\',\\n       \\'SARE-AWENDO\\', \\'narok\\', \\'Ruiru \\', \\'Kilifi \\', \\'Meru\\',\\n       \\'Ol-joro-orok\\', \\'152 30100 eldoret \\', \\'Mtwapa\\', \\'Karuri\\',\\n       \\'Kitengela \\', \\'Isiolo \\', \\'38061-00623 Nairobi\\', \\'Ngong Hills\\',\\n       \\'RARIEDA\\', \\' Nairobi County,\\', \\'187 Ngewa\\', \\'NJAMBINI\\',\\n       \\'25635 00603 Nairobi\\', \\'GIKOE\\', \\'kakamega\\', \\'ISHIARA \\',\\n       \\'P. O. Box 111 Ruiru\\', \\'Kibwezi\\', \\'Syokimau \\', \\'kiambu \\', \\'Bomet \\',\\n       \\'Busia\\', \\'Gilgil\\', \\'LAMU\\', \\'Kajiado \\', \\'makueni \\', \\'kisii\\',\\n       \\'MERU 2274\\', \\'TURKANA\\', \\'Kilifi\\', \\'nottingham\\', \\'Embakasi\\',\\n       \\'Masii - MACHAKOS\\', \\'SEREM\\', \\'Tala, Kangundo. \\', \\'Ugunja\\',\\n       \\'Karatina\\', \\'Migori\\', \\'Berlin\\', \\'KALAMBA\\', \\'UKUNDA \\', \\'ruiru\\',\\n       \\'Sondu\\', \\'BUSIA - PORT VICTORIA \\', \\'Matuu.\\', \\'Gatundu\\',\\n       \\'Seasons Kasarani. \\', \\'KARUNGU\\', \\'Kahawa Sukari\\', \\'Kangundo \\',\\n       \\'mombasa \\', \\'St. Georges\\', \\'maseno\\', \\'KINDARUMA \\',\\n       \\'kakuma 1 Nuer community \\', \\'copenhagen\\', \\'549 LIMURU\\', \\'Lamu\\',\\n       \\'DRESDEN\\', \\'Ol Kalou \\', \\'KIRIA-INI \\', \\'123 KIKUYU\\', \\'Kianyaga\\',\\n       \\'Kasarani\\', \\'Makueni \\', \\'KABETE\\', \\'Sagana\\',\\n       \\'Imani avenue, Ongata Rongai, Kajiado\\', \\'LOS ANGELES\\', \\'KAKUMA\\',\\n       \\'kitengela\\', \\'56-10300 Kerugoya\\', \\'Kalimoni P.o Box 178-01001\\',\\n       \\'Nairobi, Komarock.\\', \\'kilifi\\', \\'NAIROBI, KITENGELA \\',\\n       \\'14 Lamina Avenue, Mill Park VIC 3082\\', \\'kebirigo \\', \\'Darwin \\',\\n       \\'Kericho \\', \\'Nairibi\\', \\'782 - 00232 Ruiru\\', \\'eldoret\\', \\'Oyugis\\',\\n       \\'Conroe\\', \\'NAIROBI 572 00300\\', \\'Eldama Ravine\\', \\'Kabete \\', \\'Maua\\',\\n       \\'Isiolo\\', \\'828-90200\\', \\'Athens\\', \\'Chicago \\', \\'Hola\\', \\'Abu Dhabi \\',\\n       \\'Nyayo Estate, Court 521\\', \\'Deanside\\', \\'452-00200, KIAMBU\\',\\n       \\'KOBENHAUN\\', \\'karuri\\', \\'Nanyuki \\', \\'P.O. Box 2413-60200, Meru\\',\\n       \\'Kenol\\', \\'Wote\\', \\'githunguri \\', \\'NAIROBI. 45095-00100\\', \\'Serem\\',\\n       \\'P.o.box 1298-00618 Ruaraka, Nairobi\\', \\'Vienna \\', \\'karen\\',\\n       \\'CHICAGO\\', \\'GENEVA\\', \\'Kiserian \\', \\'Kabarnet\\', \\'RABAI\\',\\n       \\'KIAMBU COUNTY\\', \\'Uthiru Cooperation \\', \\'Githunguri \\',\\n       \\'79718-00200 NAIROBI\\', \\'stockholm\\', \\'42 NDARAGWA\\',\\n       \\'P.O. Box 103635-00101\\', \\'Heuchlingen \\', \\'PORT VICTORIA\\',\\n       \\'Doolandella, Australia\\', \\'Grand Oyster Kileleshwa, Nairobi\\',\\n       \\'10572-00200 NAIROBI\\', \\'Wangige \\', \\'Siaya\\', \\'Litein\\', \\'Washington\\',\\n       \\'Geneva\\', \\'Winchester \\', \\'Mariashoni\\', \\'Mwiki\\', \\'Limuru \\',\\n       \\'Nairobi i\\', \\'P O Box 898-00100 NAIROBI\\', \\'KAWNGWARE NAIROBI \\',\\n       \\'rongai\\', \\'Roysambu\\', \\'NAIROBI UMOJA\\', \\'kangema\\',\\n       \\'P.O.Box 848-00208 NGONG\\', \\'Braunschweig \\', \\'Wote MAKUENI\\',\\n       \\'814_3 300 KAPSABET \\', \\'Box 2316 Machakos\\', \\'Ruaraka\\', \\'Nyahururu\\',\\n       \\'Kenmore \\', \\'Melbourne \\', \\'1711 Nyahururu\\', \\'nanyuki\\',\\n       \\'kawangware \\', \\'Narok\\', \\'Githunguri\\', \\'Mahindi \\', \\'Moncton\\',\\n       \\'kERUGOYA\\', \\'Homa Bay\\', \\'Ukunda\\', \\'Mukurweini \\', \\'Malindi \\',\\n       \\'narumoru\\', \\'Juba\\', \\'01000-214 Thika\\', \\'kabete \\', \\'Kajiado\\',\\n       \\'NAROK \\', \\'Kapenguria \\', \\'Athi-river \\', \"murang\\'a \", \\'Gem\\',\\n       \\'nyahururu \\', \\'Gachie \\', \\'Kirinyaga\\', \\' Nairobi \\', \\'CALIFORNIA\\',\\n       \\'Bomet\\', \\'molo\\', \\'Chuka\\', \\'Nairobi, Kenya.\\', \\'ANTONY\\',\\n       \\'wite-makueni\\', \\'ugunja\\', \\'Matunda \\', \\'KARORI\\', \\'kikuyu \\',\\n       \\'Shinyalu \\', \\'Molo\\', \\'KIPKAREN\\', \\'KANGUNDO \\', \\'LUTON\\', \\'FLORIDA\\',\\n       \\'NGEWA\\', \\'SUSWA\\', \\'USA\\', \"KENOL MURANG\\'A \", \\'PUYALLUP WA USA\\',\\n       \\'LAARE\\', \\'P.O Box 30231 - 00100, Nairobi\\', \\'Runyenjes\\',\\n       \\'KENDUBAY \\', \\'Gigiri, Nairobi\\', \\'GATUKUYU\\', \\'BUNYALA\\', \\'OKIA\\',\\n       \\'3704 GPO NAIROBI \\', \\'RANGWE\\', \\'KITUI KENYA\\', \\'SAUDI ARABIA\\',\\n       \\'JUJA KALIMONI\\', \\'MSA\\', \\'GAKUNYU\\', \\'MIHARATI\\', \\'KERUGOYA TOWN\\',\\n       \\'RAGENGNI\\', \\'mwingi \\', \\'NBI\\', \\'IGOJI\\', \\'KIMULOT\\', \\'LONDIANI\\',\\n       \\'CAMBRIDGE\\', \\'KHAYEGA\\', \\'NDUNYU NJERU \\', \\'58-10205 Maragua\\',\\n       \\'MALINDI \\', \\'Kasarani, Clay City\\', \\'ATHI RIVER \\', \\'Sawagongo \\',\\n       \\'HELSINKI\\', \\'GPO\\', \\'BURNTFOREST\\', \\'MATUNDA \\', \\'HARRISDALE\\',\\n       \\'KARANDI\\', \\'DUKHAN \\', \\'SONDU\\', \\'EMBU, KENYA\\', \\'NAIROBI KENYA\\',\\n       \\'NANDI HILLS \\', \\'HAZELWOOD\\', \\'MGANGE\\', \\'LUCYSUMMER-NAIROBI\\',\\n       \\'KUKUYU\\', \\'NGONG ROAD\\', \\'NYAYO STADIUM\\', \\'Karen\\', \\'makuyu\\',\\n       \\'LOITIKITOK\\', \\'Kenyenya\\', \\'MUNICH \\', \\'tawa\\', \\'FUNYULA\\',\\n       \\'NOTTIGHAM\\', \\'nanyuki \\', \\'Kenny Bay\\', \\'MOMBSA\\', \\'SHERWOOD\\',\\n       \\'NDARAGWA\\', \\'ongata rongai\\', \\'BUMALA\\', \\'MEITINGEN \\', \\'80100\\',\\n       \\'KOMBEWA\\', \\'DOYSELDOR\\', \\'NOTTINGHAM\\', \\'VIENNA\\', \\'KISERIAN KAJIADO\\',\\n       \\'NAIROBI, KENYA\\', \\'Mtwapa \\', \\'KEUMBU\\', \\'Kerugoya Town\\', \\'KAP \\',\\n       \\'UPPER HILL NAIROBI\\', \\'MOI;S BRIDGE\\', \\'ENTERPRISE  ROAD\\',\\n       \\'THIONGO-NAIROBI\\', \\'KATHONZWENI\\', \\'UTAWALA\\', \\'MIU ATHI-RIVER\\',\\n       \\'CHAMAKANGA\\', \\'NYAMACHE\\', \\'NUERI\\', \\'SULTAN HAMUD\\', \\'NAROMORU \\',\\n       \\'NYAMIRA \\', \\'NAIROBI BURU\\', \\'HAMBURG\\', \\'TOWN \\', \\'14 KADONGO 40223\\',\\n       \\'Mois Bridge \\', \\'RUNYENJES \\', \\'MARAGWA\\', \\'SURPRISE,USA\\',\\n       \\'KALAMBA \\', \\'Ruai\\', \\'KADONGO\\', \\'TORONGO\\', \\'NJABINI\\',\\n       \\'GIGIRI, VILLAGE MARKET, NAIROBI\\', \\'LAVINGTON\\', \\'SPRING VALLEY\\',\\n       \\'MBUMBUNI\\', \\'NAIROBI MUNICIPALITY\\', \\'NAIROBI,KENYA\\',\\n       \\'Bamburi Mtambo \\', \\'GITHURAI\\', \\'RUMURUTI\\',\\n       \\'Kenyatta Highway, Nanyuki\\', \\'MUTOMO\\', \\'KENYATTA HOSPITAL\\',\\n       \\'NAIROBI GENERAL POST OFFICE\\', \\'LITIEN\\', \\'LONDIANI \\',\\n       \\'ONGATA RONGAI NAIROBI\\', \\'GATUNDU \\', \\'GAMBONI\\', \\'NAIROB\\',\\n       \\'L.KABETE\\', \\'ATHI - RIVER\\', \\'kerugoya \\', \\'Webuye \\', \\'Maralal\\',\\n       \\'Andover\\', \\'mombas\\', \\'Kiambu 627-00900\\', \\'Maragua\\',\\n       \\'murang*a 10200-658\\', \\'Syracuse\\', \\'Karen Nairobi \\',\\n       \\'ontario, California 91764 \\', \\'Karlsruhe \\', \\'Nyamira \\', \\'Olkalau\\',\\n       \\'GILGIL, KENYA\\', \\'Kerugoya \\',\\n       \\'14 AV FERNAND FENZY92160  ANTONY FRANCE\\'], dtype=object)'}, 'execution_count': 61, 'metadata': {}, 'output_type': 'execute_result'}], 'source': \"#checking the unique values from the town column\\ndf['town'].unique()\"}, {'cell_type': 'markdown', 'metadata': {}, 'source': '1.5 Inspecting the dataframe for null values'}, {'cell_type': 'code', 'execution_count': 62, 'metadata': {}, 'outputs': [{'data': {'text/plain': 'member_no                0\\nreg_date              1863\\ndob                  20038\\nhse_no                   0\\ngender                4667\\ntown               1048216\\nrelationship       1632933\\nbeneficiery_dob    1086598\\nportfolio                9\\ndtype: int64'}, 'execution_count': 62, 'metadata': {}, 'output_type': 'execute_result'}], 'source': '#inspecting the dataframe for null values\\ndf.isna().sum()'}, {'cell_type': 'markdown', 'metadata': {}, 'source': 'Summary of Data Interpretation:\\n\\n<small>\\n\\n- Few Missing Values: Columns like reg_date and portfolio have minimal missing data, which can be addressed through simple imputation (e.g., filling with median/mode) or row removal if necessary.\\n\\n- Many Missing Values: Columns such as town, relationship, and beneficiery_dob have a significant amount of missing data, potentially requiring advanced imputation or consideration for removal based on their importance.\\n\\n- Moderate Missing Values: dob and gender have a notable but manageable level of missing entries, so imputation using related data could be a practical solution</small>'}, {'cell_type': 'markdown', 'metadata': {}, 'source': '1.6 Checking for duplicates'}, {'cell_type': 'code', 'execution_count': 63, 'metadata': {}, 'outputs': [{'data': {'text/plain': '7407066'}, 'execution_count': 63, 'metadata': {}, 'output_type': 'execute_result'}], 'source': '#inspecting the dataframe duplicate values\\ndf.duplicated().sum()'}, {'cell_type': 'markdown', 'metadata': {}, 'source': '1.7 Dropping duplicated values'}, {'cell_type': 'markdown', 'metadata': {}, 'source': 'In the below code block, we drop duplicated values.'}, {'cell_type': 'code', 'execution_count': 64, 'metadata': {}, 'outputs': [], 'source': 'df = df.drop_duplicates()'}, {'cell_type': 'markdown', 'metadata': {}, 'source': \"**From our problem statement, we aim to cross sell investment products depending on Age, Gender and Location.** Therefore, we are going to drop some columns which are irrelevant. e.g. hse_no,reg_date.\\n<small>\\n\\n**Age, gender, and location** are important factors when selling investment products. Here's why:\\n\\n**Age**: People of different ages have different investment needs. Younger people might want higher-risk, high-return investments, while older people often prefer safer options as they near retirement.\\n\\n**Gender**: Men and women can have different preferences and behaviors when it comes to investing, so understanding this helps in offering the right products.\\n\\n**Location**: Where someone lives can affect their investment choices because of local economic conditions and culture. For example, people in cities might invest differently than those in rural areas.</small>\\n\"}, {'cell_type': 'markdown', 'metadata': {}, 'source': \"1.8 Dropping irrelevant columns- reg_date','hse_no'\"}, {'cell_type': 'code', 'execution_count': 65, 'metadata': {}, 'outputs': [], 'source': \"df=df.drop(columns=['reg_date','hse_no'])\"}, {'cell_type': 'markdown', 'metadata': {}, 'source': '1.9 Inspecting Null values after dropping columns'}, {'cell_type': 'code', 'execution_count': 66, 'metadata': {}, 'outputs': [{'data': {'text/plain': 'member_no              0\\ndob                  238\\ngender                82\\ntown               15026\\nrelationship       14308\\nbeneficiery_dob    13937\\nportfolio              4\\ndtype: int64'}, 'execution_count': 66, 'metadata': {}, 'output_type': 'execute_result'}], 'source': '#inspecting the null vaues after dropping columns\\ndf.isna().sum()'}, {'cell_type': 'markdown', 'metadata': {}, 'source': '1.10 Checking Unique Values in each column'}, {'cell_type': 'markdown', 'metadata': {}, 'source': '1.10.1 Checking Unique Values in relationship column'}, {'cell_type': 'code', 'execution_count': 67, 'metadata': {}, 'outputs': [{'data': {'text/plain': 'array([\\'Partner\\', \\'Sister\\', \\'Husband \\', \\'Husband\\', \\'Daughter\\', \\'Brother \\',\\n       \\'Son\\', \\'Daughter \\', \\'Wife\\', \\'Father\\', \\'Mother\\', \\'Brother\\', \\'son\\',\\n       \\'mother\\', \\'father\\', \\'Mother \\', \\'SPOUSE\\', \\'FRIEND\\', \\'Spouse \\',\\n       \\'WIfe\\', \\'Father \\', \\'Spouse\\', \\'child\\', nan, \\'Parent\\', \\'wife\\',\\n       \\'Wife \\', \\'Son \\', \\'spouse\\', \\'doughter\\', \\'CHILD\\', \\'ParentChild\\',\\n       \\'partner\\', \\'brother\\', \\'sister\\', \\'MotheR\\', \\'Friend\\', \\'Child\\',\\n       \\'Cousin\\', \\'Dad\\', \\'Mum\\', \\'MOTHER\\', \\'WIFE\\', \\'Sister \\', \\'SON\\',\\n       \\'BROTHER\\', \\'FATHER\\', \\'aunt \\', \\'Grandmother\\', \\'HUSBAND\\', \\'self\\',\\n       \\'husband\\', \\'husband \\', \\'Owner\\', \\' Grand daughter\\', \\'Nephew\\',\\n       \\'SP0USE\\', \\'Self\\', \\'parent\\', \\'SISTER\\', \\'NIECE\\', \\'Niece\\', \\'daughter\\',\\n       \\'Sibling\\', \\'DAUGHTER\\', \\'AUNT\\', \\'brother \\', \\'254701361835\\',\\n       \\'Parent \\', \\'daughter \\', \\'FAITHER\\', \\'Family \\', \\'SPOUSE \\',\\n       \\'Sibling \\', \\'PARENT\\', \\'CONFIDANT\\', \\'MUM\\', \\'DAD\\', \\'wife \\', \\'family\\',\\n       \\'Trustee \\', \\'son \\', \\'mother \\', \\'MOTHER \\', \\'friend\\', \\'spouse \\',\\n       \\'S0N\\', \\'SISTER \\', \\'FATHER \\', \\'father \\', \\'FAMILY \\', \\'WifE\\',\\n       \\'Partner \\', \\'daugther\\', \\'1226805243;130143346\\', \\'relative\\',\\n       \\'BROTHER \\', \\'Daighter\\', \\'Advisor\\', \\'SON \\', \\'AUNTIE\\', \\'FIANCEE\\',\\n       \\'Fiancee\\', \\'DOUGHTER\\', \\'parent \\', \\'HUSBAND \\', \\'DAUGHTER \\', \\'SELF\\',\\n       \\'MOther\\', \\'mOTHER\\', \\'Aunt\\', \\'Grandparent\\', \\'Bother \\', \\'SO\\',\\n       \\'married\\', \\'MARRIED\\', \\'FIANCE\\', \\'Doughter \\', \\'Guardian \\',\\n       \\'ASS0CIATE\\', \\'sibling\\', \\'fiance\\', \\'Sistet\\', \\'Grandson\\', \\'Doughter\\',\\n       \\'DAUGTHER\\', \\'wIFE\\', \\'Bro\\', \\'PARTNER\\', \\'B INLAW\\', \\'GUARDIAN\\',\\n       \\'daughte\\', \\'Mom\\', \\'COUSIN\\', \\'GRANDMA\\', \\'aunt\\', \\'Domestic Partner\\',\\n       \\'PATNER\\', \\'me\\', \\'MENTOR\\', \\'UNCLE\\', \\'Sis\\', \\'SiBLING\\', \\'GRAND SON\\',\\n       \\'Fiance \\', \\'KID\\', \\'SIBLING\\', \\'GRANDSON\\', \\'Nephew \\', \\'-\\', \\'Cousin \\',\\n       \\'DAUGHETR\\', \\'Person\\', \\'s0n\\', \\'na\\', \\'myson\\', \\'PARTNER \\', \\'Bishop\\',\\n       \\'nephew\\', \\'mwas\\', \\'Mothers\\', \\'Friend \\', \\'Child \\', \\'daughter33\\',\\n       \\'CLOSE FRIEND\\', \\'hUSBAND\\', \\'CLOSEFRIEND\\', \\'Boyfriend \\',\\n       \\'dependant\\', \\'WIFE \\', \\'MARRIAGE\\', \\'GRAND DAUGHTER\\', \\'DAUGHER\\',\\n       \\'Niece \\', \\'granddaughter\\', \\'grandson\\', \\'DAUGHTER/CHILD\\',\\n       \\'RELATIVE\\', \\'mum\\', \\'single\\', \\'Self \\', \\'sister \\', \\'Mother TO SON\\',\\n       \\'Grandfather\\', \\'DAD \\', \\'Relative\\', \\'Daughter-in-law \\',\\n       \\'GRANDMOTHER\\', \\'child \\', \\'15\\', \\'DaD\\', \\'GIRLFRIEND\\', \\'FAMILY\\',\\n       \\'Uncle \\', \\'SiNGLE\\', \\'SINGLE\\', \\'fiancee\\', \\'FaMILY\\', \\'BENEFICIARY\\',\\n       \\'OWNER\\', \\'Relative \\', \\'GRANDDAUGHTER\\', \\' Spouse\\', \\'uncle\\',\\n       \\'Married \\', \\'chil\\', \\'CHILD MINOR\\', \\'33\\', \\'NEPHEW\\', \\'JOINT PARTNER\\',\\n       \\'MOTHERS \\', \\'Fiancé \\', \\'Others \\', \\'Grand daughter\\',\\n       \\'DAUGHTER-IN-LAW\\', \\'Na\\', \\'CHILD \\', \\'SPIRITUAL FATHER\\', \\'COUSN\\',\\n       \\'DEPEDANT\\', \\'Estate\\', \\'Uncle\\', \\'sISTER\\', \\'sisiter\\', \\' BROTHER\\',\\n       \\'Granddaughter \\', \\'BRother\\', \\'Aunt \\', \\'cousin\\', \\'Baby\\', \\'Morher\\',\\n       \\'MOM\\', \\'God mother\\', \\'GRANDSON \\', \\'Husband/spouse\\', \\'SPOUCE\\',\\n       \\'uncle \\', \\'FRIEND \\', \\'Single\\', \\'Vhild\\', \\'Patner\\', \\'Spouce\\',\\n       \\'Family\\', \\'SoN\\', \\'SisteR\\', \\'AUNTY\\', \\'FATHER-IN-LAW\\', \\'SonS\\', \\'0\\',\\n       \\'MO9\\', \\'Fiance\\', \\'33.4\\', \\'CHILF\\', \\'254727756559\\', \\'0720401466\\',\\n       \\'GRAND FATHER\\', \\'PRINCIPAL\\', \\'Guardian\\', \\'JUNIOR\\',\\n       \\'DGRAND DAUGHTER\\', \\'COWORKER\\', \\'GRAND MOTHER\\', \\'D100\\', \\'NMO\\',\\n       \\'BUSINESS PARTNER\\', \\'GURDIAN\\', \\'2021\\', \\'MotH\\', \\'MoM\\', \\'UN,CLE\\',\\n       \\'GRAND CHILD\\', \\'Sister in law\\', \\'Grand Daughter\\', \\'COMAPANION\\',\\n       \\'BOYFRIEND\\', \\'EX-WIFE\\', \\'GRANDDAUGTER\\', \\'PARNT\\', \\'M\\', \\'F\\', \\'Chils\\',\\n       \\';SON\\', \\'GUARDINA\\', \\'NiecE\\', \\'Brother-IN-LAW\\', \\'Member\\',\\n       \\'Grand mother\\', \\'ADMINISTRATOR\\', \\'VM\\', \\'GRANDFATHER\\', \\'GIRLFRIED\\',\\n       \\'Brestfriend\\', \\'Finance\\', \\'SIS\\', \\'Daughter in law\\', \\'children\\',\\n       \\'Girlfriend\\', \\'COLLEAGUE\\', \\'TRUSTEE\\', \\'254708368426\\', \\'Colleague\\',\\n       \\'Sister-IN-LAW\\', \\'GRAND-DAUGHTER\\', \\'GRANNY\\', \\'GRANDCHILD\\', \"\\'M\",\\n       \\'spouce\\', \\'SiLBLING\\', \\'Siblings\\', \\'Step-mother\\', \\'Aunty\\', \\'FREINF\\',\\n       \\'50\\', \\'100\\', \\'254723993458\\', \\'Cousins\\', \\'Cousins \\', \\'ASSOCIATE\\',\\n       \\'Fiane\\', \\'guardian\\', \\'Guadian\\', \\'Confidant\\', \\'Auntie\\', \\'GRANDPA\\',\\n       \\'mom\\', \\'Brother in Law\\', \\'BUSINESS PARTNER \\', \\'Spuose\\',\\n       \\'Business Partner\\', \\'Dating\\', \\'IN LAW\\', \\'STEP-MOM\\', \\'Son/Brother\\',\\n       \\'Chid\\', \\'Granddaughter\\', \\'niece\\', \\'Son/SISTER\\', \\'Grand Son\\',\\n       \\'BrotheR\\', \"Nolan\\'s Guardian\", \"Xena\\'s Guardian\", \\'Sister-in law\\',\\n       \\'PARENTS\\', \\'c/o\\', \\'STEP MOTHER\\', \\'NiCE\\', \\'Ciru\\', \\'DEPENDANT\\',\\n       \\'som\\', \\'GUARDIAN \\', \\'Dau`\\', \\'Kid\\', \\'PARENT \\', \\'CHILDREN\\',\\n       \\'partner \\', \\'CLOUSIN\\', \\'19112004\\', \\'twinsister\\', \\'MINOR\\',\\n       \\'Sister- Custodian\\', \\'GRANSON\\', \\'COMPANION\\', \\'ENGAGED\\',\\n       \\'WELL WISHER\\', \\'PARNER\\', \\'GRANCHILD\\', \\'Trustee\\', \\'Next of kin\\',\\n       \\'SIIBLING\\', \\'SIBLINGS\\', \\'Foster daughter\\', \\'ADMINSTRATOR\\',\\n       \\'IN-LAW\\', \\'Boyfriend\\', \\'NepheW\\', \\'EMPLOYEE\\', \\'DIRECTORS\\',\\n       \\'RELIGIOUS COMMUNITY\\', \\'CUSTODIAN\\', \\'C/O ARIANNA\\', \\'Sister IN LAW\\',\\n       \\'spose\\', \\'SPAUSE\\', \\'MEMBER\\', \\'DomesticPartner\\', \\'Grand-daughter\\',\\n       \\'Brother-in-law\\', \\'STEP-BROTHER\\', \\'Mother to Evan\\', \\'Sister-Inlaw\\',\\n       \\'BUS. PARTNER\\', \\'Sister(Guardian)\\', \\'CONTACT PERSON\\', \\'FatheR\\',\\n       \\'Brother in law\\', \\'Parwnt\\', \\'M,\\', \\'Sister-GUARDIAN\\', \\'Grand Child\\',\\n       \\'GODMOTHER\\', \\'Sister-Guardian\\', \\'Mother- Guardian\\', \\'Grandchild\\',\\n       \\'Grand son\\', \\'CHLD\\', \\'GRAND.DAUGHTER\\', \\'GRAND-MOTHER\\', \\'Parents\\',\\n       \\'EX WIFE\\', \\'Sister - Guardian\\', \\'Step-Mother\\', \\'FOSTER DAUGHTER\\',\\n       \\'Grand-mother\\', \\'God Mother\\', \\'Mother-in-law\\', \\'MEMBER \\',\\n       \\'B/S PARTNER\\', \\'LAWYER\\', \\'GRAND-SON\\', \\'parents\\', \\'Stepson\\',\\n       \\'Contingent\\', \\'grandmother\\', \\'G/Daughter\\', \\'Brother and sister\\',\\n       \\'Sibbling\\', \\' \\', \\'COUSIN \\', \\'DaughteR\\', \\'SPUOSE\\', \\'CHIILD\\',\\n       \\'DSPOUSE\\', \\'Executor\\', \\'HU\\', \\'EWIFE\\', \\'SPOUDSE\\', \\'SoPOUSE\\',\\n       \\'grandchild\\', \\'ChILD\\', \\'9266025\\', \\'PARE NT\\', \\'254700442162\\',\\n       \\'BEST FRIEND\\', \\'SISTER IN LAW \\', \\'mather\\', \\'SAVING PARTNER \\',\\n       \\'AUNTIE \\', \\'ParenChild\\', \\'GIRLFRIEND \\', \\'SINGLE \\', \\'Parentchild\\',\\n       \\'parentchild\\', \\'SPOUSE20\\', \\'Myself\\', \\'FIACEE\\', \\'SD\\',\\n       \\'Grand mother \\', \\'Mother of child\\', \\'Childnephew\\', \\'FATH \\',\\n       \\'MY SON\\', \\'BabyMother\\', \\'CHID\\', \\'GIRL FRIEND\\', \\'chils\\', \\'self \\',\\n       \"Mother\\'s \", \\'Mum \\', \\'aunty\\', \\'SPouse\\', \\'Auntie \\', \\'ChiLD\\',\\n       \\'grandmother \\', \\'Grand daughter \\', \\'auntie\\', \\'baby mama \\', \\'DA\\',\\n       \\'BrOther\\', \\'Fiancee \\', \\'In law\\', \\'Colleague \\', \\'WiFE\\', \\'owner\\',\\n       \\'sON\\', \\'Mather\\', \\'Dauhgter\\', \\'myself\\', \\'Hubby\\', \\'Sister in-law\\',\\n       \\'Aunty \\', \\'Foster parent\\', \\'grandson \\', \\'Wife/Guardian\\',\\n       \\'21761402\\', \\'GUARDIAN-MOTHER\\'], dtype=object)'}, 'execution_count': 67, 'metadata': {}, 'output_type': 'execute_result'}], 'source': '#checking for unique values in relationship column\\ndf.relationship.unique()'}, {'cell_type': 'markdown', 'metadata': {}, 'source': \"1.10.2  Convert values in the 'relationship' column to lowercase and remove any extra spaces\"}, {'cell_type': 'code', 'execution_count': 68, 'metadata': {}, 'outputs': [{'data': {'text/plain': '\"mother                  18900 son                     18207 daughter                18010 sister                  12234 wife                    11190 husband                  9563 brother                  7768 father                   6738 spouse                   3311 child                    1567 parent                    627 friend                    393 niece                     369 nephew                    313 cousin                    309 aunt                      220 partner                   203 sibling                   199 fiance                    137 guardian                  117 fiancee                   100 uncle                      85 grandson                   74 grandmother                61 family                     51 self                       42 -                          40 estate                     39 grand daughter             31 dad                        29 granddaughter              29 mum                        27 girlfriend                 26 doughter                   25 relative                   18 boyfriend                  17 grandchild                 16 aunty                      16 business partner           15 member                     15 auntie                     14 sister in law              12 grandfather                11 gurdian                    11 mom                        11 so                         10 kid                        10 grand-daughter              9 s0n                         8 grand mother                8 trustee                     8 grand child                 7 colleague                   7 single                      7 spouce                      6 patner                      6 parents                     5 100                         5 grand son                   4 owner                       4 foster daughter             4 dependant                   4 daughetr                    4 married                     4 0                           4 grand-mother                4 in law                      3 daighter                    3 grand father                3 minor                       3 spause                      3 parentchild                 3 bus. partner                3 my son                      3 daugther                    3 na                          3 chid                        2 sis                         2 b/s partner                 2 depedant                    2 myself                      2 spuose                      2 son/brother                 2 daugher                     2 vhild                       2 close friend                2 vm                          2 confidant                   2 sister-in-law               2 beneficiary                 2 sister in-law               2 grandma                     2 girl friend                 2 children                    2 mothers                     2 50                          2 baby mama                   2 siblings                    2 cousins                     2 mather                      2 mother-in-law               2 god mother                  2 associate                   2 1226805243;130143346        2 brother-in-law              2 guardina                    2 parner                      2 step-mother                 2 contact person              2 sister-guardian             2 m                           2 chils                       2 daughter-in-law             2 c/o arianna                 2 brother in law              2 ex-wife                     2 granddaugter                2 in-law                      2 sister(guardian)            1 mother\\'s                    1 faither                     1 fiacee                      1 chilf                       1 d100                        1 principal                   1 sister-inlaw                1 fath                        1 9266025                     1 dgrand daughter             1 freinf                      1 dating                      1 step-mom                    1 parwnt                      1 contingent                  1 step-brother                1 mo9                         1 cousn                       1 c/o                         1 33.4                        1 comapanion                  1 directors                   1 husband/spouse              1 companion                   1 som                         1 adminstrator                1 baby                        1 twinsister                  1 silbling                    1 254700442162                1 xena\\'s guardian             1 19112004                    1 morher                      1 spoudse                     1 pare nt                     1 step mother                 1 parenchild                  1 da                          1 15                          1 21761402                    1 guadian                     1 bother                      1 joint partner               1 engaged                     1 employee                    1 coworker                    1 sopouse                     1 lawyer                      1 stepson                     1 fiane                       1 me                          1 granny                      1 daughter in law             1 chld                        1 guardian-mother             1 ass0ciate                   1 nmo                         1 chiild                      1 foster parent               1 sisiter                     1 dau`                        1 godmother                   1 clousin                     1 un,cle                      1 ewife                       1 child minor                 1 grandparent                 1 others                      1 mother to evan              1 mwas                        1 person                      1 spiritual father            1 ;son                        1 girlfried                   1 hubby                       1 domesticpartner             1 sister - guardian           1 junior                      1 childnephew                 1 0720401466                  1 ex wife                     1 spouse20                    1 best friend                 1 254727756559                1 sistet                      1 siibling                    1 2021                        1 bishop                      1 33                          1 executor                    1 254723993458                1 well wisher                 1 myson                       1 sister- custodian           1 grandpa                     1 saving partner              1 nice                        1 spose                       1 religious community         1 bro                         1 sibbling                    1 f                           1 parnt                       1 daughter/child              1 marriage                    1 mother to son               1 administrator               1 closefriend                 1 mentor                      1 m,                          1 custodian                   1 wife/guardian               1 254701361835                1 dauhgter                    1 sd                          1 moth                        1 nolan\\'s guardian            1 granchild                   1 fiancé                      1 father-in-law               1 b inlaw                     1 son/sister                  1 sons                        1 brother and sister          1 granson                     1 domestic partner            1 grand.daughter              1 advisor                     1 \\'m                          1 babymother                  1 ciru                        1 mother of child             1 next of kin                 1 g/daughter                  1 254708368426                1 daughter33                  1 finance                     1 dspouse                     1 grand-son                   1 sp0use                      1 mother- guardian            1 sister-in law               1 hu                          1 daughte                     1 brestfriend                 1 chil                        1                             1\"'}, 'execution_count': 68, 'metadata': {}, 'output_type': 'execute_result'}], 'source': '# Convert values in the \\'relationship\\' column to lowercase and remove any extra spaces\\ndf[\\'relationship\\'] = df[\\'relationship\\'].str.lower().str.strip()\\n\\n# Get the counts of each unique value in the \\'relationship\\' column,\\n# then format the output as a single line string\\ndf[\\'relationship\\'].value_counts().to_string().replace(\"\\\\n\", \" \")'}, {'cell_type': 'markdown', 'metadata': {}, 'source': \"1.10.3 Replace any missing values in the 'relationship' column with 'son'\"}, {'cell_type': 'code', 'execution_count': 69, 'metadata': {}, 'outputs': [{'data': {'text/plain': '0'}, 'execution_count': 69, 'metadata': {}, 'output_type': 'execute_result'}], 'source': \"# Replace any missing values in the 'relationship' column with 'son'\\ndf['relationship'] = df['relationship'].fillna('son')\\n\\n# Check if there are any remaining missing values in the 'relationship' column\\ndf['relationship'].isna().sum()\\n\"}, {'cell_type': 'markdown', 'metadata': {}, 'source': '<small>\\n\\nTo organize and standardize relationship values in the dataset, we define categories for mapping different variations of relationship terms. This approach creates a consistent structure by grouping terms like \"spouse,\" \"child,\" \"sibling,\" etc., into predefined categories. By applying this mapping, we ensure that any variations in spelling, formatting, or synonymous terms are aligned under a single label.\\n\\nThe following code accomplishes this by:\\n\\nDefining a dictionary (relationship_map) that assigns potential variations of relationship terms to specific categories.\\nCreating a function (map_relationship) that checks each entry in the relationship column against the keywords in relationship_map.\\nApplying this function to the column to classify each entry according to the defined categories.\\nFinally, we display the count of values in each category to confirm the classification distribution.</small>'}, {'cell_type': 'markdown', 'metadata': {}, 'source': '1.10.4 Convert all entries to lower case and strip whitespace for uniformity'}, {'cell_type': 'code', 'execution_count': 70, 'metadata': {}, 'outputs': [{'name': 'stdout', 'output_type': 'stream', 'text': 'child           52152\\nparent          26352\\npartner         24578\\nsibling         20240\\nrelative         1534\\nfriends           396\\nother             392\\nguardian          128\\nprofessional       67\\nself               49\\nName: relationship, dtype: int64\\n'}], 'source': \"# Convert all entries to lower case and strip whitespace for uniformity\\ndf['relationship'] = df['relationship'].str.lower().str.strip()\\n\\n# Mapping dictionary\\nrelationship_map = {\\n    'partner': [\\n        'partner', 'spouse', 'sp0use','husband', 'wife', 'fiancee', 'ex-wife', 'spouce', 'fiancé',\\n        'husband ', 'sponse', 'spouse ', 'wiFe', 'wifE', 'wife ', 'spouse', 'married', 'marriage',\\n        'husband/spouse', 'ex-wife', 'fiance ', 'fiance', 'married ', 'myson', 'baby mama ',\\n        'fiancee ', 'souse', 'hubby', 'dating', 'boyfriend', 'girlfriend', 'ex wife', 'boyfriend ',\\n        'girlfriend ', 'wife/guardian', 'ex husband', 'girl friend', 'fiancée', 'sopouse', 'spoudse',\\n        'soPOUSE', 'spause', 'sposue', 'ex husband', 'love', 'b/f', 'g/f', 'divorcee', 'ex spouse',\\n        'bf', 'gf', 'b/f', 'g/f', 'fiancé ', 'domesticpartner', 'domestic partner', 'dating', 'exwife',\\n        'exhusband', 'wive', 'husb', 'exspouse', 'partner ', 'significant other', 'fiancee','companion','Partner',\\n        'Husband ', 'Husband',  'Wife',   'SPOUSE' , 'Spouse ', 'WIfe', 'Spouse',  'wife', 'Wife ', 'spouse', 'partner',\\n        'HUSBAND', 'husband', 'husband ',  'SP0USE' , 'SPOUSE ',  'wife ',\\n        'spouse ', 'Partner ' , 'FIANCEE', 'Fiancee',  'HUSBAND ',  'FIANCE', \\n        'wIFE', 'PARTNER',  'Domestic Partner', 'PATNER', 'Fiance ', 'PARTNER ',  'hUSBAND',  'Boyfriend ',\\n        'WIFE ', 'fiancee', 'JOINT PARTNER', 'Fiancé ' , 'Husband/spouse', 'SPOUCE',  'Patner', 'Spouce',  \\n        'Fiance', 'BOYFRIEND', 'EX-WIFE',  'PARNT',  'GIRLFRIED'\\n    ],\\n    'child': [\\n        'child', 'kid', 'daughter', 'son', 'children', 'daughter33', 'doughter', 'daugther', 'doughter ',\\n        'daugther', 'son ', 'daughter ', 'child minor', 'kids', 'baby', 'infant', 'toddler', 'sonS',\\n        'minor', 'child ', 'son/sister', 'chid', 'newborn', 'son/brother', 'childnephew',\\n        'chils', 'chiLD', 'kID', 'dau`', 'daugher', 'childnephew', 'my son','child', 'son', 'dau', \\n        'daughter', 'daughter33', 'my son', 'infant', 'childnephew', 'kids', 'baby', 'ChiLD', 'CHID',\\n        'sON', 'cHILS', 'CHID', 'CHIILD', 'KID', 'FOSTER' 'DAUGHTER', 'CHILD MINOR', 'MINOR', 'CHILDREN', \\n        'SOM', 'CHILDREN', 'JUNIOR', 'BABY',  'CHIL', 'DAUGHTER/CHILDDAUGHER', 'CHILF', 'DOUGHTER', 'DAIGHTER', \\n        'DAUGHTE', 'DAUGHETR', 'S0N','MYSON','child','CHILD','Child ','DAUGHTER/CHILD','child ','CHILD MINOR',\\n        'CHILD ','children','CHILDREN','ChILD','ChiLD'\\n    ],\\n    'parent': [\\n        'mother', 'mom', 'mum', 'father', 'dad', 'parent', 'parents', 'mother ', 'father ', 'mOTHER',\\n        'dad ', 'mum ', 'mom ', 'mummy', 'daddy', 'papa', 'mama', 'mother in law', 'father in law',\\n        'mothers', 'fathers', 'moms', 'mums', 'father-in-law', 'mother-in-law', 'mommy', 'dadi', 'momi',\\n        'parent ', 'mother to son', 'mother of child', 'parents', 'mother- guardian', 'father - guardian',\\n        'parentchild', 'parental', 'parenthood', 'parenting', 'mother IN LAW', 'mom in law', 'dad in law',\\n        'mum in law', 'parenting', 'fatherhood', 'motherhood', 'parent ', 'grandparent', 'step mother',\\n        'step father', 'step-mother', 'step-father','Parent', 'Parents', 'Mother', 'Mothers', 'Mom', 'Mum', \\n        'Father', 'DAD', 'Dad', 'Guardian', 'Grandmother', 'Grandfather', 'Step-mother', 'Step-father', 'Foster parent',\\n        'Mother-in-law', 'Father-in-law', 'ParentChild', 'Mama', 'Mummy', 'Dadi', 'Mother TO SON', 'PARENT', 'MOther'\\n    ],\\n    'self': [\\n        'self', 'owner', 'me', 'myself', 'self ', 'owner ', 'i', 'myself ', 'personal', 'individual',\\n        'own', 'my own', 'self-employed', 'proprietor', 'me ', 'self employed', 'self own', 'personal account',\\n        'my account', 'own account'\\n    ],\\n    'guardian': [\\n        'guardian', 'custodian', 'trustee', 'guard', 'guardian ', 'custodian ', 'trustee ', 'guard ',\\n        'legal guardian', 'guardianship', 'custodianship', 'trusteeship', 'protector', 'caregiver',\\n        'conservator','conservator', 'foster parent', 'foster guardian', 'legal custodian', 'guardian-mother', 'guardian father'\\n    ],\\n    'sibling': [\\n        'siblings', 'brother', 'sister', 'sibling', 'brother ', 'sister ', 'bro', 'sis', 'brothers', 'sisters',\\n        'sibling ', 'brother-in-law', 'sister-in-law', 'sibling in law', 'brother and sister', 'sibbling',\\n        'siBLING', 'sibblings', 'sister in law', 'brother in law', 'sister/guardian', 'sister - guardian',\\n        'sister-guardian', 'bros', 'sisses', 'step-sister', 'step-brother', 'half-sister', 'half-brother', 'broski','Sister', 'Brother ','brother', 'sister',\\n       'Sister ', 'SISTER','Sibling', 'brother ','Sibling ','SISTER ','Sistet', 'Bro', 'Sis', 'SiBLING',\\n        'SIBLING',  's0n', 'sister ''sISTER', 'sisiter', ' BROTHER','BRother', 'SisteR', 'SIS', \\n       'som',\\n       'Sister- Custodian', \\n       'SIIBLING', 'SIBLINGS','Brother and sister',\\n       'Sibbling'\\n    ],\\n    'relative': [\\n        'cousin', 'nephew', 'grand child', 'niece', 'grandmother', 'granddaughter', 'grandson', 'grandfather', 'uncles', 'aunties',\\n        'aunt', 'uncle', 'granny', 'grandparent', 'grand child', 'relative', 'relatives', 'cousins', 'uncles',\\n        'aunties', 'aunts', 'grandparents', 'great grandmother', 'great grandfather', 'grand children', 'extended family',\\n        'grandmother ', 'grandfather ', 'nephew ', 'niece ', 'cousin ', 'aunt ', 'uncle ', 'granny ', 'granddaughter ',\\n        'grandson ', 'grandchild', 'grandchild ', 'grandchildren', 'grandkids', 'great grandparent', 'ancestors', 'descendants',\\n        'kin', 'kinship', 'next of kin', 'in-laws', 'inlaw', 'in laws', 'extended relatives', 'b inlaw', 'in law','family tree', 'Cousin', ' Grand daughter', 'Nephew', 'NIECE', 'Niece', 'AUNT', 'relative', 'AUNTIE', 'B INLAW', 'COUSIN', 'aunt', 'UNCLE', 'GRAND SON', 'Nephew ', 'Cousin ', 'nephew', 'GRAND DAUGHTER', 'Niece ', 'granddaughter', 'grandson', 'RELATIVE', 'Daughter-in-law ', 'GRANDMOTHER', 'Relative ', 'uncle',\\n'NEPHEW', 'Grand daughter', 'DAUGHTER-IN-LAW', 'COUSN', 'Uncle', 'Granddaughter ', 'Aunt ', 'cousin', 'GRANDSON ', 'uncle ', 'AUNTY', 'FATHER-IN-LAW', 'GRAND FATHER', 'DGRAND DAUGHTER', 'GRAND MOTHER', 'UN,CLE', 'GRAND CHILD', 'Sister in law', 'Grand Daughter', 'GRANDDAUGTER', 'NiecE', 'Brother-IN-LAW', 'Grand mother', 'GRANDFATHER', 'Daughter in law', 'Sister-IN-LAW', 'GRAND-DAUGHTER', 'GRANNY', \\n'GRANDCHILD', 'Aunty', 'Cousins', 'Cousins ', 'Auntie', 'GRANDPA', 'Brother in Law', 'IN LAW', 'Granddaughter', 'niece', 'Grand Son', 'Sister-in law', 'CLOUSIN', 'GRANSON', 'Sister IN LAW', 'Brother-in-law', 'Sister-Inlaw', 'Brother in law', 'GRAND-MOTHER', 'Grand-mother', 'Mother-in-law', 'SISTER IN LAW ', 'Grand mother ', 'Childnephew', 'Grand daughter ', 'auntie', 'In law', 'Sister in-law', 'Aunty '\\n    ],\\n    'friends': ['friend','closefriend', 'confidant', 'friend ',\\n        'peers', 'acquaintance', 'comrade', 'pal', 'buddy', 'mate', 'fellow', 'ally', 'supporter',\\n        'confidante', 'friend of the family', 'family friend',\\n        'peer', 'companion', 'companions'\\n    ],\\n    'professional':['colleague', 'coworker', 'partner in law',\\n        'associate', 'advisor', 'mentor', 'colleague ', 'coworker ',\\n        'associate ', 'colleague', 'professional', 'mentor', 'adviser', 'counselor', 'legal representative', 'executor', 'business partner',\\n        'co-worker', 'workmate', 'teammate',\\n        'partner in business', 'business associate', 'collaborator', 'collegue','estate'\\n    ],\\n    'other': ['spiritual advisor','sponsor'\\n    ]\\n}\\n\\n# Function to apply the mapping\\ndef map_relationship(value):\\n    for category, keywords in relationship_map.items():\\n        if any(keyword == value for keyword in keywords):\\n            return category\\n    return 'other'  # Default category if no matches found\\n\\n# Apply the mapping function to the 'relationship' column\\ndf['relationship'] = df['relationship'].apply(map_relationship)\\n\\n# Show the value counts of each category\\nprint(df['relationship'].value_counts())\"}, {'cell_type': 'markdown', 'metadata': {}, 'source': '1.11 Checking the columns and value counts (gender column)  in the dataframe'}, {'cell_type': 'code', 'execution_count': 71, 'metadata': {}, 'outputs': [{'data': {'text/plain': \"Index(['member_no', 'dob', 'gender', 'town', 'relationship', 'beneficiery_dob',\\n       'portfolio'],\\n      dtype='object')\"}, 'execution_count': 71, 'metadata': {}, 'output_type': 'execute_result'}], 'source': '#checking the columns in the dataframe\\ndf.columns'}, {'cell_type': 'code', 'execution_count': 72, 'metadata': {}, 'outputs': [{'data': {'text/plain': 'Female    83178\\nMale      42480\\nF            92\\nM            48\\nFEMALE        4\\nMALE          4\\nName: gender, dtype: int64'}, 'execution_count': 72, 'metadata': {}, 'output_type': 'execute_result'}], 'source': '#inspecting the value_counts in the gender column\\ndf.gender.value_counts()'}, {'cell_type': 'markdown', 'metadata': {}, 'source': '1.11.1  Checking and handling  null values '}, {'cell_type': 'code', 'execution_count': 73, 'metadata': {}, 'outputs': [{'data': {'text/plain': '82'}, 'execution_count': 73, 'metadata': {}, 'output_type': 'execute_result'}], 'source': '#checking for null values\\ndf.gender.isna().sum()'}, {'cell_type': 'code', 'execution_count': 74, 'metadata': {}, 'outputs': [{'data': {'text/plain': '0'}, 'execution_count': 74, 'metadata': {}, 'output_type': 'execute_result'}], 'source': \"#fill the null values with the 'Female' gender\\ndf['gender']=df.gender.fillna('Female')\\ndf['gender'].isna().sum()\"}, {'cell_type': 'markdown', 'metadata': {}, 'source': '1.11.2 Mapping the Gender Column into Two Categories: Male and Female'}, {'cell_type': 'markdown', 'metadata': {}, 'source': '<small>\\n\\nTo standardize entries in the gender column, we create a dictionary to map various formats of \"Male\" and \"Female\" into consistent labels. This step ensures uniformity across the dataset, which is essential for accurate analysis.\\n\\nThe process involves:\\n\\nDefining a gender_map dictionary where different versions of \"Male\" and \"Female\" are assigned to a single, standardized label.\\nUsing the replace function to apply this mapping to the gender column and store the cleaned values in a new column, gender_mapped.\\nThis streamlined approach produces a clean and uniform gender_mapped column ready for analysis.</small>'}, {'cell_type': 'code', 'execution_count': 75, 'metadata': {}, 'outputs': [], 'source': \"gender_map = {\\n    'Female':'Female','F':'Female','FEMALE':'Female',\\n    'Male':'Male','M':'Male','MALE':'Male',\\n}\\n\\ndf['gender_mapped'] = df['gender'].replace(gender_map)\"}, {'cell_type': 'code', 'execution_count': 76, 'metadata': {}, 'outputs': [{'data': {'text/html': '<div>\\n<style scoped>\\n    .dataframe tbody tr th:only-of-type {\\n        vertical-align: middle;\\n    }\\n\\n    .dataframe tbody tr th {\\n        vertical-align: top;\\n    }\\n\\n    .dataframe thead th {\\n        text-align: right;\\n    }\\n</style>\\n<table border=\"1\" class=\"dataframe\">\\n  <thead>\\n    <tr style=\"text-align: right;\">\\n      <th></th>\\n      <th>member_no</th>\\n      <th>dob</th>\\n      <th>gender</th>\\n      <th>town</th>\\n      <th>relationship</th>\\n      <th>beneficiery_dob</th>\\n      <th>portfolio</th>\\n      <th>gender_mapped</th>\\n    </tr>\\n  </thead>\\n  <tbody>\\n    <tr>\\n      <th>0</th>\\n      <td>99996</td>\\n      <td>1998-04-06 00:00:00</td>\\n      <td>Female</td>\\n      <td>NAIROBI</td>\\n      <td>partner</td>\\n      <td>1998-01-26</td>\\n      <td>Money Market</td>\\n      <td>Female</td>\\n    </tr>\\n    <tr>\\n      <th>14</th>\\n      <td>99996</td>\\n      <td>1998-04-06 00:00:00</td>\\n      <td>Female</td>\\n      <td>NAIROBI</td>\\n      <td>sibling</td>\\n      <td>2001-03-04</td>\\n      <td>Money Market</td>\\n      <td>Female</td>\\n    </tr>\\n    <tr>\\n      <th>28</th>\\n      <td>99994</td>\\n      <td>1966-01-01 00:00:00</td>\\n      <td>Female</td>\\n      <td>NaN</td>\\n      <td>partner</td>\\n      <td>1962-01-01</td>\\n      <td>Money Market</td>\\n      <td>Female</td>\\n    </tr>\\n    <tr>\\n      <th>40</th>\\n      <td>99993</td>\\n      <td>1974-01-01 00:00:00</td>\\n      <td>Female</td>\\n      <td>NAIROBI</td>\\n      <td>partner</td>\\n      <td>1970-09-29</td>\\n      <td>Money Market</td>\\n      <td>Female</td>\\n    </tr>\\n    <tr>\\n      <th>70</th>\\n      <td>99993</td>\\n      <td>1974-01-01 00:00:00</td>\\n      <td>Female</td>\\n      <td>NAIROBI</td>\\n      <td>child</td>\\n      <td>1994-01-01</td>\\n      <td>Money Market</td>\\n      <td>Female</td>\\n    </tr>\\n  </tbody>\\n</table>\\n</div>', 'text/plain': '    member_no                  dob  gender     town relationship  \\\\\\n0       99996  1998-04-06 00:00:00  Female  NAIROBI      partner   \\n14      99996  1998-04-06 00:00:00  Female  NAIROBI      sibling   \\n28      99994  1966-01-01 00:00:00  Female      NaN      partner   \\n40      99993  1974-01-01 00:00:00  Female  NAIROBI      partner   \\n70      99993  1974-01-01 00:00:00  Female  NAIROBI        child   \\n\\n   beneficiery_dob     portfolio gender_mapped  \\n0       1998-01-26  Money Market        Female  \\n14      2001-03-04  Money Market        Female  \\n28      1962-01-01  Money Market        Female  \\n40      1970-09-29  Money Market        Female  \\n70      1994-01-01  Money Market        Female  '}, 'execution_count': 76, 'metadata': {}, 'output_type': 'execute_result'}], 'source': '#inspecting the cleaned df\\ndf.head()'}, {'cell_type': 'markdown', 'metadata': {}, 'source': '1.12  Computing ages from date of birth in our  dataset'}, {'cell_type': 'code', 'execution_count': 77, 'metadata': {}, 'outputs': [{'data': {'text/plain': '1962-01-01             541\\n1960-01-01             360\\n1968-01-01             320\\n1970-01-01             311\\n1974-01-01             311\\n                      ... \\n1956-05-19 00:00:00      1\\n2000-08-16               1\\n2002-03-28               1\\n2004-01-14 00:00:00      1\\n2001-11-15 00:00:00      1\\nName: dob, Length: 19092, dtype: int64'}, 'execution_count': 77, 'metadata': {}, 'output_type': 'execute_result'}], 'source': '#age distribution based on dob(date of birth)\\ndf.dob.value_counts()'}, {'cell_type': 'code', 'execution_count': 78, 'metadata': {}, 'outputs': [{'data': {'text/plain': '1899-12-30             1854\\n1962-01-01              584\\n1970-01-01              562\\n1960-01-01              488\\n1963-01-01              475\\n                       ... \\n2005-10-23 00:00:00       1\\n1999-01-23 00:00:00       1\\n2012-09-07 00:00:00       1\\n2012-10-04 00:00:00       1\\n1954-09-22                1\\nName: beneficiery_dob, Length: 27488, dtype: int64'}, 'execution_count': 78, 'metadata': {}, 'output_type': 'execute_result'}], 'source': '#age distribution based on beneficiary_dob(date of birth)\\ndf.beneficiery_dob.value_counts()'}, {'cell_type': 'code', 'execution_count': 79, 'metadata': {}, 'outputs': [{'data': {'text/plain': '0'}, 'execution_count': 79, 'metadata': {}, 'output_type': 'execute_result'}], 'source': \"#fill with the modal age\\ndf['dob'] = df.dob.fillna('1962-01-01')\\ndf.dob.isna().sum()\"}, {'cell_type': 'markdown', 'metadata': {}, 'source': '<small>---\\n\\nTo compute ages from the dates of birth in our dataset, we:\\n\\n1. **Convert Dates of Birth:** The `dob` and `beneficiery_dob` columns are first converted to datetime format to ensure proper date handling. If a date cannot be converted, it is set to `NaT` (missing).\\n  \\n2. **Define Age Calculation Function:** A helper function, `calculate_age`, computes the age by subtracting the birth year from the current year and adjusting for birthdays that have not yet occurred this year.\\n\\n3. **Apply Function to Columns:** The function is applied to both `dob` and `beneficiery_dob` to create two new columns: `member_age` and `beneficiery_age`, which store the calculated ages.\\n\\nFinally, the resulting columns are previewed to verify successful age computation.</small>'}, {'cell_type': 'code', 'execution_count': 80, 'metadata': {}, 'outputs': [{'name': 'stdout', 'output_type': 'stream', 'text': '          dob  member_age beneficiery_dob  beneficiery_age\\n0  1998-04-06          26      1998-01-26             26.0\\n14 1998-04-06          26      2001-03-04             23.0\\n28 1966-01-01          58      1962-01-01             62.0\\n40 1974-01-01          50      1970-09-29             54.0\\n70 1974-01-01          50      1994-01-01             30.0\\n'}], 'source': \"# Convert the dob column to datetime format\\ndf['dob'] = pd.to_datetime(df['dob'], errors='coerce')\\n\\n# Function to calculate age\\ndef calculate_age(birth_date):\\n    if pd.isnull(birth_date):\\n        return None\\n    today = datetime.today()\\n    return today.year - birth_date.year - ((today.month, today.day) < (birth_date.month, birth_date.day))\\n\\n# Apply the function to calculate member age\\ndf['member_age'] = df['dob'].apply(calculate_age)\\n\\n# Convert beneficiery_dob column to datetime and calculate beneficiary age similarly\\ndf['beneficiery_dob'] = pd.to_datetime(df['beneficiery_dob'], errors='coerce')\\ndf['beneficiery_age'] = df['beneficiery_dob'].apply(calculate_age)\\n\\n# Check results\\nprint(df[['dob', 'member_age', 'beneficiery_dob', 'beneficiery_age']].head())\"}, {'cell_type': 'markdown', 'metadata': {}, 'source': \"1.12.1 Display summary statistics for the 'beneficiery_age' column \"}, {'cell_type': 'code', 'execution_count': 81, 'metadata': {}, 'outputs': [{'data': {'text/plain': 'count    111951.000000\\nmean         37.973855\\nstd          22.104173\\nmin        -178.000000\\n25%          24.000000\\n50%          36.000000\\n75%          53.000000\\nmax         329.000000\\nName: beneficiery_age, dtype: float64'}, 'execution_count': 81, 'metadata': {}, 'output_type': 'execute_result'}], 'source': \"# Display summary statistics for the 'beneficiery_age' column to understand the age distribution of beneficiaries\\ndf.beneficiery_age.describe()\"}, {'cell_type': 'markdown', 'metadata': {}, 'source': ''}, {'cell_type': 'markdown', 'metadata': {}, 'source': \"<small>\\n\\n**The min value of -178 and max value of 329 are outliers or potential errors in the dataset, as they aren't realistic ages for a human beneficiary. These will need to be checked and cleaned for accurate analysis.</small>**\"}, {'cell_type': 'markdown', 'metadata': {}, 'source': '1.13 Summary of the portfolio distribution:'}, {'cell_type': 'code', 'execution_count': 82, 'metadata': {}, 'outputs': [{'data': {'text/plain': 'Money Market     119710\\nEquity Fund        2014\\nDollar Fund        1480\\nBalanced Fund      1180\\nFixed Income       1101\\nWealth Fund         398\\nMoneyMarket           1\\nName: portfolio, dtype: int64'}, 'execution_count': 82, 'metadata': {}, 'output_type': 'execute_result'}], 'source': '#display the portfolio allocation \\ndf.portfolio.value_counts()'}, {'cell_type': 'code', 'execution_count': 83, 'metadata': {}, 'outputs': [{'data': {'text/plain': '0'}, 'execution_count': 83, 'metadata': {}, 'output_type': 'execute_result'}], 'source': \"#fill with the mode\\ndf['portfolio']=df.portfolio.fillna('Money Market')\\ndf.portfolio.isna().sum()\"}, {'cell_type': 'markdown', 'metadata': {}, 'source': '---\\n\\n1. **Portfolio Mapping:** It defines a dictionary (`portfolio_map`) that standardizes various portfolio names in the `portfolio` column. For instance, entries like \"Money Mrket\" and \"MoneyMarket\" are all mapped to \"Money Market,\" ensuring consistency across the dataset.\\n\\n2. **Replace Portfolio Values:** The `replace` function is then applied to the `portfolio` column, replacing any of the portfolio variations with their standardized labels as defined in the `portfolio_map` dictionary.\\n\\n3. **Create New Column:** The standardized portfolio names are saved in a new column, `portfolio_map`, in the dataframe.\\n\\n'}, {'cell_type': 'markdown', 'metadata': {}, 'source': '1.13.1 Clean up the portfolio column'}, {'cell_type': 'code', 'execution_count': 84, 'metadata': {}, 'outputs': [], 'source': \"#clean up the portfolio column\\nportfolio_map ={\\n    'Money Market':'Money Market','MoneyMarket':'Money Market',\\n    'Equity Fund':'Equity Fund',\\n    'Dollar Fund':'Dollar Fund',\\n    'Balanced Fund':'Balanced Fund',\\n    'Fixed Income':'Fixed Income',\\n    'Wealth Fund':'Wealth Fund',\\n}\\ndf['portfolio_map'] = df['portfolio'].replace(portfolio_map)\"}, {'cell_type': 'code', 'execution_count': 85, 'metadata': {}, 'outputs': [{'data': {'text/html': '<div>\\n<style scoped>\\n    .dataframe tbody tr th:only-of-type {\\n        vertical-align: middle;\\n    }\\n\\n    .dataframe tbody tr th {\\n        vertical-align: top;\\n    }\\n\\n    .dataframe thead th {\\n        text-align: right;\\n    }\\n</style>\\n<table border=\"1\" class=\"dataframe\">\\n  <thead>\\n    <tr style=\"text-align: right;\">\\n      <th></th>\\n      <th>member_no</th>\\n      <th>dob</th>\\n      <th>gender</th>\\n      <th>town</th>\\n      <th>relationship</th>\\n      <th>beneficiery_dob</th>\\n      <th>portfolio</th>\\n      <th>gender_mapped</th>\\n      <th>member_age</th>\\n      <th>beneficiery_age</th>\\n      <th>portfolio_map</th>\\n    </tr>\\n  </thead>\\n  <tbody>\\n    <tr>\\n      <th>0</th>\\n      <td>99996</td>\\n      <td>1998-04-06</td>\\n      <td>Female</td>\\n      <td>NAIROBI</td>\\n      <td>partner</td>\\n      <td>1998-01-26</td>\\n      <td>Money Market</td>\\n      <td>Female</td>\\n      <td>26</td>\\n      <td>26.0</td>\\n      <td>Money Market</td>\\n    </tr>\\n    <tr>\\n      <th>14</th>\\n      <td>99996</td>\\n      <td>1998-04-06</td>\\n      <td>Female</td>\\n      <td>NAIROBI</td>\\n      <td>sibling</td>\\n      <td>2001-03-04</td>\\n      <td>Money Market</td>\\n      <td>Female</td>\\n      <td>26</td>\\n      <td>23.0</td>\\n      <td>Money Market</td>\\n    </tr>\\n    <tr>\\n      <th>28</th>\\n      <td>99994</td>\\n      <td>1966-01-01</td>\\n      <td>Female</td>\\n      <td>NaN</td>\\n      <td>partner</td>\\n      <td>1962-01-01</td>\\n      <td>Money Market</td>\\n      <td>Female</td>\\n      <td>58</td>\\n      <td>62.0</td>\\n      <td>Money Market</td>\\n    </tr>\\n    <tr>\\n      <th>40</th>\\n      <td>99993</td>\\n      <td>1974-01-01</td>\\n      <td>Female</td>\\n      <td>NAIROBI</td>\\n      <td>partner</td>\\n      <td>1970-09-29</td>\\n      <td>Money Market</td>\\n      <td>Female</td>\\n      <td>50</td>\\n      <td>54.0</td>\\n      <td>Money Market</td>\\n    </tr>\\n    <tr>\\n      <th>70</th>\\n      <td>99993</td>\\n      <td>1974-01-01</td>\\n      <td>Female</td>\\n      <td>NAIROBI</td>\\n      <td>child</td>\\n      <td>1994-01-01</td>\\n      <td>Money Market</td>\\n      <td>Female</td>\\n      <td>50</td>\\n      <td>30.0</td>\\n      <td>Money Market</td>\\n    </tr>\\n  </tbody>\\n</table>\\n</div>', 'text/plain': '    member_no        dob  gender     town relationship beneficiery_dob  \\\\\\n0       99996 1998-04-06  Female  NAIROBI      partner      1998-01-26   \\n14      99996 1998-04-06  Female  NAIROBI      sibling      2001-03-04   \\n28      99994 1966-01-01  Female      NaN      partner      1962-01-01   \\n40      99993 1974-01-01  Female  NAIROBI      partner      1970-09-29   \\n70      99993 1974-01-01  Female  NAIROBI        child      1994-01-01   \\n\\n       portfolio gender_mapped  member_age  beneficiery_age portfolio_map  \\n0   Money Market        Female          26             26.0  Money Market  \\n14  Money Market        Female          26             23.0  Money Market  \\n28  Money Market        Female          58             62.0  Money Market  \\n40  Money Market        Female          50             54.0  Money Market  \\n70  Money Market        Female          50             30.0  Money Market  '}, 'execution_count': 85, 'metadata': {}, 'output_type': 'execute_result'}], 'source': '#check the new_df\\ndf.head()'}, {'cell_type': 'markdown', 'metadata': {}, 'source': '1.14 Inspecting null values in the town column'}, {'cell_type': 'code', 'execution_count': 86, 'metadata': {}, 'outputs': [{'data': {'text/plain': '15026'}, 'execution_count': 86, 'metadata': {}, 'output_type': 'execute_result'}], 'source': '#inspecting the null values in the town column\\ndf.town.isna().sum()'}, {'cell_type': 'code', 'execution_count': 87, 'metadata': {}, 'outputs': [{'data': {'text/plain': 'NAIROBI       56997\\nNairobi       10261\\nTHIKA          3000\\nNAKURU         2608\\nMOMBASA        2440\\n              ...  \\nNaitobi           1\\nMALINDI           1\\nSagana            1\\nCHESINENDE        1\\nKIMENDE           1\\nName: town, Length: 973, dtype: int64'}, 'execution_count': 87, 'metadata': {}, 'output_type': 'execute_result'}], 'source': '#inspecting the value_counts in the town column\\ndf.town.value_counts()'}, {'cell_type': 'code', 'execution_count': 88, 'metadata': {}, 'outputs': [{'data': {'text/plain': '0'}, 'execution_count': 88, 'metadata': {}, 'output_type': 'execute_result'}], 'source': \"#fill the null values with unknown\\ndf['town'] = df.town.fillna('Unknown')\\ndf.town.isna().sum()\"}, {'cell_type': 'code', 'execution_count': 89, 'metadata': {}, 'outputs': [{'data': {'text/html': '<div>\\n<style scoped>\\n    .dataframe tbody tr th:only-of-type {\\n        vertical-align: middle;\\n    }\\n\\n    .dataframe tbody tr th {\\n        vertical-align: top;\\n    }\\n\\n    .dataframe thead th {\\n        text-align: right;\\n    }\\n</style>\\n<table border=\"1\" class=\"dataframe\">\\n  <thead>\\n    <tr style=\"text-align: right;\">\\n      <th></th>\\n      <th>member_no</th>\\n      <th>dob</th>\\n      <th>gender</th>\\n      <th>town</th>\\n      <th>relationship</th>\\n      <th>beneficiery_dob</th>\\n      <th>portfolio</th>\\n      <th>gender_mapped</th>\\n      <th>member_age</th>\\n      <th>beneficiery_age</th>\\n      <th>portfolio_map</th>\\n    </tr>\\n  </thead>\\n  <tbody>\\n    <tr>\\n      <th>0</th>\\n      <td>99996</td>\\n      <td>1998-04-06</td>\\n      <td>Female</td>\\n      <td>NAIROBI</td>\\n      <td>partner</td>\\n      <td>1998-01-26</td>\\n      <td>Money Market</td>\\n      <td>Female</td>\\n      <td>26</td>\\n      <td>26.0</td>\\n      <td>Money Market</td>\\n    </tr>\\n    <tr>\\n      <th>14</th>\\n      <td>99996</td>\\n      <td>1998-04-06</td>\\n      <td>Female</td>\\n      <td>NAIROBI</td>\\n      <td>sibling</td>\\n      <td>2001-03-04</td>\\n      <td>Money Market</td>\\n      <td>Female</td>\\n      <td>26</td>\\n      <td>23.0</td>\\n      <td>Money Market</td>\\n    </tr>\\n    <tr>\\n      <th>28</th>\\n      <td>99994</td>\\n      <td>1966-01-01</td>\\n      <td>Female</td>\\n      <td>Unknown</td>\\n      <td>partner</td>\\n      <td>1962-01-01</td>\\n      <td>Money Market</td>\\n      <td>Female</td>\\n      <td>58</td>\\n      <td>62.0</td>\\n      <td>Money Market</td>\\n    </tr>\\n    <tr>\\n      <th>40</th>\\n      <td>99993</td>\\n      <td>1974-01-01</td>\\n      <td>Female</td>\\n      <td>NAIROBI</td>\\n      <td>partner</td>\\n      <td>1970-09-29</td>\\n      <td>Money Market</td>\\n      <td>Female</td>\\n      <td>50</td>\\n      <td>54.0</td>\\n      <td>Money Market</td>\\n    </tr>\\n    <tr>\\n      <th>70</th>\\n      <td>99993</td>\\n      <td>1974-01-01</td>\\n      <td>Female</td>\\n      <td>NAIROBI</td>\\n      <td>child</td>\\n      <td>1994-01-01</td>\\n      <td>Money Market</td>\\n      <td>Female</td>\\n      <td>50</td>\\n      <td>30.0</td>\\n      <td>Money Market</td>\\n    </tr>\\n  </tbody>\\n</table>\\n</div>', 'text/plain': '    member_no        dob  gender     town relationship beneficiery_dob  \\\\\\n0       99996 1998-04-06  Female  NAIROBI      partner      1998-01-26   \\n14      99996 1998-04-06  Female  NAIROBI      sibling      2001-03-04   \\n28      99994 1966-01-01  Female  Unknown      partner      1962-01-01   \\n40      99993 1974-01-01  Female  NAIROBI      partner      1970-09-29   \\n70      99993 1974-01-01  Female  NAIROBI        child      1994-01-01   \\n\\n       portfolio gender_mapped  member_age  beneficiery_age portfolio_map  \\n0   Money Market        Female          26             26.0  Money Market  \\n14  Money Market        Female          26             23.0  Money Market  \\n28  Money Market        Female          58             62.0  Money Market  \\n40  Money Market        Female          50             54.0  Money Market  \\n70  Money Market        Female          50             30.0  Money Market  '}, 'execution_count': 89, 'metadata': {}, 'output_type': 'execute_result'}], 'source': 'df.head()'}, {'cell_type': 'markdown', 'metadata': {}, 'source': '1.15 Dropping unnecessary columns after data cleaning'}, {'cell_type': 'code', 'execution_count': 90, 'metadata': {}, 'outputs': [{'data': {'text/html': '<div>\\n<style scoped>\\n    .dataframe tbody tr th:only-of-type {\\n        vertical-align: middle;\\n    }\\n\\n    .dataframe tbody tr th {\\n        vertical-align: top;\\n    }\\n\\n    .dataframe thead th {\\n        text-align: right;\\n    }\\n</style>\\n<table border=\"1\" class=\"dataframe\">\\n  <thead>\\n    <tr style=\"text-align: right;\">\\n      <th></th>\\n      <th>member_no</th>\\n      <th>town</th>\\n      <th>relationship</th>\\n      <th>gender_mapped</th>\\n      <th>member_age</th>\\n      <th>beneficiery_age</th>\\n      <th>portfolio_map</th>\\n    </tr>\\n  </thead>\\n  <tbody>\\n    <tr>\\n      <th>0</th>\\n      <td>99996</td>\\n      <td>NAIROBI</td>\\n      <td>partner</td>\\n      <td>Female</td>\\n      <td>26</td>\\n      <td>26.0</td>\\n      <td>Money Market</td>\\n    </tr>\\n    <tr>\\n      <th>14</th>\\n      <td>99996</td>\\n      <td>NAIROBI</td>\\n      <td>sibling</td>\\n      <td>Female</td>\\n      <td>26</td>\\n      <td>23.0</td>\\n      <td>Money Market</td>\\n    </tr>\\n    <tr>\\n      <th>28</th>\\n      <td>99994</td>\\n      <td>Unknown</td>\\n      <td>partner</td>\\n      <td>Female</td>\\n      <td>58</td>\\n      <td>62.0</td>\\n      <td>Money Market</td>\\n    </tr>\\n    <tr>\\n      <th>40</th>\\n      <td>99993</td>\\n      <td>NAIROBI</td>\\n      <td>partner</td>\\n      <td>Female</td>\\n      <td>50</td>\\n      <td>54.0</td>\\n      <td>Money Market</td>\\n    </tr>\\n    <tr>\\n      <th>70</th>\\n      <td>99993</td>\\n      <td>NAIROBI</td>\\n      <td>child</td>\\n      <td>Female</td>\\n      <td>50</td>\\n      <td>30.0</td>\\n      <td>Money Market</td>\\n    </tr>\\n  </tbody>\\n</table>\\n</div>', 'text/plain': '    member_no     town relationship gender_mapped  member_age  \\\\\\n0       99996  NAIROBI      partner        Female          26   \\n14      99996  NAIROBI      sibling        Female          26   \\n28      99994  Unknown      partner        Female          58   \\n40      99993  NAIROBI      partner        Female          50   \\n70      99993  NAIROBI        child        Female          50   \\n\\n    beneficiery_age portfolio_map  \\n0              26.0  Money Market  \\n14             23.0  Money Market  \\n28             62.0  Money Market  \\n40             54.0  Money Market  \\n70             30.0  Money Market  '}, 'execution_count': 90, 'metadata': {}, 'output_type': 'execute_result'}], 'source': \"# Drop unnecessary columns ('dob', 'gender', 'portfolio', 'beneficiery_dob') from the dataframe\\nnew_df=df.drop(columns=['dob','gender','portfolio','beneficiery_dob'])\\nnew_df.head()\"}, {'cell_type': 'markdown', 'metadata': {}, 'source': '1.16 Setting reosonable age bounds under beneficiary_age column'}, {'cell_type': 'code', 'execution_count': 91, 'metadata': {}, 'outputs': [], 'source': \"#fill null values with the mode\\nnew_df['member_age'].fillna(new_df['member_age'].mode()[0], inplace=True)\\nnew_df['beneficiery_age'].fillna(new_df['beneficiery_age'].mode()[0], inplace=True)\"}, {'cell_type': 'code', 'execution_count': 92, 'metadata': {}, 'outputs': [], 'source': \"# Set reasonable age bounds\\nlower_bound = 0\\nupper_bound = 100\\n\\n# Create a copy of original ages for comparison if needed\\noriginal_ages = new_df['beneficiery_age'].copy()\\n\\n# Replace outliers by clipping to bounds\\nnew_df['beneficiery_age'] = new_df['beneficiery_age'].clip(lower=lower_bound, upper=upper_bound)\"}, {'cell_type': 'markdown', 'metadata': {}, 'source': '## 2. DATA VISUALIZATION'}, {'cell_type': 'markdown', 'metadata': {}, 'source': '2.1 Visualization of Average Age of Members Across Diverse Portfolios'}, {'cell_type': 'code', 'execution_count': 93, 'metadata': {}, 'outputs': [{'data': {'image/png': 'iVBORw0KGgoAAAANSUhEUgAAAl4AAAGDCAYAAAD6aR7qAAAAOXRFWHRTb2Z0d2FyZQBNYXRwbG90bGliIHZlcnNpb24zLjcuNSwgaHR0cHM6Ly9tYXRwbG90bGliLm9yZy/xnp5ZAAAACXBIWXMAAAsTAAALEwEAmpwYAAApIklEQVR4nO3deZhkZX328e/NIqKiqIwEQR0EN9xQiSsmxH0XfQmIKOCG5nWLu0aNaDRqosH4kkRREVyI4IIgroCiCC7MyIgIGhUwisiioIC4AL/3j/M0U7TdPdUD9XRPz/dzXXX12c+vTlWdvus5p85JVSFJkqTJ22ChC5AkSVpfGLwkSZI6MXhJkiR1YvCSJEnqxOAlSZLUicFLkiSpE4OXpCUryb5Jvr7QdYwjyYOS/CjJZUl2XcO0+yf5SOu+bZtnwy6FSrpODF7SOiDJCUkuTrLJQtdyfWmhqJLssdC1jKO9Br9vIeeiJJ9KstV1WNazpw1+E3BgVd2kqj497rKq6n/bPFetRR2HtNfgidOGH9CG7zvfZUqam8FLWuSSLAceDBTwhAksf6Pre5lj2gf4NbD3Aq1/bbygqm4C3BHYHDhgPjNnMNt+93bA969beWvlfxh5Ddr7YXfgJwtQi7TkGbykxW9v4JvAIQxhhSSbJLkkyd2mJkqyLMkVSW7V+h+XZFWb7uQk9xiZ9pwkr0pyGnB5ko2SvDrJT5JcmuSMJE8amX7DJO9sLT1nJ3lBaxHZqI2/WZIPJDkvyblJ3jzXoa8ktwP+GtgPeGSSv5g2/pVtWb9I8uy2ru1Hnvs7kvxvkvOTvCfJpnNsvyQ5MMlvkvwgyUPbwL9NsnLahC9NctQcywKgqn4NfBK4W5vvgUlOaes4JckDR5Z5QpK3JDkJ+B3wYYYgfWBrPTswyU+A2wOfacM2SXLrJEcn+XWSHyd5zixPbvm012Ks+UZ8Btg5yc1b/6OA04BfjqxjuyRfTvKr9h74aJLNR8afk+Q17X1zcZIPJrnhmrajtD4yeEmL397AR9vjkUm2rKo/AJ8C9hyZbnfgq1V1QZJ7AQcDzwVuCbwXOHraoco9gccCm1fVlQwtHA8Gbga8EfjIyKG05wCPBnYE7g3sOq3GQ4Arge2BewGPAKYfSpv+nFZU1SeBM4G9pkYkeRTwUuBhbXm7TJv3bQwtTju28VsD/zjHuu7XntsWwBuATyW5BXA0sG2Su4xM+3TgQ3Msa6rGLYD/A5zalvVZ4N0M2/rfgM8mueW05e4HbAbsC5xIaz2rqhdU1XbA/wKPb8P+AHwM+Dlwa2A34J+TPGRNta3FfL8HjgKe0vr35s+3QYC3tmXeBbgNsP+0afYCHglsx/D6vG6MWqX1T1X58OFjkT6AnYE/AVu0/h8AL2ndDwN+MjLtScDerfu/gH+atqwfAn/dus8BnrmGda8Cnti6vww8d2TcwxgOfW4EbAn8Adh0ZPyewFfmWPaPgL9v3a8Bvjsy7mDgrSP927d1bc8QAC4HthsZ/wDg7FnWsy/wCyAjw74NPH1kO72ldd8VuBjYZJZlncDQYnUJcC5DEF7GEKq+PW3abwD7jsz3phmW9expw84BHta6bwNcBWw2Mv6twCGte3/gI617+chrMed8MzynQ4A3t/fZNxgOn54PbAp8feo5zDDfrsCp02p/3kj/Yxh5b/rw4WP1wxYvaXHbB/hSVV3U+g9rwwC+Atwoyf3aeWA7Ake2cbcDXtYOM16S5BKGf8q3Hln2z0ZXlGTvkUOTlzAcRtuijb71tOlHu28HbAycNzLve4FbzfSEkjwI2JahZWbqOd09yY5jrGsZcCNg5ci6vtCGz+bcqqqR/p+yejscCjw1SRgC1BE1tDbN5kVVtXlVbV1Ve1XVhW1ZP5023U8ZWuJmeg7juDXw66q6dI5lXm/zVdXXGbbha4FjquqK0fFJtkzysXYY+bfAR1j93pgy+hxHt7GkEQt1Uq2kNWjnLe0ObJhk6nybTYDNk9yzqr6b5AiG1qXzGf5hTv3D/RlDS85b5ljFNWGknXP1PuChwDeq6qokqxhamADOA7YZmfc2I90/Y2jx2qKGQ5Zrsk9b7qoh71xr+Ko1rOsi4ArgrlV17hjrAtg6SUbC120ZDjNSVd9M8keGQ6xPbY/5+gVD+Bx1W4ZAOKWmjZ/eP9Myb5Fks5HX9LYMLW2TmA+GMPWPwN/MMO6fW813r6pfZ7jcxYHTphl9nW7bapE0jS1e0uK1K8Nhox0YWrN2ZDi/5kRW/wrtMGAPhvNrDhuZ933A81prWJLcOMljk2w2y7puzPCP9UKAJM+gnTjeHAG8OMnW7aTqV02NqKrzgC8B70xy0yQbtJOx/3r6StoJ17sznO+048jjhQwtTxu1dT0jyV2S3Ah4/ci6rm7P7YCs/hHB1kkeOcvzgqHl7UVJNk7ytwzb8HMj4z/EECL+1Fp+5utzwB2TPDXDjxT2YHjNjpljnvMZTqafUVX9DDgZeGuSG2b4YcSzGMLRrNZ2vubdwMOBr80wbjPgMuA3SbYGXjHDNM9Psk075+21wOFjrFNa7xi8pMVrH+CDNVyn6ZdTD4aQsFeSjarqWwznPN0a+PzUjFW1guGE+AMZzlv6McP5TjOqqjOAdzKc53M+cHeGc8amvI8hXJ0GnMoQNq5kCIYwBMEbAGe09X0CmOkaV7sytFh9aNpzOpihBf5RVfV5hhDwlVb3N9u8U4cAXzU1vB32Og6402zPDfgWcAeG1rK3ALtV1a9Gxn+YIWSOE07+TFvW44CXAb8CXgk8buTw8Ez+Hdit/QLw3bNMsyfD+Vu/YDiE/IaqOm6MktZqvqr6dVUdP+2w7JQ3Mvyo4jcMPyT41AzTHMbwHjmL4ccMbx6jVmm9k5k/Y5I0uySPBt5TVdMPsU1iXXcBTmc46X2cQ5nzXf6mwAXAvavqR9f38tcHSc5h+LHAOMFQWq/Z4iVpjZJsmuQx7VDa1gyXZThyTfNdh/U9qV3L6ubA24HPTCJ0NX8HnGLoktSDwUvSOMJwuOlihkONZzL3tbOuq+cytEL9hOFw5t9NYiWtpebFDIcJJWniPNQoSZLUiS1ekiRJnRi8JEmSOlknLqC6xRZb1PLlyxe6DEmSpDVauXLlRVU14x011ongtXz5clasWLHQZUiSJK1Rkum3EbuGhxolSZI6MXhJkiR1YvCSJEnqxOAlSZLUicFLkiSpE4OXJElSJwYvSZKkTgxekiRJnRi8JEmSOjF4SZIkdWLwkiRJ6sTgJUmS1InBS5IkqZONFroASZK0sO7zig8tdAnrjJX/uvd1mt8WL0mSpE4MXpIkSZ0YvCRJkjoxeEmSJHVi8JIkSerE4CVJktSJwUuSJKkTg5ckSVInBi9JkqRODF6SJEmdGLwkSZI6MXhJkiR1YvCSJEnqxOAlSZLUicFLkiSpE4OXJElSJwYvSZKkTgxekiRJnRi8JEmSOjF4SZIkdWLwkiRJ6mSjSS48yTnApcBVwJVVtVOSWwCHA8uBc4Ddq+riSdYhSZK0GPRo8fqbqtqxqnZq/a8Gjq+qOwDHt35JkqQlbyEONT4ROLR1HwrsugA1SJIkdTfp4FXAl5KsTLJfG7ZlVZ3Xun8JbDnhGiRJkhaFiZ7jBexcVecmuRVwbJIfjI6sqkpSM83Ygtp+ALe97W0nXKYkSdLkTbTFq6rObX8vAI4E7gucn2QrgPb3glnmPaiqdqqqnZYtWzbJMiVJkrqYWPBKcuMkm011A48ATgeOBvZpk+0DHDWpGiRJkhaTSR5q3BI4MsnUeg6rqi8kOQU4IsmzgJ8Cu0+wBkmSpEVjYsGrqs4C7jnD8F8BD53UeiVJkhYrr1wvSZLUicFLkiSpE4OXJElSJwYvSZKkTgxekiRJnRi8JEmSOjF4SZIkdWLwkiRJ6sTgJUmS1InBS5IkqRODlyRJUicGL0mSpE4MXpIkSZ0YvCRJkjoxeEmSJHVi8JIkSerE4CVJktSJwUuSJKkTg5ckSVInBi9JkqRODF6SJEmdGLwkSZI6MXhJkiR1YvCSJEnqxOAlSZLUicFLkiSpE4OXJElSJwYvSZKkTgxekiRJnRi8JEmSOjF4SZIkdWLwkiRJ6mSjhS5A0vju84oPLXQJ64yV/7r3QpcgSX/GFi9JkqRODF6SJEmdGLwkSZI6MXhJkiR1YvCSJEnqxOAlSZLUicFLkiSpkyVzHS+vbzQ+r28kSdLCsMVLkiSpkyXT4iVJWho8gjE+j2Cse2zxkiRJ6sTgJUmS1InBS5IkqRODlyRJUicGL0mSpE4mHrySbJjk1CTHtP5tk3wryY+THJ7kBpOuQZIkaTHo0eL1YuDMkf63AwdU1fbAxcCzOtQgSZK04CYavJJsAzwWeH/rD/AQ4BNtkkOBXSdZgyRJ0mIx6RavdwGvBK5u/bcELqmqK1v/z4GtJ1yDJEnSojCx4JXkccAFVbVyLeffL8mKJCsuvPDC67k6SZKk/ibZ4vUg4AlJzgE+xnCI8d+BzZNM3apoG+DcmWauqoOqaqeq2mnZsmUTLFOSJKmPid2rsapeA7wGIMkuwMuraq8kHwd2Ywhj+wBHTaoGTZb3Uxuf91OTJMHCXMfrVcBLk/yY4ZyvDyxADZIkSd1NrMVrVFWdAJzQus8C7ttjvZIkSYuJV66XJEnqxOAlSZLUicFLkiSpE4OXJElSJwYvSZKkTgxekiRJnRi8JEmSOjF4SZIkddLlAqqStK7y1ljj89ZY0prZ4iVJktSJwUuSJKkTg5ckSVInBi9JkqRODF6SJEmdGLwkSZI6MXhJkiR1YvCSJEnqxOAlSZLUicFLkiSpE4OXJElSJwYvSZKkTgxekiRJnRi8JEmSOjF4SZIkdWLwkiRJ6sTgJUmS1InBS5IkqRODlyRJUicGL0mSpE4MXpIkSZ2sMXgluWOS45Oc3vrvkeR1ky9NkiRpaRmnxet9wGuAPwFU1WnAUyZZlCRJ0lI0TvC6UVV9e9qwKydRjCRJ0lI2TvC6KMl2QAEk2Q04b6JVSZIkLUEbjTHN84GDgDsnORc4G3jaRKuSJElagtYYvKrqLOBhSW4MbFBVl06+LEmSpKVnjcEryUun9QP8BlhZVasmU5YkSdLSM845XjsBzwO2bo/nAo8C3pfklROsTZIkaUkZ5xyvbYB7V9VlAEneAHwW+CtgJfAvkytPkiRp6RinxetWwB9G+v8EbFlVV0wbLkmSpDmM0+L1UeBbSY5q/Y8HDmsn258xscokSZKWmHF+1fhPST4PPKgNel5VrWjde02sMkmSpCVmrJtkV9WKqvp34P3AXZJ8drJlSZIkLT3j3CT7BkmelOTjDFesfwjwnolXJkmStMTMeqgxySOAPYFHAF8BPgT8ZVU9o1NtkiRJS8pcLV5fAG4P7FxVT6uqzwBX9ylLkiRp6Znr5Pp7A08BjktyFvAxYMMuVUmSJC1Bs7Z4VdWqqnp1VW0HvAHYEdg4yeeT7NerQEmSpKVi3F81nlxVL2S4iv0BwP3XNE+SGyb5dpLvJvl+kje24dsm+VaSHyc5PMkNrtMzkCRJWkeMFbymVNXVVfWlqnrmGJP/AXhIVd2TobXsUUnuD7wdOKCqtgcuBp41z5olSZLWSfMKXvNRg8ta78btUQyXo/hEG34osOukapAkSVpMJha8AJJsmGQVcAFwLPAT4JKqurJN8nNg60nWIEmStFiMFbyS7JzkGa17WZJtx5mvqq6qqh0Zzg27L3DncQtLsl+SFUlWXHjhhePOJkmStGiNc+X6NwCvAl7TBm0MfGQ+K6mqSxguwvoAYPMkU5ex2AY4d5Z5Dqqqnapqp2XLls1ndZIkSYvSOC1eTwKeAFwOUFW/ADZb00ytZWzz1r0p8HDgTIYAtlubbB/gqHlXLUmStA6a6wKqU/5YVZWkAJLceMxlbwUcmmRDhoB3RFUdk+QM4GNJ3gycCnxgbQqXJEla14wTvI5I8l6GQ4TPAZ4JvG9NM1XVacC9Zhh+FsP5XpIkSeuVNQavqnpHkocDvwXuBPxjVR078cokSZKWmHFavGhBy7AlSZJ0HawxeCW5lOHCp6N+A6wAXtYOHUqSJGkNxmnxehfDhU4PAwI8BdgO+A5wMLDLhGqTJElaUsa5nMQTquq9VXVpVf22qg4CHllVhwM3n3B9kiRJS8Y4wet3SXZPskF77A78vo2bfghSkiRJsxgneO0FPJ3hfovnt+6ntYuivmCCtUmSJC0p41xO4izg8bOM/vr1W44kSdLSNc6vGm8IPAu4K3DDqeFV9cwJ1iVJkrTkjHOo8cPAXwCPBL7KcGPrSydZlCRJ0lI0TvDavqpeD1xeVYcCjwXuN9myJEmSlp5xgtef2t9LktwNuBlwq8mVJEmStDSNcwHVg5LcHHgdcDRwE+D1E61KkiRpCZozeCXZAPhtVV0MfA24fZeqJEmSlqA5DzVW1dXAKzvVIkmStKSNc47XcUlenuQ2SW4x9Zh4ZZIkSUvMOOd47dH+Pn9kWOFhR0mSpHkZ58r12/YoRJIkaalb46HGJDdK8rokB7X+OyR53ORLkyRJWlrGOcfrg8AfgQe2/nOBN0+sIkmSpCVqnOC1XVX9C+1CqlX1OyATrUqSJGkJGid4/THJpgwn1JNkO+APE61KkiRpCRrnV437A18AbpPko8CDgH0nWJMkSdKSNM6vGr+UZCVwf4ZDjC+uqosmXpkkSdISs8bgleQzwGHA0VV1+eRLkiRJWprGOcfrHcCDgTOSfCLJbkluOOG6JEmSlpxxDjV+Ffhqkg2BhwDPAQ4Gbjrh2iRJkpaUcU6up/2q8fEMtw+6N3DoJIuSJElaisY5x+sI4L4Mv2w8EPhqVV096cIkSZKWmnFavD4A7FlVVwEk2TnJnlX1/DXMJ0mSpBHjnOP1xST3SrInsDtwNvCpiVcmSZK0xMwavJLcEdizPS4CDgdSVX/TqTZJkqQlZa4Wrx8AJwKPq6ofAyR5SZeqJEmSlqC5ruP1ZOA84CtJ3pfkoXhzbEmSpLU2a/Cqqk9X1VOAOwNfAf4euFWS/0ryiE71SZIkLRlrvHJ9VV1eVYdV1eOBbYBTgVdNvDJJkqQlZpxbBl2jqi6uqoOq6qGTKkiSJGmpmlfwkiRJ0tozeEmSJHVi8JIkSerE4CVJktSJwUuSJKkTg5ckSVInBi9JkqRODF6SJEmdGLwkSZI6MXhJkiR1YvCSJEnqZGLBK8ltknwlyRlJvp/kxW34LZIcm+RH7e/NJ1WDJEnSYjLJFq8rgZdV1Q7A/YHnJ9kBeDVwfFXdATi+9UuSJC15EwteVXVeVX2ndV8KnAlsDTwROLRNdiiw66RqkCRJWky6nOOVZDlwL+BbwJZVdV4b9Utgyx41SJIkLbSJB68kNwE+Cfx9Vf12dFxVFVCzzLdfkhVJVlx44YWTLlOSJGniJhq8kmzMELo+WlWfaoPPT7JVG78VcMFM81bVQVW1U1XttGzZskmWKUmS1MUkf9UY4APAmVX1byOjjgb2ad37AEdNqgZJkqTFZKMJLvtBwNOB7yVZ1Yb9A/A24IgkzwJ+Cuw+wRokSZIWjYkFr6r6OpBZRj90UuuVJElarLxyvSRJUicGL0mSpE4MXpIkSZ0YvCRJkjoxeEmSJHVi8JIkSerE4CVJktSJwUuSJKkTg5ckSVInBi9JkqRODF6SJEmdGLwkSZI6MXhJkiR1YvCSJEnqxOAlSZLUicFLkiSpE4OXJElSJwYvSZKkTgxekiRJnRi8JEmSOjF4SZIkdWLwkiRJ6sTgJUmS1InBS5IkqRODlyRJUicGL0mSpE4MXpIkSZ0YvCRJkjoxeEmSJHVi8JIkSerE4CVJktSJwUuSJKkTg5ckSVInBi9JkqRODF6SJEmdGLwkSZI6MXhJkiR1YvCSJEnqxOAlSZLUicFLkiSpE4OXJElSJwYvSZKkTgxekiRJnRi8JEmSOjF4SZIkdWLwkiRJ6sTgJUmS1InBS5IkqZOJBa8kBye5IMnpI8NukeTYJD9qf28+qfVLkiQtNpNs8ToEeNS0Ya8Gjq+qOwDHt35JkqT1wsSCV1V9Dfj1tMFPBA5t3YcCu05q/ZIkSYtN73O8tqyq81r3L4EtO69fkiRpwSzYyfVVVUDNNj7JfklWJFlx4YUXdqxMkiRpMnoHr/OTbAXQ/l4w24RVdVBV7VRVOy1btqxbgZIkSZPSO3gdDezTuvcBjuq8fkmSpAUzyctJ/DfwDeBOSX6e5FnA24CHJ/kR8LDWL0mStF7YaFILrqo9Zxn10EmtU5IkaTHzyvWSJEmdGLwkSZI6MXhJkiR1YvCSJEnqxOAlSZLUicFLkiSpE4OXJElSJwYvSZKkTgxekiRJnRi8JEmSOjF4SZIkdWLwkiRJ6sTgJUmS1InBS5IkqRODlyRJUicGL0mSpE4MXpIkSZ0YvCRJkjoxeEmSJHVi8JIkSerE4CVJktSJwUuSJKkTg5ckSVInBi9JkqRODF6SJEmdGLwkSZI6MXhJkiR1YvCSJEnqxOAlSZLUicFLkiSpE4OXJElSJwYvSZKkTgxekiRJnRi8JEmSOjF4SZIkdWLwkiRJ6sTgJUmS1InBS5IkqRODlyRJUicGL0mSpE4MXpIkSZ0YvCRJkjoxeEmSJHVi8JIkSerE4CVJktSJwUuSJKkTg5ckSVInBi9JkqROFiR4JXlUkh8m+XGSVy9EDZIkSb11D15JNgT+A3g0sAOwZ5IdetchSZLU20K0eN0X+HFVnVVVfwQ+BjxxAeqQJEnqaiGC19bAz0b6f96GSZIkLWmpqr4rTHYDHlVVz279TwfuV1UvmDbdfsB+rfdOwA+7Fnr92AK4aKGLWM+4zftzm/fnNu/Pbd7furzNb1dVy2YasVHvSoBzgduM9G/Thl1LVR0EHNSrqElIsqKqdlroOtYnbvP+3Ob9uc37c5v3t1S3+UIcajwFuEOSbZPcAHgKcPQC1CFJktRV9xavqroyyQuALwIbAgdX1fd71yFJktTbQhxqpKo+B3xuIdbd2Tp9qHQd5Tbvz23en9u8P7d5f0tym3c/uV6SJGl95S2DJEmSOllSwSvJVUlWJfluku8keeAY81zWo7YZ1rt/kpfPMvzc9jxWJXnb9bS+BXmebd1Tr8v322vzsiRzvveS7JLkmNa9b5IDr8P6lye5YmSbrmo/7LhOkhzSLo+yqIxs76nHWt+WK8nJ7e/yJE+d57y7JPnNSB3HrW0d05Z7QpIF/6XTDNt5+dT2uh6WfU6SLcYdvpQlqSQfGenfKMmFU/uHBajnnCQnThu2Ksnp81zO8vnMk2TXhbjLS5IDkvz9SP8Xk7x/pP+dSV66Fsu95n9g28ffemTcGt/n6/L+ZUHO8ZqgK6pqR4AkjwTeCvz1gla0dg6oqncsdBHXo9HX5VbAYcBNgTdMYmVJNqqqK6cN/slUDeuBK66v51pVU19elgNPZXjt5uPEqnrc9VHLIjTTdl7jlz3N2+XA3ZJsWlVXAA9nhksQdbZZkttU1c+S3GW+MydZm/+9uwLHAGesxbzXxUnA7sC72hfmLRj231MeCLzkOq5jX+B04BfznG+d3L8sqRavaW4KXAyQ5CZJjm+tYN9L8me3KJptmvat5Mwk72stNl9Ksmkbt32S40Za2LZrw1+R5JQkpyV548g6Xpvkf5J8neGisGOZ3uKT5Jgku7Tuy5K8pdXwzSRbtuHbJvlGey5vnv/mm4yquoDhwrgvyOCGST7Y6jw1yd/MNX+Sxyf5Vpv2uJHnu3+SDyc5CfjwOLVkpBUwyW5JDmndhyR5d5KTk5yV1qrV6j0www3ejwNutVYbYYFkuDn9D9p79d1Z3aJ4rdbXJKcnWd66p7bR24AHt2+WL0nytSQ7jszz9ST3HKOGa33LT/LyJPu37hOSvD3Jt9vn5MFt+KZJPtY+h0cCm17XbTEpU9sryZPa/iRJtmrP5y+SLEvyybZ/OCXJg9r0t2z7lu9naE3IGtYzr/1Sq+Nf22v7vSR7tGl3SfLVJEe19/rbkuzVXoPvZfU+bca6O/oc8NjWvSfw3yPb4hZJPp1hf/vNJPdow/dPcnB7X52V5EUj8zytPcdVSd6bZMMkz0zyrpFpnpPkgFnqOQLYY5Z6lic5sW37a468tG19YpKjmRaektw+wz7tL9vr9YUkK9v0d27LeALwr63m7dZqK66dk4EHtO67MgSkS5PcPMkmwF2A7yS5T3svrczQKrZVe27Pae+Z77b30I1GF55h/7oT8NH23KY+3y/M6v/Hdx6n0HVm/1JVS+YBXAWsAn4A/Aa4Txu+EXDT1r0F8GNW/7DgsrmmYfimfyWwYxt3BPC01v0t4Emt+4bAjYBHMPwSIwzB9hjgr4D7AN9r09y0Lf/lMzyH/Rm+za1qj0cyfBs4cGSaY4BdWncBj2/d/wK8rnUfDezdup8/9TwX6HX5s3UDlwBbAi9juKQIwJ2B/23bchfgmDb8mucP3HzktXs28M6R7bYS2HSGdS0HrhjZpv8xvS5gN+CQ1n0I8PH2+u3AcG9RgCcDxzJcBuXW7TnsttDv+zk+B1OPPdo2/Rlwh/bePGJk++4/+l5k2LEun/b5uOb1aP37AO9q3XcEVsxQxy4Mn8OpOl7bXovTR6Z5ObB/6z5h5PV8DHBc637pyHvkHgyfx50W2XY+cob31EeAFzB8Xvdsww4Ddm7dtwXObN3vBv6xdT+W4XO9xQzrPIdh/7Sc+e2X/s/Ie3dLhs/ZVu01uqR1b8Kw73ljm/fFI6/xjHV32s6Xtdf9E+35rOLa+4f/B7yhdT8EWDXyvj65Pa8tgF8BGzMEhc8AG7fp/hPYG7gJ8JOR4ScDd5/lNbgTcHLrP5VhP3F6678RcMPWfQfaZ6PVfDmwbetfzvBZu1Nbxj3b8OOBO7Tu+wFfbt2HsED7G+Ds9ro/F3ge8E8Mn9EHASe27XoysKxNvwerP7O3HFnOm4EXjrw+L2/dJzDymW7beGq6/wu8f4aadmEd3b8s5UONDwA+lORuDP9o/jnJXwFXM9wbckvglyPzzjYNwNlVtap1rwSWJ9kM2LqqjgSoqt+39T6CIXyd2qa/CcOHbzOGnfPv2nRzXTT2gBo51Jhk3zmm/SPDjn2qtoe37gcx7GxhaAF6+xzLWEg7M+w4qaofJPkpwz/y2WwDHN6+Td2AYYcw5egaDkXMZL6HGj9dVVcDZ6S1qjEE6P+uqquAXyT58jyW19OfHQLL0Dp1dlX9qPV/hNW35FobHwden+QVwDMZ/inM5FqHAtJa0ubwqfZ3JcNOFIbt/m6AqjotyWlrV/L1bk2HdF/I8I/1m1U11SLyMGCH5JoGrZsmuQnDc3wyQFV9NsnFY6x/PvulnVn93j0/yVeBvwR+C5xSVee16X4CfKkt83vAVAv0jHVXVZdzR9vrvpyhdWn6pYh2pu3rqurLGVoPpw6Ffbaq/gD8IckFDPv0hzJ8ET6lPZ9NgQuq6rL2mX5ckjMZAtj3ZinpV8DFSZ4CnAn8bmTcxsCB7TN3Fdfen327qkb3WcuAo4AnV9UZ7b3wQODjI9t6kzVsnh5OZqjrgcC/Mfx/fCBD8DmJITzeDTi21b0hcF6b924ZjrpszvD/8ItjrnN0X/DkWaZZJ/cvSy14XaOqvpHh5LxlDOl2GUML2J+SnMPwzWnUXnNM84eR6a5i7qbIAG+tqvdea+DIyYlr4UqufVh4tPY/VYvqrbbR13RRXiskye0Zar1gLWb/f8C/VdXRGQ637j8y7vJ5Lmt0+0x/P4y+5nMe9lkC5np/zaiqfpfkWOCJDOd/3Od6WtfUdp/+Xl4XbcPwJW7LJBu0IL8BcP+pQDRl5J/sfMxnvzTucq4e6b+a1a/BjHV3djTwDoaWjluOOc/0bbQRw+f50Kp6zQzTvx/4B4ajJh9cw7IPB/6DoUV+1EuA84F7Mmy30W02fR/1G4bWx50ZDj9uAFwyzy+JPZzEELTuzvBl4mcMRyt+y7CdAny/qh4ww7yHALtW1XdbI8IuY65zbfYF68T+Zcme49WOCW/I8M3kZgzfaP6U4Ryi280wyzjTXKOqLgV+nmTXtr5N2rHrLwLPbN9cSLJ1hhPKvwbs2o4nbwY8fh5P5xxgxyQbJLkNcN8x5jmJ4XZMMITKRSHJMuA9DIcOi6GZeq827o4Mzdlz3RD9Zqw+sXaf61jO+UnukuGE0SeNMf3XgD3a+SBbsbo1YF3wA4YWkalzQ/YcGXcOcG+AJPcGtp1h/ksZWm1HvZ/hm+IpVTVOCw0M/5Bu1VolNgHGOTH2awwn9tNasO8x5roWTIaTpw9m2M5nMhzOgKE16YUj0+3YOkef46MZDqnP2xz7pRNZ/d5dxvAt/9vzWPRsdfd0MMNh0OmtUKP7kF2Ai6rqt3Ms53hgt7ZfnjpH7HYAVfUthnsJP5WR87ZmcSTD6R3TW3BuBpzXgvbTGf4PzeaPDPuevZM8tdV9dpK/bbUlq8+dnOkz2MvJDJ/VX1fVVVX1a4YWrAe0cT8ElrUjTSTZOMld27ybAecl2ZjZ/xddX89tndi/LLXgtWk7OW8Vw7eRfVrT+keBnZJ8j+FY/g9mmHecaaZ7OvCi1jR5MvAXVfUlhvMhvtGW9Qlgs6r6Tqvpu8DnGe5ZOa6TGA6pncHwj+47Y8zzYuD5rYat57GuSZh6Xb4PHMewE5/60cF/Ahu0Og8H9m2HBmazP0Mz/Equ+13rX81wmPZkVjeLz+VI4EcMr8OHgG9cx/VPyjWfg/Z4W2up2A/4bJLvcO3Wxk8Ct2ivzwuA/5lhmacBV2U4QfYlAFW1ktXfeMdSVX8C3sTwT/9Yxvuc/Rdwk3b4500MhwkWu39gOAzydYbQ9ewMv357EcN+5rQkZzCcLwPD5+Gv2mvwZIZWkLX1Z/slhvfuaQz7ny8Dr6yqX86+iD8zW93dVNXPq+rdM4zaH7hPe75vYw1fyKrqDOB1wJfaPMcynOM25QjgpDV9maiqS6vq7VX1x2mj/hPYJ8l3Gc5bnbMlvqouZwgIL0nyBIZw8qw2//cZWpUBPga8IsNJ+D1ProfhsPMWwDenDftNVV3UtsFuwNtb3atY/Qvf1zOcd3gSs3/eDwHek2ufXD9v68r+xSvXS+uh1jLw8roOP8XOcN2dE4A7t2/30jovw699D6iq4xe6Fi1NS63FS1IHSfZm+Bb7WkOXloIkmyf5H4YfTRi6NDG2eEmSJHVii5ckSVInBi9JkqRODF6SJEmdGLwkLZgkV7WfkJ+e5OOZdh+3Ncy7Y5LHjPRvkuEehavS7kU4y3wnJNmpdX8uyebzWOc5SU6cNmxVRu4PJ0lzMXhJWkhXVNWOVXU3hotJjnV9qHaB0h0Z7kox5V4AbXmHj7OcqnpMVV0yr4phs3YhY9q1uSRpbAYvSYvFicD27Urin24X6/xmknsAJNk/yYeTnMRw/9E3MVyNfaqF6yPAX7b+7ZI8tF1s8ntJDm5Xsr6W1oK1Ret+aWt5Oz1z3+LrCIabAMNwZfprrnCeZHmSE5N8pz0e2IbvkuRrST6b5IdJ3pPhjgmS1jN+8CUtuNaC9WiGq2G/ETi1qu7BcAX4D41MugPwsKraE/hH4PCRFq5nM1wtfkeG20odAuxRVXdnuC/b382x/vsAzwDuB9wfeE6Se80y+SdZfdPexwOfGRl3AfDwqro3QzgbvdL6fRluu7MDsB2z3/hX0hJm8JK0kDZtt/hawXCbnA8w3DD4wwBV9WXglklu2qY/uqquGGO5dwLOrqqp2x8dynB/wtnsDBxZVZdX1WXAp4AHzzLtr4CLkzyF4T6MvxsZtzHwvnYLrI8zhKwp366qs9ptzP67rVPSembB7s4tSbRzvEYHJJlr+jnve9fR4cB/APtOG/4Shhv13pPhi+3vR8ZNv1q1V6+W1kO2eElabE5kuFHw1D0lL6qq384w3aXAZrMs44fA8iTbt/6nA19dwzp3TXKjJDcGntSGzeZI4F+AL04bfjPgvHYbpacDG46Mu2+Sbdu5XXsAX59j+ZKWKIOXpMVmf+A+SU4D3gbsM8t0XwF2mOnyEVX1e4Zztj7eDvtdDbxnthVW1XcYzgn7NsM9KN9fVafOMf2lVfX2qvrjtFH/CeyT5LvAnbl2C90pwIEMhyfPZghvktYz3qtRkiastdy9vKoet8ClSFpgtnhJkiR1YouXJElSJ7Z4SZIkdWLwkiRJ6sTgJUmS1InBS5IkqRODlyRJUicGL0mSpE7+P4dlhSaDM9R6AAAAAElFTkSuQmCC', 'text/plain': '<Figure size 720x432 with 1 Axes>'}, 'metadata': {'needs_background': 'light'}, 'output_type': 'display_data'}], 'source': \"average_age = new_df.groupby('portfolio_map')['member_age'].mean().reset_index()\\n\\nplt.figure(figsize=(10, 6))\\nsns.barplot(x='portfolio_map', y='member_age', data=average_age)\\nplt.title('Average Age by Portfolio Map')\\nplt.xlabel('Portfolio Map')\\nplt.ylabel('Average Age')\\nplt.show()\\n\"}, {'cell_type': 'markdown', 'metadata': {}, 'source': 'The output is a bar plot showing the average age for each portfolio type.\\nEach bar represents the average age of members who belong to that specific portfolio, allowing you to quickly compare the average ages across different portfolio categories.\\nThe resulting plot gives insights into the age distribution for each portfolio, highlighting which portfolios are associated with older or younger members.'}, {'cell_type': 'code', 'execution_count': 94, 'metadata': {}, 'outputs': [{'data': {'text/plain': \"Index(['member_no', 'town', 'relationship', 'gender_mapped', 'member_age',\\n       'beneficiery_age', 'portfolio_map'],\\n      dtype='object')\"}, 'execution_count': 94, 'metadata': {}, 'output_type': 'execute_result'}], 'source': '#check columns\\nnew_df.columns'}, {'cell_type': 'code', 'execution_count': 95, 'metadata': {}, 'outputs': [], 'source': \"#convert the cleaned data to csv\\nnew_df.to_csv('cleaned_data.csv', index=False)\"}, {'cell_type': 'code', 'execution_count': 96, 'metadata': {}, 'outputs': [{'name': 'stdout', 'output_type': 'stream', 'text': \"<class 'pandas.core.frame.DataFrame'>\\nInt64Index: 125888 entries, 0 to 7532842\\nData columns (total 7 columns):\\n #   Column           Non-Null Count   Dtype  \\n---  ------           --------------   -----  \\n 0   member_no        125888 non-null  int64  \\n 1   town             125888 non-null  object \\n 2   relationship     125888 non-null  object \\n 3   gender_mapped    125888 non-null  object \\n 4   member_age       125888 non-null  int64  \\n 5   beneficiery_age  125888 non-null  float64\\n 6   portfolio_map    125888 non-null  object \\ndtypes: float64(1), int64(2), object(4)\\nmemory usage: 7.7+ MB\\n\"}], 'source': '#inspecting the preprocessed dataframe\\nnew_df.info()'}, {'cell_type': 'markdown', 'metadata': {}, 'source': '2.2 Comparison of gender distribution'}, {'cell_type': 'code', 'execution_count': 97, 'metadata': {}, 'outputs': [{'data': {'image/png': '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', 'text/plain': '<Figure size 576x432 with 1 Axes>'}, 'metadata': {'needs_background': 'light'}, 'output_type': 'display_data'}], 'source': \"\\nplt.figure(figsize=(8, 6))\\nsns.countplot(data=new_df, x='gender_mapped', hue='gender_mapped', palette='viridis', dodge=False, legend=False)\\nplt.title('Male vs Female Count in Gender Mapped')\\nplt.xlabel('Gender')\\nplt.ylabel('Count')\\nplt.show()\\n\"}, {'cell_type': 'markdown', 'metadata': {}, 'source': '<small>\\n\\nThis plot gives a clear visual comparison of how many male and female entries are present in the dataset after the gender mapping process.\\nThe resulting plot allows for an easy comparison of the number of male versus female entries in the dataset, making it visually straightforward to assess gender distribution.</small>'}, {'cell_type': 'markdown', 'metadata': {}, 'source': '2.3 Distribution of Members Across Different Portfolio Types'}, {'cell_type': 'code', 'execution_count': 98, 'metadata': {}, 'outputs': [{'data': {'image/png': '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', 'text/plain': '<Figure size 720x432 with 1 Axes>'}, 'metadata': {'needs_background': 'light'}, 'output_type': 'display_data'}], 'source': \"plt.figure(figsize=(10, 6))\\nsns.countplot(data=new_df, x='gender_mapped', hue='portfolio_map', palette='viridis')\\nplt.title('Gender vs Portfolio Map')\\nplt.xlabel('Gender')\\nplt.ylabel('Count')\\nplt.legend(title='Portfolio Map')\\nplt.show()\"}, {'cell_type': 'markdown', 'metadata': {}, 'source': '<small>\\n\\nThis plot provides a clear visual comparison of how genders are distributed across different portfolio categories, helping to understand the intersection of gender and portfolio preferences. It allows you to see if certain portfolio types are more favored by one gender over the other or if the distribution is relatively balanced.</small>'}, {'cell_type': 'markdown', 'metadata': {}, 'source': '2.4 Distribution of Members age groups'}, {'cell_type': 'code', 'execution_count': 102, 'metadata': {}, 'outputs': [{'data': {'image/png': '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', 'text/plain': '<Figure size 720x720 with 1 Axes>'}, 'metadata': {}, 'output_type': 'display_data'}], 'source': \"age_bins = [0, 18, 30, 45, 60, 100]\\nage_labels = ['0-18', '19-30', '31-45', '46-60', '60+']\\nnew_df['age_group'] = pd.cut(new_df['member_age'], bins=age_bins, labels=age_labels)\\nage_counts = new_df['age_group'].value_counts().sort_index()\\nplt.figure(figsize=(10, 10))\\nplt.pie(age_counts, labels=age_counts.index, autopct='%1.1f%%', startangle=140, colors=sns.color_palette('viridis'))\\nplt.title('Members Age Groups Distribution')\\nplt.show()\"}, {'cell_type': 'markdown', 'metadata': {}, 'source': '<small>\\n\\nEach segment of the pie chart represents one of these age groups.\\nThe size of each segment corresponds to the percentage of members that fall into each age group.\\nThe color palette viridis provides visually distinguishable colors for each segment.\\nThe autopct option displays the percentage of total members in each age group directly on the chart, making it easy to compare the distribution across groups.\\nThis pie chart provides a clear visual of the age distribution among the members, helping to identify which age groups are the most and least represented in the dataset.</small>'}, {'cell_type': 'markdown', 'metadata': {}, 'source': '2.5 Overview of top 10 towns in the dataset'}, {'cell_type': 'code', 'execution_count': None, 'metadata': {}, 'outputs': [{'ename': 'NameError', 'evalue': \"name 'top_10_towns' is not defined\", 'output_type': 'error', 'traceback': ['\\x1b[1;31m---------------------------------------------------------------------------\\x1b[0m', '\\x1b[1;31mNameError\\x1b[0m                                 Traceback (most recent call last)', \"\\x1b[1;32m<ipython-input-103-1ce9955fef3d>\\x1b[0m in \\x1b[0;36m<module>\\x1b[1;34m\\x1b[0m\\n\\x1b[0;32m      1\\x1b[0m \\x1b[0mplt\\x1b[0m\\x1b[1;33m.\\x1b[0m\\x1b[0mfigure\\x1b[0m\\x1b[1;33m(\\x1b[0m\\x1b[0mfigsize\\x1b[0m\\x1b[1;33m=\\x1b[0m\\x1b[1;33m(\\x1b[0m\\x1b[1;36m10\\x1b[0m\\x1b[1;33m,\\x1b[0m \\x1b[1;36m6\\x1b[0m\\x1b[1;33m)\\x1b[0m\\x1b[1;33m)\\x1b[0m\\x1b[1;33m\\x1b[0m\\x1b[1;33m\\x1b[0m\\x1b[0m\\n\\x1b[1;32m----> 2\\x1b[1;33m \\x1b[0msns\\x1b[0m\\x1b[1;33m.\\x1b[0m\\x1b[0mbarplot\\x1b[0m\\x1b[1;33m(\\x1b[0m\\x1b[0mx\\x1b[0m\\x1b[1;33m=\\x1b[0m\\x1b[0mtop_10_towns\\x1b[0m\\x1b[1;33m.\\x1b[0m\\x1b[0mvalues\\x1b[0m\\x1b[1;33m,\\x1b[0m \\x1b[0my\\x1b[0m\\x1b[1;33m=\\x1b[0m\\x1b[0mtop_10_towns\\x1b[0m\\x1b[1;33m.\\x1b[0m\\x1b[0mindex\\x1b[0m\\x1b[1;33m,\\x1b[0m \\x1b[0mpalette\\x1b[0m\\x1b[1;33m=\\x1b[0m\\x1b[1;34m'viridis'\\x1b[0m\\x1b[1;33m,\\x1b[0m \\x1b[0mhue\\x1b[0m\\x1b[1;33m=\\x1b[0m\\x1b[0mtop_10_towns\\x1b[0m\\x1b[1;33m.\\x1b[0m\\x1b[0mindex\\x1b[0m\\x1b[1;33m,\\x1b[0m \\x1b[0mdodge\\x1b[0m\\x1b[1;33m=\\x1b[0m\\x1b[1;32mFalse\\x1b[0m\\x1b[1;33m,\\x1b[0m \\x1b[0mlegend\\x1b[0m\\x1b[1;33m=\\x1b[0m\\x1b[1;32mFalse\\x1b[0m\\x1b[1;33m)\\x1b[0m\\x1b[1;33m\\x1b[0m\\x1b[1;33m\\x1b[0m\\x1b[0m\\n\\x1b[0m\\x1b[0;32m      3\\x1b[0m \\x1b[0mplt\\x1b[0m\\x1b[1;33m.\\x1b[0m\\x1b[0mtitle\\x1b[0m\\x1b[1;33m(\\x1b[0m\\x1b[1;34m'Top 10 Towns'\\x1b[0m\\x1b[1;33m)\\x1b[0m\\x1b[1;33m\\x1b[0m\\x1b[1;33m\\x1b[0m\\x1b[0m\\n\\x1b[0;32m      4\\x1b[0m \\x1b[0mplt\\x1b[0m\\x1b[1;33m.\\x1b[0m\\x1b[0mxlabel\\x1b[0m\\x1b[1;33m(\\x1b[0m\\x1b[1;34m'Count'\\x1b[0m\\x1b[1;33m)\\x1b[0m\\x1b[1;33m\\x1b[0m\\x1b[1;33m\\x1b[0m\\x1b[0m\\n\\x1b[0;32m      5\\x1b[0m \\x1b[0mplt\\x1b[0m\\x1b[1;33m.\\x1b[0m\\x1b[0mylabel\\x1b[0m\\x1b[1;33m(\\x1b[0m\\x1b[1;34m'Town'\\x1b[0m\\x1b[1;33m)\\x1b[0m\\x1b[1;33m\\x1b[0m\\x1b[1;33m\\x1b[0m\\x1b[0m\\n\", \"\\x1b[1;31mNameError\\x1b[0m: name 'top_10_towns' is not defined\"]}, {'data': {'text/plain': '<Figure size 720x432 with 0 Axes>'}, 'metadata': {}, 'output_type': 'display_data'}], 'source': \"top_10_towns = new_df['town'].value_counts().head(10)\\nplt.figure(figsize=(10, 6))\\nsns.barplot(x=top_10_towns.values, y=top_10_towns.index, palette='viridis', hue=top_10_towns.index, dodge=False, legend=False)\\nplt.title('Top 10 Towns')\\nplt.xlabel('Count')\\nplt.ylabel('Town')\\nplt.show()\\n\"}, {'cell_type': 'markdown', 'metadata': {}, 'source': 'overview of the most common towns in the dataset, highlighting their relative frequencies.'}, {'cell_type': 'markdown', 'metadata': {}, 'source': '## 3. MODELING'}, {'cell_type': 'code', 'execution_count': 104, 'metadata': {}, 'outputs': [{'name': 'stdout', 'output_type': 'stream', 'text': \"<class 'pandas.core.frame.DataFrame'>\\nInt64Index: 125888 entries, 0 to 7532842\\nData columns (total 8 columns):\\n #   Column           Non-Null Count   Dtype   \\n---  ------           --------------   -----   \\n 0   member_no        125888 non-null  int64   \\n 1   town             125888 non-null  object  \\n 2   relationship     125888 non-null  object  \\n 3   gender_mapped    125888 non-null  object  \\n 4   member_age       125888 non-null  int64   \\n 5   beneficiery_age  125888 non-null  float64 \\n 6   portfolio_map    125888 non-null  object  \\n 7   age_group        125808 non-null  category\\ndtypes: category(1), float64(1), int64(2), object(4)\\nmemory usage: 12.8+ MB\\n\"}], 'source': '#inspect the new_df\\nnew_df.info()'}, {'cell_type': 'code', 'execution_count': 105, 'metadata': {}, 'outputs': [{'data': {'text/html': '<div>\\n<style scoped>\\n    .dataframe tbody tr th:only-of-type {\\n        vertical-align: middle;\\n    }\\n\\n    .dataframe tbody tr th {\\n        vertical-align: top;\\n    }\\n\\n    .dataframe thead th {\\n        text-align: right;\\n    }\\n</style>\\n<table border=\"1\" class=\"dataframe\">\\n  <thead>\\n    <tr style=\"text-align: right;\">\\n      <th></th>\\n      <th>member_no</th>\\n      <th>town</th>\\n      <th>relationship</th>\\n      <th>gender_mapped</th>\\n      <th>member_age</th>\\n      <th>beneficiery_age</th>\\n      <th>portfolio_map</th>\\n      <th>age_group</th>\\n    </tr>\\n  </thead>\\n  <tbody>\\n    <tr>\\n      <th>0</th>\\n      <td>99996</td>\\n      <td>NAIROBI</td>\\n      <td>partner</td>\\n      <td>Female</td>\\n      <td>26</td>\\n      <td>26.0</td>\\n      <td>Money Market</td>\\n      <td>19-30</td>\\n    </tr>\\n    <tr>\\n      <th>14</th>\\n      <td>99996</td>\\n      <td>NAIROBI</td>\\n      <td>sibling</td>\\n      <td>Female</td>\\n      <td>26</td>\\n      <td>23.0</td>\\n      <td>Money Market</td>\\n      <td>19-30</td>\\n    </tr>\\n    <tr>\\n      <th>28</th>\\n      <td>99994</td>\\n      <td>Unknown</td>\\n      <td>partner</td>\\n      <td>Female</td>\\n      <td>58</td>\\n      <td>62.0</td>\\n      <td>Money Market</td>\\n      <td>46-60</td>\\n    </tr>\\n    <tr>\\n      <th>40</th>\\n      <td>99993</td>\\n      <td>NAIROBI</td>\\n      <td>partner</td>\\n      <td>Female</td>\\n      <td>50</td>\\n      <td>54.0</td>\\n      <td>Money Market</td>\\n      <td>46-60</td>\\n    </tr>\\n    <tr>\\n      <th>70</th>\\n      <td>99993</td>\\n      <td>NAIROBI</td>\\n      <td>child</td>\\n      <td>Female</td>\\n      <td>50</td>\\n      <td>30.0</td>\\n      <td>Money Market</td>\\n      <td>46-60</td>\\n    </tr>\\n  </tbody>\\n</table>\\n</div>', 'text/plain': '    member_no     town relationship gender_mapped  member_age  \\\\\\n0       99996  NAIROBI      partner        Female          26   \\n14      99996  NAIROBI      sibling        Female          26   \\n28      99994  Unknown      partner        Female          58   \\n40      99993  NAIROBI      partner        Female          50   \\n70      99993  NAIROBI        child        Female          50   \\n\\n    beneficiery_age portfolio_map age_group  \\n0              26.0  Money Market     19-30  \\n14             23.0  Money Market     19-30  \\n28             62.0  Money Market     46-60  \\n40             54.0  Money Market     46-60  \\n70             30.0  Money Market     46-60  '}, 'execution_count': 105, 'metadata': {}, 'output_type': 'execute_result'}], 'source': '#check the first entries in the dataframe\\nnew_df.head()'}, {'cell_type': 'code', 'execution_count': 106, 'metadata': {}, 'outputs': [{'name': 'stderr', 'output_type': 'stream', 'text': \"<ipython-input-106-c464198fbbef>:5: SettingWithCopyWarning: \\nA value is trying to be set on a copy of a slice from a DataFrame.\\nTry using .loc[row_indexer,col_indexer] = value instead\\n\\nSee the caveats in the documentation: https://pandas.pydata.org/pandas-docs/stable/user_guide/indexing.html#returning-a-view-versus-a-copy\\n  X['features'] = X.astype(str).sum(axis=1)\\n\"}], 'source': \"\\n# Create a feature matrix combining the relevant columns\\nX = new_df[['member_age', 'beneficiery_age', 'age_group', 'gender_mapped']]\\n\\n# Convert the feature columns to a single string for each row\\nX['features'] = X.astype(str).sum(axis=1)\\n\\n# Create a TF-IDF matrix from the features\\ntfidf = TfidfVectorizer(max_features=1000)\\nX_tfidf = tfidf.fit_transform(X['features'])\\n\\n# Split the data into training and test sets\\nX_train, X_test, y_train, y_test = train_test_split(X_tfidf, new_df['portfolio_map'], test_size=0.2, random_state=42)\\n\\n\\n\"}, {'cell_type': 'markdown', 'metadata': {}, 'source': ' 3.1 K-Nearest Neighbors with Euclidean Distance'}, {'cell_type': 'code', 'execution_count': 107, 'metadata': {}, 'outputs': [{'data': {'text/plain': \"NearestNeighbors(algorithm='brute', metric='cosine')\"}, 'execution_count': 107, 'metadata': {}, 'output_type': 'execute_result'}], 'source': \"# Train the Nearest Neighbors model\\nmodel = NearestNeighbors(metric='cosine', algorithm='brute')\\nmodel.fit(X_train)\\n\\n\"}, {'cell_type': 'code', 'execution_count': 108, 'metadata': {}, 'outputs': [], 'source': \"def get_recommendations(member_features, n=5):\\n    # Get distances and indices of the nearest neighbors\\n    distances, indices = model.kneighbors(member_features, n_neighbors=n+1)\\n    \\n    # Retrieve the original portfolio information from `new_df` using indices\\n    # Exclude the first column of `indices` since it's the item itself\\n    recommended_portfolios = new_df.iloc[indices[0, 1:]]['portfolio_map'].tolist()\\n    \\n    return recommended_portfolios\"}, {'cell_type': 'code', 'execution_count': 109, 'metadata': {}, 'outputs': [{'name': 'stdout', 'output_type': 'stream', 'text': 'Accuracy: 0.79\\n'}], 'source': '\\n# Make predictions on the test set\\ny_pred = []\\nfor i in range(X_test.shape[0]):\\n    member = X_test[i].toarray()\\n    recommendations = get_recommendations(member.reshape(1, -1), n=1)\\n    y_pred.append(recommendations[0])  # Get the top recommendation\\n\\n# Calculate accuracy by comparing the predicted product to the actual product\\naccuracy = accuracy_score(y_test, y_pred)\\n\\nprint(f\"Accuracy: {accuracy:.2f}\")\\n'}, {'cell_type': 'markdown', 'metadata': {}, 'source': '3.2.Random Forest Classifier'}, {'cell_type': 'code', 'execution_count': 110, 'metadata': {}, 'outputs': [{'name': 'stdout', 'output_type': 'stream', 'text': 'Accuracy with Random Forest: 0.95\\n'}], 'source': 'from sklearn.ensemble import RandomForestClassifier\\nfrom sklearn.metrics import accuracy_score\\n\\n# Train the Random Forest model\\nrf_model = RandomForestClassifier(n_estimators=100, random_state=42)\\nrf_model.fit(X_train, y_train)\\n\\n# Make predictions on the test set\\ny_pred_rf = rf_model.predict(X_test)\\n\\n# Calculate accuracy\\naccuracy_rf = accuracy_score(y_test, y_pred_rf)\\nprint(f\"Accuracy with Random Forest: {accuracy_rf:.2f}\")'}, {'cell_type': 'markdown', 'metadata': {}, 'source': '3.4  XGBoost Classifier\\n'}, {'cell_type': 'code', 'execution_count': 111, 'metadata': {}, 'outputs': [{'name': 'stdout', 'output_type': 'stream', 'text': 'Accuracy with XGBoost: 0.95\\n'}], 'source': 'import xgboost as xgb\\nfrom sklearn.metrics import accuracy_score\\n\\n# Train the XGBoost model\\nxgb_model = xgb.XGBClassifier(random_state=42)\\nxgb_model.fit(X_train, y_train)\\n\\n# Make predictions on the test set\\ny_pred_xgb = xgb_model.predict(X_test)\\n\\n# Calculate accuracy\\naccuracy_xgb = accuracy_score(y_test, y_pred_xgb)\\nprint(f\"Accuracy with XGBoost: {accuracy_xgb:.2f}\")\\n'}, {'cell_type': 'markdown', 'metadata': {}, 'source': '3.5 Gradient Boosting Classifier'}, {'cell_type': 'code', 'execution_count': 112, 'metadata': {}, 'outputs': [{'name': 'stdout', 'output_type': 'stream', 'text': 'Accuracy with Gradient Boosting: 0.95\\n'}], 'source': 'from sklearn.ensemble import GradientBoostingClassifier\\nfrom sklearn.metrics import accuracy_score\\n\\n# Train the Gradient Boosting model\\ngb_model = GradientBoostingClassifier(n_estimators=100, random_state=42)\\ngb_model.fit(X_train, y_train)\\n\\n# Make predictions on the test set\\ny_pred_gb = gb_model.predict(X_test)\\n\\n# Calculate accuracy\\naccuracy_gb = accuracy_score(y_test, y_pred_gb)\\nprint(f\"Accuracy with Gradient Boosting: {accuracy_gb:.2f}\")\\n'}, {'cell_type': 'markdown', 'metadata': {}, 'source': '## 4.RULE BASED ADDED'}, {'cell_type': 'markdown', 'metadata': {}, 'source': '4.1  Generating Product Recommendations Based on Member Features and Behavior'}, {'cell_type': 'code', 'execution_count': 113, 'metadata': {}, 'outputs': [], 'source': 'def get_recommendations(member_features, member_no, n=5):\\n    # Fetch member\\'s details\\n    member_row = new_df.loc[new_df[\\'member_no\\'] == member_no].iloc[0]\\n    member_beneficiary_age = member_row[\\'beneficiery_age\\']\\n    member_age_group = member_row[\\'age_group\\']\\n    member_town = member_row[\\'town\\']\\n    member_gender = member_row[\\'gender_mapped\\']\\n    member_current_products = set(new_df.loc[new_df[\\'member_no\\'] == member_no, \\'portfolio_map\\'].values)\\n    \\n    recommended_products = []\\n\\n    # Rule 1: Recommend based on beneficiary age (Student and Junior Accounts)\\n    #if 18 <= member_beneficiary_age <= 25:\\n    if  member_beneficiary_age >= 18 and  member_beneficiary_age <= 25:\\n        recommended_products.append(\"Student Account\")\\n    elif member_beneficiary_age < 18:\\n        recommended_products.append(\"Junior Account\")\\n\\n    # Rule 2: Recommend popular products within the same age group\\n    age_group_products = (\\n        new_df[new_df[\\'age_group\\'] == member_age_group]\\n        .portfolio_map.value_counts()\\n        .index\\n        .tolist()\\n    )\\n    for product in age_group_products:\\n        if product not in member_current_products and product not in recommended_products:\\n            recommended_products.append(product)\\n        if len(recommended_products) >= n:\\n            return recommended_products[:n]\\n\\n    # Rule 3: Recommend popular products in the same town\\n    town_products = (\\n        new_df[new_df[\\'town\\'] == member_town]\\n        .portfolio_map.value_counts()\\n        .index\\n        .tolist()\\n    )\\n    for product in town_products:\\n        if product not in member_current_products and product not in recommended_products:\\n            recommended_products.append(product)\\n        if len(recommended_products) >= n:\\n            return recommended_products[:n]\\n        \\n    gender_products = (\\n        new_df[new_df[\\'gender_mapped\\']== member_gender]\\n        .portfolio_map.value_counts()\\n        .index\\n        .tolist()\\n    )\\n    for product in gender_products:\\n        if product not in member_current_products and product not in recommended_products:\\n            recommended_products.append(product)\\n        if len(recommended_products) >= n:\\n            return recommended_products[:n]\\n\\n    # Collaborative Filtering for Additional Recommendations\\n    distances, indices = model.kneighbors(member_features, n_neighbors=n + len(recommended_products))\\n    for index in indices[0]:\\n        product = new_df.iloc[index][\\'portfolio_map\\']\\n        if product not in member_current_products and product not in recommended_products:\\n            recommended_products.append(product)\\n        if len(recommended_products) >= n:\\n            break\\n\\n    return recommended_products[:n]\\n'}, {'cell_type': 'code', 'execution_count': 114, 'metadata': {}, 'outputs': [{'data': {'text/plain': \"Index(['member_no', 'town', 'relationship', 'gender_mapped', 'member_age',\\n       'beneficiery_age', 'portfolio_map', 'age_group'],\\n      dtype='object')\"}, 'execution_count': 114, 'metadata': {}, 'output_type': 'execute_result'}], 'source': 'new_df.columns'}, {'cell_type': 'markdown', 'metadata': {}, 'source': '4.1.1 Testing Product Recommendations for a Sample Member'}, {'cell_type': 'code', 'execution_count': 115, 'metadata': {}, 'outputs': [{'name': 'stdout', 'output_type': 'stream', 'text': \"Recommendations for sample member profile:\\n['Fixed Income', 'Equity Fund', 'Dollar Fund']\\n\"}], 'source': '# Test the recommendations for a sample member\\nsample_index = 0  # Adjust the sample index for testing\\nsample_member = X_test[sample_index].toarray()\\nsample_member_id = new_df.iloc[sample_index][\\'member_no\\']  # Ensure \\'member_id\\' is in new_df\\n\\n# Get recommendations for the sample member\\nrecommendations = get_recommendations(sample_member.reshape(1, -1), sample_member_id, n=3)\\n\\n# Display the results\\nprint(\"Recommendations for sample member profile:\")\\nprint(recommendations)'}, {'cell_type': 'markdown', 'metadata': {}, 'source': '4.1.2 Evaluating Product Recommendations for a Specific Member'}, {'cell_type': 'code', 'execution_count': 116, 'metadata': {}, 'outputs': [{'name': 'stdout', 'output_type': 'stream', 'text': \"Recommendations for sample member profile:\\n['Equity Fund', 'Dollar Fund', 'Fixed Income']\\n\"}], 'source': '# Test the recommendations for a sample member\\nsample_index = 20\\nsample_member = X_test[sample_index].toarray()\\nsample_member_id = new_df.iloc[sample_index][\\'member_no\\']  \\n\\n# Get recommendations for the sample member\\nrecommendations = get_recommendations(sample_member.reshape(1, -1), sample_member_id, n=3)\\n\\n# Display the results\\nprint(\"Recommendations for sample member profile:\")\\nprint(recommendations)'}, {'cell_type': 'markdown', 'metadata': {}, 'source': '4.1.3 Function to Provide Product Recommendations with Personalized Messages'}, {'cell_type': 'code', 'execution_count': 117, 'metadata': {}, 'outputs': [], 'source': 'def get_recommendations_with_messages(member_features, member_no, n=5):\\n    # Fetch member\\'s details\\n    member_row = new_df.loc[new_df[\\'member_no\\'] == member_no].iloc[0]\\n    member_beneficiary_age = member_row[\\'beneficiery_age\\']\\n    member_age_group = member_row[\\'age_group\\']\\n    member_town = member_row[\\'town\\']\\n    member_gender = member_row[\\'gender_mapped\\']\\n    member_current_products = set(new_df.loc[new_df[\\'member_no\\'] == member_no, \\'portfolio_map\\'].values)\\n    \\n    recommended_products = []\\n    messages = []\\n\\n    # Rule 1: Recommend based on beneficiary age (Student and Junior Accounts)\\n    age_recommendations = []\\n    if  member_beneficiary_age >= 18 and  member_beneficiary_age <= 25:\\n        age_recommendations.append(\"Student Account\")\\n        messages.append(\\n            f\"Planning for your child\\'s future? Our Student Account is perfect for young adults aged 18-25. \"\\n            f\"Start securing their educational journey today!\"\\n        )\\n    elif  member_beneficiary_age < 18:\\n        age_recommendations.append(\"Junior Account\")\\n        messages.append(\\n            f\"Give your child a head start with our Junior Account! It\\'s specially designed for children under 18 \"\\n            f\"to help them develop good financial habits early.\"\\n        )\\n    recommended_products.extend(age_recommendations)\\n\\n    # Rule 2: Recommend popular products within the same age group\\n    age_group_recommendations = []\\n    age_group_products = (\\n        new_df[new_df[\\'age_group\\'] == member_age_group]\\n        .portfolio_map.value_counts()\\n        .index\\n        .tolist()\\n    )\\n    for product in age_group_products:\\n        if product not in member_current_products and product not in recommended_products:\\n            age_group_recommendations.append(product)\\n        if len(recommended_products) + len(age_group_recommendations) >= n:\\n            break\\n    \\n    if age_group_recommendations:\\n        messages.append(\\n            f\"Members in your age group are enjoying these popular products: {\\', \\'.join(age_group_recommendations)}. \"\\n            f\"Join them in making smart financial choices!\"\\n        )\\n    recommended_products.extend(age_group_recommendations)\\n\\n    # Rule 3: Recommend popular products in the same town\\n    location_recommendations = []\\n    town_products = (\\n        new_df[new_df[\\'town\\'] == member_town]\\n        .portfolio_map.value_counts()\\n        .index\\n        .tolist()\\n    )\\n    for product in town_products:\\n        if product not in member_current_products and product not in recommended_products:\\n            location_recommendations.append(product)\\n        if len(recommended_products) + len(location_recommendations) >= n:\\n            break\\n    \\n    if location_recommendations:\\n        messages.append(\\n            f\"Trending in {member_town}! Your neighbors are choosing {\\', \\'.join(location_recommendations)}. \"\\n            f\"Discover why these products are popular in your community!\"\\n        )\\n    recommended_products.extend(location_recommendations)\\n\\n    # Rule 4: Gender-based recommendations\\n    gender_recommendations = []\\n    gender_products = (\\n        new_df[new_df[\\'gender_mapped\\'] == member_gender]\\n        .portfolio_map.value_counts()\\n        .index\\n        .tolist()\\n    )\\n    for product in gender_products:\\n        if product not in member_current_products and product not in recommended_products:\\n            gender_recommendations.append(product)\\n        if len(recommended_products) + len(gender_recommendations) >= n:\\n            break\\n    \\n    if gender_recommendations:\\n        gender_message = (\\n            \"Specially curated for you! \" if member_gender == \\'Female\\' else\\n            \"Join other members like you! \"\\n        )\\n        messages.append(\\n            f\"{gender_message}Discover {\\', \\'.join(gender_recommendations)} - \"\\n            f\"products that match your financial goals.\"\\n        )\\n    recommended_products.extend(gender_recommendations)\\n    # Collaborative Filtering for Additional Recommendations\\n    if len(recommended_products) < n:\\n        collab_recommendations = []\\n        distances, indices = model.kneighbors(member_features, n_neighbors=n + len(recommended_products))\\n        for index in indices[0]:\\n            product = new_df.iloc[index][\\'portfolio_map\\']\\n            if product not in member_current_products and product not in recommended_products:\\n                collab_recommendations.append(product)\\n            if len(recommended_products) + len(collab_recommendations) >= n:\\n                break\\n        \\n        if collab_recommendations:\\n            messages.append(\\n                f\"Based on your profile, we think you\\'ll love {\\', \\'.join(collab_recommendations)}. \"\\n                f\"These products align perfectly with your financial journey!\"\\n            )\\n        recommended_products.extend(collab_recommendations)\\n\\n    # Final personalized message\\n    if len(recommended_products) > 0:\\n        messages.append(\\n            f\"💡 Pro tip: Adding {\\', \\'.join(recommended_products[:n])} to your portfolio \"\\n            f\"could help you achieve your financial goals faster!\"\\n        )\\n\\n    return recommended_products[:n], messages'}, {'cell_type': 'code', 'execution_count': 118, 'metadata': {}, 'outputs': [{'name': 'stdout', 'output_type': 'stream', 'text': '\\n🏦 Member Profile Analysis\\n--------------------------------------------------\\nMember ID: 96336\\nAge Group: 31-45\\nTown: Unknown\\nGender: Female\\nBeneficiary Age: 64.0\\n\\n📊 Recommended Products\\n--------------------------------------------------\\n1. Equity Fund\\n2. Dollar Fund\\n3. Fixed Income\\n\\n💌 Personalized Messages\\n--------------------------------------------------\\nMessage 1:\\nMembers in your age group are enjoying these popular products: Equity Fund, Dollar Fund, Fixed Income. Join them in making smart financial choices!\\n\\nMessage 2:\\n💡 Pro tip: Adding Equity Fund, Dollar Fund, Fixed Income to your portfolio could help you achieve your financial goals faster!\\n\\n\\n📝 Current Portfolio\\n--------------------------------------------------\\n• Money Market\\n'}], 'source': '# Test the recommendations for a sample member\\nsample_index = 3464  # Adjust the sample index for testing\\nsample_member = X_test[sample_index].toarray()\\nsample_member_id = new_df.iloc[sample_index][\\'member_no\\']  # Ensure \\'member_id\\' is in new_df\\n\\n# Get recommendations and messages for the sample member\\nrecommendations, messages = get_recommendations_with_messages(sample_member.reshape(1, -1), sample_member_id, n=3)\\n\\n# Display the results\\nprint(\"\\\\n🏦 Member Profile Analysis\")\\nprint(\"-\" * 50)\\nprint(f\"Member ID: {sample_member_id}\")\\nmember_details = new_df.loc[new_df[\\'member_no\\'] == sample_member_id].iloc[0]\\nprint(f\"Age Group: {member_details[\\'age_group\\']}\")\\nprint(f\"Town: {member_details[\\'town\\']}\")\\nprint(f\"Gender: {member_details[\\'gender_mapped\\']}\")\\nif not pd.isna(member_details[\\'beneficiery_age\\']):\\n    print(f\"Beneficiary Age: {member_details[\\'beneficiery_age\\']}\")\\n\\nprint(\"\\\\n📊 Recommended Products\")\\nprint(\"-\" * 50)\\nfor i, product in enumerate(recommendations, 1):\\n    print(f\"{i}. {product}\")\\n\\nprint(\"\\\\n💌 Personalized Messages\")\\nprint(\"-\" * 50)\\nfor i, message in enumerate(messages, 1):\\n    print(f\"Message {i}:\")\\n    print(f\"{message}\")\\n    print()\\n\\n# Optional: Display current products for comparison\\ncurrent_products = set(new_df.loc[new_df[\\'member_no\\'] == sample_member_id, \\'portfolio_map\\'].values)\\nif current_products:\\n    print(\"\\\\n📝 Current Portfolio\")\\n    print(\"-\" * 50)\\n    for product in current_products:\\n        print(f\"• {product}\")'}, {'cell_type': 'code', 'execution_count': 124, 'metadata': {}, 'outputs': [{'name': 'stdout', 'output_type': 'stream', 'text': \"\\n🏦 Member Profile Analysis\\n--------------------------------------------------\\nMember ID: 99988\\nAge Group: 31-45\\nTown: NAIROBI\\nGender: Female\\nBeneficiary Age: 3.0\\n\\n📊 Recommended Products\\n--------------------------------------------------\\n1. Junior Account\\n2. Equity Fund\\n3. Dollar Fund\\n\\n💌 Personalized Messages\\n--------------------------------------------------\\nMessage 1:\\nGive your child a head start with our Junior Account! It's specially designed for children under 18 to help them develop good financial habits early.\\n\\nMessage 2:\\nMembers in your age group are enjoying these popular products: Equity Fund, Dollar Fund. Join them in making smart financial choices!\\n\\nMessage 3:\\n💡 Pro tip: Adding Junior Account, Equity Fund, Dollar Fund to your portfolio could help you achieve your financial goals faster!\\n\\n\\n📝 Current Portfolio\\n--------------------------------------------------\\n• Money Market\\n\"}], 'source': '# Test the recommendations for a sample member\\nsample_index = 9  # Adjust the sample index for testing\\nsample_member = X_test[sample_index].toarray()\\nsample_member_id = new_df.iloc[sample_index][\\'member_no\\']  # Ensure \\'member_id\\' is in new_df\\n\\n# Get recommendations and messages for the sample member\\nrecommendations, messages = get_recommendations_with_messages(sample_member.reshape(1, -1), sample_member_id, n=3)\\n\\n# Display the results\\nprint(\"\\\\n🏦 Member Profile Analysis\")\\nprint(\"-\" * 50)\\nprint(f\"Member ID: {sample_member_id}\")\\nmember_details = new_df.loc[new_df[\\'member_no\\'] == sample_member_id].iloc[0]\\nprint(f\"Age Group: {member_details[\\'age_group\\']}\")\\nprint(f\"Town: {member_details[\\'town\\']}\")\\nprint(f\"Gender: {member_details[\\'gender_mapped\\']}\")\\nif not pd.isna(member_details[\\'beneficiery_age\\']):\\n    print(f\"Beneficiary Age: {member_details[\\'beneficiery_age\\']}\")\\n\\nprint(\"\\\\n📊 Recommended Products\")\\nprint(\"-\" * 50)\\nfor i, product in enumerate(recommendations, 1):\\n    print(f\"{i}. {product}\")\\n\\nprint(\"\\\\n💌 Personalized Messages\")\\nprint(\"-\" * 50)\\nfor i, message in enumerate(messages, 1):\\n    print(f\"Message {i}:\")\\n    print(f\"{message}\")\\n    print()\\n\\n# Optional: Display current products for comparison\\ncurrent_products = set(new_df.loc[new_df[\\'member_no\\'] == sample_member_id, \\'portfolio_map\\'].values)\\nif current_products:\\n    print(\"\\\\n📝 Current Portfolio\")\\n    print(\"-\" * 50)\\n    for product in current_products:\\n        print(f\"• {product}\")'}, {'cell_type': 'code', 'execution_count': 120, 'metadata': {}, 'outputs': [{'data': {'text/html': '<div>\\n<style scoped>\\n    .dataframe tbody tr th:only-of-type {\\n        vertical-align: middle;\\n    }\\n\\n    .dataframe tbody tr th {\\n        vertical-align: top;\\n    }\\n\\n    .dataframe thead th {\\n        text-align: right;\\n    }\\n</style>\\n<table border=\"1\" class=\"dataframe\">\\n  <thead>\\n    <tr style=\"text-align: right;\">\\n      <th></th>\\n      <th>member_no</th>\\n      <th>town</th>\\n      <th>relationship</th>\\n      <th>gender_mapped</th>\\n      <th>member_age</th>\\n      <th>beneficiery_age</th>\\n      <th>portfolio_map</th>\\n      <th>age_group</th>\\n    </tr>\\n  </thead>\\n  <tbody>\\n    <tr>\\n      <th>0</th>\\n      <td>99996</td>\\n      <td>NAIROBI</td>\\n      <td>partner</td>\\n      <td>Female</td>\\n      <td>26</td>\\n      <td>26.0</td>\\n      <td>Money Market</td>\\n      <td>19-30</td>\\n    </tr>\\n    <tr>\\n      <th>14</th>\\n      <td>99996</td>\\n      <td>NAIROBI</td>\\n      <td>sibling</td>\\n      <td>Female</td>\\n      <td>26</td>\\n      <td>23.0</td>\\n      <td>Money Market</td>\\n      <td>19-30</td>\\n    </tr>\\n    <tr>\\n      <th>28</th>\\n      <td>99994</td>\\n      <td>Unknown</td>\\n      <td>partner</td>\\n      <td>Female</td>\\n      <td>58</td>\\n      <td>62.0</td>\\n      <td>Money Market</td>\\n      <td>46-60</td>\\n    </tr>\\n    <tr>\\n      <th>40</th>\\n      <td>99993</td>\\n      <td>NAIROBI</td>\\n      <td>partner</td>\\n      <td>Female</td>\\n      <td>50</td>\\n      <td>54.0</td>\\n      <td>Money Market</td>\\n      <td>46-60</td>\\n    </tr>\\n    <tr>\\n      <th>70</th>\\n      <td>99993</td>\\n      <td>NAIROBI</td>\\n      <td>child</td>\\n      <td>Female</td>\\n      <td>50</td>\\n      <td>30.0</td>\\n      <td>Money Market</td>\\n      <td>46-60</td>\\n    </tr>\\n  </tbody>\\n</table>\\n</div>', 'text/plain': '    member_no     town relationship gender_mapped  member_age  \\\\\\n0       99996  NAIROBI      partner        Female          26   \\n14      99996  NAIROBI      sibling        Female          26   \\n28      99994  Unknown      partner        Female          58   \\n40      99993  NAIROBI      partner        Female          50   \\n70      99993  NAIROBI        child        Female          50   \\n\\n    beneficiery_age portfolio_map age_group  \\n0              26.0  Money Market     19-30  \\n14             23.0  Money Market     19-30  \\n28             62.0  Money Market     46-60  \\n40             54.0  Money Market     46-60  \\n70             30.0  Money Market     46-60  '}, 'execution_count': 120, 'metadata': {}, 'output_type': 'execute_result'}], 'source': 'new_df.head()'}, {'cell_type': 'markdown', 'metadata': {}, 'source': '## 5. Deployment '}, {'cell_type': 'markdown', 'metadata': {}, 'source': '5.1 Script to Read and Pickle Jupyter Notebook Content'}, {'cell_type': 'code', 'execution_count': None, 'metadata': {}, 'outputs': [{'name': 'stdout', 'output_type': 'stream', 'text': \"Error: The file 'Investment Product Cross Selling Collins.ipynb' was not found. Please ensure the file is in the current directory and that the filename is correct.\\n\"}], 'source': 'import nbformat\\nimport pickle\\n\\n# Define the notebook filename\\nnotebook_filename = \\'gladys.ipynb\\'\\n\\ntry:\\n    # Step 1: Read the notebook content using nbformat with UTF-8 encoding\\n    with open(notebook_filename, \\'r\\', encoding=\\'utf-8\\') as f:\\n        notebook_content = nbformat.read(f, as_version=4)\\n\\n    # Step 2: Pickle the notebook content\\n    with open(\\'Investment_Product_Cross_Selling_notebook.pkl\\', \\'wb\\') as f:\\n        pickle.dump(notebook_content, f)\\n\\n    print(\"Notebook content has been pickled successfully.\")\\n\\nexcept FileNotFoundError:\\n    print(f\"Error: The file \\'{notebook_filename}\\' was not found. Please ensure the file is in the current directory and that the filename is correct.\")'}, {'cell_type': 'markdown', 'metadata': {}, 'source': '5.2 Saving Jupyter Notebook as a Pickle File'}, {'cell_type': 'code', 'execution_count': None, 'metadata': {}, 'outputs': [], 'source': '# #saving the notebook as a pickle file\\n# import nbformat\\n# import pickle\\n\\n# # Define the notebook filename\\n# notebook_filename = \\'Investment Product Cross Selling(1).ipynb\\'\\n\\n# # Read the notebook content using nbformat with UTF-8 encoding\\n# with open(notebook_filename, \\'r\\', encoding=\\'utf-8\\') as f:\\n#     notebook_content = nbformat.read(f, as_version=4)\\n\\n# # Pickle the notebook content\\n# with open(\\'Investment_Product_Cross_Selling_notebook.pkl\\', \\'wb\\') as f:\\n#     pickle.dump(notebook_content, f)\\n\\n# print(\"Notebook content has been pickled successfully.\")\\n'}, {'cell_type': 'code', 'execution_count': 125, 'metadata': {}, 'outputs': [{'ename': 'FileNotFoundError', 'evalue': \"[Errno 2] No such file or directory: 'Investment_Product_Cross_Selling_notebook.pkl'\", 'output_type': 'error', 'traceback': ['\\x1b[1;31m---------------------------------------------------------------------------\\x1b[0m', '\\x1b[1;31mFileNotFoundError\\x1b[0m                         Traceback (most recent call last)', \"\\x1b[1;32m<ipython-input-125-c7b7bac9805e>\\x1b[0m in \\x1b[0;36m<module>\\x1b[1;34m\\x1b[0m\\n\\x1b[0;32m      1\\x1b[0m \\x1b[1;31m#error checking\\x1b[0m\\x1b[1;33m\\x1b[0m\\x1b[1;33m\\x1b[0m\\x1b[1;33m\\x1b[0m\\x1b[0m\\n\\x1b[0;32m      2\\x1b[0m \\x1b[1;31m# Load the pickled notebook content\\x1b[0m\\x1b[1;33m\\x1b[0m\\x1b[1;33m\\x1b[0m\\x1b[1;33m\\x1b[0m\\x1b[0m\\n\\x1b[1;32m----> 3\\x1b[1;33m \\x1b[1;32mwith\\x1b[0m \\x1b[0mopen\\x1b[0m\\x1b[1;33m(\\x1b[0m\\x1b[1;34m'Investment_Product_Cross_Selling_notebook.pkl'\\x1b[0m\\x1b[1;33m,\\x1b[0m \\x1b[1;34m'rb'\\x1b[0m\\x1b[1;33m)\\x1b[0m \\x1b[1;32mas\\x1b[0m \\x1b[0mf\\x1b[0m\\x1b[1;33m:\\x1b[0m\\x1b[1;33m\\x1b[0m\\x1b[1;33m\\x1b[0m\\x1b[0m\\n\\x1b[0m\\x1b[0;32m      4\\x1b[0m     \\x1b[0mloaded_notebook\\x1b[0m \\x1b[1;33m=\\x1b[0m \\x1b[0mpickle\\x1b[0m\\x1b[1;33m.\\x1b[0m\\x1b[0mload\\x1b[0m\\x1b[1;33m(\\x1b[0m\\x1b[0mf\\x1b[0m\\x1b[1;33m)\\x1b[0m\\x1b[1;33m\\x1b[0m\\x1b[1;33m\\x1b[0m\\x1b[0m\\n\\x1b[0;32m      5\\x1b[0m \\x1b[1;33m\\x1b[0m\\x1b[0m\\n\", \"\\x1b[1;31mFileNotFoundError\\x1b[0m: [Errno 2] No such file or directory: 'Investment_Product_Cross_Selling_notebook.pkl'\"]}], 'source': \"#error checking\\n# Load the pickled notebook content\\nwith open('Investment_Product_Cross_Selling_notebook.pkl', 'rb') as f:\\n    loaded_notebook = pickle.load(f)\\n\\n# Check the loaded content\\nprint(loaded_notebook)\\n\"}, {'cell_type': 'markdown', 'metadata': {}, 'source': '5.3 Downloading a File from Google Drive and Loading it into a Pandas DataFrame'}, {'cell_type': 'code', 'execution_count': 126, 'metadata': {}, 'outputs': [], 'source': '# import gdown\\n\\n# file_id = \"1kLQZcXQ1y4AGlgpRGArXoWPvLdzpq7nK\"\\n# url = f\"https://drive.google.com/uc?id={file_id}\"\\n# output = \"single_member.csv\"\\n# gdown.download(url, output, quiet=False)\\n\\n# import pandas as pd\\n# data = pd.read_csv(output)'}, {'cell_type': 'markdown', 'metadata': {}, 'source': '\\n5.4 Saving the Trained Model and TF-IDF Vectorizer'}, {'cell_type': 'code', 'execution_count': 128, 'metadata': {}, 'outputs': [], 'source': \"# 3. Save both the trained model and TF-IDF vectorizer\\nimport pickle\\n\\n# Save the NearestNeighbors model\\nwith open('model.pkl', 'wb') as file:\\n    pickle.dump(model, file)\\n\\n# Save the TF-IDF vectorizer\\nwith open('tfidf.pkl', 'wb') as file:\\n    pickle.dump(tfidf, file)\\n\"}, {'cell_type': 'markdown', 'metadata': {}, 'source': '5.5 Saving the Reference Dataset for Rule-Based Recommendations'}, {'cell_type': 'code', 'execution_count': None, 'metadata': {}, 'outputs': [], 'source': \"# Save the reference dataset for rule-based recommendations\\nnew_df.to_csv('investment_member.csv', index=False)\"}], 'metadata': {'kernelspec': {'display_name': 'learn-env', 'language': 'python', 'name': 'python3'}, 'language_info': {'codemirror_mode': {'name': 'ipython', 'version': 3}, 'file_extension': '.py', 'mimetype': 'text/x-python', 'name': 'python', 'nbconvert_exporter': 'python', 'pygments_lexer': 'ipython3', 'version': '3.8.5'}}, 'nbformat': 4, 'nbformat_minor': 4}\n"
     ]
    }
   ],
   "source": [
    "#error checking\n",
    "# Load the pickled notebook content\n",
    "with open('Investment_Product_Cross_Selling_notebook.pkl', 'rb') as f:\n",
    "    loaded_notebook = pickle.load(f)\n",
    "\n",
    "# Check the loaded content\n",
    "print(loaded_notebook)\n"
   ]
  },
  {
   "cell_type": "markdown",
   "metadata": {},
   "source": [
    "5.3 Downloading a File from Google Drive and Loading it into a Pandas DataFrame"
   ]
  },
  {
   "cell_type": "code",
   "execution_count": 126,
   "metadata": {},
   "outputs": [],
   "source": [
    "# import gdown\n",
    "\n",
    "# file_id = \"1kLQZcXQ1y4AGlgpRGArXoWPvLdzpq7nK\"\n",
    "# url = f\"https://drive.google.com/uc?id={file_id}\"\n",
    "# output = \"single_member.csv\"\n",
    "# gdown.download(url, output, quiet=False)\n",
    "\n",
    "# import pandas as pd\n",
    "# data = pd.read_csv(output)"
   ]
  },
  {
   "cell_type": "markdown",
   "metadata": {},
   "source": [
    "\n",
    "5.4 Saving the Trained Model and TF-IDF Vectorizer"
   ]
  },
  {
   "cell_type": "code",
   "execution_count": 128,
   "metadata": {},
   "outputs": [],
   "source": [
    "# 3. Save both the trained model and TF-IDF vectorizer\n",
    "import pickle\n",
    "\n",
    "# Save the NearestNeighbors model\n",
    "with open('model.pkl', 'wb') as file:\n",
    "    pickle.dump(model, file)\n",
    "\n",
    "# Save the TF-IDF vectorizer\n",
    "with open('tfidf.pkl', 'wb') as file:\n",
    "    pickle.dump(tfidf, file)\n"
   ]
  },
  {
   "cell_type": "markdown",
   "metadata": {},
   "source": [
    "5.5 Saving the Reference Dataset for Rule-Based Recommendations"
   ]
  },
  {
   "cell_type": "code",
   "execution_count": 132,
   "metadata": {},
   "outputs": [],
   "source": [
    "# Save the reference dataset for rule-based recommendations\n",
    "new_df.to_csv('investment_member.csv', index=False)"
   ]
  }
 ],
 "metadata": {
  "kernelspec": {
   "display_name": "learn-env",
   "language": "python",
   "name": "python3"
  },
  "language_info": {
   "codemirror_mode": {
    "name": "ipython",
    "version": 3
   },
   "file_extension": ".py",
   "mimetype": "text/x-python",
   "name": "python",
   "nbconvert_exporter": "python",
   "pygments_lexer": "ipython3",
   "version": "3.8.5"
  }
 },
 "nbformat": 4,
 "nbformat_minor": 4
}
