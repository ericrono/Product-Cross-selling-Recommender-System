{
 "cells": [
  {
   "cell_type": "markdown",
   "metadata": {},
   "source": [
    "# Product Cross Selling Recommender System\n",
    "\n",
    "**Business Problem Statement:**\n",
    "\n",
    "Our financial services company has a diverse portfolio of investment products, yet the vast majority (99%) of our existing customers hold only one product—the Money Market Fund. Despite a broad array of offerings (Balanced Fund, Dollar Fund, Equity Fund, Fixed Income Fund, and Wealth Fund), our product penetration per customer (PPC) remains exceptionally low. This indicates a significant opportunity to cross-sell additional products to our existing customer base, which would increase customer value, loyalty, and the company’s overall profitability.\n",
    "\n",
    "Currently, our customers’ data includes key information that could be leveraged to tailor product recommendations. These data points include:\n",
    "- **Location (town)**\n",
    "- **Gender**\n",
    "- **Customer-relationship or beneficiary information** (as customers may have more than one relationship or beneficiary associated with them)\n",
    "- **Customer age and DOB**\n",
    "- **Beneficiary age and DOB**\n",
    "\n",
    "Our goal is to create a user-friendly, intelligent recommender system that can analyze this existing data to suggest additional, relevant financial products to each customer. This system should be able to identify patterns or trends in customer profiles, uncover customer needs, and map those needs to suitable financial products, increasing our PPC in an efficient, cost-effective manner. \n",
    "\n",
    "**Objectives:**\n",
    "1. **Customer Retention and Loyalty**: By offering personalized recommendations, we aim to build deeper, more personalized relationships with our customers, making them more likely to stay with us long-term.\n",
    "2. **Increased Revenue per Customer**: A successful cross-selling strategy would increase the average number of products per customer, boosting overall portfolio revenue.\n",
    "3. **User-Friendly Experience**: Ensuring a straightforward, accessible interface for customers to explore new financial products, particularly given that our target customers may have limited experience with financial diversification.\n",
    "\n",
    "**Project Success Criteria:**\n",
    "1. Develop a model that accurately predicts the next likely product(s) for each customer based on their profile and behavior.\n",
    "2. Achieve a measurable increase in the PPC rate by the end of the initial deployment phase.\n",
    "3. Design an intuitive interface that enhances the customer journey, with minimal friction, to encourage engagement and adoption."
   ]
  },
  {
   "cell_type": "code",
   "execution_count": 4,
   "metadata": {},
   "outputs": [],
   "source": [
    "import pandas as pd\n",
    "import numpy as np"
   ]
  },
  {
   "cell_type": "code",
   "execution_count": 5,
   "metadata": {},
   "outputs": [
    {
     "data": {
      "text/html": [
       "<div>\n",
       "<style scoped>\n",
       "    .dataframe tbody tr th:only-of-type {\n",
       "        vertical-align: middle;\n",
       "    }\n",
       "\n",
       "    .dataframe tbody tr th {\n",
       "        vertical-align: top;\n",
       "    }\n",
       "\n",
       "    .dataframe thead th {\n",
       "        text-align: right;\n",
       "    }\n",
       "</style>\n",
       "<table border=\"1\" class=\"dataframe\">\n",
       "  <thead>\n",
       "    <tr style=\"text-align: right;\">\n",
       "      <th></th>\n",
       "      <th>member_no</th>\n",
       "      <th>reg_date</th>\n",
       "      <th>dob</th>\n",
       "      <th>hse_no</th>\n",
       "      <th>gender</th>\n",
       "      <th>town</th>\n",
       "      <th>relationship</th>\n",
       "      <th>beneficiery_dob</th>\n",
       "      <th>portfolio</th>\n",
       "    </tr>\n",
       "  </thead>\n",
       "  <tbody>\n",
       "    <tr>\n",
       "      <th>0</th>\n",
       "      <td>99996</td>\n",
       "      <td>2023-10-01 00:00:00.000</td>\n",
       "      <td>1998-04-06 00:00:00</td>\n",
       "      <td>Single Member</td>\n",
       "      <td>Female</td>\n",
       "      <td>NAIROBI</td>\n",
       "      <td>Partner</td>\n",
       "      <td>1998-01-26</td>\n",
       "      <td>Money Market</td>\n",
       "    </tr>\n",
       "    <tr>\n",
       "      <th>1</th>\n",
       "      <td>99996</td>\n",
       "      <td>2023-10-01 00:00:00.000</td>\n",
       "      <td>1998-04-06 00:00:00</td>\n",
       "      <td>Single Member</td>\n",
       "      <td>Female</td>\n",
       "      <td>NAIROBI</td>\n",
       "      <td>Partner</td>\n",
       "      <td>1998-01-26</td>\n",
       "      <td>Money Market</td>\n",
       "    </tr>\n",
       "    <tr>\n",
       "      <th>2</th>\n",
       "      <td>99996</td>\n",
       "      <td>2023-10-01 00:00:00.000</td>\n",
       "      <td>1998-04-06 00:00:00</td>\n",
       "      <td>Single Member</td>\n",
       "      <td>Female</td>\n",
       "      <td>NAIROBI</td>\n",
       "      <td>Partner</td>\n",
       "      <td>1998-01-26</td>\n",
       "      <td>Money Market</td>\n",
       "    </tr>\n",
       "    <tr>\n",
       "      <th>3</th>\n",
       "      <td>99996</td>\n",
       "      <td>2023-10-01 00:00:00.000</td>\n",
       "      <td>1998-04-06 00:00:00</td>\n",
       "      <td>Single Member</td>\n",
       "      <td>Female</td>\n",
       "      <td>NAIROBI</td>\n",
       "      <td>Partner</td>\n",
       "      <td>1998-01-26</td>\n",
       "      <td>Money Market</td>\n",
       "    </tr>\n",
       "    <tr>\n",
       "      <th>4</th>\n",
       "      <td>99996</td>\n",
       "      <td>2023-10-01 00:00:00.000</td>\n",
       "      <td>1998-04-06 00:00:00</td>\n",
       "      <td>Single Member</td>\n",
       "      <td>Female</td>\n",
       "      <td>NAIROBI</td>\n",
       "      <td>Partner</td>\n",
       "      <td>1998-01-26</td>\n",
       "      <td>Money Market</td>\n",
       "    </tr>\n",
       "    <tr>\n",
       "      <th>...</th>\n",
       "      <td>...</td>\n",
       "      <td>...</td>\n",
       "      <td>...</td>\n",
       "      <td>...</td>\n",
       "      <td>...</td>\n",
       "      <td>...</td>\n",
       "      <td>...</td>\n",
       "      <td>...</td>\n",
       "      <td>...</td>\n",
       "    </tr>\n",
       "    <tr>\n",
       "      <th>7532949</th>\n",
       "      <td>2</td>\n",
       "      <td>2011-06-07</td>\n",
       "      <td>1965-05-06</td>\n",
       "      <td>Single Member</td>\n",
       "      <td>Male</td>\n",
       "      <td>NAIROBI</td>\n",
       "      <td>NaN</td>\n",
       "      <td>NaN</td>\n",
       "      <td>Money Market</td>\n",
       "    </tr>\n",
       "    <tr>\n",
       "      <th>7532950</th>\n",
       "      <td>2</td>\n",
       "      <td>2011-06-07</td>\n",
       "      <td>1965-05-06</td>\n",
       "      <td>Single Member</td>\n",
       "      <td>Male</td>\n",
       "      <td>NAIROBI</td>\n",
       "      <td>NaN</td>\n",
       "      <td>NaN</td>\n",
       "      <td>Money Market</td>\n",
       "    </tr>\n",
       "    <tr>\n",
       "      <th>7532951</th>\n",
       "      <td>2</td>\n",
       "      <td>2011-06-07</td>\n",
       "      <td>1965-05-06</td>\n",
       "      <td>Single Member</td>\n",
       "      <td>Male</td>\n",
       "      <td>NAIROBI</td>\n",
       "      <td>NaN</td>\n",
       "      <td>NaN</td>\n",
       "      <td>Money Market</td>\n",
       "    </tr>\n",
       "    <tr>\n",
       "      <th>7532952</th>\n",
       "      <td>2</td>\n",
       "      <td>2011-06-07</td>\n",
       "      <td>1965-05-06</td>\n",
       "      <td>Single Member</td>\n",
       "      <td>Male</td>\n",
       "      <td>NAIROBI</td>\n",
       "      <td>NaN</td>\n",
       "      <td>NaN</td>\n",
       "      <td>Balanced Fund</td>\n",
       "    </tr>\n",
       "    <tr>\n",
       "      <th>7532953</th>\n",
       "      <td>2</td>\n",
       "      <td>2011-06-07</td>\n",
       "      <td>1965-05-06</td>\n",
       "      <td>Single Member</td>\n",
       "      <td>Male</td>\n",
       "      <td>NAIROBI</td>\n",
       "      <td>NaN</td>\n",
       "      <td>NaN</td>\n",
       "      <td>Money Market</td>\n",
       "    </tr>\n",
       "  </tbody>\n",
       "</table>\n",
       "<p>7532954 rows × 9 columns</p>\n",
       "</div>"
      ],
      "text/plain": [
       "         member_no                 reg_date                  dob  \\\n",
       "0            99996  2023-10-01 00:00:00.000  1998-04-06 00:00:00   \n",
       "1            99996  2023-10-01 00:00:00.000  1998-04-06 00:00:00   \n",
       "2            99996  2023-10-01 00:00:00.000  1998-04-06 00:00:00   \n",
       "3            99996  2023-10-01 00:00:00.000  1998-04-06 00:00:00   \n",
       "4            99996  2023-10-01 00:00:00.000  1998-04-06 00:00:00   \n",
       "...            ...                      ...                  ...   \n",
       "7532949          2               2011-06-07           1965-05-06   \n",
       "7532950          2               2011-06-07           1965-05-06   \n",
       "7532951          2               2011-06-07           1965-05-06   \n",
       "7532952          2               2011-06-07           1965-05-06   \n",
       "7532953          2               2011-06-07           1965-05-06   \n",
       "\n",
       "                hse_no  gender     town relationship beneficiery_dob  \\\n",
       "0        Single Member  Female  NAIROBI      Partner      1998-01-26   \n",
       "1        Single Member  Female  NAIROBI      Partner      1998-01-26   \n",
       "2        Single Member  Female  NAIROBI      Partner      1998-01-26   \n",
       "3        Single Member  Female  NAIROBI      Partner      1998-01-26   \n",
       "4        Single Member  Female  NAIROBI      Partner      1998-01-26   \n",
       "...                ...     ...      ...          ...             ...   \n",
       "7532949  Single Member    Male  NAIROBI          NaN             NaN   \n",
       "7532950  Single Member    Male  NAIROBI          NaN             NaN   \n",
       "7532951  Single Member    Male  NAIROBI          NaN             NaN   \n",
       "7532952  Single Member    Male  NAIROBI          NaN             NaN   \n",
       "7532953  Single Member    Male  NAIROBI          NaN             NaN   \n",
       "\n",
       "             portfolio  \n",
       "0         Money Market  \n",
       "1         Money Market  \n",
       "2         Money Market  \n",
       "3         Money Market  \n",
       "4         Money Market  \n",
       "...                ...  \n",
       "7532949   Money Market  \n",
       "7532950   Money Market  \n",
       "7532951   Money Market  \n",
       "7532952  Balanced Fund  \n",
       "7532953   Money Market  \n",
       "\n",
       "[7532954 rows x 9 columns]"
      ]
     },
     "execution_count": 5,
     "metadata": {},
     "output_type": "execute_result"
    }
   ],
   "source": [
    "\n",
    "df = pd.read_csv(\"./single_member.csv\")\n",
    "df"
   ]
  },
  {
   "cell_type": "code",
   "execution_count": 6,
   "metadata": {},
   "outputs": [
    {
     "data": {
      "text/plain": [
       "Index(['member_no', 'reg_date', 'dob', 'hse_no', 'gender', 'town',\n",
       "       'relationship', 'beneficiery_dob', 'portfolio'],\n",
       "      dtype='object')"
      ]
     },
     "execution_count": 6,
     "metadata": {},
     "output_type": "execute_result"
    }
   ],
   "source": [
    "df.columns"
   ]
  },
  {
   "cell_type": "code",
   "execution_count": 7,
   "metadata": {},
   "outputs": [
    {
     "data": {
      "text/plain": [
       "array([99996, 99994, 99993, ...,    19,     3,     2], dtype=int64)"
      ]
     },
     "execution_count": 7,
     "metadata": {},
     "output_type": "execute_result"
    }
   ],
   "source": [
    "df['member_no'].unique()"
   ]
  },
  {
   "cell_type": "code",
   "execution_count": 8,
   "metadata": {},
   "outputs": [
    {
     "data": {
      "text/plain": [
       "array(['Female', 'Male', 'FEMALE', nan, 'MALE', 'F', 'M'], dtype=object)"
      ]
     },
     "execution_count": 8,
     "metadata": {},
     "output_type": "execute_result"
    }
   ],
   "source": [
    "df['gender'].unique()"
   ]
  },
  {
   "cell_type": "code",
   "execution_count": 9,
   "metadata": {},
   "outputs": [
    {
     "data": {
      "text/plain": [
       "array(['NAIROBI', nan, 'NAIROBI ', 'THIKA', 'NAKURU', 'MOMBASA ',\n",
       "       'NDANAI ', 'KISUMU', 'KIKUYU', 'JUJA', 'MACHAKOS', 'MERU',\n",
       "       'KERICHO', 'MUKURWEINI', 'KATANGI', 'THIKA,KIAMBU', 'NANYUKI',\n",
       "       'RUAI ', 'MALINDI', 'NYAHURURU', 'MUMIAS', 'KAKAMEGA', 'LODWAR',\n",
       "       'Nairobi ', 'KITENGELA', 'LIMURU', 'THIKA ', 'MIGORI', 'ELDORET',\n",
       "       'KITUI', 'RUARAKA', 'Ruiru', 'NJORO', 'EMBU', 'SORI', 'NGONG',\n",
       "       'MASENO', 'GATUNDU', 'KAHURO', 'KILIFI', 'RUIRU', 'KERUGOYA',\n",
       "       'KARATINA', 'KITALE ', 'MOMBASA', 'BUNGOMA', 'KISII', '-',\n",
       "       'Nairobi', 'KINAMBA', 'SIAYA', 'KERICHO ', 'KIAMBU', 'KITALE',\n",
       "       'BUSIA', 'RUNYENJES', 'VILLAGE MARKET', 'Kapsabet', 'KAGWE',\n",
       "       'NANDI HILLS', 'KUTUS', 'DAGORETTI', 'LITEIN', 'KAJIADO', 'CHUKA',\n",
       "       'NYERI', 'NAIROBI, NAIROBI', 'Kisumu ', 'KANJUKU', 'EMALI',\n",
       "       'GILGIL', 'Kiambu ', 'KANGEMA', 'TIRIKI', 'KARATINA ', 'OTHAYA',\n",
       "       'KARURI ,KIAMBU', 'MURANGA ', 'Mombasa', 'GATUKUYU ', 'MLOLONGO',\n",
       "       'UTAWALA ', 'KAPENGURIA', 'KAPSABET', 'SUNA', 'BOMET', 'KENOL ',\n",
       "       'NYERI ', 'BUNGOMA ', 'NDANAI', 'KALIMONI', 'KIGANJO',\n",
       "       'KAPSOKWONY', 'Nakuru', 'KIAMBU ', 'nairobi', 'CHOGORIA',\n",
       "       'GITHUNGURI', 'YOANI,SALAMA', 'LIMURU ', 'NAIROBI, KENYA.',\n",
       "       'UKUNDA', 'MATUU', 'embu', 'NYALI', 'nakuru', 'MBALE', 'EMUHAYA',\n",
       "       'TELFORD', 'NAIVASHA', 'KAREN', 'KILIFI ', 'HOLA', 'MAKINDU',\n",
       "       'WOTE', 'DIANI', 'O', 'OLKALAU', 'KAREN ', 'UPLANDS', 'WANGÚRU',\n",
       "       'KABIYET', 'KAKAMEGA ', 'SOTIK', 'NGONG ', 'CITY SQUARE', 'NKUBU',\n",
       "       'KANGARI', 'NGONG HILLS ', 'NYAHURURU ', 'KARURI ', 'UTHIRU',\n",
       "       'MARIMANTI', 'MANCHESTER', 'Kikuyu', '.', 'NAIRO ', 'kiambu',\n",
       "       'VOI', 'EMBAKASI', 'MOLO', 'Siaya ', 'NGIYA', 'OLKALOU',\n",
       "       'KANYAGIA', 'WANJOHI', 'kabete', 'Wamunyu', 'MARIAKANI',\n",
       "       'KISERIAN', 'ARTHI RIVER ', 'SUBUKIA', 'KILGORIS', 'KIMININI',\n",
       "       'LAGOS', 'SARE', 'ATHI RIVER', 'ngong hills ', 'WERUGHA',\n",
       "       'NAIROBIP', 'MASINFA', 'kikuyu', 'OL JORO OROK', 'MAUA',\n",
       "       'GIKUE MURANGA', 'KIMENDE', 'KIMILILI', 'KISUMU ', 'VIHIGA',\n",
       "       ' NAIROBI ', 'BURUBURU', 'MATATHIA', 'RUAKA', 'UGUNJA', 'LONGISA',\n",
       "       'ELDORATE ', 'KAPKATET', 'WINNIPEG', 'PIPELINE ', 'KAHAWA WEST ',\n",
       "       'KANDARA', 'Kimilili ', 'MTWAPA ', 'MARAGUA', 'BANANA ', 'NYAMIRA',\n",
       "       'AUBURN', 'KARURI', 'MTWAPA', 'ONGATA RONGAI', 'ELDORET ',\n",
       "       'HOMABAY', 'WANGIGE', 'KENDUBAY', 'KIBWEZI', 'RONGAI', 'RUIRU ',\n",
       "       'NORTH KINANGOP', 'MAKUYU', 'Nyeri ', 'Eldoret ', 'BOUTIGNY',\n",
       "       '00506', 'MWINGI', '00100', 'KERUGOYA ', 'TALA', 'OLENGURUONE',\n",
       "       'MAVINDINI', 'UHURU GARDENS', 'KIKUYU ', 'Ongata Rongai',\n",
       "       'SOUTH KINANGOP', 'ELDAMA RAVINE', 'MITUNGURU', 'TOM MBOYA',\n",
       "       'NAKURU ', 'MITABONI', 'NAROMORU', 'MURANGA', 'OLJOROROK',\n",
       "       'BUTERE', 'OYUGIS', 'SILIBWET', 'EMBU ', 'Doha', 'Eldoret',\n",
       "       'KANGEMI', 'NYERI-KIGUMO', 'KISERIAN ', 'Athi River', 'KENOL',\n",
       "       'OL KALOU', 'WESTLANDS', 'Nyahururu ', 'ENDARASHA ', 'GPO/NAIROBI',\n",
       "       'DAGORETI', 'OGEMBO ', 'mombasa', 'RUAI', 'DONYO SABUK', 'KEROKA',\n",
       "       'LOWER KABETE', 'MWEIGA', 'Naitobi', 'TOKYO', 'Embu', 'KIRINYAGA',\n",
       "       'KIANYAGA', 'SIAYA ', 'ADLISWIL', 'BURU BURU', 'MERU ', 'NYAKIO',\n",
       "       'KWALE', 'AMUKURA', 'NAROK', 'KOBUJOI', \"WANG'URU\", 'BONDO',\n",
       "       'Kericho', 'KIKIMA ', 'CHANGAMWE', 'BUTULA', 'NAIROBI KAYOLE',\n",
       "       'KANGUNDO', 'MARIAKANI ', 'TIMBOROA', 'KIANJAI', 'KALOLENI ',\n",
       "       'ISINYA', 'IOWA CITY, IOWA', 'Garsen ', 'MUKURWE-INI',\n",
       "       'NAIROBI GPO', 'MANYATTA', 'SARE-OWENDO', 'NANYUKI ', 'NDHIWA',\n",
       "       'ELBURGON', 'Orange', 'MAKUENI', 'kisumu ', 'MACHAKOS ',\n",
       "       'KABARNET ', \"Murang'a \", 'JUJA, KIAMBU', 'Bungoma', 'MAWEGO',\n",
       "       'Bath', 'ROYSAMBU', 'Nanyuki', 'SAGANA', 'MACH ', 'Nyeri', 'Ruaka',\n",
       "       'KITUI ', 'KAJIADO ', 'NUNGUNI', 'RONGAI ', 'KISII ', 'WANGIGE ',\n",
       "       'Makongeni Jogoo Rd', 'nairobi ', 'Kikuyu ', 'Kisii', 'MSAMBWENI',\n",
       "       'BUJUMBURA', 'GITHONGO', 'KEROKA/KISII', 'BURUBURU, NAIROBI',\n",
       "       'MALAVA', 'KIJABE', 'Woolwich ', 'NDERE-SIAYA', 'AHERO',\n",
       "       'MUHORONI ', 'Nakuru ', 'kahuro', 'Malakisi ', 'MUHORONI',\n",
       "       'ISIOLO', 'SYOKIMAU ', 'ONGATA RONGAI ', 'Maralal ',\n",
       "       'KIBIRICHIA, MERU', 'GRANGER, INDIANA', 'WESTLAND ', 'MUKURWEINI ',\n",
       "       'MASII', 'NRB', 'KWISERO', 'ANKARA', 'SHIMBA HILLS', 'TAVETA',\n",
       "       'WOTE, MAKUENI ', 'WANGURU', 'KISSII', 'BURUBURU NAIROBI ',\n",
       "       'KIRITIRI', 'MESA ARIZONA', 'KAJIADO TOWN', 'KURIA',\n",
       "       'NAIROBI WEST', 'ENDARASHA', 'KIPKAREN ', '0', 'GAMBOGI', 'KOLA',\n",
       "       'Marsabit', 'WEBUYE', 'GAKUNGU', 'NAIROBJ',\n",
       "       'NAIROBI ,KAMITI ROAD RICHLAND', 'NKUBU ', 'MWATATE', 'MALAKISI',\n",
       "       'ITEN', 'KATHIANI', \"MURANG'A\", 'KAIRIA', 'UPLANDS ', 'RONGO',\n",
       "       'UHURU GARDEN', 'KINANGOP', 'BAHATI NAKURU ', 'MATILIKU', 'meru',\n",
       "       'Limuru', 'MALAA', 'TURBO', 'MARIMA -MERU HIGHWAY ', 'OLJORO OROK',\n",
       "       'homabay ', 'KIKIMA', 'ADAMS ARCADE', 'MUNICH', 'MUMIAS ',\n",
       "       'KALIMONI ', 'CHWELE', 'MARALAL', 'NAMBALE', 'NAIROBI COUNTY',\n",
       "       'Narok ', 'TURBO ', 'KANGARI ', 'Pécs ', 'thika', 'KATSE',\n",
       "       'thika ', 'CHEBUNYO', 'OL JORO OROK ', 'MOBIL PLAZA', 'WAMUNYU ',\n",
       "       'MAGUNGA', 'RORET', 'YALA', 'KAHUHIA', \"KENOL MURANG'A\",\n",
       "       'Machakos', 'UKWALA', 'KALOLENI', 'JOONDALUP', 'MIGORI ',\n",
       "       'MARAGOLI', 'MARMANET', 'IKANGA', 'KINOO', 'OYUGIS ', 'LANGATA',\n",
       "       'Kiambu', 'Malindi', 'NAIROBI.', 'MAKUENI ', 'Bungoma ',\n",
       "       'GITHUNGURI ', 'MACHOKOS', 'KOMBEWA ', 'UTHIRU ', 'KITENGELA ',\n",
       "       'BANANA', 'CHEPKORIO', 'MASII ', 'Gitugi', '. ', 'RUIRY', 'Kisumu',\n",
       "       'MBUMBUNI-MACHAKOS', 'WAMUYU', 'siaya', 'Kakamega', 'TAITA TAVETA',\n",
       "       'Bumala', 'KIMENDE ', 'BRISTOL', 'MATUNDA', 'KARABA', 'SULTAN',\n",
       "       'GATURA', 'KASARANI ,NAIROBI ', 'NANDI', 'MAGUTUNI', 'CHUKA ',\n",
       "       'NGONG HILL', 'ngong', 'KIANGAI', 'MBITA', 'Mumias', 'KAMBITI',\n",
       "       'MUMBI', 'Juja', 'WODANGA', 'KIRIANI', 'KABARNET', 'MISIKHU',\n",
       "       'Thika', 'NYANSIONGO', 'nyeri ', 'NAIVASHA ', \"MURANG'A \",\n",
       "       'KAPCHENO', 'NGARA', 'MADARAKA', 'kitengela ', 'BONDO ', 'WAMUNYU',\n",
       "       'NYANDARUA', 'MOGOGOSIEK', '00', 'NAIROBI/JUJA', 'NA ', 'LUANDA',\n",
       "       'KLEMZIG', 'TEL AVIV', 'ongata rongai ', '30-60101 Manyatta ',\n",
       "       '12410 Nyeri', 'KATHONZWENI ', 'GITHURAI ', 'WESRN AUSTRALIA',\n",
       "       'SABASABA ', 'Gilgil ', 'ISEBANIA', 'KIRIAINI', 'MUTHETHENI ',\n",
       "       'Mombasa ', 'Kitengela', 'CARLIFONIA', 'NIL',\n",
       "       'NAIROBI, NAIROBI AREA, KENYA', 'SOY', 'Sabasaba', 'SABASABA',\n",
       "       'COLUMBIA', 'Homa Bay ', 'MARIMA', 'SEGA', 'KAYOLE', 'BUDD LAKE',\n",
       "       'KITHYOKO', 'KIJABE ', 'Mbale', 'KITHIMANI', 'HANOI', 'chuka',\n",
       "       'KILINDINI', 'MERY', 'CHELMSFORD', 'LOITOKITOK', 'MOSORIOT',\n",
       "       'IKONGE', 'ENGINEER', 'Othaya', 'Ahero', 'MWEA', 'JOSKA ',\n",
       "       'NGAMBWA', 'MASINGA', 'KINANGOP ', 'LONDON', 'KILELESHWA ',\n",
       "       'SARIT CENTRE', 'mgange ', 'ST. MARYS NSW', 'GESIMA', 'Migori ',\n",
       "       'KHWISERO', 'SYOKIMAU', 'MTITO ANDEI ', 'nakuru ', 'NAIROBI CITY',\n",
       "       'ATHIRIVER', 'KABATI', 'Kitale', 'MPEKETONI', 'YOANI',\n",
       "       'KABARTONJO', 'NAMANGA', 'CHESINENDE', 'BAHATI', 'NZEEKA',\n",
       "       'MATATHIA, KAMAE', 'RONALD NGALA ', 'KUBUKUBU', 'THOGOTO',\n",
       "       'GATORA', 'NAI ', 'KUJA,KIAMBU', 'Machakos ', 'AMAGORO', 'Uthiru',\n",
       "       'Naivasha', 'KEROKA ', 'MAZERAS', 'EGERTON', 'KASARANI', 'Kimende',\n",
       "       'WAJIR', 'DUBAI', 'TWO RIVERS', 'NDARAGWA ', 'EASTLEIGH', 'KAGIO',\n",
       "       'HOMA BAY', 'KISII, KENYA', 'Thika ', 'NGECHA', 'Kakamega ',\n",
       "       'KERINGET', 'FORT WAYNE', 'STAREHE', 'GILGIL ', 'KAWANGWARE',\n",
       "       'GPO NAIROBI', 'GITUGI', 'Tala', 'kakamega ', 'TEXAS', 'GACHIE',\n",
       "       'Syokimau', 'Sydney ', 'LESSOS', 'Meru ', 'KIPKAREN RIVER',\n",
       "       'SOSIOT', 'LAKEWOOD SEATTLE', 'Lodwar', 'Kitale ', 'Membley',\n",
       "       'chepkorio', 'Luanda', 'Kijabe ', 'TONGAREN', 'karuri ', 'malindi',\n",
       "       'Ogembo ', 'Maryland', 'Kisii Town ', 'kajiado ', 'LIKONI',\n",
       "       'wangige ', 'Ngong', 'OLKALOU ', '4597-20100 Nakuru', 'GARISSA',\n",
       "       'KIRIAINI ', 'SYOKIMAU L', 'Machakos, Kathiani', 'Kitui',\n",
       "       'AUSTRALIA', 'Bondo', 'Salama ', 'bomet ', 'Naivasha ',\n",
       "       'TOORMINA, NSW', 'Utawala', 'Ankara', 'MOISBRIDGE', 'nbo',\n",
       "       'Kijabe', 'KABAZI', 'P.O BOX 75-30105 SOY', 'kisumu', 'nyeri',\n",
       "       'Voi', 'Kanjuku', \"NG'IYA\", 'Muranga', 'Bournemouth ',\n",
       "       'SARE-AWENDO', 'narok', 'Ruiru ', 'Kilifi ', 'Meru',\n",
       "       'Ol-joro-orok', '152 30100 eldoret ', 'Mtwapa', 'Karuri',\n",
       "       'Kitengela ', 'Isiolo ', '38061-00623 Nairobi', 'Ngong Hills',\n",
       "       'RARIEDA', ' Nairobi County,', '187 Ngewa', 'NJAMBINI',\n",
       "       '25635 00603 Nairobi', 'GIKOE', 'kakamega', 'ISHIARA ',\n",
       "       'P. O. Box 111 Ruiru', 'Kibwezi', 'Syokimau ', 'kiambu ', 'Bomet ',\n",
       "       'Busia', 'Gilgil', 'LAMU', 'Kajiado ', 'makueni ', 'kisii',\n",
       "       'MERU 2274', 'TURKANA', 'Kilifi', 'nottingham', 'Embakasi',\n",
       "       'Masii - MACHAKOS', 'SEREM', 'Tala, Kangundo. ', 'Ugunja',\n",
       "       'Karatina', 'Migori', 'Berlin', 'KALAMBA', 'UKUNDA ', 'ruiru',\n",
       "       'Sondu', 'BUSIA - PORT VICTORIA ', 'Matuu.', 'Gatundu',\n",
       "       'Seasons Kasarani. ', 'KARUNGU', 'Kahawa Sukari', 'Kangundo ',\n",
       "       'mombasa ', 'St. Georges', 'maseno', 'KINDARUMA ',\n",
       "       'kakuma 1 Nuer community ', 'copenhagen', '549 LIMURU', 'Lamu',\n",
       "       'DRESDEN', 'Ol Kalou ', 'KIRIA-INI ', '123 KIKUYU', 'Kianyaga',\n",
       "       'Kasarani', 'Makueni ', 'KABETE', 'Sagana',\n",
       "       'Imani avenue, Ongata Rongai, Kajiado', 'LOS ANGELES', 'KAKUMA',\n",
       "       'kitengela', '56-10300 Kerugoya', 'Kalimoni P.o Box 178-01001',\n",
       "       'Nairobi, Komarock.', 'kilifi', 'NAIROBI, KITENGELA ',\n",
       "       '14 Lamina Avenue, Mill Park VIC 3082', 'kebirigo ', 'Darwin ',\n",
       "       'Kericho ', 'Nairibi', '782 - 00232 Ruiru', 'eldoret', 'Oyugis',\n",
       "       'Conroe', 'NAIROBI 572 00300', 'Eldama Ravine', 'Kabete ', 'Maua',\n",
       "       'Isiolo', '828-90200', 'Athens', 'Chicago ', 'Hola', 'Abu Dhabi ',\n",
       "       'Nyayo Estate, Court 521', 'Deanside', '452-00200, KIAMBU',\n",
       "       'KOBENHAUN', 'karuri', 'Nanyuki ', 'P.O. Box 2413-60200, Meru',\n",
       "       'Kenol', 'Wote', 'githunguri ', 'NAIROBI. 45095-00100', 'Serem',\n",
       "       'P.o.box 1298-00618 Ruaraka, Nairobi', 'Vienna ', 'karen',\n",
       "       'CHICAGO', 'GENEVA', 'Kiserian ', 'Kabarnet', 'RABAI',\n",
       "       'KIAMBU COUNTY', 'Uthiru Cooperation ', 'Githunguri ',\n",
       "       '79718-00200 NAIROBI', 'stockholm', '42 NDARAGWA',\n",
       "       'P.O. Box 103635-00101', 'Heuchlingen ', 'PORT VICTORIA',\n",
       "       'Doolandella, Australia', 'Grand Oyster Kileleshwa, Nairobi',\n",
       "       '10572-00200 NAIROBI', 'Wangige ', 'Siaya', 'Litein', 'Washington',\n",
       "       'Geneva', 'Winchester ', 'Mariashoni', 'Mwiki', 'Limuru ',\n",
       "       'Nairobi i', 'P O Box 898-00100 NAIROBI', 'KAWNGWARE NAIROBI ',\n",
       "       'rongai', 'Roysambu', 'NAIROBI UMOJA', 'kangema',\n",
       "       'P.O.Box 848-00208 NGONG', 'Braunschweig ', 'Wote MAKUENI',\n",
       "       '814_3 300 KAPSABET ', 'Box 2316 Machakos', 'Ruaraka', 'Nyahururu',\n",
       "       'Kenmore ', 'Melbourne ', '1711 Nyahururu', 'nanyuki',\n",
       "       'kawangware ', 'Narok', 'Githunguri', 'Mahindi ', 'Moncton',\n",
       "       'kERUGOYA', 'Homa Bay', 'Ukunda', 'Mukurweini ', 'Malindi ',\n",
       "       'narumoru', 'Juba', '01000-214 Thika', 'kabete ', 'Kajiado',\n",
       "       'NAROK ', 'Kapenguria ', 'Athi-river ', \"murang'a \", 'Gem',\n",
       "       'nyahururu ', 'Gachie ', 'Kirinyaga', ' Nairobi ', 'CALIFORNIA',\n",
       "       'Bomet', 'molo', 'Chuka', 'Nairobi, Kenya.', 'ANTONY',\n",
       "       'wite-makueni', 'ugunja', 'Matunda ', 'KARORI', 'kikuyu ',\n",
       "       'Shinyalu ', 'Molo', 'KIPKAREN', 'KANGUNDO ', 'LUTON', 'FLORIDA',\n",
       "       'NGEWA', 'SUSWA', 'USA', \"KENOL MURANG'A \", 'PUYALLUP WA USA',\n",
       "       'LAARE', 'P.O Box 30231 - 00100, Nairobi', 'Runyenjes',\n",
       "       'KENDUBAY ', 'Gigiri, Nairobi', 'GATUKUYU', 'BUNYALA', 'OKIA',\n",
       "       '3704 GPO NAIROBI ', 'RANGWE', 'KITUI KENYA', 'SAUDI ARABIA',\n",
       "       'JUJA KALIMONI', 'MSA', 'GAKUNYU', 'MIHARATI', 'KERUGOYA TOWN',\n",
       "       'RAGENGNI', 'mwingi ', 'NBI', 'IGOJI', 'KIMULOT', 'LONDIANI',\n",
       "       'CAMBRIDGE', 'KHAYEGA', 'NDUNYU NJERU ', '58-10205 Maragua',\n",
       "       'MALINDI ', 'Kasarani, Clay City', 'ATHI RIVER ', 'Sawagongo ',\n",
       "       'HELSINKI', 'GPO', 'BURNTFOREST', 'MATUNDA ', 'HARRISDALE',\n",
       "       'KARANDI', 'DUKHAN ', 'SONDU', 'EMBU, KENYA', 'NAIROBI KENYA',\n",
       "       'NANDI HILLS ', 'HAZELWOOD', 'MGANGE', 'LUCYSUMMER-NAIROBI',\n",
       "       'KUKUYU', 'NGONG ROAD', 'NYAYO STADIUM', 'Karen', 'makuyu',\n",
       "       'LOITIKITOK', 'Kenyenya', 'MUNICH ', 'tawa', 'FUNYULA',\n",
       "       'NOTTIGHAM', 'nanyuki ', 'Kenny Bay', 'MOMBSA', 'SHERWOOD',\n",
       "       'NDARAGWA', 'ongata rongai', 'BUMALA', 'MEITINGEN ', '80100',\n",
       "       'KOMBEWA', 'DOYSELDOR', 'NOTTINGHAM', 'VIENNA', 'KISERIAN KAJIADO',\n",
       "       'NAIROBI, KENYA', 'Mtwapa ', 'KEUMBU', 'Kerugoya Town', 'KAP ',\n",
       "       'UPPER HILL NAIROBI', 'MOI;S BRIDGE', 'ENTERPRISE  ROAD',\n",
       "       'THIONGO-NAIROBI', 'KATHONZWENI', 'UTAWALA', 'MIU ATHI-RIVER',\n",
       "       'CHAMAKANGA', 'NYAMACHE', 'NUERI', 'SULTAN HAMUD', 'NAROMORU ',\n",
       "       'NYAMIRA ', 'NAIROBI BURU', 'HAMBURG', 'TOWN ', '14 KADONGO 40223',\n",
       "       'Mois Bridge ', 'RUNYENJES ', 'MARAGWA', 'SURPRISE,USA',\n",
       "       'KALAMBA ', 'Ruai', 'KADONGO', 'TORONGO', 'NJABINI',\n",
       "       'GIGIRI, VILLAGE MARKET, NAIROBI', 'LAVINGTON', 'SPRING VALLEY',\n",
       "       'MBUMBUNI', 'NAIROBI MUNICIPALITY', 'NAIROBI,KENYA',\n",
       "       'Bamburi Mtambo ', 'GITHURAI', 'RUMURUTI',\n",
       "       'Kenyatta Highway, Nanyuki', 'MUTOMO', 'KENYATTA HOSPITAL',\n",
       "       'NAIROBI GENERAL POST OFFICE', 'LITIEN', 'LONDIANI ',\n",
       "       'ONGATA RONGAI NAIROBI', 'GATUNDU ', 'GAMBONI', 'NAIROB',\n",
       "       'L.KABETE', 'ATHI - RIVER', 'kerugoya ', 'Webuye ', 'Maralal',\n",
       "       'Andover', 'mombas', 'Kiambu 627-00900', 'Maragua',\n",
       "       'murang*a 10200-658', 'Syracuse', 'Karen Nairobi ',\n",
       "       'ontario, California 91764 ', 'Karlsruhe ', 'Nyamira ', 'Olkalau',\n",
       "       'GILGIL, KENYA', 'Kerugoya ',\n",
       "       '14 AV FERNAND FENZY92160  ANTONY FRANCE'], dtype=object)"
      ]
     },
     "execution_count": 9,
     "metadata": {},
     "output_type": "execute_result"
    }
   ],
   "source": [
    "df['town'].unique()"
   ]
  },
  {
   "cell_type": "code",
   "execution_count": 10,
   "metadata": {},
   "outputs": [
    {
     "data": {
      "text/plain": [
       "array(['Partner', 'Sister', 'Husband ', 'Husband', 'Daughter', 'Brother ',\n",
       "       'Son', 'Daughter ', 'Wife', 'Father', 'Mother', 'Brother', 'son',\n",
       "       'mother', 'father', 'Mother ', 'SPOUSE', 'FRIEND', 'Spouse ',\n",
       "       'WIfe', 'Father ', 'Spouse', 'child', nan, 'Parent', 'wife',\n",
       "       'Wife ', 'Son ', 'spouse', 'doughter', 'CHILD', 'ParentChild',\n",
       "       'partner', 'brother', 'sister', 'MotheR', 'Friend', 'Child',\n",
       "       'Cousin', 'Dad', 'Mum', 'MOTHER', 'WIFE', 'Sister ', 'SON',\n",
       "       'BROTHER', 'FATHER', 'aunt ', 'Grandmother', 'HUSBAND', 'self',\n",
       "       'husband', 'husband ', 'Owner', ' Grand daughter', 'Nephew',\n",
       "       'SP0USE', 'Self', 'parent', 'SISTER', 'NIECE', 'Niece', 'daughter',\n",
       "       'Sibling', 'DAUGHTER', 'AUNT', 'brother ', '254701361835',\n",
       "       'Parent ', 'daughter ', 'FAITHER', 'Family ', 'SPOUSE ',\n",
       "       'Sibling ', 'PARENT', 'CONFIDANT', 'MUM', 'DAD', 'wife ', 'family',\n",
       "       'Trustee ', 'son ', 'mother ', 'MOTHER ', 'friend', 'spouse ',\n",
       "       'S0N', 'SISTER ', 'FATHER ', 'father ', 'FAMILY ', 'WifE',\n",
       "       'Partner ', 'daugther', '1226805243;130143346', 'relative',\n",
       "       'BROTHER ', 'Daighter', 'Advisor', 'SON ', 'AUNTIE', 'FIANCEE',\n",
       "       'Fiancee', 'DOUGHTER', 'parent ', 'HUSBAND ', 'DAUGHTER ', 'SELF',\n",
       "       'MOther', 'mOTHER', 'Aunt', 'Grandparent', 'Bother ', 'SO',\n",
       "       'married', 'MARRIED', 'FIANCE', 'Doughter ', 'Guardian ',\n",
       "       'ASS0CIATE', 'sibling', 'fiance', 'Sistet', 'Grandson', 'Doughter',\n",
       "       'DAUGTHER', 'wIFE', 'Bro', 'PARTNER', 'B INLAW', 'GUARDIAN',\n",
       "       'daughte', 'Mom', 'COUSIN', 'GRANDMA', 'aunt', 'Domestic Partner',\n",
       "       'PATNER', 'me', 'MENTOR', 'UNCLE', 'Sis', 'SiBLING', 'GRAND SON',\n",
       "       'Fiance ', 'KID', 'SIBLING', 'GRANDSON', 'Nephew ', '-', 'Cousin ',\n",
       "       'DAUGHETR', 'Person', 's0n', 'na', 'myson', 'PARTNER ', 'Bishop',\n",
       "       'nephew', 'mwas', 'Mothers', 'Friend ', 'Child ', 'daughter33',\n",
       "       'CLOSE FRIEND', 'hUSBAND', 'CLOSEFRIEND', 'Boyfriend ',\n",
       "       'dependant', 'WIFE ', 'MARRIAGE', 'GRAND DAUGHTER', 'DAUGHER',\n",
       "       'Niece ', 'granddaughter', 'grandson', 'DAUGHTER/CHILD',\n",
       "       'RELATIVE', 'mum', 'single', 'Self ', 'sister ', 'Mother TO SON',\n",
       "       'Grandfather', 'DAD ', 'Relative', 'Daughter-in-law ',\n",
       "       'GRANDMOTHER', 'child ', '15', 'DaD', 'GIRLFRIEND', 'FAMILY',\n",
       "       'Uncle ', 'SiNGLE', 'SINGLE', 'fiancee', 'FaMILY', 'BENEFICIARY',\n",
       "       'OWNER', 'Relative ', 'GRANDDAUGHTER', ' Spouse', 'uncle',\n",
       "       'Married ', 'chil', 'CHILD MINOR', '33', 'NEPHEW', 'JOINT PARTNER',\n",
       "       'MOTHERS ', 'Fiancé ', 'Others ', 'Grand daughter',\n",
       "       'DAUGHTER-IN-LAW', 'Na', 'CHILD ', 'SPIRITUAL FATHER', 'COUSN',\n",
       "       'DEPEDANT', 'Estate', 'Uncle', 'sISTER', 'sisiter', ' BROTHER',\n",
       "       'Granddaughter ', 'BRother', 'Aunt ', 'cousin', 'Baby', 'Morher',\n",
       "       'MOM', 'God mother', 'GRANDSON ', 'Husband/spouse', 'SPOUCE',\n",
       "       'uncle ', 'FRIEND ', 'Single', 'Vhild', 'Patner', 'Spouce',\n",
       "       'Family', 'SoN', 'SisteR', 'AUNTY', 'FATHER-IN-LAW', 'SonS', '0',\n",
       "       'MO9', 'Fiance', '33.4', 'CHILF', '254727756559', '0720401466',\n",
       "       'GRAND FATHER', 'PRINCIPAL', 'Guardian', 'JUNIOR',\n",
       "       'DGRAND DAUGHTER', 'COWORKER', 'GRAND MOTHER', 'D100', 'NMO',\n",
       "       'BUSINESS PARTNER', 'GURDIAN', '2021', 'MotH', 'MoM', 'UN,CLE',\n",
       "       'GRAND CHILD', 'Sister in law', 'Grand Daughter', 'COMAPANION',\n",
       "       'BOYFRIEND', 'EX-WIFE', 'GRANDDAUGTER', 'PARNT', 'M', 'F', 'Chils',\n",
       "       ';SON', 'GUARDINA', 'NiecE', 'Brother-IN-LAW', 'Member',\n",
       "       'Grand mother', 'ADMINISTRATOR', 'VM', 'GRANDFATHER', 'GIRLFRIED',\n",
       "       'Brestfriend', 'Finance', 'SIS', 'Daughter in law', 'children',\n",
       "       'Girlfriend', 'COLLEAGUE', 'TRUSTEE', '254708368426', 'Colleague',\n",
       "       'Sister-IN-LAW', 'GRAND-DAUGHTER', 'GRANNY', 'GRANDCHILD', \"'M\",\n",
       "       'spouce', 'SiLBLING', 'Siblings', 'Step-mother', 'Aunty', 'FREINF',\n",
       "       '50', '100', '254723993458', 'Cousins', 'Cousins ', 'ASSOCIATE',\n",
       "       'Fiane', 'guardian', 'Guadian', 'Confidant', 'Auntie', 'GRANDPA',\n",
       "       'mom', 'Brother in Law', 'BUSINESS PARTNER ', 'Spuose',\n",
       "       'Business Partner', 'Dating', 'IN LAW', 'STEP-MOM', 'Son/Brother',\n",
       "       'Chid', 'Granddaughter', 'niece', 'Son/SISTER', 'Grand Son',\n",
       "       'BrotheR', \"Nolan's Guardian\", \"Xena's Guardian\", 'Sister-in law',\n",
       "       'PARENTS', 'c/o', 'STEP MOTHER', 'NiCE', 'Ciru', 'DEPENDANT',\n",
       "       'som', 'GUARDIAN ', 'Dau`', 'Kid', 'PARENT ', 'CHILDREN',\n",
       "       'partner ', 'CLOUSIN', '19112004', 'twinsister', 'MINOR',\n",
       "       'Sister- Custodian', 'GRANSON', 'COMPANION', 'ENGAGED',\n",
       "       'WELL WISHER', 'PARNER', 'GRANCHILD', 'Trustee', 'Next of kin',\n",
       "       'SIIBLING', 'SIBLINGS', 'Foster daughter', 'ADMINSTRATOR',\n",
       "       'IN-LAW', 'Boyfriend', 'NepheW', 'EMPLOYEE', 'DIRECTORS',\n",
       "       'RELIGIOUS COMMUNITY', 'CUSTODIAN', 'C/O ARIANNA', 'Sister IN LAW',\n",
       "       'spose', 'SPAUSE', 'MEMBER', 'DomesticPartner', 'Grand-daughter',\n",
       "       'Brother-in-law', 'STEP-BROTHER', 'Mother to Evan', 'Sister-Inlaw',\n",
       "       'BUS. PARTNER', 'Sister(Guardian)', 'CONTACT PERSON', 'FatheR',\n",
       "       'Brother in law', 'Parwnt', 'M,', 'Sister-GUARDIAN', 'Grand Child',\n",
       "       'GODMOTHER', 'Sister-Guardian', 'Mother- Guardian', 'Grandchild',\n",
       "       'Grand son', 'CHLD', 'GRAND.DAUGHTER', 'GRAND-MOTHER', 'Parents',\n",
       "       'EX WIFE', 'Sister - Guardian', 'Step-Mother', 'FOSTER DAUGHTER',\n",
       "       'Grand-mother', 'God Mother', 'Mother-in-law', 'MEMBER ',\n",
       "       'B/S PARTNER', 'LAWYER', 'GRAND-SON', 'parents', 'Stepson',\n",
       "       'Contingent', 'grandmother', 'G/Daughter', 'Brother and sister',\n",
       "       'Sibbling', ' ', 'COUSIN ', 'DaughteR', 'SPUOSE', 'CHIILD',\n",
       "       'DSPOUSE', 'Executor', 'HU', 'EWIFE', 'SPOUDSE', 'SoPOUSE',\n",
       "       'grandchild', 'ChILD', '9266025', 'PARE NT', '254700442162',\n",
       "       'BEST FRIEND', 'SISTER IN LAW ', 'mather', 'SAVING PARTNER ',\n",
       "       'AUNTIE ', 'ParenChild', 'GIRLFRIEND ', 'SINGLE ', 'Parentchild',\n",
       "       'parentchild', 'SPOUSE20', 'Myself', 'FIACEE', 'SD',\n",
       "       'Grand mother ', 'Mother of child', 'Childnephew', 'FATH ',\n",
       "       'MY SON', 'BabyMother', 'CHID', 'GIRL FRIEND', 'chils', 'self ',\n",
       "       \"Mother's \", 'Mum ', 'aunty', 'SPouse', 'Auntie ', 'ChiLD',\n",
       "       'grandmother ', 'Grand daughter ', 'auntie', 'baby mama ', 'DA',\n",
       "       'BrOther', 'Fiancee ', 'In law', 'Colleague ', 'WiFE', 'owner',\n",
       "       'sON', 'Mather', 'Dauhgter', 'myself', 'Hubby', 'Sister in-law',\n",
       "       'Aunty ', 'Foster parent', 'grandson ', 'Wife/Guardian',\n",
       "       '21761402', 'GUARDIAN-MOTHER'], dtype=object)"
      ]
     },
     "execution_count": 10,
     "metadata": {},
     "output_type": "execute_result"
    }
   ],
   "source": [
    "df['relationship'].unique()"
   ]
  },
  {
   "cell_type": "code",
   "execution_count": 11,
   "metadata": {},
   "outputs": [
    {
     "data": {
      "text/plain": [
       "array(['Single Member'], dtype=object)"
      ]
     },
     "execution_count": 11,
     "metadata": {},
     "output_type": "execute_result"
    }
   ],
   "source": [
    "df['hse_no'].unique()"
   ]
  },
  {
   "cell_type": "code",
   "execution_count": 12,
   "metadata": {},
   "outputs": [
    {
     "data": {
      "text/plain": [
       "array(['Money Market', 'Dollar Fund', 'Wealth Fund', 'Equity Fund',\n",
       "       'Fixed Income', 'Balanced Fund', 'MoneyMarket', nan], dtype=object)"
      ]
     },
     "execution_count": 12,
     "metadata": {},
     "output_type": "execute_result"
    }
   ],
   "source": [
    "df['portfolio'].unique()"
   ]
  },
  {
   "cell_type": "code",
   "execution_count": 13,
   "metadata": {},
   "outputs": [
    {
     "data": {
      "text/plain": [
       "array(['NAIROBI', nan, 'NAIROBI ', 'THIKA', 'NAKURU', 'MOMBASA ',\n",
       "       'NDANAI ', 'KISUMU', 'KIKUYU', 'JUJA', 'MACHAKOS', 'MERU',\n",
       "       'KERICHO', 'MUKURWEINI', 'KATANGI', 'THIKA,KIAMBU', 'NANYUKI',\n",
       "       'RUAI ', 'MALINDI', 'NYAHURURU', 'MUMIAS', 'KAKAMEGA', 'LODWAR',\n",
       "       'Nairobi ', 'KITENGELA', 'LIMURU', 'THIKA ', 'MIGORI', 'ELDORET',\n",
       "       'KITUI', 'RUARAKA', 'Ruiru', 'NJORO', 'EMBU', 'SORI', 'NGONG',\n",
       "       'MASENO', 'GATUNDU', 'KAHURO', 'KILIFI', 'RUIRU', 'KERUGOYA',\n",
       "       'KARATINA', 'KITALE ', 'MOMBASA', 'BUNGOMA', 'KISII', '-',\n",
       "       'Nairobi', 'KINAMBA', 'SIAYA', 'KERICHO ', 'KIAMBU', 'KITALE',\n",
       "       'BUSIA', 'RUNYENJES', 'VILLAGE MARKET', 'Kapsabet', 'KAGWE',\n",
       "       'NANDI HILLS', 'KUTUS', 'DAGORETTI', 'LITEIN', 'KAJIADO', 'CHUKA',\n",
       "       'NYERI', 'NAIROBI, NAIROBI', 'Kisumu ', 'KANJUKU', 'EMALI',\n",
       "       'GILGIL', 'Kiambu ', 'KANGEMA', 'TIRIKI', 'KARATINA ', 'OTHAYA',\n",
       "       'KARURI ,KIAMBU', 'MURANGA ', 'Mombasa', 'GATUKUYU ', 'MLOLONGO',\n",
       "       'UTAWALA ', 'KAPENGURIA', 'KAPSABET', 'SUNA', 'BOMET', 'KENOL ',\n",
       "       'NYERI ', 'BUNGOMA ', 'NDANAI', 'KALIMONI', 'KIGANJO',\n",
       "       'KAPSOKWONY', 'Nakuru', 'KIAMBU ', 'nairobi', 'CHOGORIA',\n",
       "       'GITHUNGURI', 'YOANI,SALAMA', 'LIMURU ', 'NAIROBI, KENYA.',\n",
       "       'UKUNDA', 'MATUU', 'embu', 'NYALI', 'nakuru', 'MBALE', 'EMUHAYA',\n",
       "       'TELFORD', 'NAIVASHA', 'KAREN', 'KILIFI ', 'HOLA', 'MAKINDU',\n",
       "       'WOTE', 'DIANI', 'O', 'OLKALAU', 'KAREN ', 'UPLANDS', 'WANGÚRU',\n",
       "       'KABIYET', 'KAKAMEGA ', 'SOTIK', 'NGONG ', 'CITY SQUARE', 'NKUBU',\n",
       "       'KANGARI', 'NGONG HILLS ', 'NYAHURURU ', 'KARURI ', 'UTHIRU',\n",
       "       'MARIMANTI', 'MANCHESTER', 'Kikuyu', '.', 'NAIRO ', 'kiambu',\n",
       "       'VOI', 'EMBAKASI', 'MOLO', 'Siaya ', 'NGIYA', 'OLKALOU',\n",
       "       'KANYAGIA', 'WANJOHI', 'kabete', 'Wamunyu', 'MARIAKANI',\n",
       "       'KISERIAN', 'ARTHI RIVER ', 'SUBUKIA', 'KILGORIS', 'KIMININI',\n",
       "       'LAGOS', 'SARE', 'ATHI RIVER', 'ngong hills ', 'WERUGHA',\n",
       "       'NAIROBIP', 'MASINFA', 'kikuyu', 'OL JORO OROK', 'MAUA',\n",
       "       'GIKUE MURANGA', 'KIMENDE', 'KIMILILI', 'KISUMU ', 'VIHIGA',\n",
       "       ' NAIROBI ', 'BURUBURU', 'MATATHIA', 'RUAKA', 'UGUNJA', 'LONGISA',\n",
       "       'ELDORATE ', 'KAPKATET', 'WINNIPEG', 'PIPELINE ', 'KAHAWA WEST ',\n",
       "       'KANDARA', 'Kimilili ', 'MTWAPA ', 'MARAGUA', 'BANANA ', 'NYAMIRA',\n",
       "       'AUBURN', 'KARURI', 'MTWAPA', 'ONGATA RONGAI', 'ELDORET ',\n",
       "       'HOMABAY', 'WANGIGE', 'KENDUBAY', 'KIBWEZI', 'RONGAI', 'RUIRU ',\n",
       "       'NORTH KINANGOP', 'MAKUYU', 'Nyeri ', 'Eldoret ', 'BOUTIGNY',\n",
       "       '00506', 'MWINGI', '00100', 'KERUGOYA ', 'TALA', 'OLENGURUONE',\n",
       "       'MAVINDINI', 'UHURU GARDENS', 'KIKUYU ', 'Ongata Rongai',\n",
       "       'SOUTH KINANGOP', 'ELDAMA RAVINE', 'MITUNGURU', 'TOM MBOYA',\n",
       "       'NAKURU ', 'MITABONI', 'NAROMORU', 'MURANGA', 'OLJOROROK',\n",
       "       'BUTERE', 'OYUGIS', 'SILIBWET', 'EMBU ', 'Doha', 'Eldoret',\n",
       "       'KANGEMI', 'NYERI-KIGUMO', 'KISERIAN ', 'Athi River', 'KENOL',\n",
       "       'OL KALOU', 'WESTLANDS', 'Nyahururu ', 'ENDARASHA ', 'GPO/NAIROBI',\n",
       "       'DAGORETI', 'OGEMBO ', 'mombasa', 'RUAI', 'DONYO SABUK', 'KEROKA',\n",
       "       'LOWER KABETE', 'MWEIGA', 'Naitobi', 'TOKYO', 'Embu', 'KIRINYAGA',\n",
       "       'KIANYAGA', 'SIAYA ', 'ADLISWIL', 'BURU BURU', 'MERU ', 'NYAKIO',\n",
       "       'KWALE', 'AMUKURA', 'NAROK', 'KOBUJOI', \"WANG'URU\", 'BONDO',\n",
       "       'Kericho', 'KIKIMA ', 'CHANGAMWE', 'BUTULA', 'NAIROBI KAYOLE',\n",
       "       'KANGUNDO', 'MARIAKANI ', 'TIMBOROA', 'KIANJAI', 'KALOLENI ',\n",
       "       'ISINYA', 'IOWA CITY, IOWA', 'Garsen ', 'MUKURWE-INI',\n",
       "       'NAIROBI GPO', 'MANYATTA', 'SARE-OWENDO', 'NANYUKI ', 'NDHIWA',\n",
       "       'ELBURGON', 'Orange', 'MAKUENI', 'kisumu ', 'MACHAKOS ',\n",
       "       'KABARNET ', \"Murang'a \", 'JUJA, KIAMBU', 'Bungoma', 'MAWEGO',\n",
       "       'Bath', 'ROYSAMBU', 'Nanyuki', 'SAGANA', 'MACH ', 'Nyeri', 'Ruaka',\n",
       "       'KITUI ', 'KAJIADO ', 'NUNGUNI', 'RONGAI ', 'KISII ', 'WANGIGE ',\n",
       "       'Makongeni Jogoo Rd', 'nairobi ', 'Kikuyu ', 'Kisii', 'MSAMBWENI',\n",
       "       'BUJUMBURA', 'GITHONGO', 'KEROKA/KISII', 'BURUBURU, NAIROBI',\n",
       "       'MALAVA', 'KIJABE', 'Woolwich ', 'NDERE-SIAYA', 'AHERO',\n",
       "       'MUHORONI ', 'Nakuru ', 'kahuro', 'Malakisi ', 'MUHORONI',\n",
       "       'ISIOLO', 'SYOKIMAU ', 'ONGATA RONGAI ', 'Maralal ',\n",
       "       'KIBIRICHIA, MERU', 'GRANGER, INDIANA', 'WESTLAND ', 'MUKURWEINI ',\n",
       "       'MASII', 'NRB', 'KWISERO', 'ANKARA', 'SHIMBA HILLS', 'TAVETA',\n",
       "       'WOTE, MAKUENI ', 'WANGURU', 'KISSII', 'BURUBURU NAIROBI ',\n",
       "       'KIRITIRI', 'MESA ARIZONA', 'KAJIADO TOWN', 'KURIA',\n",
       "       'NAIROBI WEST', 'ENDARASHA', 'KIPKAREN ', '0', 'GAMBOGI', 'KOLA',\n",
       "       'Marsabit', 'WEBUYE', 'GAKUNGU', 'NAIROBJ',\n",
       "       'NAIROBI ,KAMITI ROAD RICHLAND', 'NKUBU ', 'MWATATE', 'MALAKISI',\n",
       "       'ITEN', 'KATHIANI', \"MURANG'A\", 'KAIRIA', 'UPLANDS ', 'RONGO',\n",
       "       'UHURU GARDEN', 'KINANGOP', 'BAHATI NAKURU ', 'MATILIKU', 'meru',\n",
       "       'Limuru', 'MALAA', 'TURBO', 'MARIMA -MERU HIGHWAY ', 'OLJORO OROK',\n",
       "       'homabay ', 'KIKIMA', 'ADAMS ARCADE', 'MUNICH', 'MUMIAS ',\n",
       "       'KALIMONI ', 'CHWELE', 'MARALAL', 'NAMBALE', 'NAIROBI COUNTY',\n",
       "       'Narok ', 'TURBO ', 'KANGARI ', 'Pécs ', 'thika', 'KATSE',\n",
       "       'thika ', 'CHEBUNYO', 'OL JORO OROK ', 'MOBIL PLAZA', 'WAMUNYU ',\n",
       "       'MAGUNGA', 'RORET', 'YALA', 'KAHUHIA', \"KENOL MURANG'A\",\n",
       "       'Machakos', 'UKWALA', 'KALOLENI', 'JOONDALUP', 'MIGORI ',\n",
       "       'MARAGOLI', 'MARMANET', 'IKANGA', 'KINOO', 'OYUGIS ', 'LANGATA',\n",
       "       'Kiambu', 'Malindi', 'NAIROBI.', 'MAKUENI ', 'Bungoma ',\n",
       "       'GITHUNGURI ', 'MACHOKOS', 'KOMBEWA ', 'UTHIRU ', 'KITENGELA ',\n",
       "       'BANANA', 'CHEPKORIO', 'MASII ', 'Gitugi', '. ', 'RUIRY', 'Kisumu',\n",
       "       'MBUMBUNI-MACHAKOS', 'WAMUYU', 'siaya', 'Kakamega', 'TAITA TAVETA',\n",
       "       'Bumala', 'KIMENDE ', 'BRISTOL', 'MATUNDA', 'KARABA', 'SULTAN',\n",
       "       'GATURA', 'KASARANI ,NAIROBI ', 'NANDI', 'MAGUTUNI', 'CHUKA ',\n",
       "       'NGONG HILL', 'ngong', 'KIANGAI', 'MBITA', 'Mumias', 'KAMBITI',\n",
       "       'MUMBI', 'Juja', 'WODANGA', 'KIRIANI', 'KABARNET', 'MISIKHU',\n",
       "       'Thika', 'NYANSIONGO', 'nyeri ', 'NAIVASHA ', \"MURANG'A \",\n",
       "       'KAPCHENO', 'NGARA', 'MADARAKA', 'kitengela ', 'BONDO ', 'WAMUNYU',\n",
       "       'NYANDARUA', 'MOGOGOSIEK', '00', 'NAIROBI/JUJA', 'NA ', 'LUANDA',\n",
       "       'KLEMZIG', 'TEL AVIV', 'ongata rongai ', '30-60101 Manyatta ',\n",
       "       '12410 Nyeri', 'KATHONZWENI ', 'GITHURAI ', 'WESRN AUSTRALIA',\n",
       "       'SABASABA ', 'Gilgil ', 'ISEBANIA', 'KIRIAINI', 'MUTHETHENI ',\n",
       "       'Mombasa ', 'Kitengela', 'CARLIFONIA', 'NIL',\n",
       "       'NAIROBI, NAIROBI AREA, KENYA', 'SOY', 'Sabasaba', 'SABASABA',\n",
       "       'COLUMBIA', 'Homa Bay ', 'MARIMA', 'SEGA', 'KAYOLE', 'BUDD LAKE',\n",
       "       'KITHYOKO', 'KIJABE ', 'Mbale', 'KITHIMANI', 'HANOI', 'chuka',\n",
       "       'KILINDINI', 'MERY', 'CHELMSFORD', 'LOITOKITOK', 'MOSORIOT',\n",
       "       'IKONGE', 'ENGINEER', 'Othaya', 'Ahero', 'MWEA', 'JOSKA ',\n",
       "       'NGAMBWA', 'MASINGA', 'KINANGOP ', 'LONDON', 'KILELESHWA ',\n",
       "       'SARIT CENTRE', 'mgange ', 'ST. MARYS NSW', 'GESIMA', 'Migori ',\n",
       "       'KHWISERO', 'SYOKIMAU', 'MTITO ANDEI ', 'nakuru ', 'NAIROBI CITY',\n",
       "       'ATHIRIVER', 'KABATI', 'Kitale', 'MPEKETONI', 'YOANI',\n",
       "       'KABARTONJO', 'NAMANGA', 'CHESINENDE', 'BAHATI', 'NZEEKA',\n",
       "       'MATATHIA, KAMAE', 'RONALD NGALA ', 'KUBUKUBU', 'THOGOTO',\n",
       "       'GATORA', 'NAI ', 'KUJA,KIAMBU', 'Machakos ', 'AMAGORO', 'Uthiru',\n",
       "       'Naivasha', 'KEROKA ', 'MAZERAS', 'EGERTON', 'KASARANI', 'Kimende',\n",
       "       'WAJIR', 'DUBAI', 'TWO RIVERS', 'NDARAGWA ', 'EASTLEIGH', 'KAGIO',\n",
       "       'HOMA BAY', 'KISII, KENYA', 'Thika ', 'NGECHA', 'Kakamega ',\n",
       "       'KERINGET', 'FORT WAYNE', 'STAREHE', 'GILGIL ', 'KAWANGWARE',\n",
       "       'GPO NAIROBI', 'GITUGI', 'Tala', 'kakamega ', 'TEXAS', 'GACHIE',\n",
       "       'Syokimau', 'Sydney ', 'LESSOS', 'Meru ', 'KIPKAREN RIVER',\n",
       "       'SOSIOT', 'LAKEWOOD SEATTLE', 'Lodwar', 'Kitale ', 'Membley',\n",
       "       'chepkorio', 'Luanda', 'Kijabe ', 'TONGAREN', 'karuri ', 'malindi',\n",
       "       'Ogembo ', 'Maryland', 'Kisii Town ', 'kajiado ', 'LIKONI',\n",
       "       'wangige ', 'Ngong', 'OLKALOU ', '4597-20100 Nakuru', 'GARISSA',\n",
       "       'KIRIAINI ', 'SYOKIMAU L', 'Machakos, Kathiani', 'Kitui',\n",
       "       'AUSTRALIA', 'Bondo', 'Salama ', 'bomet ', 'Naivasha ',\n",
       "       'TOORMINA, NSW', 'Utawala', 'Ankara', 'MOISBRIDGE', 'nbo',\n",
       "       'Kijabe', 'KABAZI', 'P.O BOX 75-30105 SOY', 'kisumu', 'nyeri',\n",
       "       'Voi', 'Kanjuku', \"NG'IYA\", 'Muranga', 'Bournemouth ',\n",
       "       'SARE-AWENDO', 'narok', 'Ruiru ', 'Kilifi ', 'Meru',\n",
       "       'Ol-joro-orok', '152 30100 eldoret ', 'Mtwapa', 'Karuri',\n",
       "       'Kitengela ', 'Isiolo ', '38061-00623 Nairobi', 'Ngong Hills',\n",
       "       'RARIEDA', ' Nairobi County,', '187 Ngewa', 'NJAMBINI',\n",
       "       '25635 00603 Nairobi', 'GIKOE', 'kakamega', 'ISHIARA ',\n",
       "       'P. O. Box 111 Ruiru', 'Kibwezi', 'Syokimau ', 'kiambu ', 'Bomet ',\n",
       "       'Busia', 'Gilgil', 'LAMU', 'Kajiado ', 'makueni ', 'kisii',\n",
       "       'MERU 2274', 'TURKANA', 'Kilifi', 'nottingham', 'Embakasi',\n",
       "       'Masii - MACHAKOS', 'SEREM', 'Tala, Kangundo. ', 'Ugunja',\n",
       "       'Karatina', 'Migori', 'Berlin', 'KALAMBA', 'UKUNDA ', 'ruiru',\n",
       "       'Sondu', 'BUSIA - PORT VICTORIA ', 'Matuu.', 'Gatundu',\n",
       "       'Seasons Kasarani. ', 'KARUNGU', 'Kahawa Sukari', 'Kangundo ',\n",
       "       'mombasa ', 'St. Georges', 'maseno', 'KINDARUMA ',\n",
       "       'kakuma 1 Nuer community ', 'copenhagen', '549 LIMURU', 'Lamu',\n",
       "       'DRESDEN', 'Ol Kalou ', 'KIRIA-INI ', '123 KIKUYU', 'Kianyaga',\n",
       "       'Kasarani', 'Makueni ', 'KABETE', 'Sagana',\n",
       "       'Imani avenue, Ongata Rongai, Kajiado', 'LOS ANGELES', 'KAKUMA',\n",
       "       'kitengela', '56-10300 Kerugoya', 'Kalimoni P.o Box 178-01001',\n",
       "       'Nairobi, Komarock.', 'kilifi', 'NAIROBI, KITENGELA ',\n",
       "       '14 Lamina Avenue, Mill Park VIC 3082', 'kebirigo ', 'Darwin ',\n",
       "       'Kericho ', 'Nairibi', '782 - 00232 Ruiru', 'eldoret', 'Oyugis',\n",
       "       'Conroe', 'NAIROBI 572 00300', 'Eldama Ravine', 'Kabete ', 'Maua',\n",
       "       'Isiolo', '828-90200', 'Athens', 'Chicago ', 'Hola', 'Abu Dhabi ',\n",
       "       'Nyayo Estate, Court 521', 'Deanside', '452-00200, KIAMBU',\n",
       "       'KOBENHAUN', 'karuri', 'Nanyuki ', 'P.O. Box 2413-60200, Meru',\n",
       "       'Kenol', 'Wote', 'githunguri ', 'NAIROBI. 45095-00100', 'Serem',\n",
       "       'P.o.box 1298-00618 Ruaraka, Nairobi', 'Vienna ', 'karen',\n",
       "       'CHICAGO', 'GENEVA', 'Kiserian ', 'Kabarnet', 'RABAI',\n",
       "       'KIAMBU COUNTY', 'Uthiru Cooperation ', 'Githunguri ',\n",
       "       '79718-00200 NAIROBI', 'stockholm', '42 NDARAGWA',\n",
       "       'P.O. Box 103635-00101', 'Heuchlingen ', 'PORT VICTORIA',\n",
       "       'Doolandella, Australia', 'Grand Oyster Kileleshwa, Nairobi',\n",
       "       '10572-00200 NAIROBI', 'Wangige ', 'Siaya', 'Litein', 'Washington',\n",
       "       'Geneva', 'Winchester ', 'Mariashoni', 'Mwiki', 'Limuru ',\n",
       "       'Nairobi i', 'P O Box 898-00100 NAIROBI', 'KAWNGWARE NAIROBI ',\n",
       "       'rongai', 'Roysambu', 'NAIROBI UMOJA', 'kangema',\n",
       "       'P.O.Box 848-00208 NGONG', 'Braunschweig ', 'Wote MAKUENI',\n",
       "       '814_3 300 KAPSABET ', 'Box 2316 Machakos', 'Ruaraka', 'Nyahururu',\n",
       "       'Kenmore ', 'Melbourne ', '1711 Nyahururu', 'nanyuki',\n",
       "       'kawangware ', 'Narok', 'Githunguri', 'Mahindi ', 'Moncton',\n",
       "       'kERUGOYA', 'Homa Bay', 'Ukunda', 'Mukurweini ', 'Malindi ',\n",
       "       'narumoru', 'Juba', '01000-214 Thika', 'kabete ', 'Kajiado',\n",
       "       'NAROK ', 'Kapenguria ', 'Athi-river ', \"murang'a \", 'Gem',\n",
       "       'nyahururu ', 'Gachie ', 'Kirinyaga', ' Nairobi ', 'CALIFORNIA',\n",
       "       'Bomet', 'molo', 'Chuka', 'Nairobi, Kenya.', 'ANTONY',\n",
       "       'wite-makueni', 'ugunja', 'Matunda ', 'KARORI', 'kikuyu ',\n",
       "       'Shinyalu ', 'Molo', 'KIPKAREN', 'KANGUNDO ', 'LUTON', 'FLORIDA',\n",
       "       'NGEWA', 'SUSWA', 'USA', \"KENOL MURANG'A \", 'PUYALLUP WA USA',\n",
       "       'LAARE', 'P.O Box 30231 - 00100, Nairobi', 'Runyenjes',\n",
       "       'KENDUBAY ', 'Gigiri, Nairobi', 'GATUKUYU', 'BUNYALA', 'OKIA',\n",
       "       '3704 GPO NAIROBI ', 'RANGWE', 'KITUI KENYA', 'SAUDI ARABIA',\n",
       "       'JUJA KALIMONI', 'MSA', 'GAKUNYU', 'MIHARATI', 'KERUGOYA TOWN',\n",
       "       'RAGENGNI', 'mwingi ', 'NBI', 'IGOJI', 'KIMULOT', 'LONDIANI',\n",
       "       'CAMBRIDGE', 'KHAYEGA', 'NDUNYU NJERU ', '58-10205 Maragua',\n",
       "       'MALINDI ', 'Kasarani, Clay City', 'ATHI RIVER ', 'Sawagongo ',\n",
       "       'HELSINKI', 'GPO', 'BURNTFOREST', 'MATUNDA ', 'HARRISDALE',\n",
       "       'KARANDI', 'DUKHAN ', 'SONDU', 'EMBU, KENYA', 'NAIROBI KENYA',\n",
       "       'NANDI HILLS ', 'HAZELWOOD', 'MGANGE', 'LUCYSUMMER-NAIROBI',\n",
       "       'KUKUYU', 'NGONG ROAD', 'NYAYO STADIUM', 'Karen', 'makuyu',\n",
       "       'LOITIKITOK', 'Kenyenya', 'MUNICH ', 'tawa', 'FUNYULA',\n",
       "       'NOTTIGHAM', 'nanyuki ', 'Kenny Bay', 'MOMBSA', 'SHERWOOD',\n",
       "       'NDARAGWA', 'ongata rongai', 'BUMALA', 'MEITINGEN ', '80100',\n",
       "       'KOMBEWA', 'DOYSELDOR', 'NOTTINGHAM', 'VIENNA', 'KISERIAN KAJIADO',\n",
       "       'NAIROBI, KENYA', 'Mtwapa ', 'KEUMBU', 'Kerugoya Town', 'KAP ',\n",
       "       'UPPER HILL NAIROBI', 'MOI;S BRIDGE', 'ENTERPRISE  ROAD',\n",
       "       'THIONGO-NAIROBI', 'KATHONZWENI', 'UTAWALA', 'MIU ATHI-RIVER',\n",
       "       'CHAMAKANGA', 'NYAMACHE', 'NUERI', 'SULTAN HAMUD', 'NAROMORU ',\n",
       "       'NYAMIRA ', 'NAIROBI BURU', 'HAMBURG', 'TOWN ', '14 KADONGO 40223',\n",
       "       'Mois Bridge ', 'RUNYENJES ', 'MARAGWA', 'SURPRISE,USA',\n",
       "       'KALAMBA ', 'Ruai', 'KADONGO', 'TORONGO', 'NJABINI',\n",
       "       'GIGIRI, VILLAGE MARKET, NAIROBI', 'LAVINGTON', 'SPRING VALLEY',\n",
       "       'MBUMBUNI', 'NAIROBI MUNICIPALITY', 'NAIROBI,KENYA',\n",
       "       'Bamburi Mtambo ', 'GITHURAI', 'RUMURUTI',\n",
       "       'Kenyatta Highway, Nanyuki', 'MUTOMO', 'KENYATTA HOSPITAL',\n",
       "       'NAIROBI GENERAL POST OFFICE', 'LITIEN', 'LONDIANI ',\n",
       "       'ONGATA RONGAI NAIROBI', 'GATUNDU ', 'GAMBONI', 'NAIROB',\n",
       "       'L.KABETE', 'ATHI - RIVER', 'kerugoya ', 'Webuye ', 'Maralal',\n",
       "       'Andover', 'mombas', 'Kiambu 627-00900', 'Maragua',\n",
       "       'murang*a 10200-658', 'Syracuse', 'Karen Nairobi ',\n",
       "       'ontario, California 91764 ', 'Karlsruhe ', 'Nyamira ', 'Olkalau',\n",
       "       'GILGIL, KENYA', 'Kerugoya ',\n",
       "       '14 AV FERNAND FENZY92160  ANTONY FRANCE'], dtype=object)"
      ]
     },
     "execution_count": 13,
     "metadata": {},
     "output_type": "execute_result"
    }
   ],
   "source": [
    "df['town'].unique()"
   ]
  },
  {
   "cell_type": "code",
   "execution_count": 14,
   "metadata": {},
   "outputs": [
    {
     "data": {
      "text/plain": [
       "member_no                0\n",
       "reg_date              1863\n",
       "dob                  20038\n",
       "hse_no                   0\n",
       "gender                4667\n",
       "town               1048216\n",
       "relationship       1632933\n",
       "beneficiery_dob    1086598\n",
       "portfolio                9\n",
       "dtype: int64"
      ]
     },
     "execution_count": 14,
     "metadata": {},
     "output_type": "execute_result"
    }
   ],
   "source": [
    "df.isna().sum()"
   ]
  },
  {
   "cell_type": "code",
   "execution_count": 15,
   "metadata": {},
   "outputs": [
    {
     "data": {
      "text/plain": [
       "7407066"
      ]
     },
     "execution_count": 15,
     "metadata": {},
     "output_type": "execute_result"
    }
   ],
   "source": [
    "df.duplicated().sum()"
   ]
  },
  {
   "cell_type": "markdown",
   "metadata": {},
   "source": [
    "In the below code block, we drop duplicated values."
   ]
  },
  {
   "cell_type": "code",
   "execution_count": 16,
   "metadata": {},
   "outputs": [],
   "source": [
    "df = df.drop_duplicates()"
   ]
  },
  {
   "cell_type": "markdown",
   "metadata": {},
   "source": [
    "From our problem statement, we aim to cross sell investment products depending on Age, Gender and Location. Therefore, we are going to drop some columns which are irrelevant. e.g. hse_no, beneficiary_dob,reg_date."
   ]
  },
  {
   "cell_type": "code",
   "execution_count": 17,
   "metadata": {},
   "outputs": [],
   "source": [
    "df=df.drop(columns=['reg_date','hse_no'])"
   ]
  },
  {
   "cell_type": "code",
   "execution_count": 18,
   "metadata": {},
   "outputs": [
    {
     "data": {
      "text/plain": [
       "member_no              0\n",
       "dob                  238\n",
       "gender                82\n",
       "town               15026\n",
       "relationship       14308\n",
       "beneficiery_dob    13937\n",
       "portfolio              4\n",
       "dtype: int64"
      ]
     },
     "execution_count": 18,
     "metadata": {},
     "output_type": "execute_result"
    }
   ],
   "source": [
    "df.isna().sum()"
   ]
  },
  {
   "cell_type": "code",
   "execution_count": 19,
   "metadata": {},
   "outputs": [
    {
     "data": {
      "text/plain": [
       "array(['Partner', 'Sister', 'Husband ', 'Husband', 'Daughter', 'Brother ',\n",
       "       'Son', 'Daughter ', 'Wife', 'Father', 'Mother', 'Brother', 'son',\n",
       "       'mother', 'father', 'Mother ', 'SPOUSE', 'FRIEND', 'Spouse ',\n",
       "       'WIfe', 'Father ', 'Spouse', 'child', nan, 'Parent', 'wife',\n",
       "       'Wife ', 'Son ', 'spouse', 'doughter', 'CHILD', 'ParentChild',\n",
       "       'partner', 'brother', 'sister', 'MotheR', 'Friend', 'Child',\n",
       "       'Cousin', 'Dad', 'Mum', 'MOTHER', 'WIFE', 'Sister ', 'SON',\n",
       "       'BROTHER', 'FATHER', 'aunt ', 'Grandmother', 'HUSBAND', 'self',\n",
       "       'husband', 'husband ', 'Owner', ' Grand daughter', 'Nephew',\n",
       "       'SP0USE', 'Self', 'parent', 'SISTER', 'NIECE', 'Niece', 'daughter',\n",
       "       'Sibling', 'DAUGHTER', 'AUNT', 'brother ', '254701361835',\n",
       "       'Parent ', 'daughter ', 'FAITHER', 'Family ', 'SPOUSE ',\n",
       "       'Sibling ', 'PARENT', 'CONFIDANT', 'MUM', 'DAD', 'wife ', 'family',\n",
       "       'Trustee ', 'son ', 'mother ', 'MOTHER ', 'friend', 'spouse ',\n",
       "       'S0N', 'SISTER ', 'FATHER ', 'father ', 'FAMILY ', 'WifE',\n",
       "       'Partner ', 'daugther', '1226805243;130143346', 'relative',\n",
       "       'BROTHER ', 'Daighter', 'Advisor', 'SON ', 'AUNTIE', 'FIANCEE',\n",
       "       'Fiancee', 'DOUGHTER', 'parent ', 'HUSBAND ', 'DAUGHTER ', 'SELF',\n",
       "       'MOther', 'mOTHER', 'Aunt', 'Grandparent', 'Bother ', 'SO',\n",
       "       'married', 'MARRIED', 'FIANCE', 'Doughter ', 'Guardian ',\n",
       "       'ASS0CIATE', 'sibling', 'fiance', 'Sistet', 'Grandson', 'Doughter',\n",
       "       'DAUGTHER', 'wIFE', 'Bro', 'PARTNER', 'B INLAW', 'GUARDIAN',\n",
       "       'daughte', 'Mom', 'COUSIN', 'GRANDMA', 'aunt', 'Domestic Partner',\n",
       "       'PATNER', 'me', 'MENTOR', 'UNCLE', 'Sis', 'SiBLING', 'GRAND SON',\n",
       "       'Fiance ', 'KID', 'SIBLING', 'GRANDSON', 'Nephew ', '-', 'Cousin ',\n",
       "       'DAUGHETR', 'Person', 's0n', 'na', 'myson', 'PARTNER ', 'Bishop',\n",
       "       'nephew', 'mwas', 'Mothers', 'Friend ', 'Child ', 'daughter33',\n",
       "       'CLOSE FRIEND', 'hUSBAND', 'CLOSEFRIEND', 'Boyfriend ',\n",
       "       'dependant', 'WIFE ', 'MARRIAGE', 'GRAND DAUGHTER', 'DAUGHER',\n",
       "       'Niece ', 'granddaughter', 'grandson', 'DAUGHTER/CHILD',\n",
       "       'RELATIVE', 'mum', 'single', 'Self ', 'sister ', 'Mother TO SON',\n",
       "       'Grandfather', 'DAD ', 'Relative', 'Daughter-in-law ',\n",
       "       'GRANDMOTHER', 'child ', '15', 'DaD', 'GIRLFRIEND', 'FAMILY',\n",
       "       'Uncle ', 'SiNGLE', 'SINGLE', 'fiancee', 'FaMILY', 'BENEFICIARY',\n",
       "       'OWNER', 'Relative ', 'GRANDDAUGHTER', ' Spouse', 'uncle',\n",
       "       'Married ', 'chil', 'CHILD MINOR', '33', 'NEPHEW', 'JOINT PARTNER',\n",
       "       'MOTHERS ', 'Fiancé ', 'Others ', 'Grand daughter',\n",
       "       'DAUGHTER-IN-LAW', 'Na', 'CHILD ', 'SPIRITUAL FATHER', 'COUSN',\n",
       "       'DEPEDANT', 'Estate', 'Uncle', 'sISTER', 'sisiter', ' BROTHER',\n",
       "       'Granddaughter ', 'BRother', 'Aunt ', 'cousin', 'Baby', 'Morher',\n",
       "       'MOM', 'God mother', 'GRANDSON ', 'Husband/spouse', 'SPOUCE',\n",
       "       'uncle ', 'FRIEND ', 'Single', 'Vhild', 'Patner', 'Spouce',\n",
       "       'Family', 'SoN', 'SisteR', 'AUNTY', 'FATHER-IN-LAW', 'SonS', '0',\n",
       "       'MO9', 'Fiance', '33.4', 'CHILF', '254727756559', '0720401466',\n",
       "       'GRAND FATHER', 'PRINCIPAL', 'Guardian', 'JUNIOR',\n",
       "       'DGRAND DAUGHTER', 'COWORKER', 'GRAND MOTHER', 'D100', 'NMO',\n",
       "       'BUSINESS PARTNER', 'GURDIAN', '2021', 'MotH', 'MoM', 'UN,CLE',\n",
       "       'GRAND CHILD', 'Sister in law', 'Grand Daughter', 'COMAPANION',\n",
       "       'BOYFRIEND', 'EX-WIFE', 'GRANDDAUGTER', 'PARNT', 'M', 'F', 'Chils',\n",
       "       ';SON', 'GUARDINA', 'NiecE', 'Brother-IN-LAW', 'Member',\n",
       "       'Grand mother', 'ADMINISTRATOR', 'VM', 'GRANDFATHER', 'GIRLFRIED',\n",
       "       'Brestfriend', 'Finance', 'SIS', 'Daughter in law', 'children',\n",
       "       'Girlfriend', 'COLLEAGUE', 'TRUSTEE', '254708368426', 'Colleague',\n",
       "       'Sister-IN-LAW', 'GRAND-DAUGHTER', 'GRANNY', 'GRANDCHILD', \"'M\",\n",
       "       'spouce', 'SiLBLING', 'Siblings', 'Step-mother', 'Aunty', 'FREINF',\n",
       "       '50', '100', '254723993458', 'Cousins', 'Cousins ', 'ASSOCIATE',\n",
       "       'Fiane', 'guardian', 'Guadian', 'Confidant', 'Auntie', 'GRANDPA',\n",
       "       'mom', 'Brother in Law', 'BUSINESS PARTNER ', 'Spuose',\n",
       "       'Business Partner', 'Dating', 'IN LAW', 'STEP-MOM', 'Son/Brother',\n",
       "       'Chid', 'Granddaughter', 'niece', 'Son/SISTER', 'Grand Son',\n",
       "       'BrotheR', \"Nolan's Guardian\", \"Xena's Guardian\", 'Sister-in law',\n",
       "       'PARENTS', 'c/o', 'STEP MOTHER', 'NiCE', 'Ciru', 'DEPENDANT',\n",
       "       'som', 'GUARDIAN ', 'Dau`', 'Kid', 'PARENT ', 'CHILDREN',\n",
       "       'partner ', 'CLOUSIN', '19112004', 'twinsister', 'MINOR',\n",
       "       'Sister- Custodian', 'GRANSON', 'COMPANION', 'ENGAGED',\n",
       "       'WELL WISHER', 'PARNER', 'GRANCHILD', 'Trustee', 'Next of kin',\n",
       "       'SIIBLING', 'SIBLINGS', 'Foster daughter', 'ADMINSTRATOR',\n",
       "       'IN-LAW', 'Boyfriend', 'NepheW', 'EMPLOYEE', 'DIRECTORS',\n",
       "       'RELIGIOUS COMMUNITY', 'CUSTODIAN', 'C/O ARIANNA', 'Sister IN LAW',\n",
       "       'spose', 'SPAUSE', 'MEMBER', 'DomesticPartner', 'Grand-daughter',\n",
       "       'Brother-in-law', 'STEP-BROTHER', 'Mother to Evan', 'Sister-Inlaw',\n",
       "       'BUS. PARTNER', 'Sister(Guardian)', 'CONTACT PERSON', 'FatheR',\n",
       "       'Brother in law', 'Parwnt', 'M,', 'Sister-GUARDIAN', 'Grand Child',\n",
       "       'GODMOTHER', 'Sister-Guardian', 'Mother- Guardian', 'Grandchild',\n",
       "       'Grand son', 'CHLD', 'GRAND.DAUGHTER', 'GRAND-MOTHER', 'Parents',\n",
       "       'EX WIFE', 'Sister - Guardian', 'Step-Mother', 'FOSTER DAUGHTER',\n",
       "       'Grand-mother', 'God Mother', 'Mother-in-law', 'MEMBER ',\n",
       "       'B/S PARTNER', 'LAWYER', 'GRAND-SON', 'parents', 'Stepson',\n",
       "       'Contingent', 'grandmother', 'G/Daughter', 'Brother and sister',\n",
       "       'Sibbling', ' ', 'COUSIN ', 'DaughteR', 'SPUOSE', 'CHIILD',\n",
       "       'DSPOUSE', 'Executor', 'HU', 'EWIFE', 'SPOUDSE', 'SoPOUSE',\n",
       "       'grandchild', 'ChILD', '9266025', 'PARE NT', '254700442162',\n",
       "       'BEST FRIEND', 'SISTER IN LAW ', 'mather', 'SAVING PARTNER ',\n",
       "       'AUNTIE ', 'ParenChild', 'GIRLFRIEND ', 'SINGLE ', 'Parentchild',\n",
       "       'parentchild', 'SPOUSE20', 'Myself', 'FIACEE', 'SD',\n",
       "       'Grand mother ', 'Mother of child', 'Childnephew', 'FATH ',\n",
       "       'MY SON', 'BabyMother', 'CHID', 'GIRL FRIEND', 'chils', 'self ',\n",
       "       \"Mother's \", 'Mum ', 'aunty', 'SPouse', 'Auntie ', 'ChiLD',\n",
       "       'grandmother ', 'Grand daughter ', 'auntie', 'baby mama ', 'DA',\n",
       "       'BrOther', 'Fiancee ', 'In law', 'Colleague ', 'WiFE', 'owner',\n",
       "       'sON', 'Mather', 'Dauhgter', 'myself', 'Hubby', 'Sister in-law',\n",
       "       'Aunty ', 'Foster parent', 'grandson ', 'Wife/Guardian',\n",
       "       '21761402', 'GUARDIAN-MOTHER'], dtype=object)"
      ]
     },
     "execution_count": 19,
     "metadata": {},
     "output_type": "execute_result"
    }
   ],
   "source": [
    "df.relationship.unique()"
   ]
  },
  {
   "cell_type": "code",
   "execution_count": 20,
   "metadata": {},
   "outputs": [
    {
     "data": {
      "text/plain": [
       "\"mother                  18900 son                     18207 daughter                18010 sister                  12234 wife                    11190 husband                  9563 brother                  7768 father                   6738 spouse                   3311 child                    1567 parent                    627 friend                    393 niece                     369 nephew                    313 cousin                    309 aunt                      220 partner                   203 sibling                   199 fiance                    137 guardian                  117 fiancee                   100 uncle                      85 grandson                   74 grandmother                61 family                     51 self                       42 -                          40 estate                     39 grand daughter             31 dad                        29 granddaughter              29 mum                        27 girlfriend                 26 doughter                   25 relative                   18 boyfriend                  17 aunty                      16 grandchild                 16 business partner           15 member                     15 auntie                     14 sister in law              12 mom                        11 grandfather                11 gurdian                    11 kid                        10 so                         10 grand-daughter              9 grand mother                8 trustee                     8 s0n                         8 single                      7 grand child                 7 colleague                   7 spouce                      6 patner                      6 100                         5 parents                     5 0                           4 foster daughter             4 married                     4 dependant                   4 owner                       4 daughetr                    4 grand son                   4 grand-mother                4 na                          3 daugther                    3 in law                      3 spause                      3 grand father                3 daighter                    3 minor                       3 my son                      3 parentchild                 3 bus. partner                3 baby mama                   2 chils                       2 mother-in-law               2 in-law                      2 1226805243;130143346        2 sister-in-law               2 vhild                       2 parner                      2 sister in-law               2 god mother                  2 c/o arianna                 2 ex-wife                     2 grandma                     2 brother-in-law              2 mothers                     2 beneficiary                 2 step-mother                 2 sis                         2 m                           2 associate                   2 guardina                    2 contact person              2 depedant                    2 granddaugter                2 b/s partner                 2 children                    2 daugher                     2 siblings                    2 cousins                     2 son/brother                 2 chid                        2 daughter-in-law             2 spuose                      2 brother in law              2 myself                      2 confidant                   2 close friend                2 mather                      2 vm                          2 50                          2 girl friend                 2 sister-guardian             2 step mother                 1 sons                        1 person                      1 comapanion                  1 chil                        1 m,                          1 domesticpartner             1 sibbling                    1 others                      1 brestfriend                 1 moth                        1 spose                       1 mo9                         1 ass0ciate                   1 lawyer                      1 mother- guardian            1 bother                      1 freinf                      1 guadian                     1 15                          1 mentor                      1 sister-in law               1 administrator               1 19112004                    1 mother of child             1 spiritual father            1 sd                          1 grandpa                     1 'm                          1 254708368426                1 ciru                        1 33                          1 21761402                    1 step-mom                    1 c/o                         1 employee                    1 granchild                   1 silbling                    1 companion                   1 advisor                     1 g/daughter                  1 sister- custodian           1 254723993458                1 child minor                 1 fiancé                      1 fath                        1 bro                         1 godmother                   1 wife/guardian               1 stepson                     1 executor                    1 xena's guardian             1 mother to evan              1 chld                        1 cousn                       1 hubby                       1 best friend                 1 saving partner              1 da                          1 dspouse                     1 twinsister                  1 mother's                    1 sistet                      1 parwnt                      1 daughter/child              1 foster parent               1 nolan's guardian            1 254727756559                1 siibling                    1 finance                     1 ;son                        1 dating                      1 granny                      1 f                           1 granson                     1 grand.daughter              1 father-in-law               1 daughte                     1 b inlaw                     1 2021                        1 next of kin                 1 fiane                       1 daughter33                  1 sp0use                      1 dauhgter                    1 religious community         1 sisiter                     1 grandparent                 1 joint partner               1 contingent                  1 chiild                      1 marriage                    1 bishop                      1 9266025                     1 guardian-mother             1 mwas                        1 spoudse                     1 254701361835                1 0720401466                  1 clousin                     1 junior                      1 un,cle                      1 baby                        1 son/sister                  1 directors                   1 hu                          1 step-brother                1 principal                   1 closefriend                 1 nmo                         1 myson                       1 daughter in law             1 fiacee                      1 dgrand daughter             1 babymother                  1 dau`                        1 well wisher                 1 domestic partner            1 childnephew                 1 morher                      1 sister - guardian           1 sopouse                     1 me                          1 d100                        1 spouse20                    1 sister-inlaw                1 adminstrator                1 ewife                       1 sister(guardian)            1 nice                        1 ex wife                     1 254700442162                1 coworker                    1 mother to son               1 brother and sister          1 custodian                   1 33.4                        1 husband/spouse              1 chilf                       1 som                         1 grand-son                   1 parenchild                  1 parnt                       1 pare nt                     1 faither                     1 engaged                     1 girlfried                   1                             1\""
      ]
     },
     "execution_count": 20,
     "metadata": {},
     "output_type": "execute_result"
    }
   ],
   "source": [
    "df['relationship'] = df['relationship'].str.lower().str.strip()\n",
    "df['relationship'].value_counts().to_string().replace(\"\\n\", \" \")"
   ]
  },
  {
   "cell_type": "code",
   "execution_count": 21,
   "metadata": {},
   "outputs": [
    {
     "data": {
      "text/plain": [
       "0"
      ]
     },
     "execution_count": 21,
     "metadata": {},
     "output_type": "execute_result"
    }
   ],
   "source": [
    "df['relationship'] = df['relationship'].fillna('son')\n",
    "df['relationship'].isna().sum()\n"
   ]
  },
  {
   "cell_type": "code",
   "execution_count": 22,
   "metadata": {},
   "outputs": [
    {
     "name": "stdout",
     "output_type": "stream",
     "text": [
      "child           52152\n",
      "parent          26352\n",
      "partner         24578\n",
      "sibling         20240\n",
      "relative         1534\n",
      "friends           396\n",
      "other             392\n",
      "guardian          128\n",
      "professional       67\n",
      "self               49\n",
      "Name: relationship, dtype: int64\n"
     ]
    }
   ],
   "source": [
    "# Convert all entries to lower case and strip whitespace for uniformity\n",
    "df['relationship'] = df['relationship'].str.lower().str.strip()\n",
    "\n",
    "# Mapping dictionary\n",
    "relationship_map = {\n",
    "    'partner': [\n",
    "        'partner', 'spouse', 'sp0use','husband', 'wife', 'fiancee', 'ex-wife', 'spouce', 'fiancé',\n",
    "        'husband ', 'sponse', 'spouse ', 'wiFe', 'wifE', 'wife ', 'spouse', 'married', 'marriage',\n",
    "        'husband/spouse', 'ex-wife', 'fiance ', 'fiance', 'married ', 'myson', 'baby mama ',\n",
    "        'fiancee ', 'souse', 'hubby', 'dating', 'boyfriend', 'girlfriend', 'ex wife', 'boyfriend ',\n",
    "        'girlfriend ', 'wife/guardian', 'ex husband', 'girl friend', 'fiancée', 'sopouse', 'spoudse',\n",
    "        'soPOUSE', 'spause', 'sposue', 'ex husband', 'love', 'b/f', 'g/f', 'divorcee', 'ex spouse',\n",
    "        'bf', 'gf', 'b/f', 'g/f', 'fiancé ', 'domesticpartner', 'domestic partner', 'dating', 'exwife',\n",
    "        'exhusband', 'wive', 'husb', 'exspouse', 'partner ', 'significant other', 'fiancee','companion','Partner',\n",
    "        'Husband ', 'Husband',  'Wife',   'SPOUSE' , 'Spouse ', 'WIfe', 'Spouse',  'wife', 'Wife ', 'spouse', 'partner',\n",
    "        'HUSBAND', 'husband', 'husband ',  'SP0USE' , 'SPOUSE ',  'wife ',\n",
    "        'spouse ', 'Partner ' , 'FIANCEE', 'Fiancee',  'HUSBAND ',  'FIANCE', \n",
    "        'wIFE', 'PARTNER',  'Domestic Partner', 'PATNER', 'Fiance ', 'PARTNER ',  'hUSBAND',  'Boyfriend ',\n",
    "        'WIFE ', 'fiancee', 'JOINT PARTNER', 'Fiancé ' , 'Husband/spouse', 'SPOUCE',  'Patner', 'Spouce',  \n",
    "        'Fiance', 'BOYFRIEND', 'EX-WIFE',  'PARNT',  'GIRLFRIED'\n",
    "    ],\n",
    "    'child': [\n",
    "        'child', 'kid', 'daughter', 'son', 'children', 'daughter33', 'doughter', 'daugther', 'doughter ',\n",
    "        'daugther', 'son ', 'daughter ', 'child minor', 'kids', 'baby', 'infant', 'toddler', 'sonS',\n",
    "        'minor', 'child ', 'son/sister', 'chid', 'newborn', 'son/brother', 'childnephew',\n",
    "        'chils', 'chiLD', 'kID', 'dau`', 'daugher', 'childnephew', 'my son','child', 'son', 'dau', \n",
    "        'daughter', 'daughter33', 'my son', 'infant', 'childnephew', 'kids', 'baby', 'ChiLD', 'CHID',\n",
    "        'sON', 'cHILS', 'CHID', 'CHIILD', 'KID', 'FOSTER' 'DAUGHTER', 'CHILD MINOR', 'MINOR', 'CHILDREN', \n",
    "        'SOM', 'CHILDREN', 'JUNIOR', 'BABY',  'CHIL', 'DAUGHTER/CHILDDAUGHER', 'CHILF', 'DOUGHTER', 'DAIGHTER', \n",
    "        'DAUGHTE', 'DAUGHETR', 'S0N','MYSON','child','CHILD','Child ','DAUGHTER/CHILD','child ','CHILD MINOR',\n",
    "        'CHILD ','children','CHILDREN','ChILD','ChiLD'\n",
    "    ],\n",
    "    'parent': [\n",
    "        'mother', 'mom', 'mum', 'father', 'dad', 'parent', 'parents', 'mother ', 'father ', 'mOTHER',\n",
    "        'dad ', 'mum ', 'mom ', 'mummy', 'daddy', 'papa', 'mama', 'mother in law', 'father in law',\n",
    "        'mothers', 'fathers', 'moms', 'mums', 'father-in-law', 'mother-in-law', 'mommy', 'dadi', 'momi',\n",
    "        'parent ', 'mother to son', 'mother of child', 'parents', 'mother- guardian', 'father - guardian',\n",
    "        'parentchild', 'parental', 'parenthood', 'parenting', 'mother IN LAW', 'mom in law', 'dad in law',\n",
    "        'mum in law', 'parenting', 'fatherhood', 'motherhood', 'parent ', 'grandparent', 'step mother',\n",
    "        'step father', 'step-mother', 'step-father','Parent', 'Parents', 'Mother', 'Mothers', 'Mom', 'Mum', \n",
    "        'Father', 'DAD', 'Dad', 'Guardian', 'Grandmother', 'Grandfather', 'Step-mother', 'Step-father', 'Foster parent',\n",
    "        'Mother-in-law', 'Father-in-law', 'ParentChild', 'Mama', 'Mummy', 'Dadi', 'Mother TO SON', 'PARENT', 'MOther'\n",
    "    ],\n",
    "    'self': [\n",
    "        'self', 'owner', 'me', 'myself', 'self ', 'owner ', 'i', 'myself ', 'personal', 'individual',\n",
    "        'own', 'my own', 'self-employed', 'proprietor', 'me ', 'self employed', 'self own', 'personal account',\n",
    "        'my account', 'own account'\n",
    "    ],\n",
    "    'guardian': [\n",
    "        'guardian', 'custodian', 'trustee', 'guard', 'guardian ', 'custodian ', 'trustee ', 'guard ',\n",
    "        'legal guardian', 'guardianship', 'custodianship', 'trusteeship', 'protector', 'caregiver',\n",
    "        'conservator','conservator', 'foster parent', 'foster guardian', 'legal custodian', 'guardian-mother', 'guardian father'\n",
    "    ],\n",
    "    'sibling': [\n",
    "        'siblings', 'brother', 'sister', 'sibling', 'brother ', 'sister ', 'bro', 'sis', 'brothers', 'sisters',\n",
    "        'sibling ', 'brother-in-law', 'sister-in-law', 'sibling in law', 'brother and sister', 'sibbling',\n",
    "        'siBLING', 'sibblings', 'sister in law', 'brother in law', 'sister/guardian', 'sister - guardian',\n",
    "        'sister-guardian', 'bros', 'sisses', 'step-sister', 'step-brother', 'half-sister', 'half-brother', 'broski','Sister', 'Brother ','brother', 'sister',\n",
    "       'Sister ', 'SISTER','Sibling', 'brother ','Sibling ','SISTER ','Sistet', 'Bro', 'Sis', 'SiBLING',\n",
    "        'SIBLING',  's0n', 'sister ''sISTER', 'sisiter', ' BROTHER','BRother', 'SisteR', 'SIS', \n",
    "       'som',\n",
    "       'Sister- Custodian', \n",
    "       'SIIBLING', 'SIBLINGS','Brother and sister',\n",
    "       'Sibbling'\n",
    "    ],\n",
    "    'relative': [\n",
    "        'cousin', 'nephew', 'grand child', 'niece', 'grandmother', 'granddaughter', 'grandson', 'grandfather', 'uncles', 'aunties',\n",
    "        'aunt', 'uncle', 'granny', 'grandparent', 'grand child', 'relative', 'relatives', 'cousins', 'uncles',\n",
    "        'aunties', 'aunts', 'grandparents', 'great grandmother', 'great grandfather', 'grand children', 'extended family',\n",
    "        'grandmother ', 'grandfather ', 'nephew ', 'niece ', 'cousin ', 'aunt ', 'uncle ', 'granny ', 'granddaughter ',\n",
    "        'grandson ', 'grandchild', 'grandchild ', 'grandchildren', 'grandkids', 'great grandparent', 'ancestors', 'descendants',\n",
    "        'kin', 'kinship', 'next of kin', 'in-laws', 'inlaw', 'in laws', 'extended relatives', 'b inlaw', 'in law','family tree', 'Cousin', ' Grand daughter', 'Nephew', 'NIECE', 'Niece', 'AUNT', 'relative', 'AUNTIE', 'B INLAW', 'COUSIN', 'aunt', 'UNCLE', 'GRAND SON', 'Nephew ', 'Cousin ', 'nephew', 'GRAND DAUGHTER', 'Niece ', 'granddaughter', 'grandson', 'RELATIVE', 'Daughter-in-law ', 'GRANDMOTHER', 'Relative ', 'uncle',\n",
    "'NEPHEW', 'Grand daughter', 'DAUGHTER-IN-LAW', 'COUSN', 'Uncle', 'Granddaughter ', 'Aunt ', 'cousin', 'GRANDSON ', 'uncle ', 'AUNTY', 'FATHER-IN-LAW', 'GRAND FATHER', 'DGRAND DAUGHTER', 'GRAND MOTHER', 'UN,CLE', 'GRAND CHILD', 'Sister in law', 'Grand Daughter', 'GRANDDAUGTER', 'NiecE', 'Brother-IN-LAW', 'Grand mother', 'GRANDFATHER', 'Daughter in law', 'Sister-IN-LAW', 'GRAND-DAUGHTER', 'GRANNY', \n",
    "'GRANDCHILD', 'Aunty', 'Cousins', 'Cousins ', 'Auntie', 'GRANDPA', 'Brother in Law', 'IN LAW', 'Granddaughter', 'niece', 'Grand Son', 'Sister-in law', 'CLOUSIN', 'GRANSON', 'Sister IN LAW', 'Brother-in-law', 'Sister-Inlaw', 'Brother in law', 'GRAND-MOTHER', 'Grand-mother', 'Mother-in-law', 'SISTER IN LAW ', 'Grand mother ', 'Childnephew', 'Grand daughter ', 'auntie', 'In law', 'Sister in-law', 'Aunty '\n",
    "    ],\n",
    "    'friends': ['friend','closefriend', 'confidant', 'friend ',\n",
    "        'peers', 'acquaintance', 'comrade', 'pal', 'buddy', 'mate', 'fellow', 'ally', 'supporter',\n",
    "        'confidante', 'friend of the family', 'family friend',\n",
    "        'peer', 'companion', 'companions'\n",
    "    ],\n",
    "    'professional':['colleague', 'coworker', 'partner in law',\n",
    "        'associate', 'advisor', 'mentor', 'colleague ', 'coworker ',\n",
    "        'associate ', 'colleague', 'professional', 'mentor', 'adviser', 'counselor', 'legal representative', 'executor', 'business partner',\n",
    "        'co-worker', 'workmate', 'teammate',\n",
    "        'partner in business', 'business associate', 'collaborator', 'collegue','estate'\n",
    "    ],\n",
    "    'other': ['spiritual advisor','sponsor'\n",
    "    ]\n",
    "}\n",
    "\n",
    "# Function to apply the mapping\n",
    "def map_relationship(value):\n",
    "    for category, keywords in relationship_map.items():\n",
    "        if any(keyword == value for keyword in keywords):\n",
    "            return category\n",
    "    return 'other'  # Default category if no matches found\n",
    "\n",
    "# Apply the mapping function to the 'relationship' column\n",
    "df['relationship'] = df['relationship'].apply(map_relationship)\n",
    "\n",
    "# Show the value counts of each category\n",
    "print(df['relationship'].value_counts())"
   ]
  },
  {
   "cell_type": "code",
   "execution_count": 23,
   "metadata": {},
   "outputs": [
    {
     "data": {
      "text/plain": [
       "Index(['member_no', 'dob', 'gender', 'town', 'relationship', 'beneficiery_dob',\n",
       "       'portfolio'],\n",
       "      dtype='object')"
      ]
     },
     "execution_count": 23,
     "metadata": {},
     "output_type": "execute_result"
    }
   ],
   "source": [
    "df.columns"
   ]
  },
  {
   "cell_type": "code",
   "execution_count": 24,
   "metadata": {},
   "outputs": [
    {
     "data": {
      "text/plain": [
       "Female    83178\n",
       "Male      42480\n",
       "F            92\n",
       "M            48\n",
       "FEMALE        4\n",
       "MALE          4\n",
       "Name: gender, dtype: int64"
      ]
     },
     "execution_count": 24,
     "metadata": {},
     "output_type": "execute_result"
    }
   ],
   "source": [
    "df.gender.value_counts()"
   ]
  },
  {
   "cell_type": "code",
   "execution_count": 25,
   "metadata": {},
   "outputs": [
    {
     "data": {
      "text/plain": [
       "82"
      ]
     },
     "execution_count": 25,
     "metadata": {},
     "output_type": "execute_result"
    }
   ],
   "source": [
    "df.gender.isna().sum()"
   ]
  },
  {
   "cell_type": "code",
   "execution_count": 26,
   "metadata": {},
   "outputs": [
    {
     "data": {
      "text/plain": [
       "0"
      ]
     },
     "execution_count": 26,
     "metadata": {},
     "output_type": "execute_result"
    }
   ],
   "source": [
    "df['gender']=df.gender.fillna('Female')\n",
    "df['gender'].isna().sum()"
   ]
  },
  {
   "cell_type": "code",
   "execution_count": 27,
   "metadata": {},
   "outputs": [],
   "source": [
    "gender_map = {\n",
    "    'Female':'Female','F':'Female','FEMALE':'Female',\n",
    "    'Male':'Male','M':'Male','MALE':'Male',\n",
    "}\n",
    "\n",
    "df['gender_mapped'] = df['gender'].replace(gender_map)"
   ]
  },
  {
   "cell_type": "code",
   "execution_count": 28,
   "metadata": {},
   "outputs": [
    {
     "data": {
      "text/html": [
       "<div>\n",
       "<style scoped>\n",
       "    .dataframe tbody tr th:only-of-type {\n",
       "        vertical-align: middle;\n",
       "    }\n",
       "\n",
       "    .dataframe tbody tr th {\n",
       "        vertical-align: top;\n",
       "    }\n",
       "\n",
       "    .dataframe thead th {\n",
       "        text-align: right;\n",
       "    }\n",
       "</style>\n",
       "<table border=\"1\" class=\"dataframe\">\n",
       "  <thead>\n",
       "    <tr style=\"text-align: right;\">\n",
       "      <th></th>\n",
       "      <th>member_no</th>\n",
       "      <th>dob</th>\n",
       "      <th>gender</th>\n",
       "      <th>town</th>\n",
       "      <th>relationship</th>\n",
       "      <th>beneficiery_dob</th>\n",
       "      <th>portfolio</th>\n",
       "      <th>gender_mapped</th>\n",
       "    </tr>\n",
       "  </thead>\n",
       "  <tbody>\n",
       "    <tr>\n",
       "      <th>0</th>\n",
       "      <td>99996</td>\n",
       "      <td>1998-04-06 00:00:00</td>\n",
       "      <td>Female</td>\n",
       "      <td>NAIROBI</td>\n",
       "      <td>partner</td>\n",
       "      <td>1998-01-26</td>\n",
       "      <td>Money Market</td>\n",
       "      <td>Female</td>\n",
       "    </tr>\n",
       "    <tr>\n",
       "      <th>14</th>\n",
       "      <td>99996</td>\n",
       "      <td>1998-04-06 00:00:00</td>\n",
       "      <td>Female</td>\n",
       "      <td>NAIROBI</td>\n",
       "      <td>sibling</td>\n",
       "      <td>2001-03-04</td>\n",
       "      <td>Money Market</td>\n",
       "      <td>Female</td>\n",
       "    </tr>\n",
       "    <tr>\n",
       "      <th>28</th>\n",
       "      <td>99994</td>\n",
       "      <td>1966-01-01 00:00:00</td>\n",
       "      <td>Female</td>\n",
       "      <td>NaN</td>\n",
       "      <td>partner</td>\n",
       "      <td>1962-01-01</td>\n",
       "      <td>Money Market</td>\n",
       "      <td>Female</td>\n",
       "    </tr>\n",
       "    <tr>\n",
       "      <th>40</th>\n",
       "      <td>99993</td>\n",
       "      <td>1974-01-01 00:00:00</td>\n",
       "      <td>Female</td>\n",
       "      <td>NAIROBI</td>\n",
       "      <td>partner</td>\n",
       "      <td>1970-09-29</td>\n",
       "      <td>Money Market</td>\n",
       "      <td>Female</td>\n",
       "    </tr>\n",
       "    <tr>\n",
       "      <th>70</th>\n",
       "      <td>99993</td>\n",
       "      <td>1974-01-01 00:00:00</td>\n",
       "      <td>Female</td>\n",
       "      <td>NAIROBI</td>\n",
       "      <td>child</td>\n",
       "      <td>1994-01-01</td>\n",
       "      <td>Money Market</td>\n",
       "      <td>Female</td>\n",
       "    </tr>\n",
       "  </tbody>\n",
       "</table>\n",
       "</div>"
      ],
      "text/plain": [
       "    member_no                  dob  gender     town relationship  \\\n",
       "0       99996  1998-04-06 00:00:00  Female  NAIROBI      partner   \n",
       "14      99996  1998-04-06 00:00:00  Female  NAIROBI      sibling   \n",
       "28      99994  1966-01-01 00:00:00  Female      NaN      partner   \n",
       "40      99993  1974-01-01 00:00:00  Female  NAIROBI      partner   \n",
       "70      99993  1974-01-01 00:00:00  Female  NAIROBI        child   \n",
       "\n",
       "   beneficiery_dob     portfolio gender_mapped  \n",
       "0       1998-01-26  Money Market        Female  \n",
       "14      2001-03-04  Money Market        Female  \n",
       "28      1962-01-01  Money Market        Female  \n",
       "40      1970-09-29  Money Market        Female  \n",
       "70      1994-01-01  Money Market        Female  "
      ]
     },
     "execution_count": 28,
     "metadata": {},
     "output_type": "execute_result"
    }
   ],
   "source": [
    "df.head()"
   ]
  },
  {
   "cell_type": "code",
   "execution_count": 29,
   "metadata": {},
   "outputs": [
    {
     "data": {
      "text/plain": [
       "1962-01-01             541\n",
       "1960-01-01             360\n",
       "1968-01-01             320\n",
       "1970-01-01             311\n",
       "1974-01-01             311\n",
       "                      ... \n",
       "1975-12-22               1\n",
       "1965-10-28               1\n",
       "2002-06-13               1\n",
       "1981-02-14 00:00:00      1\n",
       "1969-03-02 00:00:00      1\n",
       "Name: dob, Length: 19092, dtype: int64"
      ]
     },
     "execution_count": 29,
     "metadata": {},
     "output_type": "execute_result"
    }
   ],
   "source": [
    "df.dob.value_counts()"
   ]
  },
  {
   "cell_type": "code",
   "execution_count": 30,
   "metadata": {},
   "outputs": [
    {
     "data": {
      "text/plain": [
       "1899-12-30             1854\n",
       "1962-01-01              584\n",
       "1970-01-01              562\n",
       "1960-01-01              488\n",
       "1963-01-01              475\n",
       "                       ... \n",
       "1957-04-07                1\n",
       "1957-10-05                1\n",
       "2022-02-16                1\n",
       "1983-07-06 00:00:00       1\n",
       "1979-01-17                1\n",
       "Name: beneficiery_dob, Length: 27488, dtype: int64"
      ]
     },
     "execution_count": 30,
     "metadata": {},
     "output_type": "execute_result"
    }
   ],
   "source": [
    "df.beneficiery_dob.value_counts()"
   ]
  },
  {
   "cell_type": "code",
   "execution_count": 31,
   "metadata": {},
   "outputs": [
    {
     "data": {
      "text/plain": [
       "0"
      ]
     },
     "execution_count": 31,
     "metadata": {},
     "output_type": "execute_result"
    }
   ],
   "source": [
    "df['dob'] = df.dob.fillna('1962-01-01')\n",
    "df.dob.isna().sum()"
   ]
  },
  {
   "cell_type": "code",
   "execution_count": 32,
   "metadata": {},
   "outputs": [],
   "source": [
    "from datetime import datetime"
   ]
  },
  {
   "cell_type": "code",
   "execution_count": 33,
   "metadata": {},
   "outputs": [
    {
     "name": "stdout",
     "output_type": "stream",
     "text": [
      "          dob  member_age beneficiery_dob  beneficiery_age\n",
      "0  1998-04-06          26      1998-01-26             26.0\n",
      "14 1998-04-06          26      2001-03-04             23.0\n",
      "28 1966-01-01          58      1962-01-01             62.0\n",
      "40 1974-01-01          50      1970-09-29             54.0\n",
      "70 1974-01-01          50      1994-01-01             30.0\n"
     ]
    }
   ],
   "source": [
    "# Convert the dob column to datetime format\n",
    "df['dob'] = pd.to_datetime(df['dob'], errors='coerce')\n",
    "\n",
    "# Function to calculate age\n",
    "def calculate_age(birth_date):\n",
    "    if pd.isnull(birth_date):\n",
    "        return None\n",
    "    today = datetime.today()\n",
    "    return today.year - birth_date.year - ((today.month, today.day) < (birth_date.month, birth_date.day))\n",
    "\n",
    "# Apply the function to calculate member age\n",
    "df['member_age'] = df['dob'].apply(calculate_age)\n",
    "\n",
    "# Convert beneficiery_dob column to datetime and calculate beneficiary age similarly\n",
    "df['beneficiery_dob'] = pd.to_datetime(df['beneficiery_dob'], errors='coerce')\n",
    "df['beneficiery_age'] = df['beneficiery_dob'].apply(calculate_age)\n",
    "\n",
    "# Check results\n",
    "print(df[['dob', 'member_age', 'beneficiery_dob', 'beneficiery_age']].head())"
   ]
  },
  {
   "cell_type": "code",
   "execution_count": 34,
   "metadata": {},
   "outputs": [
    {
     "data": {
      "text/plain": [
       "count    111951.000000\n",
       "mean         37.973855\n",
       "std          22.104173\n",
       "min        -178.000000\n",
       "25%          24.000000\n",
       "50%          36.000000\n",
       "75%          53.000000\n",
       "max         329.000000\n",
       "Name: beneficiery_age, dtype: float64"
      ]
     },
     "execution_count": 34,
     "metadata": {},
     "output_type": "execute_result"
    }
   ],
   "source": [
    "df.beneficiery_age.describe()"
   ]
  },
  {
   "cell_type": "code",
   "execution_count": 35,
   "metadata": {},
   "outputs": [
    {
     "data": {
      "text/plain": [
       "Money Market     119710\n",
       "Equity Fund        2014\n",
       "Dollar Fund        1480\n",
       "Balanced Fund      1180\n",
       "Fixed Income       1101\n",
       "Wealth Fund         398\n",
       "MoneyMarket           1\n",
       "Name: portfolio, dtype: int64"
      ]
     },
     "execution_count": 35,
     "metadata": {},
     "output_type": "execute_result"
    }
   ],
   "source": [
    "df.portfolio.value_counts()"
   ]
  },
  {
   "cell_type": "code",
   "execution_count": 36,
   "metadata": {},
   "outputs": [
    {
     "data": {
      "text/plain": [
       "0"
      ]
     },
     "execution_count": 36,
     "metadata": {},
     "output_type": "execute_result"
    }
   ],
   "source": [
    "df['portfolio']=df.portfolio.fillna('Money Market')\n",
    "df.portfolio.isna().sum()"
   ]
  },
  {
   "cell_type": "code",
   "execution_count": 37,
   "metadata": {},
   "outputs": [],
   "source": [
    "portfolio_map ={\n",
    "    'Money Mrket':'Money Market','MoneyMarket':'Money Market',\n",
    "    'Equity Fund':'Equity Fund',\n",
    "    'Dollar Fund':'Dollar Fund',\n",
    "    'Balanced Fund':'Balanced Fund',\n",
    "    'Fixed Income':'Fixed Income',\n",
    "    'Wealth Fund':'Wealth Fund',\n",
    "}\n",
    "df['portfolio_map'] = df['portfolio'].replace(portfolio_map)"
   ]
  },
  {
   "cell_type": "code",
   "execution_count": 38,
   "metadata": {},
   "outputs": [
    {
     "data": {
      "text/html": [
       "<div>\n",
       "<style scoped>\n",
       "    .dataframe tbody tr th:only-of-type {\n",
       "        vertical-align: middle;\n",
       "    }\n",
       "\n",
       "    .dataframe tbody tr th {\n",
       "        vertical-align: top;\n",
       "    }\n",
       "\n",
       "    .dataframe thead th {\n",
       "        text-align: right;\n",
       "    }\n",
       "</style>\n",
       "<table border=\"1\" class=\"dataframe\">\n",
       "  <thead>\n",
       "    <tr style=\"text-align: right;\">\n",
       "      <th></th>\n",
       "      <th>member_no</th>\n",
       "      <th>dob</th>\n",
       "      <th>gender</th>\n",
       "      <th>town</th>\n",
       "      <th>relationship</th>\n",
       "      <th>beneficiery_dob</th>\n",
       "      <th>portfolio</th>\n",
       "      <th>gender_mapped</th>\n",
       "      <th>member_age</th>\n",
       "      <th>beneficiery_age</th>\n",
       "      <th>portfolio_map</th>\n",
       "    </tr>\n",
       "  </thead>\n",
       "  <tbody>\n",
       "    <tr>\n",
       "      <th>0</th>\n",
       "      <td>99996</td>\n",
       "      <td>1998-04-06</td>\n",
       "      <td>Female</td>\n",
       "      <td>NAIROBI</td>\n",
       "      <td>partner</td>\n",
       "      <td>1998-01-26</td>\n",
       "      <td>Money Market</td>\n",
       "      <td>Female</td>\n",
       "      <td>26</td>\n",
       "      <td>26.0</td>\n",
       "      <td>Money Market</td>\n",
       "    </tr>\n",
       "    <tr>\n",
       "      <th>14</th>\n",
       "      <td>99996</td>\n",
       "      <td>1998-04-06</td>\n",
       "      <td>Female</td>\n",
       "      <td>NAIROBI</td>\n",
       "      <td>sibling</td>\n",
       "      <td>2001-03-04</td>\n",
       "      <td>Money Market</td>\n",
       "      <td>Female</td>\n",
       "      <td>26</td>\n",
       "      <td>23.0</td>\n",
       "      <td>Money Market</td>\n",
       "    </tr>\n",
       "    <tr>\n",
       "      <th>28</th>\n",
       "      <td>99994</td>\n",
       "      <td>1966-01-01</td>\n",
       "      <td>Female</td>\n",
       "      <td>NaN</td>\n",
       "      <td>partner</td>\n",
       "      <td>1962-01-01</td>\n",
       "      <td>Money Market</td>\n",
       "      <td>Female</td>\n",
       "      <td>58</td>\n",
       "      <td>62.0</td>\n",
       "      <td>Money Market</td>\n",
       "    </tr>\n",
       "    <tr>\n",
       "      <th>40</th>\n",
       "      <td>99993</td>\n",
       "      <td>1974-01-01</td>\n",
       "      <td>Female</td>\n",
       "      <td>NAIROBI</td>\n",
       "      <td>partner</td>\n",
       "      <td>1970-09-29</td>\n",
       "      <td>Money Market</td>\n",
       "      <td>Female</td>\n",
       "      <td>50</td>\n",
       "      <td>54.0</td>\n",
       "      <td>Money Market</td>\n",
       "    </tr>\n",
       "    <tr>\n",
       "      <th>70</th>\n",
       "      <td>99993</td>\n",
       "      <td>1974-01-01</td>\n",
       "      <td>Female</td>\n",
       "      <td>NAIROBI</td>\n",
       "      <td>child</td>\n",
       "      <td>1994-01-01</td>\n",
       "      <td>Money Market</td>\n",
       "      <td>Female</td>\n",
       "      <td>50</td>\n",
       "      <td>30.0</td>\n",
       "      <td>Money Market</td>\n",
       "    </tr>\n",
       "  </tbody>\n",
       "</table>\n",
       "</div>"
      ],
      "text/plain": [
       "    member_no        dob  gender     town relationship beneficiery_dob  \\\n",
       "0       99996 1998-04-06  Female  NAIROBI      partner      1998-01-26   \n",
       "14      99996 1998-04-06  Female  NAIROBI      sibling      2001-03-04   \n",
       "28      99994 1966-01-01  Female      NaN      partner      1962-01-01   \n",
       "40      99993 1974-01-01  Female  NAIROBI      partner      1970-09-29   \n",
       "70      99993 1974-01-01  Female  NAIROBI        child      1994-01-01   \n",
       "\n",
       "       portfolio gender_mapped  member_age  beneficiery_age portfolio_map  \n",
       "0   Money Market        Female          26             26.0  Money Market  \n",
       "14  Money Market        Female          26             23.0  Money Market  \n",
       "28  Money Market        Female          58             62.0  Money Market  \n",
       "40  Money Market        Female          50             54.0  Money Market  \n",
       "70  Money Market        Female          50             30.0  Money Market  "
      ]
     },
     "execution_count": 38,
     "metadata": {},
     "output_type": "execute_result"
    }
   ],
   "source": [
    "df.head()"
   ]
  },
  {
   "cell_type": "code",
   "execution_count": 39,
   "metadata": {},
   "outputs": [
    {
     "data": {
      "text/plain": [
       "15026"
      ]
     },
     "execution_count": 39,
     "metadata": {},
     "output_type": "execute_result"
    }
   ],
   "source": [
    "df.town.isna().sum()"
   ]
  },
  {
   "cell_type": "code",
   "execution_count": 40,
   "metadata": {},
   "outputs": [
    {
     "data": {
      "text/plain": [
       "NAIROBI       56997\n",
       "Nairobi       10261\n",
       "THIKA          3000\n",
       "NAKURU         2608\n",
       "MOMBASA        2440\n",
       "              ...  \n",
       "Karlsruhe         1\n",
       "MARIMANTI         1\n",
       "KANJUKU           1\n",
       "Sydney            1\n",
       "TWO RIVERS        1\n",
       "Name: town, Length: 973, dtype: int64"
      ]
     },
     "execution_count": 40,
     "metadata": {},
     "output_type": "execute_result"
    }
   ],
   "source": [
    "df.town.value_counts()"
   ]
  },
  {
   "cell_type": "code",
   "execution_count": 41,
   "metadata": {},
   "outputs": [
    {
     "data": {
      "text/plain": [
       "0"
      ]
     },
     "execution_count": 41,
     "metadata": {},
     "output_type": "execute_result"
    }
   ],
   "source": [
    "df['town'] = df.town.fillna('Unknown')\n",
    "df.town.isna().sum()"
   ]
  },
  {
   "cell_type": "code",
   "execution_count": 42,
   "metadata": {},
   "outputs": [
    {
     "data": {
      "text/html": [
       "<div>\n",
       "<style scoped>\n",
       "    .dataframe tbody tr th:only-of-type {\n",
       "        vertical-align: middle;\n",
       "    }\n",
       "\n",
       "    .dataframe tbody tr th {\n",
       "        vertical-align: top;\n",
       "    }\n",
       "\n",
       "    .dataframe thead th {\n",
       "        text-align: right;\n",
       "    }\n",
       "</style>\n",
       "<table border=\"1\" class=\"dataframe\">\n",
       "  <thead>\n",
       "    <tr style=\"text-align: right;\">\n",
       "      <th></th>\n",
       "      <th>member_no</th>\n",
       "      <th>dob</th>\n",
       "      <th>gender</th>\n",
       "      <th>town</th>\n",
       "      <th>relationship</th>\n",
       "      <th>beneficiery_dob</th>\n",
       "      <th>portfolio</th>\n",
       "      <th>gender_mapped</th>\n",
       "      <th>member_age</th>\n",
       "      <th>beneficiery_age</th>\n",
       "      <th>portfolio_map</th>\n",
       "    </tr>\n",
       "  </thead>\n",
       "  <tbody>\n",
       "    <tr>\n",
       "      <th>0</th>\n",
       "      <td>99996</td>\n",
       "      <td>1998-04-06</td>\n",
       "      <td>Female</td>\n",
       "      <td>NAIROBI</td>\n",
       "      <td>partner</td>\n",
       "      <td>1998-01-26</td>\n",
       "      <td>Money Market</td>\n",
       "      <td>Female</td>\n",
       "      <td>26</td>\n",
       "      <td>26.0</td>\n",
       "      <td>Money Market</td>\n",
       "    </tr>\n",
       "    <tr>\n",
       "      <th>14</th>\n",
       "      <td>99996</td>\n",
       "      <td>1998-04-06</td>\n",
       "      <td>Female</td>\n",
       "      <td>NAIROBI</td>\n",
       "      <td>sibling</td>\n",
       "      <td>2001-03-04</td>\n",
       "      <td>Money Market</td>\n",
       "      <td>Female</td>\n",
       "      <td>26</td>\n",
       "      <td>23.0</td>\n",
       "      <td>Money Market</td>\n",
       "    </tr>\n",
       "    <tr>\n",
       "      <th>28</th>\n",
       "      <td>99994</td>\n",
       "      <td>1966-01-01</td>\n",
       "      <td>Female</td>\n",
       "      <td>Unknown</td>\n",
       "      <td>partner</td>\n",
       "      <td>1962-01-01</td>\n",
       "      <td>Money Market</td>\n",
       "      <td>Female</td>\n",
       "      <td>58</td>\n",
       "      <td>62.0</td>\n",
       "      <td>Money Market</td>\n",
       "    </tr>\n",
       "    <tr>\n",
       "      <th>40</th>\n",
       "      <td>99993</td>\n",
       "      <td>1974-01-01</td>\n",
       "      <td>Female</td>\n",
       "      <td>NAIROBI</td>\n",
       "      <td>partner</td>\n",
       "      <td>1970-09-29</td>\n",
       "      <td>Money Market</td>\n",
       "      <td>Female</td>\n",
       "      <td>50</td>\n",
       "      <td>54.0</td>\n",
       "      <td>Money Market</td>\n",
       "    </tr>\n",
       "    <tr>\n",
       "      <th>70</th>\n",
       "      <td>99993</td>\n",
       "      <td>1974-01-01</td>\n",
       "      <td>Female</td>\n",
       "      <td>NAIROBI</td>\n",
       "      <td>child</td>\n",
       "      <td>1994-01-01</td>\n",
       "      <td>Money Market</td>\n",
       "      <td>Female</td>\n",
       "      <td>50</td>\n",
       "      <td>30.0</td>\n",
       "      <td>Money Market</td>\n",
       "    </tr>\n",
       "  </tbody>\n",
       "</table>\n",
       "</div>"
      ],
      "text/plain": [
       "    member_no        dob  gender     town relationship beneficiery_dob  \\\n",
       "0       99996 1998-04-06  Female  NAIROBI      partner      1998-01-26   \n",
       "14      99996 1998-04-06  Female  NAIROBI      sibling      2001-03-04   \n",
       "28      99994 1966-01-01  Female  Unknown      partner      1962-01-01   \n",
       "40      99993 1974-01-01  Female  NAIROBI      partner      1970-09-29   \n",
       "70      99993 1974-01-01  Female  NAIROBI        child      1994-01-01   \n",
       "\n",
       "       portfolio gender_mapped  member_age  beneficiery_age portfolio_map  \n",
       "0   Money Market        Female          26             26.0  Money Market  \n",
       "14  Money Market        Female          26             23.0  Money Market  \n",
       "28  Money Market        Female          58             62.0  Money Market  \n",
       "40  Money Market        Female          50             54.0  Money Market  \n",
       "70  Money Market        Female          50             30.0  Money Market  "
      ]
     },
     "execution_count": 42,
     "metadata": {},
     "output_type": "execute_result"
    }
   ],
   "source": [
    "df.head()"
   ]
  },
  {
   "cell_type": "code",
   "execution_count": 43,
   "metadata": {},
   "outputs": [
    {
     "data": {
      "text/html": [
       "<div>\n",
       "<style scoped>\n",
       "    .dataframe tbody tr th:only-of-type {\n",
       "        vertical-align: middle;\n",
       "    }\n",
       "\n",
       "    .dataframe tbody tr th {\n",
       "        vertical-align: top;\n",
       "    }\n",
       "\n",
       "    .dataframe thead th {\n",
       "        text-align: right;\n",
       "    }\n",
       "</style>\n",
       "<table border=\"1\" class=\"dataframe\">\n",
       "  <thead>\n",
       "    <tr style=\"text-align: right;\">\n",
       "      <th></th>\n",
       "      <th>member_no</th>\n",
       "      <th>town</th>\n",
       "      <th>relationship</th>\n",
       "      <th>gender_mapped</th>\n",
       "      <th>member_age</th>\n",
       "      <th>beneficiery_age</th>\n",
       "      <th>portfolio_map</th>\n",
       "    </tr>\n",
       "  </thead>\n",
       "  <tbody>\n",
       "    <tr>\n",
       "      <th>0</th>\n",
       "      <td>99996</td>\n",
       "      <td>NAIROBI</td>\n",
       "      <td>partner</td>\n",
       "      <td>Female</td>\n",
       "      <td>26</td>\n",
       "      <td>26.0</td>\n",
       "      <td>Money Market</td>\n",
       "    </tr>\n",
       "    <tr>\n",
       "      <th>14</th>\n",
       "      <td>99996</td>\n",
       "      <td>NAIROBI</td>\n",
       "      <td>sibling</td>\n",
       "      <td>Female</td>\n",
       "      <td>26</td>\n",
       "      <td>23.0</td>\n",
       "      <td>Money Market</td>\n",
       "    </tr>\n",
       "    <tr>\n",
       "      <th>28</th>\n",
       "      <td>99994</td>\n",
       "      <td>Unknown</td>\n",
       "      <td>partner</td>\n",
       "      <td>Female</td>\n",
       "      <td>58</td>\n",
       "      <td>62.0</td>\n",
       "      <td>Money Market</td>\n",
       "    </tr>\n",
       "    <tr>\n",
       "      <th>40</th>\n",
       "      <td>99993</td>\n",
       "      <td>NAIROBI</td>\n",
       "      <td>partner</td>\n",
       "      <td>Female</td>\n",
       "      <td>50</td>\n",
       "      <td>54.0</td>\n",
       "      <td>Money Market</td>\n",
       "    </tr>\n",
       "    <tr>\n",
       "      <th>70</th>\n",
       "      <td>99993</td>\n",
       "      <td>NAIROBI</td>\n",
       "      <td>child</td>\n",
       "      <td>Female</td>\n",
       "      <td>50</td>\n",
       "      <td>30.0</td>\n",
       "      <td>Money Market</td>\n",
       "    </tr>\n",
       "  </tbody>\n",
       "</table>\n",
       "</div>"
      ],
      "text/plain": [
       "    member_no     town relationship gender_mapped  member_age  \\\n",
       "0       99996  NAIROBI      partner        Female          26   \n",
       "14      99996  NAIROBI      sibling        Female          26   \n",
       "28      99994  Unknown      partner        Female          58   \n",
       "40      99993  NAIROBI      partner        Female          50   \n",
       "70      99993  NAIROBI        child        Female          50   \n",
       "\n",
       "    beneficiery_age portfolio_map  \n",
       "0              26.0  Money Market  \n",
       "14             23.0  Money Market  \n",
       "28             62.0  Money Market  \n",
       "40             54.0  Money Market  \n",
       "70             30.0  Money Market  "
      ]
     },
     "execution_count": 43,
     "metadata": {},
     "output_type": "execute_result"
    }
   ],
   "source": [
    "new_df=df.drop(columns=['dob','gender','portfolio','beneficiery_dob'])\n",
    "new_df.head()"
   ]
  },
  {
   "cell_type": "code",
   "execution_count": 44,
   "metadata": {},
   "outputs": [],
   "source": [
    "new_df['member_age'].fillna(new_df['member_age'].mode()[0], inplace=True)\n",
    "new_df['beneficiery_age'].fillna(new_df['beneficiery_age'].mode()[0], inplace=True)"
   ]
  },
  {
   "cell_type": "code",
   "execution_count": 45,
   "metadata": {},
   "outputs": [],
   "source": [
    "# Set reasonable age bounds\n",
    "lower_bound = 0\n",
    "upper_bound = 100\n",
    "\n",
    "# Create a copy of original ages for comparison if needed\n",
    "original_ages = new_df['beneficiery_age'].copy()\n",
    "\n",
    "# Replace outliers by clipping to bounds\n",
    "new_df['beneficiery_age'] = new_df['beneficiery_age'].clip(lower=lower_bound, upper=upper_bound)"
   ]
  },
  {
   "cell_type": "code",
   "execution_count": 46,
   "metadata": {},
   "outputs": [],
   "source": [
    "import matplotlib.pyplot as plt\n",
    "import seaborn as sns"
   ]
  },
  {
   "cell_type": "code",
   "execution_count": 47,
   "metadata": {},
   "outputs": [
    {
     "data": {
      "image/png": "[encoded data removed]",
      "text/plain": [
       "<Figure size 720x432 with 1 Axes>"
      ]
     },
     "metadata": {
      "needs_background": "light"
     },
     "output_type": "display_data"
    }
   ],
   "source": [
    "average_age = new_df.groupby('portfolio_map')['member_age'].mean().reset_index()\n",
    "\n",
    "plt.figure(figsize=(10, 6))\n",
    "sns.barplot(x='portfolio_map', y='member_age', data=average_age)\n",
    "plt.title('Average Age by Portfolio Map')\n",
    "plt.xlabel('Portfolio Map')\n",
    "plt.ylabel('Average Age')\n",
    "plt.show()\n"
   ]
  },
  {
   "cell_type": "code",
   "execution_count": 48,
   "metadata": {},
   "outputs": [
    {
     "data": {
      "text/plain": [
       "Index(['member_no', 'town', 'relationship', 'gender_mapped', 'member_age',\n",
       "       'beneficiery_age', 'portfolio_map'],\n",
       "      dtype='object')"
      ]
     },
     "execution_count": 48,
     "metadata": {},
     "output_type": "execute_result"
    }
   ],
   "source": [
    "new_df.columns"
   ]
  },
  {
   "cell_type": "code",
   "execution_count": 49,
   "metadata": {},
   "outputs": [],
   "source": [
    "new_df.to_csv('cleaned_data.csv', index=False)"
   ]
  },
  {
   "cell_type": "code",
   "execution_count": 50,
   "metadata": {},
   "outputs": [
    {
     "name": "stdout",
     "output_type": "stream",
     "text": [
      "<class 'pandas.core.frame.DataFrame'>\n",
      "Int64Index: 125888 entries, 0 to 7532842\n",
      "Data columns (total 7 columns):\n",
      " #   Column           Non-Null Count   Dtype  \n",
      "---  ------           --------------   -----  \n",
      " 0   member_no        125888 non-null  int64  \n",
      " 1   town             125888 non-null  object \n",
      " 2   relationship     125888 non-null  object \n",
      " 3   gender_mapped    125888 non-null  object \n",
      " 4   member_age       125888 non-null  int64  \n",
      " 5   beneficiery_age  125888 non-null  float64\n",
      " 6   portfolio_map    125888 non-null  object \n",
      "dtypes: float64(1), int64(2), object(4)\n",
      "memory usage: 7.7+ MB\n"
     ]
    }
   ],
   "source": [
    "new_df.info()"
   ]
  },
  {
   "cell_type": "code",
   "execution_count": 51,
   "metadata": {},
   "outputs": [
    {
     "data": {
      "image/png": "[encoded data removed]",
      "text/plain": [
       "<Figure size 576x432 with 1 Axes>"
      ]
     },
     "metadata": {
      "needs_background": "light"
     },
     "output_type": "display_data"
    }
   ],
   "source": [
    "plt.figure(figsize=(8, 6))\n",
    "sns.countplot(data=new_df, x='gender_mapped', palette='viridis')\n",
    "plt.title('Male vs Female Count in Gender Mapped')\n",
    "plt.xlabel('Gender')\n",
    "plt.ylabel('Count')\n",
    "plt.show()"
   ]
  },
  {
   "cell_type": "code",
   "execution_count": 52,
   "metadata": {},
   "outputs": [
    {
     "data": {
      "image/png": "[encoded data removed]",
      "text/plain": [
       "<Figure size 720x432 with 1 Axes>"
      ]
     },
     "metadata": {
      "needs_background": "light"
     },
     "output_type": "display_data"
    }
   ],
   "source": [
    "plt.figure(figsize=(10, 6))\n",
    "sns.countplot(data=new_df, x='gender_mapped', hue='portfolio_map', palette='viridis')\n",
    "plt.title('Gender vs Portfolio Map')\n",
    "plt.xlabel('Gender')\n",
    "plt.ylabel('Count')\n",
    "plt.legend(title='Portfolio Map')\n",
    "plt.show()"
   ]
  },
  {
   "cell_type": "code",
   "execution_count": 53,
   "metadata": {},
   "outputs": [
    {
     "data": {
      "image/png": "[encoded data removed]",
      "text/plain": [
       "<Figure size 720x720 with 1 Axes>"
      ]
     },
     "metadata": {},
     "output_type": "display_data"
    }
   ],
   "source": [
    "age_bins = [0, 18, 30, 45, 60, 100]\n",
    "age_labels = ['0-18', '19-30', '31-45', '46-60', '60+']\n",
    "new_df['age_group'] = pd.cut(new_df['member_age'], bins=age_bins, labels=age_labels)\n",
    "age_counts = new_df['age_group'].value_counts().sort_index()\n",
    "plt.figure(figsize=(10, 10))\n",
    "plt.pie(age_counts, labels=age_counts.index, autopct='%1.1f%%', startangle=140, colors=sns.color_palette('viridis'))\n",
    "plt.title('Members Age Groups Distribution')\n",
    "plt.show()"
   ]
  },
  {
   "cell_type": "code",
   "execution_count": 54,
   "metadata": {},
   "outputs": [
    {
     "data": {
      "image/png": "[encoded data removed]",
      "text/plain": [
       "<Figure size 720x432 with 1 Axes>"
      ]
     },
     "metadata": {
      "needs_background": "light"
     },
     "output_type": "display_data"
    }
   ],
   "source": [
    "top_10_towns = new_df['town'].value_counts().head(10)\n",
    "plt.figure(figsize=(10, 6))\n",
    "sns.barplot(x=top_10_towns.values, y=top_10_towns.index, palette='viridis')\n",
    "plt.title('Top 10 Towns')\n",
    "plt.xlabel('Count')\n",
    "plt.ylabel('Town')\n",
    "plt.show()"
   ]
  },
  {
   "cell_type": "markdown",
   "metadata": {},
   "source": [
    "MODELING"
   ]
  },
  {
   "cell_type": "code",
   "execution_count": 55,
   "metadata": {},
   "outputs": [
    {
     "name": "stdout",
     "output_type": "stream",
     "text": [
      "<class 'pandas.core.frame.DataFrame'>\n",
      "Int64Index: 125888 entries, 0 to 7532842\n",
      "Data columns (total 8 columns):\n",
      " #   Column           Non-Null Count   Dtype   \n",
      "---  ------           --------------   -----   \n",
      " 0   member_no        125888 non-null  int64   \n",
      " 1   town             125888 non-null  object  \n",
      " 2   relationship     125888 non-null  object  \n",
      " 3   gender_mapped    125888 non-null  object  \n",
      " 4   member_age       125888 non-null  int64   \n",
      " 5   beneficiery_age  125888 non-null  float64 \n",
      " 6   portfolio_map    125888 non-null  object  \n",
      " 7   age_group        125808 non-null  category\n",
      "dtypes: category(1), float64(1), int64(2), object(4)\n",
      "memory usage: 12.8+ MB\n"
     ]
    }
   ],
   "source": [
    "new_df.info()"
   ]
  },
  {
   "cell_type": "code",
   "execution_count": 56,
   "metadata": {},
   "outputs": [
    {
     "data": {
      "text/html": [
       "<div>\n",
       "<style scoped>\n",
       "    .dataframe tbody tr th:only-of-type {\n",
       "        vertical-align: middle;\n",
       "    }\n",
       "\n",
       "    .dataframe tbody tr th {\n",
       "        vertical-align: top;\n",
       "    }\n",
       "\n",
       "    .dataframe thead th {\n",
       "        text-align: right;\n",
       "    }\n",
       "</style>\n",
       "<table border=\"1\" class=\"dataframe\">\n",
       "  <thead>\n",
       "    <tr style=\"text-align: right;\">\n",
       "      <th></th>\n",
       "      <th>member_no</th>\n",
       "      <th>town</th>\n",
       "      <th>relationship</th>\n",
       "      <th>gender_mapped</th>\n",
       "      <th>member_age</th>\n",
       "      <th>beneficiery_age</th>\n",
       "      <th>portfolio_map</th>\n",
       "      <th>age_group</th>\n",
       "    </tr>\n",
       "  </thead>\n",
       "  <tbody>\n",
       "    <tr>\n",
       "      <th>0</th>\n",
       "      <td>99996</td>\n",
       "      <td>NAIROBI</td>\n",
       "      <td>partner</td>\n",
       "      <td>Female</td>\n",
       "      <td>26</td>\n",
       "      <td>26.0</td>\n",
       "      <td>Money Market</td>\n",
       "      <td>19-30</td>\n",
       "    </tr>\n",
       "    <tr>\n",
       "      <th>14</th>\n",
       "      <td>99996</td>\n",
       "      <td>NAIROBI</td>\n",
       "      <td>sibling</td>\n",
       "      <td>Female</td>\n",
       "      <td>26</td>\n",
       "      <td>23.0</td>\n",
       "      <td>Money Market</td>\n",
       "      <td>19-30</td>\n",
       "    </tr>\n",
       "    <tr>\n",
       "      <th>28</th>\n",
       "      <td>99994</td>\n",
       "      <td>Unknown</td>\n",
       "      <td>partner</td>\n",
       "      <td>Female</td>\n",
       "      <td>58</td>\n",
       "      <td>62.0</td>\n",
       "      <td>Money Market</td>\n",
       "      <td>46-60</td>\n",
       "    </tr>\n",
       "    <tr>\n",
       "      <th>40</th>\n",
       "      <td>99993</td>\n",
       "      <td>NAIROBI</td>\n",
       "      <td>partner</td>\n",
       "      <td>Female</td>\n",
       "      <td>50</td>\n",
       "      <td>54.0</td>\n",
       "      <td>Money Market</td>\n",
       "      <td>46-60</td>\n",
       "    </tr>\n",
       "    <tr>\n",
       "      <th>70</th>\n",
       "      <td>99993</td>\n",
       "      <td>NAIROBI</td>\n",
       "      <td>child</td>\n",
       "      <td>Female</td>\n",
       "      <td>50</td>\n",
       "      <td>30.0</td>\n",
       "      <td>Money Market</td>\n",
       "      <td>46-60</td>\n",
       "    </tr>\n",
       "  </tbody>\n",
       "</table>\n",
       "</div>"
      ],
      "text/plain": [
       "    member_no     town relationship gender_mapped  member_age  \\\n",
       "0       99996  NAIROBI      partner        Female          26   \n",
       "14      99996  NAIROBI      sibling        Female          26   \n",
       "28      99994  Unknown      partner        Female          58   \n",
       "40      99993  NAIROBI      partner        Female          50   \n",
       "70      99993  NAIROBI        child        Female          50   \n",
       "\n",
       "    beneficiery_age portfolio_map age_group  \n",
       "0              26.0  Money Market     19-30  \n",
       "14             23.0  Money Market     19-30  \n",
       "28             62.0  Money Market     46-60  \n",
       "40             54.0  Money Market     46-60  \n",
       "70             30.0  Money Market     46-60  "
      ]
     },
     "execution_count": 56,
     "metadata": {},
     "output_type": "execute_result"
    }
   ],
   "source": [
    "new_df.head()"
   ]
  },
  {
   "cell_type": "code",
   "execution_count": 57,
   "metadata": {},
   "outputs": [],
   "source": [
    "import pandas as pd\n",
    "from sklearn.metrics.pairwise import cosine_similarity\n",
    "from scipy.spatial.distance import cosine\n",
    "from sklearn.feature_extraction.text import TfidfVectorizer\n",
    "from sklearn.model_selection import train_test_split"
   ]
  },
  {
   "cell_type": "code",
   "execution_count": 58,
   "metadata": {},
   "outputs": [
    {
     "name": "stderr",
     "output_type": "stream",
     "text": [
      "<ipython-input-58-c464198fbbef>:5: SettingWithCopyWarning: \n",
      "A value is trying to be set on a copy of a slice from a DataFrame.\n",
      "Try using .loc[row_indexer,col_indexer] = value instead\n",
      "\n",
      "See the caveats in the documentation: https://pandas.pydata.org/pandas-docs/stable/user_guide/indexing.html#returning-a-view-versus-a-copy\n",
      "  X['features'] = X.astype(str).sum(axis=1)\n"
     ]
    }
   ],
   "source": [
    "\n",
    "# Create a feature matrix combining the relevant columns\n",
    "X = new_df[['member_age', 'beneficiery_age', 'age_group', 'gender_mapped']]\n",
    "\n",
    "# Convert the feature columns to a single string for each row\n",
    "X['features'] = X.astype(str).sum(axis=1)\n",
    "\n",
    "# Create a TF-IDF matrix from the features\n",
    "tfidf = TfidfVectorizer(max_features=1000)\n",
    "X_tfidf = tfidf.fit_transform(X['features'])\n",
    "\n",
    "# Split the data into training and test sets\n",
    "X_train, X_test, y_train, y_test = train_test_split(X_tfidf, new_df['portfolio_map'], test_size=0.2, random_state=42)\n",
    "\n",
    "\n"
   ]
  },
  {
   "cell_type": "code",
   "execution_count": 59,
   "metadata": {},
   "outputs": [
    {
     "data": {
      "text/html": [
       "<style>#sk-container-id-1 {color: black;}#sk-container-id-1 pre{padding: 0;}#sk-container-id-1 div.sk-toggleable {background-color: white;}#sk-container-id-1 label.sk-toggleable__label {cursor: pointer;display: block;width: 100%;margin-bottom: 0;padding: 0.3em;box-sizing: border-box;text-align: center;}#sk-container-id-1 label.sk-toggleable__label-arrow:before {content: \"▸\";float: left;margin-right: 0.25em;color: #696969;}#sk-container-id-1 label.sk-toggleable__label-arrow:hover:before {color: black;}#sk-container-id-1 div.sk-estimator:hover label.sk-toggleable__label-arrow:before {color: black;}#sk-container-id-1 div.sk-toggleable__content {max-height: 0;max-width: 0;overflow: hidden;text-align: left;background-color: #f0f8ff;}#sk-container-id-1 div.sk-toggleable__content pre {margin: 0.2em;color: black;border-radius: 0.25em;background-color: #f0f8ff;}#sk-container-id-1 input.sk-toggleable__control:checked~div.sk-toggleable__content {max-height: 200px;max-width: 100%;overflow: auto;}#sk-container-id-1 input.sk-toggleable__control:checked~label.sk-toggleable__label-arrow:before {content: \"▾\";}#sk-container-id-1 div.sk-estimator input.sk-toggleable__control:checked~label.sk-toggleable__label {background-color: #d4ebff;}#sk-container-id-1 div.sk-label input.sk-toggleable__control:checked~label.sk-toggleable__label {background-color: #d4ebff;}#sk-container-id-1 input.sk-hidden--visually {border: 0;clip: rect(1px 1px 1px 1px);clip: rect(1px, 1px, 1px, 1px);height: 1px;margin: -1px;overflow: hidden;padding: 0;position: absolute;width: 1px;}#sk-container-id-1 div.sk-estimator {font-family: monospace;background-color: #f0f8ff;border: 1px dotted black;border-radius: 0.25em;box-sizing: border-box;margin-bottom: 0.5em;}#sk-container-id-1 div.sk-estimator:hover {background-color: #d4ebff;}#sk-container-id-1 div.sk-parallel-item::after {content: \"\";width: 100%;border-bottom: 1px solid gray;flex-grow: 1;}#sk-container-id-1 div.sk-label:hover label.sk-toggleable__label {background-color: #d4ebff;}#sk-container-id-1 div.sk-serial::before {content: \"\";position: absolute;border-left: 1px solid gray;box-sizing: border-box;top: 0;bottom: 0;left: 50%;z-index: 0;}#sk-container-id-1 div.sk-serial {display: flex;flex-direction: column;align-items: center;background-color: white;padding-right: 0.2em;padding-left: 0.2em;position: relative;}#sk-container-id-1 div.sk-item {position: relative;z-index: 1;}#sk-container-id-1 div.sk-parallel {display: flex;align-items: stretch;justify-content: center;background-color: white;position: relative;}#sk-container-id-1 div.sk-item::before, #sk-container-id-1 div.sk-parallel-item::before {content: \"\";position: absolute;border-left: 1px solid gray;box-sizing: border-box;top: 0;bottom: 0;left: 50%;z-index: -1;}#sk-container-id-1 div.sk-parallel-item {display: flex;flex-direction: column;z-index: 1;position: relative;background-color: white;}#sk-container-id-1 div.sk-parallel-item:first-child::after {align-self: flex-end;width: 50%;}#sk-container-id-1 div.sk-parallel-item:last-child::after {align-self: flex-start;width: 50%;}#sk-container-id-1 div.sk-parallel-item:only-child::after {width: 0;}#sk-container-id-1 div.sk-dashed-wrapped {border: 1px dashed gray;margin: 0 0.4em 0.5em 0.4em;box-sizing: border-box;padding-bottom: 0.4em;background-color: white;}#sk-container-id-1 div.sk-label label {font-family: monospace;font-weight: bold;display: inline-block;line-height: 1.2em;}#sk-container-id-1 div.sk-label-container {text-align: center;}#sk-container-id-1 div.sk-container {/* jupyter's `normalize.less` sets `[hidden] { display: none; }` but bootstrap.min.css set `[hidden] { display: none !important; }` so we also need the `!important` here to be able to override the default hidden behavior on the sphinx rendered scikit-learn.org. See: https://github.com/scikit-learn/scikit-learn/issues/21755 */display: inline-block !important;position: relative;}#sk-container-id-1 div.sk-text-repr-fallback {display: none;}</style><div id=\"sk-container-id-1\" class=\"sk-top-container\"><div class=\"sk-text-repr-fallback\"><pre>NearestNeighbors(algorithm=&#x27;brute&#x27;, metric=&#x27;cosine&#x27;)</pre><b>In a Jupyter environment, please rerun this cell to show the HTML representation or trust the notebook. <br />On GitHub, the HTML representation is unable to render, please try loading this page with nbviewer.org.</b></div><div class=\"sk-container\" hidden><div class=\"sk-item\"><div class=\"sk-estimator sk-toggleable\"><input class=\"sk-toggleable__control sk-hidden--visually\" id=\"sk-estimator-id-1\" type=\"checkbox\" checked><label for=\"sk-estimator-id-1\" class=\"sk-toggleable__label sk-toggleable__label-arrow\">NearestNeighbors</label><div class=\"sk-toggleable__content\"><pre>NearestNeighbors(algorithm=&#x27;brute&#x27;, metric=&#x27;cosine&#x27;)</pre></div></div></div></div></div>"
      ],
      "text/plain": [
       "NearestNeighbors(algorithm='brute', metric='cosine')"
      ]
     },
     "execution_count": 59,
     "metadata": {},
     "output_type": "execute_result"
    }
   ],
   "source": [
    "from sklearn.neighbors import NearestNeighbors\n",
    "\n",
    "# Train the Nearest Neighbors model\n",
    "model = NearestNeighbors(metric='cosine', algorithm='brute')\n",
    "model.fit(X_train)\n",
    "\n"
   ]
  },
  {
   "cell_type": "code",
   "execution_count": 60,
   "metadata": {},
   "outputs": [],
   "source": [
    "def get_recommendations(member_features, n=5):\n",
    "    # Get distances and indices of the nearest neighbors\n",
    "    distances, indices = model.kneighbors(member_features, n_neighbors=n+1)\n",
    "    \n",
    "    # Retrieve the original portfolio information from `new_df` using indices\n",
    "    # Exclude the first column of `indices` since it's the item itself\n",
    "    recommended_portfolios = new_df.iloc[indices[0, 1:]]['portfolio_map'].tolist()\n",
    "    \n",
    "    return recommended_portfolios"
   ]
  },
  {
   "cell_type": "code",
   "execution_count": 61,
   "metadata": {},
   "outputs": [
    {
     "name": "stdout",
     "output_type": "stream",
     "text": [
      "Accuracy: 0.79\n"
     ]
    }
   ],
   "source": [
    "from sklearn.metrics import accuracy_score\n",
    "\n",
    "# Make predictions on the test set\n",
    "y_pred = []\n",
    "for i in range(X_test.shape[0]):\n",
    "    member = X_test[i].toarray()\n",
    "    recommendations = get_recommendations(member.reshape(1, -1), n=1)\n",
    "    y_pred.append(recommendations[0])  # Get the top recommendation\n",
    "\n",
    "# Calculate accuracy by comparing the predicted product to the actual product\n",
    "accuracy = accuracy_score(y_test, y_pred)\n",
    "\n",
    "print(f\"Accuracy: {accuracy:.2f}\")\n"
   ]
  },
  {
   "cell_type": "markdown",
   "metadata": {},
   "source": [
    "RULE BASED ADDED"
   ]
  },
  {
   "cell_type": "code",
   "execution_count": 62,
   "metadata": {},
   "outputs": [],
   "source": [
    "def get_recommendations(member_features, member_no, n=5):\n",
    "    # Fetch member's details\n",
    "    member_row = new_df.loc[new_df['member_no'] == member_no].iloc[0]\n",
    "    member_beneficiary_age = member_row['beneficiery_age']\n",
    "    member_age_group = member_row['age_group']\n",
    "    member_town = member_row['town']\n",
    "    member_gender = member_row['gender_mapped']\n",
    "    member_current_products = set(new_df.loc[new_df['member_no'] == member_no, 'portfolio_map'].values)\n",
    "    \n",
    "    recommended_products = []\n",
    "\n",
    "    # Rule 1: Recommend based on beneficiary age (Student and Junior Accounts)\n",
    "    if 18 <= member_beneficiary_age <= 25:\n",
    "        recommended_products.append(\"Student Account\")\n",
    "    elif member_beneficiary_age < 18:\n",
    "        recommended_products.append(\"Junior Account\")\n",
    "\n",
    "    # Rule 2: Recommend popular products within the same age group\n",
    "    age_group_products = (\n",
    "        new_df[new_df['age_group'] == member_age_group]\n",
    "        .portfolio_map.value_counts()\n",
    "        .index\n",
    "        .tolist()\n",
    "    )\n",
    "    for product in age_group_products:\n",
    "        if product not in member_current_products and product not in recommended_products:\n",
    "            recommended_products.append(product)\n",
    "        if len(recommended_products) >= n:\n",
    "            return recommended_products[:n]\n",
    "\n",
    "    # Rule 3: Recommend popular products in the same town\n",
    "    town_products = (\n",
    "        new_df[new_df['town'] == member_town]\n",
    "        .portfolio_map.value_counts()\n",
    "        .index\n",
    "        .tolist()\n",
    "    )\n",
    "    for product in town_products:\n",
    "        if product not in member_current_products and product not in recommended_products:\n",
    "            recommended_products.append(product)\n",
    "        if len(recommended_products) >= n:\n",
    "            return recommended_products[:n]\n",
    "        \n",
    "    gender_products = (\n",
    "        new_df[new_df['gender_mapped']== member_gender]\n",
    "        .portfolio_map.value_counts()\n",
    "        .index\n",
    "        .tolist()\n",
    "    )\n",
    "    for product in gender_products:\n",
    "        if product not in member_current_products and product not in recommended_products:\n",
    "            recommended_products.append(product)\n",
    "        if len(recommended_products) >= n:\n",
    "            return recommended_products[:n]\n",
    "\n",
    "    # Collaborative Filtering for Additional Recommendations\n",
    "    distances, indices = model.kneighbors(member_features, n_neighbors=n + len(recommended_products))\n",
    "    for index in indices[0]:\n",
    "        product = new_df.iloc[index]['portfolio_map']\n",
    "        if product not in member_current_products and product not in recommended_products:\n",
    "            recommended_products.append(product)\n",
    "        if len(recommended_products) >= n:\n",
    "            break\n",
    "\n",
    "    return recommended_products[:n]\n"
   ]
  },
  {
   "cell_type": "code",
   "execution_count": 63,
   "metadata": {},
   "outputs": [
    {
     "data": {
      "text/plain": [
       "Index(['member_no', 'town', 'relationship', 'gender_mapped', 'member_age',\n",
       "       'beneficiery_age', 'portfolio_map', 'age_group'],\n",
       "      dtype='object')"
      ]
     },
     "execution_count": 63,
     "metadata": {},
     "output_type": "execute_result"
    }
   ],
   "source": [
    "new_df.columns"
   ]
  },
  {
   "cell_type": "code",
   "execution_count": 64,
   "metadata": {},
   "outputs": [],
   "source": [
    "def get_recommendations_with_messages(member_features, member_no, n=5):\n",
    "    # Fetch member's details\n",
    "    member_row = new_df.loc[new_df['member_no'] == member_no].iloc[0]\n",
    "    member_beneficiery_age = member_row['beneficiery_age']\n",
    "    member_age_group = member_row['age_group']\n",
    "    member_town = member_row['town']\n",
    "    member_gender = member_row['gender_mapped']\n",
    "    member_current_products = set(new_df.loc[new_df['member_no'] == member_no, 'portfolio_map'].values)\n",
    "    \n",
    "    recommended_products = []\n",
    "    messages = []\n",
    "\n",
    "    # Rule 1: Recommend based on beneficiary age (Student and Junior Accounts)\n",
    "    age_recommendations = []\n",
    "    if 18.0 >= member_beneficiery_age <= 25.0:\n",
    "        age_recommendations.append(\"Student Account\")\n",
    "        messages.append(\n",
    "            f\"Planning for your child's future? Our Student Account is perfect for young adults aged 18-25. \"\n",
    "            f\"Start securing their educational journey today!\"\n",
    "        )\n",
    "    elif member_beneficiery_age < 18.0:\n",
    "        age_recommendations.append(\"Junior Account\")\n",
    "        messages.append(\n",
    "            f\"Give your child a head start with our Junior Account! It's specially designed for children under 18 \"\n",
    "            f\"to help them develop good financial habits early.\"\n",
    "        )\n",
    "    recommended_products.extend(age_recommendations)\n",
    "\n",
    "    # Rule 2: Recommend popular products within the same age group\n",
    "    age_group_recommendations = []\n",
    "    age_group_products = (\n",
    "        new_df[new_df['age_group'] == member_age_group]\n",
    "        .portfolio_map.value_counts()\n",
    "        .index\n",
    "        .tolist()\n",
    "    )\n",
    "    for product in age_group_products:\n",
    "        if product not in member_current_products and product not in recommended_products:\n",
    "            age_group_recommendations.append(product)\n",
    "        if len(recommended_products) + len(age_group_recommendations) >= n:\n",
    "            break\n",
    "    \n",
    "    if age_group_recommendations:\n",
    "        messages.append(\n",
    "            f\"Members in your age group are enjoying these popular products: {', '.join(age_group_recommendations)}. \"\n",
    "            f\"Join them in making smart financial choices!\"\n",
    "        )\n",
    "    recommended_products.extend(age_group_recommendations)\n",
    "\n",
    "    # Rule 3: Recommend popular products in the same town\n",
    "    location_recommendations = []\n",
    "    town_products = (\n",
    "        new_df[new_df['town'] == member_town]\n",
    "        .portfolio_map.value_counts()\n",
    "        .index\n",
    "        .tolist()\n",
    "    )\n",
    "    for product in town_products:\n",
    "        if product not in member_current_products and product not in recommended_products:\n",
    "            location_recommendations.append(product)\n",
    "        if len(recommended_products) + len(location_recommendations) >= n:\n",
    "            break\n",
    "    \n",
    "    if location_recommendations:\n",
    "        messages.append(\n",
    "            f\"Trending in {member_town}! Your neighbors are choosing {', '.join(location_recommendations)}. \"\n",
    "            f\"Discover why these products are popular in your community!\"\n",
    "        )\n",
    "    recommended_products.extend(location_recommendations)\n",
    "\n",
    "    # Rule 4: Gender-based recommendations\n",
    "    gender_recommendations = []\n",
    "    gender_products = (\n",
    "        new_df[new_df['gender_mapped'] == member_gender]\n",
    "        .portfolio_map.value_counts()\n",
    "        .index\n",
    "        .tolist()\n",
    "    )\n",
    "    for product in gender_products:\n",
    "        if product not in member_current_products and product not in recommended_products:\n",
    "            gender_recommendations.append(product)\n",
    "        if len(recommended_products) + len(gender_recommendations) >= n:\n",
    "            break\n",
    "    \n",
    "    if gender_recommendations:\n",
    "        gender_message = (\n",
    "            \"Specially curated for you! \" if member_gender == 'Female' else\n",
    "            \"Join other members like you! \"\n",
    "        )\n",
    "        messages.append(\n",
    "            f\"{gender_message}Discover {', '.join(gender_recommendations)} - \"\n",
    "            f\"products that match your financial goals.\"\n",
    "        )\n",
    "    recommended_products.extend(gender_recommendations)\n",
    "\n",
    "    # Collaborative Filtering for Additional Recommendations\n",
    "    if len(recommended_products) < n:\n",
    "        collab_recommendations = []\n",
    "        distances, indices = model.kneighbors(member_features, n_neighbors=n + len(recommended_products))\n",
    "        for index in indices[0]:\n",
    "            product = new_df.iloc[index]['portfolio_map']\n",
    "            if product not in member_current_products and product not in recommended_products:\n",
    "                collab_recommendations.append(product)\n",
    "            if len(recommended_products) + len(collab_recommendations) >= n:\n",
    "                break\n",
    "        \n",
    "        if collab_recommendations:\n",
    "            messages.append(\n",
    "                f\"Based on your profile, we think you'll love {', '.join(collab_recommendations)}. \"\n",
    "                f\"These products align perfectly with your financial journey!\"\n",
    "            )\n",
    "        recommended_products.extend(collab_recommendations)\n",
    "\n",
    "    # Final personalized message\n",
    "    if len(recommended_products) > 0:\n",
    "        messages.append(\n",
    "            f\"💡 Pro tip: Adding {', '.join(recommended_products[:n])} to your portfolio \"\n",
    "            f\"could help you achieve your financial goals faster!\"\n",
    "        )\n",
    "\n",
    "    return recommended_products[:n], messages"
   ]
  },
  {
   "cell_type": "code",
   "execution_count": 65,
   "metadata": {},
   "outputs": [
    {
     "name": "stdout",
     "output_type": "stream",
     "text": [
      "\n",
      "🏦 Member Profile Analysis\n",
      "--------------------------------------------------\n",
      "Member ID: 99996\n",
      "Age Group: 19-30\n",
      "Town: NAIROBI\n",
      "Gender: Female\n",
      "Beneficiary Age: 26.0\n",
      "\n",
      "📊 Recommended Products\n",
      "--------------------------------------------------\n",
      "1. Fixed Income\n",
      "2. Equity Fund\n",
      "3. Dollar Fund\n",
      "\n",
      "💌 Personalized Messages\n",
      "--------------------------------------------------\n",
      "Message 1:\n",
      "Members in your age group are enjoying these popular products: Fixed Income, Equity Fund, Dollar Fund. Join them in making smart financial choices!\n",
      "\n",
      "Message 2:\n",
      "💡 Pro tip: Adding Fixed Income, Equity Fund, Dollar Fund to your portfolio could help you achieve your financial goals faster!\n",
      "\n",
      "\n",
      "📝 Current Portfolio\n",
      "--------------------------------------------------\n",
      "• Money Market\n"
     ]
    }
   ],
   "source": [
    "# Test the recommendations for a sample member\n",
    "sample_index = 0  # Adjust the sample index for testing\n",
    "sample_member = X_test[sample_index].toarray()\n",
    "sample_member_id = new_df.iloc[sample_index]['member_no']  # Ensure 'member_id' is in new_df\n",
    "\n",
    "# Get recommendations and messages for the sample member\n",
    "recommendations, messages = get_recommendations_with_messages(sample_member.reshape(1, -1), sample_member_id, n=3)\n",
    "\n",
    "# Display the results\n",
    "print(\"\\n🏦 Member Profile Analysis\")\n",
    "print(\"-\" * 50)\n",
    "print(f\"Member ID: {sample_member_id}\")\n",
    "member_details = new_df.loc[new_df['member_no'] == sample_member_id].iloc[0]\n",
    "print(f\"Age Group: {member_details['age_group']}\")\n",
    "print(f\"Town: {member_details['town']}\")\n",
    "print(f\"Gender: {member_details['gender_mapped']}\")\n",
    "if not pd.isna(member_details['beneficiery_age']):\n",
    "    print(f\"Beneficiary Age: {member_details['beneficiery_age']}\")\n",
    "\n",
    "print(\"\\n📊 Recommended Products\")\n",
    "print(\"-\" * 50)\n",
    "for i, product in enumerate(recommendations, 1):\n",
    "    print(f\"{i}. {product}\")\n",
    "\n",
    "print(\"\\n💌 Personalized Messages\")\n",
    "print(\"-\" * 50)\n",
    "for i, message in enumerate(messages, 1):\n",
    "    print(f\"Message {i}:\")\n",
    "    print(f\"{message}\")\n",
    "    print()\n",
    "\n",
    "# Optional: Display current products for comparison\n",
    "current_products = set(new_df.loc[new_df['member_no'] == sample_member_id, 'portfolio_map'].values)\n",
    "if current_products:\n",
    "    print(\"\\n📝 Current Portfolio\")\n",
    "    print(\"-\" * 50)\n",
    "    for product in current_products:\n",
    "        print(f\"• {product}\")"
   ]
  },
  {
   "cell_type": "code",
   "execution_count": 66,
   "metadata": {},
   "outputs": [
    {
     "name": "stdout",
     "output_type": "stream",
     "text": [
      "\n",
      "🏦 Member Profile Analysis\n",
      "--------------------------------------------------\n",
      "Member ID: 99985\n",
      "Age Group: 19-30\n",
      "Town: NAIROBI\n",
      "Gender: Female\n",
      "Beneficiary Age: 3.0\n",
      "\n",
      "📊 Recommended Products\n",
      "--------------------------------------------------\n",
      "1. Fixed Income\n",
      "2. Equity Fund\n",
      "3. Dollar Fund\n",
      "\n",
      "💌 Personalized Messages\n",
      "--------------------------------------------------\n",
      "Message 1:\n",
      "Members in your age group are enjoying these popular products: Fixed Income, Equity Fund, Dollar Fund. Join them in making smart financial choices!\n",
      "\n",
      "Message 2:\n",
      "💡 Pro tip: Adding Fixed Income, Equity Fund, Dollar Fund to your portfolio could help you achieve your financial goals faster!\n",
      "\n",
      "\n",
      "📝 Current Portfolio\n",
      "--------------------------------------------------\n",
      "• Money Market\n"
     ]
    }
   ],
   "source": [
    "# Test the recommendations for a sample member\n",
    "sample_index = 14  # Adjust the sample index for testing\n",
    "sample_member = X_test[sample_index].toarray()\n",
    "sample_member_id = new_df.iloc[sample_index]['member_no']  # Ensure 'member_id' is in new_df\n",
    "\n",
    "# Get recommendations and messages for the sample member\n",
    "recommendations, messages = get_recommendations_with_messages(sample_member.reshape(1, -1), sample_member_id, n=3)\n",
    "\n",
    "# Display the results\n",
    "print(\"\\n🏦 Member Profile Analysis\")\n",
    "print(\"-\" * 50)\n",
    "print(f\"Member ID: {sample_member_id}\")\n",
    "member_details = new_df.loc[new_df['member_no'] == sample_member_id].iloc[1]\n",
    "print(f\"Age Group: {member_details['age_group']}\")\n",
    "print(f\"Town: {member_details['town']}\")\n",
    "print(f\"Gender: {member_details['gender_mapped']}\")\n",
    "if not pd.isna(member_details['beneficiery_age']):\n",
    "    print(f\"Beneficiary Age: {member_details['beneficiery_age']}\")\n",
    "\n",
    "print(\"\\n📊 Recommended Products\")\n",
    "print(\"-\" * 50)\n",
    "for i, product in enumerate(recommendations, 1):\n",
    "    print(f\"{i}. {product}\")\n",
    "\n",
    "print(\"\\n💌 Personalized Messages\")\n",
    "print(\"-\" * 50)\n",
    "for i, message in enumerate(messages, 1):\n",
    "    print(f\"Message {i}:\")\n",
    "    print(f\"{message}\")\n",
    "    print()\n",
    "\n",
    "# Optional: Display current products for comparison\n",
    "current_products = set(new_df.loc[new_df['member_no'] == sample_member_id, 'portfolio_map'].values)\n",
    "if current_products:\n",
    "    print(\"\\n📝 Current Portfolio\")\n",
    "    print(\"-\" * 50)\n",
    "    for product in current_products:\n",
    "        print(f\"• {product}\")"
   ]
  },
  {
   "cell_type": "code",
   "execution_count": 67,
   "metadata": {},
   "outputs": [
    {
     "name": "stdout",
     "output_type": "stream",
     "text": [
      "❌ Error occurred: single positional indexer is out-of-bounds\n"
     ]
    }
   ],
   "source": [
    "def test_custom_recommendations(\n",
    "    age_group,\n",
    "    town,\n",
    "    gender_mapped,  # Changed from gender to gender_mapped\n",
    "    beneficiery_age=None,\n",
    "    current_products=None,\n",
    "    n_recommendations=3\n",
    "):\n",
    "    \"\"\"\n",
    "    Get recommendations based on manually entered member details\n",
    "    \"\"\"\n",
    "    # Create a dummy member row\n",
    "    member_features = {\n",
    "        'member_no': 'TEST_MEMBER',\n",
    "        'age_group': age_group,\n",
    "        'town': town,\n",
    "        'gender_mapped': gender_mapped,  # Updated to match your column name\n",
    "        'beneficiery_age': beneficiery_age,\n",
    "        'portfolio_map': current_products if current_products else []\n",
    "    }\n",
    "    \n",
    "    # Create dummy features vector\n",
    "    dummy_features = np.zeros((1, X.shape[1]))\n",
    "    \n",
    "    try:\n",
    "        # Get recommendations and messages\n",
    "        recommendations, messages = get_recommendations_with_messages(\n",
    "            dummy_features, \n",
    "            'TEST_MEMBER',\n",
    "            n=n_recommendations\n",
    "        )\n",
    "\n",
    "        # Display the results\n",
    "        print(\"\\n🏦 Member Profile\")\n",
    "        print(\"-\" * 50)\n",
    "        print(f\"Age Group: {age_group}\")\n",
    "        print(f\"Town: {town}\")\n",
    "        print(f\"Gender: {gender_mapped}\")\n",
    "        if beneficiery_age is not None:\n",
    "            print(f\"Beneficiary Age: {beneficiery_age}\")\n",
    "        \n",
    "        if current_products:\n",
    "            print(\"\\n📝 Current Products\")\n",
    "            print(\"-\" * 50)\n",
    "            for product in current_products:\n",
    "                print(f\"• {product}\")\n",
    "\n",
    "        print(\"\\n📊 Recommended Products\")\n",
    "        print(\"-\" * 50)\n",
    "        for i, product in enumerate(recommendations, 1):\n",
    "            print(f\"{i}. {product}\")\n",
    "\n",
    "        print(\"\\n💌 Personalized Messages\")\n",
    "        print(\"-\" * 50)\n",
    "        for i, message in enumerate(messages, 1):\n",
    "            print(f\"Message {i}:\")\n",
    "            print(f\"{message}\")\n",
    "            print()\n",
    "\n",
    "    except Exception as e:\n",
    "        print(f\"❌ Error occurred: {str(e)}\")\n",
    "\n",
    "# Single test case with corrected gender values\n",
    "test_custom_recommendations(\n",
    "    age_group='26-35',\n",
    "    town='NAIROBI',\n",
    "    gender_mapped='Female',  # Changed from 'F' to 'Female'\n",
    "    beneficiery_age=5,\n",
    "    current_products=['Money Market'],\n",
    "    n_recommendations=3\n",
    ")"
   ]
  },
  {
   "cell_type": "code",
   "execution_count": 68,
   "metadata": {},
   "outputs": [
    {
     "data": {
      "text/html": [
       "<div>\n",
       "<style scoped>\n",
       "    .dataframe tbody tr th:only-of-type {\n",
       "        vertical-align: middle;\n",
       "    }\n",
       "\n",
       "    .dataframe tbody tr th {\n",
       "        vertical-align: top;\n",
       "    }\n",
       "\n",
       "    .dataframe thead th {\n",
       "        text-align: right;\n",
       "    }\n",
       "</style>\n",
       "<table border=\"1\" class=\"dataframe\">\n",
       "  <thead>\n",
       "    <tr style=\"text-align: right;\">\n",
       "      <th></th>\n",
       "      <th>member_no</th>\n",
       "      <th>town</th>\n",
       "      <th>relationship</th>\n",
       "      <th>gender_mapped</th>\n",
       "      <th>member_age</th>\n",
       "      <th>beneficiery_age</th>\n",
       "      <th>portfolio_map</th>\n",
       "      <th>age_group</th>\n",
       "    </tr>\n",
       "  </thead>\n",
       "  <tbody>\n",
       "    <tr>\n",
       "      <th>0</th>\n",
       "      <td>99996</td>\n",
       "      <td>NAIROBI</td>\n",
       "      <td>partner</td>\n",
       "      <td>Female</td>\n",
       "      <td>26</td>\n",
       "      <td>26.0</td>\n",
       "      <td>Money Market</td>\n",
       "      <td>19-30</td>\n",
       "    </tr>\n",
       "    <tr>\n",
       "      <th>14</th>\n",
       "      <td>99996</td>\n",
       "      <td>NAIROBI</td>\n",
       "      <td>sibling</td>\n",
       "      <td>Female</td>\n",
       "      <td>26</td>\n",
       "      <td>23.0</td>\n",
       "      <td>Money Market</td>\n",
       "      <td>19-30</td>\n",
       "    </tr>\n",
       "    <tr>\n",
       "      <th>28</th>\n",
       "      <td>99994</td>\n",
       "      <td>Unknown</td>\n",
       "      <td>partner</td>\n",
       "      <td>Female</td>\n",
       "      <td>58</td>\n",
       "      <td>62.0</td>\n",
       "      <td>Money Market</td>\n",
       "      <td>46-60</td>\n",
       "    </tr>\n",
       "    <tr>\n",
       "      <th>40</th>\n",
       "      <td>99993</td>\n",
       "      <td>NAIROBI</td>\n",
       "      <td>partner</td>\n",
       "      <td>Female</td>\n",
       "      <td>50</td>\n",
       "      <td>54.0</td>\n",
       "      <td>Money Market</td>\n",
       "      <td>46-60</td>\n",
       "    </tr>\n",
       "    <tr>\n",
       "      <th>70</th>\n",
       "      <td>99993</td>\n",
       "      <td>NAIROBI</td>\n",
       "      <td>child</td>\n",
       "      <td>Female</td>\n",
       "      <td>50</td>\n",
       "      <td>30.0</td>\n",
       "      <td>Money Market</td>\n",
       "      <td>46-60</td>\n",
       "    </tr>\n",
       "  </tbody>\n",
       "</table>\n",
       "</div>"
      ],
      "text/plain": [
       "    member_no     town relationship gender_mapped  member_age  \\\n",
       "0       99996  NAIROBI      partner        Female          26   \n",
       "14      99996  NAIROBI      sibling        Female          26   \n",
       "28      99994  Unknown      partner        Female          58   \n",
       "40      99993  NAIROBI      partner        Female          50   \n",
       "70      99993  NAIROBI        child        Female          50   \n",
       "\n",
       "    beneficiery_age portfolio_map age_group  \n",
       "0              26.0  Money Market     19-30  \n",
       "14             23.0  Money Market     19-30  \n",
       "28             62.0  Money Market     46-60  \n",
       "40             54.0  Money Market     46-60  \n",
       "70             30.0  Money Market     46-60  "
      ]
     },
     "execution_count": 68,
     "metadata": {},
     "output_type": "execute_result"
    }
   ],
   "source": [
    "new_df.head()"
   ]
  },
  {
   "cell_type": "code",
   "execution_count": 69,
   "metadata": {},
   "outputs": [
    {
     "name": "stdout",
     "output_type": "stream",
     "text": [
      "Recommendations for sample member profile:\n",
      "['Fixed Income', 'Equity Fund', 'Dollar Fund']\n"
     ]
    }
   ],
   "source": [
    "# Test the recommendations for a sample member\n",
    "sample_index = 0  # Adjust the sample index for testing\n",
    "sample_member = X_test[sample_index].toarray()\n",
    "sample_member_id = new_df.iloc[sample_index]['member_no']  # Ensure 'member_id' is in new_df\n",
    "\n",
    "# Get recommendations for the sample member\n",
    "recommendations = get_recommendations(sample_member.reshape(1, -1), sample_member_id, n=3)\n",
    "\n",
    "# Display the results\n",
    "print(\"Recommendations for sample member profile:\")\n",
    "print(recommendations)\n"
   ]
  },
  {
   "cell_type": "code",
   "execution_count": 70,
   "metadata": {},
   "outputs": [
    {
     "name": "stdout",
     "output_type": "stream",
     "text": [
      "Recommendations for sample member profile:\n",
      "['Equity Fund', 'Dollar Fund', 'Fixed Income']\n"
     ]
    }
   ],
   "source": [
    "# Test the recommendations for a sample member\n",
    "sample_index = 20\n",
    "sample_member = X_test[sample_index].toarray()\n",
    "sample_member_id = new_df.iloc[sample_index]['member_no']  \n",
    "\n",
    "# Get recommendations for the sample member\n",
    "recommendations = get_recommendations(sample_member.reshape(1, -1), sample_member_id, n=3)\n",
    "\n",
    "# Display the results\n",
    "print(\"Recommendations for sample member profile:\")\n",
    "print(recommendations)\n"
   ]
  },
  {
   "cell_type": "code",
   "execution_count": 71,
   "metadata": {},
   "outputs": [],
   "source": [
    "# from sklearn.metrics import accuracy_score, classification_report\n",
    "\n",
    "# # Get member numbers from the original DataFrame before converting to sparse matrix\n",
    "# member_ids = new_df['member_no'] \n",
    "\n",
    "# # Make predictions on the test set\n",
    "# y_pred = []\n",
    "# for i in range(X_test.shape[0]):\n",
    "#     member = X_test[i].toarray()  # Convert the sparse matrix to a dense array\n",
    "#     member_no = member_ids.iloc[i]  \n",
    "#     recommendations = get_recommendations(member.reshape(1, -1), n=1, member_no=member_no)  # Pass member_no as well\n",
    "#     y_pred.append(recommendations[0])  # Get the top recommendation\n",
    "\n",
    "# # Calculate accuracy by comparing the predicted product to the actual product\n",
    "# accuracy = accuracy_score(y_test, y_pred)\n",
    "\n",
    "# # Generate the classification report\n",
    "# class_report = classification_report(y_test, y_pred)\n",
    "\n",
    "# # Print accuracy and classification report\n",
    "# print(f\"Accuracy: {accuracy:.2f}\")\n",
    "# print(\"Classification Report:\")\n",
    "# print(class_report)\n"
   ]
  },
  {
   "cell_type": "code",
   "execution_count": 72,
   "metadata": {},
   "outputs": [],
   "source": [
    "# import numpy as np\n",
    "\n",
    "# # Define custom member attributes\n",
    "# test_member_data = {\n",
    "#     'member_age': 35,\n",
    "#     'beneficiery_age': 20,\n",
    "#     'age_group': '30-40',\n",
    "#     'gender_mapped': 1,\n",
    "#     'town': 'Nairobi'  # Adjust to a town present in your dataset\n",
    "# }\n",
    "\n",
    "# # Combine the attributes into a single feature string\n",
    "# test_features_str = f\"{test_member_data['member_age']} {test_member_data['beneficiery_age']} {test_member_data['age_group']} {test_member_data['gender_mapped']}\"\n",
    "\n",
    "# # Transform the custom member's features using the fitted TF-IDF vectorizer\n",
    "# test_member_vector = tfidf.transform([test_features_str])\n",
    "\n",
    "# # Define a dummy ID for testing (this would not be in the original dataset)\n",
    "# test_member_id = -1  # Using -1 to signify a test ID not in the dataset\n",
    "\n",
    "# # Get recommendations based on the custom test member\n",
    "# recommendations = get_recommendations(test_member_vector, test_member_id, n=5)\n",
    "\n",
    "# # Display the results\n",
    "# print(\"Recommendations for custom member profile:\")\n",
    "# print(recommendations)\n"
   ]
  },
  {
   "cell_type": "code",
   "execution_count": 73,
   "metadata": {},
   "outputs": [],
   "source": [
    "# from sklearn.metrics import accuracy_score\n",
    "\n",
    "# # Sample a single member profile from the test set\n",
    "# sample_index = 0  \n",
    "# sample_member = X_test[sample_index]\n",
    "\n",
    "# # Get top 5 recommendations for the sample member profile\n",
    "# recommendations = get_recommendations(sample_member.reshape(1, -1), n=5)\n",
    "\n",
    "# # Display the results\n",
    "# print(\"Recommendations for sample member profile:\")\n",
    "# print(recommendations)\n",
    "\n",
    "\n"
   ]
  },
  {
   "cell_type": "code",
   "execution_count": 74,
   "metadata": {},
   "outputs": [],
   "source": [
    "# # evaluating the accuracy of recommendations\n",
    "\n",
    "# actual_product = y_test.iloc[sample_index]\n",
    "# print(\"Actual product for the sample member profile:\", actual_product)\n",
    "\n",
    "# # Check if actual product is in recommendations\n",
    "# if actual_product in recommendations:\n",
    "#     print(\"Success: The actual product is in the recommended list.\")\n",
    "# else:\n",
    "#     print(\"The actual product is not in the recommended list.\")"
   ]
  }
 ],
 "metadata": {
  "kernelspec": {
   "display_name": "learn-env",
   "language": "python",
   "name": "python3"
  },
  "language_info": {
   "codemirror_mode": {
    "name": "ipython",
    "version": 3
   },
   "file_extension": ".py",
   "mimetype": "text/x-python",
   "name": "python",
   "nbconvert_exporter": "python",
   "pygments_lexer": "ipython3",
   "version": "3.8.5"
  }
 },
 "nbformat": 4,
 "nbformat_minor": 2
}
