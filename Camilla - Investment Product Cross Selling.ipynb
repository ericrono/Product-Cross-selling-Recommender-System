{
 "cells": [
  {
   "cell_type": "markdown",
   "metadata": {},
   "source": [
    "# Product Cross Selling Recommender System\n",
    "\n",
    "**Business Problem Statement:**\n",
    "\n",
    "Our financial services company has a diverse portfolio of investment products, yet the vast majority (99%) of our existing customers hold only one product—the Money Market Fund. Despite a broad array of offerings (Balanced Fund, Dollar Fund, Equity Fund, Fixed Income Fund, and Wealth Fund), our product penetration per customer (PPC) remains exceptionally low. This indicates a significant opportunity to cross-sell additional products to our existing customer base, which would increase customer value, loyalty, and the company’s overall profitability.\n",
    "\n",
    "Currently, our customers’ data includes key information that could be leveraged to tailor product recommendations. These data points include:\n",
    "- **Location (town)**\n",
    "- **Gender**\n",
    "- **Customer-relationship or beneficiary information** (as customers may have more than one relationship or beneficiary associated with them)\n",
    "- **Customer age and DOB**\n",
    "- **Beneficiary age and DOB**\n",
    "\n",
    "Our goal is to create a user-friendly, intelligent recommender system that can analyze this existing data to suggest additional, relevant financial products to each customer. This system should be able to identify patterns or trends in customer profiles, uncover customer needs, and map those needs to suitable financial products, increasing our PPC in an efficient, cost-effective manner. \n",
    "\n",
    "**Objectives:**\n",
    "1. **Customer Retention and Loyalty**: By offering personalized recommendations, we aim to build deeper, more personalized relationships with our customers, making them more likely to stay with us long-term.\n",
    "2. **Increased Revenue per Customer**: A successful cross-selling strategy would increase the average number of products per customer, boosting overall portfolio revenue.\n",
    "3. **User-Friendly Experience**: Ensuring a straightforward, accessible interface for customers to explore new financial products, particularly given that our target customers may have limited experience with financial diversification.\n",
    "\n",
    "**Project Success Criteria:**\n",
    "1. Develop a model that accurately predicts the next likely product(s) for each customer based on their profile and behavior.\n",
    "2. Achieve a measurable increase in the PPC rate by the end of the initial deployment phase.\n",
    "3. Design an intuitive interface that enhances the customer journey, with minimal friction, to encourage engagement and adoption."
   ]
  },
  {
   "cell_type": "markdown",
   "metadata": {},
   "source": [
    "## DATA CLEANING AND PREPARATION"
   ]
  },
  {
   "cell_type": "code",
   "execution_count": 73,
   "metadata": {},
   "outputs": [],
   "source": [
    "#importing the necessary libraries\n",
    "import pandas as pd\n",
    "import numpy as np\n",
    "import matplotlib.pyplot as plt\n",
    "import seaborn as sns\n",
    "import nbformat\n",
    "import pickle\n",
    "\n",
    "from sklearn.metrics.pairwise import cosine_similarity\n",
    "from scipy.spatial.distance import cosine\n",
    "from sklearn.feature_extraction.text import TfidfVectorizer\n",
    "from sklearn.model_selection import train_test_split\n",
    "from datetime import datetime\n",
    "from sklearn.neighbors import NearestNeighbors\n",
    "from sklearn.metrics import accuracy_score\n"
   ]
  },
  {
   "cell_type": "code",
   "execution_count": 5,
   "metadata": {},
   "outputs": [
    {
     "data": {
      "text/html": [
       "<div>\n",
       "<style scoped>\n",
       "    .dataframe tbody tr th:only-of-type {\n",
       "        vertical-align: middle;\n",
       "    }\n",
       "\n",
       "    .dataframe tbody tr th {\n",
       "        vertical-align: top;\n",
       "    }\n",
       "\n",
       "    .dataframe thead th {\n",
       "        text-align: right;\n",
       "    }\n",
       "</style>\n",
       "<table border=\"1\" class=\"dataframe\">\n",
       "  <thead>\n",
       "    <tr style=\"text-align: right;\">\n",
       "      <th></th>\n",
       "      <th>member_no</th>\n",
       "      <th>reg_date</th>\n",
       "      <th>dob</th>\n",
       "      <th>hse_no</th>\n",
       "      <th>gender</th>\n",
       "      <th>town</th>\n",
       "      <th>relationship</th>\n",
       "      <th>beneficiery_dob</th>\n",
       "      <th>portfolio</th>\n",
       "    </tr>\n",
       "  </thead>\n",
       "  <tbody>\n",
       "    <tr>\n",
       "      <th>0</th>\n",
       "      <td>99996</td>\n",
       "      <td>2023-10-01 00:00:00.000</td>\n",
       "      <td>1998-04-06 00:00:00</td>\n",
       "      <td>Single Member</td>\n",
       "      <td>Female</td>\n",
       "      <td>NAIROBI</td>\n",
       "      <td>Partner</td>\n",
       "      <td>1998-01-26</td>\n",
       "      <td>Money Market</td>\n",
       "    </tr>\n",
       "    <tr>\n",
       "      <th>1</th>\n",
       "      <td>99996</td>\n",
       "      <td>2023-10-01 00:00:00.000</td>\n",
       "      <td>1998-04-06 00:00:00</td>\n",
       "      <td>Single Member</td>\n",
       "      <td>Female</td>\n",
       "      <td>NAIROBI</td>\n",
       "      <td>Partner</td>\n",
       "      <td>1998-01-26</td>\n",
       "      <td>Money Market</td>\n",
       "    </tr>\n",
       "    <tr>\n",
       "      <th>2</th>\n",
       "      <td>99996</td>\n",
       "      <td>2023-10-01 00:00:00.000</td>\n",
       "      <td>1998-04-06 00:00:00</td>\n",
       "      <td>Single Member</td>\n",
       "      <td>Female</td>\n",
       "      <td>NAIROBI</td>\n",
       "      <td>Partner</td>\n",
       "      <td>1998-01-26</td>\n",
       "      <td>Money Market</td>\n",
       "    </tr>\n",
       "    <tr>\n",
       "      <th>3</th>\n",
       "      <td>99996</td>\n",
       "      <td>2023-10-01 00:00:00.000</td>\n",
       "      <td>1998-04-06 00:00:00</td>\n",
       "      <td>Single Member</td>\n",
       "      <td>Female</td>\n",
       "      <td>NAIROBI</td>\n",
       "      <td>Partner</td>\n",
       "      <td>1998-01-26</td>\n",
       "      <td>Money Market</td>\n",
       "    </tr>\n",
       "    <tr>\n",
       "      <th>4</th>\n",
       "      <td>99996</td>\n",
       "      <td>2023-10-01 00:00:00.000</td>\n",
       "      <td>1998-04-06 00:00:00</td>\n",
       "      <td>Single Member</td>\n",
       "      <td>Female</td>\n",
       "      <td>NAIROBI</td>\n",
       "      <td>Partner</td>\n",
       "      <td>1998-01-26</td>\n",
       "      <td>Money Market</td>\n",
       "    </tr>\n",
       "    <tr>\n",
       "      <th>...</th>\n",
       "      <td>...</td>\n",
       "      <td>...</td>\n",
       "      <td>...</td>\n",
       "      <td>...</td>\n",
       "      <td>...</td>\n",
       "      <td>...</td>\n",
       "      <td>...</td>\n",
       "      <td>...</td>\n",
       "      <td>...</td>\n",
       "    </tr>\n",
       "    <tr>\n",
       "      <th>7532949</th>\n",
       "      <td>2</td>\n",
       "      <td>2011-06-07</td>\n",
       "      <td>1965-05-06</td>\n",
       "      <td>Single Member</td>\n",
       "      <td>Male</td>\n",
       "      <td>NAIROBI</td>\n",
       "      <td>NaN</td>\n",
       "      <td>NaN</td>\n",
       "      <td>Money Market</td>\n",
       "    </tr>\n",
       "    <tr>\n",
       "      <th>7532950</th>\n",
       "      <td>2</td>\n",
       "      <td>2011-06-07</td>\n",
       "      <td>1965-05-06</td>\n",
       "      <td>Single Member</td>\n",
       "      <td>Male</td>\n",
       "      <td>NAIROBI</td>\n",
       "      <td>NaN</td>\n",
       "      <td>NaN</td>\n",
       "      <td>Money Market</td>\n",
       "    </tr>\n",
       "    <tr>\n",
       "      <th>7532951</th>\n",
       "      <td>2</td>\n",
       "      <td>2011-06-07</td>\n",
       "      <td>1965-05-06</td>\n",
       "      <td>Single Member</td>\n",
       "      <td>Male</td>\n",
       "      <td>NAIROBI</td>\n",
       "      <td>NaN</td>\n",
       "      <td>NaN</td>\n",
       "      <td>Money Market</td>\n",
       "    </tr>\n",
       "    <tr>\n",
       "      <th>7532952</th>\n",
       "      <td>2</td>\n",
       "      <td>2011-06-07</td>\n",
       "      <td>1965-05-06</td>\n",
       "      <td>Single Member</td>\n",
       "      <td>Male</td>\n",
       "      <td>NAIROBI</td>\n",
       "      <td>NaN</td>\n",
       "      <td>NaN</td>\n",
       "      <td>Balanced Fund</td>\n",
       "    </tr>\n",
       "    <tr>\n",
       "      <th>7532953</th>\n",
       "      <td>2</td>\n",
       "      <td>2011-06-07</td>\n",
       "      <td>1965-05-06</td>\n",
       "      <td>Single Member</td>\n",
       "      <td>Male</td>\n",
       "      <td>NAIROBI</td>\n",
       "      <td>NaN</td>\n",
       "      <td>NaN</td>\n",
       "      <td>Money Market</td>\n",
       "    </tr>\n",
       "  </tbody>\n",
       "</table>\n",
       "<p>7532954 rows × 9 columns</p>\n",
       "</div>"
      ],
      "text/plain": [
       "         member_no                 reg_date                  dob  \\\n",
       "0            99996  2023-10-01 00:00:00.000  1998-04-06 00:00:00   \n",
       "1            99996  2023-10-01 00:00:00.000  1998-04-06 00:00:00   \n",
       "2            99996  2023-10-01 00:00:00.000  1998-04-06 00:00:00   \n",
       "3            99996  2023-10-01 00:00:00.000  1998-04-06 00:00:00   \n",
       "4            99996  2023-10-01 00:00:00.000  1998-04-06 00:00:00   \n",
       "...            ...                      ...                  ...   \n",
       "7532949          2               2011-06-07           1965-05-06   \n",
       "7532950          2               2011-06-07           1965-05-06   \n",
       "7532951          2               2011-06-07           1965-05-06   \n",
       "7532952          2               2011-06-07           1965-05-06   \n",
       "7532953          2               2011-06-07           1965-05-06   \n",
       "\n",
       "                hse_no  gender     town relationship beneficiery_dob  \\\n",
       "0        Single Member  Female  NAIROBI      Partner      1998-01-26   \n",
       "1        Single Member  Female  NAIROBI      Partner      1998-01-26   \n",
       "2        Single Member  Female  NAIROBI      Partner      1998-01-26   \n",
       "3        Single Member  Female  NAIROBI      Partner      1998-01-26   \n",
       "4        Single Member  Female  NAIROBI      Partner      1998-01-26   \n",
       "...                ...     ...      ...          ...             ...   \n",
       "7532949  Single Member    Male  NAIROBI          NaN             NaN   \n",
       "7532950  Single Member    Male  NAIROBI          NaN             NaN   \n",
       "7532951  Single Member    Male  NAIROBI          NaN             NaN   \n",
       "7532952  Single Member    Male  NAIROBI          NaN             NaN   \n",
       "7532953  Single Member    Male  NAIROBI          NaN             NaN   \n",
       "\n",
       "             portfolio  \n",
       "0         Money Market  \n",
       "1         Money Market  \n",
       "2         Money Market  \n",
       "3         Money Market  \n",
       "4         Money Market  \n",
       "...                ...  \n",
       "7532949   Money Market  \n",
       "7532950   Money Market  \n",
       "7532951   Money Market  \n",
       "7532952  Balanced Fund  \n",
       "7532953   Money Market  \n",
       "\n",
       "[7532954 rows x 9 columns]"
      ]
     },
     "execution_count": 5,
     "metadata": {},
     "output_type": "execute_result"
    }
   ],
   "source": [
    "#load the dataset\n",
    "df = pd.read_csv(r\"C:\\Users\\User\\Downloads\\single_member.csv\")\n",
    "df"
   ]
  },
  {
   "cell_type": "code",
   "execution_count": 6,
   "metadata": {},
   "outputs": [
    {
     "data": {
      "text/plain": [
       "Index(['member_no', 'reg_date', 'dob', 'hse_no', 'gender', 'town',\n",
       "       'relationship', 'beneficiery_dob', 'portfolio'],\n",
       "      dtype='object')"
      ]
     },
     "execution_count": 6,
     "metadata": {},
     "output_type": "execute_result"
    }
   ],
   "source": [
    "#inspecting the columns in the dataframe\n",
    "df.columns"
   ]
  },
  {
   "cell_type": "code",
   "execution_count": 7,
   "metadata": {},
   "outputs": [
    {
     "data": {
      "text/plain": [
       "array([99996, 99994, 99993, ...,    19,     3,     2], dtype=int64)"
      ]
     },
     "execution_count": 7,
     "metadata": {},
     "output_type": "execute_result"
    }
   ],
   "source": [
    "#checking the unique values from the member_no column\n",
    "df['member_no'].unique()"
   ]
  },
  {
   "cell_type": "code",
   "execution_count": 8,
   "metadata": {},
   "outputs": [
    {
     "data": {
      "text/plain": [
       "array(['Female', 'Male', 'FEMALE', nan, 'MALE', 'F', 'M'], dtype=object)"
      ]
     },
     "execution_count": 8,
     "metadata": {},
     "output_type": "execute_result"
    }
   ],
   "source": [
    "#checking the unique values from the gender column\n",
    "df['gender'].unique()"
   ]
  },
  {
   "cell_type": "code",
   "execution_count": 9,
   "metadata": {},
   "outputs": [
    {
     "data": {
      "text/plain": [
       "array(['NAIROBI', nan, 'NAIROBI ', 'THIKA', 'NAKURU', 'MOMBASA ',\n",
       "       'NDANAI ', 'KISUMU', 'KIKUYU', 'JUJA', 'MACHAKOS', 'MERU',\n",
       "       'KERICHO', 'MUKURWEINI', 'KATANGI', 'THIKA,KIAMBU', 'NANYUKI',\n",
       "       'RUAI ', 'MALINDI', 'NYAHURURU', 'MUMIAS', 'KAKAMEGA', 'LODWAR',\n",
       "       'Nairobi ', 'KITENGELA', 'LIMURU', 'THIKA ', 'MIGORI', 'ELDORET',\n",
       "       'KITUI', 'RUARAKA', 'Ruiru', 'NJORO', 'EMBU', 'SORI', 'NGONG',\n",
       "       'MASENO', 'GATUNDU', 'KAHURO', 'KILIFI', 'RUIRU', 'KERUGOYA',\n",
       "       'KARATINA', 'KITALE ', 'MOMBASA', 'BUNGOMA', 'KISII', '-',\n",
       "       'Nairobi', 'KINAMBA', 'SIAYA', 'KERICHO ', 'KIAMBU', 'KITALE',\n",
       "       'BUSIA', 'RUNYENJES', 'VILLAGE MARKET', 'Kapsabet', 'KAGWE',\n",
       "       'NANDI HILLS', 'KUTUS', 'DAGORETTI', 'LITEIN', 'KAJIADO', 'CHUKA',\n",
       "       'NYERI', 'NAIROBI, NAIROBI', 'Kisumu ', 'KANJUKU', 'EMALI',\n",
       "       'GILGIL', 'Kiambu ', 'KANGEMA', 'TIRIKI', 'KARATINA ', 'OTHAYA',\n",
       "       'KARURI ,KIAMBU', 'MURANGA ', 'Mombasa', 'GATUKUYU ', 'MLOLONGO',\n",
       "       'UTAWALA ', 'KAPENGURIA', 'KAPSABET', 'SUNA', 'BOMET', 'KENOL ',\n",
       "       'NYERI ', 'BUNGOMA ', 'NDANAI', 'KALIMONI', 'KIGANJO',\n",
       "       'KAPSOKWONY', 'Nakuru', 'KIAMBU ', 'nairobi', 'CHOGORIA',\n",
       "       'GITHUNGURI', 'YOANI,SALAMA', 'LIMURU ', 'NAIROBI, KENYA.',\n",
       "       'UKUNDA', 'MATUU', 'embu', 'NYALI', 'nakuru', 'MBALE', 'EMUHAYA',\n",
       "       'TELFORD', 'NAIVASHA', 'KAREN', 'KILIFI ', 'HOLA', 'MAKINDU',\n",
       "       'WOTE', 'DIANI', 'O', 'OLKALAU', 'KAREN ', 'UPLANDS', 'WANGÚRU',\n",
       "       'KABIYET', 'KAKAMEGA ', 'SOTIK', 'NGONG ', 'CITY SQUARE', 'NKUBU',\n",
       "       'KANGARI', 'NGONG HILLS ', 'NYAHURURU ', 'KARURI ', 'UTHIRU',\n",
       "       'MARIMANTI', 'MANCHESTER', 'Kikuyu', '.', 'NAIRO ', 'kiambu',\n",
       "       'VOI', 'EMBAKASI', 'MOLO', 'Siaya ', 'NGIYA', 'OLKALOU',\n",
       "       'KANYAGIA', 'WANJOHI', 'kabete', 'Wamunyu', 'MARIAKANI',\n",
       "       'KISERIAN', 'ARTHI RIVER ', 'SUBUKIA', 'KILGORIS', 'KIMININI',\n",
       "       'LAGOS', 'SARE', 'ATHI RIVER', 'ngong hills ', 'WERUGHA',\n",
       "       'NAIROBIP', 'MASINFA', 'kikuyu', 'OL JORO OROK', 'MAUA',\n",
       "       'GIKUE MURANGA', 'KIMENDE', 'KIMILILI', 'KISUMU ', 'VIHIGA',\n",
       "       ' NAIROBI ', 'BURUBURU', 'MATATHIA', 'RUAKA', 'UGUNJA', 'LONGISA',\n",
       "       'ELDORATE ', 'KAPKATET', 'WINNIPEG', 'PIPELINE ', 'KAHAWA WEST ',\n",
       "       'KANDARA', 'Kimilili ', 'MTWAPA ', 'MARAGUA', 'BANANA ', 'NYAMIRA',\n",
       "       'AUBURN', 'KARURI', 'MTWAPA', 'ONGATA RONGAI', 'ELDORET ',\n",
       "       'HOMABAY', 'WANGIGE', 'KENDUBAY', 'KIBWEZI', 'RONGAI', 'RUIRU ',\n",
       "       'NORTH KINANGOP', 'MAKUYU', 'Nyeri ', 'Eldoret ', 'BOUTIGNY',\n",
       "       '00506', 'MWINGI', '00100', 'KERUGOYA ', 'TALA', 'OLENGURUONE',\n",
       "       'MAVINDINI', 'UHURU GARDENS', 'KIKUYU ', 'Ongata Rongai',\n",
       "       'SOUTH KINANGOP', 'ELDAMA RAVINE', 'MITUNGURU', 'TOM MBOYA',\n",
       "       'NAKURU ', 'MITABONI', 'NAROMORU', 'MURANGA', 'OLJOROROK',\n",
       "       'BUTERE', 'OYUGIS', 'SILIBWET', 'EMBU ', 'Doha', 'Eldoret',\n",
       "       'KANGEMI', 'NYERI-KIGUMO', 'KISERIAN ', 'Athi River', 'KENOL',\n",
       "       'OL KALOU', 'WESTLANDS', 'Nyahururu ', 'ENDARASHA ', 'GPO/NAIROBI',\n",
       "       'DAGORETI', 'OGEMBO ', 'mombasa', 'RUAI', 'DONYO SABUK', 'KEROKA',\n",
       "       'LOWER KABETE', 'MWEIGA', 'Naitobi', 'TOKYO', 'Embu', 'KIRINYAGA',\n",
       "       'KIANYAGA', 'SIAYA ', 'ADLISWIL', 'BURU BURU', 'MERU ', 'NYAKIO',\n",
       "       'KWALE', 'AMUKURA', 'NAROK', 'KOBUJOI', \"WANG'URU\", 'BONDO',\n",
       "       'Kericho', 'KIKIMA ', 'CHANGAMWE', 'BUTULA', 'NAIROBI KAYOLE',\n",
       "       'KANGUNDO', 'MARIAKANI ', 'TIMBOROA', 'KIANJAI', 'KALOLENI ',\n",
       "       'ISINYA', 'IOWA CITY, IOWA', 'Garsen ', 'MUKURWE-INI',\n",
       "       'NAIROBI GPO', 'MANYATTA', 'SARE-OWENDO', 'NANYUKI ', 'NDHIWA',\n",
       "       'ELBURGON', 'Orange', 'MAKUENI', 'kisumu ', 'MACHAKOS ',\n",
       "       'KABARNET ', \"Murang'a \", 'JUJA, KIAMBU', 'Bungoma', 'MAWEGO',\n",
       "       'Bath', 'ROYSAMBU', 'Nanyuki', 'SAGANA', 'MACH ', 'Nyeri', 'Ruaka',\n",
       "       'KITUI ', 'KAJIADO ', 'NUNGUNI', 'RONGAI ', 'KISII ', 'WANGIGE ',\n",
       "       'Makongeni Jogoo Rd', 'nairobi ', 'Kikuyu ', 'Kisii', 'MSAMBWENI',\n",
       "       'BUJUMBURA', 'GITHONGO', 'KEROKA/KISII', 'BURUBURU, NAIROBI',\n",
       "       'MALAVA', 'KIJABE', 'Woolwich ', 'NDERE-SIAYA', 'AHERO',\n",
       "       'MUHORONI ', 'Nakuru ', 'kahuro', 'Malakisi ', 'MUHORONI',\n",
       "       'ISIOLO', 'SYOKIMAU ', 'ONGATA RONGAI ', 'Maralal ',\n",
       "       'KIBIRICHIA, MERU', 'GRANGER, INDIANA', 'WESTLAND ', 'MUKURWEINI ',\n",
       "       'MASII', 'NRB', 'KWISERO', 'ANKARA', 'SHIMBA HILLS', 'TAVETA',\n",
       "       'WOTE, MAKUENI ', 'WANGURU', 'KISSII', 'BURUBURU NAIROBI ',\n",
       "       'KIRITIRI', 'MESA ARIZONA', 'KAJIADO TOWN', 'KURIA',\n",
       "       'NAIROBI WEST', 'ENDARASHA', 'KIPKAREN ', '0', 'GAMBOGI', 'KOLA',\n",
       "       'Marsabit', 'WEBUYE', 'GAKUNGU', 'NAIROBJ',\n",
       "       'NAIROBI ,KAMITI ROAD RICHLAND', 'NKUBU ', 'MWATATE', 'MALAKISI',\n",
       "       'ITEN', 'KATHIANI', \"MURANG'A\", 'KAIRIA', 'UPLANDS ', 'RONGO',\n",
       "       'UHURU GARDEN', 'KINANGOP', 'BAHATI NAKURU ', 'MATILIKU', 'meru',\n",
       "       'Limuru', 'MALAA', 'TURBO', 'MARIMA -MERU HIGHWAY ', 'OLJORO OROK',\n",
       "       'homabay ', 'KIKIMA', 'ADAMS ARCADE', 'MUNICH', 'MUMIAS ',\n",
       "       'KALIMONI ', 'CHWELE', 'MARALAL', 'NAMBALE', 'NAIROBI COUNTY',\n",
       "       'Narok ', 'TURBO ', 'KANGARI ', 'Pécs ', 'thika', 'KATSE',\n",
       "       'thika ', 'CHEBUNYO', 'OL JORO OROK ', 'MOBIL PLAZA', 'WAMUNYU ',\n",
       "       'MAGUNGA', 'RORET', 'YALA', 'KAHUHIA', \"KENOL MURANG'A\",\n",
       "       'Machakos', 'UKWALA', 'KALOLENI', 'JOONDALUP', 'MIGORI ',\n",
       "       'MARAGOLI', 'MARMANET', 'IKANGA', 'KINOO', 'OYUGIS ', 'LANGATA',\n",
       "       'Kiambu', 'Malindi', 'NAIROBI.', 'MAKUENI ', 'Bungoma ',\n",
       "       'GITHUNGURI ', 'MACHOKOS', 'KOMBEWA ', 'UTHIRU ', 'KITENGELA ',\n",
       "       'BANANA', 'CHEPKORIO', 'MASII ', 'Gitugi', '. ', 'RUIRY', 'Kisumu',\n",
       "       'MBUMBUNI-MACHAKOS', 'WAMUYU', 'siaya', 'Kakamega', 'TAITA TAVETA',\n",
       "       'Bumala', 'KIMENDE ', 'BRISTOL', 'MATUNDA', 'KARABA', 'SULTAN',\n",
       "       'GATURA', 'KASARANI ,NAIROBI ', 'NANDI', 'MAGUTUNI', 'CHUKA ',\n",
       "       'NGONG HILL', 'ngong', 'KIANGAI', 'MBITA', 'Mumias', 'KAMBITI',\n",
       "       'MUMBI', 'Juja', 'WODANGA', 'KIRIANI', 'KABARNET', 'MISIKHU',\n",
       "       'Thika', 'NYANSIONGO', 'nyeri ', 'NAIVASHA ', \"MURANG'A \",\n",
       "       'KAPCHENO', 'NGARA', 'MADARAKA', 'kitengela ', 'BONDO ', 'WAMUNYU',\n",
       "       'NYANDARUA', 'MOGOGOSIEK', '00', 'NAIROBI/JUJA', 'NA ', 'LUANDA',\n",
       "       'KLEMZIG', 'TEL AVIV', 'ongata rongai ', '30-60101 Manyatta ',\n",
       "       '12410 Nyeri', 'KATHONZWENI ', 'GITHURAI ', 'WESRN AUSTRALIA',\n",
       "       'SABASABA ', 'Gilgil ', 'ISEBANIA', 'KIRIAINI', 'MUTHETHENI ',\n",
       "       'Mombasa ', 'Kitengela', 'CARLIFONIA', 'NIL',\n",
       "       'NAIROBI, NAIROBI AREA, KENYA', 'SOY', 'Sabasaba', 'SABASABA',\n",
       "       'COLUMBIA', 'Homa Bay ', 'MARIMA', 'SEGA', 'KAYOLE', 'BUDD LAKE',\n",
       "       'KITHYOKO', 'KIJABE ', 'Mbale', 'KITHIMANI', 'HANOI', 'chuka',\n",
       "       'KILINDINI', 'MERY', 'CHELMSFORD', 'LOITOKITOK', 'MOSORIOT',\n",
       "       'IKONGE', 'ENGINEER', 'Othaya', 'Ahero', 'MWEA', 'JOSKA ',\n",
       "       'NGAMBWA', 'MASINGA', 'KINANGOP ', 'LONDON', 'KILELESHWA ',\n",
       "       'SARIT CENTRE', 'mgange ', 'ST. MARYS NSW', 'GESIMA', 'Migori ',\n",
       "       'KHWISERO', 'SYOKIMAU', 'MTITO ANDEI ', 'nakuru ', 'NAIROBI CITY',\n",
       "       'ATHIRIVER', 'KABATI', 'Kitale', 'MPEKETONI', 'YOANI',\n",
       "       'KABARTONJO', 'NAMANGA', 'CHESINENDE', 'BAHATI', 'NZEEKA',\n",
       "       'MATATHIA, KAMAE', 'RONALD NGALA ', 'KUBUKUBU', 'THOGOTO',\n",
       "       'GATORA', 'NAI ', 'KUJA,KIAMBU', 'Machakos ', 'AMAGORO', 'Uthiru',\n",
       "       'Naivasha', 'KEROKA ', 'MAZERAS', 'EGERTON', 'KASARANI', 'Kimende',\n",
       "       'WAJIR', 'DUBAI', 'TWO RIVERS', 'NDARAGWA ', 'EASTLEIGH', 'KAGIO',\n",
       "       'HOMA BAY', 'KISII, KENYA', 'Thika ', 'NGECHA', 'Kakamega ',\n",
       "       'KERINGET', 'FORT WAYNE', 'STAREHE', 'GILGIL ', 'KAWANGWARE',\n",
       "       'GPO NAIROBI', 'GITUGI', 'Tala', 'kakamega ', 'TEXAS', 'GACHIE',\n",
       "       'Syokimau', 'Sydney ', 'LESSOS', 'Meru ', 'KIPKAREN RIVER',\n",
       "       'SOSIOT', 'LAKEWOOD SEATTLE', 'Lodwar', 'Kitale ', 'Membley',\n",
       "       'chepkorio', 'Luanda', 'Kijabe ', 'TONGAREN', 'karuri ', 'malindi',\n",
       "       'Ogembo ', 'Maryland', 'Kisii Town ', 'kajiado ', 'LIKONI',\n",
       "       'wangige ', 'Ngong', 'OLKALOU ', '4597-20100 Nakuru', 'GARISSA',\n",
       "       'KIRIAINI ', 'SYOKIMAU L', 'Machakos, Kathiani', 'Kitui',\n",
       "       'AUSTRALIA', 'Bondo', 'Salama ', 'bomet ', 'Naivasha ',\n",
       "       'TOORMINA, NSW', 'Utawala', 'Ankara', 'MOISBRIDGE', 'nbo',\n",
       "       'Kijabe', 'KABAZI', 'P.O BOX 75-30105 SOY', 'kisumu', 'nyeri',\n",
       "       'Voi', 'Kanjuku', \"NG'IYA\", 'Muranga', 'Bournemouth ',\n",
       "       'SARE-AWENDO', 'narok', 'Ruiru ', 'Kilifi ', 'Meru',\n",
       "       'Ol-joro-orok', '152 30100 eldoret ', 'Mtwapa', 'Karuri',\n",
       "       'Kitengela ', 'Isiolo ', '38061-00623 Nairobi', 'Ngong Hills',\n",
       "       'RARIEDA', ' Nairobi County,', '187 Ngewa', 'NJAMBINI',\n",
       "       '25635 00603 Nairobi', 'GIKOE', 'kakamega', 'ISHIARA ',\n",
       "       'P. O. Box 111 Ruiru', 'Kibwezi', 'Syokimau ', 'kiambu ', 'Bomet ',\n",
       "       'Busia', 'Gilgil', 'LAMU', 'Kajiado ', 'makueni ', 'kisii',\n",
       "       'MERU 2274', 'TURKANA', 'Kilifi', 'nottingham', 'Embakasi',\n",
       "       'Masii - MACHAKOS', 'SEREM', 'Tala, Kangundo. ', 'Ugunja',\n",
       "       'Karatina', 'Migori', 'Berlin', 'KALAMBA', 'UKUNDA ', 'ruiru',\n",
       "       'Sondu', 'BUSIA - PORT VICTORIA ', 'Matuu.', 'Gatundu',\n",
       "       'Seasons Kasarani. ', 'KARUNGU', 'Kahawa Sukari', 'Kangundo ',\n",
       "       'mombasa ', 'St. Georges', 'maseno', 'KINDARUMA ',\n",
       "       'kakuma 1 Nuer community ', 'copenhagen', '549 LIMURU', 'Lamu',\n",
       "       'DRESDEN', 'Ol Kalou ', 'KIRIA-INI ', '123 KIKUYU', 'Kianyaga',\n",
       "       'Kasarani', 'Makueni ', 'KABETE', 'Sagana',\n",
       "       'Imani avenue, Ongata Rongai, Kajiado', 'LOS ANGELES', 'KAKUMA',\n",
       "       'kitengela', '56-10300 Kerugoya', 'Kalimoni P.o Box 178-01001',\n",
       "       'Nairobi, Komarock.', 'kilifi', 'NAIROBI, KITENGELA ',\n",
       "       '14 Lamina Avenue, Mill Park VIC 3082', 'kebirigo ', 'Darwin ',\n",
       "       'Kericho ', 'Nairibi', '782 - 00232 Ruiru', 'eldoret', 'Oyugis',\n",
       "       'Conroe', 'NAIROBI 572 00300', 'Eldama Ravine', 'Kabete ', 'Maua',\n",
       "       'Isiolo', '828-90200', 'Athens', 'Chicago ', 'Hola', 'Abu Dhabi ',\n",
       "       'Nyayo Estate, Court 521', 'Deanside', '452-00200, KIAMBU',\n",
       "       'KOBENHAUN', 'karuri', 'Nanyuki ', 'P.O. Box 2413-60200, Meru',\n",
       "       'Kenol', 'Wote', 'githunguri ', 'NAIROBI. 45095-00100', 'Serem',\n",
       "       'P.o.box 1298-00618 Ruaraka, Nairobi', 'Vienna ', 'karen',\n",
       "       'CHICAGO', 'GENEVA', 'Kiserian ', 'Kabarnet', 'RABAI',\n",
       "       'KIAMBU COUNTY', 'Uthiru Cooperation ', 'Githunguri ',\n",
       "       '79718-00200 NAIROBI', 'stockholm', '42 NDARAGWA',\n",
       "       'P.O. Box 103635-00101', 'Heuchlingen ', 'PORT VICTORIA',\n",
       "       'Doolandella, Australia', 'Grand Oyster Kileleshwa, Nairobi',\n",
       "       '10572-00200 NAIROBI', 'Wangige ', 'Siaya', 'Litein', 'Washington',\n",
       "       'Geneva', 'Winchester ', 'Mariashoni', 'Mwiki', 'Limuru ',\n",
       "       'Nairobi i', 'P O Box 898-00100 NAIROBI', 'KAWNGWARE NAIROBI ',\n",
       "       'rongai', 'Roysambu', 'NAIROBI UMOJA', 'kangema',\n",
       "       'P.O.Box 848-00208 NGONG', 'Braunschweig ', 'Wote MAKUENI',\n",
       "       '814_3 300 KAPSABET ', 'Box 2316 Machakos', 'Ruaraka', 'Nyahururu',\n",
       "       'Kenmore ', 'Melbourne ', '1711 Nyahururu', 'nanyuki',\n",
       "       'kawangware ', 'Narok', 'Githunguri', 'Mahindi ', 'Moncton',\n",
       "       'kERUGOYA', 'Homa Bay', 'Ukunda', 'Mukurweini ', 'Malindi ',\n",
       "       'narumoru', 'Juba', '01000-214 Thika', 'kabete ', 'Kajiado',\n",
       "       'NAROK ', 'Kapenguria ', 'Athi-river ', \"murang'a \", 'Gem',\n",
       "       'nyahururu ', 'Gachie ', 'Kirinyaga', ' Nairobi ', 'CALIFORNIA',\n",
       "       'Bomet', 'molo', 'Chuka', 'Nairobi, Kenya.', 'ANTONY',\n",
       "       'wite-makueni', 'ugunja', 'Matunda ', 'KARORI', 'kikuyu ',\n",
       "       'Shinyalu ', 'Molo', 'KIPKAREN', 'KANGUNDO ', 'LUTON', 'FLORIDA',\n",
       "       'NGEWA', 'SUSWA', 'USA', \"KENOL MURANG'A \", 'PUYALLUP WA USA',\n",
       "       'LAARE', 'P.O Box 30231 - 00100, Nairobi', 'Runyenjes',\n",
       "       'KENDUBAY ', 'Gigiri, Nairobi', 'GATUKUYU', 'BUNYALA', 'OKIA',\n",
       "       '3704 GPO NAIROBI ', 'RANGWE', 'KITUI KENYA', 'SAUDI ARABIA',\n",
       "       'JUJA KALIMONI', 'MSA', 'GAKUNYU', 'MIHARATI', 'KERUGOYA TOWN',\n",
       "       'RAGENGNI', 'mwingi ', 'NBI', 'IGOJI', 'KIMULOT', 'LONDIANI',\n",
       "       'CAMBRIDGE', 'KHAYEGA', 'NDUNYU NJERU ', '58-10205 Maragua',\n",
       "       'MALINDI ', 'Kasarani, Clay City', 'ATHI RIVER ', 'Sawagongo ',\n",
       "       'HELSINKI', 'GPO', 'BURNTFOREST', 'MATUNDA ', 'HARRISDALE',\n",
       "       'KARANDI', 'DUKHAN ', 'SONDU', 'EMBU, KENYA', 'NAIROBI KENYA',\n",
       "       'NANDI HILLS ', 'HAZELWOOD', 'MGANGE', 'LUCYSUMMER-NAIROBI',\n",
       "       'KUKUYU', 'NGONG ROAD', 'NYAYO STADIUM', 'Karen', 'makuyu',\n",
       "       'LOITIKITOK', 'Kenyenya', 'MUNICH ', 'tawa', 'FUNYULA',\n",
       "       'NOTTIGHAM', 'nanyuki ', 'Kenny Bay', 'MOMBSA', 'SHERWOOD',\n",
       "       'NDARAGWA', 'ongata rongai', 'BUMALA', 'MEITINGEN ', '80100',\n",
       "       'KOMBEWA', 'DOYSELDOR', 'NOTTINGHAM', 'VIENNA', 'KISERIAN KAJIADO',\n",
       "       'NAIROBI, KENYA', 'Mtwapa ', 'KEUMBU', 'Kerugoya Town', 'KAP ',\n",
       "       'UPPER HILL NAIROBI', 'MOI;S BRIDGE', 'ENTERPRISE  ROAD',\n",
       "       'THIONGO-NAIROBI', 'KATHONZWENI', 'UTAWALA', 'MIU ATHI-RIVER',\n",
       "       'CHAMAKANGA', 'NYAMACHE', 'NUERI', 'SULTAN HAMUD', 'NAROMORU ',\n",
       "       'NYAMIRA ', 'NAIROBI BURU', 'HAMBURG', 'TOWN ', '14 KADONGO 40223',\n",
       "       'Mois Bridge ', 'RUNYENJES ', 'MARAGWA', 'SURPRISE,USA',\n",
       "       'KALAMBA ', 'Ruai', 'KADONGO', 'TORONGO', 'NJABINI',\n",
       "       'GIGIRI, VILLAGE MARKET, NAIROBI', 'LAVINGTON', 'SPRING VALLEY',\n",
       "       'MBUMBUNI', 'NAIROBI MUNICIPALITY', 'NAIROBI,KENYA',\n",
       "       'Bamburi Mtambo ', 'GITHURAI', 'RUMURUTI',\n",
       "       'Kenyatta Highway, Nanyuki', 'MUTOMO', 'KENYATTA HOSPITAL',\n",
       "       'NAIROBI GENERAL POST OFFICE', 'LITIEN', 'LONDIANI ',\n",
       "       'ONGATA RONGAI NAIROBI', 'GATUNDU ', 'GAMBONI', 'NAIROB',\n",
       "       'L.KABETE', 'ATHI - RIVER', 'kerugoya ', 'Webuye ', 'Maralal',\n",
       "       'Andover', 'mombas', 'Kiambu 627-00900', 'Maragua',\n",
       "       'murang*a 10200-658', 'Syracuse', 'Karen Nairobi ',\n",
       "       'ontario, California 91764 ', 'Karlsruhe ', 'Nyamira ', 'Olkalau',\n",
       "       'GILGIL, KENYA', 'Kerugoya ',\n",
       "       '14 AV FERNAND FENZY92160  ANTONY FRANCE'], dtype=object)"
      ]
     },
     "execution_count": 9,
     "metadata": {},
     "output_type": "execute_result"
    }
   ],
   "source": [
    "#checking the unique values from the town column\n",
    "df['town'].unique()"
   ]
  },
  {
   "cell_type": "code",
   "execution_count": 10,
   "metadata": {},
   "outputs": [
    {
     "data": {
      "text/plain": [
       "array(['Partner', 'Sister', 'Husband ', 'Husband', 'Daughter', 'Brother ',\n",
       "       'Son', 'Daughter ', 'Wife', 'Father', 'Mother', 'Brother', 'son',\n",
       "       'mother', 'father', 'Mother ', 'SPOUSE', 'FRIEND', 'Spouse ',\n",
       "       'WIfe', 'Father ', 'Spouse', 'child', nan, 'Parent', 'wife',\n",
       "       'Wife ', 'Son ', 'spouse', 'doughter', 'CHILD', 'ParentChild',\n",
       "       'partner', 'brother', 'sister', 'MotheR', 'Friend', 'Child',\n",
       "       'Cousin', 'Dad', 'Mum', 'MOTHER', 'WIFE', 'Sister ', 'SON',\n",
       "       'BROTHER', 'FATHER', 'aunt ', 'Grandmother', 'HUSBAND', 'self',\n",
       "       'husband', 'husband ', 'Owner', ' Grand daughter', 'Nephew',\n",
       "       'SP0USE', 'Self', 'parent', 'SISTER', 'NIECE', 'Niece', 'daughter',\n",
       "       'Sibling', 'DAUGHTER', 'AUNT', 'brother ', '254701361835',\n",
       "       'Parent ', 'daughter ', 'FAITHER', 'Family ', 'SPOUSE ',\n",
       "       'Sibling ', 'PARENT', 'CONFIDANT', 'MUM', 'DAD', 'wife ', 'family',\n",
       "       'Trustee ', 'son ', 'mother ', 'MOTHER ', 'friend', 'spouse ',\n",
       "       'S0N', 'SISTER ', 'FATHER ', 'father ', 'FAMILY ', 'WifE',\n",
       "       'Partner ', 'daugther', '1226805243;130143346', 'relative',\n",
       "       'BROTHER ', 'Daighter', 'Advisor', 'SON ', 'AUNTIE', 'FIANCEE',\n",
       "       'Fiancee', 'DOUGHTER', 'parent ', 'HUSBAND ', 'DAUGHTER ', 'SELF',\n",
       "       'MOther', 'mOTHER', 'Aunt', 'Grandparent', 'Bother ', 'SO',\n",
       "       'married', 'MARRIED', 'FIANCE', 'Doughter ', 'Guardian ',\n",
       "       'ASS0CIATE', 'sibling', 'fiance', 'Sistet', 'Grandson', 'Doughter',\n",
       "       'DAUGTHER', 'wIFE', 'Bro', 'PARTNER', 'B INLAW', 'GUARDIAN',\n",
       "       'daughte', 'Mom', 'COUSIN', 'GRANDMA', 'aunt', 'Domestic Partner',\n",
       "       'PATNER', 'me', 'MENTOR', 'UNCLE', 'Sis', 'SiBLING', 'GRAND SON',\n",
       "       'Fiance ', 'KID', 'SIBLING', 'GRANDSON', 'Nephew ', '-', 'Cousin ',\n",
       "       'DAUGHETR', 'Person', 's0n', 'na', 'myson', 'PARTNER ', 'Bishop',\n",
       "       'nephew', 'mwas', 'Mothers', 'Friend ', 'Child ', 'daughter33',\n",
       "       'CLOSE FRIEND', 'hUSBAND', 'CLOSEFRIEND', 'Boyfriend ',\n",
       "       'dependant', 'WIFE ', 'MARRIAGE', 'GRAND DAUGHTER', 'DAUGHER',\n",
       "       'Niece ', 'granddaughter', 'grandson', 'DAUGHTER/CHILD',\n",
       "       'RELATIVE', 'mum', 'single', 'Self ', 'sister ', 'Mother TO SON',\n",
       "       'Grandfather', 'DAD ', 'Relative', 'Daughter-in-law ',\n",
       "       'GRANDMOTHER', 'child ', '15', 'DaD', 'GIRLFRIEND', 'FAMILY',\n",
       "       'Uncle ', 'SiNGLE', 'SINGLE', 'fiancee', 'FaMILY', 'BENEFICIARY',\n",
       "       'OWNER', 'Relative ', 'GRANDDAUGHTER', ' Spouse', 'uncle',\n",
       "       'Married ', 'chil', 'CHILD MINOR', '33', 'NEPHEW', 'JOINT PARTNER',\n",
       "       'MOTHERS ', 'Fiancé ', 'Others ', 'Grand daughter',\n",
       "       'DAUGHTER-IN-LAW', 'Na', 'CHILD ', 'SPIRITUAL FATHER', 'COUSN',\n",
       "       'DEPEDANT', 'Estate', 'Uncle', 'sISTER', 'sisiter', ' BROTHER',\n",
       "       'Granddaughter ', 'BRother', 'Aunt ', 'cousin', 'Baby', 'Morher',\n",
       "       'MOM', 'God mother', 'GRANDSON ', 'Husband/spouse', 'SPOUCE',\n",
       "       'uncle ', 'FRIEND ', 'Single', 'Vhild', 'Patner', 'Spouce',\n",
       "       'Family', 'SoN', 'SisteR', 'AUNTY', 'FATHER-IN-LAW', 'SonS', '0',\n",
       "       'MO9', 'Fiance', '33.4', 'CHILF', '254727756559', '0720401466',\n",
       "       'GRAND FATHER', 'PRINCIPAL', 'Guardian', 'JUNIOR',\n",
       "       'DGRAND DAUGHTER', 'COWORKER', 'GRAND MOTHER', 'D100', 'NMO',\n",
       "       'BUSINESS PARTNER', 'GURDIAN', '2021', 'MotH', 'MoM', 'UN,CLE',\n",
       "       'GRAND CHILD', 'Sister in law', 'Grand Daughter', 'COMAPANION',\n",
       "       'BOYFRIEND', 'EX-WIFE', 'GRANDDAUGTER', 'PARNT', 'M', 'F', 'Chils',\n",
       "       ';SON', 'GUARDINA', 'NiecE', 'Brother-IN-LAW', 'Member',\n",
       "       'Grand mother', 'ADMINISTRATOR', 'VM', 'GRANDFATHER', 'GIRLFRIED',\n",
       "       'Brestfriend', 'Finance', 'SIS', 'Daughter in law', 'children',\n",
       "       'Girlfriend', 'COLLEAGUE', 'TRUSTEE', '254708368426', 'Colleague',\n",
       "       'Sister-IN-LAW', 'GRAND-DAUGHTER', 'GRANNY', 'GRANDCHILD', \"'M\",\n",
       "       'spouce', 'SiLBLING', 'Siblings', 'Step-mother', 'Aunty', 'FREINF',\n",
       "       '50', '100', '254723993458', 'Cousins', 'Cousins ', 'ASSOCIATE',\n",
       "       'Fiane', 'guardian', 'Guadian', 'Confidant', 'Auntie', 'GRANDPA',\n",
       "       'mom', 'Brother in Law', 'BUSINESS PARTNER ', 'Spuose',\n",
       "       'Business Partner', 'Dating', 'IN LAW', 'STEP-MOM', 'Son/Brother',\n",
       "       'Chid', 'Granddaughter', 'niece', 'Son/SISTER', 'Grand Son',\n",
       "       'BrotheR', \"Nolan's Guardian\", \"Xena's Guardian\", 'Sister-in law',\n",
       "       'PARENTS', 'c/o', 'STEP MOTHER', 'NiCE', 'Ciru', 'DEPENDANT',\n",
       "       'som', 'GUARDIAN ', 'Dau`', 'Kid', 'PARENT ', 'CHILDREN',\n",
       "       'partner ', 'CLOUSIN', '19112004', 'twinsister', 'MINOR',\n",
       "       'Sister- Custodian', 'GRANSON', 'COMPANION', 'ENGAGED',\n",
       "       'WELL WISHER', 'PARNER', 'GRANCHILD', 'Trustee', 'Next of kin',\n",
       "       'SIIBLING', 'SIBLINGS', 'Foster daughter', 'ADMINSTRATOR',\n",
       "       'IN-LAW', 'Boyfriend', 'NepheW', 'EMPLOYEE', 'DIRECTORS',\n",
       "       'RELIGIOUS COMMUNITY', 'CUSTODIAN', 'C/O ARIANNA', 'Sister IN LAW',\n",
       "       'spose', 'SPAUSE', 'MEMBER', 'DomesticPartner', 'Grand-daughter',\n",
       "       'Brother-in-law', 'STEP-BROTHER', 'Mother to Evan', 'Sister-Inlaw',\n",
       "       'BUS. PARTNER', 'Sister(Guardian)', 'CONTACT PERSON', 'FatheR',\n",
       "       'Brother in law', 'Parwnt', 'M,', 'Sister-GUARDIAN', 'Grand Child',\n",
       "       'GODMOTHER', 'Sister-Guardian', 'Mother- Guardian', 'Grandchild',\n",
       "       'Grand son', 'CHLD', 'GRAND.DAUGHTER', 'GRAND-MOTHER', 'Parents',\n",
       "       'EX WIFE', 'Sister - Guardian', 'Step-Mother', 'FOSTER DAUGHTER',\n",
       "       'Grand-mother', 'God Mother', 'Mother-in-law', 'MEMBER ',\n",
       "       'B/S PARTNER', 'LAWYER', 'GRAND-SON', 'parents', 'Stepson',\n",
       "       'Contingent', 'grandmother', 'G/Daughter', 'Brother and sister',\n",
       "       'Sibbling', ' ', 'COUSIN ', 'DaughteR', 'SPUOSE', 'CHIILD',\n",
       "       'DSPOUSE', 'Executor', 'HU', 'EWIFE', 'SPOUDSE', 'SoPOUSE',\n",
       "       'grandchild', 'ChILD', '9266025', 'PARE NT', '254700442162',\n",
       "       'BEST FRIEND', 'SISTER IN LAW ', 'mather', 'SAVING PARTNER ',\n",
       "       'AUNTIE ', 'ParenChild', 'GIRLFRIEND ', 'SINGLE ', 'Parentchild',\n",
       "       'parentchild', 'SPOUSE20', 'Myself', 'FIACEE', 'SD',\n",
       "       'Grand mother ', 'Mother of child', 'Childnephew', 'FATH ',\n",
       "       'MY SON', 'BabyMother', 'CHID', 'GIRL FRIEND', 'chils', 'self ',\n",
       "       \"Mother's \", 'Mum ', 'aunty', 'SPouse', 'Auntie ', 'ChiLD',\n",
       "       'grandmother ', 'Grand daughter ', 'auntie', 'baby mama ', 'DA',\n",
       "       'BrOther', 'Fiancee ', 'In law', 'Colleague ', 'WiFE', 'owner',\n",
       "       'sON', 'Mather', 'Dauhgter', 'myself', 'Hubby', 'Sister in-law',\n",
       "       'Aunty ', 'Foster parent', 'grandson ', 'Wife/Guardian',\n",
       "       '21761402', 'GUARDIAN-MOTHER'], dtype=object)"
      ]
     },
     "execution_count": 10,
     "metadata": {},
     "output_type": "execute_result"
    }
   ],
   "source": [
    "#checking the unique values from the relationship column\n",
    "df['relationship'].unique()"
   ]
  },
  {
   "cell_type": "code",
   "execution_count": 11,
   "metadata": {},
   "outputs": [
    {
     "data": {
      "text/plain": [
       "array(['Single Member'], dtype=object)"
      ]
     },
     "execution_count": 11,
     "metadata": {},
     "output_type": "execute_result"
    }
   ],
   "source": [
    "#checking the unique values from the hse_no column\n",
    "df['hse_no'].unique()"
   ]
  },
  {
   "cell_type": "code",
   "execution_count": 12,
   "metadata": {},
   "outputs": [
    {
     "data": {
      "text/plain": [
       "array(['Money Market', 'Dollar Fund', 'Wealth Fund', 'Equity Fund',\n",
       "       'Fixed Income', 'Balanced Fund', 'MoneyMarket', nan], dtype=object)"
      ]
     },
     "execution_count": 12,
     "metadata": {},
     "output_type": "execute_result"
    }
   ],
   "source": [
    "#checking the unique values from the portfolio column\n",
    "df['portfolio'].unique()"
   ]
  },
  {
   "cell_type": "code",
   "execution_count": 13,
   "metadata": {},
   "outputs": [
    {
     "data": {
      "text/plain": [
       "array(['NAIROBI', nan, 'NAIROBI ', 'THIKA', 'NAKURU', 'MOMBASA ',\n",
       "       'NDANAI ', 'KISUMU', 'KIKUYU', 'JUJA', 'MACHAKOS', 'MERU',\n",
       "       'KERICHO', 'MUKURWEINI', 'KATANGI', 'THIKA,KIAMBU', 'NANYUKI',\n",
       "       'RUAI ', 'MALINDI', 'NYAHURURU', 'MUMIAS', 'KAKAMEGA', 'LODWAR',\n",
       "       'Nairobi ', 'KITENGELA', 'LIMURU', 'THIKA ', 'MIGORI', 'ELDORET',\n",
       "       'KITUI', 'RUARAKA', 'Ruiru', 'NJORO', 'EMBU', 'SORI', 'NGONG',\n",
       "       'MASENO', 'GATUNDU', 'KAHURO', 'KILIFI', 'RUIRU', 'KERUGOYA',\n",
       "       'KARATINA', 'KITALE ', 'MOMBASA', 'BUNGOMA', 'KISII', '-',\n",
       "       'Nairobi', 'KINAMBA', 'SIAYA', 'KERICHO ', 'KIAMBU', 'KITALE',\n",
       "       'BUSIA', 'RUNYENJES', 'VILLAGE MARKET', 'Kapsabet', 'KAGWE',\n",
       "       'NANDI HILLS', 'KUTUS', 'DAGORETTI', 'LITEIN', 'KAJIADO', 'CHUKA',\n",
       "       'NYERI', 'NAIROBI, NAIROBI', 'Kisumu ', 'KANJUKU', 'EMALI',\n",
       "       'GILGIL', 'Kiambu ', 'KANGEMA', 'TIRIKI', 'KARATINA ', 'OTHAYA',\n",
       "       'KARURI ,KIAMBU', 'MURANGA ', 'Mombasa', 'GATUKUYU ', 'MLOLONGO',\n",
       "       'UTAWALA ', 'KAPENGURIA', 'KAPSABET', 'SUNA', 'BOMET', 'KENOL ',\n",
       "       'NYERI ', 'BUNGOMA ', 'NDANAI', 'KALIMONI', 'KIGANJO',\n",
       "       'KAPSOKWONY', 'Nakuru', 'KIAMBU ', 'nairobi', 'CHOGORIA',\n",
       "       'GITHUNGURI', 'YOANI,SALAMA', 'LIMURU ', 'NAIROBI, KENYA.',\n",
       "       'UKUNDA', 'MATUU', 'embu', 'NYALI', 'nakuru', 'MBALE', 'EMUHAYA',\n",
       "       'TELFORD', 'NAIVASHA', 'KAREN', 'KILIFI ', 'HOLA', 'MAKINDU',\n",
       "       'WOTE', 'DIANI', 'O', 'OLKALAU', 'KAREN ', 'UPLANDS', 'WANGÚRU',\n",
       "       'KABIYET', 'KAKAMEGA ', 'SOTIK', 'NGONG ', 'CITY SQUARE', 'NKUBU',\n",
       "       'KANGARI', 'NGONG HILLS ', 'NYAHURURU ', 'KARURI ', 'UTHIRU',\n",
       "       'MARIMANTI', 'MANCHESTER', 'Kikuyu', '.', 'NAIRO ', 'kiambu',\n",
       "       'VOI', 'EMBAKASI', 'MOLO', 'Siaya ', 'NGIYA', 'OLKALOU',\n",
       "       'KANYAGIA', 'WANJOHI', 'kabete', 'Wamunyu', 'MARIAKANI',\n",
       "       'KISERIAN', 'ARTHI RIVER ', 'SUBUKIA', 'KILGORIS', 'KIMININI',\n",
       "       'LAGOS', 'SARE', 'ATHI RIVER', 'ngong hills ', 'WERUGHA',\n",
       "       'NAIROBIP', 'MASINFA', 'kikuyu', 'OL JORO OROK', 'MAUA',\n",
       "       'GIKUE MURANGA', 'KIMENDE', 'KIMILILI', 'KISUMU ', 'VIHIGA',\n",
       "       ' NAIROBI ', 'BURUBURU', 'MATATHIA', 'RUAKA', 'UGUNJA', 'LONGISA',\n",
       "       'ELDORATE ', 'KAPKATET', 'WINNIPEG', 'PIPELINE ', 'KAHAWA WEST ',\n",
       "       'KANDARA', 'Kimilili ', 'MTWAPA ', 'MARAGUA', 'BANANA ', 'NYAMIRA',\n",
       "       'AUBURN', 'KARURI', 'MTWAPA', 'ONGATA RONGAI', 'ELDORET ',\n",
       "       'HOMABAY', 'WANGIGE', 'KENDUBAY', 'KIBWEZI', 'RONGAI', 'RUIRU ',\n",
       "       'NORTH KINANGOP', 'MAKUYU', 'Nyeri ', 'Eldoret ', 'BOUTIGNY',\n",
       "       '00506', 'MWINGI', '00100', 'KERUGOYA ', 'TALA', 'OLENGURUONE',\n",
       "       'MAVINDINI', 'UHURU GARDENS', 'KIKUYU ', 'Ongata Rongai',\n",
       "       'SOUTH KINANGOP', 'ELDAMA RAVINE', 'MITUNGURU', 'TOM MBOYA',\n",
       "       'NAKURU ', 'MITABONI', 'NAROMORU', 'MURANGA', 'OLJOROROK',\n",
       "       'BUTERE', 'OYUGIS', 'SILIBWET', 'EMBU ', 'Doha', 'Eldoret',\n",
       "       'KANGEMI', 'NYERI-KIGUMO', 'KISERIAN ', 'Athi River', 'KENOL',\n",
       "       'OL KALOU', 'WESTLANDS', 'Nyahururu ', 'ENDARASHA ', 'GPO/NAIROBI',\n",
       "       'DAGORETI', 'OGEMBO ', 'mombasa', 'RUAI', 'DONYO SABUK', 'KEROKA',\n",
       "       'LOWER KABETE', 'MWEIGA', 'Naitobi', 'TOKYO', 'Embu', 'KIRINYAGA',\n",
       "       'KIANYAGA', 'SIAYA ', 'ADLISWIL', 'BURU BURU', 'MERU ', 'NYAKIO',\n",
       "       'KWALE', 'AMUKURA', 'NAROK', 'KOBUJOI', \"WANG'URU\", 'BONDO',\n",
       "       'Kericho', 'KIKIMA ', 'CHANGAMWE', 'BUTULA', 'NAIROBI KAYOLE',\n",
       "       'KANGUNDO', 'MARIAKANI ', 'TIMBOROA', 'KIANJAI', 'KALOLENI ',\n",
       "       'ISINYA', 'IOWA CITY, IOWA', 'Garsen ', 'MUKURWE-INI',\n",
       "       'NAIROBI GPO', 'MANYATTA', 'SARE-OWENDO', 'NANYUKI ', 'NDHIWA',\n",
       "       'ELBURGON', 'Orange', 'MAKUENI', 'kisumu ', 'MACHAKOS ',\n",
       "       'KABARNET ', \"Murang'a \", 'JUJA, KIAMBU', 'Bungoma', 'MAWEGO',\n",
       "       'Bath', 'ROYSAMBU', 'Nanyuki', 'SAGANA', 'MACH ', 'Nyeri', 'Ruaka',\n",
       "       'KITUI ', 'KAJIADO ', 'NUNGUNI', 'RONGAI ', 'KISII ', 'WANGIGE ',\n",
       "       'Makongeni Jogoo Rd', 'nairobi ', 'Kikuyu ', 'Kisii', 'MSAMBWENI',\n",
       "       'BUJUMBURA', 'GITHONGO', 'KEROKA/KISII', 'BURUBURU, NAIROBI',\n",
       "       'MALAVA', 'KIJABE', 'Woolwich ', 'NDERE-SIAYA', 'AHERO',\n",
       "       'MUHORONI ', 'Nakuru ', 'kahuro', 'Malakisi ', 'MUHORONI',\n",
       "       'ISIOLO', 'SYOKIMAU ', 'ONGATA RONGAI ', 'Maralal ',\n",
       "       'KIBIRICHIA, MERU', 'GRANGER, INDIANA', 'WESTLAND ', 'MUKURWEINI ',\n",
       "       'MASII', 'NRB', 'KWISERO', 'ANKARA', 'SHIMBA HILLS', 'TAVETA',\n",
       "       'WOTE, MAKUENI ', 'WANGURU', 'KISSII', 'BURUBURU NAIROBI ',\n",
       "       'KIRITIRI', 'MESA ARIZONA', 'KAJIADO TOWN', 'KURIA',\n",
       "       'NAIROBI WEST', 'ENDARASHA', 'KIPKAREN ', '0', 'GAMBOGI', 'KOLA',\n",
       "       'Marsabit', 'WEBUYE', 'GAKUNGU', 'NAIROBJ',\n",
       "       'NAIROBI ,KAMITI ROAD RICHLAND', 'NKUBU ', 'MWATATE', 'MALAKISI',\n",
       "       'ITEN', 'KATHIANI', \"MURANG'A\", 'KAIRIA', 'UPLANDS ', 'RONGO',\n",
       "       'UHURU GARDEN', 'KINANGOP', 'BAHATI NAKURU ', 'MATILIKU', 'meru',\n",
       "       'Limuru', 'MALAA', 'TURBO', 'MARIMA -MERU HIGHWAY ', 'OLJORO OROK',\n",
       "       'homabay ', 'KIKIMA', 'ADAMS ARCADE', 'MUNICH', 'MUMIAS ',\n",
       "       'KALIMONI ', 'CHWELE', 'MARALAL', 'NAMBALE', 'NAIROBI COUNTY',\n",
       "       'Narok ', 'TURBO ', 'KANGARI ', 'Pécs ', 'thika', 'KATSE',\n",
       "       'thika ', 'CHEBUNYO', 'OL JORO OROK ', 'MOBIL PLAZA', 'WAMUNYU ',\n",
       "       'MAGUNGA', 'RORET', 'YALA', 'KAHUHIA', \"KENOL MURANG'A\",\n",
       "       'Machakos', 'UKWALA', 'KALOLENI', 'JOONDALUP', 'MIGORI ',\n",
       "       'MARAGOLI', 'MARMANET', 'IKANGA', 'KINOO', 'OYUGIS ', 'LANGATA',\n",
       "       'Kiambu', 'Malindi', 'NAIROBI.', 'MAKUENI ', 'Bungoma ',\n",
       "       'GITHUNGURI ', 'MACHOKOS', 'KOMBEWA ', 'UTHIRU ', 'KITENGELA ',\n",
       "       'BANANA', 'CHEPKORIO', 'MASII ', 'Gitugi', '. ', 'RUIRY', 'Kisumu',\n",
       "       'MBUMBUNI-MACHAKOS', 'WAMUYU', 'siaya', 'Kakamega', 'TAITA TAVETA',\n",
       "       'Bumala', 'KIMENDE ', 'BRISTOL', 'MATUNDA', 'KARABA', 'SULTAN',\n",
       "       'GATURA', 'KASARANI ,NAIROBI ', 'NANDI', 'MAGUTUNI', 'CHUKA ',\n",
       "       'NGONG HILL', 'ngong', 'KIANGAI', 'MBITA', 'Mumias', 'KAMBITI',\n",
       "       'MUMBI', 'Juja', 'WODANGA', 'KIRIANI', 'KABARNET', 'MISIKHU',\n",
       "       'Thika', 'NYANSIONGO', 'nyeri ', 'NAIVASHA ', \"MURANG'A \",\n",
       "       'KAPCHENO', 'NGARA', 'MADARAKA', 'kitengela ', 'BONDO ', 'WAMUNYU',\n",
       "       'NYANDARUA', 'MOGOGOSIEK', '00', 'NAIROBI/JUJA', 'NA ', 'LUANDA',\n",
       "       'KLEMZIG', 'TEL AVIV', 'ongata rongai ', '30-60101 Manyatta ',\n",
       "       '12410 Nyeri', 'KATHONZWENI ', 'GITHURAI ', 'WESRN AUSTRALIA',\n",
       "       'SABASABA ', 'Gilgil ', 'ISEBANIA', 'KIRIAINI', 'MUTHETHENI ',\n",
       "       'Mombasa ', 'Kitengela', 'CARLIFONIA', 'NIL',\n",
       "       'NAIROBI, NAIROBI AREA, KENYA', 'SOY', 'Sabasaba', 'SABASABA',\n",
       "       'COLUMBIA', 'Homa Bay ', 'MARIMA', 'SEGA', 'KAYOLE', 'BUDD LAKE',\n",
       "       'KITHYOKO', 'KIJABE ', 'Mbale', 'KITHIMANI', 'HANOI', 'chuka',\n",
       "       'KILINDINI', 'MERY', 'CHELMSFORD', 'LOITOKITOK', 'MOSORIOT',\n",
       "       'IKONGE', 'ENGINEER', 'Othaya', 'Ahero', 'MWEA', 'JOSKA ',\n",
       "       'NGAMBWA', 'MASINGA', 'KINANGOP ', 'LONDON', 'KILELESHWA ',\n",
       "       'SARIT CENTRE', 'mgange ', 'ST. MARYS NSW', 'GESIMA', 'Migori ',\n",
       "       'KHWISERO', 'SYOKIMAU', 'MTITO ANDEI ', 'nakuru ', 'NAIROBI CITY',\n",
       "       'ATHIRIVER', 'KABATI', 'Kitale', 'MPEKETONI', 'YOANI',\n",
       "       'KABARTONJO', 'NAMANGA', 'CHESINENDE', 'BAHATI', 'NZEEKA',\n",
       "       'MATATHIA, KAMAE', 'RONALD NGALA ', 'KUBUKUBU', 'THOGOTO',\n",
       "       'GATORA', 'NAI ', 'KUJA,KIAMBU', 'Machakos ', 'AMAGORO', 'Uthiru',\n",
       "       'Naivasha', 'KEROKA ', 'MAZERAS', 'EGERTON', 'KASARANI', 'Kimende',\n",
       "       'WAJIR', 'DUBAI', 'TWO RIVERS', 'NDARAGWA ', 'EASTLEIGH', 'KAGIO',\n",
       "       'HOMA BAY', 'KISII, KENYA', 'Thika ', 'NGECHA', 'Kakamega ',\n",
       "       'KERINGET', 'FORT WAYNE', 'STAREHE', 'GILGIL ', 'KAWANGWARE',\n",
       "       'GPO NAIROBI', 'GITUGI', 'Tala', 'kakamega ', 'TEXAS', 'GACHIE',\n",
       "       'Syokimau', 'Sydney ', 'LESSOS', 'Meru ', 'KIPKAREN RIVER',\n",
       "       'SOSIOT', 'LAKEWOOD SEATTLE', 'Lodwar', 'Kitale ', 'Membley',\n",
       "       'chepkorio', 'Luanda', 'Kijabe ', 'TONGAREN', 'karuri ', 'malindi',\n",
       "       'Ogembo ', 'Maryland', 'Kisii Town ', 'kajiado ', 'LIKONI',\n",
       "       'wangige ', 'Ngong', 'OLKALOU ', '4597-20100 Nakuru', 'GARISSA',\n",
       "       'KIRIAINI ', 'SYOKIMAU L', 'Machakos, Kathiani', 'Kitui',\n",
       "       'AUSTRALIA', 'Bondo', 'Salama ', 'bomet ', 'Naivasha ',\n",
       "       'TOORMINA, NSW', 'Utawala', 'Ankara', 'MOISBRIDGE', 'nbo',\n",
       "       'Kijabe', 'KABAZI', 'P.O BOX 75-30105 SOY', 'kisumu', 'nyeri',\n",
       "       'Voi', 'Kanjuku', \"NG'IYA\", 'Muranga', 'Bournemouth ',\n",
       "       'SARE-AWENDO', 'narok', 'Ruiru ', 'Kilifi ', 'Meru',\n",
       "       'Ol-joro-orok', '152 30100 eldoret ', 'Mtwapa', 'Karuri',\n",
       "       'Kitengela ', 'Isiolo ', '38061-00623 Nairobi', 'Ngong Hills',\n",
       "       'RARIEDA', ' Nairobi County,', '187 Ngewa', 'NJAMBINI',\n",
       "       '25635 00603 Nairobi', 'GIKOE', 'kakamega', 'ISHIARA ',\n",
       "       'P. O. Box 111 Ruiru', 'Kibwezi', 'Syokimau ', 'kiambu ', 'Bomet ',\n",
       "       'Busia', 'Gilgil', 'LAMU', 'Kajiado ', 'makueni ', 'kisii',\n",
       "       'MERU 2274', 'TURKANA', 'Kilifi', 'nottingham', 'Embakasi',\n",
       "       'Masii - MACHAKOS', 'SEREM', 'Tala, Kangundo. ', 'Ugunja',\n",
       "       'Karatina', 'Migori', 'Berlin', 'KALAMBA', 'UKUNDA ', 'ruiru',\n",
       "       'Sondu', 'BUSIA - PORT VICTORIA ', 'Matuu.', 'Gatundu',\n",
       "       'Seasons Kasarani. ', 'KARUNGU', 'Kahawa Sukari', 'Kangundo ',\n",
       "       'mombasa ', 'St. Georges', 'maseno', 'KINDARUMA ',\n",
       "       'kakuma 1 Nuer community ', 'copenhagen', '549 LIMURU', 'Lamu',\n",
       "       'DRESDEN', 'Ol Kalou ', 'KIRIA-INI ', '123 KIKUYU', 'Kianyaga',\n",
       "       'Kasarani', 'Makueni ', 'KABETE', 'Sagana',\n",
       "       'Imani avenue, Ongata Rongai, Kajiado', 'LOS ANGELES', 'KAKUMA',\n",
       "       'kitengela', '56-10300 Kerugoya', 'Kalimoni P.o Box 178-01001',\n",
       "       'Nairobi, Komarock.', 'kilifi', 'NAIROBI, KITENGELA ',\n",
       "       '14 Lamina Avenue, Mill Park VIC 3082', 'kebirigo ', 'Darwin ',\n",
       "       'Kericho ', 'Nairibi', '782 - 00232 Ruiru', 'eldoret', 'Oyugis',\n",
       "       'Conroe', 'NAIROBI 572 00300', 'Eldama Ravine', 'Kabete ', 'Maua',\n",
       "       'Isiolo', '828-90200', 'Athens', 'Chicago ', 'Hola', 'Abu Dhabi ',\n",
       "       'Nyayo Estate, Court 521', 'Deanside', '452-00200, KIAMBU',\n",
       "       'KOBENHAUN', 'karuri', 'Nanyuki ', 'P.O. Box 2413-60200, Meru',\n",
       "       'Kenol', 'Wote', 'githunguri ', 'NAIROBI. 45095-00100', 'Serem',\n",
       "       'P.o.box 1298-00618 Ruaraka, Nairobi', 'Vienna ', 'karen',\n",
       "       'CHICAGO', 'GENEVA', 'Kiserian ', 'Kabarnet', 'RABAI',\n",
       "       'KIAMBU COUNTY', 'Uthiru Cooperation ', 'Githunguri ',\n",
       "       '79718-00200 NAIROBI', 'stockholm', '42 NDARAGWA',\n",
       "       'P.O. Box 103635-00101', 'Heuchlingen ', 'PORT VICTORIA',\n",
       "       'Doolandella, Australia', 'Grand Oyster Kileleshwa, Nairobi',\n",
       "       '10572-00200 NAIROBI', 'Wangige ', 'Siaya', 'Litein', 'Washington',\n",
       "       'Geneva', 'Winchester ', 'Mariashoni', 'Mwiki', 'Limuru ',\n",
       "       'Nairobi i', 'P O Box 898-00100 NAIROBI', 'KAWNGWARE NAIROBI ',\n",
       "       'rongai', 'Roysambu', 'NAIROBI UMOJA', 'kangema',\n",
       "       'P.O.Box 848-00208 NGONG', 'Braunschweig ', 'Wote MAKUENI',\n",
       "       '814_3 300 KAPSABET ', 'Box 2316 Machakos', 'Ruaraka', 'Nyahururu',\n",
       "       'Kenmore ', 'Melbourne ', '1711 Nyahururu', 'nanyuki',\n",
       "       'kawangware ', 'Narok', 'Githunguri', 'Mahindi ', 'Moncton',\n",
       "       'kERUGOYA', 'Homa Bay', 'Ukunda', 'Mukurweini ', 'Malindi ',\n",
       "       'narumoru', 'Juba', '01000-214 Thika', 'kabete ', 'Kajiado',\n",
       "       'NAROK ', 'Kapenguria ', 'Athi-river ', \"murang'a \", 'Gem',\n",
       "       'nyahururu ', 'Gachie ', 'Kirinyaga', ' Nairobi ', 'CALIFORNIA',\n",
       "       'Bomet', 'molo', 'Chuka', 'Nairobi, Kenya.', 'ANTONY',\n",
       "       'wite-makueni', 'ugunja', 'Matunda ', 'KARORI', 'kikuyu ',\n",
       "       'Shinyalu ', 'Molo', 'KIPKAREN', 'KANGUNDO ', 'LUTON', 'FLORIDA',\n",
       "       'NGEWA', 'SUSWA', 'USA', \"KENOL MURANG'A \", 'PUYALLUP WA USA',\n",
       "       'LAARE', 'P.O Box 30231 - 00100, Nairobi', 'Runyenjes',\n",
       "       'KENDUBAY ', 'Gigiri, Nairobi', 'GATUKUYU', 'BUNYALA', 'OKIA',\n",
       "       '3704 GPO NAIROBI ', 'RANGWE', 'KITUI KENYA', 'SAUDI ARABIA',\n",
       "       'JUJA KALIMONI', 'MSA', 'GAKUNYU', 'MIHARATI', 'KERUGOYA TOWN',\n",
       "       'RAGENGNI', 'mwingi ', 'NBI', 'IGOJI', 'KIMULOT', 'LONDIANI',\n",
       "       'CAMBRIDGE', 'KHAYEGA', 'NDUNYU NJERU ', '58-10205 Maragua',\n",
       "       'MALINDI ', 'Kasarani, Clay City', 'ATHI RIVER ', 'Sawagongo ',\n",
       "       'HELSINKI', 'GPO', 'BURNTFOREST', 'MATUNDA ', 'HARRISDALE',\n",
       "       'KARANDI', 'DUKHAN ', 'SONDU', 'EMBU, KENYA', 'NAIROBI KENYA',\n",
       "       'NANDI HILLS ', 'HAZELWOOD', 'MGANGE', 'LUCYSUMMER-NAIROBI',\n",
       "       'KUKUYU', 'NGONG ROAD', 'NYAYO STADIUM', 'Karen', 'makuyu',\n",
       "       'LOITIKITOK', 'Kenyenya', 'MUNICH ', 'tawa', 'FUNYULA',\n",
       "       'NOTTIGHAM', 'nanyuki ', 'Kenny Bay', 'MOMBSA', 'SHERWOOD',\n",
       "       'NDARAGWA', 'ongata rongai', 'BUMALA', 'MEITINGEN ', '80100',\n",
       "       'KOMBEWA', 'DOYSELDOR', 'NOTTINGHAM', 'VIENNA', 'KISERIAN KAJIADO',\n",
       "       'NAIROBI, KENYA', 'Mtwapa ', 'KEUMBU', 'Kerugoya Town', 'KAP ',\n",
       "       'UPPER HILL NAIROBI', 'MOI;S BRIDGE', 'ENTERPRISE  ROAD',\n",
       "       'THIONGO-NAIROBI', 'KATHONZWENI', 'UTAWALA', 'MIU ATHI-RIVER',\n",
       "       'CHAMAKANGA', 'NYAMACHE', 'NUERI', 'SULTAN HAMUD', 'NAROMORU ',\n",
       "       'NYAMIRA ', 'NAIROBI BURU', 'HAMBURG', 'TOWN ', '14 KADONGO 40223',\n",
       "       'Mois Bridge ', 'RUNYENJES ', 'MARAGWA', 'SURPRISE,USA',\n",
       "       'KALAMBA ', 'Ruai', 'KADONGO', 'TORONGO', 'NJABINI',\n",
       "       'GIGIRI, VILLAGE MARKET, NAIROBI', 'LAVINGTON', 'SPRING VALLEY',\n",
       "       'MBUMBUNI', 'NAIROBI MUNICIPALITY', 'NAIROBI,KENYA',\n",
       "       'Bamburi Mtambo ', 'GITHURAI', 'RUMURUTI',\n",
       "       'Kenyatta Highway, Nanyuki', 'MUTOMO', 'KENYATTA HOSPITAL',\n",
       "       'NAIROBI GENERAL POST OFFICE', 'LITIEN', 'LONDIANI ',\n",
       "       'ONGATA RONGAI NAIROBI', 'GATUNDU ', 'GAMBONI', 'NAIROB',\n",
       "       'L.KABETE', 'ATHI - RIVER', 'kerugoya ', 'Webuye ', 'Maralal',\n",
       "       'Andover', 'mombas', 'Kiambu 627-00900', 'Maragua',\n",
       "       'murang*a 10200-658', 'Syracuse', 'Karen Nairobi ',\n",
       "       'ontario, California 91764 ', 'Karlsruhe ', 'Nyamira ', 'Olkalau',\n",
       "       'GILGIL, KENYA', 'Kerugoya ',\n",
       "       '14 AV FERNAND FENZY92160  ANTONY FRANCE'], dtype=object)"
      ]
     },
     "execution_count": 13,
     "metadata": {},
     "output_type": "execute_result"
    }
   ],
   "source": [
    "#checking the unique values from the town column\n",
    "df['town'].unique()"
   ]
  },
  {
   "cell_type": "code",
   "execution_count": 14,
   "metadata": {},
   "outputs": [
    {
     "data": {
      "text/plain": [
       "member_no                0\n",
       "reg_date              1863\n",
       "dob                  20038\n",
       "hse_no                   0\n",
       "gender                4667\n",
       "town               1048216\n",
       "relationship       1632933\n",
       "beneficiery_dob    1086598\n",
       "portfolio                9\n",
       "dtype: int64"
      ]
     },
     "execution_count": 14,
     "metadata": {},
     "output_type": "execute_result"
    }
   ],
   "source": [
    "#inspecting the dataframe for null values\n",
    "df.isna().sum()"
   ]
  },
  {
   "cell_type": "code",
   "execution_count": 15,
   "metadata": {},
   "outputs": [
    {
     "data": {
      "text/plain": [
       "7407066"
      ]
     },
     "execution_count": 15,
     "metadata": {},
     "output_type": "execute_result"
    }
   ],
   "source": [
    "#inspecting the dataframe duplicate values\n",
    "df.duplicated().sum()"
   ]
  },
  {
   "cell_type": "markdown",
   "metadata": {},
   "source": [
    "In the below code block, we drop duplicated values."
   ]
  },
  {
   "cell_type": "code",
   "execution_count": 16,
   "metadata": {},
   "outputs": [],
   "source": [
    "df = df.drop_duplicates()"
   ]
  },
  {
   "cell_type": "markdown",
   "metadata": {},
   "source": [
    "From our problem statement, we aim to cross sell investment products depending on Age, Gender and Location. Therefore, we are going to drop some columns which are irrelevant. e.g. hse_no, beneficiary_dob,reg_date."
   ]
  },
  {
   "cell_type": "code",
   "execution_count": 17,
   "metadata": {},
   "outputs": [],
   "source": [
    "df=df.drop(columns=['reg_date','hse_no'])"
   ]
  },
  {
   "cell_type": "code",
   "execution_count": 18,
   "metadata": {},
   "outputs": [
    {
     "data": {
      "text/plain": [
       "member_no              0\n",
       "dob                  238\n",
       "gender                82\n",
       "town               15026\n",
       "relationship       14308\n",
       "beneficiery_dob    13937\n",
       "portfolio              4\n",
       "dtype: int64"
      ]
     },
     "execution_count": 18,
     "metadata": {},
     "output_type": "execute_result"
    }
   ],
   "source": [
    "#inspecting the null vaues after dropping columns\n",
    "df.isna().sum()"
   ]
  },
  {
   "cell_type": "code",
   "execution_count": 19,
   "metadata": {},
   "outputs": [
    {
     "data": {
      "text/plain": [
       "array(['Partner', 'Sister', 'Husband ', 'Husband', 'Daughter', 'Brother ',\n",
       "       'Son', 'Daughter ', 'Wife', 'Father', 'Mother', 'Brother', 'son',\n",
       "       'mother', 'father', 'Mother ', 'SPOUSE', 'FRIEND', 'Spouse ',\n",
       "       'WIfe', 'Father ', 'Spouse', 'child', nan, 'Parent', 'wife',\n",
       "       'Wife ', 'Son ', 'spouse', 'doughter', 'CHILD', 'ParentChild',\n",
       "       'partner', 'brother', 'sister', 'MotheR', 'Friend', 'Child',\n",
       "       'Cousin', 'Dad', 'Mum', 'MOTHER', 'WIFE', 'Sister ', 'SON',\n",
       "       'BROTHER', 'FATHER', 'aunt ', 'Grandmother', 'HUSBAND', 'self',\n",
       "       'husband', 'husband ', 'Owner', ' Grand daughter', 'Nephew',\n",
       "       'SP0USE', 'Self', 'parent', 'SISTER', 'NIECE', 'Niece', 'daughter',\n",
       "       'Sibling', 'DAUGHTER', 'AUNT', 'brother ', '254701361835',\n",
       "       'Parent ', 'daughter ', 'FAITHER', 'Family ', 'SPOUSE ',\n",
       "       'Sibling ', 'PARENT', 'CONFIDANT', 'MUM', 'DAD', 'wife ', 'family',\n",
       "       'Trustee ', 'son ', 'mother ', 'MOTHER ', 'friend', 'spouse ',\n",
       "       'S0N', 'SISTER ', 'FATHER ', 'father ', 'FAMILY ', 'WifE',\n",
       "       'Partner ', 'daugther', '1226805243;130143346', 'relative',\n",
       "       'BROTHER ', 'Daighter', 'Advisor', 'SON ', 'AUNTIE', 'FIANCEE',\n",
       "       'Fiancee', 'DOUGHTER', 'parent ', 'HUSBAND ', 'DAUGHTER ', 'SELF',\n",
       "       'MOther', 'mOTHER', 'Aunt', 'Grandparent', 'Bother ', 'SO',\n",
       "       'married', 'MARRIED', 'FIANCE', 'Doughter ', 'Guardian ',\n",
       "       'ASS0CIATE', 'sibling', 'fiance', 'Sistet', 'Grandson', 'Doughter',\n",
       "       'DAUGTHER', 'wIFE', 'Bro', 'PARTNER', 'B INLAW', 'GUARDIAN',\n",
       "       'daughte', 'Mom', 'COUSIN', 'GRANDMA', 'aunt', 'Domestic Partner',\n",
       "       'PATNER', 'me', 'MENTOR', 'UNCLE', 'Sis', 'SiBLING', 'GRAND SON',\n",
       "       'Fiance ', 'KID', 'SIBLING', 'GRANDSON', 'Nephew ', '-', 'Cousin ',\n",
       "       'DAUGHETR', 'Person', 's0n', 'na', 'myson', 'PARTNER ', 'Bishop',\n",
       "       'nephew', 'mwas', 'Mothers', 'Friend ', 'Child ', 'daughter33',\n",
       "       'CLOSE FRIEND', 'hUSBAND', 'CLOSEFRIEND', 'Boyfriend ',\n",
       "       'dependant', 'WIFE ', 'MARRIAGE', 'GRAND DAUGHTER', 'DAUGHER',\n",
       "       'Niece ', 'granddaughter', 'grandson', 'DAUGHTER/CHILD',\n",
       "       'RELATIVE', 'mum', 'single', 'Self ', 'sister ', 'Mother TO SON',\n",
       "       'Grandfather', 'DAD ', 'Relative', 'Daughter-in-law ',\n",
       "       'GRANDMOTHER', 'child ', '15', 'DaD', 'GIRLFRIEND', 'FAMILY',\n",
       "       'Uncle ', 'SiNGLE', 'SINGLE', 'fiancee', 'FaMILY', 'BENEFICIARY',\n",
       "       'OWNER', 'Relative ', 'GRANDDAUGHTER', ' Spouse', 'uncle',\n",
       "       'Married ', 'chil', 'CHILD MINOR', '33', 'NEPHEW', 'JOINT PARTNER',\n",
       "       'MOTHERS ', 'Fiancé ', 'Others ', 'Grand daughter',\n",
       "       'DAUGHTER-IN-LAW', 'Na', 'CHILD ', 'SPIRITUAL FATHER', 'COUSN',\n",
       "       'DEPEDANT', 'Estate', 'Uncle', 'sISTER', 'sisiter', ' BROTHER',\n",
       "       'Granddaughter ', 'BRother', 'Aunt ', 'cousin', 'Baby', 'Morher',\n",
       "       'MOM', 'God mother', 'GRANDSON ', 'Husband/spouse', 'SPOUCE',\n",
       "       'uncle ', 'FRIEND ', 'Single', 'Vhild', 'Patner', 'Spouce',\n",
       "       'Family', 'SoN', 'SisteR', 'AUNTY', 'FATHER-IN-LAW', 'SonS', '0',\n",
       "       'MO9', 'Fiance', '33.4', 'CHILF', '254727756559', '0720401466',\n",
       "       'GRAND FATHER', 'PRINCIPAL', 'Guardian', 'JUNIOR',\n",
       "       'DGRAND DAUGHTER', 'COWORKER', 'GRAND MOTHER', 'D100', 'NMO',\n",
       "       'BUSINESS PARTNER', 'GURDIAN', '2021', 'MotH', 'MoM', 'UN,CLE',\n",
       "       'GRAND CHILD', 'Sister in law', 'Grand Daughter', 'COMAPANION',\n",
       "       'BOYFRIEND', 'EX-WIFE', 'GRANDDAUGTER', 'PARNT', 'M', 'F', 'Chils',\n",
       "       ';SON', 'GUARDINA', 'NiecE', 'Brother-IN-LAW', 'Member',\n",
       "       'Grand mother', 'ADMINISTRATOR', 'VM', 'GRANDFATHER', 'GIRLFRIED',\n",
       "       'Brestfriend', 'Finance', 'SIS', 'Daughter in law', 'children',\n",
       "       'Girlfriend', 'COLLEAGUE', 'TRUSTEE', '254708368426', 'Colleague',\n",
       "       'Sister-IN-LAW', 'GRAND-DAUGHTER', 'GRANNY', 'GRANDCHILD', \"'M\",\n",
       "       'spouce', 'SiLBLING', 'Siblings', 'Step-mother', 'Aunty', 'FREINF',\n",
       "       '50', '100', '254723993458', 'Cousins', 'Cousins ', 'ASSOCIATE',\n",
       "       'Fiane', 'guardian', 'Guadian', 'Confidant', 'Auntie', 'GRANDPA',\n",
       "       'mom', 'Brother in Law', 'BUSINESS PARTNER ', 'Spuose',\n",
       "       'Business Partner', 'Dating', 'IN LAW', 'STEP-MOM', 'Son/Brother',\n",
       "       'Chid', 'Granddaughter', 'niece', 'Son/SISTER', 'Grand Son',\n",
       "       'BrotheR', \"Nolan's Guardian\", \"Xena's Guardian\", 'Sister-in law',\n",
       "       'PARENTS', 'c/o', 'STEP MOTHER', 'NiCE', 'Ciru', 'DEPENDANT',\n",
       "       'som', 'GUARDIAN ', 'Dau`', 'Kid', 'PARENT ', 'CHILDREN',\n",
       "       'partner ', 'CLOUSIN', '19112004', 'twinsister', 'MINOR',\n",
       "       'Sister- Custodian', 'GRANSON', 'COMPANION', 'ENGAGED',\n",
       "       'WELL WISHER', 'PARNER', 'GRANCHILD', 'Trustee', 'Next of kin',\n",
       "       'SIIBLING', 'SIBLINGS', 'Foster daughter', 'ADMINSTRATOR',\n",
       "       'IN-LAW', 'Boyfriend', 'NepheW', 'EMPLOYEE', 'DIRECTORS',\n",
       "       'RELIGIOUS COMMUNITY', 'CUSTODIAN', 'C/O ARIANNA', 'Sister IN LAW',\n",
       "       'spose', 'SPAUSE', 'MEMBER', 'DomesticPartner', 'Grand-daughter',\n",
       "       'Brother-in-law', 'STEP-BROTHER', 'Mother to Evan', 'Sister-Inlaw',\n",
       "       'BUS. PARTNER', 'Sister(Guardian)', 'CONTACT PERSON', 'FatheR',\n",
       "       'Brother in law', 'Parwnt', 'M,', 'Sister-GUARDIAN', 'Grand Child',\n",
       "       'GODMOTHER', 'Sister-Guardian', 'Mother- Guardian', 'Grandchild',\n",
       "       'Grand son', 'CHLD', 'GRAND.DAUGHTER', 'GRAND-MOTHER', 'Parents',\n",
       "       'EX WIFE', 'Sister - Guardian', 'Step-Mother', 'FOSTER DAUGHTER',\n",
       "       'Grand-mother', 'God Mother', 'Mother-in-law', 'MEMBER ',\n",
       "       'B/S PARTNER', 'LAWYER', 'GRAND-SON', 'parents', 'Stepson',\n",
       "       'Contingent', 'grandmother', 'G/Daughter', 'Brother and sister',\n",
       "       'Sibbling', ' ', 'COUSIN ', 'DaughteR', 'SPUOSE', 'CHIILD',\n",
       "       'DSPOUSE', 'Executor', 'HU', 'EWIFE', 'SPOUDSE', 'SoPOUSE',\n",
       "       'grandchild', 'ChILD', '9266025', 'PARE NT', '254700442162',\n",
       "       'BEST FRIEND', 'SISTER IN LAW ', 'mather', 'SAVING PARTNER ',\n",
       "       'AUNTIE ', 'ParenChild', 'GIRLFRIEND ', 'SINGLE ', 'Parentchild',\n",
       "       'parentchild', 'SPOUSE20', 'Myself', 'FIACEE', 'SD',\n",
       "       'Grand mother ', 'Mother of child', 'Childnephew', 'FATH ',\n",
       "       'MY SON', 'BabyMother', 'CHID', 'GIRL FRIEND', 'chils', 'self ',\n",
       "       \"Mother's \", 'Mum ', 'aunty', 'SPouse', 'Auntie ', 'ChiLD',\n",
       "       'grandmother ', 'Grand daughter ', 'auntie', 'baby mama ', 'DA',\n",
       "       'BrOther', 'Fiancee ', 'In law', 'Colleague ', 'WiFE', 'owner',\n",
       "       'sON', 'Mather', 'Dauhgter', 'myself', 'Hubby', 'Sister in-law',\n",
       "       'Aunty ', 'Foster parent', 'grandson ', 'Wife/Guardian',\n",
       "       '21761402', 'GUARDIAN-MOTHER'], dtype=object)"
      ]
     },
     "execution_count": 19,
     "metadata": {},
     "output_type": "execute_result"
    }
   ],
   "source": [
    "#checking for unique values in relationship column\n",
    "df.relationship.unique()"
   ]
  },
  {
   "cell_type": "code",
   "execution_count": 20,
   "metadata": {},
   "outputs": [
    {
     "data": {
      "text/plain": [
       "\"mother                  18900 son                     18207 daughter                18010 sister                  12234 wife                    11190 husband                  9563 brother                  7768 father                   6738 spouse                   3311 child                    1567 parent                    627 friend                    393 niece                     369 nephew                    313 cousin                    309 aunt                      220 partner                   203 sibling                   199 fiance                    137 guardian                  117 fiancee                   100 uncle                      85 grandson                   74 grandmother                61 family                     51 self                       42 -                          40 estate                     39 grand daughter             31 dad                        29 granddaughter              29 mum                        27 girlfriend                 26 doughter                   25 relative                   18 boyfriend                  17 grandchild                 16 aunty                      16 member                     15 business partner           15 auntie                     14 sister in law              12 grandfather                11 gurdian                    11 mom                        11 kid                        10 so                         10 grand-daughter              9 s0n                         8 grand mother                8 trustee                     8 colleague                   7 grand child                 7 single                      7 spouce                      6 patner                      6 parents                     5 100                         5 dependant                   4 daughetr                    4 0                           4 foster daughter             4 grand-mother                4 grand son                   4 owner                       4 married                     4 na                          3 grand father                3 bus. partner                3 daugther                    3 spause                      3 daighter                    3 my son                      3 in law                      3 minor                       3 parentchild                 3 contact person              2 parner                      2 associate                   2 b/s partner                 2 close friend                2 beneficiary                 2 1226805243;130143346        2 granddaugter                2 children                    2 daughter-in-law             2 sis                         2 vm                          2 sister-guardian             2 vhild                       2 baby mama                   2 in-law                      2 sister-in-law               2 mather                      2 mothers                     2 step-mother                 2 god mother                  2 siblings                    2 grandma                     2 c/o arianna                 2 sister in-law               2 confidant                   2 cousins                     2 brother in law              2 girl friend                 2 chid                        2 ex-wife                     2 50                          2 son/brother                 2 m                           2 brother-in-law              2 depedant                    2 myself                      2 spuose                      2 guardina                    2 daugher                     2 mother-in-law               2 chils                       2 finance                     1 m,                          1 child minor                 1 mother's                    1 myson                       1 babymother                  1 junior                      1 foster parent               1 advisor                     1 0720401466                  1 ewife                       1 dspouse                     1 baby                        1 dgrand daughter             1 daughter33                  1 parenchild                  1 ex wife                     1 siibling                    1 saving partner              1 administrator               1 un,cle                      1 engaged                     1 21761402                    1 sons                        1 dauhgter                    1 hu                          1 lawyer                      1 xena's guardian             1 som                         1 companion                   1 254708368426                1 father-in-law               1 sister - guardian           1 adminstrator                1 ;son                        1 sibbling                    1 daughter/child              1 brestfriend                 1 marriage                    1 mwas                        1 husband/spouse              1 fiane                       1 b inlaw                     1 employee                    1 closefriend                 1 granson                     1 clousin                     1 mother to evan              1 nice                        1 grand.daughter              1 g/daughter                  1 dau`                        1 19112004                    1 godmother                   1 religious community         1 9266025                     1 sister-in law               1 joint partner               1 cousn                       1 well wisher                 1 domesticpartner             1 spiritual father            1 fiacee                      1 daughter in law             1 mother of child             1 executor                    1 wife/guardian               1 best friend                 1 moth                        1 step mother                 1 254727756559                1 grandpa                     1 mother- guardian            1 morher                      1 step-mom                    1 brother and sister          1 girlfried                   1 d100                        1 custodian                   1 chiild                      1 'm                          1 sd                          1 chilf                       1 others                      1 freinf                      1 parwnt                      1 mo9                         1 dating                      1 bro                         1 parnt                       1 254723993458                1 person                      1 guardian-mother             1 sister(guardian)            1 stepson                     1 mentor                      1 sister-inlaw                1 33                          1 254701361835                1 chil                        1 directors                   1 spose                       1 sp0use                      1 son/sister                  1 childnephew                 1 c/o                         1 nmo                         1 chld                        1 254700442162                1 fiancé                      1 comapanion                  1 nolan's guardian            1 bishop                      1 step-brother                1 grandparent                 1 faither                     1 15                          1 spouse20                    1 hubby                       1 pare nt                     1 spoudse                     1 domestic partner            1 guadian                     1 sopouse                     1 sisiter                     1 contingent                  1 f                           1 33.4                        1 fath                        1 da                          1 coworker                    1 daughte                     1 ass0ciate                   1 me                          1 sistet                      1 granny                      1 2021                        1 mother to son               1 grand-son                   1 silbling                    1 next of kin                 1 granchild                   1 ciru                        1 sister- custodian           1 bother                      1 twinsister                  1 principal                   1                             1\""
      ]
     },
     "execution_count": 20,
     "metadata": {},
     "output_type": "execute_result"
    }
   ],
   "source": [
    "# Convert values in the 'relationship' column to lowercase and remove any extra spaces\n",
    "df['relationship'] = df['relationship'].str.lower().str.strip()\n",
    "\n",
    "# Get the counts of each unique value in the 'relationship' column,\n",
    "# then format the output as a single line string\n",
    "df['relationship'].value_counts().to_string().replace(\"\\n\", \" \")"
   ]
  },
  {
   "cell_type": "code",
   "execution_count": 21,
   "metadata": {},
   "outputs": [
    {
     "data": {
      "text/plain": [
       "0"
      ]
     },
     "execution_count": 21,
     "metadata": {},
     "output_type": "execute_result"
    }
   ],
   "source": [
    "# Replace any missing values in the 'relationship' column with 'son'\n",
    "df['relationship'] = df['relationship'].fillna('son')\n",
    "\n",
    "# Check if there are any remaining missing values in the 'relationship' column\n",
    "df['relationship'].isna().sum()\n"
   ]
  },
  {
   "cell_type": "markdown",
   "metadata": {},
   "source": [
    "To organize and standardize relationship values in the dataset, we define categories for mapping different variations of relationship terms. This approach creates a consistent structure by grouping terms like \"spouse,\" \"child,\" \"sibling,\" etc., into predefined categories. By applying this mapping, we ensure that any variations in spelling, formatting, or synonymous terms are aligned under a single label.\n",
    "\n",
    "The following code accomplishes this by:\n",
    "\n",
    "Defining a dictionary (relationship_map) that assigns potential variations of relationship terms to specific categories.\n",
    "Creating a function (map_relationship) that checks each entry in the relationship column against the keywords in relationship_map.\n",
    "Applying this function to the column to classify each entry according to the defined categories.\n",
    "Finally, we display the count of values in each category to confirm the classification distribution."
   ]
  },
  {
   "cell_type": "code",
   "execution_count": 22,
   "metadata": {},
   "outputs": [
    {
     "name": "stdout",
     "output_type": "stream",
     "text": [
      "child           52152\n",
      "parent          26352\n",
      "partner         24578\n",
      "sibling         20240\n",
      "relative         1534\n",
      "friends           396\n",
      "other             392\n",
      "guardian          128\n",
      "professional       67\n",
      "self               49\n",
      "Name: relationship, dtype: int64\n"
     ]
    }
   ],
   "source": [
    "# Convert all entries to lower case and strip whitespace for uniformity\n",
    "df['relationship'] = df['relationship'].str.lower().str.strip()\n",
    "\n",
    "# Mapping dictionary\n",
    "relationship_map = {\n",
    "    'partner': [\n",
    "        'partner', 'spouse', 'sp0use','husband', 'wife', 'fiancee', 'ex-wife', 'spouce', 'fiancé',\n",
    "        'husband ', 'sponse', 'spouse ', 'wiFe', 'wifE', 'wife ', 'spouse', 'married', 'marriage',\n",
    "        'husband/spouse', 'ex-wife', 'fiance ', 'fiance', 'married ', 'myson', 'baby mama ',\n",
    "        'fiancee ', 'souse', 'hubby', 'dating', 'boyfriend', 'girlfriend', 'ex wife', 'boyfriend ',\n",
    "        'girlfriend ', 'wife/guardian', 'ex husband', 'girl friend', 'fiancée', 'sopouse', 'spoudse',\n",
    "        'soPOUSE', 'spause', 'sposue', 'ex husband', 'love', 'b/f', 'g/f', 'divorcee', 'ex spouse',\n",
    "        'bf', 'gf', 'b/f', 'g/f', 'fiancé ', 'domesticpartner', 'domestic partner', 'dating', 'exwife',\n",
    "        'exhusband', 'wive', 'husb', 'exspouse', 'partner ', 'significant other', 'fiancee','companion','Partner',\n",
    "        'Husband ', 'Husband',  'Wife',   'SPOUSE' , 'Spouse ', 'WIfe', 'Spouse',  'wife', 'Wife ', 'spouse', 'partner',\n",
    "        'HUSBAND', 'husband', 'husband ',  'SP0USE' , 'SPOUSE ',  'wife ',\n",
    "        'spouse ', 'Partner ' , 'FIANCEE', 'Fiancee',  'HUSBAND ',  'FIANCE', \n",
    "        'wIFE', 'PARTNER',  'Domestic Partner', 'PATNER', 'Fiance ', 'PARTNER ',  'hUSBAND',  'Boyfriend ',\n",
    "        'WIFE ', 'fiancee', 'JOINT PARTNER', 'Fiancé ' , 'Husband/spouse', 'SPOUCE',  'Patner', 'Spouce',  \n",
    "        'Fiance', 'BOYFRIEND', 'EX-WIFE',  'PARNT',  'GIRLFRIED'\n",
    "    ],\n",
    "    'child': [\n",
    "        'child', 'kid', 'daughter', 'son', 'children', 'daughter33', 'doughter', 'daugther', 'doughter ',\n",
    "        'daugther', 'son ', 'daughter ', 'child minor', 'kids', 'baby', 'infant', 'toddler', 'sonS',\n",
    "        'minor', 'child ', 'son/sister', 'chid', 'newborn', 'son/brother', 'childnephew',\n",
    "        'chils', 'chiLD', 'kID', 'dau`', 'daugher', 'childnephew', 'my son','child', 'son', 'dau', \n",
    "        'daughter', 'daughter33', 'my son', 'infant', 'childnephew', 'kids', 'baby', 'ChiLD', 'CHID',\n",
    "        'sON', 'cHILS', 'CHID', 'CHIILD', 'KID', 'FOSTER' 'DAUGHTER', 'CHILD MINOR', 'MINOR', 'CHILDREN', \n",
    "        'SOM', 'CHILDREN', 'JUNIOR', 'BABY',  'CHIL', 'DAUGHTER/CHILDDAUGHER', 'CHILF', 'DOUGHTER', 'DAIGHTER', \n",
    "        'DAUGHTE', 'DAUGHETR', 'S0N','MYSON','child','CHILD','Child ','DAUGHTER/CHILD','child ','CHILD MINOR',\n",
    "        'CHILD ','children','CHILDREN','ChILD','ChiLD'\n",
    "    ],\n",
    "    'parent': [\n",
    "        'mother', 'mom', 'mum', 'father', 'dad', 'parent', 'parents', 'mother ', 'father ', 'mOTHER',\n",
    "        'dad ', 'mum ', 'mom ', 'mummy', 'daddy', 'papa', 'mama', 'mother in law', 'father in law',\n",
    "        'mothers', 'fathers', 'moms', 'mums', 'father-in-law', 'mother-in-law', 'mommy', 'dadi', 'momi',\n",
    "        'parent ', 'mother to son', 'mother of child', 'parents', 'mother- guardian', 'father - guardian',\n",
    "        'parentchild', 'parental', 'parenthood', 'parenting', 'mother IN LAW', 'mom in law', 'dad in law',\n",
    "        'mum in law', 'parenting', 'fatherhood', 'motherhood', 'parent ', 'grandparent', 'step mother',\n",
    "        'step father', 'step-mother', 'step-father','Parent', 'Parents', 'Mother', 'Mothers', 'Mom', 'Mum', \n",
    "        'Father', 'DAD', 'Dad', 'Guardian', 'Grandmother', 'Grandfather', 'Step-mother', 'Step-father', 'Foster parent',\n",
    "        'Mother-in-law', 'Father-in-law', 'ParentChild', 'Mama', 'Mummy', 'Dadi', 'Mother TO SON', 'PARENT', 'MOther'\n",
    "    ],\n",
    "    'self': [\n",
    "        'self', 'owner', 'me', 'myself', 'self ', 'owner ', 'i', 'myself ', 'personal', 'individual',\n",
    "        'own', 'my own', 'self-employed', 'proprietor', 'me ', 'self employed', 'self own', 'personal account',\n",
    "        'my account', 'own account'\n",
    "    ],\n",
    "    'guardian': [\n",
    "        'guardian', 'custodian', 'trustee', 'guard', 'guardian ', 'custodian ', 'trustee ', 'guard ',\n",
    "        'legal guardian', 'guardianship', 'custodianship', 'trusteeship', 'protector', 'caregiver',\n",
    "        'conservator','conservator', 'foster parent', 'foster guardian', 'legal custodian', 'guardian-mother', 'guardian father'\n",
    "    ],\n",
    "    'sibling': [\n",
    "        'siblings', 'brother', 'sister', 'sibling', 'brother ', 'sister ', 'bro', 'sis', 'brothers', 'sisters',\n",
    "        'sibling ', 'brother-in-law', 'sister-in-law', 'sibling in law', 'brother and sister', 'sibbling',\n",
    "        'siBLING', 'sibblings', 'sister in law', 'brother in law', 'sister/guardian', 'sister - guardian',\n",
    "        'sister-guardian', 'bros', 'sisses', 'step-sister', 'step-brother', 'half-sister', 'half-brother', 'broski','Sister', 'Brother ','brother', 'sister',\n",
    "       'Sister ', 'SISTER','Sibling', 'brother ','Sibling ','SISTER ','Sistet', 'Bro', 'Sis', 'SiBLING',\n",
    "        'SIBLING',  's0n', 'sister ''sISTER', 'sisiter', ' BROTHER','BRother', 'SisteR', 'SIS', \n",
    "       'som',\n",
    "       'Sister- Custodian', \n",
    "       'SIIBLING', 'SIBLINGS','Brother and sister',\n",
    "       'Sibbling'\n",
    "    ],\n",
    "    'relative': [\n",
    "        'cousin', 'nephew', 'grand child', 'niece', 'grandmother', 'granddaughter', 'grandson', 'grandfather', 'uncles', 'aunties',\n",
    "        'aunt', 'uncle', 'granny', 'grandparent', 'grand child', 'relative', 'relatives', 'cousins', 'uncles',\n",
    "        'aunties', 'aunts', 'grandparents', 'great grandmother', 'great grandfather', 'grand children', 'extended family',\n",
    "        'grandmother ', 'grandfather ', 'nephew ', 'niece ', 'cousin ', 'aunt ', 'uncle ', 'granny ', 'granddaughter ',\n",
    "        'grandson ', 'grandchild', 'grandchild ', 'grandchildren', 'grandkids', 'great grandparent', 'ancestors', 'descendants',\n",
    "        'kin', 'kinship', 'next of kin', 'in-laws', 'inlaw', 'in laws', 'extended relatives', 'b inlaw', 'in law','family tree', 'Cousin', ' Grand daughter', 'Nephew', 'NIECE', 'Niece', 'AUNT', 'relative', 'AUNTIE', 'B INLAW', 'COUSIN', 'aunt', 'UNCLE', 'GRAND SON', 'Nephew ', 'Cousin ', 'nephew', 'GRAND DAUGHTER', 'Niece ', 'granddaughter', 'grandson', 'RELATIVE', 'Daughter-in-law ', 'GRANDMOTHER', 'Relative ', 'uncle',\n",
    "'NEPHEW', 'Grand daughter', 'DAUGHTER-IN-LAW', 'COUSN', 'Uncle', 'Granddaughter ', 'Aunt ', 'cousin', 'GRANDSON ', 'uncle ', 'AUNTY', 'FATHER-IN-LAW', 'GRAND FATHER', 'DGRAND DAUGHTER', 'GRAND MOTHER', 'UN,CLE', 'GRAND CHILD', 'Sister in law', 'Grand Daughter', 'GRANDDAUGTER', 'NiecE', 'Brother-IN-LAW', 'Grand mother', 'GRANDFATHER', 'Daughter in law', 'Sister-IN-LAW', 'GRAND-DAUGHTER', 'GRANNY', \n",
    "'GRANDCHILD', 'Aunty', 'Cousins', 'Cousins ', 'Auntie', 'GRANDPA', 'Brother in Law', 'IN LAW', 'Granddaughter', 'niece', 'Grand Son', 'Sister-in law', 'CLOUSIN', 'GRANSON', 'Sister IN LAW', 'Brother-in-law', 'Sister-Inlaw', 'Brother in law', 'GRAND-MOTHER', 'Grand-mother', 'Mother-in-law', 'SISTER IN LAW ', 'Grand mother ', 'Childnephew', 'Grand daughter ', 'auntie', 'In law', 'Sister in-law', 'Aunty '\n",
    "    ],\n",
    "    'friends': ['friend','closefriend', 'confidant', 'friend ',\n",
    "        'peers', 'acquaintance', 'comrade', 'pal', 'buddy', 'mate', 'fellow', 'ally', 'supporter',\n",
    "        'confidante', 'friend of the family', 'family friend',\n",
    "        'peer', 'companion', 'companions'\n",
    "    ],\n",
    "    'professional':['colleague', 'coworker', 'partner in law',\n",
    "        'associate', 'advisor', 'mentor', 'colleague ', 'coworker ',\n",
    "        'associate ', 'colleague', 'professional', 'mentor', 'adviser', 'counselor', 'legal representative', 'executor', 'business partner',\n",
    "        'co-worker', 'workmate', 'teammate',\n",
    "        'partner in business', 'business associate', 'collaborator', 'collegue','estate'\n",
    "    ],\n",
    "    'other': ['spiritual advisor','sponsor'\n",
    "    ]\n",
    "}\n",
    "\n",
    "# Function to apply the mapping\n",
    "def map_relationship(value):\n",
    "    for category, keywords in relationship_map.items():\n",
    "        if any(keyword == value for keyword in keywords):\n",
    "            return category\n",
    "    return 'other'  # Default category if no matches found\n",
    "\n",
    "# Apply the mapping function to the 'relationship' column\n",
    "df['relationship'] = df['relationship'].apply(map_relationship)\n",
    "\n",
    "# Show the value counts of each category\n",
    "print(df['relationship'].value_counts())"
   ]
  },
  {
   "cell_type": "code",
   "execution_count": 23,
   "metadata": {},
   "outputs": [
    {
     "data": {
      "text/plain": [
       "Index(['member_no', 'dob', 'gender', 'town', 'relationship', 'beneficiery_dob',\n",
       "       'portfolio'],\n",
       "      dtype='object')"
      ]
     },
     "execution_count": 23,
     "metadata": {},
     "output_type": "execute_result"
    }
   ],
   "source": [
    "#checking the columns in the dataframe\n",
    "df.columns"
   ]
  },
  {
   "cell_type": "code",
   "execution_count": 24,
   "metadata": {},
   "outputs": [
    {
     "data": {
      "text/plain": [
       "Female    83178\n",
       "Male      42480\n",
       "F            92\n",
       "M            48\n",
       "MALE          4\n",
       "FEMALE        4\n",
       "Name: gender, dtype: int64"
      ]
     },
     "execution_count": 24,
     "metadata": {},
     "output_type": "execute_result"
    }
   ],
   "source": [
    "#inspecting the value_counts in the gender column\n",
    "df.gender.value_counts()"
   ]
  },
  {
   "cell_type": "code",
   "execution_count": 25,
   "metadata": {},
   "outputs": [
    {
     "data": {
      "text/plain": [
       "82"
      ]
     },
     "execution_count": 25,
     "metadata": {},
     "output_type": "execute_result"
    }
   ],
   "source": [
    "#checking for null values\n",
    "df.gender.isna().sum()"
   ]
  },
  {
   "cell_type": "code",
   "execution_count": 26,
   "metadata": {},
   "outputs": [
    {
     "data": {
      "text/plain": [
       "0"
      ]
     },
     "execution_count": 26,
     "metadata": {},
     "output_type": "execute_result"
    }
   ],
   "source": [
    "#fill the null values with the 'Female' gender\n",
    "df['gender']=df.gender.fillna('Female')\n",
    "df['gender'].isna().sum()"
   ]
  },
  {
   "cell_type": "markdown",
   "metadata": {},
   "source": [
    "To standardize entries in the gender column, we create a dictionary to map various formats of \"Male\" and \"Female\" into consistent labels. This step ensures uniformity across the dataset, which is essential for accurate analysis.\n",
    "\n",
    "The process involves:\n",
    "\n",
    "Defining a gender_map dictionary where different versions of \"Male\" and \"Female\" are assigned to a single, standardized label.\n",
    "Using the replace function to apply this mapping to the gender column and store the cleaned values in a new column, gender_mapped.\n",
    "This streamlined approach produces a clean and uniform gender_mapped column ready for analysis."
   ]
  },
  {
   "cell_type": "code",
   "execution_count": 27,
   "metadata": {},
   "outputs": [],
   "source": [
    "gender_map = {\n",
    "    'Female':'Female','F':'Female','FEMALE':'Female',\n",
    "    'Male':'Male','M':'Male','MALE':'Male',\n",
    "}\n",
    "\n",
    "df['gender_mapped'] = df['gender'].replace(gender_map)"
   ]
  },
  {
   "cell_type": "code",
   "execution_count": 28,
   "metadata": {},
   "outputs": [
    {
     "data": {
      "text/html": [
       "<div>\n",
       "<style scoped>\n",
       "    .dataframe tbody tr th:only-of-type {\n",
       "        vertical-align: middle;\n",
       "    }\n",
       "\n",
       "    .dataframe tbody tr th {\n",
       "        vertical-align: top;\n",
       "    }\n",
       "\n",
       "    .dataframe thead th {\n",
       "        text-align: right;\n",
       "    }\n",
       "</style>\n",
       "<table border=\"1\" class=\"dataframe\">\n",
       "  <thead>\n",
       "    <tr style=\"text-align: right;\">\n",
       "      <th></th>\n",
       "      <th>member_no</th>\n",
       "      <th>dob</th>\n",
       "      <th>gender</th>\n",
       "      <th>town</th>\n",
       "      <th>relationship</th>\n",
       "      <th>beneficiery_dob</th>\n",
       "      <th>portfolio</th>\n",
       "      <th>gender_mapped</th>\n",
       "    </tr>\n",
       "  </thead>\n",
       "  <tbody>\n",
       "    <tr>\n",
       "      <th>0</th>\n",
       "      <td>99996</td>\n",
       "      <td>1998-04-06 00:00:00</td>\n",
       "      <td>Female</td>\n",
       "      <td>NAIROBI</td>\n",
       "      <td>partner</td>\n",
       "      <td>1998-01-26</td>\n",
       "      <td>Money Market</td>\n",
       "      <td>Female</td>\n",
       "    </tr>\n",
       "    <tr>\n",
       "      <th>14</th>\n",
       "      <td>99996</td>\n",
       "      <td>1998-04-06 00:00:00</td>\n",
       "      <td>Female</td>\n",
       "      <td>NAIROBI</td>\n",
       "      <td>sibling</td>\n",
       "      <td>2001-03-04</td>\n",
       "      <td>Money Market</td>\n",
       "      <td>Female</td>\n",
       "    </tr>\n",
       "    <tr>\n",
       "      <th>28</th>\n",
       "      <td>99994</td>\n",
       "      <td>1966-01-01 00:00:00</td>\n",
       "      <td>Female</td>\n",
       "      <td>NaN</td>\n",
       "      <td>partner</td>\n",
       "      <td>1962-01-01</td>\n",
       "      <td>Money Market</td>\n",
       "      <td>Female</td>\n",
       "    </tr>\n",
       "    <tr>\n",
       "      <th>40</th>\n",
       "      <td>99993</td>\n",
       "      <td>1974-01-01 00:00:00</td>\n",
       "      <td>Female</td>\n",
       "      <td>NAIROBI</td>\n",
       "      <td>partner</td>\n",
       "      <td>1970-09-29</td>\n",
       "      <td>Money Market</td>\n",
       "      <td>Female</td>\n",
       "    </tr>\n",
       "    <tr>\n",
       "      <th>70</th>\n",
       "      <td>99993</td>\n",
       "      <td>1974-01-01 00:00:00</td>\n",
       "      <td>Female</td>\n",
       "      <td>NAIROBI</td>\n",
       "      <td>child</td>\n",
       "      <td>1994-01-01</td>\n",
       "      <td>Money Market</td>\n",
       "      <td>Female</td>\n",
       "    </tr>\n",
       "  </tbody>\n",
       "</table>\n",
       "</div>"
      ],
      "text/plain": [
       "    member_no                  dob  gender     town relationship  \\\n",
       "0       99996  1998-04-06 00:00:00  Female  NAIROBI      partner   \n",
       "14      99996  1998-04-06 00:00:00  Female  NAIROBI      sibling   \n",
       "28      99994  1966-01-01 00:00:00  Female      NaN      partner   \n",
       "40      99993  1974-01-01 00:00:00  Female  NAIROBI      partner   \n",
       "70      99993  1974-01-01 00:00:00  Female  NAIROBI        child   \n",
       "\n",
       "   beneficiery_dob     portfolio gender_mapped  \n",
       "0       1998-01-26  Money Market        Female  \n",
       "14      2001-03-04  Money Market        Female  \n",
       "28      1962-01-01  Money Market        Female  \n",
       "40      1970-09-29  Money Market        Female  \n",
       "70      1994-01-01  Money Market        Female  "
      ]
     },
     "execution_count": 28,
     "metadata": {},
     "output_type": "execute_result"
    }
   ],
   "source": [
    "#inspecting the cleaned df\n",
    "df.head()"
   ]
  },
  {
   "cell_type": "code",
   "execution_count": 29,
   "metadata": {},
   "outputs": [
    {
     "data": {
      "text/plain": [
       "1962-01-01             541\n",
       "1960-01-01             360\n",
       "1968-01-01             320\n",
       "1974-01-01             311\n",
       "1970-01-01             311\n",
       "                      ... \n",
       "1998-10-25               1\n",
       "1945-12-11               1\n",
       "1965-07-11               1\n",
       "1974-04-23 00:00:00      1\n",
       "1968-09-25               1\n",
       "Name: dob, Length: 19092, dtype: int64"
      ]
     },
     "execution_count": 29,
     "metadata": {},
     "output_type": "execute_result"
    }
   ],
   "source": [
    "#age distribution based on dob(date of birth)\n",
    "df.dob.value_counts()"
   ]
  },
  {
   "cell_type": "code",
   "execution_count": 30,
   "metadata": {},
   "outputs": [
    {
     "data": {
      "text/plain": [
       "1899-12-30             1854\n",
       "1962-01-01              584\n",
       "1970-01-01              562\n",
       "1960-01-01              488\n",
       "1963-01-01              475\n",
       "                       ... \n",
       "1949-09-04                1\n",
       "1962-11-25 00:00:00       1\n",
       "2006-05-23 00:00:00       1\n",
       "2000-02-08 00:00:00       1\n",
       "1979-04-24                1\n",
       "Name: beneficiery_dob, Length: 27488, dtype: int64"
      ]
     },
     "execution_count": 30,
     "metadata": {},
     "output_type": "execute_result"
    }
   ],
   "source": [
    "#age distribution based on beneficiary_dob(date of birth)\n",
    "df.beneficiery_dob.value_counts()"
   ]
  },
  {
   "cell_type": "code",
   "execution_count": 31,
   "metadata": {},
   "outputs": [
    {
     "data": {
      "text/plain": [
       "0"
      ]
     },
     "execution_count": 31,
     "metadata": {},
     "output_type": "execute_result"
    }
   ],
   "source": [
    "#fill with the modal age\n",
    "df['dob'] = df.dob.fillna('1962-01-01')\n",
    "df.dob.isna().sum()"
   ]
  },
  {
   "cell_type": "markdown",
   "metadata": {},
   "source": [
    "---\n",
    "\n",
    "To compute ages from the dates of birth in our dataset, we:\n",
    "\n",
    "1. **Convert Dates of Birth:** The `dob` and `beneficiery_dob` columns are first converted to datetime format to ensure proper date handling. If a date cannot be converted, it is set to `NaT` (missing).\n",
    "  \n",
    "2. **Define Age Calculation Function:** A helper function, `calculate_age`, computes the age by subtracting the birth year from the current year and adjusting for birthdays that have not yet occurred this year.\n",
    "\n",
    "3. **Apply Function to Columns:** The function is applied to both `dob` and `beneficiery_dob` to create two new columns: `member_age` and `beneficiery_age`, which store the calculated ages.\n",
    "\n",
    "Finally, the resulting columns are previewed to verify successful age computation."
   ]
  },
  {
   "cell_type": "code",
   "execution_count": 32,
   "metadata": {},
   "outputs": [
    {
     "name": "stdout",
     "output_type": "stream",
     "text": [
      "          dob  member_age beneficiery_dob  beneficiery_age\n",
      "0  1998-04-06          26      1998-01-26             26.0\n",
      "14 1998-04-06          26      2001-03-04             23.0\n",
      "28 1966-01-01          58      1962-01-01             62.0\n",
      "40 1974-01-01          50      1970-09-29             54.0\n",
      "70 1974-01-01          50      1994-01-01             30.0\n"
     ]
    }
   ],
   "source": [
    "# Convert the dob column to datetime format\n",
    "df['dob'] = pd.to_datetime(df['dob'], errors='coerce')\n",
    "\n",
    "# Function to calculate age\n",
    "def calculate_age(birth_date):\n",
    "    if pd.isnull(birth_date):\n",
    "        return None\n",
    "    today = datetime.today()\n",
    "    return today.year - birth_date.year - ((today.month, today.day) < (birth_date.month, birth_date.day))\n",
    "\n",
    "# Apply the function to calculate member age\n",
    "df['member_age'] = df['dob'].apply(calculate_age)\n",
    "\n",
    "# Convert beneficiery_dob column to datetime and calculate beneficiary age similarly\n",
    "df['beneficiery_dob'] = pd.to_datetime(df['beneficiery_dob'], errors='coerce')\n",
    "df['beneficiery_age'] = df['beneficiery_dob'].apply(calculate_age)\n",
    "\n",
    "# Check results\n",
    "print(df[['dob', 'member_age', 'beneficiery_dob', 'beneficiery_age']].head())"
   ]
  },
  {
   "cell_type": "code",
   "execution_count": 33,
   "metadata": {},
   "outputs": [
    {
     "data": {
      "text/plain": [
       "count    111951.000000\n",
       "mean         37.953506\n",
       "std          22.108664\n",
       "min        -178.000000\n",
       "25%          24.000000\n",
       "50%          36.000000\n",
       "75%          53.000000\n",
       "max         329.000000\n",
       "Name: beneficiery_age, dtype: float64"
      ]
     },
     "execution_count": 33,
     "metadata": {},
     "output_type": "execute_result"
    }
   ],
   "source": [
    "# Display summary statistics for the 'beneficiery_age' column to understand the age distribution of beneficiaries\n",
    "df.beneficiery_age.describe()"
   ]
  },
  {
   "cell_type": "code",
   "execution_count": 34,
   "metadata": {},
   "outputs": [
    {
     "data": {
      "text/plain": [
       "Money Market     119710\n",
       "Equity Fund        2014\n",
       "Dollar Fund        1480\n",
       "Balanced Fund      1180\n",
       "Fixed Income       1101\n",
       "Wealth Fund         398\n",
       "MoneyMarket           1\n",
       "Name: portfolio, dtype: int64"
      ]
     },
     "execution_count": 34,
     "metadata": {},
     "output_type": "execute_result"
    }
   ],
   "source": [
    "#display the portfolio allocation \n",
    "df.portfolio.value_counts()"
   ]
  },
  {
   "cell_type": "code",
   "execution_count": 35,
   "metadata": {},
   "outputs": [
    {
     "data": {
      "text/plain": [
       "0"
      ]
     },
     "execution_count": 35,
     "metadata": {},
     "output_type": "execute_result"
    }
   ],
   "source": [
    "#fill with the mode\n",
    "df['portfolio']=df.portfolio.fillna('Money Market')\n",
    "df.portfolio.isna().sum()"
   ]
  },
  {
   "cell_type": "markdown",
   "metadata": {},
   "source": [
    "---\n",
    "\n",
    "1. **Portfolio Mapping:** It defines a dictionary (`portfolio_map`) that standardizes various portfolio names in the `portfolio` column. For instance, entries like \"Money Mrket\" and \"MoneyMarket\" are all mapped to \"Money Market,\" ensuring consistency across the dataset.\n",
    "\n",
    "2. **Replace Portfolio Values:** The `replace` function is then applied to the `portfolio` column, replacing any of the portfolio variations with their standardized labels as defined in the `portfolio_map` dictionary.\n",
    "\n",
    "3. **Create New Column:** The standardized portfolio names are saved in a new column, `portfolio_map`, in the dataframe.\n",
    "\n"
   ]
  },
  {
   "cell_type": "code",
   "execution_count": 36,
   "metadata": {},
   "outputs": [],
   "source": [
    "#clean up the portfolio column\n",
    "portfolio_map ={\n",
    "    'Money Mrket':'Money Market','MoneyMarket':'Money Market',\n",
    "    'Equity Fund':'Equity Fund',\n",
    "    'Dollar Fund':'Dollar Fund',\n",
    "    'Balanced Fund':'Balanced Fund',\n",
    "    'Fixed Income':'Fixed Income',\n",
    "    'Wealth Fund':'Wealth Fund',\n",
    "}\n",
    "df['portfolio_map'] = df['portfolio'].replace(portfolio_map)"
   ]
  },
  {
   "cell_type": "code",
   "execution_count": 37,
   "metadata": {},
   "outputs": [
    {
     "data": {
      "text/html": [
       "<div>\n",
       "<style scoped>\n",
       "    .dataframe tbody tr th:only-of-type {\n",
       "        vertical-align: middle;\n",
       "    }\n",
       "\n",
       "    .dataframe tbody tr th {\n",
       "        vertical-align: top;\n",
       "    }\n",
       "\n",
       "    .dataframe thead th {\n",
       "        text-align: right;\n",
       "    }\n",
       "</style>\n",
       "<table border=\"1\" class=\"dataframe\">\n",
       "  <thead>\n",
       "    <tr style=\"text-align: right;\">\n",
       "      <th></th>\n",
       "      <th>member_no</th>\n",
       "      <th>dob</th>\n",
       "      <th>gender</th>\n",
       "      <th>town</th>\n",
       "      <th>relationship</th>\n",
       "      <th>beneficiery_dob</th>\n",
       "      <th>portfolio</th>\n",
       "      <th>gender_mapped</th>\n",
       "      <th>member_age</th>\n",
       "      <th>beneficiery_age</th>\n",
       "      <th>portfolio_map</th>\n",
       "    </tr>\n",
       "  </thead>\n",
       "  <tbody>\n",
       "    <tr>\n",
       "      <th>0</th>\n",
       "      <td>99996</td>\n",
       "      <td>1998-04-06</td>\n",
       "      <td>Female</td>\n",
       "      <td>NAIROBI</td>\n",
       "      <td>partner</td>\n",
       "      <td>1998-01-26</td>\n",
       "      <td>Money Market</td>\n",
       "      <td>Female</td>\n",
       "      <td>26</td>\n",
       "      <td>26.0</td>\n",
       "      <td>Money Market</td>\n",
       "    </tr>\n",
       "    <tr>\n",
       "      <th>14</th>\n",
       "      <td>99996</td>\n",
       "      <td>1998-04-06</td>\n",
       "      <td>Female</td>\n",
       "      <td>NAIROBI</td>\n",
       "      <td>sibling</td>\n",
       "      <td>2001-03-04</td>\n",
       "      <td>Money Market</td>\n",
       "      <td>Female</td>\n",
       "      <td>26</td>\n",
       "      <td>23.0</td>\n",
       "      <td>Money Market</td>\n",
       "    </tr>\n",
       "    <tr>\n",
       "      <th>28</th>\n",
       "      <td>99994</td>\n",
       "      <td>1966-01-01</td>\n",
       "      <td>Female</td>\n",
       "      <td>NaN</td>\n",
       "      <td>partner</td>\n",
       "      <td>1962-01-01</td>\n",
       "      <td>Money Market</td>\n",
       "      <td>Female</td>\n",
       "      <td>58</td>\n",
       "      <td>62.0</td>\n",
       "      <td>Money Market</td>\n",
       "    </tr>\n",
       "    <tr>\n",
       "      <th>40</th>\n",
       "      <td>99993</td>\n",
       "      <td>1974-01-01</td>\n",
       "      <td>Female</td>\n",
       "      <td>NAIROBI</td>\n",
       "      <td>partner</td>\n",
       "      <td>1970-09-29</td>\n",
       "      <td>Money Market</td>\n",
       "      <td>Female</td>\n",
       "      <td>50</td>\n",
       "      <td>54.0</td>\n",
       "      <td>Money Market</td>\n",
       "    </tr>\n",
       "    <tr>\n",
       "      <th>70</th>\n",
       "      <td>99993</td>\n",
       "      <td>1974-01-01</td>\n",
       "      <td>Female</td>\n",
       "      <td>NAIROBI</td>\n",
       "      <td>child</td>\n",
       "      <td>1994-01-01</td>\n",
       "      <td>Money Market</td>\n",
       "      <td>Female</td>\n",
       "      <td>50</td>\n",
       "      <td>30.0</td>\n",
       "      <td>Money Market</td>\n",
       "    </tr>\n",
       "  </tbody>\n",
       "</table>\n",
       "</div>"
      ],
      "text/plain": [
       "    member_no        dob  gender     town relationship beneficiery_dob  \\\n",
       "0       99996 1998-04-06  Female  NAIROBI      partner      1998-01-26   \n",
       "14      99996 1998-04-06  Female  NAIROBI      sibling      2001-03-04   \n",
       "28      99994 1966-01-01  Female      NaN      partner      1962-01-01   \n",
       "40      99993 1974-01-01  Female  NAIROBI      partner      1970-09-29   \n",
       "70      99993 1974-01-01  Female  NAIROBI        child      1994-01-01   \n",
       "\n",
       "       portfolio gender_mapped  member_age  beneficiery_age portfolio_map  \n",
       "0   Money Market        Female          26             26.0  Money Market  \n",
       "14  Money Market        Female          26             23.0  Money Market  \n",
       "28  Money Market        Female          58             62.0  Money Market  \n",
       "40  Money Market        Female          50             54.0  Money Market  \n",
       "70  Money Market        Female          50             30.0  Money Market  "
      ]
     },
     "execution_count": 37,
     "metadata": {},
     "output_type": "execute_result"
    }
   ],
   "source": [
    "#check the new_df\n",
    "df.head()"
   ]
  },
  {
   "cell_type": "code",
   "execution_count": 38,
   "metadata": {},
   "outputs": [
    {
     "data": {
      "text/plain": [
       "15026"
      ]
     },
     "execution_count": 38,
     "metadata": {},
     "output_type": "execute_result"
    }
   ],
   "source": [
    "#inspecting the null values in the town column\n",
    "df.town.isna().sum()"
   ]
  },
  {
   "cell_type": "code",
   "execution_count": 39,
   "metadata": {},
   "outputs": [
    {
     "data": {
      "text/plain": [
       "NAIROBI        56997\n",
       "Nairobi        10261\n",
       "THIKA           3000\n",
       "NAKURU          2608\n",
       "MOMBASA         2440\n",
       "               ...  \n",
       "narumoru           1\n",
       "MASII              1\n",
       "Hola               1\n",
       "MUTOMO             1\n",
       "Kisii Town         1\n",
       "Name: town, Length: 973, dtype: int64"
      ]
     },
     "execution_count": 39,
     "metadata": {},
     "output_type": "execute_result"
    }
   ],
   "source": [
    "#inspecting the value_counts in the town column\n",
    "df.town.value_counts()"
   ]
  },
  {
   "cell_type": "code",
   "execution_count": 40,
   "metadata": {},
   "outputs": [
    {
     "data": {
      "text/plain": [
       "0"
      ]
     },
     "execution_count": 40,
     "metadata": {},
     "output_type": "execute_result"
    }
   ],
   "source": [
    "#fill the null values with unknown\n",
    "df['town'] = df.town.fillna('Unknown')\n",
    "df.town.isna().sum()"
   ]
  },
  {
   "cell_type": "code",
   "execution_count": 41,
   "metadata": {},
   "outputs": [
    {
     "data": {
      "text/html": [
       "<div>\n",
       "<style scoped>\n",
       "    .dataframe tbody tr th:only-of-type {\n",
       "        vertical-align: middle;\n",
       "    }\n",
       "\n",
       "    .dataframe tbody tr th {\n",
       "        vertical-align: top;\n",
       "    }\n",
       "\n",
       "    .dataframe thead th {\n",
       "        text-align: right;\n",
       "    }\n",
       "</style>\n",
       "<table border=\"1\" class=\"dataframe\">\n",
       "  <thead>\n",
       "    <tr style=\"text-align: right;\">\n",
       "      <th></th>\n",
       "      <th>member_no</th>\n",
       "      <th>dob</th>\n",
       "      <th>gender</th>\n",
       "      <th>town</th>\n",
       "      <th>relationship</th>\n",
       "      <th>beneficiery_dob</th>\n",
       "      <th>portfolio</th>\n",
       "      <th>gender_mapped</th>\n",
       "      <th>member_age</th>\n",
       "      <th>beneficiery_age</th>\n",
       "      <th>portfolio_map</th>\n",
       "    </tr>\n",
       "  </thead>\n",
       "  <tbody>\n",
       "    <tr>\n",
       "      <th>0</th>\n",
       "      <td>99996</td>\n",
       "      <td>1998-04-06</td>\n",
       "      <td>Female</td>\n",
       "      <td>NAIROBI</td>\n",
       "      <td>partner</td>\n",
       "      <td>1998-01-26</td>\n",
       "      <td>Money Market</td>\n",
       "      <td>Female</td>\n",
       "      <td>26</td>\n",
       "      <td>26.0</td>\n",
       "      <td>Money Market</td>\n",
       "    </tr>\n",
       "    <tr>\n",
       "      <th>14</th>\n",
       "      <td>99996</td>\n",
       "      <td>1998-04-06</td>\n",
       "      <td>Female</td>\n",
       "      <td>NAIROBI</td>\n",
       "      <td>sibling</td>\n",
       "      <td>2001-03-04</td>\n",
       "      <td>Money Market</td>\n",
       "      <td>Female</td>\n",
       "      <td>26</td>\n",
       "      <td>23.0</td>\n",
       "      <td>Money Market</td>\n",
       "    </tr>\n",
       "    <tr>\n",
       "      <th>28</th>\n",
       "      <td>99994</td>\n",
       "      <td>1966-01-01</td>\n",
       "      <td>Female</td>\n",
       "      <td>Unknown</td>\n",
       "      <td>partner</td>\n",
       "      <td>1962-01-01</td>\n",
       "      <td>Money Market</td>\n",
       "      <td>Female</td>\n",
       "      <td>58</td>\n",
       "      <td>62.0</td>\n",
       "      <td>Money Market</td>\n",
       "    </tr>\n",
       "    <tr>\n",
       "      <th>40</th>\n",
       "      <td>99993</td>\n",
       "      <td>1974-01-01</td>\n",
       "      <td>Female</td>\n",
       "      <td>NAIROBI</td>\n",
       "      <td>partner</td>\n",
       "      <td>1970-09-29</td>\n",
       "      <td>Money Market</td>\n",
       "      <td>Female</td>\n",
       "      <td>50</td>\n",
       "      <td>54.0</td>\n",
       "      <td>Money Market</td>\n",
       "    </tr>\n",
       "    <tr>\n",
       "      <th>70</th>\n",
       "      <td>99993</td>\n",
       "      <td>1974-01-01</td>\n",
       "      <td>Female</td>\n",
       "      <td>NAIROBI</td>\n",
       "      <td>child</td>\n",
       "      <td>1994-01-01</td>\n",
       "      <td>Money Market</td>\n",
       "      <td>Female</td>\n",
       "      <td>50</td>\n",
       "      <td>30.0</td>\n",
       "      <td>Money Market</td>\n",
       "    </tr>\n",
       "  </tbody>\n",
       "</table>\n",
       "</div>"
      ],
      "text/plain": [
       "    member_no        dob  gender     town relationship beneficiery_dob  \\\n",
       "0       99996 1998-04-06  Female  NAIROBI      partner      1998-01-26   \n",
       "14      99996 1998-04-06  Female  NAIROBI      sibling      2001-03-04   \n",
       "28      99994 1966-01-01  Female  Unknown      partner      1962-01-01   \n",
       "40      99993 1974-01-01  Female  NAIROBI      partner      1970-09-29   \n",
       "70      99993 1974-01-01  Female  NAIROBI        child      1994-01-01   \n",
       "\n",
       "       portfolio gender_mapped  member_age  beneficiery_age portfolio_map  \n",
       "0   Money Market        Female          26             26.0  Money Market  \n",
       "14  Money Market        Female          26             23.0  Money Market  \n",
       "28  Money Market        Female          58             62.0  Money Market  \n",
       "40  Money Market        Female          50             54.0  Money Market  \n",
       "70  Money Market        Female          50             30.0  Money Market  "
      ]
     },
     "execution_count": 41,
     "metadata": {},
     "output_type": "execute_result"
    }
   ],
   "source": [
    "df.head()"
   ]
  },
  {
   "cell_type": "code",
   "execution_count": 42,
   "metadata": {},
   "outputs": [
    {
     "data": {
      "text/html": [
       "<div>\n",
       "<style scoped>\n",
       "    .dataframe tbody tr th:only-of-type {\n",
       "        vertical-align: middle;\n",
       "    }\n",
       "\n",
       "    .dataframe tbody tr th {\n",
       "        vertical-align: top;\n",
       "    }\n",
       "\n",
       "    .dataframe thead th {\n",
       "        text-align: right;\n",
       "    }\n",
       "</style>\n",
       "<table border=\"1\" class=\"dataframe\">\n",
       "  <thead>\n",
       "    <tr style=\"text-align: right;\">\n",
       "      <th></th>\n",
       "      <th>member_no</th>\n",
       "      <th>town</th>\n",
       "      <th>relationship</th>\n",
       "      <th>gender_mapped</th>\n",
       "      <th>member_age</th>\n",
       "      <th>beneficiery_age</th>\n",
       "      <th>portfolio_map</th>\n",
       "    </tr>\n",
       "  </thead>\n",
       "  <tbody>\n",
       "    <tr>\n",
       "      <th>0</th>\n",
       "      <td>99996</td>\n",
       "      <td>NAIROBI</td>\n",
       "      <td>partner</td>\n",
       "      <td>Female</td>\n",
       "      <td>26</td>\n",
       "      <td>26.0</td>\n",
       "      <td>Money Market</td>\n",
       "    </tr>\n",
       "    <tr>\n",
       "      <th>14</th>\n",
       "      <td>99996</td>\n",
       "      <td>NAIROBI</td>\n",
       "      <td>sibling</td>\n",
       "      <td>Female</td>\n",
       "      <td>26</td>\n",
       "      <td>23.0</td>\n",
       "      <td>Money Market</td>\n",
       "    </tr>\n",
       "    <tr>\n",
       "      <th>28</th>\n",
       "      <td>99994</td>\n",
       "      <td>Unknown</td>\n",
       "      <td>partner</td>\n",
       "      <td>Female</td>\n",
       "      <td>58</td>\n",
       "      <td>62.0</td>\n",
       "      <td>Money Market</td>\n",
       "    </tr>\n",
       "    <tr>\n",
       "      <th>40</th>\n",
       "      <td>99993</td>\n",
       "      <td>NAIROBI</td>\n",
       "      <td>partner</td>\n",
       "      <td>Female</td>\n",
       "      <td>50</td>\n",
       "      <td>54.0</td>\n",
       "      <td>Money Market</td>\n",
       "    </tr>\n",
       "    <tr>\n",
       "      <th>70</th>\n",
       "      <td>99993</td>\n",
       "      <td>NAIROBI</td>\n",
       "      <td>child</td>\n",
       "      <td>Female</td>\n",
       "      <td>50</td>\n",
       "      <td>30.0</td>\n",
       "      <td>Money Market</td>\n",
       "    </tr>\n",
       "  </tbody>\n",
       "</table>\n",
       "</div>"
      ],
      "text/plain": [
       "    member_no     town relationship gender_mapped  member_age  \\\n",
       "0       99996  NAIROBI      partner        Female          26   \n",
       "14      99996  NAIROBI      sibling        Female          26   \n",
       "28      99994  Unknown      partner        Female          58   \n",
       "40      99993  NAIROBI      partner        Female          50   \n",
       "70      99993  NAIROBI        child        Female          50   \n",
       "\n",
       "    beneficiery_age portfolio_map  \n",
       "0              26.0  Money Market  \n",
       "14             23.0  Money Market  \n",
       "28             62.0  Money Market  \n",
       "40             54.0  Money Market  \n",
       "70             30.0  Money Market  "
      ]
     },
     "execution_count": 42,
     "metadata": {},
     "output_type": "execute_result"
    }
   ],
   "source": [
    "# Drop unnecessary columns ('dob', 'gender', 'portfolio', 'beneficiery_dob') from the dataframe\n",
    "new_df=df.drop(columns=['dob','gender','portfolio','beneficiery_dob'])\n",
    "new_df.head()"
   ]
  },
  {
   "cell_type": "code",
   "execution_count": 43,
   "metadata": {},
   "outputs": [],
   "source": [
    "#fill null values with the mode\n",
    "new_df['member_age'].fillna(new_df['member_age'].mode()[0], inplace=True)\n",
    "new_df['beneficiery_age'].fillna(new_df['beneficiery_age'].mode()[0], inplace=True)"
   ]
  },
  {
   "cell_type": "code",
   "execution_count": 44,
   "metadata": {},
   "outputs": [],
   "source": [
    "# Set reasonable age bounds\n",
    "lower_bound = 0\n",
    "upper_bound = 100\n",
    "\n",
    "# Create a copy of original ages for comparison if needed\n",
    "original_ages = new_df['beneficiery_age'].copy()\n",
    "\n",
    "# Replace outliers by clipping to bounds\n",
    "new_df['beneficiery_age'] = new_df['beneficiery_age'].clip(lower=lower_bound, upper=upper_bound)"
   ]
  },
  {
   "cell_type": "markdown",
   "metadata": {},
   "source": [
    "## DATA VISUALIZATION"
   ]
  },
  {
   "cell_type": "code",
   "execution_count": 45,
   "metadata": {},
   "outputs": [
    {
     "data": {
      "image/png": "[encoded data removed]",
      "text/plain": [
       "<Figure size 720x432 with 1 Axes>"
      ]
     },
     "metadata": {
      "needs_background": "light"
     },
     "output_type": "display_data"
    }
   ],
   "source": [
    "average_age = new_df.groupby('portfolio_map')['member_age'].mean().reset_index()\n",
    "\n",
    "plt.figure(figsize=(10, 6))\n",
    "sns.barplot(x='portfolio_map', y='member_age', data=average_age)\n",
    "plt.title('Average Age by Portfolio Map')\n",
    "plt.xlabel('Portfolio Map')\n",
    "plt.ylabel('Average Age')\n",
    "plt.show()\n"
   ]
  },
  {
   "cell_type": "markdown",
   "metadata": {},
   "source": [
    "The output is a bar plot showing the average age for each portfolio type.\n",
    "Each bar represents the average age of members who belong to that specific portfolio, allowing you to quickly compare the average ages across different portfolio categories.\n",
    "The resulting plot gives insights into the age distribution for each portfolio, highlighting which portfolios are associated with older or younger members."
   ]
  },
  {
   "cell_type": "code",
   "execution_count": 46,
   "metadata": {},
   "outputs": [
    {
     "data": {
      "text/plain": [
       "Index(['member_no', 'town', 'relationship', 'gender_mapped', 'member_age',\n",
       "       'beneficiery_age', 'portfolio_map'],\n",
       "      dtype='object')"
      ]
     },
     "execution_count": 46,
     "metadata": {},
     "output_type": "execute_result"
    }
   ],
   "source": [
    "#check columns\n",
    "new_df.columns"
   ]
  },
  {
   "cell_type": "code",
   "execution_count": 47,
   "metadata": {},
   "outputs": [],
   "source": [
    "#convert the cleaned data to csv\n",
    "new_df.to_csv('cleaned_data.csv', index=False)"
   ]
  },
  {
   "cell_type": "code",
   "execution_count": 48,
   "metadata": {},
   "outputs": [
    {
     "name": "stdout",
     "output_type": "stream",
     "text": [
      "<class 'pandas.core.frame.DataFrame'>\n",
      "Int64Index: 125888 entries, 0 to 7532842\n",
      "Data columns (total 7 columns):\n",
      " #   Column           Non-Null Count   Dtype  \n",
      "---  ------           --------------   -----  \n",
      " 0   member_no        125888 non-null  int64  \n",
      " 1   town             125888 non-null  object \n",
      " 2   relationship     125888 non-null  object \n",
      " 3   gender_mapped    125888 non-null  object \n",
      " 4   member_age       125888 non-null  int64  \n",
      " 5   beneficiery_age  125888 non-null  float64\n",
      " 6   portfolio_map    125888 non-null  object \n",
      "dtypes: float64(1), int64(2), object(4)\n",
      "memory usage: 7.7+ MB\n"
     ]
    }
   ],
   "source": [
    "#inspecting the preprocessed dataframe\n",
    "new_df.info()"
   ]
  },
  {
   "cell_type": "code",
   "execution_count": 49,
   "metadata": {},
   "outputs": [
    {
     "data": {
      "image/png": "[encoded data removed]",
      "text/plain": [
       "<Figure size 576x432 with 1 Axes>"
      ]
     },
     "metadata": {
      "needs_background": "light"
     },
     "output_type": "display_data"
    }
   ],
   "source": [
    "plt.figure(figsize=(8, 6))\n",
    "sns.countplot(data=new_df, x='gender_mapped', palette='viridis')\n",
    "plt.title('Male vs Female Count in Gender Mapped')\n",
    "plt.xlabel('Gender')\n",
    "plt.ylabel('Count')\n",
    "plt.show()"
   ]
  },
  {
   "cell_type": "markdown",
   "metadata": {},
   "source": [
    "This plot gives a clear visual comparison of how many male and female entries are present in the dataset after the gender mapping process.\n",
    "The resulting plot allows for an easy comparison of the number of male versus female entries in the dataset, making it visually straightforward to assess gender distribution."
   ]
  },
  {
   "cell_type": "code",
   "execution_count": 50,
   "metadata": {},
   "outputs": [
    {
     "data": {
      "image/png": "[encoded data removed]",
      "text/plain": [
       "<Figure size 720x432 with 1 Axes>"
      ]
     },
     "metadata": {
      "needs_background": "light"
     },
     "output_type": "display_data"
    }
   ],
   "source": [
    "plt.figure(figsize=(10, 6))\n",
    "sns.countplot(data=new_df, x='gender_mapped', hue='portfolio_map', palette='viridis')\n",
    "plt.title('Gender vs Portfolio Map')\n",
    "plt.xlabel('Gender')\n",
    "plt.ylabel('Count')\n",
    "plt.legend(title='Portfolio Map')\n",
    "plt.show()"
   ]
  },
  {
   "cell_type": "markdown",
   "metadata": {},
   "source": [
    "This plot provides a clear visual comparison of how genders are distributed across different portfolio categories, helping to understand the intersection of gender and portfolio preferences. It allows you to see if certain portfolio types are more favored by one gender over the other or if the distribution is relatively balanced."
   ]
  },
  {
   "cell_type": "code",
   "execution_count": 51,
   "metadata": {},
   "outputs": [
    {
     "data": {
      "image/png": "[encoded data removed]",
      "text/plain": [
       "<Figure size 720x720 with 1 Axes>"
      ]
     },
     "metadata": {},
     "output_type": "display_data"
    }
   ],
   "source": [
    "age_bins = [0, 18, 30, 45, 60, 100]\n",
    "age_labels = ['0-18', '19-30', '31-45', '46-60', '60+']\n",
    "new_df['age_group'] = pd.cut(new_df['member_age'], bins=age_bins, labels=age_labels)\n",
    "age_counts = new_df['age_group'].value_counts().sort_index()\n",
    "plt.figure(figsize=(10, 10))\n",
    "plt.pie(age_counts, labels=age_counts.index, autopct='%1.1f%%', startangle=140, colors=sns.color_palette('viridis'))\n",
    "plt.title('Members Age Groups Distribution')\n",
    "plt.show()"
   ]
  },
  {
   "cell_type": "markdown",
   "metadata": {},
   "source": [
    "Each segment of the pie chart represents one of these age groups.\n",
    "The size of each segment corresponds to the percentage of members that fall into each age group.\n",
    "The color palette viridis provides visually distinguishable colors for each segment.\n",
    "The autopct option displays the percentage of total members in each age group directly on the chart, making it easy to compare the distribution across groups.\n",
    "This pie chart provides a clear visual of the age distribution among the members, helping to identify which age groups are the most and least represented in the dataset."
   ]
  },
  {
   "cell_type": "code",
   "execution_count": 52,
   "metadata": {},
   "outputs": [
    {
     "data": {
      "image/png": "[encoded data removed]",
      "text/plain": [
       "<Figure size 720x432 with 1 Axes>"
      ]
     },
     "metadata": {
      "needs_background": "light"
     },
     "output_type": "display_data"
    }
   ],
   "source": [
    "top_10_towns = new_df['town'].value_counts().head(10)\n",
    "plt.figure(figsize=(10, 6))\n",
    "sns.barplot(x=top_10_towns.values, y=top_10_towns.index, palette='viridis')\n",
    "plt.title('Top 10 Towns')\n",
    "plt.xlabel('Count')\n",
    "plt.ylabel('Town')\n",
    "plt.show()"
   ]
  },
  {
   "cell_type": "markdown",
   "metadata": {},
   "source": [
    "overview of the most common towns in the dataset, highlighting their relative frequencies."
   ]
  },
  {
   "cell_type": "markdown",
   "metadata": {},
   "source": [
    "## MODELING"
   ]
  },
  {
   "cell_type": "code",
   "execution_count": 53,
   "metadata": {},
   "outputs": [
    {
     "name": "stdout",
     "output_type": "stream",
     "text": [
      "<class 'pandas.core.frame.DataFrame'>\n",
      "Int64Index: 125888 entries, 0 to 7532842\n",
      "Data columns (total 8 columns):\n",
      " #   Column           Non-Null Count   Dtype   \n",
      "---  ------           --------------   -----   \n",
      " 0   member_no        125888 non-null  int64   \n",
      " 1   town             125888 non-null  object  \n",
      " 2   relationship     125888 non-null  object  \n",
      " 3   gender_mapped    125888 non-null  object  \n",
      " 4   member_age       125888 non-null  int64   \n",
      " 5   beneficiery_age  125888 non-null  float64 \n",
      " 6   portfolio_map    125888 non-null  object  \n",
      " 7   age_group        125808 non-null  category\n",
      "dtypes: category(1), float64(1), int64(2), object(4)\n",
      "memory usage: 12.8+ MB\n"
     ]
    }
   ],
   "source": [
    "#inspect the new_df\n",
    "new_df.info()"
   ]
  },
  {
   "cell_type": "code",
   "execution_count": 54,
   "metadata": {},
   "outputs": [
    {
     "data": {
      "text/html": [
       "<div>\n",
       "<style scoped>\n",
       "    .dataframe tbody tr th:only-of-type {\n",
       "        vertical-align: middle;\n",
       "    }\n",
       "\n",
       "    .dataframe tbody tr th {\n",
       "        vertical-align: top;\n",
       "    }\n",
       "\n",
       "    .dataframe thead th {\n",
       "        text-align: right;\n",
       "    }\n",
       "</style>\n",
       "<table border=\"1\" class=\"dataframe\">\n",
       "  <thead>\n",
       "    <tr style=\"text-align: right;\">\n",
       "      <th></th>\n",
       "      <th>member_no</th>\n",
       "      <th>town</th>\n",
       "      <th>relationship</th>\n",
       "      <th>gender_mapped</th>\n",
       "      <th>member_age</th>\n",
       "      <th>beneficiery_age</th>\n",
       "      <th>portfolio_map</th>\n",
       "      <th>age_group</th>\n",
       "    </tr>\n",
       "  </thead>\n",
       "  <tbody>\n",
       "    <tr>\n",
       "      <th>0</th>\n",
       "      <td>99996</td>\n",
       "      <td>NAIROBI</td>\n",
       "      <td>partner</td>\n",
       "      <td>Female</td>\n",
       "      <td>26</td>\n",
       "      <td>26.0</td>\n",
       "      <td>Money Market</td>\n",
       "      <td>19-30</td>\n",
       "    </tr>\n",
       "    <tr>\n",
       "      <th>14</th>\n",
       "      <td>99996</td>\n",
       "      <td>NAIROBI</td>\n",
       "      <td>sibling</td>\n",
       "      <td>Female</td>\n",
       "      <td>26</td>\n",
       "      <td>23.0</td>\n",
       "      <td>Money Market</td>\n",
       "      <td>19-30</td>\n",
       "    </tr>\n",
       "    <tr>\n",
       "      <th>28</th>\n",
       "      <td>99994</td>\n",
       "      <td>Unknown</td>\n",
       "      <td>partner</td>\n",
       "      <td>Female</td>\n",
       "      <td>58</td>\n",
       "      <td>62.0</td>\n",
       "      <td>Money Market</td>\n",
       "      <td>46-60</td>\n",
       "    </tr>\n",
       "    <tr>\n",
       "      <th>40</th>\n",
       "      <td>99993</td>\n",
       "      <td>NAIROBI</td>\n",
       "      <td>partner</td>\n",
       "      <td>Female</td>\n",
       "      <td>50</td>\n",
       "      <td>54.0</td>\n",
       "      <td>Money Market</td>\n",
       "      <td>46-60</td>\n",
       "    </tr>\n",
       "    <tr>\n",
       "      <th>70</th>\n",
       "      <td>99993</td>\n",
       "      <td>NAIROBI</td>\n",
       "      <td>child</td>\n",
       "      <td>Female</td>\n",
       "      <td>50</td>\n",
       "      <td>30.0</td>\n",
       "      <td>Money Market</td>\n",
       "      <td>46-60</td>\n",
       "    </tr>\n",
       "  </tbody>\n",
       "</table>\n",
       "</div>"
      ],
      "text/plain": [
       "    member_no     town relationship gender_mapped  member_age  \\\n",
       "0       99996  NAIROBI      partner        Female          26   \n",
       "14      99996  NAIROBI      sibling        Female          26   \n",
       "28      99994  Unknown      partner        Female          58   \n",
       "40      99993  NAIROBI      partner        Female          50   \n",
       "70      99993  NAIROBI        child        Female          50   \n",
       "\n",
       "    beneficiery_age portfolio_map age_group  \n",
       "0              26.0  Money Market     19-30  \n",
       "14             23.0  Money Market     19-30  \n",
       "28             62.0  Money Market     46-60  \n",
       "40             54.0  Money Market     46-60  \n",
       "70             30.0  Money Market     46-60  "
      ]
     },
     "execution_count": 54,
     "metadata": {},
     "output_type": "execute_result"
    }
   ],
   "source": [
    "#check the first entries in the dataframe\n",
    "new_df.head()"
   ]
  },
  {
   "cell_type": "code",
   "execution_count": 55,
   "metadata": {},
   "outputs": [
    {
     "name": "stderr",
     "output_type": "stream",
     "text": [
      "<ipython-input-55-c464198fbbef>:5: SettingWithCopyWarning: \n",
      "A value is trying to be set on a copy of a slice from a DataFrame.\n",
      "Try using .loc[row_indexer,col_indexer] = value instead\n",
      "\n",
      "See the caveats in the documentation: https://pandas.pydata.org/pandas-docs/stable/user_guide/indexing.html#returning-a-view-versus-a-copy\n",
      "  X['features'] = X.astype(str).sum(axis=1)\n"
     ]
    }
   ],
   "source": [
    "\n",
    "# Create a feature matrix combining the relevant columns\n",
    "X = new_df[['member_age', 'beneficiery_age', 'age_group', 'gender_mapped']]\n",
    "\n",
    "# Convert the feature columns to a single string for each row\n",
    "X['features'] = X.astype(str).sum(axis=1)\n",
    "\n",
    "# Create a TF-IDF matrix from the features\n",
    "tfidf = TfidfVectorizer(max_features=1000)\n",
    "X_tfidf = tfidf.fit_transform(X['features'])\n",
    "\n",
    "# Split the data into training and test sets\n",
    "X_train, X_test, y_train, y_test = train_test_split(X_tfidf, new_df['portfolio_map'], test_size=0.2, random_state=42)\n",
    "\n",
    "\n"
   ]
  },
  {
   "cell_type": "code",
   "execution_count": 56,
   "metadata": {},
   "outputs": [
    {
     "data": {
      "text/plain": [
       "NearestNeighbors(algorithm='brute', metric='cosine')"
      ]
     },
     "execution_count": 56,
     "metadata": {},
     "output_type": "execute_result"
    }
   ],
   "source": [
    "# Train the Nearest Neighbors model\n",
    "model = NearestNeighbors(metric='cosine', algorithm='brute')\n",
    "model.fit(X_train)\n",
    "\n"
   ]
  },
  {
   "cell_type": "code",
   "execution_count": 57,
   "metadata": {},
   "outputs": [],
   "source": [
    "def get_recommendations(member_features, n=5):\n",
    "    # Get distances and indices of the nearest neighbors\n",
    "    distances, indices = model.kneighbors(member_features, n_neighbors=n+1)\n",
    "    \n",
    "    # Retrieve the original portfolio information from `new_df` using indices\n",
    "    # Exclude the first column of `indices` since it's the item itself\n",
    "    recommended_portfolios = new_df.iloc[indices[0, 1:]]['portfolio_map'].tolist()\n",
    "    \n",
    "    return recommended_portfolios"
   ]
  },
  {
   "cell_type": "code",
   "execution_count": 58,
   "metadata": {},
   "outputs": [
    {
     "name": "stdout",
     "output_type": "stream",
     "text": [
      "Accuracy: 0.82\n"
     ]
    }
   ],
   "source": [
    "\n",
    "# Make predictions on the test set\n",
    "y_pred = []\n",
    "for i in range(X_test.shape[0]):\n",
    "    member = X_test[i].toarray()\n",
    "    recommendations = get_recommendations(member.reshape(1, -1), n=1)\n",
    "    y_pred.append(recommendations[0])  # Get the top recommendation\n",
    "\n",
    "# Calculate accuracy by comparing the predicted product to the actual product\n",
    "accuracy = accuracy_score(y_test, y_pred)\n",
    "\n",
    "print(f\"Accuracy: {accuracy:.2f}\")\n"
   ]
  },
  {
   "cell_type": "markdown",
   "metadata": {},
   "source": [
    "RULE BASED ADDED"
   ]
  },
  {
   "cell_type": "code",
   "execution_count": 59,
   "metadata": {},
   "outputs": [],
   "source": [
    "def get_recommendations(member_features, member_no, n=5):\n",
    "    # Fetch member's details\n",
    "    member_row = new_df.loc[new_df['member_no'] == member_no].iloc[0]\n",
    "    member_beneficiary_age = member_row['beneficiery_age']\n",
    "    member_age_group = member_row['age_group']\n",
    "    member_town = member_row['town']\n",
    "    member_gender = member_row['gender_mapped']\n",
    "    member_current_products = set(new_df.loc[new_df['member_no'] == member_no, 'portfolio_map'].values)\n",
    "    \n",
    "    recommended_products = []\n",
    "\n",
    "    # Rule 1: Recommend based on beneficiary age (Student and Junior Accounts)\n",
    "    #if 18 <= member_beneficiary_age <= 25:\n",
    "    if  member_beneficiary_age >= 18 and  member_beneficiary_age <= 25:\n",
    "        recommended_products.append(\"Student Account\")\n",
    "    elif member_beneficiary_age < 18:\n",
    "        recommended_products.append(\"Junior Account\")\n",
    "\n",
    "    # Rule 2: Recommend popular products within the same age group\n",
    "    age_group_products = (\n",
    "        new_df[new_df['age_group'] == member_age_group]\n",
    "        .portfolio_map.value_counts()\n",
    "        .index\n",
    "        .tolist()\n",
    "    )\n",
    "    for product in age_group_products:\n",
    "        if product not in member_current_products and product not in recommended_products:\n",
    "            recommended_products.append(product)\n",
    "        if len(recommended_products) >= n:\n",
    "            return recommended_products[:n]\n",
    "\n",
    "    # Rule 3: Recommend popular products in the same town\n",
    "    town_products = (\n",
    "        new_df[new_df['town'] == member_town]\n",
    "        .portfolio_map.value_counts()\n",
    "        .index\n",
    "        .tolist()\n",
    "    )\n",
    "    for product in town_products:\n",
    "        if product not in member_current_products and product not in recommended_products:\n",
    "            recommended_products.append(product)\n",
    "        if len(recommended_products) >= n:\n",
    "            return recommended_products[:n]\n",
    "        \n",
    "    gender_products = (\n",
    "        new_df[new_df['gender_mapped']== member_gender]\n",
    "        .portfolio_map.value_counts()\n",
    "        .index\n",
    "        .tolist()\n",
    "    )\n",
    "    for product in gender_products:\n",
    "        if product not in member_current_products and product not in recommended_products:\n",
    "            recommended_products.append(product)\n",
    "        if len(recommended_products) >= n:\n",
    "            return recommended_products[:n]\n",
    "\n",
    "    # Collaborative Filtering for Additional Recommendations\n",
    "    distances, indices = model.kneighbors(member_features, n_neighbors=n + len(recommended_products))\n",
    "    for index in indices[0]:\n",
    "        product = new_df.iloc[index]['portfolio_map']\n",
    "        if product not in member_current_products and product not in recommended_products:\n",
    "            recommended_products.append(product)\n",
    "        if len(recommended_products) >= n:\n",
    "            break\n",
    "\n",
    "    return recommended_products[:n]\n"
   ]
  },
  {
   "cell_type": "code",
   "execution_count": 60,
   "metadata": {},
   "outputs": [
    {
     "data": {
      "text/plain": [
       "Index(['member_no', 'town', 'relationship', 'gender_mapped', 'member_age',\n",
       "       'beneficiery_age', 'portfolio_map', 'age_group'],\n",
       "      dtype='object')"
      ]
     },
     "execution_count": 60,
     "metadata": {},
     "output_type": "execute_result"
    }
   ],
   "source": [
    "new_df.columns"
   ]
  },
  {
   "cell_type": "code",
   "execution_count": 61,
   "metadata": {},
   "outputs": [],
   "source": [
    "def get_recommendations_with_messages(member_features, member_no, n=5):\n",
    "    # Fetch member's details\n",
    "    member_row = new_df.loc[new_df['member_no'] == member_no].iloc[0]\n",
    "    member_beneficiery_age = member_row['beneficiery_age']\n",
    "    member_age_group = member_row['age_group']\n",
    "    member_town = member_row['town']\n",
    "    member_gender = member_row['gender_mapped']\n",
    "    member_current_products = set(new_df.loc[new_df['member_no'] == member_no, 'portfolio_map'].values)\n",
    "    \n",
    "    recommended_products = []\n",
    "    messages = []\n",
    "\n",
    "    # Rule 1: Recommend based on beneficiary age (Student and Junior Accounts)\n",
    "    age_recommendations = []\n",
    "    if 18.0 >= member_beneficiery_age <= 25.0:\n",
    "        age_recommendations.append(\"Student Account\")\n",
    "        messages.append(\n",
    "            f\"Planning for your child's future? Our Student Account is perfect for young adults aged 18-25. \"\n",
    "            f\"Start securing their educational journey today!\"\n",
    "        )\n",
    "    elif member_beneficiery_age < 18.0:\n",
    "        age_recommendations.append(\"Junior Account\")\n",
    "        messages.append(\n",
    "            f\"Give your child a head start with our Junior Account! It's specially designed for children under 18 \"\n",
    "            f\"to help them develop good financial habits early.\"\n",
    "        )\n",
    "    recommended_products.extend(age_recommendations)\n",
    "\n",
    "    # Rule 2: Recommend popular products within the same age group\n",
    "    age_group_recommendations = []\n",
    "    age_group_products = (\n",
    "        new_df[new_df['age_group'] == member_age_group]\n",
    "        .portfolio_map.value_counts()\n",
    "        .index\n",
    "        .tolist()\n",
    "    )\n",
    "    for product in age_group_products:\n",
    "        if product not in member_current_products and product not in recommended_products:\n",
    "            age_group_recommendations.append(product)\n",
    "        if len(recommended_products) + len(age_group_recommendations) >= n:\n",
    "            break\n",
    "    \n",
    "    if age_group_recommendations:\n",
    "        messages.append(\n",
    "            f\"Members in your age group are enjoying these popular products: {', '.join(age_group_recommendations)}. \"\n",
    "            f\"Join them in making smart financial choices!\"\n",
    "        )\n",
    "    recommended_products.extend(age_group_recommendations)\n",
    "\n",
    "    # Rule 3: Recommend popular products in the same town\n",
    "    location_recommendations = []\n",
    "    town_products = (\n",
    "        new_df[new_df['town'] == member_town]\n",
    "        .portfolio_map.value_counts()\n",
    "        .index\n",
    "        .tolist()\n",
    "    )\n",
    "    for product in town_products:\n",
    "        if product not in member_current_products and product not in recommended_products:\n",
    "            location_recommendations.append(product)\n",
    "        if len(recommended_products) + len(location_recommendations) >= n:\n",
    "            break\n",
    "    \n",
    "    if location_recommendations:\n",
    "        messages.append(\n",
    "            f\"Trending in {member_town}! Your neighbors are choosing {', '.join(location_recommendations)}. \"\n",
    "            f\"Discover why these products are popular in your community!\"\n",
    "        )\n",
    "    recommended_products.extend(location_recommendations)\n",
    "\n",
    "    # Rule 4: Gender-based recommendations\n",
    "    gender_recommendations = []\n",
    "    gender_products = (\n",
    "        new_df[new_df['gender_mapped'] == member_gender]\n",
    "        .portfolio_map.value_counts()\n",
    "        .index\n",
    "        .tolist()\n",
    "    )\n",
    "    for product in gender_products:\n",
    "        if product not in member_current_products and product not in recommended_products:\n",
    "            gender_recommendations.append(product)\n",
    "        if len(recommended_products) + len(gender_recommendations) >= n:\n",
    "            break\n",
    "    \n",
    "    if gender_recommendations:\n",
    "        gender_message = (\n",
    "            \"Specially curated for you! \" if member_gender == 'Female' else\n",
    "            \"Join other members like you! \"\n",
    "        )\n",
    "        messages.append(\n",
    "            f\"{gender_message}Discover {', '.join(gender_recommendations)} - \"\n",
    "            f\"products that match your financial goals.\"\n",
    "        )\n",
    "    recommended_products.extend(gender_recommendations)\n",
    "\n",
    "    # Collaborative Filtering for Additional Recommendations\n",
    "    if len(recommended_products) < n:\n",
    "        collab_recommendations = []\n",
    "        distances, indices = model.kneighbors(member_features, n_neighbors=n + len(recommended_products))\n",
    "        for index in indices[0]:\n",
    "            product = new_df.iloc[index]['portfolio_map']\n",
    "            if product not in member_current_products and product not in recommended_products:\n",
    "                collab_recommendations.append(product)\n",
    "            if len(recommended_products) + len(collab_recommendations) >= n:\n",
    "                break\n",
    "        \n",
    "        if collab_recommendations:\n",
    "            messages.append(\n",
    "                f\"Based on your profile, we think you'll love {', '.join(collab_recommendations)}. \"\n",
    "                f\"These products align perfectly with your financial journey!\"\n",
    "            )\n",
    "        recommended_products.extend(collab_recommendations)\n",
    "\n",
    "    # Final personalized message\n",
    "    if len(recommended_products) > 0:\n",
    "        messages.append(\n",
    "            f\"💡 Pro tip: Adding {', '.join(recommended_products[:n])} to your portfolio \"\n",
    "            f\"could help you achieve your financial goals faster!\"\n",
    "        )\n",
    "\n",
    "    return recommended_products[:n], messages"
   ]
  },
  {
   "cell_type": "code",
   "execution_count": 62,
   "metadata": {},
   "outputs": [
    {
     "name": "stdout",
     "output_type": "stream",
     "text": [
      "\n",
      "🏦 Member Profile Analysis\n",
      "--------------------------------------------------\n",
      "Member ID: 99996\n",
      "Age Group: 19-30\n",
      "Town: NAIROBI\n",
      "Gender: Female\n",
      "Beneficiary Age: 26.0\n",
      "\n",
      "📊 Recommended Products\n",
      "--------------------------------------------------\n",
      "1. Fixed Income\n",
      "2. Equity Fund\n",
      "3. Dollar Fund\n",
      "\n",
      "💌 Personalized Messages\n",
      "--------------------------------------------------\n",
      "Message 1:\n",
      "Members in your age group are enjoying these popular products: Fixed Income, Equity Fund, Dollar Fund. Join them in making smart financial choices!\n",
      "\n",
      "Message 2:\n",
      "💡 Pro tip: Adding Fixed Income, Equity Fund, Dollar Fund to your portfolio could help you achieve your financial goals faster!\n",
      "\n",
      "\n",
      "📝 Current Portfolio\n",
      "--------------------------------------------------\n",
      "• Money Market\n"
     ]
    }
   ],
   "source": [
    "# Test the recommendations for a sample member\n",
    "sample_index = 0  # Adjust the sample index for testing\n",
    "sample_member = X_test[sample_index].toarray()\n",
    "sample_member_id = new_df.iloc[sample_index]['member_no']  # Ensure 'member_id' is in new_df\n",
    "\n",
    "# Get recommendations and messages for the sample member\n",
    "recommendations, messages = get_recommendations_with_messages(sample_member.reshape(1, -1), sample_member_id, n=3)\n",
    "\n",
    "# Display the results\n",
    "print(\"\\n🏦 Member Profile Analysis\")\n",
    "print(\"-\" * 50)\n",
    "print(f\"Member ID: {sample_member_id}\")\n",
    "member_details = new_df.loc[new_df['member_no'] == sample_member_id].iloc[0]\n",
    "print(f\"Age Group: {member_details['age_group']}\")\n",
    "print(f\"Town: {member_details['town']}\")\n",
    "print(f\"Gender: {member_details['gender_mapped']}\")\n",
    "if not pd.isna(member_details['beneficiery_age']):\n",
    "    print(f\"Beneficiary Age: {member_details['beneficiery_age']}\")\n",
    "\n",
    "print(\"\\n📊 Recommended Products\")\n",
    "print(\"-\" * 50)\n",
    "for i, product in enumerate(recommendations, 1):\n",
    "    print(f\"{i}. {product}\")\n",
    "\n",
    "print(\"\\n💌 Personalized Messages\")\n",
    "print(\"-\" * 50)\n",
    "for i, message in enumerate(messages, 1):\n",
    "    print(f\"Message {i}:\")\n",
    "    print(f\"{message}\")\n",
    "    print()\n",
    "\n",
    "# Optional: Display current products for comparison\n",
    "current_products = set(new_df.loc[new_df['member_no'] == sample_member_id, 'portfolio_map'].values)\n",
    "if current_products:\n",
    "    print(\"\\n📝 Current Portfolio\")\n",
    "    print(\"-\" * 50)\n",
    "    for product in current_products:\n",
    "        print(f\"• {product}\")"
   ]
  },
  {
   "cell_type": "code",
   "execution_count": 63,
   "metadata": {},
   "outputs": [
    {
     "name": "stdout",
     "output_type": "stream",
     "text": [
      "\n",
      "🏦 Member Profile Analysis\n",
      "--------------------------------------------------\n",
      "Member ID: 99985\n",
      "Age Group: 19-30\n",
      "Town: NAIROBI\n",
      "Gender: Female\n",
      "Beneficiary Age: 3.0\n",
      "\n",
      "📊 Recommended Products\n",
      "--------------------------------------------------\n",
      "1. Fixed Income\n",
      "2. Equity Fund\n",
      "3. Dollar Fund\n",
      "\n",
      "💌 Personalized Messages\n",
      "--------------------------------------------------\n",
      "Message 1:\n",
      "Members in your age group are enjoying these popular products: Fixed Income, Equity Fund, Dollar Fund. Join them in making smart financial choices!\n",
      "\n",
      "Message 2:\n",
      "💡 Pro tip: Adding Fixed Income, Equity Fund, Dollar Fund to your portfolio could help you achieve your financial goals faster!\n",
      "\n",
      "\n",
      "📝 Current Portfolio\n",
      "--------------------------------------------------\n",
      "• Money Market\n"
     ]
    }
   ],
   "source": [
    "# Test the recommendations for a sample member\n",
    "sample_index = 14  # Adjust the sample index for testing\n",
    "sample_member = X_test[sample_index].toarray()\n",
    "sample_member_id = new_df.iloc[sample_index]['member_no']  # Ensure 'member_id' is in new_df\n",
    "\n",
    "# Get recommendations and messages for the sample member\n",
    "recommendations, messages = get_recommendations_with_messages(sample_member.reshape(1, -1), sample_member_id, n=3)\n",
    "\n",
    "# Display the results\n",
    "print(\"\\n🏦 Member Profile Analysis\")\n",
    "print(\"-\" * 50)\n",
    "print(f\"Member ID: {sample_member_id}\")\n",
    "member_details = new_df.loc[new_df['member_no'] == sample_member_id].iloc[1]\n",
    "print(f\"Age Group: {member_details['age_group']}\")\n",
    "print(f\"Town: {member_details['town']}\")\n",
    "print(f\"Gender: {member_details['gender_mapped']}\")\n",
    "if not pd.isna(member_details['beneficiery_age']):\n",
    "    print(f\"Beneficiary Age: {member_details['beneficiery_age']}\")\n",
    "\n",
    "print(\"\\n📊 Recommended Products\")\n",
    "print(\"-\" * 50)\n",
    "for i, product in enumerate(recommendations, 1):\n",
    "    print(f\"{i}. {product}\")\n",
    "\n",
    "print(\"\\n💌 Personalized Messages\")\n",
    "print(\"-\" * 50)\n",
    "for i, message in enumerate(messages, 1):\n",
    "    print(f\"Message {i}:\")\n",
    "    print(f\"{message}\")\n",
    "    print()\n",
    "\n",
    "# Optional: Display current products for comparison\n",
    "current_products = set(new_df.loc[new_df['member_no'] == sample_member_id, 'portfolio_map'].values)\n",
    "if current_products:\n",
    "    print(\"\\n📝 Current Portfolio\")\n",
    "    print(\"-\" * 50)\n",
    "    for product in current_products:\n",
    "        print(f\"• {product}\")"
   ]
  },
  {
   "cell_type": "code",
   "execution_count": 64,
   "metadata": {},
   "outputs": [
    {
     "name": "stdout",
     "output_type": "stream",
     "text": [
      "❌ Error occurred: single positional indexer is out-of-bounds\n"
     ]
    }
   ],
   "source": [
    "def test_custom_recommendations(\n",
    "    age_group,\n",
    "    town,\n",
    "    gender_mapped,  # Changed from gender to gender_mapped\n",
    "    beneficiery_age=None,\n",
    "    current_products=None,\n",
    "    n_recommendations=3\n",
    "):\n",
    "    \"\"\"\n",
    "    Get recommendations based on manually entered member details\n",
    "    \"\"\"\n",
    "    # Create a dummy member row\n",
    "    member_features = {\n",
    "        'member_no': 'TEST_MEMBER',\n",
    "        'age_group': age_group,\n",
    "        'town': town,\n",
    "        'gender_mapped': gender_mapped,  # Updated to match your column name\n",
    "        'beneficiery_age': beneficiery_age,\n",
    "        'portfolio_map': current_products if current_products else []\n",
    "    }\n",
    "    \n",
    "    # Create dummy features vector\n",
    "    dummy_features = np.zeros((1, X.shape[1]))\n",
    "    \n",
    "    try:\n",
    "        # Get recommendations and messages\n",
    "        recommendations, messages = get_recommendations_with_messages(\n",
    "            dummy_features, \n",
    "            'TEST_MEMBER',\n",
    "            n=n_recommendations\n",
    "        )\n",
    "\n",
    "        # Display the results\n",
    "        print(\"\\n🏦 Member Profile\")\n",
    "        print(\"-\" * 50)\n",
    "        print(f\"Age Group: {age_group}\")\n",
    "        print(f\"Town: {town}\")\n",
    "        print(f\"Gender: {gender_mapped}\")\n",
    "        if beneficiery_age is not None:\n",
    "            print(f\"Beneficiary Age: {beneficiery_age}\")\n",
    "        \n",
    "        if current_products:\n",
    "            print(\"\\n📝 Current Products\")\n",
    "            print(\"-\" * 50)\n",
    "            for product in current_products:\n",
    "                print(f\"• {product}\")\n",
    "\n",
    "        print(\"\\n📊 Recommended Products\")\n",
    "        print(\"-\" * 50)\n",
    "        for i, product in enumerate(recommendations, 1):\n",
    "            print(f\"{i}. {product}\")\n",
    "\n",
    "        print(\"\\n💌 Personalized Messages\")\n",
    "        print(\"-\" * 50)\n",
    "        for i, message in enumerate(messages, 1):\n",
    "            print(f\"Message {i}:\")\n",
    "            print(f\"{message}\")\n",
    "            print()\n",
    "\n",
    "    except Exception as e:\n",
    "        print(f\"❌ Error occurred: {str(e)}\")\n",
    "\n",
    "# Single test case with corrected gender values\n",
    "test_custom_recommendations(\n",
    "    age_group='26-35',\n",
    "    town='NAIROBI',\n",
    "    gender_mapped='Female',  # Changed from 'F' to 'Female'\n",
    "    beneficiery_age=5,\n",
    "    current_products=['Money Market'],\n",
    "    n_recommendations=3\n",
    ")"
   ]
  },
  {
   "cell_type": "code",
   "execution_count": 65,
   "metadata": {},
   "outputs": [
    {
     "data": {
      "text/html": [
       "<div>\n",
       "<style scoped>\n",
       "    .dataframe tbody tr th:only-of-type {\n",
       "        vertical-align: middle;\n",
       "    }\n",
       "\n",
       "    .dataframe tbody tr th {\n",
       "        vertical-align: top;\n",
       "    }\n",
       "\n",
       "    .dataframe thead th {\n",
       "        text-align: right;\n",
       "    }\n",
       "</style>\n",
       "<table border=\"1\" class=\"dataframe\">\n",
       "  <thead>\n",
       "    <tr style=\"text-align: right;\">\n",
       "      <th></th>\n",
       "      <th>member_no</th>\n",
       "      <th>town</th>\n",
       "      <th>relationship</th>\n",
       "      <th>gender_mapped</th>\n",
       "      <th>member_age</th>\n",
       "      <th>beneficiery_age</th>\n",
       "      <th>portfolio_map</th>\n",
       "      <th>age_group</th>\n",
       "    </tr>\n",
       "  </thead>\n",
       "  <tbody>\n",
       "    <tr>\n",
       "      <th>0</th>\n",
       "      <td>99996</td>\n",
       "      <td>NAIROBI</td>\n",
       "      <td>partner</td>\n",
       "      <td>Female</td>\n",
       "      <td>26</td>\n",
       "      <td>26.0</td>\n",
       "      <td>Money Market</td>\n",
       "      <td>19-30</td>\n",
       "    </tr>\n",
       "    <tr>\n",
       "      <th>14</th>\n",
       "      <td>99996</td>\n",
       "      <td>NAIROBI</td>\n",
       "      <td>sibling</td>\n",
       "      <td>Female</td>\n",
       "      <td>26</td>\n",
       "      <td>23.0</td>\n",
       "      <td>Money Market</td>\n",
       "      <td>19-30</td>\n",
       "    </tr>\n",
       "    <tr>\n",
       "      <th>28</th>\n",
       "      <td>99994</td>\n",
       "      <td>Unknown</td>\n",
       "      <td>partner</td>\n",
       "      <td>Female</td>\n",
       "      <td>58</td>\n",
       "      <td>62.0</td>\n",
       "      <td>Money Market</td>\n",
       "      <td>46-60</td>\n",
       "    </tr>\n",
       "    <tr>\n",
       "      <th>40</th>\n",
       "      <td>99993</td>\n",
       "      <td>NAIROBI</td>\n",
       "      <td>partner</td>\n",
       "      <td>Female</td>\n",
       "      <td>50</td>\n",
       "      <td>54.0</td>\n",
       "      <td>Money Market</td>\n",
       "      <td>46-60</td>\n",
       "    </tr>\n",
       "    <tr>\n",
       "      <th>70</th>\n",
       "      <td>99993</td>\n",
       "      <td>NAIROBI</td>\n",
       "      <td>child</td>\n",
       "      <td>Female</td>\n",
       "      <td>50</td>\n",
       "      <td>30.0</td>\n",
       "      <td>Money Market</td>\n",
       "      <td>46-60</td>\n",
       "    </tr>\n",
       "  </tbody>\n",
       "</table>\n",
       "</div>"
      ],
      "text/plain": [
       "    member_no     town relationship gender_mapped  member_age  \\\n",
       "0       99996  NAIROBI      partner        Female          26   \n",
       "14      99996  NAIROBI      sibling        Female          26   \n",
       "28      99994  Unknown      partner        Female          58   \n",
       "40      99993  NAIROBI      partner        Female          50   \n",
       "70      99993  NAIROBI        child        Female          50   \n",
       "\n",
       "    beneficiery_age portfolio_map age_group  \n",
       "0              26.0  Money Market     19-30  \n",
       "14             23.0  Money Market     19-30  \n",
       "28             62.0  Money Market     46-60  \n",
       "40             54.0  Money Market     46-60  \n",
       "70             30.0  Money Market     46-60  "
      ]
     },
     "execution_count": 65,
     "metadata": {},
     "output_type": "execute_result"
    }
   ],
   "source": [
    "new_df.head()"
   ]
  },
  {
   "cell_type": "code",
   "execution_count": 66,
   "metadata": {},
   "outputs": [
    {
     "name": "stdout",
     "output_type": "stream",
     "text": [
      "Recommendations for sample member profile:\n",
      "['Fixed Income', 'Equity Fund', 'Dollar Fund']\n"
     ]
    }
   ],
   "source": [
    "# Test the recommendations for a sample member\n",
    "sample_index = 0  # Adjust the sample index for testing\n",
    "sample_member = X_test[sample_index].toarray()\n",
    "sample_member_id = new_df.iloc[sample_index]['member_no']  # Ensure 'member_id' is in new_df\n",
    "\n",
    "# Get recommendations for the sample member\n",
    "recommendations = get_recommendations(sample_member.reshape(1, -1), sample_member_id, n=3)\n",
    "\n",
    "# Display the results\n",
    "print(\"Recommendations for sample member profile:\")\n",
    "print(recommendations)\n"
   ]
  },
  {
   "cell_type": "code",
   "execution_count": 67,
   "metadata": {},
   "outputs": [
    {
     "name": "stdout",
     "output_type": "stream",
     "text": [
      "Recommendations for sample member profile:\n",
      "['Equity Fund', 'Dollar Fund', 'Fixed Income']\n"
     ]
    }
   ],
   "source": [
    "# Test the recommendations for a sample member\n",
    "sample_index = 20\n",
    "sample_member = X_test[sample_index].toarray()\n",
    "sample_member_id = new_df.iloc[sample_index]['member_no']  \n",
    "\n",
    "# Get recommendations for the sample member\n",
    "recommendations = get_recommendations(sample_member.reshape(1, -1), sample_member_id, n=3)\n",
    "\n",
    "# Display the results\n",
    "print(\"Recommendations for sample member profile:\")\n",
    "print(recommendations)\n"
   ]
  },
  {
   "cell_type": "code",
   "execution_count": null,
   "metadata": {},
   "outputs": [
    {
     "name": "stdout",
     "output_type": "stream",
     "text": [
      "Notebook content has been pickled successfully.\n"
     ]
    }
   ],
   "source": [
    "#saving the notebook as a pickle file\n",
    "# Define the notebook filename\n",
    "notebook_filename = 'Investment Product Cross Selling.ipynb'\n",
    "\n",
    "# Read the notebook content using nbformat\n",
    "with open(notebook_filename, 'r') as f:\n",
    "    notebook_content = nbformat.read(f, as_version=4)\n",
    "\n",
    "# Pickle the notebook content\n",
    "with open('Investment_Product_Cross_Selling_notebook.pkl', 'wb') as f:\n",
    "    pickle.dump(notebook_content, f)\n",
    "\n",
    "print(\"Notebook content has been pickled successfully.\")\n"
   ]
  },
  {
   "cell_type": "code",
   "execution_count": null,
   "metadata": {},
   "outputs": [
    {
     "name": "stdout",
     "output_type": "stream",
     "text": [
      "{'cells': [{'cell_type': 'markdown', 'metadata': {}, 'source': '# Product Cross Selling Recommender System\\n\\n**Business Problem Statement:**\\n\\nOur financial services company has a diverse portfolio of investment products, yet the vast majority (99%) of our existing customers hold only one product—the Money Market Fund. Despite a broad array of offerings (Balanced Fund, Dollar Fund, Equity Fund, Fixed Income Fund, and Wealth Fund), our product penetration per customer (PPC) remains exceptionally low. This indicates a significant opportunity to cross-sell additional products to our existing customer base, which would increase customer value, loyalty, and the company’s overall profitability.\\n\\nCurrently, our customers’ data includes key information that could be leveraged to tailor product recommendations. These data points include:\\n- **Location (town)**\\n- **Gender**\\n- **Customer-relationship or beneficiary information** (as customers may have more than one relationship or beneficiary associated with them)\\n- **Customer age and DOB**\\n- **Beneficiary age and DOB**\\n\\nOur goal is to create a user-friendly, intelligent recommender system that can analyze this existing data to suggest additional, relevant financial products to each customer. This system should be able to identify patterns or trends in customer profiles, uncover customer needs, and map those needs to suitable financial products, increasing our PPC in an efficient, cost-effective manner. \\n\\n**Objectives:**\\n1. **Customer Retention and Loyalty**: By offering personalized recommendations, we aim to build deeper, more personalized relationships with our customers, making them more likely to stay with us long-term.\\n2. **Increased Revenue per Customer**: A successful cross-selling strategy would increase the average number of products per customer, boosting overall portfolio revenue.\\n3. **User-Friendly Experience**: Ensuring a straightforward, accessible interface for customers to explore new financial products, particularly given that our target customers may have limited experience with financial diversification.\\n\\n**Project Success Criteria:**\\n1. Develop a model that accurately predicts the next likely product(s) for each customer based on their profile and behavior.\\n2. Achieve a measurable increase in the PPC rate by the end of the initial deployment phase.\\n3. Design an intuitive interface that enhances the customer journey, with minimal friction, to encourage engagement and adoption.'}, {'cell_type': 'markdown', 'metadata': {}, 'source': '## DATA CLEANING AND PREPARATION'}, {'cell_type': 'code', 'execution_count': 4, 'metadata': {}, 'outputs': [], 'source': '#importing the necessary libraries\\nimport pandas as pd\\nimport numpy as np\\nimport matplotlib.pyplot as plt\\nimport seaborn as sns\\n\\nfrom sklearn.metrics.pairwise import cosine_similarity\\nfrom scipy.spatial.distance import cosine\\nfrom sklearn.feature_extraction.text import TfidfVectorizer\\nfrom sklearn.model_selection import train_test_split\\nfrom datetime import datetime\\nfrom sklearn.neighbors import NearestNeighbors\\nfrom sklearn.metrics import accuracy_score\\n'}, {'cell_type': 'code', 'execution_count': 5, 'metadata': {}, 'outputs': [{'data': {'text/html': '<div>\\n<style scoped>\\n    .dataframe tbody tr th:only-of-type {\\n        vertical-align: middle;\\n    }\\n\\n    .dataframe tbody tr th {\\n        vertical-align: top;\\n    }\\n\\n    .dataframe thead th {\\n        text-align: right;\\n    }\\n</style>\\n<table border=\"1\" class=\"dataframe\">\\n  <thead>\\n    <tr style=\"text-align: right;\">\\n      <th></th>\\n      <th>member_no</th>\\n      <th>reg_date</th>\\n      <th>dob</th>\\n      <th>hse_no</th>\\n      <th>gender</th>\\n      <th>town</th>\\n      <th>relationship</th>\\n      <th>beneficiery_dob</th>\\n      <th>portfolio</th>\\n    </tr>\\n  </thead>\\n  <tbody>\\n    <tr>\\n      <th>0</th>\\n      <td>99996</td>\\n      <td>2023-10-01 00:00:00.000</td>\\n      <td>1998-04-06 00:00:00</td>\\n      <td>Single Member</td>\\n      <td>Female</td>\\n      <td>NAIROBI</td>\\n      <td>Partner</td>\\n      <td>1998-01-26</td>\\n      <td>Money Market</td>\\n    </tr>\\n    <tr>\\n      <th>1</th>\\n      <td>99996</td>\\n      <td>2023-10-01 00:00:00.000</td>\\n      <td>1998-04-06 00:00:00</td>\\n      <td>Single Member</td>\\n      <td>Female</td>\\n      <td>NAIROBI</td>\\n      <td>Partner</td>\\n      <td>1998-01-26</td>\\n      <td>Money Market</td>\\n    </tr>\\n    <tr>\\n      <th>2</th>\\n      <td>99996</td>\\n      <td>2023-10-01 00:00:00.000</td>\\n      <td>1998-04-06 00:00:00</td>\\n      <td>Single Member</td>\\n      <td>Female</td>\\n      <td>NAIROBI</td>\\n      <td>Partner</td>\\n      <td>1998-01-26</td>\\n      <td>Money Market</td>\\n    </tr>\\n    <tr>\\n      <th>3</th>\\n      <td>99996</td>\\n      <td>2023-10-01 00:00:00.000</td>\\n      <td>1998-04-06 00:00:00</td>\\n      <td>Single Member</td>\\n      <td>Female</td>\\n      <td>NAIROBI</td>\\n      <td>Partner</td>\\n      <td>1998-01-26</td>\\n      <td>Money Market</td>\\n    </tr>\\n    <tr>\\n      <th>4</th>\\n      <td>99996</td>\\n      <td>2023-10-01 00:00:00.000</td>\\n      <td>1998-04-06 00:00:00</td>\\n      <td>Single Member</td>\\n      <td>Female</td>\\n      <td>NAIROBI</td>\\n      <td>Partner</td>\\n      <td>1998-01-26</td>\\n      <td>Money Market</td>\\n    </tr>\\n    <tr>\\n      <th>...</th>\\n      <td>...</td>\\n      <td>...</td>\\n      <td>...</td>\\n      <td>...</td>\\n      <td>...</td>\\n      <td>...</td>\\n      <td>...</td>\\n      <td>...</td>\\n      <td>...</td>\\n    </tr>\\n    <tr>\\n      <th>7532949</th>\\n      <td>2</td>\\n      <td>2011-06-07</td>\\n      <td>1965-05-06</td>\\n      <td>Single Member</td>\\n      <td>Male</td>\\n      <td>NAIROBI</td>\\n      <td>NaN</td>\\n      <td>NaN</td>\\n      <td>Money Market</td>\\n    </tr>\\n    <tr>\\n      <th>7532950</th>\\n      <td>2</td>\\n      <td>2011-06-07</td>\\n      <td>1965-05-06</td>\\n      <td>Single Member</td>\\n      <td>Male</td>\\n      <td>NAIROBI</td>\\n      <td>NaN</td>\\n      <td>NaN</td>\\n      <td>Money Market</td>\\n    </tr>\\n    <tr>\\n      <th>7532951</th>\\n      <td>2</td>\\n      <td>2011-06-07</td>\\n      <td>1965-05-06</td>\\n      <td>Single Member</td>\\n      <td>Male</td>\\n      <td>NAIROBI</td>\\n      <td>NaN</td>\\n      <td>NaN</td>\\n      <td>Money Market</td>\\n    </tr>\\n    <tr>\\n      <th>7532952</th>\\n      <td>2</td>\\n      <td>2011-06-07</td>\\n      <td>1965-05-06</td>\\n      <td>Single Member</td>\\n      <td>Male</td>\\n      <td>NAIROBI</td>\\n      <td>NaN</td>\\n      <td>NaN</td>\\n      <td>Balanced Fund</td>\\n    </tr>\\n    <tr>\\n      <th>7532953</th>\\n      <td>2</td>\\n      <td>2011-06-07</td>\\n      <td>1965-05-06</td>\\n      <td>Single Member</td>\\n      <td>Male</td>\\n      <td>NAIROBI</td>\\n      <td>NaN</td>\\n      <td>NaN</td>\\n      <td>Money Market</td>\\n    </tr>\\n  </tbody>\\n</table>\\n<p>7532954 rows × 9 columns</p>\\n</div>', 'text/plain': '         member_no                 reg_date                  dob  \\\\\\n0            99996  2023-10-01 00:00:00.000  1998-04-06 00:00:00   \\n1            99996  2023-10-01 00:00:00.000  1998-04-06 00:00:00   \\n2            99996  2023-10-01 00:00:00.000  1998-04-06 00:00:00   \\n3            99996  2023-10-01 00:00:00.000  1998-04-06 00:00:00   \\n4            99996  2023-10-01 00:00:00.000  1998-04-06 00:00:00   \\n...            ...                      ...                  ...   \\n7532949          2               2011-06-07           1965-05-06   \\n7532950          2               2011-06-07           1965-05-06   \\n7532951          2               2011-06-07           1965-05-06   \\n7532952          2               2011-06-07           1965-05-06   \\n7532953          2               2011-06-07           1965-05-06   \\n\\n                hse_no  gender     town relationship beneficiery_dob  \\\\\\n0        Single Member  Female  NAIROBI      Partner      1998-01-26   \\n1        Single Member  Female  NAIROBI      Partner      1998-01-26   \\n2        Single Member  Female  NAIROBI      Partner      1998-01-26   \\n3        Single Member  Female  NAIROBI      Partner      1998-01-26   \\n4        Single Member  Female  NAIROBI      Partner      1998-01-26   \\n...                ...     ...      ...          ...             ...   \\n7532949  Single Member    Male  NAIROBI          NaN             NaN   \\n7532950  Single Member    Male  NAIROBI          NaN             NaN   \\n7532951  Single Member    Male  NAIROBI          NaN             NaN   \\n7532952  Single Member    Male  NAIROBI          NaN             NaN   \\n7532953  Single Member    Male  NAIROBI          NaN             NaN   \\n\\n             portfolio  \\n0         Money Market  \\n1         Money Market  \\n2         Money Market  \\n3         Money Market  \\n4         Money Market  \\n...                ...  \\n7532949   Money Market  \\n7532950   Money Market  \\n7532951   Money Market  \\n7532952  Balanced Fund  \\n7532953   Money Market  \\n\\n[7532954 rows x 9 columns]'}, 'execution_count': 5, 'metadata': {}, 'output_type': 'execute_result'}], 'source': '#load the dataset\\ndf = pd.read_csv(r\"C:\\\\Users\\\\User\\\\Downloads\\\\single_member.csv\")\\ndf'}, {'cell_type': 'code', 'execution_count': 6, 'metadata': {}, 'outputs': [{'data': {'text/plain': \"Index(['member_no', 'reg_date', 'dob', 'hse_no', 'gender', 'town',\\n       'relationship', 'beneficiery_dob', 'portfolio'],\\n      dtype='object')\"}, 'execution_count': 6, 'metadata': {}, 'output_type': 'execute_result'}], 'source': '#inspecting the columns in the dataframe\\ndf.columns'}, {'cell_type': 'code', 'execution_count': 7, 'metadata': {}, 'outputs': [{'data': {'text/plain': 'array([99996, 99994, 99993, ...,    19,     3,     2], dtype=int64)'}, 'execution_count': 7, 'metadata': {}, 'output_type': 'execute_result'}], 'source': \"#checking the unique values from the member_no column\\ndf['member_no'].unique()\"}, {'cell_type': 'code', 'execution_count': 8, 'metadata': {}, 'outputs': [{'data': {'text/plain': \"array(['Female', 'Male', 'FEMALE', nan, 'MALE', 'F', 'M'], dtype=object)\"}, 'execution_count': 8, 'metadata': {}, 'output_type': 'execute_result'}], 'source': \"#checking the unique values from the gender column\\ndf['gender'].unique()\"}, {'cell_type': 'code', 'execution_count': 9, 'metadata': {}, 'outputs': [{'data': {'text/plain': 'array([\\'NAIROBI\\', nan, \\'NAIROBI \\', \\'THIKA\\', \\'NAKURU\\', \\'MOMBASA \\',\\n       \\'NDANAI \\', \\'KISUMU\\', \\'KIKUYU\\', \\'JUJA\\', \\'MACHAKOS\\', \\'MERU\\',\\n       \\'KERICHO\\', \\'MUKURWEINI\\', \\'KATANGI\\', \\'THIKA,KIAMBU\\', \\'NANYUKI\\',\\n       \\'RUAI \\', \\'MALINDI\\', \\'NYAHURURU\\', \\'MUMIAS\\', \\'KAKAMEGA\\', \\'LODWAR\\',\\n       \\'Nairobi \\', \\'KITENGELA\\', \\'LIMURU\\', \\'THIKA \\', \\'MIGORI\\', \\'ELDORET\\',\\n       \\'KITUI\\', \\'RUARAKA\\', \\'Ruiru\\', \\'NJORO\\', \\'EMBU\\', \\'SORI\\', \\'NGONG\\',\\n       \\'MASENO\\', \\'GATUNDU\\', \\'KAHURO\\', \\'KILIFI\\', \\'RUIRU\\', \\'KERUGOYA\\',\\n       \\'KARATINA\\', \\'KITALE \\', \\'MOMBASA\\', \\'BUNGOMA\\', \\'KISII\\', \\'-\\',\\n       \\'Nairobi\\', \\'KINAMBA\\', \\'SIAYA\\', \\'KERICHO \\', \\'KIAMBU\\', \\'KITALE\\',\\n       \\'BUSIA\\', \\'RUNYENJES\\', \\'VILLAGE MARKET\\', \\'Kapsabet\\', \\'KAGWE\\',\\n       \\'NANDI HILLS\\', \\'KUTUS\\', \\'DAGORETTI\\', \\'LITEIN\\', \\'KAJIADO\\', \\'CHUKA\\',\\n       \\'NYERI\\', \\'NAIROBI, NAIROBI\\', \\'Kisumu \\', \\'KANJUKU\\', \\'EMALI\\',\\n       \\'GILGIL\\', \\'Kiambu \\', \\'KANGEMA\\', \\'TIRIKI\\', \\'KARATINA \\', \\'OTHAYA\\',\\n       \\'KARURI ,KIAMBU\\', \\'MURANGA \\', \\'Mombasa\\', \\'GATUKUYU \\', \\'MLOLONGO\\',\\n       \\'UTAWALA \\', \\'KAPENGURIA\\', \\'KAPSABET\\', \\'SUNA\\', \\'BOMET\\', \\'KENOL \\',\\n       \\'NYERI \\', \\'BUNGOMA \\', \\'NDANAI\\', \\'KALIMONI\\', \\'KIGANJO\\',\\n       \\'KAPSOKWONY\\', \\'Nakuru\\', \\'KIAMBU \\', \\'nairobi\\', \\'CHOGORIA\\',\\n       \\'GITHUNGURI\\', \\'YOANI,SALAMA\\', \\'LIMURU \\', \\'NAIROBI, KENYA.\\',\\n       \\'UKUNDA\\', \\'MATUU\\', \\'embu\\', \\'NYALI\\', \\'nakuru\\', \\'MBALE\\', \\'EMUHAYA\\',\\n       \\'TELFORD\\', \\'NAIVASHA\\', \\'KAREN\\', \\'KILIFI \\', \\'HOLA\\', \\'MAKINDU\\',\\n       \\'WOTE\\', \\'DIANI\\', \\'O\\', \\'OLKALAU\\', \\'KAREN \\', \\'UPLANDS\\', \\'WANGÚRU\\',\\n       \\'KABIYET\\', \\'KAKAMEGA \\', \\'SOTIK\\', \\'NGONG \\', \\'CITY SQUARE\\', \\'NKUBU\\',\\n       \\'KANGARI\\', \\'NGONG HILLS \\', \\'NYAHURURU \\', \\'KARURI \\', \\'UTHIRU\\',\\n       \\'MARIMANTI\\', \\'MANCHESTER\\', \\'Kikuyu\\', \\'.\\', \\'NAIRO \\', \\'kiambu\\',\\n       \\'VOI\\', \\'EMBAKASI\\', \\'MOLO\\', \\'Siaya \\', \\'NGIYA\\', \\'OLKALOU\\',\\n       \\'KANYAGIA\\', \\'WANJOHI\\', \\'kabete\\', \\'Wamunyu\\', \\'MARIAKANI\\',\\n       \\'KISERIAN\\', \\'ARTHI RIVER \\', \\'SUBUKIA\\', \\'KILGORIS\\', \\'KIMININI\\',\\n       \\'LAGOS\\', \\'SARE\\', \\'ATHI RIVER\\', \\'ngong hills \\', \\'WERUGHA\\',\\n       \\'NAIROBIP\\', \\'MASINFA\\', \\'kikuyu\\', \\'OL JORO OROK\\', \\'MAUA\\',\\n       \\'GIKUE MURANGA\\', \\'KIMENDE\\', \\'KIMILILI\\', \\'KISUMU \\', \\'VIHIGA\\',\\n       \\' NAIROBI \\', \\'BURUBURU\\', \\'MATATHIA\\', \\'RUAKA\\', \\'UGUNJA\\', \\'LONGISA\\',\\n       \\'ELDORATE \\', \\'KAPKATET\\', \\'WINNIPEG\\', \\'PIPELINE \\', \\'KAHAWA WEST \\',\\n       \\'KANDARA\\', \\'Kimilili \\', \\'MTWAPA \\', \\'MARAGUA\\', \\'BANANA \\', \\'NYAMIRA\\',\\n       \\'AUBURN\\', \\'KARURI\\', \\'MTWAPA\\', \\'ONGATA RONGAI\\', \\'ELDORET \\',\\n       \\'HOMABAY\\', \\'WANGIGE\\', \\'KENDUBAY\\', \\'KIBWEZI\\', \\'RONGAI\\', \\'RUIRU \\',\\n       \\'NORTH KINANGOP\\', \\'MAKUYU\\', \\'Nyeri \\', \\'Eldoret \\', \\'BOUTIGNY\\',\\n       \\'00506\\', \\'MWINGI\\', \\'00100\\', \\'KERUGOYA \\', \\'TALA\\', \\'OLENGURUONE\\',\\n       \\'MAVINDINI\\', \\'UHURU GARDENS\\', \\'KIKUYU \\', \\'Ongata Rongai\\',\\n       \\'SOUTH KINANGOP\\', \\'ELDAMA RAVINE\\', \\'MITUNGURU\\', \\'TOM MBOYA\\',\\n       \\'NAKURU \\', \\'MITABONI\\', \\'NAROMORU\\', \\'MURANGA\\', \\'OLJOROROK\\',\\n       \\'BUTERE\\', \\'OYUGIS\\', \\'SILIBWET\\', \\'EMBU \\', \\'Doha\\', \\'Eldoret\\',\\n       \\'KANGEMI\\', \\'NYERI-KIGUMO\\', \\'KISERIAN \\', \\'Athi River\\', \\'KENOL\\',\\n       \\'OL KALOU\\', \\'WESTLANDS\\', \\'Nyahururu \\', \\'ENDARASHA \\', \\'GPO/NAIROBI\\',\\n       \\'DAGORETI\\', \\'OGEMBO \\', \\'mombasa\\', \\'RUAI\\', \\'DONYO SABUK\\', \\'KEROKA\\',\\n       \\'LOWER KABETE\\', \\'MWEIGA\\', \\'Naitobi\\', \\'TOKYO\\', \\'Embu\\', \\'KIRINYAGA\\',\\n       \\'KIANYAGA\\', \\'SIAYA \\', \\'ADLISWIL\\', \\'BURU BURU\\', \\'MERU \\', \\'NYAKIO\\',\\n       \\'KWALE\\', \\'AMUKURA\\', \\'NAROK\\', \\'KOBUJOI\\', \"WANG\\'URU\", \\'BONDO\\',\\n       \\'Kericho\\', \\'KIKIMA \\', \\'CHANGAMWE\\', \\'BUTULA\\', \\'NAIROBI KAYOLE\\',\\n       \\'KANGUNDO\\', \\'MARIAKANI \\', \\'TIMBOROA\\', \\'KIANJAI\\', \\'KALOLENI \\',\\n       \\'ISINYA\\', \\'IOWA CITY, IOWA\\', \\'Garsen \\', \\'MUKURWE-INI\\',\\n       \\'NAIROBI GPO\\', \\'MANYATTA\\', \\'SARE-OWENDO\\', \\'NANYUKI \\', \\'NDHIWA\\',\\n       \\'ELBURGON\\', \\'Orange\\', \\'MAKUENI\\', \\'kisumu \\', \\'MACHAKOS \\',\\n       \\'KABARNET \\', \"Murang\\'a \", \\'JUJA, KIAMBU\\', \\'Bungoma\\', \\'MAWEGO\\',\\n       \\'Bath\\', \\'ROYSAMBU\\', \\'Nanyuki\\', \\'SAGANA\\', \\'MACH \\', \\'Nyeri\\', \\'Ruaka\\',\\n       \\'KITUI \\', \\'KAJIADO \\', \\'NUNGUNI\\', \\'RONGAI \\', \\'KISII \\', \\'WANGIGE \\',\\n       \\'Makongeni Jogoo Rd\\', \\'nairobi \\', \\'Kikuyu \\', \\'Kisii\\', \\'MSAMBWENI\\',\\n       \\'BUJUMBURA\\', \\'GITHONGO\\', \\'KEROKA/KISII\\', \\'BURUBURU, NAIROBI\\',\\n       \\'MALAVA\\', \\'KIJABE\\', \\'Woolwich \\', \\'NDERE-SIAYA\\', \\'AHERO\\',\\n       \\'MUHORONI \\', \\'Nakuru \\', \\'kahuro\\', \\'Malakisi \\', \\'MUHORONI\\',\\n       \\'ISIOLO\\', \\'SYOKIMAU \\', \\'ONGATA RONGAI \\', \\'Maralal \\',\\n       \\'KIBIRICHIA, MERU\\', \\'GRANGER, INDIANA\\', \\'WESTLAND \\', \\'MUKURWEINI \\',\\n       \\'MASII\\', \\'NRB\\', \\'KWISERO\\', \\'ANKARA\\', \\'SHIMBA HILLS\\', \\'TAVETA\\',\\n       \\'WOTE, MAKUENI \\', \\'WANGURU\\', \\'KISSII\\', \\'BURUBURU NAIROBI \\',\\n       \\'KIRITIRI\\', \\'MESA ARIZONA\\', \\'KAJIADO TOWN\\', \\'KURIA\\',\\n       \\'NAIROBI WEST\\', \\'ENDARASHA\\', \\'KIPKAREN \\', \\'0\\', \\'GAMBOGI\\', \\'KOLA\\',\\n       \\'Marsabit\\', \\'WEBUYE\\', \\'GAKUNGU\\', \\'NAIROBJ\\',\\n       \\'NAIROBI ,KAMITI ROAD RICHLAND\\', \\'NKUBU \\', \\'MWATATE\\', \\'MALAKISI\\',\\n       \\'ITEN\\', \\'KATHIANI\\', \"MURANG\\'A\", \\'KAIRIA\\', \\'UPLANDS \\', \\'RONGO\\',\\n       \\'UHURU GARDEN\\', \\'KINANGOP\\', \\'BAHATI NAKURU \\', \\'MATILIKU\\', \\'meru\\',\\n       \\'Limuru\\', \\'MALAA\\', \\'TURBO\\', \\'MARIMA -MERU HIGHWAY \\', \\'OLJORO OROK\\',\\n       \\'homabay \\', \\'KIKIMA\\', \\'ADAMS ARCADE\\', \\'MUNICH\\', \\'MUMIAS \\',\\n       \\'KALIMONI \\', \\'CHWELE\\', \\'MARALAL\\', \\'NAMBALE\\', \\'NAIROBI COUNTY\\',\\n       \\'Narok \\', \\'TURBO \\', \\'KANGARI \\', \\'Pécs \\', \\'thika\\', \\'KATSE\\',\\n       \\'thika \\', \\'CHEBUNYO\\', \\'OL JORO OROK \\', \\'MOBIL PLAZA\\', \\'WAMUNYU \\',\\n       \\'MAGUNGA\\', \\'RORET\\', \\'YALA\\', \\'KAHUHIA\\', \"KENOL MURANG\\'A\",\\n       \\'Machakos\\', \\'UKWALA\\', \\'KALOLENI\\', \\'JOONDALUP\\', \\'MIGORI \\',\\n       \\'MARAGOLI\\', \\'MARMANET\\', \\'IKANGA\\', \\'KINOO\\', \\'OYUGIS \\', \\'LANGATA\\',\\n       \\'Kiambu\\', \\'Malindi\\', \\'NAIROBI.\\', \\'MAKUENI \\', \\'Bungoma \\',\\n       \\'GITHUNGURI \\', \\'MACHOKOS\\', \\'KOMBEWA \\', \\'UTHIRU \\', \\'KITENGELA \\',\\n       \\'BANANA\\', \\'CHEPKORIO\\', \\'MASII \\', \\'Gitugi\\', \\'. \\', \\'RUIRY\\', \\'Kisumu\\',\\n       \\'MBUMBUNI-MACHAKOS\\', \\'WAMUYU\\', \\'siaya\\', \\'Kakamega\\', \\'TAITA TAVETA\\',\\n       \\'Bumala\\', \\'KIMENDE \\', \\'BRISTOL\\', \\'MATUNDA\\', \\'KARABA\\', \\'SULTAN\\',\\n       \\'GATURA\\', \\'KASARANI ,NAIROBI \\', \\'NANDI\\', \\'MAGUTUNI\\', \\'CHUKA \\',\\n       \\'NGONG HILL\\', \\'ngong\\', \\'KIANGAI\\', \\'MBITA\\', \\'Mumias\\', \\'KAMBITI\\',\\n       \\'MUMBI\\', \\'Juja\\', \\'WODANGA\\', \\'KIRIANI\\', \\'KABARNET\\', \\'MISIKHU\\',\\n       \\'Thika\\', \\'NYANSIONGO\\', \\'nyeri \\', \\'NAIVASHA \\', \"MURANG\\'A \",\\n       \\'KAPCHENO\\', \\'NGARA\\', \\'MADARAKA\\', \\'kitengela \\', \\'BONDO \\', \\'WAMUNYU\\',\\n       \\'NYANDARUA\\', \\'MOGOGOSIEK\\', \\'00\\', \\'NAIROBI/JUJA\\', \\'NA \\', \\'LUANDA\\',\\n       \\'KLEMZIG\\', \\'TEL AVIV\\', \\'ongata rongai \\', \\'30-60101 Manyatta \\',\\n       \\'12410 Nyeri\\', \\'KATHONZWENI \\', \\'GITHURAI \\', \\'WESRN AUSTRALIA\\',\\n       \\'SABASABA \\', \\'Gilgil \\', \\'ISEBANIA\\', \\'KIRIAINI\\', \\'MUTHETHENI \\',\\n       \\'Mombasa \\', \\'Kitengela\\', \\'CARLIFONIA\\', \\'NIL\\',\\n       \\'NAIROBI, NAIROBI AREA, KENYA\\', \\'SOY\\', \\'Sabasaba\\', \\'SABASABA\\',\\n       \\'COLUMBIA\\', \\'Homa Bay \\', \\'MARIMA\\', \\'SEGA\\', \\'KAYOLE\\', \\'BUDD LAKE\\',\\n       \\'KITHYOKO\\', \\'KIJABE \\', \\'Mbale\\', \\'KITHIMANI\\', \\'HANOI\\', \\'chuka\\',\\n       \\'KILINDINI\\', \\'MERY\\', \\'CHELMSFORD\\', \\'LOITOKITOK\\', \\'MOSORIOT\\',\\n       \\'IKONGE\\', \\'ENGINEER\\', \\'Othaya\\', \\'Ahero\\', \\'MWEA\\', \\'JOSKA \\',\\n       \\'NGAMBWA\\', \\'MASINGA\\', \\'KINANGOP \\', \\'LONDON\\', \\'KILELESHWA \\',\\n       \\'SARIT CENTRE\\', \\'mgange \\', \\'ST. MARYS NSW\\', \\'GESIMA\\', \\'Migori \\',\\n       \\'KHWISERO\\', \\'SYOKIMAU\\', \\'MTITO ANDEI \\', \\'nakuru \\', \\'NAIROBI CITY\\',\\n       \\'ATHIRIVER\\', \\'KABATI\\', \\'Kitale\\', \\'MPEKETONI\\', \\'YOANI\\',\\n       \\'KABARTONJO\\', \\'NAMANGA\\', \\'CHESINENDE\\', \\'BAHATI\\', \\'NZEEKA\\',\\n       \\'MATATHIA, KAMAE\\', \\'RONALD NGALA \\', \\'KUBUKUBU\\', \\'THOGOTO\\',\\n       \\'GATORA\\', \\'NAI \\', \\'KUJA,KIAMBU\\', \\'Machakos \\', \\'AMAGORO\\', \\'Uthiru\\',\\n       \\'Naivasha\\', \\'KEROKA \\', \\'MAZERAS\\', \\'EGERTON\\', \\'KASARANI\\', \\'Kimende\\',\\n       \\'WAJIR\\', \\'DUBAI\\', \\'TWO RIVERS\\', \\'NDARAGWA \\', \\'EASTLEIGH\\', \\'KAGIO\\',\\n       \\'HOMA BAY\\', \\'KISII, KENYA\\', \\'Thika \\', \\'NGECHA\\', \\'Kakamega \\',\\n       \\'KERINGET\\', \\'FORT WAYNE\\', \\'STAREHE\\', \\'GILGIL \\', \\'KAWANGWARE\\',\\n       \\'GPO NAIROBI\\', \\'GITUGI\\', \\'Tala\\', \\'kakamega \\', \\'TEXAS\\', \\'GACHIE\\',\\n       \\'Syokimau\\', \\'Sydney \\', \\'LESSOS\\', \\'Meru \\', \\'KIPKAREN RIVER\\',\\n       \\'SOSIOT\\', \\'LAKEWOOD SEATTLE\\', \\'Lodwar\\', \\'Kitale \\', \\'Membley\\',\\n       \\'chepkorio\\', \\'Luanda\\', \\'Kijabe \\', \\'TONGAREN\\', \\'karuri \\', \\'malindi\\',\\n       \\'Ogembo \\', \\'Maryland\\', \\'Kisii Town \\', \\'kajiado \\', \\'LIKONI\\',\\n       \\'wangige \\', \\'Ngong\\', \\'OLKALOU \\', \\'4597-20100 Nakuru\\', \\'GARISSA\\',\\n       \\'KIRIAINI \\', \\'SYOKIMAU L\\', \\'Machakos, Kathiani\\', \\'Kitui\\',\\n       \\'AUSTRALIA\\', \\'Bondo\\', \\'Salama \\', \\'bomet \\', \\'Naivasha \\',\\n       \\'TOORMINA, NSW\\', \\'Utawala\\', \\'Ankara\\', \\'MOISBRIDGE\\', \\'nbo\\',\\n       \\'Kijabe\\', \\'KABAZI\\', \\'P.O BOX 75-30105 SOY\\', \\'kisumu\\', \\'nyeri\\',\\n       \\'Voi\\', \\'Kanjuku\\', \"NG\\'IYA\", \\'Muranga\\', \\'Bournemouth \\',\\n       \\'SARE-AWENDO\\', \\'narok\\', \\'Ruiru \\', \\'Kilifi \\', \\'Meru\\',\\n       \\'Ol-joro-orok\\', \\'152 30100 eldoret \\', \\'Mtwapa\\', \\'Karuri\\',\\n       \\'Kitengela \\', \\'Isiolo \\', \\'38061-00623 Nairobi\\', \\'Ngong Hills\\',\\n       \\'RARIEDA\\', \\' Nairobi County,\\', \\'187 Ngewa\\', \\'NJAMBINI\\',\\n       \\'25635 00603 Nairobi\\', \\'GIKOE\\', \\'kakamega\\', \\'ISHIARA \\',\\n       \\'P. O. Box 111 Ruiru\\', \\'Kibwezi\\', \\'Syokimau \\', \\'kiambu \\', \\'Bomet \\',\\n       \\'Busia\\', \\'Gilgil\\', \\'LAMU\\', \\'Kajiado \\', \\'makueni \\', \\'kisii\\',\\n       \\'MERU 2274\\', \\'TURKANA\\', \\'Kilifi\\', \\'nottingham\\', \\'Embakasi\\',\\n       \\'Masii - MACHAKOS\\', \\'SEREM\\', \\'Tala, Kangundo. \\', \\'Ugunja\\',\\n       \\'Karatina\\', \\'Migori\\', \\'Berlin\\', \\'KALAMBA\\', \\'UKUNDA \\', \\'ruiru\\',\\n       \\'Sondu\\', \\'BUSIA - PORT VICTORIA \\', \\'Matuu.\\', \\'Gatundu\\',\\n       \\'Seasons Kasarani. \\', \\'KARUNGU\\', \\'Kahawa Sukari\\', \\'Kangundo \\',\\n       \\'mombasa \\', \\'St. Georges\\', \\'maseno\\', \\'KINDARUMA \\',\\n       \\'kakuma 1 Nuer community \\', \\'copenhagen\\', \\'549 LIMURU\\', \\'Lamu\\',\\n       \\'DRESDEN\\', \\'Ol Kalou \\', \\'KIRIA-INI \\', \\'123 KIKUYU\\', \\'Kianyaga\\',\\n       \\'Kasarani\\', \\'Makueni \\', \\'KABETE\\', \\'Sagana\\',\\n       \\'Imani avenue, Ongata Rongai, Kajiado\\', \\'LOS ANGELES\\', \\'KAKUMA\\',\\n       \\'kitengela\\', \\'56-10300 Kerugoya\\', \\'Kalimoni P.o Box 178-01001\\',\\n       \\'Nairobi, Komarock.\\', \\'kilifi\\', \\'NAIROBI, KITENGELA \\',\\n       \\'14 Lamina Avenue, Mill Park VIC 3082\\', \\'kebirigo \\', \\'Darwin \\',\\n       \\'Kericho \\', \\'Nairibi\\', \\'782 - 00232 Ruiru\\', \\'eldoret\\', \\'Oyugis\\',\\n       \\'Conroe\\', \\'NAIROBI 572 00300\\', \\'Eldama Ravine\\', \\'Kabete \\', \\'Maua\\',\\n       \\'Isiolo\\', \\'828-90200\\', \\'Athens\\', \\'Chicago \\', \\'Hola\\', \\'Abu Dhabi \\',\\n       \\'Nyayo Estate, Court 521\\', \\'Deanside\\', \\'452-00200, KIAMBU\\',\\n       \\'KOBENHAUN\\', \\'karuri\\', \\'Nanyuki \\', \\'P.O. Box 2413-60200, Meru\\',\\n       \\'Kenol\\', \\'Wote\\', \\'githunguri \\', \\'NAIROBI. 45095-00100\\', \\'Serem\\',\\n       \\'P.o.box 1298-00618 Ruaraka, Nairobi\\', \\'Vienna \\', \\'karen\\',\\n       \\'CHICAGO\\', \\'GENEVA\\', \\'Kiserian \\', \\'Kabarnet\\', \\'RABAI\\',\\n       \\'KIAMBU COUNTY\\', \\'Uthiru Cooperation \\', \\'Githunguri \\',\\n       \\'79718-00200 NAIROBI\\', \\'stockholm\\', \\'42 NDARAGWA\\',\\n       \\'P.O. Box 103635-00101\\', \\'Heuchlingen \\', \\'PORT VICTORIA\\',\\n       \\'Doolandella, Australia\\', \\'Grand Oyster Kileleshwa, Nairobi\\',\\n       \\'10572-00200 NAIROBI\\', \\'Wangige \\', \\'Siaya\\', \\'Litein\\', \\'Washington\\',\\n       \\'Geneva\\', \\'Winchester \\', \\'Mariashoni\\', \\'Mwiki\\', \\'Limuru \\',\\n       \\'Nairobi i\\', \\'P O Box 898-00100 NAIROBI\\', \\'KAWNGWARE NAIROBI \\',\\n       \\'rongai\\', \\'Roysambu\\', \\'NAIROBI UMOJA\\', \\'kangema\\',\\n       \\'P.O.Box 848-00208 NGONG\\', \\'Braunschweig \\', \\'Wote MAKUENI\\',\\n       \\'814_3 300 KAPSABET \\', \\'Box 2316 Machakos\\', \\'Ruaraka\\', \\'Nyahururu\\',\\n       \\'Kenmore \\', \\'Melbourne \\', \\'1711 Nyahururu\\', \\'nanyuki\\',\\n       \\'kawangware \\', \\'Narok\\', \\'Githunguri\\', \\'Mahindi \\', \\'Moncton\\',\\n       \\'kERUGOYA\\', \\'Homa Bay\\', \\'Ukunda\\', \\'Mukurweini \\', \\'Malindi \\',\\n       \\'narumoru\\', \\'Juba\\', \\'01000-214 Thika\\', \\'kabete \\', \\'Kajiado\\',\\n       \\'NAROK \\', \\'Kapenguria \\', \\'Athi-river \\', \"murang\\'a \", \\'Gem\\',\\n       \\'nyahururu \\', \\'Gachie \\', \\'Kirinyaga\\', \\' Nairobi \\', \\'CALIFORNIA\\',\\n       \\'Bomet\\', \\'molo\\', \\'Chuka\\', \\'Nairobi, Kenya.\\', \\'ANTONY\\',\\n       \\'wite-makueni\\', \\'ugunja\\', \\'Matunda \\', \\'KARORI\\', \\'kikuyu \\',\\n       \\'Shinyalu \\', \\'Molo\\', \\'KIPKAREN\\', \\'KANGUNDO \\', \\'LUTON\\', \\'FLORIDA\\',\\n       \\'NGEWA\\', \\'SUSWA\\', \\'USA\\', \"KENOL MURANG\\'A \", \\'PUYALLUP WA USA\\',\\n       \\'LAARE\\', \\'P.O Box 30231 - 00100, Nairobi\\', \\'Runyenjes\\',\\n       \\'KENDUBAY \\', \\'Gigiri, Nairobi\\', \\'GATUKUYU\\', \\'BUNYALA\\', \\'OKIA\\',\\n       \\'3704 GPO NAIROBI \\', \\'RANGWE\\', \\'KITUI KENYA\\', \\'SAUDI ARABIA\\',\\n       \\'JUJA KALIMONI\\', \\'MSA\\', \\'GAKUNYU\\', \\'MIHARATI\\', \\'KERUGOYA TOWN\\',\\n       \\'RAGENGNI\\', \\'mwingi \\', \\'NBI\\', \\'IGOJI\\', \\'KIMULOT\\', \\'LONDIANI\\',\\n       \\'CAMBRIDGE\\', \\'KHAYEGA\\', \\'NDUNYU NJERU \\', \\'58-10205 Maragua\\',\\n       \\'MALINDI \\', \\'Kasarani, Clay City\\', \\'ATHI RIVER \\', \\'Sawagongo \\',\\n       \\'HELSINKI\\', \\'GPO\\', \\'BURNTFOREST\\', \\'MATUNDA \\', \\'HARRISDALE\\',\\n       \\'KARANDI\\', \\'DUKHAN \\', \\'SONDU\\', \\'EMBU, KENYA\\', \\'NAIROBI KENYA\\',\\n       \\'NANDI HILLS \\', \\'HAZELWOOD\\', \\'MGANGE\\', \\'LUCYSUMMER-NAIROBI\\',\\n       \\'KUKUYU\\', \\'NGONG ROAD\\', \\'NYAYO STADIUM\\', \\'Karen\\', \\'makuyu\\',\\n       \\'LOITIKITOK\\', \\'Kenyenya\\', \\'MUNICH \\', \\'tawa\\', \\'FUNYULA\\',\\n       \\'NOTTIGHAM\\', \\'nanyuki \\', \\'Kenny Bay\\', \\'MOMBSA\\', \\'SHERWOOD\\',\\n       \\'NDARAGWA\\', \\'ongata rongai\\', \\'BUMALA\\', \\'MEITINGEN \\', \\'80100\\',\\n       \\'KOMBEWA\\', \\'DOYSELDOR\\', \\'NOTTINGHAM\\', \\'VIENNA\\', \\'KISERIAN KAJIADO\\',\\n       \\'NAIROBI, KENYA\\', \\'Mtwapa \\', \\'KEUMBU\\', \\'Kerugoya Town\\', \\'KAP \\',\\n       \\'UPPER HILL NAIROBI\\', \\'MOI;S BRIDGE\\', \\'ENTERPRISE  ROAD\\',\\n       \\'THIONGO-NAIROBI\\', \\'KATHONZWENI\\', \\'UTAWALA\\', \\'MIU ATHI-RIVER\\',\\n       \\'CHAMAKANGA\\', \\'NYAMACHE\\', \\'NUERI\\', \\'SULTAN HAMUD\\', \\'NAROMORU \\',\\n       \\'NYAMIRA \\', \\'NAIROBI BURU\\', \\'HAMBURG\\', \\'TOWN \\', \\'14 KADONGO 40223\\',\\n       \\'Mois Bridge \\', \\'RUNYENJES \\', \\'MARAGWA\\', \\'SURPRISE,USA\\',\\n       \\'KALAMBA \\', \\'Ruai\\', \\'KADONGO\\', \\'TORONGO\\', \\'NJABINI\\',\\n       \\'GIGIRI, VILLAGE MARKET, NAIROBI\\', \\'LAVINGTON\\', \\'SPRING VALLEY\\',\\n       \\'MBUMBUNI\\', \\'NAIROBI MUNICIPALITY\\', \\'NAIROBI,KENYA\\',\\n       \\'Bamburi Mtambo \\', \\'GITHURAI\\', \\'RUMURUTI\\',\\n       \\'Kenyatta Highway, Nanyuki\\', \\'MUTOMO\\', \\'KENYATTA HOSPITAL\\',\\n       \\'NAIROBI GENERAL POST OFFICE\\', \\'LITIEN\\', \\'LONDIANI \\',\\n       \\'ONGATA RONGAI NAIROBI\\', \\'GATUNDU \\', \\'GAMBONI\\', \\'NAIROB\\',\\n       \\'L.KABETE\\', \\'ATHI - RIVER\\', \\'kerugoya \\', \\'Webuye \\', \\'Maralal\\',\\n       \\'Andover\\', \\'mombas\\', \\'Kiambu 627-00900\\', \\'Maragua\\',\\n       \\'murang*a 10200-658\\', \\'Syracuse\\', \\'Karen Nairobi \\',\\n       \\'ontario, California 91764 \\', \\'Karlsruhe \\', \\'Nyamira \\', \\'Olkalau\\',\\n       \\'GILGIL, KENYA\\', \\'Kerugoya \\',\\n       \\'14 AV FERNAND FENZY92160  ANTONY FRANCE\\'], dtype=object)'}, 'execution_count': 9, 'metadata': {}, 'output_type': 'execute_result'}], 'source': \"#checking the unique values from the town column\\ndf['town'].unique()\"}, {'cell_type': 'code', 'execution_count': 10, 'metadata': {}, 'outputs': [{'data': {'text/plain': 'array([\\'Partner\\', \\'Sister\\', \\'Husband \\', \\'Husband\\', \\'Daughter\\', \\'Brother \\',\\n       \\'Son\\', \\'Daughter \\', \\'Wife\\', \\'Father\\', \\'Mother\\', \\'Brother\\', \\'son\\',\\n       \\'mother\\', \\'father\\', \\'Mother \\', \\'SPOUSE\\', \\'FRIEND\\', \\'Spouse \\',\\n       \\'WIfe\\', \\'Father \\', \\'Spouse\\', \\'child\\', nan, \\'Parent\\', \\'wife\\',\\n       \\'Wife \\', \\'Son \\', \\'spouse\\', \\'doughter\\', \\'CHILD\\', \\'ParentChild\\',\\n       \\'partner\\', \\'brother\\', \\'sister\\', \\'MotheR\\', \\'Friend\\', \\'Child\\',\\n       \\'Cousin\\', \\'Dad\\', \\'Mum\\', \\'MOTHER\\', \\'WIFE\\', \\'Sister \\', \\'SON\\',\\n       \\'BROTHER\\', \\'FATHER\\', \\'aunt \\', \\'Grandmother\\', \\'HUSBAND\\', \\'self\\',\\n       \\'husband\\', \\'husband \\', \\'Owner\\', \\' Grand daughter\\', \\'Nephew\\',\\n       \\'SP0USE\\', \\'Self\\', \\'parent\\', \\'SISTER\\', \\'NIECE\\', \\'Niece\\', \\'daughter\\',\\n       \\'Sibling\\', \\'DAUGHTER\\', \\'AUNT\\', \\'brother \\', \\'254701361835\\',\\n       \\'Parent \\', \\'daughter \\', \\'FAITHER\\', \\'Family \\', \\'SPOUSE \\',\\n       \\'Sibling \\', \\'PARENT\\', \\'CONFIDANT\\', \\'MUM\\', \\'DAD\\', \\'wife \\', \\'family\\',\\n       \\'Trustee \\', \\'son \\', \\'mother \\', \\'MOTHER \\', \\'friend\\', \\'spouse \\',\\n       \\'S0N\\', \\'SISTER \\', \\'FATHER \\', \\'father \\', \\'FAMILY \\', \\'WifE\\',\\n       \\'Partner \\', \\'daugther\\', \\'1226805243;130143346\\', \\'relative\\',\\n       \\'BROTHER \\', \\'Daighter\\', \\'Advisor\\', \\'SON \\', \\'AUNTIE\\', \\'FIANCEE\\',\\n       \\'Fiancee\\', \\'DOUGHTER\\', \\'parent \\', \\'HUSBAND \\', \\'DAUGHTER \\', \\'SELF\\',\\n       \\'MOther\\', \\'mOTHER\\', \\'Aunt\\', \\'Grandparent\\', \\'Bother \\', \\'SO\\',\\n       \\'married\\', \\'MARRIED\\', \\'FIANCE\\', \\'Doughter \\', \\'Guardian \\',\\n       \\'ASS0CIATE\\', \\'sibling\\', \\'fiance\\', \\'Sistet\\', \\'Grandson\\', \\'Doughter\\',\\n       \\'DAUGTHER\\', \\'wIFE\\', \\'Bro\\', \\'PARTNER\\', \\'B INLAW\\', \\'GUARDIAN\\',\\n       \\'daughte\\', \\'Mom\\', \\'COUSIN\\', \\'GRANDMA\\', \\'aunt\\', \\'Domestic Partner\\',\\n       \\'PATNER\\', \\'me\\', \\'MENTOR\\', \\'UNCLE\\', \\'Sis\\', \\'SiBLING\\', \\'GRAND SON\\',\\n       \\'Fiance \\', \\'KID\\', \\'SIBLING\\', \\'GRANDSON\\', \\'Nephew \\', \\'-\\', \\'Cousin \\',\\n       \\'DAUGHETR\\', \\'Person\\', \\'s0n\\', \\'na\\', \\'myson\\', \\'PARTNER \\', \\'Bishop\\',\\n       \\'nephew\\', \\'mwas\\', \\'Mothers\\', \\'Friend \\', \\'Child \\', \\'daughter33\\',\\n       \\'CLOSE FRIEND\\', \\'hUSBAND\\', \\'CLOSEFRIEND\\', \\'Boyfriend \\',\\n       \\'dependant\\', \\'WIFE \\', \\'MARRIAGE\\', \\'GRAND DAUGHTER\\', \\'DAUGHER\\',\\n       \\'Niece \\', \\'granddaughter\\', \\'grandson\\', \\'DAUGHTER/CHILD\\',\\n       \\'RELATIVE\\', \\'mum\\', \\'single\\', \\'Self \\', \\'sister \\', \\'Mother TO SON\\',\\n       \\'Grandfather\\', \\'DAD \\', \\'Relative\\', \\'Daughter-in-law \\',\\n       \\'GRANDMOTHER\\', \\'child \\', \\'15\\', \\'DaD\\', \\'GIRLFRIEND\\', \\'FAMILY\\',\\n       \\'Uncle \\', \\'SiNGLE\\', \\'SINGLE\\', \\'fiancee\\', \\'FaMILY\\', \\'BENEFICIARY\\',\\n       \\'OWNER\\', \\'Relative \\', \\'GRANDDAUGHTER\\', \\' Spouse\\', \\'uncle\\',\\n       \\'Married \\', \\'chil\\', \\'CHILD MINOR\\', \\'33\\', \\'NEPHEW\\', \\'JOINT PARTNER\\',\\n       \\'MOTHERS \\', \\'Fiancé \\', \\'Others \\', \\'Grand daughter\\',\\n       \\'DAUGHTER-IN-LAW\\', \\'Na\\', \\'CHILD \\', \\'SPIRITUAL FATHER\\', \\'COUSN\\',\\n       \\'DEPEDANT\\', \\'Estate\\', \\'Uncle\\', \\'sISTER\\', \\'sisiter\\', \\' BROTHER\\',\\n       \\'Granddaughter \\', \\'BRother\\', \\'Aunt \\', \\'cousin\\', \\'Baby\\', \\'Morher\\',\\n       \\'MOM\\', \\'God mother\\', \\'GRANDSON \\', \\'Husband/spouse\\', \\'SPOUCE\\',\\n       \\'uncle \\', \\'FRIEND \\', \\'Single\\', \\'Vhild\\', \\'Patner\\', \\'Spouce\\',\\n       \\'Family\\', \\'SoN\\', \\'SisteR\\', \\'AUNTY\\', \\'FATHER-IN-LAW\\', \\'SonS\\', \\'0\\',\\n       \\'MO9\\', \\'Fiance\\', \\'33.4\\', \\'CHILF\\', \\'254727756559\\', \\'0720401466\\',\\n       \\'GRAND FATHER\\', \\'PRINCIPAL\\', \\'Guardian\\', \\'JUNIOR\\',\\n       \\'DGRAND DAUGHTER\\', \\'COWORKER\\', \\'GRAND MOTHER\\', \\'D100\\', \\'NMO\\',\\n       \\'BUSINESS PARTNER\\', \\'GURDIAN\\', \\'2021\\', \\'MotH\\', \\'MoM\\', \\'UN,CLE\\',\\n       \\'GRAND CHILD\\', \\'Sister in law\\', \\'Grand Daughter\\', \\'COMAPANION\\',\\n       \\'BOYFRIEND\\', \\'EX-WIFE\\', \\'GRANDDAUGTER\\', \\'PARNT\\', \\'M\\', \\'F\\', \\'Chils\\',\\n       \\';SON\\', \\'GUARDINA\\', \\'NiecE\\', \\'Brother-IN-LAW\\', \\'Member\\',\\n       \\'Grand mother\\', \\'ADMINISTRATOR\\', \\'VM\\', \\'GRANDFATHER\\', \\'GIRLFRIED\\',\\n       \\'Brestfriend\\', \\'Finance\\', \\'SIS\\', \\'Daughter in law\\', \\'children\\',\\n       \\'Girlfriend\\', \\'COLLEAGUE\\', \\'TRUSTEE\\', \\'254708368426\\', \\'Colleague\\',\\n       \\'Sister-IN-LAW\\', \\'GRAND-DAUGHTER\\', \\'GRANNY\\', \\'GRANDCHILD\\', \"\\'M\",\\n       \\'spouce\\', \\'SiLBLING\\', \\'Siblings\\', \\'Step-mother\\', \\'Aunty\\', \\'FREINF\\',\\n       \\'50\\', \\'100\\', \\'254723993458\\', \\'Cousins\\', \\'Cousins \\', \\'ASSOCIATE\\',\\n       \\'Fiane\\', \\'guardian\\', \\'Guadian\\', \\'Confidant\\', \\'Auntie\\', \\'GRANDPA\\',\\n       \\'mom\\', \\'Brother in Law\\', \\'BUSINESS PARTNER \\', \\'Spuose\\',\\n       \\'Business Partner\\', \\'Dating\\', \\'IN LAW\\', \\'STEP-MOM\\', \\'Son/Brother\\',\\n       \\'Chid\\', \\'Granddaughter\\', \\'niece\\', \\'Son/SISTER\\', \\'Grand Son\\',\\n       \\'BrotheR\\', \"Nolan\\'s Guardian\", \"Xena\\'s Guardian\", \\'Sister-in law\\',\\n       \\'PARENTS\\', \\'c/o\\', \\'STEP MOTHER\\', \\'NiCE\\', \\'Ciru\\', \\'DEPENDANT\\',\\n       \\'som\\', \\'GUARDIAN \\', \\'Dau`\\', \\'Kid\\', \\'PARENT \\', \\'CHILDREN\\',\\n       \\'partner \\', \\'CLOUSIN\\', \\'19112004\\', \\'twinsister\\', \\'MINOR\\',\\n       \\'Sister- Custodian\\', \\'GRANSON\\', \\'COMPANION\\', \\'ENGAGED\\',\\n       \\'WELL WISHER\\', \\'PARNER\\', \\'GRANCHILD\\', \\'Trustee\\', \\'Next of kin\\',\\n       \\'SIIBLING\\', \\'SIBLINGS\\', \\'Foster daughter\\', \\'ADMINSTRATOR\\',\\n       \\'IN-LAW\\', \\'Boyfriend\\', \\'NepheW\\', \\'EMPLOYEE\\', \\'DIRECTORS\\',\\n       \\'RELIGIOUS COMMUNITY\\', \\'CUSTODIAN\\', \\'C/O ARIANNA\\', \\'Sister IN LAW\\',\\n       \\'spose\\', \\'SPAUSE\\', \\'MEMBER\\', \\'DomesticPartner\\', \\'Grand-daughter\\',\\n       \\'Brother-in-law\\', \\'STEP-BROTHER\\', \\'Mother to Evan\\', \\'Sister-Inlaw\\',\\n       \\'BUS. PARTNER\\', \\'Sister(Guardian)\\', \\'CONTACT PERSON\\', \\'FatheR\\',\\n       \\'Brother in law\\', \\'Parwnt\\', \\'M,\\', \\'Sister-GUARDIAN\\', \\'Grand Child\\',\\n       \\'GODMOTHER\\', \\'Sister-Guardian\\', \\'Mother- Guardian\\', \\'Grandchild\\',\\n       \\'Grand son\\', \\'CHLD\\', \\'GRAND.DAUGHTER\\', \\'GRAND-MOTHER\\', \\'Parents\\',\\n       \\'EX WIFE\\', \\'Sister - Guardian\\', \\'Step-Mother\\', \\'FOSTER DAUGHTER\\',\\n       \\'Grand-mother\\', \\'God Mother\\', \\'Mother-in-law\\', \\'MEMBER \\',\\n       \\'B/S PARTNER\\', \\'LAWYER\\', \\'GRAND-SON\\', \\'parents\\', \\'Stepson\\',\\n       \\'Contingent\\', \\'grandmother\\', \\'G/Daughter\\', \\'Brother and sister\\',\\n       \\'Sibbling\\', \\' \\', \\'COUSIN \\', \\'DaughteR\\', \\'SPUOSE\\', \\'CHIILD\\',\\n       \\'DSPOUSE\\', \\'Executor\\', \\'HU\\', \\'EWIFE\\', \\'SPOUDSE\\', \\'SoPOUSE\\',\\n       \\'grandchild\\', \\'ChILD\\', \\'9266025\\', \\'PARE NT\\', \\'254700442162\\',\\n       \\'BEST FRIEND\\', \\'SISTER IN LAW \\', \\'mather\\', \\'SAVING PARTNER \\',\\n       \\'AUNTIE \\', \\'ParenChild\\', \\'GIRLFRIEND \\', \\'SINGLE \\', \\'Parentchild\\',\\n       \\'parentchild\\', \\'SPOUSE20\\', \\'Myself\\', \\'FIACEE\\', \\'SD\\',\\n       \\'Grand mother \\', \\'Mother of child\\', \\'Childnephew\\', \\'FATH \\',\\n       \\'MY SON\\', \\'BabyMother\\', \\'CHID\\', \\'GIRL FRIEND\\', \\'chils\\', \\'self \\',\\n       \"Mother\\'s \", \\'Mum \\', \\'aunty\\', \\'SPouse\\', \\'Auntie \\', \\'ChiLD\\',\\n       \\'grandmother \\', \\'Grand daughter \\', \\'auntie\\', \\'baby mama \\', \\'DA\\',\\n       \\'BrOther\\', \\'Fiancee \\', \\'In law\\', \\'Colleague \\', \\'WiFE\\', \\'owner\\',\\n       \\'sON\\', \\'Mather\\', \\'Dauhgter\\', \\'myself\\', \\'Hubby\\', \\'Sister in-law\\',\\n       \\'Aunty \\', \\'Foster parent\\', \\'grandson \\', \\'Wife/Guardian\\',\\n       \\'21761402\\', \\'GUARDIAN-MOTHER\\'], dtype=object)'}, 'execution_count': 10, 'metadata': {}, 'output_type': 'execute_result'}], 'source': \"#checking the unique values from the relationship column\\ndf['relationship'].unique()\"}, {'cell_type': 'code', 'execution_count': 11, 'metadata': {}, 'outputs': [{'data': {'text/plain': \"array(['Single Member'], dtype=object)\"}, 'execution_count': 11, 'metadata': {}, 'output_type': 'execute_result'}], 'source': \"#checking the unique values from the hse_no column\\ndf['hse_no'].unique()\"}, {'cell_type': 'code', 'execution_count': 12, 'metadata': {}, 'outputs': [{'data': {'text/plain': \"array(['Money Market', 'Dollar Fund', 'Wealth Fund', 'Equity Fund',\\n       'Fixed Income', 'Balanced Fund', 'MoneyMarket', nan], dtype=object)\"}, 'execution_count': 12, 'metadata': {}, 'output_type': 'execute_result'}], 'source': \"#checking the unique values from the portfolio column\\ndf['portfolio'].unique()\"}, {'cell_type': 'code', 'execution_count': 13, 'metadata': {}, 'outputs': [{'data': {'text/plain': 'array([\\'NAIROBI\\', nan, \\'NAIROBI \\', \\'THIKA\\', \\'NAKURU\\', \\'MOMBASA \\',\\n       \\'NDANAI \\', \\'KISUMU\\', \\'KIKUYU\\', \\'JUJA\\', \\'MACHAKOS\\', \\'MERU\\',\\n       \\'KERICHO\\', \\'MUKURWEINI\\', \\'KATANGI\\', \\'THIKA,KIAMBU\\', \\'NANYUKI\\',\\n       \\'RUAI \\', \\'MALINDI\\', \\'NYAHURURU\\', \\'MUMIAS\\', \\'KAKAMEGA\\', \\'LODWAR\\',\\n       \\'Nairobi \\', \\'KITENGELA\\', \\'LIMURU\\', \\'THIKA \\', \\'MIGORI\\', \\'ELDORET\\',\\n       \\'KITUI\\', \\'RUARAKA\\', \\'Ruiru\\', \\'NJORO\\', \\'EMBU\\', \\'SORI\\', \\'NGONG\\',\\n       \\'MASENO\\', \\'GATUNDU\\', \\'KAHURO\\', \\'KILIFI\\', \\'RUIRU\\', \\'KERUGOYA\\',\\n       \\'KARATINA\\', \\'KITALE \\', \\'MOMBASA\\', \\'BUNGOMA\\', \\'KISII\\', \\'-\\',\\n       \\'Nairobi\\', \\'KINAMBA\\', \\'SIAYA\\', \\'KERICHO \\', \\'KIAMBU\\', \\'KITALE\\',\\n       \\'BUSIA\\', \\'RUNYENJES\\', \\'VILLAGE MARKET\\', \\'Kapsabet\\', \\'KAGWE\\',\\n       \\'NANDI HILLS\\', \\'KUTUS\\', \\'DAGORETTI\\', \\'LITEIN\\', \\'KAJIADO\\', \\'CHUKA\\',\\n       \\'NYERI\\', \\'NAIROBI, NAIROBI\\', \\'Kisumu \\', \\'KANJUKU\\', \\'EMALI\\',\\n       \\'GILGIL\\', \\'Kiambu \\', \\'KANGEMA\\', \\'TIRIKI\\', \\'KARATINA \\', \\'OTHAYA\\',\\n       \\'KARURI ,KIAMBU\\', \\'MURANGA \\', \\'Mombasa\\', \\'GATUKUYU \\', \\'MLOLONGO\\',\\n       \\'UTAWALA \\', \\'KAPENGURIA\\', \\'KAPSABET\\', \\'SUNA\\', \\'BOMET\\', \\'KENOL \\',\\n       \\'NYERI \\', \\'BUNGOMA \\', \\'NDANAI\\', \\'KALIMONI\\', \\'KIGANJO\\',\\n       \\'KAPSOKWONY\\', \\'Nakuru\\', \\'KIAMBU \\', \\'nairobi\\', \\'CHOGORIA\\',\\n       \\'GITHUNGURI\\', \\'YOANI,SALAMA\\', \\'LIMURU \\', \\'NAIROBI, KENYA.\\',\\n       \\'UKUNDA\\', \\'MATUU\\', \\'embu\\', \\'NYALI\\', \\'nakuru\\', \\'MBALE\\', \\'EMUHAYA\\',\\n       \\'TELFORD\\', \\'NAIVASHA\\', \\'KAREN\\', \\'KILIFI \\', \\'HOLA\\', \\'MAKINDU\\',\\n       \\'WOTE\\', \\'DIANI\\', \\'O\\', \\'OLKALAU\\', \\'KAREN \\', \\'UPLANDS\\', \\'WANGÚRU\\',\\n       \\'KABIYET\\', \\'KAKAMEGA \\', \\'SOTIK\\', \\'NGONG \\', \\'CITY SQUARE\\', \\'NKUBU\\',\\n       \\'KANGARI\\', \\'NGONG HILLS \\', \\'NYAHURURU \\', \\'KARURI \\', \\'UTHIRU\\',\\n       \\'MARIMANTI\\', \\'MANCHESTER\\', \\'Kikuyu\\', \\'.\\', \\'NAIRO \\', \\'kiambu\\',\\n       \\'VOI\\', \\'EMBAKASI\\', \\'MOLO\\', \\'Siaya \\', \\'NGIYA\\', \\'OLKALOU\\',\\n       \\'KANYAGIA\\', \\'WANJOHI\\', \\'kabete\\', \\'Wamunyu\\', \\'MARIAKANI\\',\\n       \\'KISERIAN\\', \\'ARTHI RIVER \\', \\'SUBUKIA\\', \\'KILGORIS\\', \\'KIMININI\\',\\n       \\'LAGOS\\', \\'SARE\\', \\'ATHI RIVER\\', \\'ngong hills \\', \\'WERUGHA\\',\\n       \\'NAIROBIP\\', \\'MASINFA\\', \\'kikuyu\\', \\'OL JORO OROK\\', \\'MAUA\\',\\n       \\'GIKUE MURANGA\\', \\'KIMENDE\\', \\'KIMILILI\\', \\'KISUMU \\', \\'VIHIGA\\',\\n       \\' NAIROBI \\', \\'BURUBURU\\', \\'MATATHIA\\', \\'RUAKA\\', \\'UGUNJA\\', \\'LONGISA\\',\\n       \\'ELDORATE \\', \\'KAPKATET\\', \\'WINNIPEG\\', \\'PIPELINE \\', \\'KAHAWA WEST \\',\\n       \\'KANDARA\\', \\'Kimilili \\', \\'MTWAPA \\', \\'MARAGUA\\', \\'BANANA \\', \\'NYAMIRA\\',\\n       \\'AUBURN\\', \\'KARURI\\', \\'MTWAPA\\', \\'ONGATA RONGAI\\', \\'ELDORET \\',\\n       \\'HOMABAY\\', \\'WANGIGE\\', \\'KENDUBAY\\', \\'KIBWEZI\\', \\'RONGAI\\', \\'RUIRU \\',\\n       \\'NORTH KINANGOP\\', \\'MAKUYU\\', \\'Nyeri \\', \\'Eldoret \\', \\'BOUTIGNY\\',\\n       \\'00506\\', \\'MWINGI\\', \\'00100\\', \\'KERUGOYA \\', \\'TALA\\', \\'OLENGURUONE\\',\\n       \\'MAVINDINI\\', \\'UHURU GARDENS\\', \\'KIKUYU \\', \\'Ongata Rongai\\',\\n       \\'SOUTH KINANGOP\\', \\'ELDAMA RAVINE\\', \\'MITUNGURU\\', \\'TOM MBOYA\\',\\n       \\'NAKURU \\', \\'MITABONI\\', \\'NAROMORU\\', \\'MURANGA\\', \\'OLJOROROK\\',\\n       \\'BUTERE\\', \\'OYUGIS\\', \\'SILIBWET\\', \\'EMBU \\', \\'Doha\\', \\'Eldoret\\',\\n       \\'KANGEMI\\', \\'NYERI-KIGUMO\\', \\'KISERIAN \\', \\'Athi River\\', \\'KENOL\\',\\n       \\'OL KALOU\\', \\'WESTLANDS\\', \\'Nyahururu \\', \\'ENDARASHA \\', \\'GPO/NAIROBI\\',\\n       \\'DAGORETI\\', \\'OGEMBO \\', \\'mombasa\\', \\'RUAI\\', \\'DONYO SABUK\\', \\'KEROKA\\',\\n       \\'LOWER KABETE\\', \\'MWEIGA\\', \\'Naitobi\\', \\'TOKYO\\', \\'Embu\\', \\'KIRINYAGA\\',\\n       \\'KIANYAGA\\', \\'SIAYA \\', \\'ADLISWIL\\', \\'BURU BURU\\', \\'MERU \\', \\'NYAKIO\\',\\n       \\'KWALE\\', \\'AMUKURA\\', \\'NAROK\\', \\'KOBUJOI\\', \"WANG\\'URU\", \\'BONDO\\',\\n       \\'Kericho\\', \\'KIKIMA \\', \\'CHANGAMWE\\', \\'BUTULA\\', \\'NAIROBI KAYOLE\\',\\n       \\'KANGUNDO\\', \\'MARIAKANI \\', \\'TIMBOROA\\', \\'KIANJAI\\', \\'KALOLENI \\',\\n       \\'ISINYA\\', \\'IOWA CITY, IOWA\\', \\'Garsen \\', \\'MUKURWE-INI\\',\\n       \\'NAIROBI GPO\\', \\'MANYATTA\\', \\'SARE-OWENDO\\', \\'NANYUKI \\', \\'NDHIWA\\',\\n       \\'ELBURGON\\', \\'Orange\\', \\'MAKUENI\\', \\'kisumu \\', \\'MACHAKOS \\',\\n       \\'KABARNET \\', \"Murang\\'a \", \\'JUJA, KIAMBU\\', \\'Bungoma\\', \\'MAWEGO\\',\\n       \\'Bath\\', \\'ROYSAMBU\\', \\'Nanyuki\\', \\'SAGANA\\', \\'MACH \\', \\'Nyeri\\', \\'Ruaka\\',\\n       \\'KITUI \\', \\'KAJIADO \\', \\'NUNGUNI\\', \\'RONGAI \\', \\'KISII \\', \\'WANGIGE \\',\\n       \\'Makongeni Jogoo Rd\\', \\'nairobi \\', \\'Kikuyu \\', \\'Kisii\\', \\'MSAMBWENI\\',\\n       \\'BUJUMBURA\\', \\'GITHONGO\\', \\'KEROKA/KISII\\', \\'BURUBURU, NAIROBI\\',\\n       \\'MALAVA\\', \\'KIJABE\\', \\'Woolwich \\', \\'NDERE-SIAYA\\', \\'AHERO\\',\\n       \\'MUHORONI \\', \\'Nakuru \\', \\'kahuro\\', \\'Malakisi \\', \\'MUHORONI\\',\\n       \\'ISIOLO\\', \\'SYOKIMAU \\', \\'ONGATA RONGAI \\', \\'Maralal \\',\\n       \\'KIBIRICHIA, MERU\\', \\'GRANGER, INDIANA\\', \\'WESTLAND \\', \\'MUKURWEINI \\',\\n       \\'MASII\\', \\'NRB\\', \\'KWISERO\\', \\'ANKARA\\', \\'SHIMBA HILLS\\', \\'TAVETA\\',\\n       \\'WOTE, MAKUENI \\', \\'WANGURU\\', \\'KISSII\\', \\'BURUBURU NAIROBI \\',\\n       \\'KIRITIRI\\', \\'MESA ARIZONA\\', \\'KAJIADO TOWN\\', \\'KURIA\\',\\n       \\'NAIROBI WEST\\', \\'ENDARASHA\\', \\'KIPKAREN \\', \\'0\\', \\'GAMBOGI\\', \\'KOLA\\',\\n       \\'Marsabit\\', \\'WEBUYE\\', \\'GAKUNGU\\', \\'NAIROBJ\\',\\n       \\'NAIROBI ,KAMITI ROAD RICHLAND\\', \\'NKUBU \\', \\'MWATATE\\', \\'MALAKISI\\',\\n       \\'ITEN\\', \\'KATHIANI\\', \"MURANG\\'A\", \\'KAIRIA\\', \\'UPLANDS \\', \\'RONGO\\',\\n       \\'UHURU GARDEN\\', \\'KINANGOP\\', \\'BAHATI NAKURU \\', \\'MATILIKU\\', \\'meru\\',\\n       \\'Limuru\\', \\'MALAA\\', \\'TURBO\\', \\'MARIMA -MERU HIGHWAY \\', \\'OLJORO OROK\\',\\n       \\'homabay \\', \\'KIKIMA\\', \\'ADAMS ARCADE\\', \\'MUNICH\\', \\'MUMIAS \\',\\n       \\'KALIMONI \\', \\'CHWELE\\', \\'MARALAL\\', \\'NAMBALE\\', \\'NAIROBI COUNTY\\',\\n       \\'Narok \\', \\'TURBO \\', \\'KANGARI \\', \\'Pécs \\', \\'thika\\', \\'KATSE\\',\\n       \\'thika \\', \\'CHEBUNYO\\', \\'OL JORO OROK \\', \\'MOBIL PLAZA\\', \\'WAMUNYU \\',\\n       \\'MAGUNGA\\', \\'RORET\\', \\'YALA\\', \\'KAHUHIA\\', \"KENOL MURANG\\'A\",\\n       \\'Machakos\\', \\'UKWALA\\', \\'KALOLENI\\', \\'JOONDALUP\\', \\'MIGORI \\',\\n       \\'MARAGOLI\\', \\'MARMANET\\', \\'IKANGA\\', \\'KINOO\\', \\'OYUGIS \\', \\'LANGATA\\',\\n       \\'Kiambu\\', \\'Malindi\\', \\'NAIROBI.\\', \\'MAKUENI \\', \\'Bungoma \\',\\n       \\'GITHUNGURI \\', \\'MACHOKOS\\', \\'KOMBEWA \\', \\'UTHIRU \\', \\'KITENGELA \\',\\n       \\'BANANA\\', \\'CHEPKORIO\\', \\'MASII \\', \\'Gitugi\\', \\'. \\', \\'RUIRY\\', \\'Kisumu\\',\\n       \\'MBUMBUNI-MACHAKOS\\', \\'WAMUYU\\', \\'siaya\\', \\'Kakamega\\', \\'TAITA TAVETA\\',\\n       \\'Bumala\\', \\'KIMENDE \\', \\'BRISTOL\\', \\'MATUNDA\\', \\'KARABA\\', \\'SULTAN\\',\\n       \\'GATURA\\', \\'KASARANI ,NAIROBI \\', \\'NANDI\\', \\'MAGUTUNI\\', \\'CHUKA \\',\\n       \\'NGONG HILL\\', \\'ngong\\', \\'KIANGAI\\', \\'MBITA\\', \\'Mumias\\', \\'KAMBITI\\',\\n       \\'MUMBI\\', \\'Juja\\', \\'WODANGA\\', \\'KIRIANI\\', \\'KABARNET\\', \\'MISIKHU\\',\\n       \\'Thika\\', \\'NYANSIONGO\\', \\'nyeri \\', \\'NAIVASHA \\', \"MURANG\\'A \",\\n       \\'KAPCHENO\\', \\'NGARA\\', \\'MADARAKA\\', \\'kitengela \\', \\'BONDO \\', \\'WAMUNYU\\',\\n       \\'NYANDARUA\\', \\'MOGOGOSIEK\\', \\'00\\', \\'NAIROBI/JUJA\\', \\'NA \\', \\'LUANDA\\',\\n       \\'KLEMZIG\\', \\'TEL AVIV\\', \\'ongata rongai \\', \\'30-60101 Manyatta \\',\\n       \\'12410 Nyeri\\', \\'KATHONZWENI \\', \\'GITHURAI \\', \\'WESRN AUSTRALIA\\',\\n       \\'SABASABA \\', \\'Gilgil \\', \\'ISEBANIA\\', \\'KIRIAINI\\', \\'MUTHETHENI \\',\\n       \\'Mombasa \\', \\'Kitengela\\', \\'CARLIFONIA\\', \\'NIL\\',\\n       \\'NAIROBI, NAIROBI AREA, KENYA\\', \\'SOY\\', \\'Sabasaba\\', \\'SABASABA\\',\\n       \\'COLUMBIA\\', \\'Homa Bay \\', \\'MARIMA\\', \\'SEGA\\', \\'KAYOLE\\', \\'BUDD LAKE\\',\\n       \\'KITHYOKO\\', \\'KIJABE \\', \\'Mbale\\', \\'KITHIMANI\\', \\'HANOI\\', \\'chuka\\',\\n       \\'KILINDINI\\', \\'MERY\\', \\'CHELMSFORD\\', \\'LOITOKITOK\\', \\'MOSORIOT\\',\\n       \\'IKONGE\\', \\'ENGINEER\\', \\'Othaya\\', \\'Ahero\\', \\'MWEA\\', \\'JOSKA \\',\\n       \\'NGAMBWA\\', \\'MASINGA\\', \\'KINANGOP \\', \\'LONDON\\', \\'KILELESHWA \\',\\n       \\'SARIT CENTRE\\', \\'mgange \\', \\'ST. MARYS NSW\\', \\'GESIMA\\', \\'Migori \\',\\n       \\'KHWISERO\\', \\'SYOKIMAU\\', \\'MTITO ANDEI \\', \\'nakuru \\', \\'NAIROBI CITY\\',\\n       \\'ATHIRIVER\\', \\'KABATI\\', \\'Kitale\\', \\'MPEKETONI\\', \\'YOANI\\',\\n       \\'KABARTONJO\\', \\'NAMANGA\\', \\'CHESINENDE\\', \\'BAHATI\\', \\'NZEEKA\\',\\n       \\'MATATHIA, KAMAE\\', \\'RONALD NGALA \\', \\'KUBUKUBU\\', \\'THOGOTO\\',\\n       \\'GATORA\\', \\'NAI \\', \\'KUJA,KIAMBU\\', \\'Machakos \\', \\'AMAGORO\\', \\'Uthiru\\',\\n       \\'Naivasha\\', \\'KEROKA \\', \\'MAZERAS\\', \\'EGERTON\\', \\'KASARANI\\', \\'Kimende\\',\\n       \\'WAJIR\\', \\'DUBAI\\', \\'TWO RIVERS\\', \\'NDARAGWA \\', \\'EASTLEIGH\\', \\'KAGIO\\',\\n       \\'HOMA BAY\\', \\'KISII, KENYA\\', \\'Thika \\', \\'NGECHA\\', \\'Kakamega \\',\\n       \\'KERINGET\\', \\'FORT WAYNE\\', \\'STAREHE\\', \\'GILGIL \\', \\'KAWANGWARE\\',\\n       \\'GPO NAIROBI\\', \\'GITUGI\\', \\'Tala\\', \\'kakamega \\', \\'TEXAS\\', \\'GACHIE\\',\\n       \\'Syokimau\\', \\'Sydney \\', \\'LESSOS\\', \\'Meru \\', \\'KIPKAREN RIVER\\',\\n       \\'SOSIOT\\', \\'LAKEWOOD SEATTLE\\', \\'Lodwar\\', \\'Kitale \\', \\'Membley\\',\\n       \\'chepkorio\\', \\'Luanda\\', \\'Kijabe \\', \\'TONGAREN\\', \\'karuri \\', \\'malindi\\',\\n       \\'Ogembo \\', \\'Maryland\\', \\'Kisii Town \\', \\'kajiado \\', \\'LIKONI\\',\\n       \\'wangige \\', \\'Ngong\\', \\'OLKALOU \\', \\'4597-20100 Nakuru\\', \\'GARISSA\\',\\n       \\'KIRIAINI \\', \\'SYOKIMAU L\\', \\'Machakos, Kathiani\\', \\'Kitui\\',\\n       \\'AUSTRALIA\\', \\'Bondo\\', \\'Salama \\', \\'bomet \\', \\'Naivasha \\',\\n       \\'TOORMINA, NSW\\', \\'Utawala\\', \\'Ankara\\', \\'MOISBRIDGE\\', \\'nbo\\',\\n       \\'Kijabe\\', \\'KABAZI\\', \\'P.O BOX 75-30105 SOY\\', \\'kisumu\\', \\'nyeri\\',\\n       \\'Voi\\', \\'Kanjuku\\', \"NG\\'IYA\", \\'Muranga\\', \\'Bournemouth \\',\\n       \\'SARE-AWENDO\\', \\'narok\\', \\'Ruiru \\', \\'Kilifi \\', \\'Meru\\',\\n       \\'Ol-joro-orok\\', \\'152 30100 eldoret \\', \\'Mtwapa\\', \\'Karuri\\',\\n       \\'Kitengela \\', \\'Isiolo \\', \\'38061-00623 Nairobi\\', \\'Ngong Hills\\',\\n       \\'RARIEDA\\', \\' Nairobi County,\\', \\'187 Ngewa\\', \\'NJAMBINI\\',\\n       \\'25635 00603 Nairobi\\', \\'GIKOE\\', \\'kakamega\\', \\'ISHIARA \\',\\n       \\'P. O. Box 111 Ruiru\\', \\'Kibwezi\\', \\'Syokimau \\', \\'kiambu \\', \\'Bomet \\',\\n       \\'Busia\\', \\'Gilgil\\', \\'LAMU\\', \\'Kajiado \\', \\'makueni \\', \\'kisii\\',\\n       \\'MERU 2274\\', \\'TURKANA\\', \\'Kilifi\\', \\'nottingham\\', \\'Embakasi\\',\\n       \\'Masii - MACHAKOS\\', \\'SEREM\\', \\'Tala, Kangundo. \\', \\'Ugunja\\',\\n       \\'Karatina\\', \\'Migori\\', \\'Berlin\\', \\'KALAMBA\\', \\'UKUNDA \\', \\'ruiru\\',\\n       \\'Sondu\\', \\'BUSIA - PORT VICTORIA \\', \\'Matuu.\\', \\'Gatundu\\',\\n       \\'Seasons Kasarani. \\', \\'KARUNGU\\', \\'Kahawa Sukari\\', \\'Kangundo \\',\\n       \\'mombasa \\', \\'St. Georges\\', \\'maseno\\', \\'KINDARUMA \\',\\n       \\'kakuma 1 Nuer community \\', \\'copenhagen\\', \\'549 LIMURU\\', \\'Lamu\\',\\n       \\'DRESDEN\\', \\'Ol Kalou \\', \\'KIRIA-INI \\', \\'123 KIKUYU\\', \\'Kianyaga\\',\\n       \\'Kasarani\\', \\'Makueni \\', \\'KABETE\\', \\'Sagana\\',\\n       \\'Imani avenue, Ongata Rongai, Kajiado\\', \\'LOS ANGELES\\', \\'KAKUMA\\',\\n       \\'kitengela\\', \\'56-10300 Kerugoya\\', \\'Kalimoni P.o Box 178-01001\\',\\n       \\'Nairobi, Komarock.\\', \\'kilifi\\', \\'NAIROBI, KITENGELA \\',\\n       \\'14 Lamina Avenue, Mill Park VIC 3082\\', \\'kebirigo \\', \\'Darwin \\',\\n       \\'Kericho \\', \\'Nairibi\\', \\'782 - 00232 Ruiru\\', \\'eldoret\\', \\'Oyugis\\',\\n       \\'Conroe\\', \\'NAIROBI 572 00300\\', \\'Eldama Ravine\\', \\'Kabete \\', \\'Maua\\',\\n       \\'Isiolo\\', \\'828-90200\\', \\'Athens\\', \\'Chicago \\', \\'Hola\\', \\'Abu Dhabi \\',\\n       \\'Nyayo Estate, Court 521\\', \\'Deanside\\', \\'452-00200, KIAMBU\\',\\n       \\'KOBENHAUN\\', \\'karuri\\', \\'Nanyuki \\', \\'P.O. Box 2413-60200, Meru\\',\\n       \\'Kenol\\', \\'Wote\\', \\'githunguri \\', \\'NAIROBI. 45095-00100\\', \\'Serem\\',\\n       \\'P.o.box 1298-00618 Ruaraka, Nairobi\\', \\'Vienna \\', \\'karen\\',\\n       \\'CHICAGO\\', \\'GENEVA\\', \\'Kiserian \\', \\'Kabarnet\\', \\'RABAI\\',\\n       \\'KIAMBU COUNTY\\', \\'Uthiru Cooperation \\', \\'Githunguri \\',\\n       \\'79718-00200 NAIROBI\\', \\'stockholm\\', \\'42 NDARAGWA\\',\\n       \\'P.O. Box 103635-00101\\', \\'Heuchlingen \\', \\'PORT VICTORIA\\',\\n       \\'Doolandella, Australia\\', \\'Grand Oyster Kileleshwa, Nairobi\\',\\n       \\'10572-00200 NAIROBI\\', \\'Wangige \\', \\'Siaya\\', \\'Litein\\', \\'Washington\\',\\n       \\'Geneva\\', \\'Winchester \\', \\'Mariashoni\\', \\'Mwiki\\', \\'Limuru \\',\\n       \\'Nairobi i\\', \\'P O Box 898-00100 NAIROBI\\', \\'KAWNGWARE NAIROBI \\',\\n       \\'rongai\\', \\'Roysambu\\', \\'NAIROBI UMOJA\\', \\'kangema\\',\\n       \\'P.O.Box 848-00208 NGONG\\', \\'Braunschweig \\', \\'Wote MAKUENI\\',\\n       \\'814_3 300 KAPSABET \\', \\'Box 2316 Machakos\\', \\'Ruaraka\\', \\'Nyahururu\\',\\n       \\'Kenmore \\', \\'Melbourne \\', \\'1711 Nyahururu\\', \\'nanyuki\\',\\n       \\'kawangware \\', \\'Narok\\', \\'Githunguri\\', \\'Mahindi \\', \\'Moncton\\',\\n       \\'kERUGOYA\\', \\'Homa Bay\\', \\'Ukunda\\', \\'Mukurweini \\', \\'Malindi \\',\\n       \\'narumoru\\', \\'Juba\\', \\'01000-214 Thika\\', \\'kabete \\', \\'Kajiado\\',\\n       \\'NAROK \\', \\'Kapenguria \\', \\'Athi-river \\', \"murang\\'a \", \\'Gem\\',\\n       \\'nyahururu \\', \\'Gachie \\', \\'Kirinyaga\\', \\' Nairobi \\', \\'CALIFORNIA\\',\\n       \\'Bomet\\', \\'molo\\', \\'Chuka\\', \\'Nairobi, Kenya.\\', \\'ANTONY\\',\\n       \\'wite-makueni\\', \\'ugunja\\', \\'Matunda \\', \\'KARORI\\', \\'kikuyu \\',\\n       \\'Shinyalu \\', \\'Molo\\', \\'KIPKAREN\\', \\'KANGUNDO \\', \\'LUTON\\', \\'FLORIDA\\',\\n       \\'NGEWA\\', \\'SUSWA\\', \\'USA\\', \"KENOL MURANG\\'A \", \\'PUYALLUP WA USA\\',\\n       \\'LAARE\\', \\'P.O Box 30231 - 00100, Nairobi\\', \\'Runyenjes\\',\\n       \\'KENDUBAY \\', \\'Gigiri, Nairobi\\', \\'GATUKUYU\\', \\'BUNYALA\\', \\'OKIA\\',\\n       \\'3704 GPO NAIROBI \\', \\'RANGWE\\', \\'KITUI KENYA\\', \\'SAUDI ARABIA\\',\\n       \\'JUJA KALIMONI\\', \\'MSA\\', \\'GAKUNYU\\', \\'MIHARATI\\', \\'KERUGOYA TOWN\\',\\n       \\'RAGENGNI\\', \\'mwingi \\', \\'NBI\\', \\'IGOJI\\', \\'KIMULOT\\', \\'LONDIANI\\',\\n       \\'CAMBRIDGE\\', \\'KHAYEGA\\', \\'NDUNYU NJERU \\', \\'58-10205 Maragua\\',\\n       \\'MALINDI \\', \\'Kasarani, Clay City\\', \\'ATHI RIVER \\', \\'Sawagongo \\',\\n       \\'HELSINKI\\', \\'GPO\\', \\'BURNTFOREST\\', \\'MATUNDA \\', \\'HARRISDALE\\',\\n       \\'KARANDI\\', \\'DUKHAN \\', \\'SONDU\\', \\'EMBU, KENYA\\', \\'NAIROBI KENYA\\',\\n       \\'NANDI HILLS \\', \\'HAZELWOOD\\', \\'MGANGE\\', \\'LUCYSUMMER-NAIROBI\\',\\n       \\'KUKUYU\\', \\'NGONG ROAD\\', \\'NYAYO STADIUM\\', \\'Karen\\', \\'makuyu\\',\\n       \\'LOITIKITOK\\', \\'Kenyenya\\', \\'MUNICH \\', \\'tawa\\', \\'FUNYULA\\',\\n       \\'NOTTIGHAM\\', \\'nanyuki \\', \\'Kenny Bay\\', \\'MOMBSA\\', \\'SHERWOOD\\',\\n       \\'NDARAGWA\\', \\'ongata rongai\\', \\'BUMALA\\', \\'MEITINGEN \\', \\'80100\\',\\n       \\'KOMBEWA\\', \\'DOYSELDOR\\', \\'NOTTINGHAM\\', \\'VIENNA\\', \\'KISERIAN KAJIADO\\',\\n       \\'NAIROBI, KENYA\\', \\'Mtwapa \\', \\'KEUMBU\\', \\'Kerugoya Town\\', \\'KAP \\',\\n       \\'UPPER HILL NAIROBI\\', \\'MOI;S BRIDGE\\', \\'ENTERPRISE  ROAD\\',\\n       \\'THIONGO-NAIROBI\\', \\'KATHONZWENI\\', \\'UTAWALA\\', \\'MIU ATHI-RIVER\\',\\n       \\'CHAMAKANGA\\', \\'NYAMACHE\\', \\'NUERI\\', \\'SULTAN HAMUD\\', \\'NAROMORU \\',\\n       \\'NYAMIRA \\', \\'NAIROBI BURU\\', \\'HAMBURG\\', \\'TOWN \\', \\'14 KADONGO 40223\\',\\n       \\'Mois Bridge \\', \\'RUNYENJES \\', \\'MARAGWA\\', \\'SURPRISE,USA\\',\\n       \\'KALAMBA \\', \\'Ruai\\', \\'KADONGO\\', \\'TORONGO\\', \\'NJABINI\\',\\n       \\'GIGIRI, VILLAGE MARKET, NAIROBI\\', \\'LAVINGTON\\', \\'SPRING VALLEY\\',\\n       \\'MBUMBUNI\\', \\'NAIROBI MUNICIPALITY\\', \\'NAIROBI,KENYA\\',\\n       \\'Bamburi Mtambo \\', \\'GITHURAI\\', \\'RUMURUTI\\',\\n       \\'Kenyatta Highway, Nanyuki\\', \\'MUTOMO\\', \\'KENYATTA HOSPITAL\\',\\n       \\'NAIROBI GENERAL POST OFFICE\\', \\'LITIEN\\', \\'LONDIANI \\',\\n       \\'ONGATA RONGAI NAIROBI\\', \\'GATUNDU \\', \\'GAMBONI\\', \\'NAIROB\\',\\n       \\'L.KABETE\\', \\'ATHI - RIVER\\', \\'kerugoya \\', \\'Webuye \\', \\'Maralal\\',\\n       \\'Andover\\', \\'mombas\\', \\'Kiambu 627-00900\\', \\'Maragua\\',\\n       \\'murang*a 10200-658\\', \\'Syracuse\\', \\'Karen Nairobi \\',\\n       \\'ontario, California 91764 \\', \\'Karlsruhe \\', \\'Nyamira \\', \\'Olkalau\\',\\n       \\'GILGIL, KENYA\\', \\'Kerugoya \\',\\n       \\'14 AV FERNAND FENZY92160  ANTONY FRANCE\\'], dtype=object)'}, 'execution_count': 13, 'metadata': {}, 'output_type': 'execute_result'}], 'source': \"#checking the unique values from the town column\\ndf['town'].unique()\"}, {'cell_type': 'code', 'execution_count': 14, 'metadata': {}, 'outputs': [{'data': {'text/plain': 'member_no                0\\nreg_date              1863\\ndob                  20038\\nhse_no                   0\\ngender                4667\\ntown               1048216\\nrelationship       1632933\\nbeneficiery_dob    1086598\\nportfolio                9\\ndtype: int64'}, 'execution_count': 14, 'metadata': {}, 'output_type': 'execute_result'}], 'source': '#inspecting the dataframe for null values\\ndf.isna().sum()'}, {'cell_type': 'code', 'execution_count': 15, 'metadata': {}, 'outputs': [{'data': {'text/plain': '7407066'}, 'execution_count': 15, 'metadata': {}, 'output_type': 'execute_result'}], 'source': '#inspecting the dataframe duplicate values\\ndf.duplicated().sum()'}, {'cell_type': 'markdown', 'metadata': {}, 'source': 'In the below code block, we drop duplicated values.'}, {'cell_type': 'code', 'execution_count': 16, 'metadata': {}, 'outputs': [], 'source': 'df = df.drop_duplicates()'}, {'cell_type': 'markdown', 'metadata': {}, 'source': 'From our problem statement, we aim to cross sell investment products depending on Age, Gender and Location. Therefore, we are going to drop some columns which are irrelevant. e.g. hse_no, beneficiary_dob,reg_date.'}, {'cell_type': 'code', 'execution_count': 17, 'metadata': {}, 'outputs': [], 'source': \"df=df.drop(columns=['reg_date','hse_no'])\"}, {'cell_type': 'code', 'execution_count': 18, 'metadata': {}, 'outputs': [{'data': {'text/plain': 'member_no              0\\ndob                  238\\ngender                82\\ntown               15026\\nrelationship       14308\\nbeneficiery_dob    13937\\nportfolio              4\\ndtype: int64'}, 'execution_count': 18, 'metadata': {}, 'output_type': 'execute_result'}], 'source': '#inspecting the null vaues after dropping columns\\ndf.isna().sum()'}, {'cell_type': 'code', 'execution_count': 19, 'metadata': {}, 'outputs': [{'data': {'text/plain': 'array([\\'Partner\\', \\'Sister\\', \\'Husband \\', \\'Husband\\', \\'Daughter\\', \\'Brother \\',\\n       \\'Son\\', \\'Daughter \\', \\'Wife\\', \\'Father\\', \\'Mother\\', \\'Brother\\', \\'son\\',\\n       \\'mother\\', \\'father\\', \\'Mother \\', \\'SPOUSE\\', \\'FRIEND\\', \\'Spouse \\',\\n       \\'WIfe\\', \\'Father \\', \\'Spouse\\', \\'child\\', nan, \\'Parent\\', \\'wife\\',\\n       \\'Wife \\', \\'Son \\', \\'spouse\\', \\'doughter\\', \\'CHILD\\', \\'ParentChild\\',\\n       \\'partner\\', \\'brother\\', \\'sister\\', \\'MotheR\\', \\'Friend\\', \\'Child\\',\\n       \\'Cousin\\', \\'Dad\\', \\'Mum\\', \\'MOTHER\\', \\'WIFE\\', \\'Sister \\', \\'SON\\',\\n       \\'BROTHER\\', \\'FATHER\\', \\'aunt \\', \\'Grandmother\\', \\'HUSBAND\\', \\'self\\',\\n       \\'husband\\', \\'husband \\', \\'Owner\\', \\' Grand daughter\\', \\'Nephew\\',\\n       \\'SP0USE\\', \\'Self\\', \\'parent\\', \\'SISTER\\', \\'NIECE\\', \\'Niece\\', \\'daughter\\',\\n       \\'Sibling\\', \\'DAUGHTER\\', \\'AUNT\\', \\'brother \\', \\'254701361835\\',\\n       \\'Parent \\', \\'daughter \\', \\'FAITHER\\', \\'Family \\', \\'SPOUSE \\',\\n       \\'Sibling \\', \\'PARENT\\', \\'CONFIDANT\\', \\'MUM\\', \\'DAD\\', \\'wife \\', \\'family\\',\\n       \\'Trustee \\', \\'son \\', \\'mother \\', \\'MOTHER \\', \\'friend\\', \\'spouse \\',\\n       \\'S0N\\', \\'SISTER \\', \\'FATHER \\', \\'father \\', \\'FAMILY \\', \\'WifE\\',\\n       \\'Partner \\', \\'daugther\\', \\'1226805243;130143346\\', \\'relative\\',\\n       \\'BROTHER \\', \\'Daighter\\', \\'Advisor\\', \\'SON \\', \\'AUNTIE\\', \\'FIANCEE\\',\\n       \\'Fiancee\\', \\'DOUGHTER\\', \\'parent \\', \\'HUSBAND \\', \\'DAUGHTER \\', \\'SELF\\',\\n       \\'MOther\\', \\'mOTHER\\', \\'Aunt\\', \\'Grandparent\\', \\'Bother \\', \\'SO\\',\\n       \\'married\\', \\'MARRIED\\', \\'FIANCE\\', \\'Doughter \\', \\'Guardian \\',\\n       \\'ASS0CIATE\\', \\'sibling\\', \\'fiance\\', \\'Sistet\\', \\'Grandson\\', \\'Doughter\\',\\n       \\'DAUGTHER\\', \\'wIFE\\', \\'Bro\\', \\'PARTNER\\', \\'B INLAW\\', \\'GUARDIAN\\',\\n       \\'daughte\\', \\'Mom\\', \\'COUSIN\\', \\'GRANDMA\\', \\'aunt\\', \\'Domestic Partner\\',\\n       \\'PATNER\\', \\'me\\', \\'MENTOR\\', \\'UNCLE\\', \\'Sis\\', \\'SiBLING\\', \\'GRAND SON\\',\\n       \\'Fiance \\', \\'KID\\', \\'SIBLING\\', \\'GRANDSON\\', \\'Nephew \\', \\'-\\', \\'Cousin \\',\\n       \\'DAUGHETR\\', \\'Person\\', \\'s0n\\', \\'na\\', \\'myson\\', \\'PARTNER \\', \\'Bishop\\',\\n       \\'nephew\\', \\'mwas\\', \\'Mothers\\', \\'Friend \\', \\'Child \\', \\'daughter33\\',\\n       \\'CLOSE FRIEND\\', \\'hUSBAND\\', \\'CLOSEFRIEND\\', \\'Boyfriend \\',\\n       \\'dependant\\', \\'WIFE \\', \\'MARRIAGE\\', \\'GRAND DAUGHTER\\', \\'DAUGHER\\',\\n       \\'Niece \\', \\'granddaughter\\', \\'grandson\\', \\'DAUGHTER/CHILD\\',\\n       \\'RELATIVE\\', \\'mum\\', \\'single\\', \\'Self \\', \\'sister \\', \\'Mother TO SON\\',\\n       \\'Grandfather\\', \\'DAD \\', \\'Relative\\', \\'Daughter-in-law \\',\\n       \\'GRANDMOTHER\\', \\'child \\', \\'15\\', \\'DaD\\', \\'GIRLFRIEND\\', \\'FAMILY\\',\\n       \\'Uncle \\', \\'SiNGLE\\', \\'SINGLE\\', \\'fiancee\\', \\'FaMILY\\', \\'BENEFICIARY\\',\\n       \\'OWNER\\', \\'Relative \\', \\'GRANDDAUGHTER\\', \\' Spouse\\', \\'uncle\\',\\n       \\'Married \\', \\'chil\\', \\'CHILD MINOR\\', \\'33\\', \\'NEPHEW\\', \\'JOINT PARTNER\\',\\n       \\'MOTHERS \\', \\'Fiancé \\', \\'Others \\', \\'Grand daughter\\',\\n       \\'DAUGHTER-IN-LAW\\', \\'Na\\', \\'CHILD \\', \\'SPIRITUAL FATHER\\', \\'COUSN\\',\\n       \\'DEPEDANT\\', \\'Estate\\', \\'Uncle\\', \\'sISTER\\', \\'sisiter\\', \\' BROTHER\\',\\n       \\'Granddaughter \\', \\'BRother\\', \\'Aunt \\', \\'cousin\\', \\'Baby\\', \\'Morher\\',\\n       \\'MOM\\', \\'God mother\\', \\'GRANDSON \\', \\'Husband/spouse\\', \\'SPOUCE\\',\\n       \\'uncle \\', \\'FRIEND \\', \\'Single\\', \\'Vhild\\', \\'Patner\\', \\'Spouce\\',\\n       \\'Family\\', \\'SoN\\', \\'SisteR\\', \\'AUNTY\\', \\'FATHER-IN-LAW\\', \\'SonS\\', \\'0\\',\\n       \\'MO9\\', \\'Fiance\\', \\'33.4\\', \\'CHILF\\', \\'254727756559\\', \\'0720401466\\',\\n       \\'GRAND FATHER\\', \\'PRINCIPAL\\', \\'Guardian\\', \\'JUNIOR\\',\\n       \\'DGRAND DAUGHTER\\', \\'COWORKER\\', \\'GRAND MOTHER\\', \\'D100\\', \\'NMO\\',\\n       \\'BUSINESS PARTNER\\', \\'GURDIAN\\', \\'2021\\', \\'MotH\\', \\'MoM\\', \\'UN,CLE\\',\\n       \\'GRAND CHILD\\', \\'Sister in law\\', \\'Grand Daughter\\', \\'COMAPANION\\',\\n       \\'BOYFRIEND\\', \\'EX-WIFE\\', \\'GRANDDAUGTER\\', \\'PARNT\\', \\'M\\', \\'F\\', \\'Chils\\',\\n       \\';SON\\', \\'GUARDINA\\', \\'NiecE\\', \\'Brother-IN-LAW\\', \\'Member\\',\\n       \\'Grand mother\\', \\'ADMINISTRATOR\\', \\'VM\\', \\'GRANDFATHER\\', \\'GIRLFRIED\\',\\n       \\'Brestfriend\\', \\'Finance\\', \\'SIS\\', \\'Daughter in law\\', \\'children\\',\\n       \\'Girlfriend\\', \\'COLLEAGUE\\', \\'TRUSTEE\\', \\'254708368426\\', \\'Colleague\\',\\n       \\'Sister-IN-LAW\\', \\'GRAND-DAUGHTER\\', \\'GRANNY\\', \\'GRANDCHILD\\', \"\\'M\",\\n       \\'spouce\\', \\'SiLBLING\\', \\'Siblings\\', \\'Step-mother\\', \\'Aunty\\', \\'FREINF\\',\\n       \\'50\\', \\'100\\', \\'254723993458\\', \\'Cousins\\', \\'Cousins \\', \\'ASSOCIATE\\',\\n       \\'Fiane\\', \\'guardian\\', \\'Guadian\\', \\'Confidant\\', \\'Auntie\\', \\'GRANDPA\\',\\n       \\'mom\\', \\'Brother in Law\\', \\'BUSINESS PARTNER \\', \\'Spuose\\',\\n       \\'Business Partner\\', \\'Dating\\', \\'IN LAW\\', \\'STEP-MOM\\', \\'Son/Brother\\',\\n       \\'Chid\\', \\'Granddaughter\\', \\'niece\\', \\'Son/SISTER\\', \\'Grand Son\\',\\n       \\'BrotheR\\', \"Nolan\\'s Guardian\", \"Xena\\'s Guardian\", \\'Sister-in law\\',\\n       \\'PARENTS\\', \\'c/o\\', \\'STEP MOTHER\\', \\'NiCE\\', \\'Ciru\\', \\'DEPENDANT\\',\\n       \\'som\\', \\'GUARDIAN \\', \\'Dau`\\', \\'Kid\\', \\'PARENT \\', \\'CHILDREN\\',\\n       \\'partner \\', \\'CLOUSIN\\', \\'19112004\\', \\'twinsister\\', \\'MINOR\\',\\n       \\'Sister- Custodian\\', \\'GRANSON\\', \\'COMPANION\\', \\'ENGAGED\\',\\n       \\'WELL WISHER\\', \\'PARNER\\', \\'GRANCHILD\\', \\'Trustee\\', \\'Next of kin\\',\\n       \\'SIIBLING\\', \\'SIBLINGS\\', \\'Foster daughter\\', \\'ADMINSTRATOR\\',\\n       \\'IN-LAW\\', \\'Boyfriend\\', \\'NepheW\\', \\'EMPLOYEE\\', \\'DIRECTORS\\',\\n       \\'RELIGIOUS COMMUNITY\\', \\'CUSTODIAN\\', \\'C/O ARIANNA\\', \\'Sister IN LAW\\',\\n       \\'spose\\', \\'SPAUSE\\', \\'MEMBER\\', \\'DomesticPartner\\', \\'Grand-daughter\\',\\n       \\'Brother-in-law\\', \\'STEP-BROTHER\\', \\'Mother to Evan\\', \\'Sister-Inlaw\\',\\n       \\'BUS. PARTNER\\', \\'Sister(Guardian)\\', \\'CONTACT PERSON\\', \\'FatheR\\',\\n       \\'Brother in law\\', \\'Parwnt\\', \\'M,\\', \\'Sister-GUARDIAN\\', \\'Grand Child\\',\\n       \\'GODMOTHER\\', \\'Sister-Guardian\\', \\'Mother- Guardian\\', \\'Grandchild\\',\\n       \\'Grand son\\', \\'CHLD\\', \\'GRAND.DAUGHTER\\', \\'GRAND-MOTHER\\', \\'Parents\\',\\n       \\'EX WIFE\\', \\'Sister - Guardian\\', \\'Step-Mother\\', \\'FOSTER DAUGHTER\\',\\n       \\'Grand-mother\\', \\'God Mother\\', \\'Mother-in-law\\', \\'MEMBER \\',\\n       \\'B/S PARTNER\\', \\'LAWYER\\', \\'GRAND-SON\\', \\'parents\\', \\'Stepson\\',\\n       \\'Contingent\\', \\'grandmother\\', \\'G/Daughter\\', \\'Brother and sister\\',\\n       \\'Sibbling\\', \\' \\', \\'COUSIN \\', \\'DaughteR\\', \\'SPUOSE\\', \\'CHIILD\\',\\n       \\'DSPOUSE\\', \\'Executor\\', \\'HU\\', \\'EWIFE\\', \\'SPOUDSE\\', \\'SoPOUSE\\',\\n       \\'grandchild\\', \\'ChILD\\', \\'9266025\\', \\'PARE NT\\', \\'254700442162\\',\\n       \\'BEST FRIEND\\', \\'SISTER IN LAW \\', \\'mather\\', \\'SAVING PARTNER \\',\\n       \\'AUNTIE \\', \\'ParenChild\\', \\'GIRLFRIEND \\', \\'SINGLE \\', \\'Parentchild\\',\\n       \\'parentchild\\', \\'SPOUSE20\\', \\'Myself\\', \\'FIACEE\\', \\'SD\\',\\n       \\'Grand mother \\', \\'Mother of child\\', \\'Childnephew\\', \\'FATH \\',\\n       \\'MY SON\\', \\'BabyMother\\', \\'CHID\\', \\'GIRL FRIEND\\', \\'chils\\', \\'self \\',\\n       \"Mother\\'s \", \\'Mum \\', \\'aunty\\', \\'SPouse\\', \\'Auntie \\', \\'ChiLD\\',\\n       \\'grandmother \\', \\'Grand daughter \\', \\'auntie\\', \\'baby mama \\', \\'DA\\',\\n       \\'BrOther\\', \\'Fiancee \\', \\'In law\\', \\'Colleague \\', \\'WiFE\\', \\'owner\\',\\n       \\'sON\\', \\'Mather\\', \\'Dauhgter\\', \\'myself\\', \\'Hubby\\', \\'Sister in-law\\',\\n       \\'Aunty \\', \\'Foster parent\\', \\'grandson \\', \\'Wife/Guardian\\',\\n       \\'21761402\\', \\'GUARDIAN-MOTHER\\'], dtype=object)'}, 'execution_count': 19, 'metadata': {}, 'output_type': 'execute_result'}], 'source': '#checking for unique values in relationship column\\ndf.relationship.unique()'}, {'cell_type': 'code', 'execution_count': 20, 'metadata': {}, 'outputs': [{'data': {'text/plain': '\"mother                  18900 son                     18207 daughter                18010 sister                  12234 wife                    11190 husband                  9563 brother                  7768 father                   6738 spouse                   3311 child                    1567 parent                    627 friend                    393 niece                     369 nephew                    313 cousin                    309 aunt                      220 partner                   203 sibling                   199 fiance                    137 guardian                  117 fiancee                   100 uncle                      85 grandson                   74 grandmother                61 family                     51 self                       42 -                          40 estate                     39 grand daughter             31 dad                        29 granddaughter              29 mum                        27 girlfriend                 26 doughter                   25 relative                   18 boyfriend                  17 grandchild                 16 aunty                      16 member                     15 business partner           15 auntie                     14 sister in law              12 grandfather                11 gurdian                    11 mom                        11 kid                        10 so                         10 grand-daughter              9 s0n                         8 grand mother                8 trustee                     8 colleague                   7 grand child                 7 single                      7 spouce                      6 patner                      6 parents                     5 100                         5 dependant                   4 daughetr                    4 0                           4 foster daughter             4 grand-mother                4 grand son                   4 owner                       4 married                     4 na                          3 grand father                3 bus. partner                3 daugther                    3 spause                      3 daighter                    3 my son                      3 in law                      3 minor                       3 parentchild                 3 contact person              2 parner                      2 associate                   2 b/s partner                 2 close friend                2 beneficiary                 2 1226805243;130143346        2 granddaugter                2 children                    2 daughter-in-law             2 sis                         2 vm                          2 sister-guardian             2 vhild                       2 baby mama                   2 in-law                      2 sister-in-law               2 mather                      2 mothers                     2 step-mother                 2 god mother                  2 siblings                    2 grandma                     2 c/o arianna                 2 sister in-law               2 confidant                   2 cousins                     2 brother in law              2 girl friend                 2 chid                        2 ex-wife                     2 50                          2 son/brother                 2 m                           2 brother-in-law              2 depedant                    2 myself                      2 spuose                      2 guardina                    2 daugher                     2 mother-in-law               2 chils                       2 finance                     1 m,                          1 child minor                 1 mother\\'s                    1 myson                       1 babymother                  1 junior                      1 foster parent               1 advisor                     1 0720401466                  1 ewife                       1 dspouse                     1 baby                        1 dgrand daughter             1 daughter33                  1 parenchild                  1 ex wife                     1 siibling                    1 saving partner              1 administrator               1 un,cle                      1 engaged                     1 21761402                    1 sons                        1 dauhgter                    1 hu                          1 lawyer                      1 xena\\'s guardian             1 som                         1 companion                   1 254708368426                1 father-in-law               1 sister - guardian           1 adminstrator                1 ;son                        1 sibbling                    1 daughter/child              1 brestfriend                 1 marriage                    1 mwas                        1 husband/spouse              1 fiane                       1 b inlaw                     1 employee                    1 closefriend                 1 granson                     1 clousin                     1 mother to evan              1 nice                        1 grand.daughter              1 g/daughter                  1 dau`                        1 19112004                    1 godmother                   1 religious community         1 9266025                     1 sister-in law               1 joint partner               1 cousn                       1 well wisher                 1 domesticpartner             1 spiritual father            1 fiacee                      1 daughter in law             1 mother of child             1 executor                    1 wife/guardian               1 best friend                 1 moth                        1 step mother                 1 254727756559                1 grandpa                     1 mother- guardian            1 morher                      1 step-mom                    1 brother and sister          1 girlfried                   1 d100                        1 custodian                   1 chiild                      1 \\'m                          1 sd                          1 chilf                       1 others                      1 freinf                      1 parwnt                      1 mo9                         1 dating                      1 bro                         1 parnt                       1 254723993458                1 person                      1 guardian-mother             1 sister(guardian)            1 stepson                     1 mentor                      1 sister-inlaw                1 33                          1 254701361835                1 chil                        1 directors                   1 spose                       1 sp0use                      1 son/sister                  1 childnephew                 1 c/o                         1 nmo                         1 chld                        1 254700442162                1 fiancé                      1 comapanion                  1 nolan\\'s guardian            1 bishop                      1 step-brother                1 grandparent                 1 faither                     1 15                          1 spouse20                    1 hubby                       1 pare nt                     1 spoudse                     1 domestic partner            1 guadian                     1 sopouse                     1 sisiter                     1 contingent                  1 f                           1 33.4                        1 fath                        1 da                          1 coworker                    1 daughte                     1 ass0ciate                   1 me                          1 sistet                      1 granny                      1 2021                        1 mother to son               1 grand-son                   1 silbling                    1 next of kin                 1 granchild                   1 ciru                        1 sister- custodian           1 bother                      1 twinsister                  1 principal                   1                             1\"'}, 'execution_count': 20, 'metadata': {}, 'output_type': 'execute_result'}], 'source': '# Convert values in the \\'relationship\\' column to lowercase and remove any extra spaces\\ndf[\\'relationship\\'] = df[\\'relationship\\'].str.lower().str.strip()\\n\\n# Get the counts of each unique value in the \\'relationship\\' column,\\n# then format the output as a single line string\\ndf[\\'relationship\\'].value_counts().to_string().replace(\"\\\\n\", \" \")'}, {'cell_type': 'code', 'execution_count': 21, 'metadata': {}, 'outputs': [{'data': {'text/plain': '0'}, 'execution_count': 21, 'metadata': {}, 'output_type': 'execute_result'}], 'source': \"# Replace any missing values in the 'relationship' column with 'son'\\ndf['relationship'] = df['relationship'].fillna('son')\\n\\n# Check if there are any remaining missing values in the 'relationship' column\\ndf['relationship'].isna().sum()\\n\"}, {'cell_type': 'markdown', 'metadata': {}, 'source': 'To organize and standardize relationship values in the dataset, we define categories for mapping different variations of relationship terms. This approach creates a consistent structure by grouping terms like \"spouse,\" \"child,\" \"sibling,\" etc., into predefined categories. By applying this mapping, we ensure that any variations in spelling, formatting, or synonymous terms are aligned under a single label.\\n\\nThe following code accomplishes this by:\\n\\nDefining a dictionary (relationship_map) that assigns potential variations of relationship terms to specific categories.\\nCreating a function (map_relationship) that checks each entry in the relationship column against the keywords in relationship_map.\\nApplying this function to the column to classify each entry according to the defined categories.\\nFinally, we display the count of values in each category to confirm the classification distribution.'}, {'cell_type': 'code', 'execution_count': 22, 'metadata': {}, 'outputs': [{'name': 'stdout', 'output_type': 'stream', 'text': 'child           52152\\nparent          26352\\npartner         24578\\nsibling         20240\\nrelative         1534\\nfriends           396\\nother             392\\nguardian          128\\nprofessional       67\\nself               49\\nName: relationship, dtype: int64\\n'}], 'source': \"# Convert all entries to lower case and strip whitespace for uniformity\\ndf['relationship'] = df['relationship'].str.lower().str.strip()\\n\\n# Mapping dictionary\\nrelationship_map = {\\n    'partner': [\\n        'partner', 'spouse', 'sp0use','husband', 'wife', 'fiancee', 'ex-wife', 'spouce', 'fiancé',\\n        'husband ', 'sponse', 'spouse ', 'wiFe', 'wifE', 'wife ', 'spouse', 'married', 'marriage',\\n        'husband/spouse', 'ex-wife', 'fiance ', 'fiance', 'married ', 'myson', 'baby mama ',\\n        'fiancee ', 'souse', 'hubby', 'dating', 'boyfriend', 'girlfriend', 'ex wife', 'boyfriend ',\\n        'girlfriend ', 'wife/guardian', 'ex husband', 'girl friend', 'fiancée', 'sopouse', 'spoudse',\\n        'soPOUSE', 'spause', 'sposue', 'ex husband', 'love', 'b/f', 'g/f', 'divorcee', 'ex spouse',\\n        'bf', 'gf', 'b/f', 'g/f', 'fiancé ', 'domesticpartner', 'domestic partner', 'dating', 'exwife',\\n        'exhusband', 'wive', 'husb', 'exspouse', 'partner ', 'significant other', 'fiancee','companion','Partner',\\n        'Husband ', 'Husband',  'Wife',   'SPOUSE' , 'Spouse ', 'WIfe', 'Spouse',  'wife', 'Wife ', 'spouse', 'partner',\\n        'HUSBAND', 'husband', 'husband ',  'SP0USE' , 'SPOUSE ',  'wife ',\\n        'spouse ', 'Partner ' , 'FIANCEE', 'Fiancee',  'HUSBAND ',  'FIANCE', \\n        'wIFE', 'PARTNER',  'Domestic Partner', 'PATNER', 'Fiance ', 'PARTNER ',  'hUSBAND',  'Boyfriend ',\\n        'WIFE ', 'fiancee', 'JOINT PARTNER', 'Fiancé ' , 'Husband/spouse', 'SPOUCE',  'Patner', 'Spouce',  \\n        'Fiance', 'BOYFRIEND', 'EX-WIFE',  'PARNT',  'GIRLFRIED'\\n    ],\\n    'child': [\\n        'child', 'kid', 'daughter', 'son', 'children', 'daughter33', 'doughter', 'daugther', 'doughter ',\\n        'daugther', 'son ', 'daughter ', 'child minor', 'kids', 'baby', 'infant', 'toddler', 'sonS',\\n        'minor', 'child ', 'son/sister', 'chid', 'newborn', 'son/brother', 'childnephew',\\n        'chils', 'chiLD', 'kID', 'dau`', 'daugher', 'childnephew', 'my son','child', 'son', 'dau', \\n        'daughter', 'daughter33', 'my son', 'infant', 'childnephew', 'kids', 'baby', 'ChiLD', 'CHID',\\n        'sON', 'cHILS', 'CHID', 'CHIILD', 'KID', 'FOSTER' 'DAUGHTER', 'CHILD MINOR', 'MINOR', 'CHILDREN', \\n        'SOM', 'CHILDREN', 'JUNIOR', 'BABY',  'CHIL', 'DAUGHTER/CHILDDAUGHER', 'CHILF', 'DOUGHTER', 'DAIGHTER', \\n        'DAUGHTE', 'DAUGHETR', 'S0N','MYSON','child','CHILD','Child ','DAUGHTER/CHILD','child ','CHILD MINOR',\\n        'CHILD ','children','CHILDREN','ChILD','ChiLD'\\n    ],\\n    'parent': [\\n        'mother', 'mom', 'mum', 'father', 'dad', 'parent', 'parents', 'mother ', 'father ', 'mOTHER',\\n        'dad ', 'mum ', 'mom ', 'mummy', 'daddy', 'papa', 'mama', 'mother in law', 'father in law',\\n        'mothers', 'fathers', 'moms', 'mums', 'father-in-law', 'mother-in-law', 'mommy', 'dadi', 'momi',\\n        'parent ', 'mother to son', 'mother of child', 'parents', 'mother- guardian', 'father - guardian',\\n        'parentchild', 'parental', 'parenthood', 'parenting', 'mother IN LAW', 'mom in law', 'dad in law',\\n        'mum in law', 'parenting', 'fatherhood', 'motherhood', 'parent ', 'grandparent', 'step mother',\\n        'step father', 'step-mother', 'step-father','Parent', 'Parents', 'Mother', 'Mothers', 'Mom', 'Mum', \\n        'Father', 'DAD', 'Dad', 'Guardian', 'Grandmother', 'Grandfather', 'Step-mother', 'Step-father', 'Foster parent',\\n        'Mother-in-law', 'Father-in-law', 'ParentChild', 'Mama', 'Mummy', 'Dadi', 'Mother TO SON', 'PARENT', 'MOther'\\n    ],\\n    'self': [\\n        'self', 'owner', 'me', 'myself', 'self ', 'owner ', 'i', 'myself ', 'personal', 'individual',\\n        'own', 'my own', 'self-employed', 'proprietor', 'me ', 'self employed', 'self own', 'personal account',\\n        'my account', 'own account'\\n    ],\\n    'guardian': [\\n        'guardian', 'custodian', 'trustee', 'guard', 'guardian ', 'custodian ', 'trustee ', 'guard ',\\n        'legal guardian', 'guardianship', 'custodianship', 'trusteeship', 'protector', 'caregiver',\\n        'conservator','conservator', 'foster parent', 'foster guardian', 'legal custodian', 'guardian-mother', 'guardian father'\\n    ],\\n    'sibling': [\\n        'siblings', 'brother', 'sister', 'sibling', 'brother ', 'sister ', 'bro', 'sis', 'brothers', 'sisters',\\n        'sibling ', 'brother-in-law', 'sister-in-law', 'sibling in law', 'brother and sister', 'sibbling',\\n        'siBLING', 'sibblings', 'sister in law', 'brother in law', 'sister/guardian', 'sister - guardian',\\n        'sister-guardian', 'bros', 'sisses', 'step-sister', 'step-brother', 'half-sister', 'half-brother', 'broski','Sister', 'Brother ','brother', 'sister',\\n       'Sister ', 'SISTER','Sibling', 'brother ','Sibling ','SISTER ','Sistet', 'Bro', 'Sis', 'SiBLING',\\n        'SIBLING',  's0n', 'sister ''sISTER', 'sisiter', ' BROTHER','BRother', 'SisteR', 'SIS', \\n       'som',\\n       'Sister- Custodian', \\n       'SIIBLING', 'SIBLINGS','Brother and sister',\\n       'Sibbling'\\n    ],\\n    'relative': [\\n        'cousin', 'nephew', 'grand child', 'niece', 'grandmother', 'granddaughter', 'grandson', 'grandfather', 'uncles', 'aunties',\\n        'aunt', 'uncle', 'granny', 'grandparent', 'grand child', 'relative', 'relatives', 'cousins', 'uncles',\\n        'aunties', 'aunts', 'grandparents', 'great grandmother', 'great grandfather', 'grand children', 'extended family',\\n        'grandmother ', 'grandfather ', 'nephew ', 'niece ', 'cousin ', 'aunt ', 'uncle ', 'granny ', 'granddaughter ',\\n        'grandson ', 'grandchild', 'grandchild ', 'grandchildren', 'grandkids', 'great grandparent', 'ancestors', 'descendants',\\n        'kin', 'kinship', 'next of kin', 'in-laws', 'inlaw', 'in laws', 'extended relatives', 'b inlaw', 'in law','family tree', 'Cousin', ' Grand daughter', 'Nephew', 'NIECE', 'Niece', 'AUNT', 'relative', 'AUNTIE', 'B INLAW', 'COUSIN', 'aunt', 'UNCLE', 'GRAND SON', 'Nephew ', 'Cousin ', 'nephew', 'GRAND DAUGHTER', 'Niece ', 'granddaughter', 'grandson', 'RELATIVE', 'Daughter-in-law ', 'GRANDMOTHER', 'Relative ', 'uncle',\\n'NEPHEW', 'Grand daughter', 'DAUGHTER-IN-LAW', 'COUSN', 'Uncle', 'Granddaughter ', 'Aunt ', 'cousin', 'GRANDSON ', 'uncle ', 'AUNTY', 'FATHER-IN-LAW', 'GRAND FATHER', 'DGRAND DAUGHTER', 'GRAND MOTHER', 'UN,CLE', 'GRAND CHILD', 'Sister in law', 'Grand Daughter', 'GRANDDAUGTER', 'NiecE', 'Brother-IN-LAW', 'Grand mother', 'GRANDFATHER', 'Daughter in law', 'Sister-IN-LAW', 'GRAND-DAUGHTER', 'GRANNY', \\n'GRANDCHILD', 'Aunty', 'Cousins', 'Cousins ', 'Auntie', 'GRANDPA', 'Brother in Law', 'IN LAW', 'Granddaughter', 'niece', 'Grand Son', 'Sister-in law', 'CLOUSIN', 'GRANSON', 'Sister IN LAW', 'Brother-in-law', 'Sister-Inlaw', 'Brother in law', 'GRAND-MOTHER', 'Grand-mother', 'Mother-in-law', 'SISTER IN LAW ', 'Grand mother ', 'Childnephew', 'Grand daughter ', 'auntie', 'In law', 'Sister in-law', 'Aunty '\\n    ],\\n    'friends': ['friend','closefriend', 'confidant', 'friend ',\\n        'peers', 'acquaintance', 'comrade', 'pal', 'buddy', 'mate', 'fellow', 'ally', 'supporter',\\n        'confidante', 'friend of the family', 'family friend',\\n        'peer', 'companion', 'companions'\\n    ],\\n    'professional':['colleague', 'coworker', 'partner in law',\\n        'associate', 'advisor', 'mentor', 'colleague ', 'coworker ',\\n        'associate ', 'colleague', 'professional', 'mentor', 'adviser', 'counselor', 'legal representative', 'executor', 'business partner',\\n        'co-worker', 'workmate', 'teammate',\\n        'partner in business', 'business associate', 'collaborator', 'collegue','estate'\\n    ],\\n    'other': ['spiritual advisor','sponsor'\\n    ]\\n}\\n\\n# Function to apply the mapping\\ndef map_relationship(value):\\n    for category, keywords in relationship_map.items():\\n        if any(keyword == value for keyword in keywords):\\n            return category\\n    return 'other'  # Default category if no matches found\\n\\n# Apply the mapping function to the 'relationship' column\\ndf['relationship'] = df['relationship'].apply(map_relationship)\\n\\n# Show the value counts of each category\\nprint(df['relationship'].value_counts())\"}, {'cell_type': 'code', 'execution_count': 23, 'metadata': {}, 'outputs': [{'data': {'text/plain': \"Index(['member_no', 'dob', 'gender', 'town', 'relationship', 'beneficiery_dob',\\n       'portfolio'],\\n      dtype='object')\"}, 'execution_count': 23, 'metadata': {}, 'output_type': 'execute_result'}], 'source': '#checking the columns in the dataframe\\ndf.columns'}, {'cell_type': 'code', 'execution_count': 24, 'metadata': {}, 'outputs': [{'data': {'text/plain': 'Female    83178\\nMale      42480\\nF            92\\nM            48\\nMALE          4\\nFEMALE        4\\nName: gender, dtype: int64'}, 'execution_count': 24, 'metadata': {}, 'output_type': 'execute_result'}], 'source': '#inspecting the value_counts in the gender column\\ndf.gender.value_counts()'}, {'cell_type': 'code', 'execution_count': 25, 'metadata': {}, 'outputs': [{'data': {'text/plain': '82'}, 'execution_count': 25, 'metadata': {}, 'output_type': 'execute_result'}], 'source': '#checking for null values\\ndf.gender.isna().sum()'}, {'cell_type': 'code', 'execution_count': 26, 'metadata': {}, 'outputs': [{'data': {'text/plain': '0'}, 'execution_count': 26, 'metadata': {}, 'output_type': 'execute_result'}], 'source': \"#fill the null values with the 'Female' gender\\ndf['gender']=df.gender.fillna('Female')\\ndf['gender'].isna().sum()\"}, {'cell_type': 'markdown', 'metadata': {}, 'source': 'To standardize entries in the gender column, we create a dictionary to map various formats of \"Male\" and \"Female\" into consistent labels. This step ensures uniformity across the dataset, which is essential for accurate analysis.\\n\\nThe process involves:\\n\\nDefining a gender_map dictionary where different versions of \"Male\" and \"Female\" are assigned to a single, standardized label.\\nUsing the replace function to apply this mapping to the gender column and store the cleaned values in a new column, gender_mapped.\\nThis streamlined approach produces a clean and uniform gender_mapped column ready for analysis.'}, {'cell_type': 'code', 'execution_count': 27, 'metadata': {}, 'outputs': [], 'source': \"gender_map = {\\n    'Female':'Female','F':'Female','FEMALE':'Female',\\n    'Male':'Male','M':'Male','MALE':'Male',\\n}\\n\\ndf['gender_mapped'] = df['gender'].replace(gender_map)\"}, {'cell_type': 'code', 'execution_count': 28, 'metadata': {}, 'outputs': [{'data': {'text/html': '<div>\\n<style scoped>\\n    .dataframe tbody tr th:only-of-type {\\n        vertical-align: middle;\\n    }\\n\\n    .dataframe tbody tr th {\\n        vertical-align: top;\\n    }\\n\\n    .dataframe thead th {\\n        text-align: right;\\n    }\\n</style>\\n<table border=\"1\" class=\"dataframe\">\\n  <thead>\\n    <tr style=\"text-align: right;\">\\n      <th></th>\\n      <th>member_no</th>\\n      <th>dob</th>\\n      <th>gender</th>\\n      <th>town</th>\\n      <th>relationship</th>\\n      <th>beneficiery_dob</th>\\n      <th>portfolio</th>\\n      <th>gender_mapped</th>\\n    </tr>\\n  </thead>\\n  <tbody>\\n    <tr>\\n      <th>0</th>\\n      <td>99996</td>\\n      <td>1998-04-06 00:00:00</td>\\n      <td>Female</td>\\n      <td>NAIROBI</td>\\n      <td>partner</td>\\n      <td>1998-01-26</td>\\n      <td>Money Market</td>\\n      <td>Female</td>\\n    </tr>\\n    <tr>\\n      <th>14</th>\\n      <td>99996</td>\\n      <td>1998-04-06 00:00:00</td>\\n      <td>Female</td>\\n      <td>NAIROBI</td>\\n      <td>sibling</td>\\n      <td>2001-03-04</td>\\n      <td>Money Market</td>\\n      <td>Female</td>\\n    </tr>\\n    <tr>\\n      <th>28</th>\\n      <td>99994</td>\\n      <td>1966-01-01 00:00:00</td>\\n      <td>Female</td>\\n      <td>NaN</td>\\n      <td>partner</td>\\n      <td>1962-01-01</td>\\n      <td>Money Market</td>\\n      <td>Female</td>\\n    </tr>\\n    <tr>\\n      <th>40</th>\\n      <td>99993</td>\\n      <td>1974-01-01 00:00:00</td>\\n      <td>Female</td>\\n      <td>NAIROBI</td>\\n      <td>partner</td>\\n      <td>1970-09-29</td>\\n      <td>Money Market</td>\\n      <td>Female</td>\\n    </tr>\\n    <tr>\\n      <th>70</th>\\n      <td>99993</td>\\n      <td>1974-01-01 00:00:00</td>\\n      <td>Female</td>\\n      <td>NAIROBI</td>\\n      <td>child</td>\\n      <td>1994-01-01</td>\\n      <td>Money Market</td>\\n      <td>Female</td>\\n    </tr>\\n  </tbody>\\n</table>\\n</div>', 'text/plain': '    member_no                  dob  gender     town relationship  \\\\\\n0       99996  1998-04-06 00:00:00  Female  NAIROBI      partner   \\n14      99996  1998-04-06 00:00:00  Female  NAIROBI      sibling   \\n28      99994  1966-01-01 00:00:00  Female      NaN      partner   \\n40      99993  1974-01-01 00:00:00  Female  NAIROBI      partner   \\n70      99993  1974-01-01 00:00:00  Female  NAIROBI        child   \\n\\n   beneficiery_dob     portfolio gender_mapped  \\n0       1998-01-26  Money Market        Female  \\n14      2001-03-04  Money Market        Female  \\n28      1962-01-01  Money Market        Female  \\n40      1970-09-29  Money Market        Female  \\n70      1994-01-01  Money Market        Female  '}, 'execution_count': 28, 'metadata': {}, 'output_type': 'execute_result'}], 'source': '#inspecting the cleaned df\\ndf.head()'}, {'cell_type': 'code', 'execution_count': 29, 'metadata': {}, 'outputs': [{'data': {'text/plain': '1962-01-01             541\\n1960-01-01             360\\n1968-01-01             320\\n1974-01-01             311\\n1970-01-01             311\\n                      ... \\n1998-10-25               1\\n1945-12-11               1\\n1965-07-11               1\\n1974-04-23 00:00:00      1\\n1968-09-25               1\\nName: dob, Length: 19092, dtype: int64'}, 'execution_count': 29, 'metadata': {}, 'output_type': 'execute_result'}], 'source': '#age distribution based on dob(date of birth)\\ndf.dob.value_counts()'}, {'cell_type': 'code', 'execution_count': 30, 'metadata': {}, 'outputs': [{'data': {'text/plain': '1899-12-30             1854\\n1962-01-01              584\\n1970-01-01              562\\n1960-01-01              488\\n1963-01-01              475\\n                       ... \\n1949-09-04                1\\n1962-11-25 00:00:00       1\\n2006-05-23 00:00:00       1\\n2000-02-08 00:00:00       1\\n1979-04-24                1\\nName: beneficiery_dob, Length: 27488, dtype: int64'}, 'execution_count': 30, 'metadata': {}, 'output_type': 'execute_result'}], 'source': '#age distribution based on beneficiary_dob(date of birth)\\ndf.beneficiery_dob.value_counts()'}, {'cell_type': 'code', 'execution_count': 31, 'metadata': {}, 'outputs': [{'data': {'text/plain': '0'}, 'execution_count': 31, 'metadata': {}, 'output_type': 'execute_result'}], 'source': \"#fill with the modal age\\ndf['dob'] = df.dob.fillna('1962-01-01')\\ndf.dob.isna().sum()\"}, {'cell_type': 'markdown', 'metadata': {}, 'source': '---\\n\\nTo compute ages from the dates of birth in our dataset, we:\\n\\n1. **Convert Dates of Birth:** The `dob` and `beneficiery_dob` columns are first converted to datetime format to ensure proper date handling. If a date cannot be converted, it is set to `NaT` (missing).\\n  \\n2. **Define Age Calculation Function:** A helper function, `calculate_age`, computes the age by subtracting the birth year from the current year and adjusting for birthdays that have not yet occurred this year.\\n\\n3. **Apply Function to Columns:** The function is applied to both `dob` and `beneficiery_dob` to create two new columns: `member_age` and `beneficiery_age`, which store the calculated ages.\\n\\nFinally, the resulting columns are previewed to verify successful age computation.'}, {'cell_type': 'code', 'execution_count': 32, 'metadata': {}, 'outputs': [{'name': 'stdout', 'output_type': 'stream', 'text': '          dob  member_age beneficiery_dob  beneficiery_age\\n0  1998-04-06          26      1998-01-26             26.0\\n14 1998-04-06          26      2001-03-04             23.0\\n28 1966-01-01          58      1962-01-01             62.0\\n40 1974-01-01          50      1970-09-29             54.0\\n70 1974-01-01          50      1994-01-01             30.0\\n'}], 'source': \"# Convert the dob column to datetime format\\ndf['dob'] = pd.to_datetime(df['dob'], errors='coerce')\\n\\n# Function to calculate age\\ndef calculate_age(birth_date):\\n    if pd.isnull(birth_date):\\n        return None\\n    today = datetime.today()\\n    return today.year - birth_date.year - ((today.month, today.day) < (birth_date.month, birth_date.day))\\n\\n# Apply the function to calculate member age\\ndf['member_age'] = df['dob'].apply(calculate_age)\\n\\n# Convert beneficiery_dob column to datetime and calculate beneficiary age similarly\\ndf['beneficiery_dob'] = pd.to_datetime(df['beneficiery_dob'], errors='coerce')\\ndf['beneficiery_age'] = df['beneficiery_dob'].apply(calculate_age)\\n\\n# Check results\\nprint(df[['dob', 'member_age', 'beneficiery_dob', 'beneficiery_age']].head())\"}, {'cell_type': 'code', 'execution_count': 33, 'metadata': {}, 'outputs': [{'data': {'text/plain': 'count    111951.000000\\nmean         37.953506\\nstd          22.108664\\nmin        -178.000000\\n25%          24.000000\\n50%          36.000000\\n75%          53.000000\\nmax         329.000000\\nName: beneficiery_age, dtype: float64'}, 'execution_count': 33, 'metadata': {}, 'output_type': 'execute_result'}], 'source': \"# Display summary statistics for the 'beneficiery_age' column to understand the age distribution of beneficiaries\\ndf.beneficiery_age.describe()\"}, {'cell_type': 'code', 'execution_count': 34, 'metadata': {}, 'outputs': [{'data': {'text/plain': 'Money Market     119710\\nEquity Fund        2014\\nDollar Fund        1480\\nBalanced Fund      1180\\nFixed Income       1101\\nWealth Fund         398\\nMoneyMarket           1\\nName: portfolio, dtype: int64'}, 'execution_count': 34, 'metadata': {}, 'output_type': 'execute_result'}], 'source': '#display the portfolio allocation \\ndf.portfolio.value_counts()'}, {'cell_type': 'code', 'execution_count': 35, 'metadata': {}, 'outputs': [{'data': {'text/plain': '0'}, 'execution_count': 35, 'metadata': {}, 'output_type': 'execute_result'}], 'source': \"#fill with the mode\\ndf['portfolio']=df.portfolio.fillna('Money Market')\\ndf.portfolio.isna().sum()\"}, {'cell_type': 'markdown', 'metadata': {}, 'source': '---\\n\\n1. **Portfolio Mapping:** It defines a dictionary (`portfolio_map`) that standardizes various portfolio names in the `portfolio` column. For instance, entries like \"Money Mrket\" and \"MoneyMarket\" are all mapped to \"Money Market,\" ensuring consistency across the dataset.\\n\\n2. **Replace Portfolio Values:** The `replace` function is then applied to the `portfolio` column, replacing any of the portfolio variations with their standardized labels as defined in the `portfolio_map` dictionary.\\n\\n3. **Create New Column:** The standardized portfolio names are saved in a new column, `portfolio_map`, in the dataframe.\\n\\n'}, {'cell_type': 'code', 'execution_count': 36, 'metadata': {}, 'outputs': [], 'source': \"#clean up the portfolio column\\nportfolio_map ={\\n    'Money Mrket':'Money Market','MoneyMarket':'Money Market',\\n    'Equity Fund':'Equity Fund',\\n    'Dollar Fund':'Dollar Fund',\\n    'Balanced Fund':'Balanced Fund',\\n    'Fixed Income':'Fixed Income',\\n    'Wealth Fund':'Wealth Fund',\\n}\\ndf['portfolio_map'] = df['portfolio'].replace(portfolio_map)\"}, {'cell_type': 'code', 'execution_count': 37, 'metadata': {}, 'outputs': [{'data': {'text/html': '<div>\\n<style scoped>\\n    .dataframe tbody tr th:only-of-type {\\n        vertical-align: middle;\\n    }\\n\\n    .dataframe tbody tr th {\\n        vertical-align: top;\\n    }\\n\\n    .dataframe thead th {\\n        text-align: right;\\n    }\\n</style>\\n<table border=\"1\" class=\"dataframe\">\\n  <thead>\\n    <tr style=\"text-align: right;\">\\n      <th></th>\\n      <th>member_no</th>\\n      <th>dob</th>\\n      <th>gender</th>\\n      <th>town</th>\\n      <th>relationship</th>\\n      <th>beneficiery_dob</th>\\n      <th>portfolio</th>\\n      <th>gender_mapped</th>\\n      <th>member_age</th>\\n      <th>beneficiery_age</th>\\n      <th>portfolio_map</th>\\n    </tr>\\n  </thead>\\n  <tbody>\\n    <tr>\\n      <th>0</th>\\n      <td>99996</td>\\n      <td>1998-04-06</td>\\n      <td>Female</td>\\n      <td>NAIROBI</td>\\n      <td>partner</td>\\n      <td>1998-01-26</td>\\n      <td>Money Market</td>\\n      <td>Female</td>\\n      <td>26</td>\\n      <td>26.0</td>\\n      <td>Money Market</td>\\n    </tr>\\n    <tr>\\n      <th>14</th>\\n      <td>99996</td>\\n      <td>1998-04-06</td>\\n      <td>Female</td>\\n      <td>NAIROBI</td>\\n      <td>sibling</td>\\n      <td>2001-03-04</td>\\n      <td>Money Market</td>\\n      <td>Female</td>\\n      <td>26</td>\\n      <td>23.0</td>\\n      <td>Money Market</td>\\n    </tr>\\n    <tr>\\n      <th>28</th>\\n      <td>99994</td>\\n      <td>1966-01-01</td>\\n      <td>Female</td>\\n      <td>NaN</td>\\n      <td>partner</td>\\n      <td>1962-01-01</td>\\n      <td>Money Market</td>\\n      <td>Female</td>\\n      <td>58</td>\\n      <td>62.0</td>\\n      <td>Money Market</td>\\n    </tr>\\n    <tr>\\n      <th>40</th>\\n      <td>99993</td>\\n      <td>1974-01-01</td>\\n      <td>Female</td>\\n      <td>NAIROBI</td>\\n      <td>partner</td>\\n      <td>1970-09-29</td>\\n      <td>Money Market</td>\\n      <td>Female</td>\\n      <td>50</td>\\n      <td>54.0</td>\\n      <td>Money Market</td>\\n    </tr>\\n    <tr>\\n      <th>70</th>\\n      <td>99993</td>\\n      <td>1974-01-01</td>\\n      <td>Female</td>\\n      <td>NAIROBI</td>\\n      <td>child</td>\\n      <td>1994-01-01</td>\\n      <td>Money Market</td>\\n      <td>Female</td>\\n      <td>50</td>\\n      <td>30.0</td>\\n      <td>Money Market</td>\\n    </tr>\\n  </tbody>\\n</table>\\n</div>', 'text/plain': '    member_no        dob  gender     town relationship beneficiery_dob  \\\\\\n0       99996 1998-04-06  Female  NAIROBI      partner      1998-01-26   \\n14      99996 1998-04-06  Female  NAIROBI      sibling      2001-03-04   \\n28      99994 1966-01-01  Female      NaN      partner      1962-01-01   \\n40      99993 1974-01-01  Female  NAIROBI      partner      1970-09-29   \\n70      99993 1974-01-01  Female  NAIROBI        child      1994-01-01   \\n\\n       portfolio gender_mapped  member_age  beneficiery_age portfolio_map  \\n0   Money Market        Female          26             26.0  Money Market  \\n14  Money Market        Female          26             23.0  Money Market  \\n28  Money Market        Female          58             62.0  Money Market  \\n40  Money Market        Female          50             54.0  Money Market  \\n70  Money Market        Female          50             30.0  Money Market  '}, 'execution_count': 37, 'metadata': {}, 'output_type': 'execute_result'}], 'source': '#check the new_df\\ndf.head()'}, {'cell_type': 'code', 'execution_count': 38, 'metadata': {}, 'outputs': [{'data': {'text/plain': '15026'}, 'execution_count': 38, 'metadata': {}, 'output_type': 'execute_result'}], 'source': '#inspecting the null values in the town column\\ndf.town.isna().sum()'}, {'cell_type': 'code', 'execution_count': 39, 'metadata': {}, 'outputs': [{'data': {'text/plain': 'NAIROBI        56997\\nNairobi        10261\\nTHIKA           3000\\nNAKURU          2608\\nMOMBASA         2440\\n               ...  \\nnarumoru           1\\nMASII              1\\nHola               1\\nMUTOMO             1\\nKisii Town         1\\nName: town, Length: 973, dtype: int64'}, 'execution_count': 39, 'metadata': {}, 'output_type': 'execute_result'}], 'source': '#inspecting the value_counts in the town column\\ndf.town.value_counts()'}, {'cell_type': 'code', 'execution_count': 40, 'metadata': {}, 'outputs': [{'data': {'text/plain': '0'}, 'execution_count': 40, 'metadata': {}, 'output_type': 'execute_result'}], 'source': \"#fill the null values with unknown\\ndf['town'] = df.town.fillna('Unknown')\\ndf.town.isna().sum()\"}, {'cell_type': 'code', 'execution_count': 41, 'metadata': {}, 'outputs': [{'data': {'text/html': '<div>\\n<style scoped>\\n    .dataframe tbody tr th:only-of-type {\\n        vertical-align: middle;\\n    }\\n\\n    .dataframe tbody tr th {\\n        vertical-align: top;\\n    }\\n\\n    .dataframe thead th {\\n        text-align: right;\\n    }\\n</style>\\n<table border=\"1\" class=\"dataframe\">\\n  <thead>\\n    <tr style=\"text-align: right;\">\\n      <th></th>\\n      <th>member_no</th>\\n      <th>dob</th>\\n      <th>gender</th>\\n      <th>town</th>\\n      <th>relationship</th>\\n      <th>beneficiery_dob</th>\\n      <th>portfolio</th>\\n      <th>gender_mapped</th>\\n      <th>member_age</th>\\n      <th>beneficiery_age</th>\\n      <th>portfolio_map</th>\\n    </tr>\\n  </thead>\\n  <tbody>\\n    <tr>\\n      <th>0</th>\\n      <td>99996</td>\\n      <td>1998-04-06</td>\\n      <td>Female</td>\\n      <td>NAIROBI</td>\\n      <td>partner</td>\\n      <td>1998-01-26</td>\\n      <td>Money Market</td>\\n      <td>Female</td>\\n      <td>26</td>\\n      <td>26.0</td>\\n      <td>Money Market</td>\\n    </tr>\\n    <tr>\\n      <th>14</th>\\n      <td>99996</td>\\n      <td>1998-04-06</td>\\n      <td>Female</td>\\n      <td>NAIROBI</td>\\n      <td>sibling</td>\\n      <td>2001-03-04</td>\\n      <td>Money Market</td>\\n      <td>Female</td>\\n      <td>26</td>\\n      <td>23.0</td>\\n      <td>Money Market</td>\\n    </tr>\\n    <tr>\\n      <th>28</th>\\n      <td>99994</td>\\n      <td>1966-01-01</td>\\n      <td>Female</td>\\n      <td>Unknown</td>\\n      <td>partner</td>\\n      <td>1962-01-01</td>\\n      <td>Money Market</td>\\n      <td>Female</td>\\n      <td>58</td>\\n      <td>62.0</td>\\n      <td>Money Market</td>\\n    </tr>\\n    <tr>\\n      <th>40</th>\\n      <td>99993</td>\\n      <td>1974-01-01</td>\\n      <td>Female</td>\\n      <td>NAIROBI</td>\\n      <td>partner</td>\\n      <td>1970-09-29</td>\\n      <td>Money Market</td>\\n      <td>Female</td>\\n      <td>50</td>\\n      <td>54.0</td>\\n      <td>Money Market</td>\\n    </tr>\\n    <tr>\\n      <th>70</th>\\n      <td>99993</td>\\n      <td>1974-01-01</td>\\n      <td>Female</td>\\n      <td>NAIROBI</td>\\n      <td>child</td>\\n      <td>1994-01-01</td>\\n      <td>Money Market</td>\\n      <td>Female</td>\\n      <td>50</td>\\n      <td>30.0</td>\\n      <td>Money Market</td>\\n    </tr>\\n  </tbody>\\n</table>\\n</div>', 'text/plain': '    member_no        dob  gender     town relationship beneficiery_dob  \\\\\\n0       99996 1998-04-06  Female  NAIROBI      partner      1998-01-26   \\n14      99996 1998-04-06  Female  NAIROBI      sibling      2001-03-04   \\n28      99994 1966-01-01  Female  Unknown      partner      1962-01-01   \\n40      99993 1974-01-01  Female  NAIROBI      partner      1970-09-29   \\n70      99993 1974-01-01  Female  NAIROBI        child      1994-01-01   \\n\\n       portfolio gender_mapped  member_age  beneficiery_age portfolio_map  \\n0   Money Market        Female          26             26.0  Money Market  \\n14  Money Market        Female          26             23.0  Money Market  \\n28  Money Market        Female          58             62.0  Money Market  \\n40  Money Market        Female          50             54.0  Money Market  \\n70  Money Market        Female          50             30.0  Money Market  '}, 'execution_count': 41, 'metadata': {}, 'output_type': 'execute_result'}], 'source': 'df.head()'}, {'cell_type': 'code', 'execution_count': 42, 'metadata': {}, 'outputs': [{'data': {'text/html': '<div>\\n<style scoped>\\n    .dataframe tbody tr th:only-of-type {\\n        vertical-align: middle;\\n    }\\n\\n    .dataframe tbody tr th {\\n        vertical-align: top;\\n    }\\n\\n    .dataframe thead th {\\n        text-align: right;\\n    }\\n</style>\\n<table border=\"1\" class=\"dataframe\">\\n  <thead>\\n    <tr style=\"text-align: right;\">\\n      <th></th>\\n      <th>member_no</th>\\n      <th>town</th>\\n      <th>relationship</th>\\n      <th>gender_mapped</th>\\n      <th>member_age</th>\\n      <th>beneficiery_age</th>\\n      <th>portfolio_map</th>\\n    </tr>\\n  </thead>\\n  <tbody>\\n    <tr>\\n      <th>0</th>\\n      <td>99996</td>\\n      <td>NAIROBI</td>\\n      <td>partner</td>\\n      <td>Female</td>\\n      <td>26</td>\\n      <td>26.0</td>\\n      <td>Money Market</td>\\n    </tr>\\n    <tr>\\n      <th>14</th>\\n      <td>99996</td>\\n      <td>NAIROBI</td>\\n      <td>sibling</td>\\n      <td>Female</td>\\n      <td>26</td>\\n      <td>23.0</td>\\n      <td>Money Market</td>\\n    </tr>\\n    <tr>\\n      <th>28</th>\\n      <td>99994</td>\\n      <td>Unknown</td>\\n      <td>partner</td>\\n      <td>Female</td>\\n      <td>58</td>\\n      <td>62.0</td>\\n      <td>Money Market</td>\\n    </tr>\\n    <tr>\\n      <th>40</th>\\n      <td>99993</td>\\n      <td>NAIROBI</td>\\n      <td>partner</td>\\n      <td>Female</td>\\n      <td>50</td>\\n      <td>54.0</td>\\n      <td>Money Market</td>\\n    </tr>\\n    <tr>\\n      <th>70</th>\\n      <td>99993</td>\\n      <td>NAIROBI</td>\\n      <td>child</td>\\n      <td>Female</td>\\n      <td>50</td>\\n      <td>30.0</td>\\n      <td>Money Market</td>\\n    </tr>\\n  </tbody>\\n</table>\\n</div>', 'text/plain': '    member_no     town relationship gender_mapped  member_age  \\\\\\n0       99996  NAIROBI      partner        Female          26   \\n14      99996  NAIROBI      sibling        Female          26   \\n28      99994  Unknown      partner        Female          58   \\n40      99993  NAIROBI      partner        Female          50   \\n70      99993  NAIROBI        child        Female          50   \\n\\n    beneficiery_age portfolio_map  \\n0              26.0  Money Market  \\n14             23.0  Money Market  \\n28             62.0  Money Market  \\n40             54.0  Money Market  \\n70             30.0  Money Market  '}, 'execution_count': 42, 'metadata': {}, 'output_type': 'execute_result'}], 'source': \"# Drop unnecessary columns ('dob', 'gender', 'portfolio', 'beneficiery_dob') from the dataframe\\nnew_df=df.drop(columns=['dob','gender','portfolio','beneficiery_dob'])\\nnew_df.head()\"}, {'cell_type': 'code', 'execution_count': 43, 'metadata': {}, 'outputs': [], 'source': \"#fill null values with the mode\\nnew_df['member_age'].fillna(new_df['member_age'].mode()[0], inplace=True)\\nnew_df['beneficiery_age'].fillna(new_df['beneficiery_age'].mode()[0], inplace=True)\"}, {'cell_type': 'code', 'execution_count': 44, 'metadata': {}, 'outputs': [], 'source': \"# Set reasonable age bounds\\nlower_bound = 0\\nupper_bound = 100\\n\\n# Create a copy of original ages for comparison if needed\\noriginal_ages = new_df['beneficiery_age'].copy()\\n\\n# Replace outliers by clipping to bounds\\nnew_df['beneficiery_age'] = new_df['beneficiery_age'].clip(lower=lower_bound, upper=upper_bound)\"}, {'cell_type': 'markdown', 'metadata': {}, 'source': '## DATA VISUALIZATION'}, {'cell_type': 'code', 'execution_count': 45, 'metadata': {}, 'outputs': [{'data': {'image/png': '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', 'text/plain': '<Figure size 720x432 with 1 Axes>'}, 'metadata': {'needs_background': 'light'}, 'output_type': 'display_data'}], 'source': \"average_age = new_df.groupby('portfolio_map')['member_age'].mean().reset_index()\\n\\nplt.figure(figsize=(10, 6))\\nsns.barplot(x='portfolio_map', y='member_age', data=average_age)\\nplt.title('Average Age by Portfolio Map')\\nplt.xlabel('Portfolio Map')\\nplt.ylabel('Average Age')\\nplt.show()\\n\"}, {'cell_type': 'markdown', 'metadata': {}, 'source': 'The output is a bar plot showing the average age for each portfolio type.\\nEach bar represents the average age of members who belong to that specific portfolio, allowing you to quickly compare the average ages across different portfolio categories.\\nThe resulting plot gives insights into the age distribution for each portfolio, highlighting which portfolios are associated with older or younger members.'}, {'cell_type': 'code', 'execution_count': 46, 'metadata': {}, 'outputs': [{'data': {'text/plain': \"Index(['member_no', 'town', 'relationship', 'gender_mapped', 'member_age',\\n       'beneficiery_age', 'portfolio_map'],\\n      dtype='object')\"}, 'execution_count': 46, 'metadata': {}, 'output_type': 'execute_result'}], 'source': '#check columns\\nnew_df.columns'}, {'cell_type': 'code', 'execution_count': 47, 'metadata': {}, 'outputs': [], 'source': \"#convert the cleaned data to csv\\nnew_df.to_csv('cleaned_data.csv', index=False)\"}, {'cell_type': 'code', 'execution_count': 48, 'metadata': {}, 'outputs': [{'name': 'stdout', 'output_type': 'stream', 'text': \"<class 'pandas.core.frame.DataFrame'>\\nInt64Index: 125888 entries, 0 to 7532842\\nData columns (total 7 columns):\\n #   Column           Non-Null Count   Dtype  \\n---  ------           --------------   -----  \\n 0   member_no        125888 non-null  int64  \\n 1   town             125888 non-null  object \\n 2   relationship     125888 non-null  object \\n 3   gender_mapped    125888 non-null  object \\n 4   member_age       125888 non-null  int64  \\n 5   beneficiery_age  125888 non-null  float64\\n 6   portfolio_map    125888 non-null  object \\ndtypes: float64(1), int64(2), object(4)\\nmemory usage: 7.7+ MB\\n\"}], 'source': '#inspecting the preprocessed dataframe\\nnew_df.info()'}, {'cell_type': 'code', 'execution_count': 49, 'metadata': {}, 'outputs': [{'data': {'image/png': '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', 'text/plain': '<Figure size 576x432 with 1 Axes>'}, 'metadata': {'needs_background': 'light'}, 'output_type': 'display_data'}], 'source': \"plt.figure(figsize=(8, 6))\\nsns.countplot(data=new_df, x='gender_mapped', palette='viridis')\\nplt.title('Male vs Female Count in Gender Mapped')\\nplt.xlabel('Gender')\\nplt.ylabel('Count')\\nplt.show()\"}, {'cell_type': 'markdown', 'metadata': {}, 'source': 'This plot gives a clear visual comparison of how many male and female entries are present in the dataset after the gender mapping process.\\nThe resulting plot allows for an easy comparison of the number of male versus female entries in the dataset, making it visually straightforward to assess gender distribution.'}, {'cell_type': 'code', 'execution_count': 50, 'metadata': {}, 'outputs': [{'data': {'image/png': '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', 'text/plain': '<Figure size 720x432 with 1 Axes>'}, 'metadata': {'needs_background': 'light'}, 'output_type': 'display_data'}], 'source': \"plt.figure(figsize=(10, 6))\\nsns.countplot(data=new_df, x='gender_mapped', hue='portfolio_map', palette='viridis')\\nplt.title('Gender vs Portfolio Map')\\nplt.xlabel('Gender')\\nplt.ylabel('Count')\\nplt.legend(title='Portfolio Map')\\nplt.show()\"}, {'cell_type': 'markdown', 'metadata': {}, 'source': 'This plot provides a clear visual comparison of how genders are distributed across different portfolio categories, helping to understand the intersection of gender and portfolio preferences. It allows you to see if certain portfolio types are more favored by one gender over the other or if the distribution is relatively balanced.'}, {'cell_type': 'code', 'execution_count': 51, 'metadata': {}, 'outputs': [{'data': {'image/png': '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', 'text/plain': '<Figure size 720x720 with 1 Axes>'}, 'metadata': {}, 'output_type': 'display_data'}], 'source': \"age_bins = [0, 18, 30, 45, 60, 100]\\nage_labels = ['0-18', '19-30', '31-45', '46-60', '60+']\\nnew_df['age_group'] = pd.cut(new_df['member_age'], bins=age_bins, labels=age_labels)\\nage_counts = new_df['age_group'].value_counts().sort_index()\\nplt.figure(figsize=(10, 10))\\nplt.pie(age_counts, labels=age_counts.index, autopct='%1.1f%%', startangle=140, colors=sns.color_palette('viridis'))\\nplt.title('Members Age Groups Distribution')\\nplt.show()\"}, {'cell_type': 'markdown', 'metadata': {}, 'source': 'Each segment of the pie chart represents one of these age groups.\\nThe size of each segment corresponds to the percentage of members that fall into each age group.\\nThe color palette viridis provides visually distinguishable colors for each segment.\\nThe autopct option displays the percentage of total members in each age group directly on the chart, making it easy to compare the distribution across groups.\\nThis pie chart provides a clear visual of the age distribution among the members, helping to identify which age groups are the most and least represented in the dataset.'}, {'cell_type': 'code', 'execution_count': 52, 'metadata': {}, 'outputs': [{'data': {'image/png': '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', 'text/plain': '<Figure size 720x432 with 1 Axes>'}, 'metadata': {'needs_background': 'light'}, 'output_type': 'display_data'}], 'source': \"top_10_towns = new_df['town'].value_counts().head(10)\\nplt.figure(figsize=(10, 6))\\nsns.barplot(x=top_10_towns.values, y=top_10_towns.index, palette='viridis')\\nplt.title('Top 10 Towns')\\nplt.xlabel('Count')\\nplt.ylabel('Town')\\nplt.show()\"}, {'cell_type': 'markdown', 'metadata': {}, 'source': 'overview of the most common towns in the dataset, highlighting their relative frequencies.'}, {'cell_type': 'markdown', 'metadata': {}, 'source': '## MODELING'}, {'cell_type': 'code', 'execution_count': 53, 'metadata': {}, 'outputs': [{'name': 'stdout', 'output_type': 'stream', 'text': \"<class 'pandas.core.frame.DataFrame'>\\nInt64Index: 125888 entries, 0 to 7532842\\nData columns (total 8 columns):\\n #   Column           Non-Null Count   Dtype   \\n---  ------           --------------   -----   \\n 0   member_no        125888 non-null  int64   \\n 1   town             125888 non-null  object  \\n 2   relationship     125888 non-null  object  \\n 3   gender_mapped    125888 non-null  object  \\n 4   member_age       125888 non-null  int64   \\n 5   beneficiery_age  125888 non-null  float64 \\n 6   portfolio_map    125888 non-null  object  \\n 7   age_group        125808 non-null  category\\ndtypes: category(1), float64(1), int64(2), object(4)\\nmemory usage: 12.8+ MB\\n\"}], 'source': '#inspect the new_df\\nnew_df.info()'}, {'cell_type': 'code', 'execution_count': 54, 'metadata': {}, 'outputs': [{'data': {'text/html': '<div>\\n<style scoped>\\n    .dataframe tbody tr th:only-of-type {\\n        vertical-align: middle;\\n    }\\n\\n    .dataframe tbody tr th {\\n        vertical-align: top;\\n    }\\n\\n    .dataframe thead th {\\n        text-align: right;\\n    }\\n</style>\\n<table border=\"1\" class=\"dataframe\">\\n  <thead>\\n    <tr style=\"text-align: right;\">\\n      <th></th>\\n      <th>member_no</th>\\n      <th>town</th>\\n      <th>relationship</th>\\n      <th>gender_mapped</th>\\n      <th>member_age</th>\\n      <th>beneficiery_age</th>\\n      <th>portfolio_map</th>\\n      <th>age_group</th>\\n    </tr>\\n  </thead>\\n  <tbody>\\n    <tr>\\n      <th>0</th>\\n      <td>99996</td>\\n      <td>NAIROBI</td>\\n      <td>partner</td>\\n      <td>Female</td>\\n      <td>26</td>\\n      <td>26.0</td>\\n      <td>Money Market</td>\\n      <td>19-30</td>\\n    </tr>\\n    <tr>\\n      <th>14</th>\\n      <td>99996</td>\\n      <td>NAIROBI</td>\\n      <td>sibling</td>\\n      <td>Female</td>\\n      <td>26</td>\\n      <td>23.0</td>\\n      <td>Money Market</td>\\n      <td>19-30</td>\\n    </tr>\\n    <tr>\\n      <th>28</th>\\n      <td>99994</td>\\n      <td>Unknown</td>\\n      <td>partner</td>\\n      <td>Female</td>\\n      <td>58</td>\\n      <td>62.0</td>\\n      <td>Money Market</td>\\n      <td>46-60</td>\\n    </tr>\\n    <tr>\\n      <th>40</th>\\n      <td>99993</td>\\n      <td>NAIROBI</td>\\n      <td>partner</td>\\n      <td>Female</td>\\n      <td>50</td>\\n      <td>54.0</td>\\n      <td>Money Market</td>\\n      <td>46-60</td>\\n    </tr>\\n    <tr>\\n      <th>70</th>\\n      <td>99993</td>\\n      <td>NAIROBI</td>\\n      <td>child</td>\\n      <td>Female</td>\\n      <td>50</td>\\n      <td>30.0</td>\\n      <td>Money Market</td>\\n      <td>46-60</td>\\n    </tr>\\n  </tbody>\\n</table>\\n</div>', 'text/plain': '    member_no     town relationship gender_mapped  member_age  \\\\\\n0       99996  NAIROBI      partner        Female          26   \\n14      99996  NAIROBI      sibling        Female          26   \\n28      99994  Unknown      partner        Female          58   \\n40      99993  NAIROBI      partner        Female          50   \\n70      99993  NAIROBI        child        Female          50   \\n\\n    beneficiery_age portfolio_map age_group  \\n0              26.0  Money Market     19-30  \\n14             23.0  Money Market     19-30  \\n28             62.0  Money Market     46-60  \\n40             54.0  Money Market     46-60  \\n70             30.0  Money Market     46-60  '}, 'execution_count': 54, 'metadata': {}, 'output_type': 'execute_result'}], 'source': '#check the first entries in the dataframe\\nnew_df.head()'}, {'cell_type': 'code', 'execution_count': 55, 'metadata': {}, 'outputs': [{'name': 'stderr', 'output_type': 'stream', 'text': \"<ipython-input-55-c464198fbbef>:5: SettingWithCopyWarning: \\nA value is trying to be set on a copy of a slice from a DataFrame.\\nTry using .loc[row_indexer,col_indexer] = value instead\\n\\nSee the caveats in the documentation: https://pandas.pydata.org/pandas-docs/stable/user_guide/indexing.html#returning-a-view-versus-a-copy\\n  X['features'] = X.astype(str).sum(axis=1)\\n\"}], 'source': \"\\n# Create a feature matrix combining the relevant columns\\nX = new_df[['member_age', 'beneficiery_age', 'age_group', 'gender_mapped']]\\n\\n# Convert the feature columns to a single string for each row\\nX['features'] = X.astype(str).sum(axis=1)\\n\\n# Create a TF-IDF matrix from the features\\ntfidf = TfidfVectorizer(max_features=1000)\\nX_tfidf = tfidf.fit_transform(X['features'])\\n\\n# Split the data into training and test sets\\nX_train, X_test, y_train, y_test = train_test_split(X_tfidf, new_df['portfolio_map'], test_size=0.2, random_state=42)\\n\\n\\n\"}, {'cell_type': 'code', 'execution_count': 56, 'metadata': {}, 'outputs': [{'data': {'text/plain': \"NearestNeighbors(algorithm='brute', metric='cosine')\"}, 'execution_count': 56, 'metadata': {}, 'output_type': 'execute_result'}], 'source': \"# Train the Nearest Neighbors model\\nmodel = NearestNeighbors(metric='cosine', algorithm='brute')\\nmodel.fit(X_train)\\n\\n\"}, {'cell_type': 'code', 'execution_count': 57, 'metadata': {}, 'outputs': [], 'source': \"def get_recommendations(member_features, n=5):\\n    # Get distances and indices of the nearest neighbors\\n    distances, indices = model.kneighbors(member_features, n_neighbors=n+1)\\n    \\n    # Retrieve the original portfolio information from `new_df` using indices\\n    # Exclude the first column of `indices` since it's the item itself\\n    recommended_portfolios = new_df.iloc[indices[0, 1:]]['portfolio_map'].tolist()\\n    \\n    return recommended_portfolios\"}, {'cell_type': 'code', 'execution_count': 58, 'metadata': {}, 'outputs': [{'name': 'stdout', 'output_type': 'stream', 'text': 'Accuracy: 0.82\\n'}], 'source': '\\n# Make predictions on the test set\\ny_pred = []\\nfor i in range(X_test.shape[0]):\\n    member = X_test[i].toarray()\\n    recommendations = get_recommendations(member.reshape(1, -1), n=1)\\n    y_pred.append(recommendations[0])  # Get the top recommendation\\n\\n# Calculate accuracy by comparing the predicted product to the actual product\\naccuracy = accuracy_score(y_test, y_pred)\\n\\nprint(f\"Accuracy: {accuracy:.2f}\")\\n'}, {'cell_type': 'markdown', 'metadata': {}, 'source': 'RULE BASED ADDED'}, {'cell_type': 'code', 'execution_count': 59, 'metadata': {}, 'outputs': [], 'source': 'def get_recommendations(member_features, member_no, n=5):\\n    # Fetch member\\'s details\\n    member_row = new_df.loc[new_df[\\'member_no\\'] == member_no].iloc[0]\\n    member_beneficiary_age = member_row[\\'beneficiery_age\\']\\n    member_age_group = member_row[\\'age_group\\']\\n    member_town = member_row[\\'town\\']\\n    member_gender = member_row[\\'gender_mapped\\']\\n    member_current_products = set(new_df.loc[new_df[\\'member_no\\'] == member_no, \\'portfolio_map\\'].values)\\n    \\n    recommended_products = []\\n\\n    # Rule 1: Recommend based on beneficiary age (Student and Junior Accounts)\\n    #if 18 <= member_beneficiary_age <= 25:\\n    if  member_beneficiary_age >= 18 and  member_beneficiary_age <= 25:\\n        recommended_products.append(\"Student Account\")\\n    elif member_beneficiary_age < 18:\\n        recommended_products.append(\"Junior Account\")\\n\\n    # Rule 2: Recommend popular products within the same age group\\n    age_group_products = (\\n        new_df[new_df[\\'age_group\\'] == member_age_group]\\n        .portfolio_map.value_counts()\\n        .index\\n        .tolist()\\n    )\\n    for product in age_group_products:\\n        if product not in member_current_products and product not in recommended_products:\\n            recommended_products.append(product)\\n        if len(recommended_products) >= n:\\n            return recommended_products[:n]\\n\\n    # Rule 3: Recommend popular products in the same town\\n    town_products = (\\n        new_df[new_df[\\'town\\'] == member_town]\\n        .portfolio_map.value_counts()\\n        .index\\n        .tolist()\\n    )\\n    for product in town_products:\\n        if product not in member_current_products and product not in recommended_products:\\n            recommended_products.append(product)\\n        if len(recommended_products) >= n:\\n            return recommended_products[:n]\\n        \\n    gender_products = (\\n        new_df[new_df[\\'gender_mapped\\']== member_gender]\\n        .portfolio_map.value_counts()\\n        .index\\n        .tolist()\\n    )\\n    for product in gender_products:\\n        if product not in member_current_products and product not in recommended_products:\\n            recommended_products.append(product)\\n        if len(recommended_products) >= n:\\n            return recommended_products[:n]\\n\\n    # Collaborative Filtering for Additional Recommendations\\n    distances, indices = model.kneighbors(member_features, n_neighbors=n + len(recommended_products))\\n    for index in indices[0]:\\n        product = new_df.iloc[index][\\'portfolio_map\\']\\n        if product not in member_current_products and product not in recommended_products:\\n            recommended_products.append(product)\\n        if len(recommended_products) >= n:\\n            break\\n\\n    return recommended_products[:n]\\n'}, {'cell_type': 'code', 'execution_count': 60, 'metadata': {}, 'outputs': [{'data': {'text/plain': \"Index(['member_no', 'town', 'relationship', 'gender_mapped', 'member_age',\\n       'beneficiery_age', 'portfolio_map', 'age_group'],\\n      dtype='object')\"}, 'execution_count': 60, 'metadata': {}, 'output_type': 'execute_result'}], 'source': 'new_df.columns'}, {'cell_type': 'code', 'execution_count': 61, 'metadata': {}, 'outputs': [], 'source': 'def get_recommendations_with_messages(member_features, member_no, n=5):\\n    # Fetch member\\'s details\\n    member_row = new_df.loc[new_df[\\'member_no\\'] == member_no].iloc[0]\\n    member_beneficiery_age = member_row[\\'beneficiery_age\\']\\n    member_age_group = member_row[\\'age_group\\']\\n    member_town = member_row[\\'town\\']\\n    member_gender = member_row[\\'gender_mapped\\']\\n    member_current_products = set(new_df.loc[new_df[\\'member_no\\'] == member_no, \\'portfolio_map\\'].values)\\n    \\n    recommended_products = []\\n    messages = []\\n\\n    # Rule 1: Recommend based on beneficiary age (Student and Junior Accounts)\\n    age_recommendations = []\\n    if 18.0 >= member_beneficiery_age <= 25.0:\\n        age_recommendations.append(\"Student Account\")\\n        messages.append(\\n            f\"Planning for your child\\'s future? Our Student Account is perfect for young adults aged 18-25. \"\\n            f\"Start securing their educational journey today!\"\\n        )\\n    elif member_beneficiery_age < 18.0:\\n        age_recommendations.append(\"Junior Account\")\\n        messages.append(\\n            f\"Give your child a head start with our Junior Account! It\\'s specially designed for children under 18 \"\\n            f\"to help them develop good financial habits early.\"\\n        )\\n    recommended_products.extend(age_recommendations)\\n\\n    # Rule 2: Recommend popular products within the same age group\\n    age_group_recommendations = []\\n    age_group_products = (\\n        new_df[new_df[\\'age_group\\'] == member_age_group]\\n        .portfolio_map.value_counts()\\n        .index\\n        .tolist()\\n    )\\n    for product in age_group_products:\\n        if product not in member_current_products and product not in recommended_products:\\n            age_group_recommendations.append(product)\\n        if len(recommended_products) + len(age_group_recommendations) >= n:\\n            break\\n    \\n    if age_group_recommendations:\\n        messages.append(\\n            f\"Members in your age group are enjoying these popular products: {\\', \\'.join(age_group_recommendations)}. \"\\n            f\"Join them in making smart financial choices!\"\\n        )\\n    recommended_products.extend(age_group_recommendations)\\n\\n    # Rule 3: Recommend popular products in the same town\\n    location_recommendations = []\\n    town_products = (\\n        new_df[new_df[\\'town\\'] == member_town]\\n        .portfolio_map.value_counts()\\n        .index\\n        .tolist()\\n    )\\n    for product in town_products:\\n        if product not in member_current_products and product not in recommended_products:\\n            location_recommendations.append(product)\\n        if len(recommended_products) + len(location_recommendations) >= n:\\n            break\\n    \\n    if location_recommendations:\\n        messages.append(\\n            f\"Trending in {member_town}! Your neighbors are choosing {\\', \\'.join(location_recommendations)}. \"\\n            f\"Discover why these products are popular in your community!\"\\n        )\\n    recommended_products.extend(location_recommendations)\\n\\n    # Rule 4: Gender-based recommendations\\n    gender_recommendations = []\\n    gender_products = (\\n        new_df[new_df[\\'gender_mapped\\'] == member_gender]\\n        .portfolio_map.value_counts()\\n        .index\\n        .tolist()\\n    )\\n    for product in gender_products:\\n        if product not in member_current_products and product not in recommended_products:\\n            gender_recommendations.append(product)\\n        if len(recommended_products) + len(gender_recommendations) >= n:\\n            break\\n    \\n    if gender_recommendations:\\n        gender_message = (\\n            \"Specially curated for you! \" if member_gender == \\'Female\\' else\\n            \"Join other members like you! \"\\n        )\\n        messages.append(\\n            f\"{gender_message}Discover {\\', \\'.join(gender_recommendations)} - \"\\n            f\"products that match your financial goals.\"\\n        )\\n    recommended_products.extend(gender_recommendations)\\n\\n    # Collaborative Filtering for Additional Recommendations\\n    if len(recommended_products) < n:\\n        collab_recommendations = []\\n        distances, indices = model.kneighbors(member_features, n_neighbors=n + len(recommended_products))\\n        for index in indices[0]:\\n            product = new_df.iloc[index][\\'portfolio_map\\']\\n            if product not in member_current_products and product not in recommended_products:\\n                collab_recommendations.append(product)\\n            if len(recommended_products) + len(collab_recommendations) >= n:\\n                break\\n        \\n        if collab_recommendations:\\n            messages.append(\\n                f\"Based on your profile, we think you\\'ll love {\\', \\'.join(collab_recommendations)}. \"\\n                f\"These products align perfectly with your financial journey!\"\\n            )\\n        recommended_products.extend(collab_recommendations)\\n\\n    # Final personalized message\\n    if len(recommended_products) > 0:\\n        messages.append(\\n            f\"💡 Pro tip: Adding {\\', \\'.join(recommended_products[:n])} to your portfolio \"\\n            f\"could help you achieve your financial goals faster!\"\\n        )\\n\\n    return recommended_products[:n], messages'}, {'cell_type': 'code', 'execution_count': 62, 'metadata': {}, 'outputs': [{'name': 'stdout', 'output_type': 'stream', 'text': '\\n🏦 Member Profile Analysis\\n--------------------------------------------------\\nMember ID: 99996\\nAge Group: 19-30\\nTown: NAIROBI\\nGender: Female\\nBeneficiary Age: 26.0\\n\\n📊 Recommended Products\\n--------------------------------------------------\\n1. Fixed Income\\n2. Equity Fund\\n3. Dollar Fund\\n\\n💌 Personalized Messages\\n--------------------------------------------------\\nMessage 1:\\nMembers in your age group are enjoying these popular products: Fixed Income, Equity Fund, Dollar Fund. Join them in making smart financial choices!\\n\\nMessage 2:\\n💡 Pro tip: Adding Fixed Income, Equity Fund, Dollar Fund to your portfolio could help you achieve your financial goals faster!\\n\\n\\n📝 Current Portfolio\\n--------------------------------------------------\\n• Money Market\\n'}], 'source': '# Test the recommendations for a sample member\\nsample_index = 0  # Adjust the sample index for testing\\nsample_member = X_test[sample_index].toarray()\\nsample_member_id = new_df.iloc[sample_index][\\'member_no\\']  # Ensure \\'member_id\\' is in new_df\\n\\n# Get recommendations and messages for the sample member\\nrecommendations, messages = get_recommendations_with_messages(sample_member.reshape(1, -1), sample_member_id, n=3)\\n\\n# Display the results\\nprint(\"\\\\n🏦 Member Profile Analysis\")\\nprint(\"-\" * 50)\\nprint(f\"Member ID: {sample_member_id}\")\\nmember_details = new_df.loc[new_df[\\'member_no\\'] == sample_member_id].iloc[0]\\nprint(f\"Age Group: {member_details[\\'age_group\\']}\")\\nprint(f\"Town: {member_details[\\'town\\']}\")\\nprint(f\"Gender: {member_details[\\'gender_mapped\\']}\")\\nif not pd.isna(member_details[\\'beneficiery_age\\']):\\n    print(f\"Beneficiary Age: {member_details[\\'beneficiery_age\\']}\")\\n\\nprint(\"\\\\n📊 Recommended Products\")\\nprint(\"-\" * 50)\\nfor i, product in enumerate(recommendations, 1):\\n    print(f\"{i}. {product}\")\\n\\nprint(\"\\\\n💌 Personalized Messages\")\\nprint(\"-\" * 50)\\nfor i, message in enumerate(messages, 1):\\n    print(f\"Message {i}:\")\\n    print(f\"{message}\")\\n    print()\\n\\n# Optional: Display current products for comparison\\ncurrent_products = set(new_df.loc[new_df[\\'member_no\\'] == sample_member_id, \\'portfolio_map\\'].values)\\nif current_products:\\n    print(\"\\\\n📝 Current Portfolio\")\\n    print(\"-\" * 50)\\n    for product in current_products:\\n        print(f\"• {product}\")'}, {'cell_type': 'code', 'execution_count': 63, 'metadata': {}, 'outputs': [{'name': 'stdout', 'output_type': 'stream', 'text': '\\n🏦 Member Profile Analysis\\n--------------------------------------------------\\nMember ID: 99985\\nAge Group: 19-30\\nTown: NAIROBI\\nGender: Female\\nBeneficiary Age: 3.0\\n\\n📊 Recommended Products\\n--------------------------------------------------\\n1. Fixed Income\\n2. Equity Fund\\n3. Dollar Fund\\n\\n💌 Personalized Messages\\n--------------------------------------------------\\nMessage 1:\\nMembers in your age group are enjoying these popular products: Fixed Income, Equity Fund, Dollar Fund. Join them in making smart financial choices!\\n\\nMessage 2:\\n💡 Pro tip: Adding Fixed Income, Equity Fund, Dollar Fund to your portfolio could help you achieve your financial goals faster!\\n\\n\\n📝 Current Portfolio\\n--------------------------------------------------\\n• Money Market\\n'}], 'source': '# Test the recommendations for a sample member\\nsample_index = 14  # Adjust the sample index for testing\\nsample_member = X_test[sample_index].toarray()\\nsample_member_id = new_df.iloc[sample_index][\\'member_no\\']  # Ensure \\'member_id\\' is in new_df\\n\\n# Get recommendations and messages for the sample member\\nrecommendations, messages = get_recommendations_with_messages(sample_member.reshape(1, -1), sample_member_id, n=3)\\n\\n# Display the results\\nprint(\"\\\\n🏦 Member Profile Analysis\")\\nprint(\"-\" * 50)\\nprint(f\"Member ID: {sample_member_id}\")\\nmember_details = new_df.loc[new_df[\\'member_no\\'] == sample_member_id].iloc[1]\\nprint(f\"Age Group: {member_details[\\'age_group\\']}\")\\nprint(f\"Town: {member_details[\\'town\\']}\")\\nprint(f\"Gender: {member_details[\\'gender_mapped\\']}\")\\nif not pd.isna(member_details[\\'beneficiery_age\\']):\\n    print(f\"Beneficiary Age: {member_details[\\'beneficiery_age\\']}\")\\n\\nprint(\"\\\\n📊 Recommended Products\")\\nprint(\"-\" * 50)\\nfor i, product in enumerate(recommendations, 1):\\n    print(f\"{i}. {product}\")\\n\\nprint(\"\\\\n💌 Personalized Messages\")\\nprint(\"-\" * 50)\\nfor i, message in enumerate(messages, 1):\\n    print(f\"Message {i}:\")\\n    print(f\"{message}\")\\n    print()\\n\\n# Optional: Display current products for comparison\\ncurrent_products = set(new_df.loc[new_df[\\'member_no\\'] == sample_member_id, \\'portfolio_map\\'].values)\\nif current_products:\\n    print(\"\\\\n📝 Current Portfolio\")\\n    print(\"-\" * 50)\\n    for product in current_products:\\n        print(f\"• {product}\")'}, {'cell_type': 'code', 'execution_count': 64, 'metadata': {}, 'outputs': [{'name': 'stdout', 'output_type': 'stream', 'text': '❌ Error occurred: single positional indexer is out-of-bounds\\n'}], 'source': 'def test_custom_recommendations(\\n    age_group,\\n    town,\\n    gender_mapped,  # Changed from gender to gender_mapped\\n    beneficiery_age=None,\\n    current_products=None,\\n    n_recommendations=3\\n):\\n    \"\"\"\\n    Get recommendations based on manually entered member details\\n    \"\"\"\\n    # Create a dummy member row\\n    member_features = {\\n        \\'member_no\\': \\'TEST_MEMBER\\',\\n        \\'age_group\\': age_group,\\n        \\'town\\': town,\\n        \\'gender_mapped\\': gender_mapped,  # Updated to match your column name\\n        \\'beneficiery_age\\': beneficiery_age,\\n        \\'portfolio_map\\': current_products if current_products else []\\n    }\\n    \\n    # Create dummy features vector\\n    dummy_features = np.zeros((1, X.shape[1]))\\n    \\n    try:\\n        # Get recommendations and messages\\n        recommendations, messages = get_recommendations_with_messages(\\n            dummy_features, \\n            \\'TEST_MEMBER\\',\\n            n=n_recommendations\\n        )\\n\\n        # Display the results\\n        print(\"\\\\n🏦 Member Profile\")\\n        print(\"-\" * 50)\\n        print(f\"Age Group: {age_group}\")\\n        print(f\"Town: {town}\")\\n        print(f\"Gender: {gender_mapped}\")\\n        if beneficiery_age is not None:\\n            print(f\"Beneficiary Age: {beneficiery_age}\")\\n        \\n        if current_products:\\n            print(\"\\\\n📝 Current Products\")\\n            print(\"-\" * 50)\\n            for product in current_products:\\n                print(f\"• {product}\")\\n\\n        print(\"\\\\n📊 Recommended Products\")\\n        print(\"-\" * 50)\\n        for i, product in enumerate(recommendations, 1):\\n            print(f\"{i}. {product}\")\\n\\n        print(\"\\\\n💌 Personalized Messages\")\\n        print(\"-\" * 50)\\n        for i, message in enumerate(messages, 1):\\n            print(f\"Message {i}:\")\\n            print(f\"{message}\")\\n            print()\\n\\n    except Exception as e:\\n        print(f\"❌ Error occurred: {str(e)}\")\\n\\n# Single test case with corrected gender values\\ntest_custom_recommendations(\\n    age_group=\\'26-35\\',\\n    town=\\'NAIROBI\\',\\n    gender_mapped=\\'Female\\',  # Changed from \\'F\\' to \\'Female\\'\\n    beneficiery_age=5,\\n    current_products=[\\'Money Market\\'],\\n    n_recommendations=3\\n)'}, {'cell_type': 'code', 'execution_count': 65, 'metadata': {}, 'outputs': [{'data': {'text/html': '<div>\\n<style scoped>\\n    .dataframe tbody tr th:only-of-type {\\n        vertical-align: middle;\\n    }\\n\\n    .dataframe tbody tr th {\\n        vertical-align: top;\\n    }\\n\\n    .dataframe thead th {\\n        text-align: right;\\n    }\\n</style>\\n<table border=\"1\" class=\"dataframe\">\\n  <thead>\\n    <tr style=\"text-align: right;\">\\n      <th></th>\\n      <th>member_no</th>\\n      <th>town</th>\\n      <th>relationship</th>\\n      <th>gender_mapped</th>\\n      <th>member_age</th>\\n      <th>beneficiery_age</th>\\n      <th>portfolio_map</th>\\n      <th>age_group</th>\\n    </tr>\\n  </thead>\\n  <tbody>\\n    <tr>\\n      <th>0</th>\\n      <td>99996</td>\\n      <td>NAIROBI</td>\\n      <td>partner</td>\\n      <td>Female</td>\\n      <td>26</td>\\n      <td>26.0</td>\\n      <td>Money Market</td>\\n      <td>19-30</td>\\n    </tr>\\n    <tr>\\n      <th>14</th>\\n      <td>99996</td>\\n      <td>NAIROBI</td>\\n      <td>sibling</td>\\n      <td>Female</td>\\n      <td>26</td>\\n      <td>23.0</td>\\n      <td>Money Market</td>\\n      <td>19-30</td>\\n    </tr>\\n    <tr>\\n      <th>28</th>\\n      <td>99994</td>\\n      <td>Unknown</td>\\n      <td>partner</td>\\n      <td>Female</td>\\n      <td>58</td>\\n      <td>62.0</td>\\n      <td>Money Market</td>\\n      <td>46-60</td>\\n    </tr>\\n    <tr>\\n      <th>40</th>\\n      <td>99993</td>\\n      <td>NAIROBI</td>\\n      <td>partner</td>\\n      <td>Female</td>\\n      <td>50</td>\\n      <td>54.0</td>\\n      <td>Money Market</td>\\n      <td>46-60</td>\\n    </tr>\\n    <tr>\\n      <th>70</th>\\n      <td>99993</td>\\n      <td>NAIROBI</td>\\n      <td>child</td>\\n      <td>Female</td>\\n      <td>50</td>\\n      <td>30.0</td>\\n      <td>Money Market</td>\\n      <td>46-60</td>\\n    </tr>\\n  </tbody>\\n</table>\\n</div>', 'text/plain': '    member_no     town relationship gender_mapped  member_age  \\\\\\n0       99996  NAIROBI      partner        Female          26   \\n14      99996  NAIROBI      sibling        Female          26   \\n28      99994  Unknown      partner        Female          58   \\n40      99993  NAIROBI      partner        Female          50   \\n70      99993  NAIROBI        child        Female          50   \\n\\n    beneficiery_age portfolio_map age_group  \\n0              26.0  Money Market     19-30  \\n14             23.0  Money Market     19-30  \\n28             62.0  Money Market     46-60  \\n40             54.0  Money Market     46-60  \\n70             30.0  Money Market     46-60  '}, 'execution_count': 65, 'metadata': {}, 'output_type': 'execute_result'}], 'source': 'new_df.head()'}, {'cell_type': 'code', 'execution_count': 66, 'metadata': {}, 'outputs': [{'name': 'stdout', 'output_type': 'stream', 'text': \"Recommendations for sample member profile:\\n['Fixed Income', 'Equity Fund', 'Dollar Fund']\\n\"}], 'source': '# Test the recommendations for a sample member\\nsample_index = 0  # Adjust the sample index for testing\\nsample_member = X_test[sample_index].toarray()\\nsample_member_id = new_df.iloc[sample_index][\\'member_no\\']  # Ensure \\'member_id\\' is in new_df\\n\\n# Get recommendations for the sample member\\nrecommendations = get_recommendations(sample_member.reshape(1, -1), sample_member_id, n=3)\\n\\n# Display the results\\nprint(\"Recommendations for sample member profile:\")\\nprint(recommendations)\\n'}, {'cell_type': 'code', 'execution_count': 67, 'metadata': {}, 'outputs': [{'name': 'stdout', 'output_type': 'stream', 'text': \"Recommendations for sample member profile:\\n['Equity Fund', 'Dollar Fund', 'Fixed Income']\\n\"}], 'source': '# Test the recommendations for a sample member\\nsample_index = 20\\nsample_member = X_test[sample_index].toarray()\\nsample_member_id = new_df.iloc[sample_index][\\'member_no\\']  \\n\\n# Get recommendations for the sample member\\nrecommendations = get_recommendations(sample_member.reshape(1, -1), sample_member_id, n=3)\\n\\n# Display the results\\nprint(\"Recommendations for sample member profile:\")\\nprint(recommendations)\\n'}, {'cell_type': 'code', 'execution_count': 68, 'metadata': {}, 'outputs': [], 'source': '# from sklearn.metrics import accuracy_score, classification_report\\n\\n# # Get member numbers from the original DataFrame before converting to sparse matrix\\n# member_ids = new_df[\\'member_no\\'] \\n\\n# # Make predictions on the test set\\n# y_pred = []\\n# for i in range(X_test.shape[0]):\\n#     member = X_test[i].toarray()  # Convert the sparse matrix to a dense array\\n#     member_no = member_ids.iloc[i]  \\n#     recommendations = get_recommendations(member.reshape(1, -1), n=1, member_no=member_no)  # Pass member_no as well\\n#     y_pred.append(recommendations[0])  # Get the top recommendation\\n\\n# # Calculate accuracy by comparing the predicted product to the actual product\\n# accuracy = accuracy_score(y_test, y_pred)\\n\\n# # Generate the classification report\\n# class_report = classification_report(y_test, y_pred)\\n\\n# # Print accuracy and classification report\\n# print(f\"Accuracy: {accuracy:.2f}\")\\n# print(\"Classification Report:\")\\n# print(class_report)\\n'}, {'cell_type': 'code', 'execution_count': 69, 'metadata': {}, 'outputs': [], 'source': '# import numpy as np\\n\\n# # Define custom member attributes\\n# test_member_data = {\\n#     \\'member_age\\': 35,\\n#     \\'beneficiery_age\\': 20,\\n#     \\'age_group\\': \\'30-40\\',\\n#     \\'gender_mapped\\': 1,\\n#     \\'town\\': \\'Nairobi\\'  # Adjust to a town present in your dataset\\n# }\\n\\n# # Combine the attributes into a single feature string\\n# test_features_str = f\"{test_member_data[\\'member_age\\']} {test_member_data[\\'beneficiery_age\\']} {test_member_data[\\'age_group\\']} {test_member_data[\\'gender_mapped\\']}\"\\n\\n# # Transform the custom member\\'s features using the fitted TF-IDF vectorizer\\n# test_member_vector = tfidf.transform([test_features_str])\\n\\n# # Define a dummy ID for testing (this would not be in the original dataset)\\n# test_member_id = -1  # Using -1 to signify a test ID not in the dataset\\n\\n# # Get recommendations based on the custom test member\\n# recommendations = get_recommendations(test_member_vector, test_member_id, n=5)\\n\\n# # Display the results\\n# print(\"Recommendations for custom member profile:\")\\n# print(recommendations)\\n'}, {'cell_type': 'code', 'execution_count': 70, 'metadata': {}, 'outputs': [], 'source': '# from sklearn.metrics import accuracy_score\\n\\n# # Sample a single member profile from the test set\\n# sample_index = 0  \\n# sample_member = X_test[sample_index]\\n\\n# # Get top 5 recommendations for the sample member profile\\n# recommendations = get_recommendations(sample_member.reshape(1, -1), n=5)\\n\\n# # Display the results\\n# print(\"Recommendations for sample member profile:\")\\n# print(recommendations)\\n\\n\\n'}, {'cell_type': 'code', 'execution_count': 71, 'metadata': {}, 'outputs': [], 'source': '# # evaluating the accuracy of recommendations\\n\\n# actual_product = y_test.iloc[sample_index]\\n# print(\"Actual product for the sample member profile:\", actual_product)\\n\\n# # Check if actual product is in recommendations\\n# if actual_product in recommendations:\\n#     print(\"Success: The actual product is in the recommended list.\")\\n# else:\\n#     print(\"The actual product is not in the recommended list.\")'}], 'metadata': {'kernelspec': {'display_name': 'learn-env', 'language': 'python', 'name': 'python3'}, 'language_info': {'codemirror_mode': {'name': 'ipython', 'version': 3}, 'file_extension': '.py', 'mimetype': 'text/x-python', 'name': 'python', 'nbconvert_exporter': 'python', 'pygments_lexer': 'ipython3', 'version': '3.8.5'}}, 'nbformat': 4, 'nbformat_minor': 2}\n"
     ]
    }
   ],
   "source": [
    "#error checking\n",
    "# Load the pickled notebook content\n",
    "with open('Investment_Product_Cross_Selling_notebook.pkl', 'rb') as f:\n",
    "    loaded_notebook = pickle.load(f)\n",
    "\n",
    "# Check the loaded content\n",
    "print(loaded_notebook)\n"
   ]
  },
  {
   "cell_type": "code",
   "execution_count": 68,
   "metadata": {},
   "outputs": [],
   "source": [
    "# from sklearn.metrics import accuracy_score, classification_report\n",
    "\n",
    "# # Get member numbers from the original DataFrame before converting to sparse matrix\n",
    "# member_ids = new_df['member_no'] \n",
    "\n",
    "# # Make predictions on the test set\n",
    "# y_pred = []\n",
    "# for i in range(X_test.shape[0]):\n",
    "#     member = X_test[i].toarray()  # Convert the sparse matrix to a dense array\n",
    "#     member_no = member_ids.iloc[i]  \n",
    "#     recommendations = get_recommendations(member.reshape(1, -1), n=1, member_no=member_no)  # Pass member_no as well\n",
    "#     y_pred.append(recommendations[0])  # Get the top recommendation\n",
    "\n",
    "# # Calculate accuracy by comparing the predicted product to the actual product\n",
    "# accuracy = accuracy_score(y_test, y_pred)\n",
    "\n",
    "# # Generate the classification report\n",
    "# class_report = classification_report(y_test, y_pred)\n",
    "\n",
    "# # Print accuracy and classification report\n",
    "# print(f\"Accuracy: {accuracy:.2f}\")\n",
    "# print(\"Classification Report:\")\n",
    "# print(class_report)\n"
   ]
  },
  {
   "cell_type": "code",
   "execution_count": 69,
   "metadata": {},
   "outputs": [],
   "source": [
    "# import numpy as np\n",
    "\n",
    "# # Define custom member attributes\n",
    "# test_member_data = {\n",
    "#     'member_age': 35,\n",
    "#     'beneficiery_age': 20,\n",
    "#     'age_group': '30-40',\n",
    "#     'gender_mapped': 1,\n",
    "#     'town': 'Nairobi'  # Adjust to a town present in your dataset\n",
    "# }\n",
    "\n",
    "# # Combine the attributes into a single feature string\n",
    "# test_features_str = f\"{test_member_data['member_age']} {test_member_data['beneficiery_age']} {test_member_data['age_group']} {test_member_data['gender_mapped']}\"\n",
    "\n",
    "# # Transform the custom member's features using the fitted TF-IDF vectorizer\n",
    "# test_member_vector = tfidf.transform([test_features_str])\n",
    "\n",
    "# # Define a dummy ID for testing (this would not be in the original dataset)\n",
    "# test_member_id = -1  # Using -1 to signify a test ID not in the dataset\n",
    "\n",
    "# # Get recommendations based on the custom test member\n",
    "# recommendations = get_recommendations(test_member_vector, test_member_id, n=5)\n",
    "\n",
    "# # Display the results\n",
    "# print(\"Recommendations for custom member profile:\")\n",
    "# print(recommendations)\n"
   ]
  },
  {
   "cell_type": "code",
   "execution_count": 70,
   "metadata": {},
   "outputs": [],
   "source": [
    "# from sklearn.metrics import accuracy_score\n",
    "\n",
    "# # Sample a single member profile from the test set\n",
    "# sample_index = 0  \n",
    "# sample_member = X_test[sample_index]\n",
    "\n",
    "# # Get top 5 recommendations for the sample member profile\n",
    "# recommendations = get_recommendations(sample_member.reshape(1, -1), n=5)\n",
    "\n",
    "# # Display the results\n",
    "# print(\"Recommendations for sample member profile:\")\n",
    "# print(recommendations)\n",
    "\n",
    "\n"
   ]
  },
  {
   "cell_type": "code",
   "execution_count": 71,
   "metadata": {},
   "outputs": [],
   "source": [
    "# # evaluating the accuracy of recommendations\n",
    "\n",
    "# actual_product = y_test.iloc[sample_index]\n",
    "# print(\"Actual product for the sample member profile:\", actual_product)\n",
    "\n",
    "# # Check if actual product is in recommendations\n",
    "# if actual_product in recommendations:\n",
    "#     print(\"Success: The actual product is in the recommended list.\")\n",
    "# else:\n",
    "#     print(\"The actual product is not in the recommended list.\")"
   ]
  }
 ],
 "metadata": {
  "kernelspec": {
   "display_name": "learn-env",
   "language": "python",
   "name": "python3"
  },
  "language_info": {
   "codemirror_mode": {
    "name": "ipython",
    "version": 3
   },
   "file_extension": ".py",
   "mimetype": "text/x-python",
   "name": "python",
   "nbconvert_exporter": "python",
   "pygments_lexer": "ipython3",
   "version": "3.8.5"
  }
 },
 "nbformat": 4,
 "nbformat_minor": 2
}
