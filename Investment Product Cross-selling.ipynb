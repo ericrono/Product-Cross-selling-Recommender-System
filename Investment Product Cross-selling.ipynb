{
 "cells": [
  {
   "cell_type": "markdown",
   "metadata": {},
   "source": [
    "# Product Cross Selling Recommender System\n",
    "\n",
    "**Business Problem Statement:**\n",
    "\n",
    "Our financial services company has a diverse portfolio of investment products, yet the vast majority (99%) of our existing customers hold only one product—the Money Market Fund. Despite a broad array of offerings (Balanced Fund, Dollar Fund, Equity Fund, Fixed Income Fund, and Wealth Fund), our product penetration per customer (PPC) remains exceptionally low. This indicates a significant opportunity to cross-sell additional products to our existing customer base, which would increase customer value, loyalty, and the company’s overall profitability.\n",
    "\n",
    "Currently, our customers’ data includes key information that could be leveraged to tailor product recommendations. These data points include:\n",
    "- **Location (town)**\n",
    "- **Gender**\n",
    "- **Customer-relationship or beneficiary information** (as customers may have more than one relationship or beneficiary associated with them)\n",
    "- **Customer age and DOB**\n",
    "- **Beneficiary age and DOB**\n",
    "\n",
    "Our goal is to create a user-friendly, intelligent recommender system that can analyze this existing data to suggest additional, relevant financial products to each customer. This system should be able to identify patterns or trends in customer profiles, uncover customer needs, and map those needs to suitable financial products, increasing our PPC in an efficient, cost-effective manner. \n",
    "\n",
    "**Objectives:**\n",
    "1. **Customer Retention and Loyalty**: By offering personalized recommendations, we aim to build deeper, more personalized relationships with our customers, making them more likely to stay with us long-term.\n",
    "2. **Increased Revenue per Customer**: A successful cross-selling strategy would increase the average number of products per customer, boosting overall portfolio revenue.\n",
    "3. **User-Friendly Experience**: Ensuring a straightforward, accessible interface for customers to explore new financial products, particularly given that our target customers may have limited experience with financial diversification.\n",
    "\n",
    "**Project Success Criteria:**\n",
    "1. Develop a model that accurately predicts the next likely product(s) for each customer based on their profile and behavior.\n",
    "2. Achieve a measurable increase in the PPC rate by the end of the initial deployment phase.\n",
    "3. Design an intuitive interface that enhances the customer journey, with minimal friction, to encourage engagement and adoption."
   ]
  },
  {
   "cell_type": "markdown",
   "metadata": {},
   "source": [
    "### Data Understanding:\n",
    "\n",
    "Our dataset comprises customer demographic and account information, which will serve as the foundation for building a cross-selling recommender system. By analyzing these features, we aim to uncover insights into customer behavior and needs, using patterns within the data to suggest relevant financial products. Key columns include identifiers, demographic data, and account-related features. Each attribute plays a role in shaping customer profiles, which will help guide product recommendations. Below is an overview of each column:\n",
    "\n",
    "1. **Member Number (`member_no`)**  \n",
    "   - A unique identifier for each customer.\n",
    "\n",
    "2. **Registration Date (`reg_date`)**  \n",
    "   - The date when the customer first registered with our company.\n",
    "\n",
    "3. **Date of Birth (`dob`)**  \n",
    "   - The customer’s date of birth, used to calculate age.\n",
    "\n",
    "4. **House Number (`hse_no`)**  \n",
    "   - The residential house number of the customer.\n",
    "\n",
    "5. **Gender (`gender`)**  \n",
    "   - The gender of the customer.\n",
    "\n",
    "6. **Town (`town`)**  \n",
    "   - The town or city of the customer’s residence.\n",
    "\n",
    "7. **Relationship (`relationship`)**  \n",
    "   - Indicates the relationship type with any listed beneficiaries.\n",
    "\n",
    "8. **Beneficiary Date of Birth (`beneficiery_dob`)**  \n",
    "   - The date of birth of a beneficiary associated with the customer.\n",
    "\n",
    "9. **Portfolio (`portfolio`)**  \n",
    "   - The financial products currently held by the customer.\n",
    "\n",
    "---\n",
    "\n",
    "### Data Considerations:\n",
    "\n",
    "**Data Completeness and Consistency**  \n",
    "   - Given the variety of data sources, ensure that each column is complete and uniformly formatted. Date fields like `dob`, `reg_date`, and `beneficiary_dob` must be consistent across the dataset, as inconsistencies could lead to inaccurate age and tenure calculations.\n",
    "\n",
    "**Multiple Beneficiaries**  \n",
    "   - Customers may have more than one beneficiary, creating potential complications in the data structure. Aggregate features, such as average or maximum beneficiary age, may be necessary to summarize information for modeling purposes.\n",
    "\n",
    "**Categorical Label Standardization**  \n",
    "   - Categorical features such as `gender`, `relationship`, and `town` should be standardized (e.g., no mixed casing or abbreviations) to ensure consistency. This will facilitate proper encoding for model input and avoid noise from variations in label text.\n",
    "\n",
    "**Imbalanced Product Holding**  \n",
    "   - With 99% of customers holding only the Money Market Fund, the portfolio data will be highly imbalanced. Careful sampling techniques and tailored evaluation metrics may be needed to prevent the model from being biased toward customers holding only this product.\n",
    "\n",
    "**Data Privacy and Sensitivity**  \n",
    "   - Sensitive data such as customer identification numbers, DOB, and financial product details require rigorous handling. Compliance with data privacy regulations is essential, and personal identifiers should be excluded from model features to maintain confidentiality.\n",
    "\n",
    "**Geographic Granularity**  \n",
    "   - Town data may vary in predictive value. Consider regional clustering or aggregation (e.g., grouping nearby towns or major regions) if individual town data proves to have limited relevance for model accuracy.\n",
    "\n",
    "**Tenure Calculation and Influence**  \n",
    "   - Calculating customer tenure from `reg_date` could help identify engagement level and readiness for cross-selling. Longer-tenure customers may be more open to new products, and segmentation based on tenure might reveal patterns in product uptake.\n",
    "\n",
    "**Beneficiary Relationships and Cross-Selling Opportunities**  \n",
    "   - Beneficiary data and relationship types could offer insights into cross-selling opportunities (e.g., suggesting long-term investment products for customers with young dependents). Analyzing these relationships is essential for creating a personalized recommendation approach.\n",
    "\n",
    "**Age Grouping and Demographic Segmentation**  \n",
    "   - Customer age, derived from `dob`, and beneficiary age could be grouped into segments to assess if specific age groups show higher receptivity to particular products. For example, older customers may favor fixed-income options, while younger ones might prefer equities."
   ]
  },
  {
   "cell_type": "code",
   "execution_count": 1,
   "metadata": {},
   "outputs": [],
   "source": [
    "import pandas as pd\n",
    "import numpy as np\n",
    "from datetime import datetime\n",
    "from sklearn.pipeline import Pipeline\n",
    "from sklearn.preprocessing import FunctionTransformer\n",
    "from surprise import SlopeOne, Dataset, Reader\n",
    "from surprise import accuracy\n",
    "from sklearn.metrics import f1_score, precision_score, recall_score\n",
    "from surprise import KNNBasic, Dataset, Reader\n",
    "from surprise.model_selection import train_test_split\n",
    "import tensorflow as tf\n",
    "import matplotlib.pyplot as plt\n",
    "import seaborn as sns\n",
    "from tensorflow.keras.models import Model\n",
    "from tensorflow.keras.layers import Input, Dense\n",
    "from sklearn.metrics import mean_absolute_error, mean_squared_error, f1_score, precision_score, accuracy_score\n",
    "import tensorflow.keras.backend as K\n"
   ]
  },
  {
   "cell_type": "code",
   "execution_count": 2,
   "metadata": {},
   "outputs": [
    {
     "data": {
      "text/html": [
       "<div>\n",
       "<style scoped>\n",
       "    .dataframe tbody tr th:only-of-type {\n",
       "        vertical-align: middle;\n",
       "    }\n",
       "\n",
       "    .dataframe tbody tr th {\n",
       "        vertical-align: top;\n",
       "    }\n",
       "\n",
       "    .dataframe thead th {\n",
       "        text-align: right;\n",
       "    }\n",
       "</style>\n",
       "<table border=\"1\" class=\"dataframe\">\n",
       "  <thead>\n",
       "    <tr style=\"text-align: right;\">\n",
       "      <th></th>\n",
       "      <th>member_no</th>\n",
       "      <th>reg_date</th>\n",
       "      <th>dob</th>\n",
       "      <th>hse_no</th>\n",
       "      <th>gender</th>\n",
       "      <th>town</th>\n",
       "      <th>relationship</th>\n",
       "      <th>beneficiery_dob</th>\n",
       "      <th>portfolio</th>\n",
       "    </tr>\n",
       "  </thead>\n",
       "  <tbody>\n",
       "    <tr>\n",
       "      <th>0</th>\n",
       "      <td>99996</td>\n",
       "      <td>2023-10-01 00:00:00.000</td>\n",
       "      <td>1998-04-06 00:00:00</td>\n",
       "      <td>Single Member</td>\n",
       "      <td>Female</td>\n",
       "      <td>NAIROBI</td>\n",
       "      <td>Partner</td>\n",
       "      <td>1998-01-26</td>\n",
       "      <td>Money Market</td>\n",
       "    </tr>\n",
       "    <tr>\n",
       "      <th>1</th>\n",
       "      <td>99996</td>\n",
       "      <td>2023-10-01 00:00:00.000</td>\n",
       "      <td>1998-04-06 00:00:00</td>\n",
       "      <td>Single Member</td>\n",
       "      <td>Female</td>\n",
       "      <td>NAIROBI</td>\n",
       "      <td>Partner</td>\n",
       "      <td>1998-01-26</td>\n",
       "      <td>Money Market</td>\n",
       "    </tr>\n",
       "    <tr>\n",
       "      <th>2</th>\n",
       "      <td>99996</td>\n",
       "      <td>2023-10-01 00:00:00.000</td>\n",
       "      <td>1998-04-06 00:00:00</td>\n",
       "      <td>Single Member</td>\n",
       "      <td>Female</td>\n",
       "      <td>NAIROBI</td>\n",
       "      <td>Partner</td>\n",
       "      <td>1998-01-26</td>\n",
       "      <td>Money Market</td>\n",
       "    </tr>\n",
       "    <tr>\n",
       "      <th>3</th>\n",
       "      <td>99996</td>\n",
       "      <td>2023-10-01 00:00:00.000</td>\n",
       "      <td>1998-04-06 00:00:00</td>\n",
       "      <td>Single Member</td>\n",
       "      <td>Female</td>\n",
       "      <td>NAIROBI</td>\n",
       "      <td>Partner</td>\n",
       "      <td>1998-01-26</td>\n",
       "      <td>Money Market</td>\n",
       "    </tr>\n",
       "    <tr>\n",
       "      <th>4</th>\n",
       "      <td>99996</td>\n",
       "      <td>2023-10-01 00:00:00.000</td>\n",
       "      <td>1998-04-06 00:00:00</td>\n",
       "      <td>Single Member</td>\n",
       "      <td>Female</td>\n",
       "      <td>NAIROBI</td>\n",
       "      <td>Partner</td>\n",
       "      <td>1998-01-26</td>\n",
       "      <td>Money Market</td>\n",
       "    </tr>\n",
       "    <tr>\n",
       "      <th>...</th>\n",
       "      <td>...</td>\n",
       "      <td>...</td>\n",
       "      <td>...</td>\n",
       "      <td>...</td>\n",
       "      <td>...</td>\n",
       "      <td>...</td>\n",
       "      <td>...</td>\n",
       "      <td>...</td>\n",
       "      <td>...</td>\n",
       "    </tr>\n",
       "    <tr>\n",
       "      <th>7532949</th>\n",
       "      <td>2</td>\n",
       "      <td>2011-06-07</td>\n",
       "      <td>1965-05-06</td>\n",
       "      <td>Single Member</td>\n",
       "      <td>Male</td>\n",
       "      <td>NAIROBI</td>\n",
       "      <td>NaN</td>\n",
       "      <td>NaN</td>\n",
       "      <td>Money Market</td>\n",
       "    </tr>\n",
       "    <tr>\n",
       "      <th>7532950</th>\n",
       "      <td>2</td>\n",
       "      <td>2011-06-07</td>\n",
       "      <td>1965-05-06</td>\n",
       "      <td>Single Member</td>\n",
       "      <td>Male</td>\n",
       "      <td>NAIROBI</td>\n",
       "      <td>NaN</td>\n",
       "      <td>NaN</td>\n",
       "      <td>Money Market</td>\n",
       "    </tr>\n",
       "    <tr>\n",
       "      <th>7532951</th>\n",
       "      <td>2</td>\n",
       "      <td>2011-06-07</td>\n",
       "      <td>1965-05-06</td>\n",
       "      <td>Single Member</td>\n",
       "      <td>Male</td>\n",
       "      <td>NAIROBI</td>\n",
       "      <td>NaN</td>\n",
       "      <td>NaN</td>\n",
       "      <td>Money Market</td>\n",
       "    </tr>\n",
       "    <tr>\n",
       "      <th>7532952</th>\n",
       "      <td>2</td>\n",
       "      <td>2011-06-07</td>\n",
       "      <td>1965-05-06</td>\n",
       "      <td>Single Member</td>\n",
       "      <td>Male</td>\n",
       "      <td>NAIROBI</td>\n",
       "      <td>NaN</td>\n",
       "      <td>NaN</td>\n",
       "      <td>Balanced Fund</td>\n",
       "    </tr>\n",
       "    <tr>\n",
       "      <th>7532953</th>\n",
       "      <td>2</td>\n",
       "      <td>2011-06-07</td>\n",
       "      <td>1965-05-06</td>\n",
       "      <td>Single Member</td>\n",
       "      <td>Male</td>\n",
       "      <td>NAIROBI</td>\n",
       "      <td>NaN</td>\n",
       "      <td>NaN</td>\n",
       "      <td>Money Market</td>\n",
       "    </tr>\n",
       "  </tbody>\n",
       "</table>\n",
       "<p>7532954 rows × 9 columns</p>\n",
       "</div>"
      ],
      "text/plain": [
       "         member_no                 reg_date                  dob  \\\n",
       "0            99996  2023-10-01 00:00:00.000  1998-04-06 00:00:00   \n",
       "1            99996  2023-10-01 00:00:00.000  1998-04-06 00:00:00   \n",
       "2            99996  2023-10-01 00:00:00.000  1998-04-06 00:00:00   \n",
       "3            99996  2023-10-01 00:00:00.000  1998-04-06 00:00:00   \n",
       "4            99996  2023-10-01 00:00:00.000  1998-04-06 00:00:00   \n",
       "...            ...                      ...                  ...   \n",
       "7532949          2               2011-06-07           1965-05-06   \n",
       "7532950          2               2011-06-07           1965-05-06   \n",
       "7532951          2               2011-06-07           1965-05-06   \n",
       "7532952          2               2011-06-07           1965-05-06   \n",
       "7532953          2               2011-06-07           1965-05-06   \n",
       "\n",
       "                hse_no  gender     town relationship beneficiery_dob  \\\n",
       "0        Single Member  Female  NAIROBI      Partner      1998-01-26   \n",
       "1        Single Member  Female  NAIROBI      Partner      1998-01-26   \n",
       "2        Single Member  Female  NAIROBI      Partner      1998-01-26   \n",
       "3        Single Member  Female  NAIROBI      Partner      1998-01-26   \n",
       "4        Single Member  Female  NAIROBI      Partner      1998-01-26   \n",
       "...                ...     ...      ...          ...             ...   \n",
       "7532949  Single Member    Male  NAIROBI          NaN             NaN   \n",
       "7532950  Single Member    Male  NAIROBI          NaN             NaN   \n",
       "7532951  Single Member    Male  NAIROBI          NaN             NaN   \n",
       "7532952  Single Member    Male  NAIROBI          NaN             NaN   \n",
       "7532953  Single Member    Male  NAIROBI          NaN             NaN   \n",
       "\n",
       "             portfolio  \n",
       "0         Money Market  \n",
       "1         Money Market  \n",
       "2         Money Market  \n",
       "3         Money Market  \n",
       "4         Money Market  \n",
       "...                ...  \n",
       "7532949   Money Market  \n",
       "7532950   Money Market  \n",
       "7532951   Money Market  \n",
       "7532952  Balanced Fund  \n",
       "7532953   Money Market  \n",
       "\n",
       "[7532954 rows x 9 columns]"
      ]
     },
     "execution_count": 2,
     "metadata": {},
     "output_type": "execute_result"
    }
   ],
   "source": [
    "import pandas as pd\n",
    "\n",
    "df = pd.read_csv(r\"C:\\Users\\ADMIN\\Desktop\\Capstone\\single_member.csv\")\n",
    "df"
   ]
  },
  {
   "cell_type": "code",
   "execution_count": 3,
   "metadata": {},
   "outputs": [
    {
     "data": {
      "text/plain": [
       "Index(['member_no', 'reg_date', 'dob', 'hse_no', 'gender', 'town',\n",
       "       'relationship', 'beneficiery_dob', 'portfolio'],\n",
       "      dtype='object')"
      ]
     },
     "execution_count": 3,
     "metadata": {},
     "output_type": "execute_result"
    }
   ],
   "source": [
    "df.columns"
   ]
  },
  {
   "cell_type": "code",
   "execution_count": 4,
   "metadata": {},
   "outputs": [
    {
     "data": {
      "text/plain": [
       "array([99996, 99994, 99993, ...,    19,     3,     2], dtype=int64)"
      ]
     },
     "execution_count": 4,
     "metadata": {},
     "output_type": "execute_result"
    }
   ],
   "source": [
    "df['member_no'].unique()"
   ]
  },
  {
   "cell_type": "code",
   "execution_count": 5,
   "metadata": {},
   "outputs": [
    {
     "data": {
      "text/plain": [
       "array(['Female', 'Male', 'FEMALE', nan, 'MALE', 'F', 'M'], dtype=object)"
      ]
     },
     "execution_count": 5,
     "metadata": {},
     "output_type": "execute_result"
    }
   ],
   "source": [
    "df['gender'].unique()"
   ]
  },
  {
   "cell_type": "code",
   "execution_count": 6,
   "metadata": {},
   "outputs": [
    {
     "data": {
      "text/plain": [
       "array(['Partner', 'Sister', 'Husband ', 'Husband', 'Daughter', 'Brother ',\n",
       "       'Son', 'Daughter ', 'Wife', 'Father', 'Mother', 'Brother', 'son',\n",
       "       'mother', 'father', 'Mother ', 'SPOUSE', 'FRIEND', 'Spouse ',\n",
       "       'WIfe', 'Father ', 'Spouse', 'child', nan, 'Parent', 'wife',\n",
       "       'Wife ', 'Son ', 'spouse', 'doughter', 'CHILD', 'ParentChild',\n",
       "       'partner', 'brother', 'sister', 'MotheR', 'Friend', 'Child',\n",
       "       'Cousin', 'Dad', 'Mum', 'MOTHER', 'WIFE', 'Sister ', 'SON',\n",
       "       'BROTHER', 'FATHER', 'aunt ', 'Grandmother', 'HUSBAND', 'self',\n",
       "       'husband', 'husband ', 'Owner', ' Grand daughter', 'Nephew',\n",
       "       'SP0USE', 'Self', 'parent', 'SISTER', 'NIECE', 'Niece', 'daughter',\n",
       "       'Sibling', 'DAUGHTER', 'AUNT', 'brother ', '254701361835',\n",
       "       'Parent ', 'daughter ', 'FAITHER', 'Family ', 'SPOUSE ',\n",
       "       'Sibling ', 'PARENT', 'CONFIDANT', 'MUM', 'DAD', 'wife ', 'family',\n",
       "       'Trustee ', 'son ', 'mother ', 'MOTHER ', 'friend', 'spouse ',\n",
       "       'S0N', 'SISTER ', 'FATHER ', 'father ', 'FAMILY ', 'WifE',\n",
       "       'Partner ', 'daugther', '1226805243;130143346', 'relative',\n",
       "       'BROTHER ', 'Daighter', 'Advisor', 'SON ', 'AUNTIE', 'FIANCEE',\n",
       "       'Fiancee', 'DOUGHTER', 'parent ', 'HUSBAND ', 'DAUGHTER ', 'SELF',\n",
       "       'MOther', 'mOTHER', 'Aunt', 'Grandparent', 'Bother ', 'SO',\n",
       "       'married', 'MARRIED', 'FIANCE', 'Doughter ', 'Guardian ',\n",
       "       'ASS0CIATE', 'sibling', 'fiance', 'Sistet', 'Grandson', 'Doughter',\n",
       "       'DAUGTHER', 'wIFE', 'Bro', 'PARTNER', 'B INLAW', 'GUARDIAN',\n",
       "       'daughte', 'Mom', 'COUSIN', 'GRANDMA', 'aunt', 'Domestic Partner',\n",
       "       'PATNER', 'me', 'MENTOR', 'UNCLE', 'Sis', 'SiBLING', 'GRAND SON',\n",
       "       'Fiance ', 'KID', 'SIBLING', 'GRANDSON', 'Nephew ', '-', 'Cousin ',\n",
       "       'DAUGHETR', 'Person', 's0n', 'na', 'myson', 'PARTNER ', 'Bishop',\n",
       "       'nephew', 'mwas', 'Mothers', 'Friend ', 'Child ', 'daughter33',\n",
       "       'CLOSE FRIEND', 'hUSBAND', 'CLOSEFRIEND', 'Boyfriend ',\n",
       "       'dependant', 'WIFE ', 'MARRIAGE', 'GRAND DAUGHTER', 'DAUGHER',\n",
       "       'Niece ', 'granddaughter', 'grandson', 'DAUGHTER/CHILD',\n",
       "       'RELATIVE', 'mum', 'single', 'Self ', 'sister ', 'Mother TO SON',\n",
       "       'Grandfather', 'DAD ', 'Relative', 'Daughter-in-law ',\n",
       "       'GRANDMOTHER', 'child ', '15', 'DaD', 'GIRLFRIEND', 'FAMILY',\n",
       "       'Uncle ', 'SiNGLE', 'SINGLE', 'fiancee', 'FaMILY', 'BENEFICIARY',\n",
       "       'OWNER', 'Relative ', 'GRANDDAUGHTER', ' Spouse', 'uncle',\n",
       "       'Married ', 'chil', 'CHILD MINOR', '33', 'NEPHEW', 'JOINT PARTNER',\n",
       "       'MOTHERS ', 'Fiancé ', 'Others ', 'Grand daughter',\n",
       "       'DAUGHTER-IN-LAW', 'Na', 'CHILD ', 'SPIRITUAL FATHER', 'COUSN',\n",
       "       'DEPEDANT', 'Estate', 'Uncle', 'sISTER', 'sisiter', ' BROTHER',\n",
       "       'Granddaughter ', 'BRother', 'Aunt ', 'cousin', 'Baby', 'Morher',\n",
       "       'MOM', 'God mother', 'GRANDSON ', 'Husband/spouse', 'SPOUCE',\n",
       "       'uncle ', 'FRIEND ', 'Single', 'Vhild', 'Patner', 'Spouce',\n",
       "       'Family', 'SoN', 'SisteR', 'AUNTY', 'FATHER-IN-LAW', 'SonS', '0',\n",
       "       'MO9', 'Fiance', '33.4', 'CHILF', '254727756559', '0720401466',\n",
       "       'GRAND FATHER', 'PRINCIPAL', 'Guardian', 'JUNIOR',\n",
       "       'DGRAND DAUGHTER', 'COWORKER', 'GRAND MOTHER', 'D100', 'NMO',\n",
       "       'BUSINESS PARTNER', 'GURDIAN', '2021', 'MotH', 'MoM', 'UN,CLE',\n",
       "       'GRAND CHILD', 'Sister in law', 'Grand Daughter', 'COMAPANION',\n",
       "       'BOYFRIEND', 'EX-WIFE', 'GRANDDAUGTER', 'PARNT', 'M', 'F', 'Chils',\n",
       "       ';SON', 'GUARDINA', 'NiecE', 'Brother-IN-LAW', 'Member',\n",
       "       'Grand mother', 'ADMINISTRATOR', 'VM', 'GRANDFATHER', 'GIRLFRIED',\n",
       "       'Brestfriend', 'Finance', 'SIS', 'Daughter in law', 'children',\n",
       "       'Girlfriend', 'COLLEAGUE', 'TRUSTEE', '254708368426', 'Colleague',\n",
       "       'Sister-IN-LAW', 'GRAND-DAUGHTER', 'GRANNY', 'GRANDCHILD', \"'M\",\n",
       "       'spouce', 'SiLBLING', 'Siblings', 'Step-mother', 'Aunty', 'FREINF',\n",
       "       '50', '100', '254723993458', 'Cousins', 'Cousins ', 'ASSOCIATE',\n",
       "       'Fiane', 'guardian', 'Guadian', 'Confidant', 'Auntie', 'GRANDPA',\n",
       "       'mom', 'Brother in Law', 'BUSINESS PARTNER ', 'Spuose',\n",
       "       'Business Partner', 'Dating', 'IN LAW', 'STEP-MOM', 'Son/Brother',\n",
       "       'Chid', 'Granddaughter', 'niece', 'Son/SISTER', 'Grand Son',\n",
       "       'BrotheR', \"Nolan's Guardian\", \"Xena's Guardian\", 'Sister-in law',\n",
       "       'PARENTS', 'c/o', 'STEP MOTHER', 'NiCE', 'Ciru', 'DEPENDANT',\n",
       "       'som', 'GUARDIAN ', 'Dau`', 'Kid', 'PARENT ', 'CHILDREN',\n",
       "       'partner ', 'CLOUSIN', '19112004', 'twinsister', 'MINOR',\n",
       "       'Sister- Custodian', 'GRANSON', 'COMPANION', 'ENGAGED',\n",
       "       'WELL WISHER', 'PARNER', 'GRANCHILD', 'Trustee', 'Next of kin',\n",
       "       'SIIBLING', 'SIBLINGS', 'Foster daughter', 'ADMINSTRATOR',\n",
       "       'IN-LAW', 'Boyfriend', 'NepheW', 'EMPLOYEE', 'DIRECTORS',\n",
       "       'RELIGIOUS COMMUNITY', 'CUSTODIAN', 'C/O ARIANNA', 'Sister IN LAW',\n",
       "       'spose', 'SPAUSE', 'MEMBER', 'DomesticPartner', 'Grand-daughter',\n",
       "       'Brother-in-law', 'STEP-BROTHER', 'Mother to Evan', 'Sister-Inlaw',\n",
       "       'BUS. PARTNER', 'Sister(Guardian)', 'CONTACT PERSON', 'FatheR',\n",
       "       'Brother in law', 'Parwnt', 'M,', 'Sister-GUARDIAN', 'Grand Child',\n",
       "       'GODMOTHER', 'Sister-Guardian', 'Mother- Guardian', 'Grandchild',\n",
       "       'Grand son', 'CHLD', 'GRAND.DAUGHTER', 'GRAND-MOTHER', 'Parents',\n",
       "       'EX WIFE', 'Sister - Guardian', 'Step-Mother', 'FOSTER DAUGHTER',\n",
       "       'Grand-mother', 'God Mother', 'Mother-in-law', 'MEMBER ',\n",
       "       'B/S PARTNER', 'LAWYER', 'GRAND-SON', 'parents', 'Stepson',\n",
       "       'Contingent', 'grandmother', 'G/Daughter', 'Brother and sister',\n",
       "       'Sibbling', ' ', 'COUSIN ', 'DaughteR', 'SPUOSE', 'CHIILD',\n",
       "       'DSPOUSE', 'Executor', 'HU', 'EWIFE', 'SPOUDSE', 'SoPOUSE',\n",
       "       'grandchild', 'ChILD', '9266025', 'PARE NT', '254700442162',\n",
       "       'BEST FRIEND', 'SISTER IN LAW ', 'mather', 'SAVING PARTNER ',\n",
       "       'AUNTIE ', 'ParenChild', 'GIRLFRIEND ', 'SINGLE ', 'Parentchild',\n",
       "       'parentchild', 'SPOUSE20', 'Myself', 'FIACEE', 'SD',\n",
       "       'Grand mother ', 'Mother of child', 'Childnephew', 'FATH ',\n",
       "       'MY SON', 'BabyMother', 'CHID', 'GIRL FRIEND', 'chils', 'self ',\n",
       "       \"Mother's \", 'Mum ', 'aunty', 'SPouse', 'Auntie ', 'ChiLD',\n",
       "       'grandmother ', 'Grand daughter ', 'auntie', 'baby mama ', 'DA',\n",
       "       'BrOther', 'Fiancee ', 'In law', 'Colleague ', 'WiFE', 'owner',\n",
       "       'sON', 'Mather', 'Dauhgter', 'myself', 'Hubby', 'Sister in-law',\n",
       "       'Aunty ', 'Foster parent', 'grandson ', 'Wife/Guardian',\n",
       "       '21761402', 'GUARDIAN-MOTHER'], dtype=object)"
      ]
     },
     "execution_count": 6,
     "metadata": {},
     "output_type": "execute_result"
    }
   ],
   "source": [
    "df['relationship'].unique()"
   ]
  },
  {
   "cell_type": "code",
   "execution_count": 7,
   "metadata": {},
   "outputs": [
    {
     "data": {
      "text/plain": [
       "array(['Single Member'], dtype=object)"
      ]
     },
     "execution_count": 7,
     "metadata": {},
     "output_type": "execute_result"
    }
   ],
   "source": [
    "df['hse_no'].unique()"
   ]
  },
  {
   "cell_type": "code",
   "execution_count": 8,
   "metadata": {},
   "outputs": [
    {
     "data": {
      "text/plain": [
       "array(['Money Market', 'Dollar Fund', 'Wealth Fund', 'Equity Fund',\n",
       "       'Fixed Income', 'Balanced Fund', 'MoneyMarket', nan], dtype=object)"
      ]
     },
     "execution_count": 8,
     "metadata": {},
     "output_type": "execute_result"
    }
   ],
   "source": [
    "df['portfolio'].unique()"
   ]
  },
  {
   "cell_type": "code",
   "execution_count": 9,
   "metadata": {},
   "outputs": [
    {
     "data": {
      "text/plain": [
       "array(['NAIROBI', nan, 'NAIROBI ', 'THIKA', 'NAKURU', 'MOMBASA ',\n",
       "       'NDANAI ', 'KISUMU', 'KIKUYU', 'JUJA', 'MACHAKOS', 'MERU',\n",
       "       'KERICHO', 'MUKURWEINI', 'KATANGI', 'THIKA,KIAMBU', 'NANYUKI',\n",
       "       'RUAI ', 'MALINDI', 'NYAHURURU', 'MUMIAS', 'KAKAMEGA', 'LODWAR',\n",
       "       'Nairobi ', 'KITENGELA', 'LIMURU', 'THIKA ', 'MIGORI', 'ELDORET',\n",
       "       'KITUI', 'RUARAKA', 'Ruiru', 'NJORO', 'EMBU', 'SORI', 'NGONG',\n",
       "       'MASENO', 'GATUNDU', 'KAHURO', 'KILIFI', 'RUIRU', 'KERUGOYA',\n",
       "       'KARATINA', 'KITALE ', 'MOMBASA', 'BUNGOMA', 'KISII', '-',\n",
       "       'Nairobi', 'KINAMBA', 'SIAYA', 'KERICHO ', 'KIAMBU', 'KITALE',\n",
       "       'BUSIA', 'RUNYENJES', 'VILLAGE MARKET', 'Kapsabet', 'KAGWE',\n",
       "       'NANDI HILLS', 'KUTUS', 'DAGORETTI', 'LITEIN', 'KAJIADO', 'CHUKA',\n",
       "       'NYERI', 'NAIROBI, NAIROBI', 'Kisumu ', 'KANJUKU', 'EMALI',\n",
       "       'GILGIL', 'Kiambu ', 'KANGEMA', 'TIRIKI', 'KARATINA ', 'OTHAYA',\n",
       "       'KARURI ,KIAMBU', 'MURANGA ', 'Mombasa', 'GATUKUYU ', 'MLOLONGO',\n",
       "       'UTAWALA ', 'KAPENGURIA', 'KAPSABET', 'SUNA', 'BOMET', 'KENOL ',\n",
       "       'NYERI ', 'BUNGOMA ', 'NDANAI', 'KALIMONI', 'KIGANJO',\n",
       "       'KAPSOKWONY', 'Nakuru', 'KIAMBU ', 'nairobi', 'CHOGORIA',\n",
       "       'GITHUNGURI', 'YOANI,SALAMA', 'LIMURU ', 'NAIROBI, KENYA.',\n",
       "       'UKUNDA', 'MATUU', 'embu', 'NYALI', 'nakuru', 'MBALE', 'EMUHAYA',\n",
       "       'TELFORD', 'NAIVASHA', 'KAREN', 'KILIFI ', 'HOLA', 'MAKINDU',\n",
       "       'WOTE', 'DIANI', 'O', 'OLKALAU', 'KAREN ', 'UPLANDS', 'WANGÚRU',\n",
       "       'KABIYET', 'KAKAMEGA ', 'SOTIK', 'NGONG ', 'CITY SQUARE', 'NKUBU',\n",
       "       'KANGARI', 'NGONG HILLS ', 'NYAHURURU ', 'KARURI ', 'UTHIRU',\n",
       "       'MARIMANTI', 'MANCHESTER', 'Kikuyu', '.', 'NAIRO ', 'kiambu',\n",
       "       'VOI', 'EMBAKASI', 'MOLO', 'Siaya ', 'NGIYA', 'OLKALOU',\n",
       "       'KANYAGIA', 'WANJOHI', 'kabete', 'Wamunyu', 'MARIAKANI',\n",
       "       'KISERIAN', 'ARTHI RIVER ', 'SUBUKIA', 'KILGORIS', 'KIMININI',\n",
       "       'LAGOS', 'SARE', 'ATHI RIVER', 'ngong hills ', 'WERUGHA',\n",
       "       'NAIROBIP', 'MASINFA', 'kikuyu', 'OL JORO OROK', 'MAUA',\n",
       "       'GIKUE MURANGA', 'KIMENDE', 'KIMILILI', 'KISUMU ', 'VIHIGA',\n",
       "       ' NAIROBI ', 'BURUBURU', 'MATATHIA', 'RUAKA', 'UGUNJA', 'LONGISA',\n",
       "       'ELDORATE ', 'KAPKATET', 'WINNIPEG', 'PIPELINE ', 'KAHAWA WEST ',\n",
       "       'KANDARA', 'Kimilili ', 'MTWAPA ', 'MARAGUA', 'BANANA ', 'NYAMIRA',\n",
       "       'AUBURN', 'KARURI', 'MTWAPA', 'ONGATA RONGAI', 'ELDORET ',\n",
       "       'HOMABAY', 'WANGIGE', 'KENDUBAY', 'KIBWEZI', 'RONGAI', 'RUIRU ',\n",
       "       'NORTH KINANGOP', 'MAKUYU', 'Nyeri ', 'Eldoret ', 'BOUTIGNY',\n",
       "       '00506', 'MWINGI', '00100', 'KERUGOYA ', 'TALA', 'OLENGURUONE',\n",
       "       'MAVINDINI', 'UHURU GARDENS', 'KIKUYU ', 'Ongata Rongai',\n",
       "       'SOUTH KINANGOP', 'ELDAMA RAVINE', 'MITUNGURU', 'TOM MBOYA',\n",
       "       'NAKURU ', 'MITABONI', 'NAROMORU', 'MURANGA', 'OLJOROROK',\n",
       "       'BUTERE', 'OYUGIS', 'SILIBWET', 'EMBU ', 'Doha', 'Eldoret',\n",
       "       'KANGEMI', 'NYERI-KIGUMO', 'KISERIAN ', 'Athi River', 'KENOL',\n",
       "       'OL KALOU', 'WESTLANDS', 'Nyahururu ', 'ENDARASHA ', 'GPO/NAIROBI',\n",
       "       'DAGORETI', 'OGEMBO ', 'mombasa', 'RUAI', 'DONYO SABUK', 'KEROKA',\n",
       "       'LOWER KABETE', 'MWEIGA', 'Naitobi', 'TOKYO', 'Embu', 'KIRINYAGA',\n",
       "       'KIANYAGA', 'SIAYA ', 'ADLISWIL', 'BURU BURU', 'MERU ', 'NYAKIO',\n",
       "       'KWALE', 'AMUKURA', 'NAROK', 'KOBUJOI', \"WANG'URU\", 'BONDO',\n",
       "       'Kericho', 'KIKIMA ', 'CHANGAMWE', 'BUTULA', 'NAIROBI KAYOLE',\n",
       "       'KANGUNDO', 'MARIAKANI ', 'TIMBOROA', 'KIANJAI', 'KALOLENI ',\n",
       "       'ISINYA', 'IOWA CITY, IOWA', 'Garsen ', 'MUKURWE-INI',\n",
       "       'NAIROBI GPO', 'MANYATTA', 'SARE-OWENDO', 'NANYUKI ', 'NDHIWA',\n",
       "       'ELBURGON', 'Orange', 'MAKUENI', 'kisumu ', 'MACHAKOS ',\n",
       "       'KABARNET ', \"Murang'a \", 'JUJA, KIAMBU', 'Bungoma', 'MAWEGO',\n",
       "       'Bath', 'ROYSAMBU', 'Nanyuki', 'SAGANA', 'MACH ', 'Nyeri', 'Ruaka',\n",
       "       'KITUI ', 'KAJIADO ', 'NUNGUNI', 'RONGAI ', 'KISII ', 'WANGIGE ',\n",
       "       'Makongeni Jogoo Rd', 'nairobi ', 'Kikuyu ', 'Kisii', 'MSAMBWENI',\n",
       "       'BUJUMBURA', 'GITHONGO', 'KEROKA/KISII', 'BURUBURU, NAIROBI',\n",
       "       'MALAVA', 'KIJABE', 'Woolwich ', 'NDERE-SIAYA', 'AHERO',\n",
       "       'MUHORONI ', 'Nakuru ', 'kahuro', 'Malakisi ', 'MUHORONI',\n",
       "       'ISIOLO', 'SYOKIMAU ', 'ONGATA RONGAI ', 'Maralal ',\n",
       "       'KIBIRICHIA, MERU', 'GRANGER, INDIANA', 'WESTLAND ', 'MUKURWEINI ',\n",
       "       'MASII', 'NRB', 'KWISERO', 'ANKARA', 'SHIMBA HILLS', 'TAVETA',\n",
       "       'WOTE, MAKUENI ', 'WANGURU', 'KISSII', 'BURUBURU NAIROBI ',\n",
       "       'KIRITIRI', 'MESA ARIZONA', 'KAJIADO TOWN', 'KURIA',\n",
       "       'NAIROBI WEST', 'ENDARASHA', 'KIPKAREN ', '0', 'GAMBOGI', 'KOLA',\n",
       "       'Marsabit', 'WEBUYE', 'GAKUNGU', 'NAIROBJ',\n",
       "       'NAIROBI ,KAMITI ROAD RICHLAND', 'NKUBU ', 'MWATATE', 'MALAKISI',\n",
       "       'ITEN', 'KATHIANI', \"MURANG'A\", 'KAIRIA', 'UPLANDS ', 'RONGO',\n",
       "       'UHURU GARDEN', 'KINANGOP', 'BAHATI NAKURU ', 'MATILIKU', 'meru',\n",
       "       'Limuru', 'MALAA', 'TURBO', 'MARIMA -MERU HIGHWAY ', 'OLJORO OROK',\n",
       "       'homabay ', 'KIKIMA', 'ADAMS ARCADE', 'MUNICH', 'MUMIAS ',\n",
       "       'KALIMONI ', 'CHWELE', 'MARALAL', 'NAMBALE', 'NAIROBI COUNTY',\n",
       "       'Narok ', 'TURBO ', 'KANGARI ', 'Pécs ', 'thika', 'KATSE',\n",
       "       'thika ', 'CHEBUNYO', 'OL JORO OROK ', 'MOBIL PLAZA', 'WAMUNYU ',\n",
       "       'MAGUNGA', 'RORET', 'YALA', 'KAHUHIA', \"KENOL MURANG'A\",\n",
       "       'Machakos', 'UKWALA', 'KALOLENI', 'JOONDALUP', 'MIGORI ',\n",
       "       'MARAGOLI', 'MARMANET', 'IKANGA', 'KINOO', 'OYUGIS ', 'LANGATA',\n",
       "       'Kiambu', 'Malindi', 'NAIROBI.', 'MAKUENI ', 'Bungoma ',\n",
       "       'GITHUNGURI ', 'MACHOKOS', 'KOMBEWA ', 'UTHIRU ', 'KITENGELA ',\n",
       "       'BANANA', 'CHEPKORIO', 'MASII ', 'Gitugi', '. ', 'RUIRY', 'Kisumu',\n",
       "       'MBUMBUNI-MACHAKOS', 'WAMUYU', 'siaya', 'Kakamega', 'TAITA TAVETA',\n",
       "       'Bumala', 'KIMENDE ', 'BRISTOL', 'MATUNDA', 'KARABA', 'SULTAN',\n",
       "       'GATURA', 'KASARANI ,NAIROBI ', 'NANDI', 'MAGUTUNI', 'CHUKA ',\n",
       "       'NGONG HILL', 'ngong', 'KIANGAI', 'MBITA', 'Mumias', 'KAMBITI',\n",
       "       'MUMBI', 'Juja', 'WODANGA', 'KIRIANI', 'KABARNET', 'MISIKHU',\n",
       "       'Thika', 'NYANSIONGO', 'nyeri ', 'NAIVASHA ', \"MURANG'A \",\n",
       "       'KAPCHENO', 'NGARA', 'MADARAKA', 'kitengela ', 'BONDO ', 'WAMUNYU',\n",
       "       'NYANDARUA', 'MOGOGOSIEK', '00', 'NAIROBI/JUJA', 'NA ', 'LUANDA',\n",
       "       'KLEMZIG', 'TEL AVIV', 'ongata rongai ', '30-60101 Manyatta ',\n",
       "       '12410 Nyeri', 'KATHONZWENI ', 'GITHURAI ', 'WESRN AUSTRALIA',\n",
       "       'SABASABA ', 'Gilgil ', 'ISEBANIA', 'KIRIAINI', 'MUTHETHENI ',\n",
       "       'Mombasa ', 'Kitengela', 'CARLIFONIA', 'NIL',\n",
       "       'NAIROBI, NAIROBI AREA, KENYA', 'SOY', 'Sabasaba', 'SABASABA',\n",
       "       'COLUMBIA', 'Homa Bay ', 'MARIMA', 'SEGA', 'KAYOLE', 'BUDD LAKE',\n",
       "       'KITHYOKO', 'KIJABE ', 'Mbale', 'KITHIMANI', 'HANOI', 'chuka',\n",
       "       'KILINDINI', 'MERY', 'CHELMSFORD', 'LOITOKITOK', 'MOSORIOT',\n",
       "       'IKONGE', 'ENGINEER', 'Othaya', 'Ahero', 'MWEA', 'JOSKA ',\n",
       "       'NGAMBWA', 'MASINGA', 'KINANGOP ', 'LONDON', 'KILELESHWA ',\n",
       "       'SARIT CENTRE', 'mgange ', 'ST. MARYS NSW', 'GESIMA', 'Migori ',\n",
       "       'KHWISERO', 'SYOKIMAU', 'MTITO ANDEI ', 'nakuru ', 'NAIROBI CITY',\n",
       "       'ATHIRIVER', 'KABATI', 'Kitale', 'MPEKETONI', 'YOANI',\n",
       "       'KABARTONJO', 'NAMANGA', 'CHESINENDE', 'BAHATI', 'NZEEKA',\n",
       "       'MATATHIA, KAMAE', 'RONALD NGALA ', 'KUBUKUBU', 'THOGOTO',\n",
       "       'GATORA', 'NAI ', 'KUJA,KIAMBU', 'Machakos ', 'AMAGORO', 'Uthiru',\n",
       "       'Naivasha', 'KEROKA ', 'MAZERAS', 'EGERTON', 'KASARANI', 'Kimende',\n",
       "       'WAJIR', 'DUBAI', 'TWO RIVERS', 'NDARAGWA ', 'EASTLEIGH', 'KAGIO',\n",
       "       'HOMA BAY', 'KISII, KENYA', 'Thika ', 'NGECHA', 'Kakamega ',\n",
       "       'KERINGET', 'FORT WAYNE', 'STAREHE', 'GILGIL ', 'KAWANGWARE',\n",
       "       'GPO NAIROBI', 'GITUGI', 'Tala', 'kakamega ', 'TEXAS', 'GACHIE',\n",
       "       'Syokimau', 'Sydney ', 'LESSOS', 'Meru ', 'KIPKAREN RIVER',\n",
       "       'SOSIOT', 'LAKEWOOD SEATTLE', 'Lodwar', 'Kitale ', 'Membley',\n",
       "       'chepkorio', 'Luanda', 'Kijabe ', 'TONGAREN', 'karuri ', 'malindi',\n",
       "       'Ogembo ', 'Maryland', 'Kisii Town ', 'kajiado ', 'LIKONI',\n",
       "       'wangige ', 'Ngong', 'OLKALOU ', '4597-20100 Nakuru', 'GARISSA',\n",
       "       'KIRIAINI ', 'SYOKIMAU L', 'Machakos, Kathiani', 'Kitui',\n",
       "       'AUSTRALIA', 'Bondo', 'Salama ', 'bomet ', 'Naivasha ',\n",
       "       'TOORMINA, NSW', 'Utawala', 'Ankara', 'MOISBRIDGE', 'nbo',\n",
       "       'Kijabe', 'KABAZI', 'P.O BOX 75-30105 SOY', 'kisumu', 'nyeri',\n",
       "       'Voi', 'Kanjuku', \"NG'IYA\", 'Muranga', 'Bournemouth ',\n",
       "       'SARE-AWENDO', 'narok', 'Ruiru ', 'Kilifi ', 'Meru',\n",
       "       'Ol-joro-orok', '152 30100 eldoret ', 'Mtwapa', 'Karuri',\n",
       "       'Kitengela ', 'Isiolo ', '38061-00623 Nairobi', 'Ngong Hills',\n",
       "       'RARIEDA', ' Nairobi County,', '187 Ngewa', 'NJAMBINI',\n",
       "       '25635 00603 Nairobi', 'GIKOE', 'kakamega', 'ISHIARA ',\n",
       "       'P. O. Box 111 Ruiru', 'Kibwezi', 'Syokimau ', 'kiambu ', 'Bomet ',\n",
       "       'Busia', 'Gilgil', 'LAMU', 'Kajiado ', 'makueni ', 'kisii',\n",
       "       'MERU 2274', 'TURKANA', 'Kilifi', 'nottingham', 'Embakasi',\n",
       "       'Masii - MACHAKOS', 'SEREM', 'Tala, Kangundo. ', 'Ugunja',\n",
       "       'Karatina', 'Migori', 'Berlin', 'KALAMBA', 'UKUNDA ', 'ruiru',\n",
       "       'Sondu', 'BUSIA - PORT VICTORIA ', 'Matuu.', 'Gatundu',\n",
       "       'Seasons Kasarani. ', 'KARUNGU', 'Kahawa Sukari', 'Kangundo ',\n",
       "       'mombasa ', 'St. Georges', 'maseno', 'KINDARUMA ',\n",
       "       'kakuma 1 Nuer community ', 'copenhagen', '549 LIMURU', 'Lamu',\n",
       "       'DRESDEN', 'Ol Kalou ', 'KIRIA-INI ', '123 KIKUYU', 'Kianyaga',\n",
       "       'Kasarani', 'Makueni ', 'KABETE', 'Sagana',\n",
       "       'Imani avenue, Ongata Rongai, Kajiado', 'LOS ANGELES', 'KAKUMA',\n",
       "       'kitengela', '56-10300 Kerugoya', 'Kalimoni P.o Box 178-01001',\n",
       "       'Nairobi, Komarock.', 'kilifi', 'NAIROBI, KITENGELA ',\n",
       "       '14 Lamina Avenue, Mill Park VIC 3082', 'kebirigo ', 'Darwin ',\n",
       "       'Kericho ', 'Nairibi', '782 - 00232 Ruiru', 'eldoret', 'Oyugis',\n",
       "       'Conroe', 'NAIROBI 572 00300', 'Eldama Ravine', 'Kabete ', 'Maua',\n",
       "       'Isiolo', '828-90200', 'Athens', 'Chicago ', 'Hola', 'Abu Dhabi ',\n",
       "       'Nyayo Estate, Court 521', 'Deanside', '452-00200, KIAMBU',\n",
       "       'KOBENHAUN', 'karuri', 'Nanyuki ', 'P.O. Box 2413-60200, Meru',\n",
       "       'Kenol', 'Wote', 'githunguri ', 'NAIROBI. 45095-00100', 'Serem',\n",
       "       'P.o.box 1298-00618 Ruaraka, Nairobi', 'Vienna ', 'karen',\n",
       "       'CHICAGO', 'GENEVA', 'Kiserian ', 'Kabarnet', 'RABAI',\n",
       "       'KIAMBU COUNTY', 'Uthiru Cooperation ', 'Githunguri ',\n",
       "       '79718-00200 NAIROBI', 'stockholm', '42 NDARAGWA',\n",
       "       'P.O. Box 103635-00101', 'Heuchlingen ', 'PORT VICTORIA',\n",
       "       'Doolandella, Australia', 'Grand Oyster Kileleshwa, Nairobi',\n",
       "       '10572-00200 NAIROBI', 'Wangige ', 'Siaya', 'Litein', 'Washington',\n",
       "       'Geneva', 'Winchester ', 'Mariashoni', 'Mwiki', 'Limuru ',\n",
       "       'Nairobi i', 'P O Box 898-00100 NAIROBI', 'KAWNGWARE NAIROBI ',\n",
       "       'rongai', 'Roysambu', 'NAIROBI UMOJA', 'kangema',\n",
       "       'P.O.Box 848-00208 NGONG', 'Braunschweig ', 'Wote MAKUENI',\n",
       "       '814_3 300 KAPSABET ', 'Box 2316 Machakos', 'Ruaraka', 'Nyahururu',\n",
       "       'Kenmore ', 'Melbourne ', '1711 Nyahururu', 'nanyuki',\n",
       "       'kawangware ', 'Narok', 'Githunguri', 'Mahindi ', 'Moncton',\n",
       "       'kERUGOYA', 'Homa Bay', 'Ukunda', 'Mukurweini ', 'Malindi ',\n",
       "       'narumoru', 'Juba', '01000-214 Thika', 'kabete ', 'Kajiado',\n",
       "       'NAROK ', 'Kapenguria ', 'Athi-river ', \"murang'a \", 'Gem',\n",
       "       'nyahururu ', 'Gachie ', 'Kirinyaga', ' Nairobi ', 'CALIFORNIA',\n",
       "       'Bomet', 'molo', 'Chuka', 'Nairobi, Kenya.', 'ANTONY',\n",
       "       'wite-makueni', 'ugunja', 'Matunda ', 'KARORI', 'kikuyu ',\n",
       "       'Shinyalu ', 'Molo', 'KIPKAREN', 'KANGUNDO ', 'LUTON', 'FLORIDA',\n",
       "       'NGEWA', 'SUSWA', 'USA', \"KENOL MURANG'A \", 'PUYALLUP WA USA',\n",
       "       'LAARE', 'P.O Box 30231 - 00100, Nairobi', 'Runyenjes',\n",
       "       'KENDUBAY ', 'Gigiri, Nairobi', 'GATUKUYU', 'BUNYALA', 'OKIA',\n",
       "       '3704 GPO NAIROBI ', 'RANGWE', 'KITUI KENYA', 'SAUDI ARABIA',\n",
       "       'JUJA KALIMONI', 'MSA', 'GAKUNYU', 'MIHARATI', 'KERUGOYA TOWN',\n",
       "       'RAGENGNI', 'mwingi ', 'NBI', 'IGOJI', 'KIMULOT', 'LONDIANI',\n",
       "       'CAMBRIDGE', 'KHAYEGA', 'NDUNYU NJERU ', '58-10205 Maragua',\n",
       "       'MALINDI ', 'Kasarani, Clay City', 'ATHI RIVER ', 'Sawagongo ',\n",
       "       'HELSINKI', 'GPO', 'BURNTFOREST', 'MATUNDA ', 'HARRISDALE',\n",
       "       'KARANDI', 'DUKHAN ', 'SONDU', 'EMBU, KENYA', 'NAIROBI KENYA',\n",
       "       'NANDI HILLS ', 'HAZELWOOD', 'MGANGE', 'LUCYSUMMER-NAIROBI',\n",
       "       'KUKUYU', 'NGONG ROAD', 'NYAYO STADIUM', 'Karen', 'makuyu',\n",
       "       'LOITIKITOK', 'Kenyenya', 'MUNICH ', 'tawa', 'FUNYULA',\n",
       "       'NOTTIGHAM', 'nanyuki ', 'Kenny Bay', 'MOMBSA', 'SHERWOOD',\n",
       "       'NDARAGWA', 'ongata rongai', 'BUMALA', 'MEITINGEN ', '80100',\n",
       "       'KOMBEWA', 'DOYSELDOR', 'NOTTINGHAM', 'VIENNA', 'KISERIAN KAJIADO',\n",
       "       'NAIROBI, KENYA', 'Mtwapa ', 'KEUMBU', 'Kerugoya Town', 'KAP ',\n",
       "       'UPPER HILL NAIROBI', 'MOI;S BRIDGE', 'ENTERPRISE  ROAD',\n",
       "       'THIONGO-NAIROBI', 'KATHONZWENI', 'UTAWALA', 'MIU ATHI-RIVER',\n",
       "       'CHAMAKANGA', 'NYAMACHE', 'NUERI', 'SULTAN HAMUD', 'NAROMORU ',\n",
       "       'NYAMIRA ', 'NAIROBI BURU', 'HAMBURG', 'TOWN ', '14 KADONGO 40223',\n",
       "       'Mois Bridge ', 'RUNYENJES ', 'MARAGWA', 'SURPRISE,USA',\n",
       "       'KALAMBA ', 'Ruai', 'KADONGO', 'TORONGO', 'NJABINI',\n",
       "       'GIGIRI, VILLAGE MARKET, NAIROBI', 'LAVINGTON', 'SPRING VALLEY',\n",
       "       'MBUMBUNI', 'NAIROBI MUNICIPALITY', 'NAIROBI,KENYA',\n",
       "       'Bamburi Mtambo ', 'GITHURAI', 'RUMURUTI',\n",
       "       'Kenyatta Highway, Nanyuki', 'MUTOMO', 'KENYATTA HOSPITAL',\n",
       "       'NAIROBI GENERAL POST OFFICE', 'LITIEN', 'LONDIANI ',\n",
       "       'ONGATA RONGAI NAIROBI', 'GATUNDU ', 'GAMBONI', 'NAIROB',\n",
       "       'L.KABETE', 'ATHI - RIVER', 'kerugoya ', 'Webuye ', 'Maralal',\n",
       "       'Andover', 'mombas', 'Kiambu 627-00900', 'Maragua',\n",
       "       'murang*a 10200-658', 'Syracuse', 'Karen Nairobi ',\n",
       "       'ontario, California 91764 ', 'Karlsruhe ', 'Nyamira ', 'Olkalau',\n",
       "       'GILGIL, KENYA', 'Kerugoya ',\n",
       "       '14 AV FERNAND FENZY92160  ANTONY FRANCE'], dtype=object)"
      ]
     },
     "execution_count": 9,
     "metadata": {},
     "output_type": "execute_result"
    }
   ],
   "source": [
    "df['town'].unique()"
   ]
  },
  {
   "cell_type": "code",
   "execution_count": 10,
   "metadata": {},
   "outputs": [
    {
     "data": {
      "text/plain": [
       "member_no                0\n",
       "reg_date              1863\n",
       "dob                  20038\n",
       "hse_no                   0\n",
       "gender                4667\n",
       "town               1048216\n",
       "relationship       1632933\n",
       "beneficiery_dob    1086598\n",
       "portfolio                9\n",
       "dtype: int64"
      ]
     },
     "execution_count": 10,
     "metadata": {},
     "output_type": "execute_result"
    }
   ],
   "source": [
    "df.isna().sum()"
   ]
  },
  {
   "cell_type": "code",
   "execution_count": 11,
   "metadata": {},
   "outputs": [
    {
     "data": {
      "text/plain": [
       "7407066"
      ]
     },
     "execution_count": 11,
     "metadata": {},
     "output_type": "execute_result"
    }
   ],
   "source": [
    "df.duplicated().sum()"
   ]
  },
  {
   "cell_type": "markdown",
   "metadata": {},
   "source": [
    "The dataset overview provides a snapshot of the data quality, distribution, and any potential data issues that might impact analysis or the development of a cross-selling recommender system. Here’s a breakdown of each key insight:\n",
    "\n",
    "### 1. **DataFrame Information**\n",
    "   - **Shape**: The dataset contains **7,532,954 rows and 9 columns**, which is a substantial dataset in terms of both rows and memory usage (~517.2 MB).\n",
    "   - **Data Types**: Only `member_no` is of integer type, while all other columns are objects (strings). Notably, date columns (`reg_date`, `dob`, `beneficiery_dob`) are stored as strings rather than date types, which may need conversion for time-based analysis.\n",
    "\n",
    "### 2. **Basic Statistics**\n",
    "   - **member_no**:\n",
    "     - The average value (`mean`) is **36,693.57**, and the **max** is **118,011**, indicating the range of member IDs.\n",
    "     - The minimum value is **2**, which could suggest an ID generation starting from low values.\n",
    "     - These stats mainly help confirm the range and spread of `member_no`, which is likely to serve as a unique identifier for individuals.\n",
    "\n",
    "### 3. **Null Values per Column**\n",
    "   - Several columns have notable missing values:\n",
    "     - **reg_date** has **1,863 missing values**. This could be important for time-based or recency-based analyses.\n",
    "     - **dob** has **20,038 missing values**. Missing date of birth information could limit age-related recommendations.\n",
    "     - **town** has a substantial **1,048,216 missing values** (over 13% of the dataset). Missing location data may impact region-specific recommendations.\n",
    "     - **relationship** has **1,632,933 missing values**. The `relationship` status might provide insights into family structures, which could be useful for cross-selling, so the extent of missing values may affect analysis.\n",
    "     - **beneficiery_dob** has **1,086,598 missing values**, which is considerable and could impact any beneficiary-related recommendations.\n",
    "     - **portfolio** has **9 missing values**. This is a small amount but may need to be addressed if portfolio type is crucial for targeting.\n",
    "\n",
    "### 4. **Unique Values per Column**\n",
    "   - **member_no**: There are **75,513 unique IDs**, indicating that some `member_no` entries have multiple rows. This may imply multiple products or relationships associated with each member.\n",
    "   - **reg_date** has **3,163 unique values**, suggesting members registered over a wide range of dates.\n",
    "   - **dob** has **19,092 unique values**, indicating some duplicate birth dates, which is common.\n",
    "   - **hse_no** has only **1 unique value**, meaning all entries have the same value (\"Single Member\"), which may be a default placeholder.\n",
    "   - **gender** shows **6 unique values**, indicating some inconsistencies or multiple formats (e.g., \"Female\" and \"FEMALE\").\n",
    "   - **town** and **relationship** have **973** and **494 unique values** respectively, suggesting a broad diversity in locations and relationships.\n",
    "   - **beneficiery_dob** has **27,488 unique values**, showing diversity but likely also duplication.\n",
    "   - **portfolio** has **7 unique values**, suggesting multiple product types.\n",
    "\n",
    "### 5. **Gender Distribution**\n",
    "   - The `gender` column shows some data quality issues with **6 unique values**:\n",
    "     - The expected values (\"Female\" and \"Male\") are the majority, comprising about 66% and 34%, respectively.\n",
    "     - Minor variations like \"F\", \"M\", \"MALE\", and \"FEMALE\" likely represent data entry inconsistencies. Cleaning these values to a standard format (\"Female\" and \"Male\") would improve analysis accuracy.\n",
    "\n",
    "### 6. **Date Ranges**\n",
    "   - **reg_date**:\n",
    "     - Range is from **March 4, 2022, to October 6, 2023**. This shows registration dates over about 1.5 years, which is relevant for recency analysis.\n",
    "   - **dob**:\n",
    "     - Range is from **January 1, 1934, to July 31, 2015**. The minimum value suggests older members, while the maximum indicates younger members, likely around 8 years old in 2023. This is useful for age segmentation.\n",
    "   - **beneficiery_dob**:\n",
    "     - The range spans from **December 26, 1694, to October 3, 2202**. The minimum and maximum dates indicate significant anomalies likely due to data entry errors or placeholder values. Dates outside a reasonable range (e.g., before 1900 or after 2023) may need correction or filtering for analysis.\n",
    "\n",
    "---\n",
    "\n",
    "### Summary\n",
    "- **Data Quality**: Several columns (`gender`, `town`, `relationship`, `beneficiery_dob`) have issues with missing values or inconsistent entries, which may require cleaning.\n",
    "- **Date Columns**: Converting and cleaning date columns (e.g., `reg_date`, `dob`, `beneficiery_dob`) will be essential, especially for any analysis involving age, registration recency, or beneficiary relationships.\n",
    "- **ID Uniqueness**: `member_no` has duplicate entries, likely indicating multiple entries per member. Understanding this structure is key to correctly interpreting member-level data.\n",
    "- **Next Steps**:\n",
    "  - Standardize values in the `gender` column.\n",
    "  - Filter or clean outliers in `beneficiery_dob`.\n",
    "  - Address missing values, especially in `relationship`, `town`, and `dob`.\n",
    "\n",
    "This dataset overview gives a clear starting point for preparing the data, identifying areas for cleaning, and understanding the distribution of key attributes, all of which will enhance the quality of the cross-selling recommender system."
   ]
  },
  {
   "cell_type": "markdown",
   "metadata": {},
   "source": [
    "In the below code block, we drop duplicated values."
   ]
  },
  {
   "cell_type": "markdown",
   "metadata": {},
   "source": [
    "## Step 2: Data CLeaning:"
   ]
  },
  {
   "cell_type": "markdown",
   "metadata": {},
   "source": [
    "### Data Cleaning Process Outline for Numerical and Categorical Data\n",
    "\n",
    "Given that our dataset is composed of **Numerical** and **Categorical** columns, we'll tailor our cleaning process to handle each type effectively, ensuring the data is prepared for robust analysis and modeling.\n",
    "\n",
    "---\n",
    "\n",
    "### Data Cleaning Process Summary\n",
    "\n",
    "1. **Handle Missing Values**: Impute or drop missing data based on the importance of each column.\n"
   ]
  },
  {
   "cell_type": "code",
   "execution_count": 12,
   "metadata": {},
   "outputs": [],
   "source": [
    "df = df.drop_duplicates()"
   ]
  },
  {
   "cell_type": "markdown",
   "metadata": {},
   "source": [
    "From our problem statement, we aim to cross sell investment products depending on Age, Gender and Location. Therefore, we are going to drop some columns which are irrelevant. e.g. hse_no, beneficiary_dob,reg_date."
   ]
  },
  {
   "cell_type": "code",
   "execution_count": 13,
   "metadata": {},
   "outputs": [],
   "source": [
    "df=df.drop(columns=['reg_date','hse_no'])"
   ]
  },
  {
   "cell_type": "code",
   "execution_count": 14,
   "metadata": {},
   "outputs": [
    {
     "data": {
      "text/plain": [
       "member_no              0\n",
       "dob                  238\n",
       "gender                82\n",
       "town               15026\n",
       "relationship       14308\n",
       "beneficiery_dob    13937\n",
       "portfolio              4\n",
       "dtype: int64"
      ]
     },
     "execution_count": 14,
     "metadata": {},
     "output_type": "execute_result"
    }
   ],
   "source": [
    "df.isna().sum()"
   ]
  },
  {
   "cell_type": "code",
   "execution_count": 15,
   "metadata": {},
   "outputs": [
    {
     "data": {
      "text/plain": [
       "array(['Partner', 'Sister', 'Husband ', 'Husband', 'Daughter', 'Brother ',\n",
       "       'Son', 'Daughter ', 'Wife', 'Father', 'Mother', 'Brother', 'son',\n",
       "       'mother', 'father', 'Mother ', 'SPOUSE', 'FRIEND', 'Spouse ',\n",
       "       'WIfe', 'Father ', 'Spouse', 'child', nan, 'Parent', 'wife',\n",
       "       'Wife ', 'Son ', 'spouse', 'doughter', 'CHILD', 'ParentChild',\n",
       "       'partner', 'brother', 'sister', 'MotheR', 'Friend', 'Child',\n",
       "       'Cousin', 'Dad', 'Mum', 'MOTHER', 'WIFE', 'Sister ', 'SON',\n",
       "       'BROTHER', 'FATHER', 'aunt ', 'Grandmother', 'HUSBAND', 'self',\n",
       "       'husband', 'husband ', 'Owner', ' Grand daughter', 'Nephew',\n",
       "       'SP0USE', 'Self', 'parent', 'SISTER', 'NIECE', 'Niece', 'daughter',\n",
       "       'Sibling', 'DAUGHTER', 'AUNT', 'brother ', '254701361835',\n",
       "       'Parent ', 'daughter ', 'FAITHER', 'Family ', 'SPOUSE ',\n",
       "       'Sibling ', 'PARENT', 'CONFIDANT', 'MUM', 'DAD', 'wife ', 'family',\n",
       "       'Trustee ', 'son ', 'mother ', 'MOTHER ', 'friend', 'spouse ',\n",
       "       'S0N', 'SISTER ', 'FATHER ', 'father ', 'FAMILY ', 'WifE',\n",
       "       'Partner ', 'daugther', '1226805243;130143346', 'relative',\n",
       "       'BROTHER ', 'Daighter', 'Advisor', 'SON ', 'AUNTIE', 'FIANCEE',\n",
       "       'Fiancee', 'DOUGHTER', 'parent ', 'HUSBAND ', 'DAUGHTER ', 'SELF',\n",
       "       'MOther', 'mOTHER', 'Aunt', 'Grandparent', 'Bother ', 'SO',\n",
       "       'married', 'MARRIED', 'FIANCE', 'Doughter ', 'Guardian ',\n",
       "       'ASS0CIATE', 'sibling', 'fiance', 'Sistet', 'Grandson', 'Doughter',\n",
       "       'DAUGTHER', 'wIFE', 'Bro', 'PARTNER', 'B INLAW', 'GUARDIAN',\n",
       "       'daughte', 'Mom', 'COUSIN', 'GRANDMA', 'aunt', 'Domestic Partner',\n",
       "       'PATNER', 'me', 'MENTOR', 'UNCLE', 'Sis', 'SiBLING', 'GRAND SON',\n",
       "       'Fiance ', 'KID', 'SIBLING', 'GRANDSON', 'Nephew ', '-', 'Cousin ',\n",
       "       'DAUGHETR', 'Person', 's0n', 'na', 'myson', 'PARTNER ', 'Bishop',\n",
       "       'nephew', 'mwas', 'Mothers', 'Friend ', 'Child ', 'daughter33',\n",
       "       'CLOSE FRIEND', 'hUSBAND', 'CLOSEFRIEND', 'Boyfriend ',\n",
       "       'dependant', 'WIFE ', 'MARRIAGE', 'GRAND DAUGHTER', 'DAUGHER',\n",
       "       'Niece ', 'granddaughter', 'grandson', 'DAUGHTER/CHILD',\n",
       "       'RELATIVE', 'mum', 'single', 'Self ', 'sister ', 'Mother TO SON',\n",
       "       'Grandfather', 'DAD ', 'Relative', 'Daughter-in-law ',\n",
       "       'GRANDMOTHER', 'child ', '15', 'DaD', 'GIRLFRIEND', 'FAMILY',\n",
       "       'Uncle ', 'SiNGLE', 'SINGLE', 'fiancee', 'FaMILY', 'BENEFICIARY',\n",
       "       'OWNER', 'Relative ', 'GRANDDAUGHTER', ' Spouse', 'uncle',\n",
       "       'Married ', 'chil', 'CHILD MINOR', '33', 'NEPHEW', 'JOINT PARTNER',\n",
       "       'MOTHERS ', 'Fiancé ', 'Others ', 'Grand daughter',\n",
       "       'DAUGHTER-IN-LAW', 'Na', 'CHILD ', 'SPIRITUAL FATHER', 'COUSN',\n",
       "       'DEPEDANT', 'Estate', 'Uncle', 'sISTER', 'sisiter', ' BROTHER',\n",
       "       'Granddaughter ', 'BRother', 'Aunt ', 'cousin', 'Baby', 'Morher',\n",
       "       'MOM', 'God mother', 'GRANDSON ', 'Husband/spouse', 'SPOUCE',\n",
       "       'uncle ', 'FRIEND ', 'Single', 'Vhild', 'Patner', 'Spouce',\n",
       "       'Family', 'SoN', 'SisteR', 'AUNTY', 'FATHER-IN-LAW', 'SonS', '0',\n",
       "       'MO9', 'Fiance', '33.4', 'CHILF', '254727756559', '0720401466',\n",
       "       'GRAND FATHER', 'PRINCIPAL', 'Guardian', 'JUNIOR',\n",
       "       'DGRAND DAUGHTER', 'COWORKER', 'GRAND MOTHER', 'D100', 'NMO',\n",
       "       'BUSINESS PARTNER', 'GURDIAN', '2021', 'MotH', 'MoM', 'UN,CLE',\n",
       "       'GRAND CHILD', 'Sister in law', 'Grand Daughter', 'COMAPANION',\n",
       "       'BOYFRIEND', 'EX-WIFE', 'GRANDDAUGTER', 'PARNT', 'M', 'F', 'Chils',\n",
       "       ';SON', 'GUARDINA', 'NiecE', 'Brother-IN-LAW', 'Member',\n",
       "       'Grand mother', 'ADMINISTRATOR', 'VM', 'GRANDFATHER', 'GIRLFRIED',\n",
       "       'Brestfriend', 'Finance', 'SIS', 'Daughter in law', 'children',\n",
       "       'Girlfriend', 'COLLEAGUE', 'TRUSTEE', '254708368426', 'Colleague',\n",
       "       'Sister-IN-LAW', 'GRAND-DAUGHTER', 'GRANNY', 'GRANDCHILD', \"'M\",\n",
       "       'spouce', 'SiLBLING', 'Siblings', 'Step-mother', 'Aunty', 'FREINF',\n",
       "       '50', '100', '254723993458', 'Cousins', 'Cousins ', 'ASSOCIATE',\n",
       "       'Fiane', 'guardian', 'Guadian', 'Confidant', 'Auntie', 'GRANDPA',\n",
       "       'mom', 'Brother in Law', 'BUSINESS PARTNER ', 'Spuose',\n",
       "       'Business Partner', 'Dating', 'IN LAW', 'STEP-MOM', 'Son/Brother',\n",
       "       'Chid', 'Granddaughter', 'niece', 'Son/SISTER', 'Grand Son',\n",
       "       'BrotheR', \"Nolan's Guardian\", \"Xena's Guardian\", 'Sister-in law',\n",
       "       'PARENTS', 'c/o', 'STEP MOTHER', 'NiCE', 'Ciru', 'DEPENDANT',\n",
       "       'som', 'GUARDIAN ', 'Dau`', 'Kid', 'PARENT ', 'CHILDREN',\n",
       "       'partner ', 'CLOUSIN', '19112004', 'twinsister', 'MINOR',\n",
       "       'Sister- Custodian', 'GRANSON', 'COMPANION', 'ENGAGED',\n",
       "       'WELL WISHER', 'PARNER', 'GRANCHILD', 'Trustee', 'Next of kin',\n",
       "       'SIIBLING', 'SIBLINGS', 'Foster daughter', 'ADMINSTRATOR',\n",
       "       'IN-LAW', 'Boyfriend', 'NepheW', 'EMPLOYEE', 'DIRECTORS',\n",
       "       'RELIGIOUS COMMUNITY', 'CUSTODIAN', 'C/O ARIANNA', 'Sister IN LAW',\n",
       "       'spose', 'SPAUSE', 'MEMBER', 'DomesticPartner', 'Grand-daughter',\n",
       "       'Brother-in-law', 'STEP-BROTHER', 'Mother to Evan', 'Sister-Inlaw',\n",
       "       'BUS. PARTNER', 'Sister(Guardian)', 'CONTACT PERSON', 'FatheR',\n",
       "       'Brother in law', 'Parwnt', 'M,', 'Sister-GUARDIAN', 'Grand Child',\n",
       "       'GODMOTHER', 'Sister-Guardian', 'Mother- Guardian', 'Grandchild',\n",
       "       'Grand son', 'CHLD', 'GRAND.DAUGHTER', 'GRAND-MOTHER', 'Parents',\n",
       "       'EX WIFE', 'Sister - Guardian', 'Step-Mother', 'FOSTER DAUGHTER',\n",
       "       'Grand-mother', 'God Mother', 'Mother-in-law', 'MEMBER ',\n",
       "       'B/S PARTNER', 'LAWYER', 'GRAND-SON', 'parents', 'Stepson',\n",
       "       'Contingent', 'grandmother', 'G/Daughter', 'Brother and sister',\n",
       "       'Sibbling', ' ', 'COUSIN ', 'DaughteR', 'SPUOSE', 'CHIILD',\n",
       "       'DSPOUSE', 'Executor', 'HU', 'EWIFE', 'SPOUDSE', 'SoPOUSE',\n",
       "       'grandchild', 'ChILD', '9266025', 'PARE NT', '254700442162',\n",
       "       'BEST FRIEND', 'SISTER IN LAW ', 'mather', 'SAVING PARTNER ',\n",
       "       'AUNTIE ', 'ParenChild', 'GIRLFRIEND ', 'SINGLE ', 'Parentchild',\n",
       "       'parentchild', 'SPOUSE20', 'Myself', 'FIACEE', 'SD',\n",
       "       'Grand mother ', 'Mother of child', 'Childnephew', 'FATH ',\n",
       "       'MY SON', 'BabyMother', 'CHID', 'GIRL FRIEND', 'chils', 'self ',\n",
       "       \"Mother's \", 'Mum ', 'aunty', 'SPouse', 'Auntie ', 'ChiLD',\n",
       "       'grandmother ', 'Grand daughter ', 'auntie', 'baby mama ', 'DA',\n",
       "       'BrOther', 'Fiancee ', 'In law', 'Colleague ', 'WiFE', 'owner',\n",
       "       'sON', 'Mather', 'Dauhgter', 'myself', 'Hubby', 'Sister in-law',\n",
       "       'Aunty ', 'Foster parent', 'grandson ', 'Wife/Guardian',\n",
       "       '21761402', 'GUARDIAN-MOTHER'], dtype=object)"
      ]
     },
     "execution_count": 15,
     "metadata": {},
     "output_type": "execute_result"
    }
   ],
   "source": [
    "df.relationship.unique()"
   ]
  },
  {
   "cell_type": "code",
   "execution_count": 16,
   "metadata": {},
   "outputs": [
    {
     "data": {
      "text/plain": [
       "\"mother                  18900 son                     18207 daughter                18010 sister                  12234 wife                    11190 husband                  9563 brother                  7768 father                   6738 spouse                   3311 child                    1567 parent                    627 friend                    393 niece                     369 nephew                    313 cousin                    309 aunt                      220 partner                   203 sibling                   199 fiance                    137 guardian                  117 fiancee                   100 uncle                      85 grandson                   74 grandmother                61 family                     51 self                       42 -                          40 estate                     39 grand daughter             31 dad                        29 granddaughter              29 mum                        27 girlfriend                 26 doughter                   25 relative                   18 boyfriend                  17 grandchild                 16 aunty                      16 member                     15 business partner           15 auntie                     14 sister in law              12 gurdian                    11 grandfather                11 mom                        11 so                         10 kid                        10 grand-daughter              9 s0n                         8 trustee                     8 grand mother                8 colleague                   7 single                      7 grand child                 7 patner                      6 spouce                      6 100                         5 parents                     5 0                           4 grand-mother                4 dependant                   4 grand son                   4 daughetr                    4 foster daughter             4 married                     4 owner                       4 bus. partner                3 spause                      3 in law                      3 grand father                3 parentchild                 3 na                          3 daugther                    3 daighter                    3 minor                       3 my son                      3 girl friend                 2 siblings                    2 children                    2 associate                   2 granddaugter                2 god mother                  2 myself                      2 parner                      2 brother in law              2 mather                      2 contact person              2 mothers                     2 sister-guardian             2 ex-wife                     2 baby mama                   2 in-law                      2 b/s partner                 2 beneficiary                 2 50                          2 sister-in-law               2 daughter-in-law             2 sis                         2 depedant                    2 c/o arianna                 2 brother-in-law              2 son/brother                 2 daugher                     2 step-mother                 2 chid                        2 close friend                2 grandma                     2 mother-in-law               2 confidant                   2 vhild                       2 cousins                     2 guardina                    2 m                           2 vm                          2 sister in-law               2 chils                       2 1226805243;130143346        2 spuose                      2 babymother                  1 ex wife                     1 custodian                   1 mentor                      1 mother of child             1 saving partner              1 hu                          1 contingent                  1 step-brother                1 sopouse                     1 employee                    1 254701361835                1 wife/guardian               1 nice                        1 bother                      1 joint partner               1 254700442162                1 sd                          1 principal                   1 administrator               1 dgrand daughter             1 dspouse                     1 closefriend                 1 daughte                     1 moth                        1 grandparent                 1 sisiter                     1 fiacee                      1 daughter/child              1 adminstrator                1 bishop                      1 spoudse                     1 faither                     1 parwnt                      1 well wisher                 1 33                          1 fiane                       1 som                         1 254723993458                1 pare nt                     1 dau`                        1 'm                          1 parnt                       1 un,cle                      1 lawyer                      1 sp0use                      1 religious community         1 m,                          1 mother to evan              1 ass0ciate                   1 dating                      1 next of kin                 1 sister(guardian)            1 myson                       1 cousn                       1 mother- guardian            1 companion                   1 granson                     1 spose                       1 child minor                 1 chiild                      1 15                          1 spouse20                    1 granchild                   1 marriage                    1 finance                     1 chil                        1 morher                      1 c/o                         1 ciru                        1 brestfriend                 1 daughter33                  1 girlfried                   1 chilf                       1 executor                    1 mwas                        1 mo9                         1 9266025                     1 me                          1 grand.daughter              1 best friend                 1 d100                        1 junior                      1 parenchild                  1 foster parent               1 person                      1 21761402                    1 step-mom                    1 nolan's guardian            1 b inlaw                     1 directors                   1 comapanion                  1 grandpa                     1 254708368426                1 ewife                       1 freinf                      1 hubby                       1 19112004                    1 f                           1 dauhgter                    1 chld                        1 sister-inlaw                1 fiancé                      1 0720401466                  1 254727756559                1 guadian                     1 childnephew                 1 twinsister                  1 husband/spouse              1 guardian-mother             1 baby                        1 mother to son               1 engaged                     1 sister-in law               1 granny                      1 g/daughter                  1 mother's                    1 nmo                         1 2021                        1 sistet                      1 son/sister                  1 bro                         1 silbling                    1 godmother                   1 spiritual father            1 brother and sister          1 ;son                        1 sister- custodian           1 fath                        1 step mother                 1 33.4                        1 domesticpartner             1 coworker                    1 sons                        1 xena's guardian             1 advisor                     1 da                          1 stepson                     1 sister - guardian           1 clousin                     1 siibling                    1 father-in-law               1 sibbling                    1 daughter in law             1 domestic partner            1 grand-son                   1 others                      1                             1\""
      ]
     },
     "execution_count": 16,
     "metadata": {},
     "output_type": "execute_result"
    }
   ],
   "source": [
    "df['relationship'] = df['relationship'].str.lower().str.strip()\n",
    "df['relationship'].value_counts().to_string().replace(\"\\n\", \" \")"
   ]
  },
  {
   "cell_type": "code",
   "execution_count": 17,
   "metadata": {},
   "outputs": [
    {
     "data": {
      "text/plain": [
       "0"
      ]
     },
     "execution_count": 17,
     "metadata": {},
     "output_type": "execute_result"
    }
   ],
   "source": [
    "df['relationship'] = df['relationship'].fillna('son')\n",
    "df['relationship'].isna().sum()\n"
   ]
  },
  {
   "cell_type": "code",
   "execution_count": 18,
   "metadata": {},
   "outputs": [
    {
     "name": "stdout",
     "output_type": "stream",
     "text": [
      "child           52152\n",
      "parent          26352\n",
      "partner         24578\n",
      "sibling         20240\n",
      "relative         1534\n",
      "friends           396\n",
      "other             392\n",
      "guardian          128\n",
      "professional       67\n",
      "self               49\n",
      "Name: relationship, dtype: int64\n"
     ]
    }
   ],
   "source": [
    "# Convert all entries to lower case and strip whitespace for uniformity\n",
    "df['relationship'] = df['relationship'].str.lower().str.strip()\n",
    "\n",
    "# Mapping dictionary\n",
    "relationship_map = {\n",
    "    'partner': [\n",
    "        'partner', 'spouse', 'sp0use','husband', 'wife', 'fiancee', 'ex-wife', 'spouce', 'fiancé',\n",
    "        'husband ', 'sponse', 'spouse ', 'wiFe', 'wifE', 'wife ', 'spouse', 'married', 'marriage',\n",
    "        'husband/spouse', 'ex-wife', 'fiance ', 'fiance', 'married ', 'myson', 'baby mama ',\n",
    "        'fiancee ', 'souse', 'hubby', 'dating', 'boyfriend', 'girlfriend', 'ex wife', 'boyfriend ',\n",
    "        'girlfriend ', 'wife/guardian', 'ex husband', 'girl friend', 'fiancée', 'sopouse', 'spoudse',\n",
    "        'soPOUSE', 'spause', 'sposue', 'ex husband', 'love', 'b/f', 'g/f', 'divorcee', 'ex spouse',\n",
    "        'bf', 'gf', 'b/f', 'g/f', 'fiancé ', 'domesticpartner', 'domestic partner', 'dating', 'exwife',\n",
    "        'exhusband', 'wive', 'husb', 'exspouse', 'partner ', 'significant other', 'fiancee','companion','Partner',\n",
    "        'Husband ', 'Husband',  'Wife',   'SPOUSE' , 'Spouse ', 'WIfe', 'Spouse',  'wife', 'Wife ', 'spouse', 'partner',\n",
    "        'HUSBAND', 'husband', 'husband ',  'SP0USE' , 'SPOUSE ',  'wife ',\n",
    "        'spouse ', 'Partner ' , 'FIANCEE', 'Fiancee',  'HUSBAND ',  'FIANCE', \n",
    "        'wIFE', 'PARTNER',  'Domestic Partner', 'PATNER', 'Fiance ', 'PARTNER ',  'hUSBAND',  'Boyfriend ',\n",
    "        'WIFE ', 'fiancee', 'JOINT PARTNER', 'Fiancé ' , 'Husband/spouse', 'SPOUCE',  'Patner', 'Spouce',  \n",
    "        'Fiance', 'BOYFRIEND', 'EX-WIFE',  'PARNT',  'GIRLFRIED'\n",
    "    ],\n",
    "    'child': [\n",
    "        'child', 'kid', 'daughter', 'son', 'children', 'daughter33', 'doughter', 'daugther', 'doughter ',\n",
    "        'daugther', 'son ', 'daughter ', 'child minor', 'kids', 'baby', 'infant', 'toddler', 'sonS',\n",
    "        'minor', 'child ', 'son/sister', 'chid', 'newborn', 'son/brother', 'childnephew',\n",
    "        'chils', 'chiLD', 'kID', 'dau`', 'daugher', 'childnephew', 'my son','child', 'son', 'dau', \n",
    "        'daughter', 'daughter33', 'my son', 'infant', 'childnephew', 'kids', 'baby', 'ChiLD', 'CHID',\n",
    "        'sON', 'cHILS', 'CHID', 'CHIILD', 'KID', 'FOSTER' 'DAUGHTER', 'CHILD MINOR', 'MINOR', 'CHILDREN', \n",
    "        'SOM', 'CHILDREN', 'JUNIOR', 'BABY',  'CHIL', 'DAUGHTER/CHILDDAUGHER', 'CHILF', 'DOUGHTER', 'DAIGHTER', \n",
    "        'DAUGHTE', 'DAUGHETR', 'S0N','MYSON','child','CHILD','Child ','DAUGHTER/CHILD','child ','CHILD MINOR',\n",
    "        'CHILD ','children','CHILDREN','ChILD','ChiLD'\n",
    "    ],\n",
    "    'parent': [\n",
    "        'mother', 'mom', 'mum', 'father', 'dad', 'parent', 'parents', 'mother ', 'father ', 'mOTHER',\n",
    "        'dad ', 'mum ', 'mom ', 'mummy', 'daddy', 'papa', 'mama', 'mother in law', 'father in law',\n",
    "        'mothers', 'fathers', 'moms', 'mums', 'father-in-law', 'mother-in-law', 'mommy', 'dadi', 'momi',\n",
    "        'parent ', 'mother to son', 'mother of child', 'parents', 'mother- guardian', 'father - guardian',\n",
    "        'parentchild', 'parental', 'parenthood', 'parenting', 'mother IN LAW', 'mom in law', 'dad in law',\n",
    "        'mum in law', 'parenting', 'fatherhood', 'motherhood', 'parent ', 'grandparent', 'step mother',\n",
    "        'step father', 'step-mother', 'step-father','Parent', 'Parents', 'Mother', 'Mothers', 'Mom', 'Mum', \n",
    "        'Father', 'DAD', 'Dad', 'Guardian', 'Grandmother', 'Grandfather', 'Step-mother', 'Step-father', 'Foster parent',\n",
    "        'Mother-in-law', 'Father-in-law', 'ParentChild', 'Mama', 'Mummy', 'Dadi', 'Mother TO SON', 'PARENT', 'MOther'\n",
    "    ],\n",
    "    'self': [\n",
    "        'self', 'owner', 'me', 'myself', 'self ', 'owner ', 'i', 'myself ', 'personal', 'individual',\n",
    "        'own', 'my own', 'self-employed', 'proprietor', 'me ', 'self employed', 'self own', 'personal account',\n",
    "        'my account', 'own account'\n",
    "    ],\n",
    "    'guardian': [\n",
    "        'guardian', 'custodian', 'trustee', 'guard', 'guardian ', 'custodian ', 'trustee ', 'guard ',\n",
    "        'legal guardian', 'guardianship', 'custodianship', 'trusteeship', 'protector', 'caregiver',\n",
    "        'conservator','conservator', 'foster parent', 'foster guardian', 'legal custodian', 'guardian-mother', 'guardian father'\n",
    "    ],\n",
    "    'sibling': [\n",
    "        'siblings', 'brother', 'sister', 'sibling', 'brother ', 'sister ', 'bro', 'sis', 'brothers', 'sisters',\n",
    "        'sibling ', 'brother-in-law', 'sister-in-law', 'sibling in law', 'brother and sister', 'sibbling',\n",
    "        'siBLING', 'sibblings', 'sister in law', 'brother in law', 'sister/guardian', 'sister - guardian',\n",
    "        'sister-guardian', 'bros', 'sisses', 'step-sister', 'step-brother', 'half-sister', 'half-brother', 'broski','Sister', 'Brother ','brother', 'sister',\n",
    "       'Sister ', 'SISTER','Sibling', 'brother ','Sibling ','SISTER ','Sistet', 'Bro', 'Sis', 'SiBLING',\n",
    "        'SIBLING',  's0n', 'sister ''sISTER', 'sisiter', ' BROTHER','BRother', 'SisteR', 'SIS', \n",
    "       'som',\n",
    "       'Sister- Custodian', \n",
    "       'SIIBLING', 'SIBLINGS','Brother and sister',\n",
    "       'Sibbling'\n",
    "    ],\n",
    "    'relative': [\n",
    "        'cousin', 'nephew', 'grand child', 'niece', 'grandmother', 'granddaughter', 'grandson', 'grandfather', 'uncles', 'aunties',\n",
    "        'aunt', 'uncle', 'granny', 'grandparent', 'grand child', 'relative', 'relatives', 'cousins', 'uncles',\n",
    "        'aunties', 'aunts', 'grandparents', 'great grandmother', 'great grandfather', 'grand children', 'extended family',\n",
    "        'grandmother ', 'grandfather ', 'nephew ', 'niece ', 'cousin ', 'aunt ', 'uncle ', 'granny ', 'granddaughter ',\n",
    "        'grandson ', 'grandchild', 'grandchild ', 'grandchildren', 'grandkids', 'great grandparent', 'ancestors', 'descendants',\n",
    "        'kin', 'kinship', 'next of kin', 'in-laws', 'inlaw', 'in laws', 'extended relatives', 'b inlaw', 'in law','family tree', 'Cousin', ' Grand daughter', 'Nephew', 'NIECE', 'Niece', 'AUNT', 'relative', 'AUNTIE', 'B INLAW', 'COUSIN', 'aunt', 'UNCLE', 'GRAND SON', 'Nephew ', 'Cousin ', 'nephew', 'GRAND DAUGHTER', 'Niece ', 'granddaughter', 'grandson', 'RELATIVE', 'Daughter-in-law ', 'GRANDMOTHER', 'Relative ', 'uncle',\n",
    "'NEPHEW', 'Grand daughter', 'DAUGHTER-IN-LAW', 'COUSN', 'Uncle', 'Granddaughter ', 'Aunt ', 'cousin', 'GRANDSON ', 'uncle ', 'AUNTY', 'FATHER-IN-LAW', 'GRAND FATHER', 'DGRAND DAUGHTER', 'GRAND MOTHER', 'UN,CLE', 'GRAND CHILD', 'Sister in law', 'Grand Daughter', 'GRANDDAUGTER', 'NiecE', 'Brother-IN-LAW', 'Grand mother', 'GRANDFATHER', 'Daughter in law', 'Sister-IN-LAW', 'GRAND-DAUGHTER', 'GRANNY', \n",
    "'GRANDCHILD', 'Aunty', 'Cousins', 'Cousins ', 'Auntie', 'GRANDPA', 'Brother in Law', 'IN LAW', 'Granddaughter', 'niece', 'Grand Son', 'Sister-in law', 'CLOUSIN', 'GRANSON', 'Sister IN LAW', 'Brother-in-law', 'Sister-Inlaw', 'Brother in law', 'GRAND-MOTHER', 'Grand-mother', 'Mother-in-law', 'SISTER IN LAW ', 'Grand mother ', 'Childnephew', 'Grand daughter ', 'auntie', 'In law', 'Sister in-law', 'Aunty '\n",
    "    ],\n",
    "    'friends': ['friend','closefriend', 'confidant', 'friend ',\n",
    "        'peers', 'acquaintance', 'comrade', 'pal', 'buddy', 'mate', 'fellow', 'ally', 'supporter',\n",
    "        'confidante', 'friend of the family', 'family friend',\n",
    "        'peer', 'companion', 'companions'\n",
    "    ],\n",
    "    'professional':['colleague', 'coworker', 'partner in law',\n",
    "        'associate', 'advisor', 'mentor', 'colleague ', 'coworker ',\n",
    "        'associate ', 'colleague', 'professional', 'mentor', 'adviser', 'counselor', 'legal representative', 'executor', 'business partner',\n",
    "        'co-worker', 'workmate', 'teammate',\n",
    "        'partner in business', 'business associate', 'collaborator', 'collegue','estate'\n",
    "    ],\n",
    "    'other': ['spiritual advisor','sponsor'\n",
    "    ]\n",
    "}\n",
    "\n",
    "# Function to apply the mapping\n",
    "def map_relationship(value):\n",
    "    for category, keywords in relationship_map.items():\n",
    "        if any(keyword == value for keyword in keywords):\n",
    "            return category\n",
    "    return 'other'  # Default category if no matches found\n",
    "\n",
    "# Apply the mapping function to the 'relationship' column\n",
    "df['relationship'] = df['relationship'].apply(map_relationship)\n",
    "\n",
    "# Show the value counts of each category\n",
    "print(df['relationship'].value_counts())"
   ]
  },
  {
   "cell_type": "code",
   "execution_count": 19,
   "metadata": {},
   "outputs": [
    {
     "data": {
      "text/plain": [
       "Index(['member_no', 'dob', 'gender', 'town', 'relationship', 'beneficiery_dob',\n",
       "       'portfolio'],\n",
       "      dtype='object')"
      ]
     },
     "execution_count": 19,
     "metadata": {},
     "output_type": "execute_result"
    }
   ],
   "source": [
    "df.columns"
   ]
  },
  {
   "cell_type": "code",
   "execution_count": 20,
   "metadata": {},
   "outputs": [
    {
     "data": {
      "text/plain": [
       "Female    83178\n",
       "Male      42480\n",
       "F            92\n",
       "M            48\n",
       "MALE          4\n",
       "FEMALE        4\n",
       "Name: gender, dtype: int64"
      ]
     },
     "execution_count": 20,
     "metadata": {},
     "output_type": "execute_result"
    }
   ],
   "source": [
    "df.gender.value_counts()"
   ]
  },
  {
   "cell_type": "code",
   "execution_count": 21,
   "metadata": {},
   "outputs": [
    {
     "data": {
      "text/plain": [
       "82"
      ]
     },
     "execution_count": 21,
     "metadata": {},
     "output_type": "execute_result"
    }
   ],
   "source": [
    "df.gender.isna().sum()"
   ]
  },
  {
   "cell_type": "code",
   "execution_count": 22,
   "metadata": {},
   "outputs": [
    {
     "data": {
      "text/plain": [
       "0"
      ]
     },
     "execution_count": 22,
     "metadata": {},
     "output_type": "execute_result"
    }
   ],
   "source": [
    "df['gender']=df.gender.fillna('Female')\n",
    "df['gender'].isna().sum()"
   ]
  },
  {
   "cell_type": "code",
   "execution_count": 23,
   "metadata": {},
   "outputs": [],
   "source": [
    "gender_map = {\n",
    "    'Female':'Female','F':'Female','FEMALE':'Female',\n",
    "    'Male':'Male','M':'Male','MALE':'Male',\n",
    "}\n",
    "\n",
    "df['gender_mapped'] = df['gender'].replace(gender_map)"
   ]
  },
  {
   "cell_type": "code",
   "execution_count": 24,
   "metadata": {},
   "outputs": [
    {
     "data": {
      "text/html": [
       "<div>\n",
       "<style scoped>\n",
       "    .dataframe tbody tr th:only-of-type {\n",
       "        vertical-align: middle;\n",
       "    }\n",
       "\n",
       "    .dataframe tbody tr th {\n",
       "        vertical-align: top;\n",
       "    }\n",
       "\n",
       "    .dataframe thead th {\n",
       "        text-align: right;\n",
       "    }\n",
       "</style>\n",
       "<table border=\"1\" class=\"dataframe\">\n",
       "  <thead>\n",
       "    <tr style=\"text-align: right;\">\n",
       "      <th></th>\n",
       "      <th>member_no</th>\n",
       "      <th>dob</th>\n",
       "      <th>gender</th>\n",
       "      <th>town</th>\n",
       "      <th>relationship</th>\n",
       "      <th>beneficiery_dob</th>\n",
       "      <th>portfolio</th>\n",
       "      <th>gender_mapped</th>\n",
       "    </tr>\n",
       "  </thead>\n",
       "  <tbody>\n",
       "    <tr>\n",
       "      <th>0</th>\n",
       "      <td>99996</td>\n",
       "      <td>1998-04-06 00:00:00</td>\n",
       "      <td>Female</td>\n",
       "      <td>NAIROBI</td>\n",
       "      <td>partner</td>\n",
       "      <td>1998-01-26</td>\n",
       "      <td>Money Market</td>\n",
       "      <td>Female</td>\n",
       "    </tr>\n",
       "    <tr>\n",
       "      <th>14</th>\n",
       "      <td>99996</td>\n",
       "      <td>1998-04-06 00:00:00</td>\n",
       "      <td>Female</td>\n",
       "      <td>NAIROBI</td>\n",
       "      <td>sibling</td>\n",
       "      <td>2001-03-04</td>\n",
       "      <td>Money Market</td>\n",
       "      <td>Female</td>\n",
       "    </tr>\n",
       "    <tr>\n",
       "      <th>28</th>\n",
       "      <td>99994</td>\n",
       "      <td>1966-01-01 00:00:00</td>\n",
       "      <td>Female</td>\n",
       "      <td>NaN</td>\n",
       "      <td>partner</td>\n",
       "      <td>1962-01-01</td>\n",
       "      <td>Money Market</td>\n",
       "      <td>Female</td>\n",
       "    </tr>\n",
       "    <tr>\n",
       "      <th>40</th>\n",
       "      <td>99993</td>\n",
       "      <td>1974-01-01 00:00:00</td>\n",
       "      <td>Female</td>\n",
       "      <td>NAIROBI</td>\n",
       "      <td>partner</td>\n",
       "      <td>1970-09-29</td>\n",
       "      <td>Money Market</td>\n",
       "      <td>Female</td>\n",
       "    </tr>\n",
       "    <tr>\n",
       "      <th>70</th>\n",
       "      <td>99993</td>\n",
       "      <td>1974-01-01 00:00:00</td>\n",
       "      <td>Female</td>\n",
       "      <td>NAIROBI</td>\n",
       "      <td>child</td>\n",
       "      <td>1994-01-01</td>\n",
       "      <td>Money Market</td>\n",
       "      <td>Female</td>\n",
       "    </tr>\n",
       "  </tbody>\n",
       "</table>\n",
       "</div>"
      ],
      "text/plain": [
       "    member_no                  dob  gender     town relationship  \\\n",
       "0       99996  1998-04-06 00:00:00  Female  NAIROBI      partner   \n",
       "14      99996  1998-04-06 00:00:00  Female  NAIROBI      sibling   \n",
       "28      99994  1966-01-01 00:00:00  Female      NaN      partner   \n",
       "40      99993  1974-01-01 00:00:00  Female  NAIROBI      partner   \n",
       "70      99993  1974-01-01 00:00:00  Female  NAIROBI        child   \n",
       "\n",
       "   beneficiery_dob     portfolio gender_mapped  \n",
       "0       1998-01-26  Money Market        Female  \n",
       "14      2001-03-04  Money Market        Female  \n",
       "28      1962-01-01  Money Market        Female  \n",
       "40      1970-09-29  Money Market        Female  \n",
       "70      1994-01-01  Money Market        Female  "
      ]
     },
     "execution_count": 24,
     "metadata": {},
     "output_type": "execute_result"
    }
   ],
   "source": [
    "df.head()"
   ]
  },
  {
   "cell_type": "code",
   "execution_count": 25,
   "metadata": {},
   "outputs": [
    {
     "data": {
      "text/plain": [
       "1962-01-01             541\n",
       "1960-01-01             360\n",
       "1968-01-01             320\n",
       "1974-01-01             311\n",
       "1970-01-01             311\n",
       "                      ... \n",
       "1961-02-14               1\n",
       "1959-05-18 00:00:00      1\n",
       "1952-04-18               1\n",
       "1978-08-06 00:00:00      1\n",
       "1950-10-10               1\n",
       "Name: dob, Length: 19092, dtype: int64"
      ]
     },
     "execution_count": 25,
     "metadata": {},
     "output_type": "execute_result"
    }
   ],
   "source": [
    "df.dob.value_counts()"
   ]
  },
  {
   "cell_type": "code",
   "execution_count": 26,
   "metadata": {},
   "outputs": [
    {
     "data": {
      "text/plain": [
       "0"
      ]
     },
     "execution_count": 26,
     "metadata": {},
     "output_type": "execute_result"
    }
   ],
   "source": [
    "df['dob'] = df.dob.fillna('1962-01-01')\n",
    "df.dob.isna().sum()"
   ]
  },
  {
   "cell_type": "code",
   "execution_count": 27,
   "metadata": {},
   "outputs": [],
   "source": [
    "from datetime import datetime"
   ]
  },
  {
   "cell_type": "code",
   "execution_count": 28,
   "metadata": {},
   "outputs": [
    {
     "data": {
      "text/html": [
       "<div>\n",
       "<style scoped>\n",
       "    .dataframe tbody tr th:only-of-type {\n",
       "        vertical-align: middle;\n",
       "    }\n",
       "\n",
       "    .dataframe tbody tr th {\n",
       "        vertical-align: top;\n",
       "    }\n",
       "\n",
       "    .dataframe thead th {\n",
       "        text-align: right;\n",
       "    }\n",
       "</style>\n",
       "<table border=\"1\" class=\"dataframe\">\n",
       "  <thead>\n",
       "    <tr style=\"text-align: right;\">\n",
       "      <th></th>\n",
       "      <th>member_no</th>\n",
       "      <th>dob</th>\n",
       "      <th>gender</th>\n",
       "      <th>town</th>\n",
       "      <th>relationship</th>\n",
       "      <th>beneficiery_dob</th>\n",
       "      <th>portfolio</th>\n",
       "      <th>gender_mapped</th>\n",
       "      <th>member_age</th>\n",
       "    </tr>\n",
       "  </thead>\n",
       "  <tbody>\n",
       "    <tr>\n",
       "      <th>0</th>\n",
       "      <td>99996</td>\n",
       "      <td>1998-04-06</td>\n",
       "      <td>Female</td>\n",
       "      <td>NAIROBI</td>\n",
       "      <td>partner</td>\n",
       "      <td>1998-01-26</td>\n",
       "      <td>Money Market</td>\n",
       "      <td>Female</td>\n",
       "      <td>26</td>\n",
       "    </tr>\n",
       "    <tr>\n",
       "      <th>14</th>\n",
       "      <td>99996</td>\n",
       "      <td>1998-04-06</td>\n",
       "      <td>Female</td>\n",
       "      <td>NAIROBI</td>\n",
       "      <td>sibling</td>\n",
       "      <td>2001-03-04</td>\n",
       "      <td>Money Market</td>\n",
       "      <td>Female</td>\n",
       "      <td>26</td>\n",
       "    </tr>\n",
       "    <tr>\n",
       "      <th>28</th>\n",
       "      <td>99994</td>\n",
       "      <td>1966-01-01</td>\n",
       "      <td>Female</td>\n",
       "      <td>NaN</td>\n",
       "      <td>partner</td>\n",
       "      <td>1962-01-01</td>\n",
       "      <td>Money Market</td>\n",
       "      <td>Female</td>\n",
       "      <td>58</td>\n",
       "    </tr>\n",
       "    <tr>\n",
       "      <th>40</th>\n",
       "      <td>99993</td>\n",
       "      <td>1974-01-01</td>\n",
       "      <td>Female</td>\n",
       "      <td>NAIROBI</td>\n",
       "      <td>partner</td>\n",
       "      <td>1970-09-29</td>\n",
       "      <td>Money Market</td>\n",
       "      <td>Female</td>\n",
       "      <td>50</td>\n",
       "    </tr>\n",
       "    <tr>\n",
       "      <th>70</th>\n",
       "      <td>99993</td>\n",
       "      <td>1974-01-01</td>\n",
       "      <td>Female</td>\n",
       "      <td>NAIROBI</td>\n",
       "      <td>child</td>\n",
       "      <td>1994-01-01</td>\n",
       "      <td>Money Market</td>\n",
       "      <td>Female</td>\n",
       "      <td>50</td>\n",
       "    </tr>\n",
       "  </tbody>\n",
       "</table>\n",
       "</div>"
      ],
      "text/plain": [
       "    member_no        dob  gender     town relationship beneficiery_dob  \\\n",
       "0       99996 1998-04-06  Female  NAIROBI      partner      1998-01-26   \n",
       "14      99996 1998-04-06  Female  NAIROBI      sibling      2001-03-04   \n",
       "28      99994 1966-01-01  Female      NaN      partner      1962-01-01   \n",
       "40      99993 1974-01-01  Female  NAIROBI      partner      1970-09-29   \n",
       "70      99993 1974-01-01  Female  NAIROBI        child      1994-01-01   \n",
       "\n",
       "       portfolio gender_mapped  member_age  \n",
       "0   Money Market        Female          26  \n",
       "14  Money Market        Female          26  \n",
       "28  Money Market        Female          58  \n",
       "40  Money Market        Female          50  \n",
       "70  Money Market        Female          50  "
      ]
     },
     "execution_count": 28,
     "metadata": {},
     "output_type": "execute_result"
    }
   ],
   "source": [
    "df['dob'] = pd.to_datetime(df['dob'])\n",
    "today = datetime.today()\n",
    "df['member_age'] = today.year - df['dob'].dt.year \n",
    "df.head()\n"
   ]
  },
  {
   "cell_type": "code",
   "execution_count": 29,
   "metadata": {},
   "outputs": [],
   "source": [
    "df['beneficiery_dob']=pd.to_datetime(df['beneficiery_dob'])\n",
    "current_date = datetime.now()\n",
    "df['beneficiery_age'] = current_date.year - df['beneficiery_dob'].dt.year "
   ]
  },
  {
   "cell_type": "code",
   "execution_count": 30,
   "metadata": {},
   "outputs": [
    {
     "data": {
      "text/plain": [
       "count    111951.000000\n",
       "mean         38.098409\n",
       "std          22.160964\n",
       "min        -178.000000\n",
       "25%          24.000000\n",
       "50%          36.000000\n",
       "75%          53.000000\n",
       "max         330.000000\n",
       "Name: beneficiery_age, dtype: float64"
      ]
     },
     "execution_count": 30,
     "metadata": {},
     "output_type": "execute_result"
    }
   ],
   "source": [
    "df.beneficiery_age.describe()"
   ]
  },
  {
   "cell_type": "code",
   "execution_count": 31,
   "metadata": {},
   "outputs": [
    {
     "data": {
      "text/plain": [
       "Money Market     119710\n",
       "Equity Fund        2014\n",
       "Dollar Fund        1480\n",
       "Balanced Fund      1180\n",
       "Fixed Income       1101\n",
       "Wealth Fund         398\n",
       "MoneyMarket           1\n",
       "Name: portfolio, dtype: int64"
      ]
     },
     "execution_count": 31,
     "metadata": {},
     "output_type": "execute_result"
    }
   ],
   "source": [
    "df.portfolio.value_counts()"
   ]
  },
  {
   "cell_type": "code",
   "execution_count": 32,
   "metadata": {},
   "outputs": [
    {
     "data": {
      "text/plain": [
       "0"
      ]
     },
     "execution_count": 32,
     "metadata": {},
     "output_type": "execute_result"
    }
   ],
   "source": [
    "df['portfolio']=df.portfolio.fillna('Money Market')\n",
    "df.portfolio.isna().sum()"
   ]
  },
  {
   "cell_type": "code",
   "execution_count": 33,
   "metadata": {},
   "outputs": [],
   "source": [
    "portfolio_map ={\n",
    "    'Money Mrket':'Money Market','MoneyMarket':'Money Market',\n",
    "    'Equity Fund':'Equity Fund',\n",
    "    'Dollar Fund':'Dollar Fund',\n",
    "    'Balanced Fund':'Balanced Fund',\n",
    "    'Fixed Income':'Fixed Income',\n",
    "    'Wealth Fund':'Wealth Fund',\n",
    "}\n",
    "df['portfolio_map'] = df['portfolio'].replace(portfolio_map)"
   ]
  },
  {
   "cell_type": "code",
   "execution_count": 34,
   "metadata": {},
   "outputs": [
    {
     "data": {
      "text/html": [
       "<div>\n",
       "<style scoped>\n",
       "    .dataframe tbody tr th:only-of-type {\n",
       "        vertical-align: middle;\n",
       "    }\n",
       "\n",
       "    .dataframe tbody tr th {\n",
       "        vertical-align: top;\n",
       "    }\n",
       "\n",
       "    .dataframe thead th {\n",
       "        text-align: right;\n",
       "    }\n",
       "</style>\n",
       "<table border=\"1\" class=\"dataframe\">\n",
       "  <thead>\n",
       "    <tr style=\"text-align: right;\">\n",
       "      <th></th>\n",
       "      <th>member_no</th>\n",
       "      <th>dob</th>\n",
       "      <th>gender</th>\n",
       "      <th>town</th>\n",
       "      <th>relationship</th>\n",
       "      <th>beneficiery_dob</th>\n",
       "      <th>portfolio</th>\n",
       "      <th>gender_mapped</th>\n",
       "      <th>member_age</th>\n",
       "      <th>beneficiery_age</th>\n",
       "      <th>portfolio_map</th>\n",
       "    </tr>\n",
       "  </thead>\n",
       "  <tbody>\n",
       "    <tr>\n",
       "      <th>0</th>\n",
       "      <td>99996</td>\n",
       "      <td>1998-04-06</td>\n",
       "      <td>Female</td>\n",
       "      <td>NAIROBI</td>\n",
       "      <td>partner</td>\n",
       "      <td>1998-01-26</td>\n",
       "      <td>Money Market</td>\n",
       "      <td>Female</td>\n",
       "      <td>26</td>\n",
       "      <td>26.0</td>\n",
       "      <td>Money Market</td>\n",
       "    </tr>\n",
       "    <tr>\n",
       "      <th>14</th>\n",
       "      <td>99996</td>\n",
       "      <td>1998-04-06</td>\n",
       "      <td>Female</td>\n",
       "      <td>NAIROBI</td>\n",
       "      <td>sibling</td>\n",
       "      <td>2001-03-04</td>\n",
       "      <td>Money Market</td>\n",
       "      <td>Female</td>\n",
       "      <td>26</td>\n",
       "      <td>23.0</td>\n",
       "      <td>Money Market</td>\n",
       "    </tr>\n",
       "    <tr>\n",
       "      <th>28</th>\n",
       "      <td>99994</td>\n",
       "      <td>1966-01-01</td>\n",
       "      <td>Female</td>\n",
       "      <td>NaN</td>\n",
       "      <td>partner</td>\n",
       "      <td>1962-01-01</td>\n",
       "      <td>Money Market</td>\n",
       "      <td>Female</td>\n",
       "      <td>58</td>\n",
       "      <td>62.0</td>\n",
       "      <td>Money Market</td>\n",
       "    </tr>\n",
       "    <tr>\n",
       "      <th>40</th>\n",
       "      <td>99993</td>\n",
       "      <td>1974-01-01</td>\n",
       "      <td>Female</td>\n",
       "      <td>NAIROBI</td>\n",
       "      <td>partner</td>\n",
       "      <td>1970-09-29</td>\n",
       "      <td>Money Market</td>\n",
       "      <td>Female</td>\n",
       "      <td>50</td>\n",
       "      <td>54.0</td>\n",
       "      <td>Money Market</td>\n",
       "    </tr>\n",
       "    <tr>\n",
       "      <th>70</th>\n",
       "      <td>99993</td>\n",
       "      <td>1974-01-01</td>\n",
       "      <td>Female</td>\n",
       "      <td>NAIROBI</td>\n",
       "      <td>child</td>\n",
       "      <td>1994-01-01</td>\n",
       "      <td>Money Market</td>\n",
       "      <td>Female</td>\n",
       "      <td>50</td>\n",
       "      <td>30.0</td>\n",
       "      <td>Money Market</td>\n",
       "    </tr>\n",
       "  </tbody>\n",
       "</table>\n",
       "</div>"
      ],
      "text/plain": [
       "    member_no        dob  gender     town relationship beneficiery_dob  \\\n",
       "0       99996 1998-04-06  Female  NAIROBI      partner      1998-01-26   \n",
       "14      99996 1998-04-06  Female  NAIROBI      sibling      2001-03-04   \n",
       "28      99994 1966-01-01  Female      NaN      partner      1962-01-01   \n",
       "40      99993 1974-01-01  Female  NAIROBI      partner      1970-09-29   \n",
       "70      99993 1974-01-01  Female  NAIROBI        child      1994-01-01   \n",
       "\n",
       "       portfolio gender_mapped  member_age  beneficiery_age portfolio_map  \n",
       "0   Money Market        Female          26             26.0  Money Market  \n",
       "14  Money Market        Female          26             23.0  Money Market  \n",
       "28  Money Market        Female          58             62.0  Money Market  \n",
       "40  Money Market        Female          50             54.0  Money Market  \n",
       "70  Money Market        Female          50             30.0  Money Market  "
      ]
     },
     "execution_count": 34,
     "metadata": {},
     "output_type": "execute_result"
    }
   ],
   "source": [
    "df.head()"
   ]
  },
  {
   "cell_type": "code",
   "execution_count": 35,
   "metadata": {},
   "outputs": [
    {
     "data": {
      "text/plain": [
       "15026"
      ]
     },
     "execution_count": 35,
     "metadata": {},
     "output_type": "execute_result"
    }
   ],
   "source": [
    "df.town.isna().sum()"
   ]
  },
  {
   "cell_type": "code",
   "execution_count": 36,
   "metadata": {},
   "outputs": [
    {
     "data": {
      "text/plain": [
       "NAIROBI              56997\n",
       "Nairobi              10261\n",
       "THIKA                 3000\n",
       "NAKURU                2608\n",
       "MOMBASA               2440\n",
       "                     ...  \n",
       "BURUBURU NAIROBI         1\n",
       "SABASABA                 1\n",
       "Ruai                     1\n",
       "WANGÚRU                  1\n",
       "Kabarnet                 1\n",
       "Name: town, Length: 973, dtype: int64"
      ]
     },
     "execution_count": 36,
     "metadata": {},
     "output_type": "execute_result"
    }
   ],
   "source": [
    "df.town.value_counts()"
   ]
  },
  {
   "cell_type": "code",
   "execution_count": 37,
   "metadata": {},
   "outputs": [
    {
     "data": {
      "text/plain": [
       "0"
      ]
     },
     "execution_count": 37,
     "metadata": {},
     "output_type": "execute_result"
    }
   ],
   "source": [
    "df['town'] = df.town.fillna('Unknown')\n",
    "df.town.isna().sum()"
   ]
  },
  {
   "cell_type": "code",
   "execution_count": 38,
   "metadata": {},
   "outputs": [
    {
     "data": {
      "text/html": [
       "<div>\n",
       "<style scoped>\n",
       "    .dataframe tbody tr th:only-of-type {\n",
       "        vertical-align: middle;\n",
       "    }\n",
       "\n",
       "    .dataframe tbody tr th {\n",
       "        vertical-align: top;\n",
       "    }\n",
       "\n",
       "    .dataframe thead th {\n",
       "        text-align: right;\n",
       "    }\n",
       "</style>\n",
       "<table border=\"1\" class=\"dataframe\">\n",
       "  <thead>\n",
       "    <tr style=\"text-align: right;\">\n",
       "      <th></th>\n",
       "      <th>member_no</th>\n",
       "      <th>dob</th>\n",
       "      <th>gender</th>\n",
       "      <th>town</th>\n",
       "      <th>relationship</th>\n",
       "      <th>beneficiery_dob</th>\n",
       "      <th>portfolio</th>\n",
       "      <th>gender_mapped</th>\n",
       "      <th>member_age</th>\n",
       "      <th>beneficiery_age</th>\n",
       "      <th>portfolio_map</th>\n",
       "    </tr>\n",
       "  </thead>\n",
       "  <tbody>\n",
       "    <tr>\n",
       "      <th>0</th>\n",
       "      <td>99996</td>\n",
       "      <td>1998-04-06</td>\n",
       "      <td>Female</td>\n",
       "      <td>NAIROBI</td>\n",
       "      <td>partner</td>\n",
       "      <td>1998-01-26</td>\n",
       "      <td>Money Market</td>\n",
       "      <td>Female</td>\n",
       "      <td>26</td>\n",
       "      <td>26.0</td>\n",
       "      <td>Money Market</td>\n",
       "    </tr>\n",
       "    <tr>\n",
       "      <th>14</th>\n",
       "      <td>99996</td>\n",
       "      <td>1998-04-06</td>\n",
       "      <td>Female</td>\n",
       "      <td>NAIROBI</td>\n",
       "      <td>sibling</td>\n",
       "      <td>2001-03-04</td>\n",
       "      <td>Money Market</td>\n",
       "      <td>Female</td>\n",
       "      <td>26</td>\n",
       "      <td>23.0</td>\n",
       "      <td>Money Market</td>\n",
       "    </tr>\n",
       "    <tr>\n",
       "      <th>28</th>\n",
       "      <td>99994</td>\n",
       "      <td>1966-01-01</td>\n",
       "      <td>Female</td>\n",
       "      <td>Unknown</td>\n",
       "      <td>partner</td>\n",
       "      <td>1962-01-01</td>\n",
       "      <td>Money Market</td>\n",
       "      <td>Female</td>\n",
       "      <td>58</td>\n",
       "      <td>62.0</td>\n",
       "      <td>Money Market</td>\n",
       "    </tr>\n",
       "    <tr>\n",
       "      <th>40</th>\n",
       "      <td>99993</td>\n",
       "      <td>1974-01-01</td>\n",
       "      <td>Female</td>\n",
       "      <td>NAIROBI</td>\n",
       "      <td>partner</td>\n",
       "      <td>1970-09-29</td>\n",
       "      <td>Money Market</td>\n",
       "      <td>Female</td>\n",
       "      <td>50</td>\n",
       "      <td>54.0</td>\n",
       "      <td>Money Market</td>\n",
       "    </tr>\n",
       "    <tr>\n",
       "      <th>70</th>\n",
       "      <td>99993</td>\n",
       "      <td>1974-01-01</td>\n",
       "      <td>Female</td>\n",
       "      <td>NAIROBI</td>\n",
       "      <td>child</td>\n",
       "      <td>1994-01-01</td>\n",
       "      <td>Money Market</td>\n",
       "      <td>Female</td>\n",
       "      <td>50</td>\n",
       "      <td>30.0</td>\n",
       "      <td>Money Market</td>\n",
       "    </tr>\n",
       "  </tbody>\n",
       "</table>\n",
       "</div>"
      ],
      "text/plain": [
       "    member_no        dob  gender     town relationship beneficiery_dob  \\\n",
       "0       99996 1998-04-06  Female  NAIROBI      partner      1998-01-26   \n",
       "14      99996 1998-04-06  Female  NAIROBI      sibling      2001-03-04   \n",
       "28      99994 1966-01-01  Female  Unknown      partner      1962-01-01   \n",
       "40      99993 1974-01-01  Female  NAIROBI      partner      1970-09-29   \n",
       "70      99993 1974-01-01  Female  NAIROBI        child      1994-01-01   \n",
       "\n",
       "       portfolio gender_mapped  member_age  beneficiery_age portfolio_map  \n",
       "0   Money Market        Female          26             26.0  Money Market  \n",
       "14  Money Market        Female          26             23.0  Money Market  \n",
       "28  Money Market        Female          58             62.0  Money Market  \n",
       "40  Money Market        Female          50             54.0  Money Market  \n",
       "70  Money Market        Female          50             30.0  Money Market  "
      ]
     },
     "execution_count": 38,
     "metadata": {},
     "output_type": "execute_result"
    }
   ],
   "source": [
    "df.head()"
   ]
  },
  {
   "cell_type": "code",
   "execution_count": 39,
   "metadata": {},
   "outputs": [
    {
     "data": {
      "text/html": [
       "<div>\n",
       "<style scoped>\n",
       "    .dataframe tbody tr th:only-of-type {\n",
       "        vertical-align: middle;\n",
       "    }\n",
       "\n",
       "    .dataframe tbody tr th {\n",
       "        vertical-align: top;\n",
       "    }\n",
       "\n",
       "    .dataframe thead th {\n",
       "        text-align: right;\n",
       "    }\n",
       "</style>\n",
       "<table border=\"1\" class=\"dataframe\">\n",
       "  <thead>\n",
       "    <tr style=\"text-align: right;\">\n",
       "      <th></th>\n",
       "      <th>member_no</th>\n",
       "      <th>town</th>\n",
       "      <th>relationship</th>\n",
       "      <th>gender_mapped</th>\n",
       "      <th>member_age</th>\n",
       "      <th>beneficiery_age</th>\n",
       "      <th>portfolio_map</th>\n",
       "    </tr>\n",
       "  </thead>\n",
       "  <tbody>\n",
       "    <tr>\n",
       "      <th>0</th>\n",
       "      <td>99996</td>\n",
       "      <td>NAIROBI</td>\n",
       "      <td>partner</td>\n",
       "      <td>Female</td>\n",
       "      <td>26</td>\n",
       "      <td>26.0</td>\n",
       "      <td>Money Market</td>\n",
       "    </tr>\n",
       "    <tr>\n",
       "      <th>14</th>\n",
       "      <td>99996</td>\n",
       "      <td>NAIROBI</td>\n",
       "      <td>sibling</td>\n",
       "      <td>Female</td>\n",
       "      <td>26</td>\n",
       "      <td>23.0</td>\n",
       "      <td>Money Market</td>\n",
       "    </tr>\n",
       "    <tr>\n",
       "      <th>28</th>\n",
       "      <td>99994</td>\n",
       "      <td>Unknown</td>\n",
       "      <td>partner</td>\n",
       "      <td>Female</td>\n",
       "      <td>58</td>\n",
       "      <td>62.0</td>\n",
       "      <td>Money Market</td>\n",
       "    </tr>\n",
       "    <tr>\n",
       "      <th>40</th>\n",
       "      <td>99993</td>\n",
       "      <td>NAIROBI</td>\n",
       "      <td>partner</td>\n",
       "      <td>Female</td>\n",
       "      <td>50</td>\n",
       "      <td>54.0</td>\n",
       "      <td>Money Market</td>\n",
       "    </tr>\n",
       "    <tr>\n",
       "      <th>70</th>\n",
       "      <td>99993</td>\n",
       "      <td>NAIROBI</td>\n",
       "      <td>child</td>\n",
       "      <td>Female</td>\n",
       "      <td>50</td>\n",
       "      <td>30.0</td>\n",
       "      <td>Money Market</td>\n",
       "    </tr>\n",
       "  </tbody>\n",
       "</table>\n",
       "</div>"
      ],
      "text/plain": [
       "    member_no     town relationship gender_mapped  member_age  \\\n",
       "0       99996  NAIROBI      partner        Female          26   \n",
       "14      99996  NAIROBI      sibling        Female          26   \n",
       "28      99994  Unknown      partner        Female          58   \n",
       "40      99993  NAIROBI      partner        Female          50   \n",
       "70      99993  NAIROBI        child        Female          50   \n",
       "\n",
       "    beneficiery_age portfolio_map  \n",
       "0              26.0  Money Market  \n",
       "14             23.0  Money Market  \n",
       "28             62.0  Money Market  \n",
       "40             54.0  Money Market  \n",
       "70             30.0  Money Market  "
      ]
     },
     "execution_count": 39,
     "metadata": {},
     "output_type": "execute_result"
    }
   ],
   "source": [
    "new_df=df.drop(columns=['dob','gender','portfolio','beneficiery_dob'])\n",
    "new_df.head()"
   ]
  },
  {
   "cell_type": "code",
   "execution_count": 40,
   "metadata": {},
   "outputs": [
    {
     "data": {
      "text/plain": [
       "0"
      ]
     },
     "execution_count": 40,
     "metadata": {},
     "output_type": "execute_result"
    }
   ],
   "source": [
    "new_df['beneficiery_age']=new_df.fillna(35.0)\n",
    "new_df.beneficiery_age.isna().sum()"
   ]
  },
  {
   "cell_type": "code",
   "execution_count": 41,
   "metadata": {},
   "outputs": [],
   "source": [
    "# Set reasonable age bounds\n",
    "lower_bound = 0\n",
    "upper_bound = 100\n",
    "\n",
    "# Create a copy of original ages for comparison if needed\n",
    "original_ages = new_df['beneficiery_age'].copy()\n",
    "\n",
    "# Replace outliers by clipping to bounds\n",
    "new_df['beneficiery_age'] = new_df['beneficiery_age'].clip(lower=lower_bound, upper=upper_bound)"
   ]
  },
  {
   "cell_type": "code",
   "execution_count": 42,
   "metadata": {},
   "outputs": [],
   "source": [
    "import matplotlib.pyplot as plt\n",
    "import seaborn as sns"
   ]
  },
  {
   "cell_type": "code",
   "execution_count": 43,
   "metadata": {},
   "outputs": [
    {
     "data": {
      "image/png": "[encoded data removed]",
      "text/plain": [
       "<Figure size 720x432 with 1 Axes>"
      ]
     },
     "metadata": {
      "needs_background": "light"
     },
     "output_type": "display_data"
    }
   ],
   "source": [
    "average_age = new_df.groupby('portfolio_map')['member_age'].mean().reset_index()\n",
    "\n",
    "plt.figure(figsize=(10, 6))\n",
    "sns.barplot(x='portfolio_map', y='member_age', data=average_age)\n",
    "plt.title('Average Age by Portfolio Map')\n",
    "plt.xlabel('Portfolio Map')\n",
    "plt.ylabel('Average Age')\n",
    "plt.show()\n"
   ]
  },
  {
   "cell_type": "code",
   "execution_count": 44,
   "metadata": {},
   "outputs": [
    {
     "data": {
      "text/plain": [
       "Index(['member_no', 'town', 'relationship', 'gender_mapped', 'member_age',\n",
       "       'beneficiery_age', 'portfolio_map'],\n",
       "      dtype='object')"
      ]
     },
     "execution_count": 44,
     "metadata": {},
     "output_type": "execute_result"
    }
   ],
   "source": [
    "new_df.columns"
   ]
  },
  {
   "cell_type": "code",
   "execution_count": 45,
   "metadata": {},
   "outputs": [
    {
     "name": "stdout",
     "output_type": "stream",
     "text": [
      "<class 'pandas.core.frame.DataFrame'>\n",
      "Int64Index: 125888 entries, 0 to 7532842\n",
      "Data columns (total 7 columns):\n",
      " #   Column           Non-Null Count   Dtype \n",
      "---  ------           --------------   ----- \n",
      " 0   member_no        125888 non-null  int64 \n",
      " 1   town             125888 non-null  object\n",
      " 2   relationship     125888 non-null  object\n",
      " 3   gender_mapped    125888 non-null  object\n",
      " 4   member_age       125888 non-null  int64 \n",
      " 5   beneficiery_age  125888 non-null  object\n",
      " 6   portfolio_map    125888 non-null  object\n",
      "dtypes: int64(2), object(5)\n",
      "memory usage: 7.7+ MB\n"
     ]
    }
   ],
   "source": [
    "new_df.info()"
   ]
  },
  {
   "cell_type": "code",
   "execution_count": 46,
   "metadata": {},
   "outputs": [
    {
     "data": {
      "image/png": "[encoded data removed]",
      "text/plain": [
       "<Figure size 576x432 with 1 Axes>"
      ]
     },
     "metadata": {
      "needs_background": "light"
     },
     "output_type": "display_data"
    }
   ],
   "source": [
    "plt.figure(figsize=(8, 6))\n",
    "sns.countplot(data=new_df, x='gender_mapped', palette='viridis')\n",
    "plt.title('Male vs Female Count in Gender Mapped')\n",
    "plt.xlabel('Gender')\n",
    "plt.ylabel('Count')\n",
    "plt.show()"
   ]
  },
  {
   "cell_type": "code",
   "execution_count": 47,
   "metadata": {},
   "outputs": [
    {
     "data": {
      "image/png": "[encoded data removed]",
      "text/plain": [
       "<Figure size 720x432 with 1 Axes>"
      ]
     },
     "metadata": {
      "needs_background": "light"
     },
     "output_type": "display_data"
    }
   ],
   "source": [
    "plt.figure(figsize=(10, 6))\n",
    "sns.countplot(data=new_df, x='gender_mapped', hue='portfolio_map', palette='viridis')\n",
    "plt.title('Gender vs Portfolio Map')\n",
    "plt.xlabel('Gender')\n",
    "plt.ylabel('Count')\n",
    "plt.legend(title='Portfolio Map')\n",
    "plt.show()"
   ]
  },
  {
   "cell_type": "code",
   "execution_count": 48,
   "metadata": {},
   "outputs": [
    {
     "data": {
      "image/png": "[encoded data removed]",
      "text/plain": [
       "<Figure size 576x576 with 1 Axes>"
      ]
     },
     "metadata": {},
     "output_type": "display_data"
    }
   ],
   "source": [
    "age_bins = [0, 18, 30, 45, 60, 100]\n",
    "age_labels = ['0-18', '19-30', '31-45', '46-60', '60+']\n",
    "new_df['age_group'] = pd.cut(new_df['member_age'], bins=age_bins, labels=age_labels)\n",
    "age_counts = new_df['age_group'].value_counts().sort_index()\n",
    "plt.figure(figsize=(8, 8))\n",
    "plt.pie(age_counts, labels=age_counts.index, autopct='%1.1f%%', startangle=140, colors=sns.color_palette('viridis'))\n",
    "plt.title('Members Age Groups Distribution')\n",
    "plt.show()"
   ]
  },
  {
   "cell_type": "code",
   "execution_count": 49,
   "metadata": {},
   "outputs": [
    {
     "data": {
      "image/png": "[encoded data removed]",
      "text/plain": [
       "<Figure size 720x432 with 1 Axes>"
      ]
     },
     "metadata": {
      "needs_background": "light"
     },
     "output_type": "display_data"
    }
   ],
   "source": [
    "top_10_towns = new_df['town'].value_counts().head(10)\n",
    "plt.figure(figsize=(10, 6))\n",
    "sns.barplot(x=top_10_towns.values, y=top_10_towns.index, palette='viridis')\n",
    "plt.title('Top 10 Towns')\n",
    "plt.xlabel('Count')\n",
    "plt.ylabel('Town')\n",
    "plt.show()"
   ]
  },
  {
   "cell_type": "markdown",
   "metadata": {},
   "source": [
    "## MODELLING\n",
    "Creation of the rule-base factoring in member_age, gender, Town, relationship and portfolio"
   ]
  },
  {
   "cell_type": "code",
   "execution_count": 50,
   "metadata": {},
   "outputs": [
    {
     "data": {
      "text/html": [
       "<div>\n",
       "<style scoped>\n",
       "    .dataframe tbody tr th:only-of-type {\n",
       "        vertical-align: middle;\n",
       "    }\n",
       "\n",
       "    .dataframe tbody tr th {\n",
       "        vertical-align: top;\n",
       "    }\n",
       "\n",
       "    .dataframe thead th {\n",
       "        text-align: right;\n",
       "    }\n",
       "</style>\n",
       "<table border=\"1\" class=\"dataframe\">\n",
       "  <thead>\n",
       "    <tr style=\"text-align: right;\">\n",
       "      <th></th>\n",
       "      <th>member_no</th>\n",
       "      <th>town</th>\n",
       "      <th>relationship</th>\n",
       "      <th>gender_mapped</th>\n",
       "      <th>member_age</th>\n",
       "      <th>beneficiery_age</th>\n",
       "      <th>portfolio_map</th>\n",
       "      <th>age_group</th>\n",
       "      <th>recommended_portfolio</th>\n",
       "    </tr>\n",
       "  </thead>\n",
       "  <tbody>\n",
       "    <tr>\n",
       "      <th>0</th>\n",
       "      <td>99996</td>\n",
       "      <td>NAIROBI</td>\n",
       "      <td>partner</td>\n",
       "      <td>Female</td>\n",
       "      <td>26</td>\n",
       "      <td>100</td>\n",
       "      <td>Money Market</td>\n",
       "      <td>19-30</td>\n",
       "      <td>Balanced Fund</td>\n",
       "    </tr>\n",
       "    <tr>\n",
       "      <th>14</th>\n",
       "      <td>99996</td>\n",
       "      <td>NAIROBI</td>\n",
       "      <td>sibling</td>\n",
       "      <td>Female</td>\n",
       "      <td>26</td>\n",
       "      <td>100</td>\n",
       "      <td>Money Market</td>\n",
       "      <td>19-30</td>\n",
       "      <td>Balanced Fund</td>\n",
       "    </tr>\n",
       "    <tr>\n",
       "      <th>28</th>\n",
       "      <td>99994</td>\n",
       "      <td>Unknown</td>\n",
       "      <td>partner</td>\n",
       "      <td>Female</td>\n",
       "      <td>58</td>\n",
       "      <td>100</td>\n",
       "      <td>Money Market</td>\n",
       "      <td>46-60</td>\n",
       "      <td>Balanced Fund</td>\n",
       "    </tr>\n",
       "    <tr>\n",
       "      <th>40</th>\n",
       "      <td>99993</td>\n",
       "      <td>NAIROBI</td>\n",
       "      <td>partner</td>\n",
       "      <td>Female</td>\n",
       "      <td>50</td>\n",
       "      <td>100</td>\n",
       "      <td>Money Market</td>\n",
       "      <td>46-60</td>\n",
       "      <td>Balanced Fund</td>\n",
       "    </tr>\n",
       "    <tr>\n",
       "      <th>70</th>\n",
       "      <td>99993</td>\n",
       "      <td>NAIROBI</td>\n",
       "      <td>child</td>\n",
       "      <td>Female</td>\n",
       "      <td>50</td>\n",
       "      <td>100</td>\n",
       "      <td>Money Market</td>\n",
       "      <td>46-60</td>\n",
       "      <td>Balanced Fund</td>\n",
       "    </tr>\n",
       "  </tbody>\n",
       "</table>\n",
       "</div>"
      ],
      "text/plain": [
       "    member_no     town relationship gender_mapped  member_age beneficiery_age  \\\n",
       "0       99996  NAIROBI      partner        Female          26             100   \n",
       "14      99996  NAIROBI      sibling        Female          26             100   \n",
       "28      99994  Unknown      partner        Female          58             100   \n",
       "40      99993  NAIROBI      partner        Female          50             100   \n",
       "70      99993  NAIROBI        child        Female          50             100   \n",
       "\n",
       "   portfolio_map age_group recommended_portfolio  \n",
       "0   Money Market     19-30         Balanced Fund  \n",
       "14  Money Market     19-30         Balanced Fund  \n",
       "28  Money Market     46-60         Balanced Fund  \n",
       "40  Money Market     46-60         Balanced Fund  \n",
       "70  Money Market     46-60         Balanced Fund  "
      ]
     },
     "execution_count": 50,
     "metadata": {},
     "output_type": "execute_result"
    }
   ],
   "source": [
    "# Define the recommendation function\n",
    "def recommend_portfolio(row):\n",
    "    # Age-based recommendations\n",
    "    if row['member_age'] < 30:\n",
    "        portfolio = 'Equity Fund'  # High-risk, growth-oriented for young people\n",
    "    elif 30 <= row['member_age'] <= 60:\n",
    "        portfolio = 'Balanced Fund'  # Moderate risk for middle-aged people\n",
    "    else:\n",
    "        portfolio = 'Money Market'  # Low-risk, secure for older individuals\n",
    "\n",
    "    # Gender-based adjustments\n",
    "    if row['gender_mapped'] == 'Female':\n",
    "        if portfolio == 'Equity Fund':\n",
    "            portfolio = 'Balanced Fund'  # Shift to a safer option for females\n",
    "\n",
    "    # Town-based adjustments\n",
    "    if row['town'] in ['NAIROBI', 'Mombasa']:  # Urban areas\n",
    "        if portfolio == 'Money Market':\n",
    "            portfolio = 'Balanced Fund'  # Urban dwellers may prefer a bit more risk\n",
    "    else:\n",
    "        if portfolio == 'Equity Fund':\n",
    "            portfolio = 'Balanced Fund'  # Rural or unknown areas are more conservative\n",
    "\n",
    "    # Relationship-based adjustments\n",
    "    if row['relationship'] == 'Partner':\n",
    "        if portfolio == 'Equity Fund':\n",
    "            portfolio = 'Fixed Income'  # Partners may prefer low-risk, secure investments\n",
    "    elif row['relationship'] == 'Sibling':\n",
    "        if portfolio == 'Money Market':\n",
    "            portfolio = 'Balanced Fund'  # Siblings may have more tolerance for risk\n",
    "    elif row['relationship'] == 'Child':\n",
    "        if portfolio == 'Money Market':\n",
    "            portfolio = 'Equity Fund'  # Children are more likely to prefer high-risk, high-reward\n",
    "\n",
    "    # Return the final recommended portfolio\n",
    "    return portfolio\n",
    "\n",
    "# Apply the recommendation function to each row in new_df\n",
    "new_df['recommended_portfolio'] = new_df.apply(recommend_portfolio, axis=1)\n",
    "\n",
    "# Display the first few rows to verify\n",
    "new_df.head()\n"
   ]
  },
  {
   "cell_type": "markdown",
   "metadata": {},
   "source": [
    "Pipeline for Rating"
   ]
  },
  {
   "cell_type": "code",
   "execution_count": 51,
   "metadata": {},
   "outputs": [
    {
     "data": {
      "text/html": [
       "<div>\n",
       "<style scoped>\n",
       "    .dataframe tbody tr th:only-of-type {\n",
       "        vertical-align: middle;\n",
       "    }\n",
       "\n",
       "    .dataframe tbody tr th {\n",
       "        vertical-align: top;\n",
       "    }\n",
       "\n",
       "    .dataframe thead th {\n",
       "        text-align: right;\n",
       "    }\n",
       "</style>\n",
       "<table border=\"1\" class=\"dataframe\">\n",
       "  <thead>\n",
       "    <tr style=\"text-align: right;\">\n",
       "      <th></th>\n",
       "      <th>member_no</th>\n",
       "      <th>town</th>\n",
       "      <th>relationship</th>\n",
       "      <th>gender_mapped</th>\n",
       "      <th>member_age</th>\n",
       "      <th>beneficiery_age</th>\n",
       "      <th>portfolio_map</th>\n",
       "      <th>age_group</th>\n",
       "      <th>recommended_portfolio</th>\n",
       "      <th>rating</th>\n",
       "    </tr>\n",
       "  </thead>\n",
       "  <tbody>\n",
       "    <tr>\n",
       "      <th>0</th>\n",
       "      <td>99996</td>\n",
       "      <td>NAIROBI</td>\n",
       "      <td>partner</td>\n",
       "      <td>Female</td>\n",
       "      <td>26</td>\n",
       "      <td>100</td>\n",
       "      <td>Money Market</td>\n",
       "      <td>19-30</td>\n",
       "      <td>Balanced Fund</td>\n",
       "      <td>4</td>\n",
       "    </tr>\n",
       "    <tr>\n",
       "      <th>14</th>\n",
       "      <td>99996</td>\n",
       "      <td>NAIROBI</td>\n",
       "      <td>sibling</td>\n",
       "      <td>Female</td>\n",
       "      <td>26</td>\n",
       "      <td>100</td>\n",
       "      <td>Money Market</td>\n",
       "      <td>19-30</td>\n",
       "      <td>Balanced Fund</td>\n",
       "      <td>4</td>\n",
       "    </tr>\n",
       "    <tr>\n",
       "      <th>28</th>\n",
       "      <td>99994</td>\n",
       "      <td>Unknown</td>\n",
       "      <td>partner</td>\n",
       "      <td>Female</td>\n",
       "      <td>58</td>\n",
       "      <td>100</td>\n",
       "      <td>Money Market</td>\n",
       "      <td>46-60</td>\n",
       "      <td>Balanced Fund</td>\n",
       "      <td>4</td>\n",
       "    </tr>\n",
       "    <tr>\n",
       "      <th>40</th>\n",
       "      <td>99993</td>\n",
       "      <td>NAIROBI</td>\n",
       "      <td>partner</td>\n",
       "      <td>Female</td>\n",
       "      <td>50</td>\n",
       "      <td>100</td>\n",
       "      <td>Money Market</td>\n",
       "      <td>46-60</td>\n",
       "      <td>Balanced Fund</td>\n",
       "      <td>4</td>\n",
       "    </tr>\n",
       "    <tr>\n",
       "      <th>70</th>\n",
       "      <td>99993</td>\n",
       "      <td>NAIROBI</td>\n",
       "      <td>child</td>\n",
       "      <td>Female</td>\n",
       "      <td>50</td>\n",
       "      <td>100</td>\n",
       "      <td>Money Market</td>\n",
       "      <td>46-60</td>\n",
       "      <td>Balanced Fund</td>\n",
       "      <td>4</td>\n",
       "    </tr>\n",
       "  </tbody>\n",
       "</table>\n",
       "</div>"
      ],
      "text/plain": [
       "    member_no     town relationship gender_mapped  member_age beneficiery_age  \\\n",
       "0       99996  NAIROBI      partner        Female          26             100   \n",
       "14      99996  NAIROBI      sibling        Female          26             100   \n",
       "28      99994  Unknown      partner        Female          58             100   \n",
       "40      99993  NAIROBI      partner        Female          50             100   \n",
       "70      99993  NAIROBI        child        Female          50             100   \n",
       "\n",
       "   portfolio_map age_group recommended_portfolio  rating  \n",
       "0   Money Market     19-30         Balanced Fund       4  \n",
       "14  Money Market     19-30         Balanced Fund       4  \n",
       "28  Money Market     46-60         Balanced Fund       4  \n",
       "40  Money Market     46-60         Balanced Fund       4  \n",
       "70  Money Market     46-60         Balanced Fund       4  "
      ]
     },
     "execution_count": 51,
     "metadata": {},
     "output_type": "execute_result"
    }
   ],
   "source": [
    "# Define the portfolio-to-rating mapping function\n",
    "def map_portfolio_to_rating(df):\n",
    "    portfolio_rating_map = {\n",
    "        'Equity Fund': 5,\n",
    "        'Balanced Fund': 4,\n",
    "        'Dollar Fund': 4,\n",
    "        'Fixed Income': 3,\n",
    "        'Money Market': 2,\n",
    "        'Health Fund': 2\n",
    "    }\n",
    "    # Add the 'rating' column without dropping other columns\n",
    "    df['rating'] = df['recommended_portfolio'].map(portfolio_rating_map)\n",
    "    return df\n",
    "\n",
    "# Apply the portfolio-to-rating mapping to create the rating column in `new_df`\n",
    "new_df = map_portfolio_to_rating(new_df)\n",
    "\n",
    "# Define a custom function to train a model with the Surprise library\n",
    "def train_surprise_model(df, model):\n",
    "    reader = Reader(rating_scale=(1, 5))\n",
    "    data = Dataset.load_from_df(df[['member_no', 'portfolio_map', 'rating']], reader)\n",
    "    trainset = data.build_full_trainset()\n",
    "    model.fit(trainset)\n",
    "    return model\n",
    "\n",
    "# Build a pipeline for training\n",
    "rating_pipeline = Pipeline([\n",
    "    ('train_slope_one', FunctionTransformer(lambda df: train_surprise_model(df, SlopeOne())))\n",
    "])\n",
    "\n",
    "# Train the model using the pipeline\n",
    "processed_data = rating_pipeline.fit_transform(new_df)\n",
    "\n",
    "# Display a few rows of `new_df` to verify that all columns, including 'rating', are present\n",
    "new_df.head()\n"
   ]
  },
  {
   "cell_type": "markdown",
   "metadata": {},
   "source": [
    "## Models for Recommender System\n",
    "### Model 1: K-Nearest Neighbors (KNN)"
   ]
  },
  {
   "cell_type": "code",
   "execution_count": 52,
   "metadata": {},
   "outputs": [
    {
     "name": "stdout",
     "output_type": "stream",
     "text": [
      "Computing the cosine similarity matrix...\n",
      "Done computing similarity matrix.\n",
      "[Prediction(uid=78996, iid='Money Market', r_ui=4.0, est=3.8850263131764473, details={'was_impossible': True, 'reason': 'User and/or item is unknown.'}), Prediction(uid=824, iid='Money Market', r_ui=4.0, est=4.0, details={'actual_k': 3, 'was_impossible': False}), Prediction(uid=109445, iid='Money Market', r_ui=4.0, est=3.8850263131764473, details={'was_impossible': True, 'reason': 'User and/or item is unknown.'}), Prediction(uid=54765, iid='Money Market', r_ui=4.0, est=3.8850263131764473, details={'was_impossible': True, 'reason': 'User and/or item is unknown.'}), Prediction(uid=63814, iid='Money Market', r_ui=4.0, est=4.0, details={'actual_k': 1, 'was_impossible': False})]\n"
     ]
    }
   ],
   "source": [
    "# Prepare data\n",
    "reader = Reader(rating_scale=(1, 5))\n",
    "data = Dataset.load_from_df(new_df[['member_no', 'portfolio_map', 'rating']], reader)\n",
    "\n",
    "# Perform a train-test split\n",
    "trainset, testset = train_test_split(data, test_size=0.2)\n",
    "\n",
    "# Use item-based KNN with cosine similarity\n",
    "sim_options = {'name': 'cosine', 'user_based': False}  # Set to False for item-based filtering\n",
    "model = KNNBasic(sim_options=sim_options)\n",
    "\n",
    "# Train the model\n",
    "model.fit(trainset)\n",
    "\n",
    "# Make predictions on the test set\n",
    "predictions = model.test(testset)\n",
    "print(predictions[:5])  # Display the first 5 predictions\n"
   ]
  },
  {
   "cell_type": "markdown",
   "metadata": {},
   "source": [
    "Model Evaluation"
   ]
  },
  {
   "cell_type": "code",
   "execution_count": 53,
   "metadata": {},
   "outputs": [
    {
     "name": "stdout",
     "output_type": "stream",
     "text": [
      "RMSE: 0.3233\n",
      "MAE:  0.1002\n",
      "RMSE: 0.3233171132174117\n",
      "MAE: 0.10019022025200232\n",
      "Precision: 1.0\n",
      "F1 Score: 0.744532564287431\n",
      "Exact Match Accuracy: 0.5957184843911352\n"
     ]
    }
   ],
   "source": [
    "# 1. Calculate RMSE and MAE\n",
    "rmse = accuracy.rmse(predictions)\n",
    "mae = accuracy.mae(predictions)\n",
    "\n",
    "print(f\"RMSE: {rmse}\")\n",
    "print(f\"MAE: {mae}\")\n",
    "\n",
    "# 2. Precision and F1 score calculation (optional approach)\n",
    "# Define a threshold for rating to consider as a \"positive\" prediction (e.g., ratings >= 4 are positive)\n",
    "threshold = 4\n",
    "\n",
    "# Convert predictions to binary outcomes (1 if predicted rating >= threshold, else 0)\n",
    "y_true = [pred.r_ui >= threshold for pred in predictions]  # true rating\n",
    "y_pred = [pred.est >= threshold for pred in predictions]    # predicted rating\n",
    "\n",
    "# Calculate Precision and F1 score\n",
    "precision = precision_score(y_true, y_pred)\n",
    "f1 = f1_score(y_true, y_pred)\n",
    "\n",
    "print(f\"Precision: {precision}\")\n",
    "print(f\"F1 Score: {f1}\")\n",
    "\n",
    "# 3. Accuracy (exact match) for ratings (optional)\n",
    "accuracy_exact = sum([pred.r_ui == pred.est for pred in predictions]) / len(predictions)\n",
    "print(f\"Exact Match Accuracy: {accuracy_exact}\")\n"
   ]
  },
  {
   "cell_type": "markdown",
   "metadata": {},
   "source": [
    "Model 2: Deep Learning Models (Using TensorFlow or PyTorch)"
   ]
  },
  {
   "cell_type": "code",
   "execution_count": 55,
   "metadata": {},
   "outputs": [],
   "source": [
    "# Example: Define an autoencoder model for collaborative filtering\n",
    "def build_autoencoder(n_users, n_items, embedding_dim=10):\n",
    "    input_layer = Input(shape=(n_items,))\n",
    "    encoded = Dense(embedding_dim, activation='relu')(input_layer)\n",
    "    decoded = Dense(n_items, activation='sigmoid')(encoded)\n",
    "    autoencoder = Model(input_layer, decoded)\n",
    "    autoencoder.compile(optimizer='adam', loss='binary_crossentropy')\n",
    "    return autoencoder\n",
    "\n",
    "# Assuming `user_item_matrix` is the input data (sparse matrix)\n",
    "# n_users, n_items = user_item_matrix.shape\n",
    "# model = build_autoencoder(n_users, n_items)\n"
   ]
  }
 ],
 "metadata": {
  "kernelspec": {
   "display_name": "Python (learn-env)",
   "language": "python",
   "name": "learn-env"
  },
  "language_info": {
   "codemirror_mode": {
    "name": "ipython",
    "version": 3
   },
   "file_extension": ".py",
   "mimetype": "text/x-python",
   "name": "python",
   "nbconvert_exporter": "python",
   "pygments_lexer": "ipython3",
   "version": "3.8.5"
  }
 },
 "nbformat": 4,
 "nbformat_minor": 2
}
